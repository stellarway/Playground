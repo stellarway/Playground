{
 "cells": [
  {
   "cell_type": "code",
   "execution_count": 7,
   "metadata": {},
   "outputs": [],
   "source": [
    "import pandas as pd\n",
    "from bs4 import BeautifulSoup\n",
    "import requests\n",
    "from urllib.request import urlopen\n",
    "import json\n"
   ]
  },
  {
   "cell_type": "code",
   "execution_count": 110,
   "metadata": {},
   "outputs": [],
   "source": [
    "date_list=[]\n",
    "price_list=[]\n",
    "for i in range(1, 10):\n",
    "    SP_url= 'https://finance.naver.com/world/worldDayListJson.nhn'\n",
    "    symbol= 'SPI@SPX'\n",
    "    params = {\n",
    "        'symbol' : symbol,\n",
    "        'fdtc' : 0,\n",
    "        'page' : i\n",
    "    }\n",
    "    SP_resp=requests.get(url, params)\n",
    "    SP_json=SP_resp.json()\n",
    "    for item in SP_json:     \n",
    "        date= pd.to_datetime(item['xymd']).date()\n",
    "        date_list.append(date)\n",
    "        price = float(item['clos'])\n",
    "        price_list.append(price)\n",
    "       \n",
    "        SP_df=pd.DataFrame({'S&P500':price_list}, index=date_list)\n"
   ]
  },
  {
   "cell_type": "code",
   "execution_count": 114,
   "metadata": {},
   "outputs": [
    {
     "name": "stdout",
     "output_type": "stream",
     "text": [
      "None\n",
      "None\n",
      "None\n",
      "None\n",
      "None\n",
      "None\n",
      "None\n",
      "None\n",
      "None\n"
     ]
    }
   ],
   "source": [
    "for i in range(1, 10):\n",
    "    KPI_url='https://finance.naver.com/sise/sise_index_day.nhn'\n",
    "    params={\n",
    "        'code': 'KPI200',\n",
    "        'page':i\n",
    "    }\n",
    "    KPI_resp=requests.get(url, params)\n",
    "    KPI_soup=BeautifulSoup(KPI_resp.content, 'html.parser')\n",
    "    td_tag=KPI_soup.find('td', class_=\"date\")\n",
    "    print(td_tag)\n",
    "    "
   ]
  },
  {
   "cell_type": "code",
   "execution_count": 125,
   "metadata": {},
   "outputs": [
    {
     "name": "stdout",
     "output_type": "stream",
     "text": [
      "\n",
      "<!DOCTYPE HTML PUBLIC \"-//W3C//DTD HTML 4.01 Transitional//EN\" \"http://www.w3.org/TR/html4/loose.dtd\">\n",
      "\n",
      "<html>\n",
      "<head>\n",
      "<meta content=\"text/html; charset=utf-8\" http-equiv=\"Content-Type\"/>\n",
      "<title>네이버 :: 세상의 모든 지식, 네이버</title>\n",
      "<style type=\"text/css\"> \n",
      ".error_content * {margin:0;padding:0;}\n",
      ".error_content img{border:none;}\n",
      ".error_content em {font-style:normal;}\n",
      ".error_content {width:510px; margin:80px auto 0; padding:57px 0 0 0; font-size:12px; font-family:\"나눔고딕\", \"NanumGothic\", \"돋움\", Dotum, AppleGothic, Sans-serif; text-align:left; line-height:14px; background:url(https://ssl.pstatic.net/static/common/error/090610/bg_thumb.gif) no-repeat center top; white-space:nowrap;}\n",
      ".error_content p{margin:0;}\n",
      ".error_content .error_desc {margin-bottom:21px; overflow:hidden; text-align:center;}\n",
      ".error_content .error_desc2 {margin-bottom:11px; padding-bottom:7px; color:#888; line-height:18px; border-bottom:1px solid #eee;}\n",
      ".error_content .error_desc3 {clear:both; color:#888;}\n",
      ".error_content .error_desc3 a {color:#004790; text-decoration:underline;}\n",
      ".error_content .error_list_type {clear:both; float:left; width:410px; _width:428px; margin:0 0 18px 0; *margin:0 0 7px 0; padding-bottom:13px; font-size:13px; color:#000; line-height:18px; border-bottom:1px solid #eee;}\n",
      ".error_content .error_list_type dt {float:left; width:60px; _width /**/:70px; padding-left:10px; background:url(https://ssl.pstatic.net/static/common/error/090610/bg_dot.gif) no-repeat 2px 8px;}\n",
      ".error_content .error_list_type dd {float:left; width:336px; _width /**/:340px; padding:0 0 0 4px;}\n",
      ".error_content .error_list_type dd span {color:#339900; letter-spacing:0;}\n",
      ".error_content .error_list_type dd a{color:#339900;}\n",
      ".error_content p.btn{margin:29px 0 100px; text-align:center;}\n",
      "</style>\n",
      "</head>\n",
      "<body>\n",
      "<!-- ERROR -->\n",
      "<div class=\"error_content\">\n",
      "<p class=\"error_desc\"><img alt=\"일시적 오류로 페이지 접속이 불가합니다.\" height=\"30\" src=\"https://ssl.pstatic.net/static/nfinance/txt_error2.gif\" width=\"484\"/></p>\n",
      "<p class=\"error_desc2\">동시에 접속하는 이용자 수가 많거나 인터넷 네트워크 상태가 불안정하여\t현재 웹페이지의 접속이 불가합니다.<br/> \n",
      "\t\t이용에 불편을 드린 점 진심으로 사과드리며, 잠시 후 다시 접속해 주시기 바랍니다.\n",
      "\t</p>\n",
      "<p class=\"error_desc3\">관련 문의사항은 <a href=\"https://help.naver.com/\" target=\"_blank\">고객센터</a>에 알려주시면 친절히 안내해드리겠습니다. 감사합니다.</p>\n",
      "<p class=\"btn\"><a href=\"javascript:history.back()\"><img alt=\"이전 페이지로\" height=\"35\" src=\"https://ssl.pstatic.net/static/common/error/090610/btn_prevpage.gif\" width=\"115\"/></a>\n",
      "<a href=\"javascript:location.reload()\"><img alt=\"새로 고침\" height=\"35\" src=\"https://ssl.pstatic.net/static/common/error/090610/btn_refresh.gif\" width=\"87\"/></a></p>\n",
      "</div>\n",
      "</body>\n",
      "</html>\n"
     ]
    }
   ],
   "source": [
    "KPI_url='https://finance.naver.com/sise/sise_index_day.nhn'\n",
    "params={\n",
    "    'code': 'KPI200',\n",
    "    'page':1\n",
    "}\n",
    "KPI_resp=requests.get(url, params)\n",
    "KPI_soup=BeautifulSoup(KPI_resp.content, 'html.parser')\n",
    "td_tag=KPI_soup.find('tbody')\n",
    "print(KPI_soup)"
   ]
  },
  {
   "cell_type": "code",
   "execution_count": null,
   "metadata": {},
   "outputs": [],
   "source": []
  }
 ],
 "metadata": {
  "kernelspec": {
   "display_name": "Python 3",
   "language": "python",
   "name": "python3"
  },
  "language_info": {
   "codemirror_mode": {
    "name": "ipython",
    "version": 3
   },
   "file_extension": ".py",
   "mimetype": "text/x-python",
   "name": "python",
   "nbconvert_exporter": "python",
   "pygments_lexer": "ipython3",
   "version": "3.7.3"
  }
 },
 "nbformat": 4,
 "nbformat_minor": 2
}
