{
 "cells": [
  {
   "cell_type": "markdown",
   "metadata": {
    "colab_type": "text",
    "id": "view-in-github"
   },
   "source": [
    "<a href=\"https://colab.research.google.com/github/fininsight/text-mining-tutorial/blob/master/99_%EA%B8%B0%ED%83%80%EC%BD%94%EB%93%9C.ipynb\" target=\"_parent\"><img src=\"https://colab.research.google.com/assets/colab-badge.svg\" alt=\"Open In Colab\"/></a>"
   ]
  },
  {
   "cell_type": "markdown",
   "metadata": {
    "colab_type": "text",
    "id": "fg7A_EDKw8dG"
   },
   "source": [
    "# 국내 주식 수정주가 조회"
   ]
  },
  {
   "cell_type": "markdown",
   "metadata": {
    "colab_type": "text",
    "id": "S1FvxJG5xjvl"
   },
   "source": [
    "## 1) 네이버 차트를 활용한 수정주가 수집"
   ]
  },
  {
   "cell_type": "code",
   "execution_count": 48,
   "metadata": {
    "colab": {},
    "colab_type": "code",
    "id": "WPJ7-VruwwJa"
   },
   "outputs": [],
   "source": [
    "import requests\n",
    "import pandas as pd\n",
    "import xml.etree.ElementTree as ET"
   ]
  },
  {
   "cell_type": "code",
   "execution_count": 49,
   "metadata": {
    "colab": {},
    "colab_type": "code",
    "id": "SXvpORNcw5IY"
   },
   "outputs": [],
   "source": [
    "def getStockPrice(StockCode, Count = 500) :\n",
    "    ret = pd.DataFrame(columns=['date','close'])\n",
    "    \n",
    "    url = \"https://fchart.stock.naver.com/sise.nhn?symbol={}&timeframe=day&count={}&requestType=0\"\n",
    "    url = url.format(StockCode, Count)\n",
    "    response = requests.get(url)\n",
    "    e = ET.fromstring(response.text.replace('\\n','').replace('\\t',''))\n",
    "    stock_history = []\n",
    "    for item in e.find('chartdata').findall('item') :\n",
    "        close = [item.get('data').split('|')[0], item.get('data').split('|')[4]]\n",
    "#         print(data)\n",
    "        ret.loc[len(ret)] = close\n",
    "        \n",
    "    return ret"
   ]
  },
  {
   "cell_type": "code",
   "execution_count": 50,
   "metadata": {
    "colab": {},
    "colab_type": "code",
    "id": "iOZbGq6rw7Dy"
   },
   "outputs": [],
   "source": [
    "aa = getStockPrice('005930')"
   ]
  },
  {
   "cell_type": "code",
   "execution_count": 53,
   "metadata": {
    "colab": {
     "base_uri": "https://localhost:8080/",
     "height": 195
    },
    "colab_type": "code",
    "id": "l2LE9PE1xWBF",
    "outputId": "fde7c73a-4935-4424-f33c-bdb455804976"
   },
   "outputs": [
    {
     "data": {
      "text/html": [
       "<div>\n",
       "<style scoped>\n",
       "    .dataframe tbody tr th:only-of-type {\n",
       "        vertical-align: middle;\n",
       "    }\n",
       "\n",
       "    .dataframe tbody tr th {\n",
       "        vertical-align: top;\n",
       "    }\n",
       "\n",
       "    .dataframe thead th {\n",
       "        text-align: right;\n",
       "    }\n",
       "</style>\n",
       "<table border=\"1\" class=\"dataframe\">\n",
       "  <thead>\n",
       "    <tr style=\"text-align: right;\">\n",
       "      <th></th>\n",
       "      <th>date</th>\n",
       "      <th>close</th>\n",
       "    </tr>\n",
       "  </thead>\n",
       "  <tbody>\n",
       "    <tr>\n",
       "      <th>0</th>\n",
       "      <td>20170619</td>\n",
       "      <td>46560</td>\n",
       "    </tr>\n",
       "    <tr>\n",
       "      <th>1</th>\n",
       "      <td>20170620</td>\n",
       "      <td>48140</td>\n",
       "    </tr>\n",
       "    <tr>\n",
       "      <th>2</th>\n",
       "      <td>20170621</td>\n",
       "      <td>47480</td>\n",
       "    </tr>\n",
       "    <tr>\n",
       "      <th>3</th>\n",
       "      <td>20170622</td>\n",
       "      <td>47960</td>\n",
       "    </tr>\n",
       "    <tr>\n",
       "      <th>4</th>\n",
       "      <td>20170623</td>\n",
       "      <td>47620</td>\n",
       "    </tr>\n",
       "  </tbody>\n",
       "</table>\n",
       "</div>"
      ],
      "text/plain": [
       "       date  close\n",
       "0  20170619  46560\n",
       "1  20170620  48140\n",
       "2  20170621  47480\n",
       "3  20170622  47960\n",
       "4  20170623  47620"
      ]
     },
     "execution_count": 53,
     "metadata": {},
     "output_type": "execute_result"
    }
   ],
   "source": [
    "aa.head()"
   ]
  },
  {
   "cell_type": "markdown",
   "metadata": {
    "colab_type": "text",
    "id": "-ZzPgsyexnjk"
   },
   "source": [
    "## 2) Yahoo finance를 활용한 수정주가 조회"
   ]
  },
  {
   "cell_type": "code",
   "execution_count": 0,
   "metadata": {
    "colab": {},
    "colab_type": "code",
    "id": "SmZS201-xByd"
   },
   "outputs": [],
   "source": [
    "# yahoo 데이터 2/2 ~ 5/14 데이터 없음. 실제 사이트에도 없음\n",
    "import pandas as pd\n",
    "import numpy as np\n",
    "import datetime\n",
    "from pandas_datareader import data\n",
    "\n",
    "start_date = '2019-01-02'\n",
    "end_date='2019-05-17'\n",
    "df=data.get_data_yahoo('005930.KS', start_date ,end_date)\n",
    "df.tail()"
   ]
  }
 ],
 "metadata": {
  "colab": {
   "collapsed_sections": [],
   "include_colab_link": true,
   "name": "99 기타코드.ipynb",
   "provenance": [],
   "version": "0.3.2"
  },
  "kernelspec": {
   "display_name": "Python 3",
   "language": "python",
   "name": "python3"
  },
  "language_info": {
   "codemirror_mode": {
    "name": "ipython",
    "version": 3
   },
   "file_extension": ".py",
   "mimetype": "text/x-python",
   "name": "python",
   "nbconvert_exporter": "python",
   "pygments_lexer": "ipython3",
   "version": "3.7.3"
  }
 },
 "nbformat": 4,
 "nbformat_minor": 1
}
