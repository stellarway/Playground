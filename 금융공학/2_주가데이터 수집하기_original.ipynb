{
 "cells": [
  {
   "cell_type": "markdown",
   "metadata": {
    "colab_type": "text",
    "id": "view-in-github"
   },
   "source": [
    "<a href=\"https://colab.research.google.com/github/fininsight/text-mining-tutorial/blob/master/99_%EA%B8%B0%ED%83%80%EC%BD%94%EB%93%9C.ipynb\" target=\"_parent\"><img src=\"https://colab.research.google.com/assets/colab-badge.svg\" alt=\"Open In Colab\"/></a>"
   ]
  },
  {
   "cell_type": "code",
   "execution_count": 0,
   "metadata": {
    "colab": {},
    "colab_type": "code",
    "id": "XzdQX_HE7K6p"
   },
   "outputs": [],
   "source": []
  },
  {
   "cell_type": "markdown",
   "metadata": {
    "colab_type": "text",
    "id": "fg7A_EDKw8dG"
   },
   "source": [
    "# 국내 주식 수정주가 조회"
   ]
  },
  {
   "cell_type": "markdown",
   "metadata": {
    "colab_type": "text",
    "id": "S1FvxJG5xjvl"
   },
   "source": [
    "## 1) 네이버 차트를 활용한 수정주가 수집"
   ]
  },
  {
   "cell_type": "code",
   "execution_count": 0,
   "metadata": {
    "colab": {},
    "colab_type": "code",
    "id": "WPJ7-VruwwJa"
   },
   "outputs": [],
   "source": [
    "import requests\n",
    "import pandas as pd\n",
    "import xml.etree.ElementTree as ET"
   ]
  },
  {
   "cell_type": "code",
   "execution_count": 0,
   "metadata": {
    "colab": {},
    "colab_type": "code",
    "id": "SXvpORNcw5IY"
   },
   "outputs": [],
   "source": [
    "def getStockPrice(StockCode, Count = 500) :\n",
    "    ret = pd.DataFrame(columns=['date', 'open', 'high', 'low', 'close','volumn'])\n",
    "    \n",
    "    url = \"https://fchart.stock.naver.com/sise.nhn?symbol={}&timeframe=day&count={}&requestType=0\"\n",
    "    url = url.format(StockCode, Count)\n",
    "    response = requests.get(url)\n",
    "    \n",
    "    e = ET.fromstring(response.text.replace('\\n','').replace('\\t',''))\n",
    "    \n",
    "    stock_history = []\n",
    "    for item in e.find('chartdata').findall('item') :\n",
    "        data = item.get('data').split('|')\n",
    "        ret.loc[len(ret)] = data\n",
    "        \n",
    "    return ret"
   ]
  },
  {
   "cell_type": "code",
   "execution_count": 0,
   "metadata": {
    "colab": {},
    "colab_type": "code",
    "id": "iOZbGq6rw7Dy"
   },
   "outputs": [],
   "source": [
    "aa = getStockPrice('005930')"
   ]
  },
  {
   "cell_type": "code",
   "execution_count": 0,
   "metadata": {
    "colab": {
     "base_uri": "https://localhost:8080/",
     "height": 195
    },
    "colab_type": "code",
    "id": "l2LE9PE1xWBF",
    "outputId": "fde7c73a-4935-4424-f33c-bdb455804976"
   },
   "outputs": [
    {
     "data": {
      "text/html": [
       "<div>\n",
       "<style scoped>\n",
       "    .dataframe tbody tr th:only-of-type {\n",
       "        vertical-align: middle;\n",
       "    }\n",
       "\n",
       "    .dataframe tbody tr th {\n",
       "        vertical-align: top;\n",
       "    }\n",
       "\n",
       "    .dataframe thead th {\n",
       "        text-align: right;\n",
       "    }\n",
       "</style>\n",
       "<table border=\"1\" class=\"dataframe\">\n",
       "  <thead>\n",
       "    <tr style=\"text-align: right;\">\n",
       "      <th></th>\n",
       "      <th>date</th>\n",
       "      <th>open</th>\n",
       "      <th>high</th>\n",
       "      <th>low</th>\n",
       "      <th>close</th>\n",
       "      <th>volumn</th>\n",
       "    </tr>\n",
       "  </thead>\n",
       "  <tbody>\n",
       "    <tr>\n",
       "      <th>495</th>\n",
       "      <td>20190513</td>\n",
       "      <td>42500</td>\n",
       "      <td>43200</td>\n",
       "      <td>42350</td>\n",
       "      <td>42650</td>\n",
       "      <td>7635079</td>\n",
       "    </tr>\n",
       "    <tr>\n",
       "      <th>496</th>\n",
       "      <td>20190514</td>\n",
       "      <td>41300</td>\n",
       "      <td>43100</td>\n",
       "      <td>41300</td>\n",
       "      <td>42650</td>\n",
       "      <td>11563730</td>\n",
       "    </tr>\n",
       "    <tr>\n",
       "      <th>497</th>\n",
       "      <td>20190515</td>\n",
       "      <td>42700</td>\n",
       "      <td>43050</td>\n",
       "      <td>42550</td>\n",
       "      <td>42550</td>\n",
       "      <td>7670185</td>\n",
       "    </tr>\n",
       "    <tr>\n",
       "      <th>498</th>\n",
       "      <td>20190516</td>\n",
       "      <td>42350</td>\n",
       "      <td>42400</td>\n",
       "      <td>41350</td>\n",
       "      <td>41550</td>\n",
       "      <td>13687828</td>\n",
       "    </tr>\n",
       "    <tr>\n",
       "      <th>499</th>\n",
       "      <td>20190517</td>\n",
       "      <td>41950</td>\n",
       "      <td>42050</td>\n",
       "      <td>40850</td>\n",
       "      <td>41200</td>\n",
       "      <td>12294470</td>\n",
       "    </tr>\n",
       "  </tbody>\n",
       "</table>\n",
       "</div>"
      ],
      "text/plain": [
       "         date   open   high    low  close    volumn\n",
       "495  20190513  42500  43200  42350  42650   7635079\n",
       "496  20190514  41300  43100  41300  42650  11563730\n",
       "497  20190515  42700  43050  42550  42550   7670185\n",
       "498  20190516  42350  42400  41350  41550  13687828\n",
       "499  20190517  41950  42050  40850  41200  12294470"
      ]
     },
     "execution_count": 6,
     "metadata": {
      "tags": []
     },
     "output_type": "execute_result"
    }
   ],
   "source": [
    "aa.tail()"
   ]
  },
  {
   "cell_type": "markdown",
   "metadata": {
    "colab_type": "text",
    "id": "-ZzPgsyexnjk"
   },
   "source": [
    "## 2) Yahoo finance를 활용한 수정주가 조회"
   ]
  },
  {
   "cell_type": "code",
   "execution_count": 0,
   "metadata": {
    "colab": {},
    "colab_type": "code",
    "id": "SmZS201-xByd"
   },
   "outputs": [],
   "source": [
    "# yahoo 데이터 2/2 ~ 5/14 데이터 없음. 실제 사이트에도 없음\n",
    "import pandas as pd\n",
    "import numpy as np\n",
    "import datetime\n",
    "from pandas_datareader import data\n",
    "\n",
    "start_date = '2019-01-02'\n",
    "end_date='2019-05-17'\n",
    "df=data.get_data_yahoo('005930.KS', start_date ,end_date)\n",
    "df.tail()"
   ]
  }
 ],
 "metadata": {
  "colab": {
   "collapsed_sections": [],
   "name": "2_주가데이터 수집하기.ipynb",
   "provenance": [],
   "version": "0.3.2"
  },
  "kernelspec": {
   "display_name": "Python 3",
   "language": "python",
   "name": "python3"
  },
  "language_info": {
   "codemirror_mode": {
    "name": "ipython",
    "version": 3
   },
   "file_extension": ".py",
   "mimetype": "text/x-python",
   "name": "python",
   "nbconvert_exporter": "python",
   "pygments_lexer": "ipython3",
   "version": "3.7.3"
  }
 },
 "nbformat": 4,
 "nbformat_minor": 1
}
