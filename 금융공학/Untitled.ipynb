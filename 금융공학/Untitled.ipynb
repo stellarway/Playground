{
 "cells": [
  {
   "cell_type": "code",
   "execution_count": 2,
   "metadata": {},
   "outputs": [],
   "source": [
    "import pandas as pd\n",
    "from urllib.request import urlopen\n",
    "import json\n",
    "\n",
    "# https://finance.naver.com/world/worldDayListJson.nhn?symbol=SPI@SPX&fdtc=0&page=2\n",
    "symbol = 'SPI@SPX'\n",
    "page = 1\n",
    "url= 'https://finance.naver.com/world/worldDayListJson.nhn?symbol='+symbol+'&fdtc=0&page='+str(page)\n",
    "raw = urlopen(url)\n",
    "data = json.load(raw)"
   ]
  },
  {
   "cell_type": "code",
   "execution_count": 3,
   "metadata": {},
   "outputs": [
    {
     "data": {
      "text/plain": [
       "{'symb': 'SPI@SPX',\n",
       " 'xymd': '20190702',\n",
       " 'open': 2964.66,\n",
       " 'high': 2973.21,\n",
       " 'low': 2955.92,\n",
       " 'clos': 2973.01,\n",
       " 'diff': 8.68,\n",
       " 'rate': 0.29,\n",
       " 'gvol': 1656797090}"
      ]
     },
     "execution_count": 3,
     "metadata": {},
     "output_type": "execute_result"
    }
   ],
   "source": [
    "data[0]"
   ]
  },
  {
   "cell_type": "code",
   "execution_count": 4,
   "metadata": {},
   "outputs": [
    {
     "data": {
      "text/plain": [
       "'20190702'"
      ]
     },
     "execution_count": 4,
     "metadata": {},
     "output_type": "execute_result"
    }
   ],
   "source": [
    "data[0]['xymd']"
   ]
  },
  {
   "cell_type": "code",
   "execution_count": 5,
   "metadata": {},
   "outputs": [
    {
     "data": {
      "text/plain": [
       "2973.01"
      ]
     },
     "execution_count": 5,
     "metadata": {},
     "output_type": "execute_result"
    }
   ],
   "source": [
    "data[0]['clos']"
   ]
  },
  {
   "cell_type": "code",
   "execution_count": 6,
   "metadata": {},
   "outputs": [
    {
     "name": "stdout",
     "output_type": "stream",
     "text": [
      "{datetime.date(2019, 7, 2): 2973.01, datetime.date(2019, 7, 1): 2964.33, datetime.date(2019, 6, 28): 2941.76, datetime.date(2019, 6, 27): 2924.92, datetime.date(2019, 6, 26): 2913.78, datetime.date(2019, 6, 25): 2917.38, datetime.date(2019, 6, 24): 2945.35, datetime.date(2019, 6, 21): 2950.46, datetime.date(2019, 6, 20): 2954.18, datetime.date(2019, 6, 19): 2926.46}\n"
     ]
    }
   ],
   "source": [
    "d = dict()\n",
    "for n in range(len(data)):\n",
    "    date = pd.to_datetime(data[n]['xymd']).date()\n",
    "    price = float(data[n]['clos'])\n",
    "    d[date]=price\n",
    "print(d)"
   ]
  },
  {
   "cell_type": "code",
   "execution_count": 7,
   "metadata": {},
   "outputs": [],
   "source": [
    "def read_json(d, symbol, page=1):\n",
    "    url= 'https://finance.naver.com/world/worldDayListJson.nhn?symbol='+symbol+'&fdtc=0&page='+str(page)\n",
    "    raw = urlopen(url)\n",
    "    data = json.load(raw)\n",
    "    \n",
    "    for n in range(len(data)):\n",
    "        date = pd.to_datetime(data[n]['xymd']).date()\n",
    "        price = float(data[n]['clos'])\n",
    "        d[date]=price\n",
    "        \n",
    "    if len(data) ==10:\n",
    "        page +=1\n",
    "        read_json(d, symbol, page)\n",
    "    \n",
    "    return(d)"
   ]
  },
  {
   "cell_type": "code",
   "execution_count": 11,
   "metadata": {},
   "outputs": [],
   "source": [
    "historical_index = pd.Series()\n",
    "historical_index = read_json(historical_index, symbol, page)"
   ]
  },
  {
   "cell_type": "code",
   "execution_count": 12,
   "metadata": {},
   "outputs": [
    {
     "data": {
      "text/plain": [
       "2019-07-02    2973.01\n",
       "2019-07-01    2964.33\n",
       "2019-06-28    2941.76\n",
       "dtype: float64"
      ]
     },
     "execution_count": 12,
     "metadata": {},
     "output_type": "execute_result"
    }
   ],
   "source": [
    "historical_index.head(3)"
   ]
  },
  {
   "cell_type": "code",
   "execution_count": 13,
   "metadata": {},
   "outputs": [],
   "source": [
    "indices = {\n",
    "    'SPI@SPX' : 'S&P 500',\n",
    "    'NAS@IXIC' : 'Nasdaq 100',\n",
    "    'NII@NI225' : 'Nikkei 225'\n",
    "}"
   ]
  },
  {
   "cell_type": "code",
   "execution_count": 14,
   "metadata": {},
   "outputs": [
    {
     "name": "stdout",
     "output_type": "stream",
     "text": [
      "SPI@SPX S&P 500\n",
      "NAS@IXIC Nasdaq 100\n",
      "NII@NI225 Nikkei 225\n"
     ]
    }
   ],
   "source": [
    "historical_indices = dict()\n",
    "for key, value in indices.items():\n",
    "    print(key, value)\n",
    "    s = dict()\n",
    "    s = read_json(s, key, 1)\n",
    "    historical_indices[value] = s\n",
    "prices_df = pd.DataFrame(historical_indices)"
   ]
  },
  {
   "cell_type": "code",
   "execution_count": 15,
   "metadata": {},
   "outputs": [
    {
     "data": {
      "text/html": [
       "<div>\n",
       "<style scoped>\n",
       "    .dataframe tbody tr th:only-of-type {\n",
       "        vertical-align: middle;\n",
       "    }\n",
       "\n",
       "    .dataframe tbody tr th {\n",
       "        vertical-align: top;\n",
       "    }\n",
       "\n",
       "    .dataframe thead th {\n",
       "        text-align: right;\n",
       "    }\n",
       "</style>\n",
       "<table border=\"1\" class=\"dataframe\">\n",
       "  <thead>\n",
       "    <tr style=\"text-align: right;\">\n",
       "      <th></th>\n",
       "      <th>S&amp;P 500</th>\n",
       "      <th>Nasdaq 100</th>\n",
       "      <th>Nikkei 225</th>\n",
       "    </tr>\n",
       "  </thead>\n",
       "  <tbody>\n",
       "    <tr>\n",
       "      <th>2019-06-28</th>\n",
       "      <td>2941.76</td>\n",
       "      <td>8006.24</td>\n",
       "      <td>21275.92</td>\n",
       "    </tr>\n",
       "    <tr>\n",
       "      <th>2019-07-01</th>\n",
       "      <td>2964.33</td>\n",
       "      <td>8091.16</td>\n",
       "      <td>21729.97</td>\n",
       "    </tr>\n",
       "    <tr>\n",
       "      <th>2019-07-02</th>\n",
       "      <td>2973.01</td>\n",
       "      <td>8109.09</td>\n",
       "      <td>21754.27</td>\n",
       "    </tr>\n",
       "  </tbody>\n",
       "</table>\n",
       "</div>"
      ],
      "text/plain": [
       "            S&P 500  Nasdaq 100  Nikkei 225\n",
       "2019-06-28  2941.76     8006.24    21275.92\n",
       "2019-07-01  2964.33     8091.16    21729.97\n",
       "2019-07-02  2973.01     8109.09    21754.27"
      ]
     },
     "execution_count": 15,
     "metadata": {},
     "output_type": "execute_result"
    }
   ],
   "source": [
    "prices_df.tail(3)"
   ]
  },
  {
   "cell_type": "code",
   "execution_count": 16,
   "metadata": {},
   "outputs": [],
   "source": [
    "def date_format(d=''):\n",
    "    if d != '':\n",
    "        this_date = pd.to_datetime(d).date\n",
    "    else:\n",
    "        this_date = pd.Timestamp.today().date()\n",
    "    return(this_date)"
   ]
  },
  {
   "cell_type": "code",
   "execution_count": null,
   "metadata": {},
   "outputs": [],
   "source": [
    "def index_global(d, symbol, start_date='', end_date='', page=1):\n",
    "    end_date = date_format(end_date)\n",
    "    if start_date =='':\n",
    "        start_date = end_date - pd.DateOffset(months=1)\n",
    "    start_date = date_format(start_date)\n",
    "    url= 'https://finance.naver.com/world/worldDayListJson.nhn?symbol='+symbol+'&fdtc=0&page='+str(page)\n",
    "    raw = urlopen(url)\n",
    "    data = json.load(raw)\n",
    "    \n",
    "    if len(data) > 0:\n",
    "        for n in range(len(data)):\n",
    "            date = pd.to_datetime(data[n]['xymd']).date()\n",
    "            \n",
    "            if date <= end_date and date >= start_date:\n",
    "                \n",
    "                \n",
    "        \n",
    "        \n"
   ]
  }
 ],
 "metadata": {
  "kernelspec": {
   "display_name": "Python 3",
   "language": "python",
   "name": "python3"
  },
  "language_info": {
   "codemirror_mode": {
    "name": "ipython",
    "version": 3
   },
   "file_extension": ".py",
   "mimetype": "text/x-python",
   "name": "python",
   "nbconvert_exporter": "python",
   "pygments_lexer": "ipython3",
   "version": "3.7.3"
  }
 },
 "nbformat": 4,
 "nbformat_minor": 2
}
