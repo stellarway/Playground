{
 "cells": [
  {
   "cell_type": "code",
   "execution_count": 10,
   "metadata": {},
   "outputs": [],
   "source": [
    "import pandas as pd\n",
    "import re\n",
    "import time\n",
    "from functools import reduce"
   ]
  },
  {
   "cell_type": "code",
   "execution_count": 2,
   "metadata": {},
   "outputs": [],
   "source": [
    "df = pd.read_json(r'C:\\Users\\student\\Documents\\jsonData\\VOC\\sentTotal.json')"
   ]
  },
  {
   "cell_type": "code",
   "execution_count": 3,
   "metadata": {
    "scrolled": true
   },
   "outputs": [
    {
     "data": {
      "text/html": [
       "<div>\n",
       "<style scoped>\n",
       "    .dataframe tbody tr th:only-of-type {\n",
       "        vertical-align: middle;\n",
       "    }\n",
       "\n",
       "    .dataframe tbody tr th {\n",
       "        vertical-align: top;\n",
       "    }\n",
       "\n",
       "    .dataframe thead th {\n",
       "        text-align: right;\n",
       "    }\n",
       "</style>\n",
       "<table border=\"1\" class=\"dataframe\">\n",
       "  <thead>\n",
       "    <tr style=\"text-align: right;\">\n",
       "      <th></th>\n",
       "      <th>reviewID</th>\n",
       "      <th>sentence</th>\n",
       "      <th>asin</th>\n",
       "      <th>reviewText</th>\n",
       "    </tr>\n",
       "  </thead>\n",
       "  <tbody>\n",
       "    <tr>\n",
       "      <th>0</th>\n",
       "      <td>0</td>\n",
       "      <td>Final Update, 8/27/14</td>\n",
       "      <td>B004J3Y9U6</td>\n",
       "      <td>Final Update, 8/27/14</td>\n",
       "    </tr>\n",
       "    <tr>\n",
       "      <th>1</th>\n",
       "      <td>1</td>\n",
       "      <td>I've had this camera for four years now and it...</td>\n",
       "      <td>B004J3Y9U6</td>\n",
       "      <td>I've had this camera for four years now and it...</td>\n",
       "    </tr>\n",
       "    <tr>\n",
       "      <th>10</th>\n",
       "      <td>1</td>\n",
       "      <td>Only half of the images' success is in the cam...</td>\n",
       "      <td>B004J3Y9U6</td>\n",
       "      <td>I've had this camera for four years now and it...</td>\n",
       "    </tr>\n",
       "    <tr>\n",
       "      <th>100</th>\n",
       "      <td>14</td>\n",
       "      <td>Still the same unfixable error message.</td>\n",
       "      <td>B00NO1T55I</td>\n",
       "      <td>Nice while it worked, but now its worthless wi...</td>\n",
       "    </tr>\n",
       "    <tr>\n",
       "      <th>1000</th>\n",
       "      <td>166</td>\n",
       "      <td>Just upgraded my 8 year old EOS Rebel with the...</td>\n",
       "      <td>B00DMS0GTC</td>\n",
       "      <td>Just upgraded my 8 year old EOS Rebel with the...</td>\n",
       "    </tr>\n",
       "  </tbody>\n",
       "</table>\n",
       "</div>"
      ],
      "text/plain": [
       "      reviewID                                           sentence        asin  \\\n",
       "0            0                              Final Update, 8/27/14  B004J3Y9U6   \n",
       "1            1  I've had this camera for four years now and it...  B004J3Y9U6   \n",
       "10           1  Only half of the images' success is in the cam...  B004J3Y9U6   \n",
       "100         14            Still the same unfixable error message.  B00NO1T55I   \n",
       "1000       166  Just upgraded my 8 year old EOS Rebel with the...  B00DMS0GTC   \n",
       "\n",
       "                                             reviewText  \n",
       "0                                 Final Update, 8/27/14  \n",
       "1     I've had this camera for four years now and it...  \n",
       "10    I've had this camera for four years now and it...  \n",
       "100   Nice while it worked, but now its worthless wi...  \n",
       "1000  Just upgraded my 8 year old EOS Rebel with the...  "
      ]
     },
     "execution_count": 3,
     "metadata": {},
     "output_type": "execute_result"
    }
   ],
   "source": [
    "df.head()"
   ]
  },
  {
   "cell_type": "code",
   "execution_count": 4,
   "metadata": {},
   "outputs": [
    {
     "data": {
      "text/html": [
       "<div>\n",
       "<style scoped>\n",
       "    .dataframe tbody tr th:only-of-type {\n",
       "        vertical-align: middle;\n",
       "    }\n",
       "\n",
       "    .dataframe tbody tr th {\n",
       "        vertical-align: top;\n",
       "    }\n",
       "\n",
       "    .dataframe thead th {\n",
       "        text-align: right;\n",
       "    }\n",
       "</style>\n",
       "<table border=\"1\" class=\"dataframe\">\n",
       "  <thead>\n",
       "    <tr style=\"text-align: right;\">\n",
       "      <th></th>\n",
       "      <th>reviewID</th>\n",
       "      <th>sentence</th>\n",
       "      <th>asin</th>\n",
       "      <th>reviewText</th>\n",
       "    </tr>\n",
       "  </thead>\n",
       "  <tbody>\n",
       "    <tr>\n",
       "      <th>0</th>\n",
       "      <td>0</td>\n",
       "      <td>Final Update, 8/27/14</td>\n",
       "      <td>B004J3Y9U6</td>\n",
       "      <td>Final Update, 8/27/14</td>\n",
       "    </tr>\n",
       "    <tr>\n",
       "      <th>1</th>\n",
       "      <td>1</td>\n",
       "      <td>I've had this camera for four years now and it...</td>\n",
       "      <td>B004J3Y9U6</td>\n",
       "      <td>I've had this camera for four years now and it...</td>\n",
       "    </tr>\n",
       "    <tr>\n",
       "      <th>2</th>\n",
       "      <td>1</td>\n",
       "      <td>It was given to me by family as a present and ...</td>\n",
       "      <td>B004J3Y9U6</td>\n",
       "      <td>I've had this camera for four years now and it...</td>\n",
       "    </tr>\n",
       "    <tr>\n",
       "      <th>3</th>\n",
       "      <td>1</td>\n",
       "      <td>It's a great entry level camera, and can produ...</td>\n",
       "      <td>B004J3Y9U6</td>\n",
       "      <td>I've had this camera for four years now and it...</td>\n",
       "    </tr>\n",
       "    <tr>\n",
       "      <th>4</th>\n",
       "      <td>1</td>\n",
       "      <td>Video quality is nice, although I wish it had ...</td>\n",
       "      <td>B004J3Y9U6</td>\n",
       "      <td>I've had this camera for four years now and it...</td>\n",
       "    </tr>\n",
       "  </tbody>\n",
       "</table>\n",
       "</div>"
      ],
      "text/plain": [
       "   reviewID                                           sentence        asin  \\\n",
       "0         0                              Final Update, 8/27/14  B004J3Y9U6   \n",
       "1         1  I've had this camera for four years now and it...  B004J3Y9U6   \n",
       "2         1  It was given to me by family as a present and ...  B004J3Y9U6   \n",
       "3         1  It's a great entry level camera, and can produ...  B004J3Y9U6   \n",
       "4         1  Video quality is nice, although I wish it had ...  B004J3Y9U6   \n",
       "\n",
       "                                          reviewText  \n",
       "0                              Final Update, 8/27/14  \n",
       "1  I've had this camera for four years now and it...  \n",
       "2  I've had this camera for four years now and it...  \n",
       "3  I've had this camera for four years now and it...  \n",
       "4  I've had this camera for four years now and it...  "
      ]
     },
     "execution_count": 4,
     "metadata": {},
     "output_type": "execute_result"
    }
   ],
   "source": [
    "df = df.sort_index()\n",
    "df.head()"
   ]
  },
  {
   "cell_type": "code",
   "execution_count": 5,
   "metadata": {},
   "outputs": [],
   "source": [
    "featDf = pd.DataFrame()\n",
    "\n",
    "feat1 = re.compile(r'resolution|pixel|megapixel|(mp.?[0-9]{0,5}$)|(.?^[0-9]{0,5}.?mp)|sensor|frame|4k|hd|[0-9]{1,5} ?(x|X|\\*) ?[0-9]{1,5}')\n",
    "feat2 = re.compile(r'lens|wide( |\\-)?angle|normal( |\\-)range|aperture')\n",
    "feat3 = re.compile(r'zoom|optical( |\\-)?zoom|digital( |\\-)?zoom|optical')\n",
    "feat4 = re.compile(r'memory|megabytes|\\n ?MB ?')\n",
    "feat5 = re.compile(r'burst|continuous|shutter|recovery|motion|sport|stabilization|stable|stablity')\n",
    "feat6 = re.compile(r'battery|batteries|power')\n",
    "feat7 = re.compile(r'focus|exposure|focus( |\\-)?points|auto( |\\-)?focus|face( |\\-)?detect|detect|manual( |\\-)?focus|AF|iso|evening|night')\n",
    "feat8 = re.compile(r'LCD|screen|articulating|touch')\n",
    "feat9 = re.compile(r'compression|compress|jpeg')\n",
    "feat10 = re.compile(r'flash|light|shoe')\n",
    "feat11 = re.compile(r'durability|sealing|environment|weather|durable|endur|diuturnal|tenacious|abiding|reliable|stable|firm|stout|impervious|strong|fast|permanent|dependable|perduring|resistant|substantial|perdurable|persistent|sound|long-continued|fixed|enduring|constant|tough|lasting')\n",
    "feat12 = re.compile(r'video|flim|microphone|MIC|mic')\n",
    "feat13 = re.compile(r'wi( |\\-)?fi|connection')\n",
    "feat14 = re.compile(r'mode|automatic|program( |\\-)?mode|manual( |\\-)?mode|scene( |\\-)?mode|timelapse|setting|interface')\n",
    "feat15 = re.compile(r'weight|lighter|heavier|voluminous|weighty|a whale of a|soft|ethereal|excessive|immense|unimportant|vast|whopper|dainty|fractional|microscopic|mini|crowded|faint|young|effortless|teeny|weak|sheer|jumbo|scrubby|porcine|untroublesome|paltry|lithe|manageable|unexacting|filmy|copious|slender|effervescent|fragmentary|friable|inadequate|spongy|tiny|stunted|sparse|huge|bull|ponderous|trivial|abundant|strapping|built|overweight|loose|floating|enormous|lumbering|frugal|immature|lightweight|insubstantial|fluffy|unsubstantial|teensy|undersized|chock-full|frivolous|downy|minuscule|poor|heavy-duty|full|loaded|runty|inconsequential|heavy|airy|nimble|insufficient|sandy|superficial|unheavy|big|burly|top-heavy|wee|tremendous|extensive|hardly any|fat|restricted|weighted|awash|tissuelike|thundering|gross|bulky|obese|slight|humongous|pint-sized|super colossal|meager|cramped|lead-footed|zaftig|miniature|thin|roomy|minor|untaxing|spacious|oversize|inconsiderable|graceful|large|gossamery|hulking|oppressed|husky|moderate|laden|fleshy|picayune|chunky|petite|small|gentle|expectant|digestible|elephantine|light-footed|baby|casual|walloping|parturient|sizable|trifling|atmospheric|flimsy|puny|hefty|monster|short|facile|narrow|limited|light|unmanageable|undemanding|little|massive|minute|stuffed|humble|crumbly|mondo|two-ton|pitiful|bantam|diminutive|colossal|cumbersome|not many|commodious|indistinct|insignificant|beefy|scanty|imponderous|delicate|feathery|cumbrous|sylphlike|considerable|burdensome|buoyant|frothy|porous|stout|unpretentious|awkward|floatable|agile|mild|heavyweight|not rich|piddling|sprightly|smooth|gigantic|hardly enough|substantial|corpulent|capacious|small-scale|weightless|prodigious|pocket-sized|easy|portable|petty|enceinte|gravid|pregnant|toy|shoestring|whopping|modest|shrimp|unwieldy|bitty|not much|mammoth|portly|brimming|packed|ample|featherweight')\n",
    "\n"
   ]
  },
  {
   "cell_type": "code",
   "execution_count": 6,
   "metadata": {},
   "outputs": [],
   "source": [
    "feat = re.compile(r'resolution|pixel|megapixel|mp.?[0-9]{0,5}$|.?^[0-9]{0,5}.?mp|sensor|frame|4k|hd|[0-9]{1,5} ?[xX\\*] ?[0-9]{1,5}\\\n",
    "|lens|wide[ -]?angle|normal[ -]range|aperture\\\n",
    "|zoom|optical[ -]?zoom|digital[ -]?zoom|optical\\\n",
    "|memory|megabytes|\\n ?MB ?\\\n",
    "|burst|continuous|shutter|recovery|motion|sport|stabilization|stable|stablity\\\n",
    "|battery|batteries|power\\\n",
    "|focus|exposure|focus[ -]?points|auto[ -]?focus|face[ -]?detect|detect|manual[ -]?focus|AF|iso|evening|night\\\n",
    "|LCD|screen|articulating|touch\\\n",
    "|compression|compress|jpeg\\\n",
    "|flash|light|shoe\\\n",
    "|durability|sealing|environment|weather|durable|endur|diuturnal|tenacious|abiding|reliable|stable|firm|stout|impervious|strong|fast|permanent|dependable|perduring|resistant|substantial|perdurable|persistent|sound|long-continued|fixed|enduring|constant|tough|lasting\\\n",
    "|video|flim|microphone|MIC|mic\\\n",
    "|wi[ -]?fi|connection\\\n",
    "|mode|automatic|program[ -]?mode|manual[ -]?mode|scene[ -]?mode|timelapse|setting|interface\\\n",
    "|weight|lighter|heavier|voluminous|weighty|a whale of a|soft|ethereal|excessive|immense|unimportant|vast|whopper|dainty|fractional|microscopic|mini|crowded|faint|young|effortless|teeny|weak|sheer|jumbo|scrubby|porcine|untroublesome|paltry|lithe|manageable|unexacting|filmy|copious|slender|effervescent|fragmentary|friable|inadequate|spongy|tiny|stunted|sparse|huge|bull|ponderous|trivial|abundant|strapping|built|overweight|loose|floating|enormous|lumbering|frugal|immature|lightweight|insubstantial|fluffy|unsubstantial|teensy|undersized|chock-full|frivolous|downy|minuscule|poor|heavy-duty|full|loaded|runty|inconsequential|heavy|airy|nimble|insufficient|sandy|superficial|unheavy|big|burly|top-heavy|wee|tremendous|extensive|hardly any|fat|restricted|weighted|awash|tissuelike|thundering|gross|bulky|obese|slight|humongous|pint-sized|super colossal|meager|cramped|lead-footed|zaftig|miniature|thin|roomy|minor|untaxing|spacious|oversize|inconsiderable|graceful|large|gossamery|hulking|oppressed|husky|moderate|laden|fleshy|picayune|chunky|petite|small|gentle|expectant|digestible|elephantine|light-footed|baby|casual|walloping|parturient|sizable|trifling|atmospheric|flimsy|puny|hefty|monster|short|facile|narrow|limited|light|unmanageable|undemanding|little|massive|minute|stuffed|humble|crumbly|mondo|two-ton|pitiful|bantam|diminutive|colossal|cumbersome|not many|commodious|indistinct|insignificant|beefy|scanty|imponderous|delicate|feathery|cumbrous|sylphlike|considerable|burdensome|buoyant|frothy|porous|stout|unpretentious|awkward|floatable|agile|mild|heavyweight|not rich|piddling|sprightly|smooth|gigantic|hardly enough|substantial|corpulent|capacious|small-scale|weightless|prodigious|pocket-sized|easy|portable|petty|enceinte|gravid|pregnant|toy|shoestring|whopping|modest|shrimp|unwieldy|bitty|not much|mammoth|portly|brimming|packed|ample|featherweight')\n",
    "         "
   ]
  },
  {
   "cell_type": "code",
   "execution_count": 8,
   "metadata": {},
   "outputs": [],
   "source": [
    "df['features']=  pd.Series(map(lambda x: list(set(re.findall(feat,x))), df['sentence']))"
   ]
  },
  {
   "cell_type": "code",
   "execution_count": null,
   "metadata": {
    "scrolled": true
   },
   "outputs": [],
   "source": [
    "len(df), len(df.dropna())"
   ]
  },
  {
   "cell_type": "code",
   "execution_count": null,
   "metadata": {},
   "outputs": [],
   "source": [
    "# start = time.time()\n",
    "# def func(x, num):\n",
    "    \n",
    "#     if eval('re.search(feat{0},\"{1}\")'.format(num,str(x))):\n",
    "#         x =  eval(eval('re.sub(feat{0},\"feat{0}\", \"{1}\")'.format(num,str(x))))\n",
    "#         return list(set(x))\n",
    "#     else:\n",
    "#         return list(set(x))\n",
    "# def change(x):\n",
    "#     for num in range(1,16):\n",
    "#         if func(x,num):\n",
    "#             x = func(x,num)\n",
    "\n",
    "# idf['features']=  pd.Series(map(lambda x: change(x), idf['features']))\n",
    "# print(\"Runtime: %0.2f sec\"%(time.time() - start))\n",
    "# Runtime: 168.18 sec"
   ]
  },
  {
   "cell_type": "code",
   "execution_count": null,
   "metadata": {},
   "outputs": [],
   "source": [
    "def func(x):\n",
    "    if x==[]:\n",
    "        return None\n",
    "    return len(x)\n",
    "df['feat_num'] = df['features'].map(lambda x: func(x))\n",
    "df"
   ]
  },
  {
   "cell_type": "code",
   "execution_count": null,
   "metadata": {},
   "outputs": [],
   "source": [
    "idf = df.dropna()"
   ]
  },
  {
   "cell_type": "code",
   "execution_count": 11,
   "metadata": {},
   "outputs": [],
   "source": [
    "def func(x, num):\n",
    "    \n",
    "    if eval('re.search(feat{0},\"{1}\")'.format(num,str(x))):\n",
    "        x =  eval(eval('re.sub(feat{0},\"feat{0}\", \"{1}\")'.format(num,str(x))))\n",
    "        return list(set(x))\n",
    "    else:\n",
    "        return list(set(x))\n",
    "def change(x):\n",
    "    return reduce(lambda x,num : func(x, num), range(1,16), x)\n",
    "\n",
    "df['features']=  pd.Series(map(lambda x: change(x), df['features']))\n",
    "# Runtime: 86.68 sec"
   ]
  },
  {
   "cell_type": "code",
   "execution_count": 174,
   "metadata": {},
   "outputs": [],
   "source": [
    "for i in x:\n",
    "    featList = [eval('re.sub(feat{0},\"feat{0}\", \"{1}\")'.format(num,i)) for num in range(1,16) if \\\n",
    "     eval('re.search(feat{0},\"{1}\")'.format(num,i))]"
   ]
  },
  {
   "cell_type": "code",
   "execution_count": 175,
   "metadata": {},
   "outputs": [
    {
     "data": {
      "text/plain": [
       "['feat14']"
      ]
     },
     "execution_count": 175,
     "metadata": {},
     "output_type": "execute_result"
    }
   ],
   "source": [
    "featList"
   ]
  },
  {
   "cell_type": "code",
   "execution_count": 159,
   "metadata": {},
   "outputs": [],
   "source": [
    "text ='pixel'"
   ]
  },
  {
   "cell_type": "code",
   "execution_count": 167,
   "metadata": {
    "scrolled": true
   },
   "outputs": [
    {
     "name": "stdout",
     "output_type": "stream",
     "text": [
      "1\n",
      "2\n",
      "3\n",
      "4\n",
      "5\n",
      "6\n",
      "7\n",
      "8\n",
      "9\n",
      "10\n",
      "11\n",
      "12\n",
      "13\n",
      "14\n",
      "15\n"
     ]
    }
   ],
   "source": [
    "for num in range(1,16):\n",
    "    eval('print({})'.format(num))"
   ]
  },
  {
   "cell_type": "code",
   "execution_count": 269,
   "metadata": {},
   "outputs": [],
   "source": [
    "a = ['pixel','resolution', 'evening']"
   ]
  },
  {
   "cell_type": "code",
   "execution_count": 12,
   "metadata": {},
   "outputs": [],
   "source": [
    "def func(x):\n",
    "    featList=[]\n",
    "    for i in x:\n",
    "        featList = [eval('re.sub(feat{0},\"feat{0}\", \"{1}\")'.format(num,i)) for num in range(1,16) if \\\n",
    "         eval('re.search(feat{0},\"{1}\")'.format(num,i))]\n",
    "    return list(set(featList))\n"
   ]
  },
  {
   "cell_type": "code",
   "execution_count": 274,
   "metadata": {},
   "outputs": [
    {
     "name": "stdout",
     "output_type": "stream",
     "text": [
      "870 µs ± 8.32 µs per loop (mean ± std. dev. of 7 runs, 1000 loops each)\n"
     ]
    }
   ],
   "source": [
    "%timeit func(a)"
   ]
  },
  {
   "cell_type": "code",
   "execution_count": 13,
   "metadata": {},
   "outputs": [
    {
     "ename": "SyntaxError",
     "evalue": "EOL while scanning string literal (<string>, line 1)",
     "output_type": "error",
     "traceback": [
      "Traceback \u001b[1;36m(most recent call last)\u001b[0m:\n",
      "  File \u001b[0;32m\"C:\\ProgramData\\Anaconda3\\lib\\site-packages\\IPython\\core\\interactiveshell.py\"\u001b[0m, line \u001b[0;32m3296\u001b[0m, in \u001b[0;35mrun_code\u001b[0m\n    exec(code_obj, self.user_global_ns, self.user_ns)\n",
      "  File \u001b[0;32m\"<ipython-input-13-96dbf4ba309d>\"\u001b[0m, line \u001b[0;32m9\u001b[0m, in \u001b[0;35m<module>\u001b[0m\n    df['features'] = reduce(lambda x,num : func(x, num), range(1,16), df['features'])\n",
      "  File \u001b[0;32m\"<ipython-input-13-96dbf4ba309d>\"\u001b[0m, line \u001b[0;32m9\u001b[0m, in \u001b[0;35m<lambda>\u001b[0m\n    df['features'] = reduce(lambda x,num : func(x, num), range(1,16), df['features'])\n",
      "\u001b[1;36m  File \u001b[1;32m\"<ipython-input-13-96dbf4ba309d>\"\u001b[1;36m, line \u001b[1;32m3\u001b[1;36m, in \u001b[1;35mfunc\u001b[1;36m\u001b[0m\n\u001b[1;33m    if eval('re.search(feat{0},\"{1}\")'.format(num,str(x))):\u001b[0m\n",
      "\u001b[1;36m  File \u001b[1;32m\"<string>\"\u001b[1;36m, line \u001b[1;32m1\u001b[0m\n\u001b[1;33m    re.search(feat1,\"0                                     []\u001b[0m\n\u001b[1;37m                                                             ^\u001b[0m\n\u001b[1;31mSyntaxError\u001b[0m\u001b[1;31m:\u001b[0m EOL while scanning string literal\n"
     ]
    }
   ],
   "source": [
    "def func(x, num):\n",
    "    \n",
    "    if eval('re.search(feat{0},\"{1}\")'.format(num,str(x))):\n",
    "        x =  eval(eval('re.sub(feat{0},\"feat{0}\", \"{1}\")'.format(num,str(x))))\n",
    "        return list(set(x))\n",
    "    else:\n",
    "        return list(set(x))\n",
    "\n",
    "df['features'] = reduce(lambda x,num : func(x, num), range(1,16), df['features'])"
   ]
  },
  {
   "cell_type": "code",
   "execution_count": 276,
   "metadata": {},
   "outputs": [
    {
     "name": "stdout",
     "output_type": "stream",
     "text": [
      "380 µs ± 2.04 µs per loop (mean ± std. dev. of 7 runs, 1000 loops each)\n"
     ]
    }
   ],
   "source": [
    "%timeit "
   ]
  },
  {
   "cell_type": "code",
   "execution_count": 263,
   "metadata": {},
   "outputs": [
    {
     "data": {
      "text/plain": [
       "['feat7', 'feat1']"
      ]
     },
     "execution_count": 263,
     "metadata": {},
     "output_type": "execute_result"
    }
   ],
   "source": [
    "ddd"
   ]
  },
  {
   "cell_type": "code",
   "execution_count": 252,
   "metadata": {},
   "outputs": [
    {
     "data": {
      "text/plain": [
       "['feat1', 'feat1', 'evening']"
      ]
     },
     "execution_count": 252,
     "metadata": {},
     "output_type": "execute_result"
    }
   ],
   "source": [
    "asdf(['pixel','resolution', 'evening'],1)"
   ]
  },
  {
   "cell_type": "code",
   "execution_count": 189,
   "metadata": {},
   "outputs": [],
   "source": [
    "def func(x):\n",
    "    str(x)\n",
    "    featList = [eval('re.sub(feat{0},\"feat{0}\", \"{1}\")'.format(num,str(x))) for num in range(1,16) if \\\n",
    "         eval('re.search(feat{0},\"{1}\")'.format(num,str(x)))]\n",
    "    return list(set(featList))"
   ]
  },
  {
   "cell_type": "code",
   "execution_count": 190,
   "metadata": {},
   "outputs": [
    {
     "data": {
      "text/plain": [
       "[\"['feat1', 'feat1']\"]"
      ]
     },
     "execution_count": 190,
     "metadata": {},
     "output_type": "execute_result"
    }
   ],
   "source": [
    "func(['pixel','resolution'])"
   ]
  },
  {
   "cell_type": "code",
   "execution_count": 153,
   "metadata": {
    "scrolled": true
   },
   "outputs": [
    {
     "name": "stderr",
     "output_type": "stream",
     "text": [
      "C:\\ProgramData\\Anaconda3\\lib\\site-packages\\ipykernel_launcher.py:40: SettingWithCopyWarning: \n",
      "A value is trying to be set on a copy of a slice from a DataFrame.\n",
      "Try using .loc[row_indexer,col_indexer] = value instead\n",
      "\n",
      "See the caveats in the documentation: http://pandas.pydata.org/pandas-docs/stable/indexing.html#indexing-view-versus-copy\n"
     ]
    }
   ],
   "source": [
    "def func(x):\n",
    "\n",
    "    featList=[]\n",
    "    for i in x:\n",
    "        if re.search(feat1,i):\n",
    "            featList.append(re.sub(feat1,\"feat1\", i))\n",
    "        elif re.search(feat2,i):\n",
    "            featList.append(re.sub(feat2,\"feat2\", i))\n",
    "        elif re.search(feat3,i):\n",
    "            featList.append(re.sub(feat3,\"feat3\", i))\n",
    "        elif re.search(feat4,i):\n",
    "            featList.append(re.sub(feat4,\"feat4\", i))\n",
    "        elif re.search(feat5,i):\n",
    "            featList.append(re.sub(feat5,\"feat5\", i))\n",
    "        elif re.search(feat6,i):\n",
    "            featList.append(re.sub(feat6,\"feat6\", i))\n",
    "        elif re.search(feat7,i):\n",
    "            featList.append(re.sub(feat7,\"feat7\", i))\n",
    "        elif re.search(feat8,i):\n",
    "            featList.append(re.sub(feat8,\"feat8\", i))\n",
    "        elif re.search(feat9,i):\n",
    "            featList.append(re.sub(feat9,\"feat9\", i))\n",
    "        elif re.search(feat10,i):\n",
    "            featList.append(re.sub(feat10,\"feat10\", i))\n",
    "        elif re.search(feat11,i):\n",
    "            featList.append(re.sub(feat11,\"feat11\", i))\n",
    "        elif re.search(feat12,i):\n",
    "            featList.append(re.sub(feat12,\"feat12\", i))\n",
    "        elif re.search(feat13,i):\n",
    "            featList.append(re.sub(feat13,\"feat13\", i))\n",
    "        elif re.search(feat14,i):\n",
    "            featList.append(re.sub(feat14,\"feat14\", i))\n",
    "        elif re.search(feat15,i):\n",
    "            featList.append(re.sub(feat15,\"feat15\", i))\n",
    "\n",
    "    return list(set(featList))\n",
    "\n",
    "df['features']=  pd.Series(map(lambda x: func(x), df['features']))"
   ]
  },
  {
   "cell_type": "code",
   "execution_count": 154,
   "metadata": {
    "scrolled": true
   },
   "outputs": [
    {
     "data": {
      "text/html": [
       "<div>\n",
       "<style scoped>\n",
       "    .dataframe tbody tr th:only-of-type {\n",
       "        vertical-align: middle;\n",
       "    }\n",
       "\n",
       "    .dataframe tbody tr th {\n",
       "        vertical-align: top;\n",
       "    }\n",
       "\n",
       "    .dataframe thead th {\n",
       "        text-align: right;\n",
       "    }\n",
       "</style>\n",
       "<table border=\"1\" class=\"dataframe\">\n",
       "  <thead>\n",
       "    <tr style=\"text-align: right;\">\n",
       "      <th></th>\n",
       "      <th>reviewID</th>\n",
       "      <th>sentence</th>\n",
       "      <th>asin</th>\n",
       "      <th>reviewText</th>\n",
       "      <th>features</th>\n",
       "      <th>feat_num</th>\n",
       "    </tr>\n",
       "  </thead>\n",
       "  <tbody>\n",
       "    <tr>\n",
       "      <th>4</th>\n",
       "      <td>1</td>\n",
       "      <td>Video quality is nice, although I wish it had ...</td>\n",
       "      <td>B004J3Y9U6</td>\n",
       "      <td>I've had this camera for four years now and it...</td>\n",
       "      <td>[feat5]</td>\n",
       "      <td>2.0</td>\n",
       "    </tr>\n",
       "    <tr>\n",
       "      <th>5</th>\n",
       "      <td>1</td>\n",
       "      <td>Colors are captured nicely, and there are a lo...</td>\n",
       "      <td>B004J3Y9U6</td>\n",
       "      <td>I've had this camera for four years now and it...</td>\n",
       "      <td>[feat15]</td>\n",
       "      <td>1.0</td>\n",
       "    </tr>\n",
       "    <tr>\n",
       "      <th>6</th>\n",
       "      <td>1</td>\n",
       "      <td>The focusing system was tack sharp in the begi...</td>\n",
       "      <td>B004J3Y9U6</td>\n",
       "      <td>I've had this camera for four years now and it...</td>\n",
       "      <td>[feat15]</td>\n",
       "      <td>2.0</td>\n",
       "    </tr>\n",
       "    <tr>\n",
       "      <th>7</th>\n",
       "      <td>1</td>\n",
       "      <td>More recently the focus has not been so sharp,...</td>\n",
       "      <td>B004J3Y9U6</td>\n",
       "      <td>I've had this camera for four years now and it...</td>\n",
       "      <td>[feat15]</td>\n",
       "      <td>2.0</td>\n",
       "    </tr>\n",
       "    <tr>\n",
       "      <th>8</th>\n",
       "      <td>1</td>\n",
       "      <td>But, it has been through four years of continu...</td>\n",
       "      <td>B004J3Y9U6</td>\n",
       "      <td>I've had this camera for four years now and it...</td>\n",
       "      <td>[feat14, feat15]</td>\n",
       "      <td>1.0</td>\n",
       "    </tr>\n",
       "  </tbody>\n",
       "</table>\n",
       "</div>"
      ],
      "text/plain": [
       "   reviewID                                           sentence        asin  \\\n",
       "4         1  Video quality is nice, although I wish it had ...  B004J3Y9U6   \n",
       "5         1  Colors are captured nicely, and there are a lo...  B004J3Y9U6   \n",
       "6         1  The focusing system was tack sharp in the begi...  B004J3Y9U6   \n",
       "7         1  More recently the focus has not been so sharp,...  B004J3Y9U6   \n",
       "8         1  But, it has been through four years of continu...  B004J3Y9U6   \n",
       "\n",
       "                                          reviewText          features  \\\n",
       "4  I've had this camera for four years now and it...           [feat5]   \n",
       "5  I've had this camera for four years now and it...          [feat15]   \n",
       "6  I've had this camera for four years now and it...          [feat15]   \n",
       "7  I've had this camera for four years now and it...          [feat15]   \n",
       "8  I've had this camera for four years now and it...  [feat14, feat15]   \n",
       "\n",
       "   feat_num  \n",
       "4       2.0  \n",
       "5       1.0  \n",
       "6       2.0  \n",
       "7       2.0  \n",
       "8       1.0  "
      ]
     },
     "execution_count": 154,
     "metadata": {},
     "output_type": "execute_result"
    }
   ],
   "source": [
    "df.head()"
   ]
  },
  {
   "cell_type": "code",
   "execution_count": 169,
   "metadata": {},
   "outputs": [
    {
     "name": "stderr",
     "output_type": "stream",
     "text": [
      "C:\\ProgramData\\Anaconda3\\lib\\site-packages\\ipykernel_launcher.py:1: SettingWithCopyWarning: \n",
      "A value is trying to be set on a copy of a slice from a DataFrame.\n",
      "Try using .loc[row_indexer,col_indexer] = value instead\n",
      "\n",
      "See the caveats in the documentation: http://pandas.pydata.org/pandas-docs/stable/indexing.html#indexing-view-versus-copy\n",
      "  \"\"\"Entry point for launching an IPython kernel.\n"
     ]
    }
   ],
   "source": [
    "df['sentenceID'] = list(range(len(df)))"
   ]
  },
  {
   "cell_type": "markdown",
   "metadata": {},
   "source": [
    "### 열 자체를 문장 갯수만큼 반복하여 리스트 생성"
   ]
  },
  {
   "cell_type": "code",
   "execution_count": 170,
   "metadata": {},
   "outputs": [
    {
     "name": "stderr",
     "output_type": "stream",
     "text": [
      "C:\\ProgramData\\Anaconda3\\lib\\site-packages\\ipykernel_launcher.py:3: SettingWithCopyWarning: \n",
      "A value is trying to be set on a copy of a slice from a DataFrame.\n",
      "Try using .loc[row_indexer,col_indexer] = value instead\n",
      "\n",
      "See the caveats in the documentation: http://pandas.pydata.org/pandas-docs/stable/indexing.html#indexing-view-versus-copy\n",
      "  This is separate from the ipykernel package so we can avoid doing imports until\n"
     ]
    }
   ],
   "source": [
    "def func(x1, x2):\n",
    "    return [x1]*int(x2)\n",
    "df['sentID_rep'] = df.apply(lambda x: func(x['sentenceID'], x['feat_num']), axis = 1)"
   ]
  },
  {
   "cell_type": "code",
   "execution_count": 175,
   "metadata": {},
   "outputs": [],
   "source": [
    "featFlat = eval(str(list(df['features'])).replace('[','').replace(']',''))\n",
    "featFlat = pd.Series(featFlat)\n",
    "idFlat = eval(str(list(df['sentID_rep'])).replace('[','').replace(']',''))\n",
    "idFlat = pd.Series(idFlat)                                       "
   ]
  },
  {
   "cell_type": "code",
   "execution_count": 176,
   "metadata": {
    "scrolled": true
   },
   "outputs": [
    {
     "data": {
      "text/html": [
       "<div>\n",
       "<style scoped>\n",
       "    .dataframe tbody tr th:only-of-type {\n",
       "        vertical-align: middle;\n",
       "    }\n",
       "\n",
       "    .dataframe tbody tr th {\n",
       "        vertical-align: top;\n",
       "    }\n",
       "\n",
       "    .dataframe thead th {\n",
       "        text-align: right;\n",
       "    }\n",
       "</style>\n",
       "<table border=\"1\" class=\"dataframe\">\n",
       "  <thead>\n",
       "    <tr style=\"text-align: right;\">\n",
       "      <th></th>\n",
       "      <th>sentenceID</th>\n",
       "      <th>feature</th>\n",
       "    </tr>\n",
       "  </thead>\n",
       "  <tbody>\n",
       "    <tr>\n",
       "      <th>0</th>\n",
       "      <td>0</td>\n",
       "      <td>focus</td>\n",
       "    </tr>\n",
       "    <tr>\n",
       "      <th>1</th>\n",
       "      <td>0</td>\n",
       "      <td>automatic</td>\n",
       "    </tr>\n",
       "    <tr>\n",
       "      <th>2</th>\n",
       "      <td>1</td>\n",
       "      <td>setting</td>\n",
       "    </tr>\n",
       "    <tr>\n",
       "      <th>3</th>\n",
       "      <td>2</td>\n",
       "      <td>focus</td>\n",
       "    </tr>\n",
       "    <tr>\n",
       "      <th>4</th>\n",
       "      <td>2</td>\n",
       "      <td>evening</td>\n",
       "    </tr>\n",
       "    <tr>\n",
       "      <th>5</th>\n",
       "      <td>3</td>\n",
       "      <td>manual focus</td>\n",
       "    </tr>\n",
       "    <tr>\n",
       "      <th>6</th>\n",
       "      <td>3</td>\n",
       "      <td>focus</td>\n",
       "    </tr>\n",
       "    <tr>\n",
       "      <th>7</th>\n",
       "      <td>4</td>\n",
       "      <td>continuous</td>\n",
       "    </tr>\n",
       "    <tr>\n",
       "      <th>8</th>\n",
       "      <td>5</td>\n",
       "      <td>thin</td>\n",
       "    </tr>\n",
       "    <tr>\n",
       "      <th>9</th>\n",
       "      <td>6</td>\n",
       "      <td>little</td>\n",
       "    </tr>\n",
       "    <tr>\n",
       "      <th>10</th>\n",
       "      <td>6</td>\n",
       "      <td>thin</td>\n",
       "    </tr>\n",
       "    <tr>\n",
       "      <th>11</th>\n",
       "      <td>7</td>\n",
       "      <td>easy</td>\n",
       "    </tr>\n",
       "    <tr>\n",
       "      <th>12</th>\n",
       "      <td>8</td>\n",
       "      <td>manual mode</td>\n",
       "    </tr>\n",
       "    <tr>\n",
       "      <th>13</th>\n",
       "      <td>8</td>\n",
       "      <td>easy</td>\n",
       "    </tr>\n",
       "    <tr>\n",
       "      <th>14</th>\n",
       "      <td>8</td>\n",
       "      <td>setting</td>\n",
       "    </tr>\n",
       "    <tr>\n",
       "      <th>15</th>\n",
       "      <td>8</td>\n",
       "      <td>thin</td>\n",
       "    </tr>\n",
       "    <tr>\n",
       "      <th>16</th>\n",
       "      <td>9</td>\n",
       "      <td>thin</td>\n",
       "    </tr>\n",
       "    <tr>\n",
       "      <th>17</th>\n",
       "      <td>9</td>\n",
       "      <td>little</td>\n",
       "    </tr>\n",
       "    <tr>\n",
       "      <th>18</th>\n",
       "      <td>9</td>\n",
       "      <td>light</td>\n",
       "    </tr>\n",
       "  </tbody>\n",
       "</table>\n",
       "</div>"
      ],
      "text/plain": [
       "    sentenceID       feature\n",
       "0            0         focus\n",
       "1            0     automatic\n",
       "2            1       setting\n",
       "3            2         focus\n",
       "4            2       evening\n",
       "5            3  manual focus\n",
       "6            3         focus\n",
       "7            4    continuous\n",
       "8            5          thin\n",
       "9            6        little\n",
       "10           6          thin\n",
       "11           7          easy\n",
       "12           8   manual mode\n",
       "13           8          easy\n",
       "14           8       setting\n",
       "15           8          thin\n",
       "16           9          thin\n",
       "17           9        little\n",
       "18           9         light"
      ]
     },
     "execution_count": 176,
     "metadata": {},
     "output_type": "execute_result"
    }
   ],
   "source": [
    "featDf = pd.DataFrame({'sentenceID':idFlat, 'feature':featFlat})\n",
    "featDf"
   ]
  },
  {
   "cell_type": "code",
   "execution_count": 189,
   "metadata": {},
   "outputs": [
    {
     "data": {
      "text/html": [
       "<div>\n",
       "<style scoped>\n",
       "    .dataframe tbody tr th:only-of-type {\n",
       "        vertical-align: middle;\n",
       "    }\n",
       "\n",
       "    .dataframe tbody tr th {\n",
       "        vertical-align: top;\n",
       "    }\n",
       "\n",
       "    .dataframe thead th {\n",
       "        text-align: right;\n",
       "    }\n",
       "</style>\n",
       "<table border=\"1\" class=\"dataframe\">\n",
       "  <thead>\n",
       "    <tr style=\"text-align: right;\">\n",
       "      <th></th>\n",
       "      <th>reviewID</th>\n",
       "      <th>sentence</th>\n",
       "      <th>asin</th>\n",
       "      <th>reviewText</th>\n",
       "      <th>features</th>\n",
       "      <th>feat_num</th>\n",
       "      <th>sentenceID</th>\n",
       "      <th>sentID_rep</th>\n",
       "    </tr>\n",
       "  </thead>\n",
       "  <tbody>\n",
       "    <tr>\n",
       "      <th>4</th>\n",
       "      <td>1</td>\n",
       "      <td>Video quality is nice, although I wish it had ...</td>\n",
       "      <td>B004J3Y9U6</td>\n",
       "      <td>I've had this camera for four years now and it...</td>\n",
       "      <td>[focus, automatic]</td>\n",
       "      <td>2.0</td>\n",
       "      <td>0</td>\n",
       "      <td>[0, 0]</td>\n",
       "    </tr>\n",
       "    <tr>\n",
       "      <th>5</th>\n",
       "      <td>1</td>\n",
       "      <td>Colors are captured nicely, and there are a lo...</td>\n",
       "      <td>B004J3Y9U6</td>\n",
       "      <td>I've had this camera for four years now and it...</td>\n",
       "      <td>[setting]</td>\n",
       "      <td>1.0</td>\n",
       "      <td>1</td>\n",
       "      <td>[1]</td>\n",
       "    </tr>\n",
       "    <tr>\n",
       "      <th>6</th>\n",
       "      <td>1</td>\n",
       "      <td>The focusing system was tack sharp in the begi...</td>\n",
       "      <td>B004J3Y9U6</td>\n",
       "      <td>I've had this camera for four years now and it...</td>\n",
       "      <td>[focus, evening]</td>\n",
       "      <td>2.0</td>\n",
       "      <td>2</td>\n",
       "      <td>[2, 2]</td>\n",
       "    </tr>\n",
       "    <tr>\n",
       "      <th>7</th>\n",
       "      <td>1</td>\n",
       "      <td>More recently the focus has not been so sharp,...</td>\n",
       "      <td>B004J3Y9U6</td>\n",
       "      <td>I've had this camera for four years now and it...</td>\n",
       "      <td>[manual focus, focus]</td>\n",
       "      <td>2.0</td>\n",
       "      <td>3</td>\n",
       "      <td>[3, 3]</td>\n",
       "    </tr>\n",
       "    <tr>\n",
       "      <th>8</th>\n",
       "      <td>1</td>\n",
       "      <td>But, it has been through four years of continu...</td>\n",
       "      <td>B004J3Y9U6</td>\n",
       "      <td>I've had this camera for four years now and it...</td>\n",
       "      <td>[continuous]</td>\n",
       "      <td>1.0</td>\n",
       "      <td>4</td>\n",
       "      <td>[4]</td>\n",
       "    </tr>\n",
       "  </tbody>\n",
       "</table>\n",
       "</div>"
      ],
      "text/plain": [
       "   reviewID                                           sentence        asin  \\\n",
       "4         1  Video quality is nice, although I wish it had ...  B004J3Y9U6   \n",
       "5         1  Colors are captured nicely, and there are a lo...  B004J3Y9U6   \n",
       "6         1  The focusing system was tack sharp in the begi...  B004J3Y9U6   \n",
       "7         1  More recently the focus has not been so sharp,...  B004J3Y9U6   \n",
       "8         1  But, it has been through four years of continu...  B004J3Y9U6   \n",
       "\n",
       "                                          reviewText               features  \\\n",
       "4  I've had this camera for four years now and it...     [focus, automatic]   \n",
       "5  I've had this camera for four years now and it...              [setting]   \n",
       "6  I've had this camera for four years now and it...       [focus, evening]   \n",
       "7  I've had this camera for four years now and it...  [manual focus, focus]   \n",
       "8  I've had this camera for four years now and it...           [continuous]   \n",
       "\n",
       "   feat_num  sentenceID sentID_rep  \n",
       "4       2.0           0     [0, 0]  \n",
       "5       1.0           1        [1]  \n",
       "6       2.0           2     [2, 2]  \n",
       "7       2.0           3     [3, 3]  \n",
       "8       1.0           4        [4]  "
      ]
     },
     "execution_count": 189,
     "metadata": {},
     "output_type": "execute_result"
    }
   ],
   "source": [
    "df.head()"
   ]
  },
  {
   "cell_type": "code",
   "execution_count": 201,
   "metadata": {},
   "outputs": [],
   "source": [
    "featFinal = featDf.merge(df, how ='inner', on='sentenceID').iloc[:,:6]"
   ]
  },
  {
   "cell_type": "code",
   "execution_count": null,
   "metadata": {},
   "outputs": [],
   "source": [
    "pd.to_json('featFinal.json')"
   ]
  },
  {
   "cell_type": "code",
   "execution_count": null,
   "metadata": {},
   "outputs": [],
   "source": []
  },
  {
   "cell_type": "code",
   "execution_count": 26,
   "metadata": {
    "collapsed": true
   },
   "outputs": [
    {
     "ename": "NameError",
     "evalue": "name 'x' is not defined",
     "output_type": "error",
     "traceback": [
      "\u001b[1;31m---------------------------------------------------------------------------\u001b[0m",
      "\u001b[1;31mNameError\u001b[0m                                 Traceback (most recent call last)",
      "\u001b[1;32m<ipython-input-26-b3e66f77a95c>\u001b[0m in \u001b[0;36m<module>\u001b[1;34m\u001b[0m\n\u001b[1;32m----> 1\u001b[1;33m \u001b[0mdf\u001b[0m\u001b[1;33m[\u001b[0m\u001b[1;34m'features'\u001b[0m\u001b[1;33m]\u001b[0m\u001b[1;33m=\u001b[0m \u001b[0mdf\u001b[0m\u001b[1;33m[\u001b[0m\u001b[1;34m'sentence'\u001b[0m\u001b[1;33m]\u001b[0m\u001b[1;33m.\u001b[0m\u001b[0mmap\u001b[0m\u001b[1;33m(\u001b[0m\u001b[1;32mlambda\u001b[0m \u001b[0mx\u001b[0m\u001b[1;33m:\u001b[0m\u001b[0mfunc\u001b[0m\u001b[1;33m(\u001b[0m\u001b[0mx\u001b[0m\u001b[1;33m)\u001b[0m\u001b[1;33m)\u001b[0m\u001b[1;33m\u001b[0m\u001b[1;33m\u001b[0m\u001b[0m\n\u001b[0m",
      "\u001b[1;32mC:\\ProgramData\\Anaconda3\\lib\\site-packages\\pandas\\core\\series.py\u001b[0m in \u001b[0;36mmap\u001b[1;34m(self, arg, na_action)\u001b[0m\n\u001b[0;32m   3380\u001b[0m         \"\"\"\n\u001b[0;32m   3381\u001b[0m         new_values = super(Series, self)._map_values(\n\u001b[1;32m-> 3382\u001b[1;33m             arg, na_action=na_action)\n\u001b[0m\u001b[0;32m   3383\u001b[0m         return self._constructor(new_values,\n\u001b[0;32m   3384\u001b[0m                                  index=self.index).__finalize__(self)\n",
      "\u001b[1;32mC:\\ProgramData\\Anaconda3\\lib\\site-packages\\pandas\\core\\base.py\u001b[0m in \u001b[0;36m_map_values\u001b[1;34m(self, mapper, na_action)\u001b[0m\n\u001b[0;32m   1216\u001b[0m \u001b[1;33m\u001b[0m\u001b[0m\n\u001b[0;32m   1217\u001b[0m         \u001b[1;31m# mapper is a function\u001b[0m\u001b[1;33m\u001b[0m\u001b[1;33m\u001b[0m\u001b[1;33m\u001b[0m\u001b[0m\n\u001b[1;32m-> 1218\u001b[1;33m         \u001b[0mnew_values\u001b[0m \u001b[1;33m=\u001b[0m \u001b[0mmap_f\u001b[0m\u001b[1;33m(\u001b[0m\u001b[0mvalues\u001b[0m\u001b[1;33m,\u001b[0m \u001b[0mmapper\u001b[0m\u001b[1;33m)\u001b[0m\u001b[1;33m\u001b[0m\u001b[1;33m\u001b[0m\u001b[0m\n\u001b[0m\u001b[0;32m   1219\u001b[0m \u001b[1;33m\u001b[0m\u001b[0m\n\u001b[0;32m   1220\u001b[0m         \u001b[1;32mreturn\u001b[0m \u001b[0mnew_values\u001b[0m\u001b[1;33m\u001b[0m\u001b[1;33m\u001b[0m\u001b[0m\n",
      "\u001b[1;32mpandas/_libs/lib.pyx\u001b[0m in \u001b[0;36mpandas._libs.lib.map_infer\u001b[1;34m()\u001b[0m\n",
      "\u001b[1;32m<ipython-input-26-b3e66f77a95c>\u001b[0m in \u001b[0;36m<lambda>\u001b[1;34m(x)\u001b[0m\n\u001b[1;32m----> 1\u001b[1;33m \u001b[0mdf\u001b[0m\u001b[1;33m[\u001b[0m\u001b[1;34m'features'\u001b[0m\u001b[1;33m]\u001b[0m\u001b[1;33m=\u001b[0m \u001b[0mdf\u001b[0m\u001b[1;33m[\u001b[0m\u001b[1;34m'sentence'\u001b[0m\u001b[1;33m]\u001b[0m\u001b[1;33m.\u001b[0m\u001b[0mmap\u001b[0m\u001b[1;33m(\u001b[0m\u001b[1;32mlambda\u001b[0m \u001b[0mx\u001b[0m\u001b[1;33m:\u001b[0m\u001b[0mfunc\u001b[0m\u001b[1;33m(\u001b[0m\u001b[0mx\u001b[0m\u001b[1;33m)\u001b[0m\u001b[1;33m)\u001b[0m\u001b[1;33m\u001b[0m\u001b[1;33m\u001b[0m\u001b[0m\n\u001b[0m",
      "\u001b[1;32m<ipython-input-25-7fa64740d00e>\u001b[0m in \u001b[0;36mfunc\u001b[1;34m(x)\u001b[0m\n\u001b[0;32m      1\u001b[0m \u001b[1;32mdef\u001b[0m \u001b[0mfunc\u001b[0m\u001b[1;33m(\u001b[0m\u001b[0mx\u001b[0m\u001b[1;33m)\u001b[0m\u001b[1;33m:\u001b[0m\u001b[1;33m\u001b[0m\u001b[1;33m\u001b[0m\u001b[0m\n\u001b[1;32m----> 2\u001b[1;33m     return [eval('feat{}.search(x).group()'.format(i)) for i in range(1,16)\\\n\u001b[0m\u001b[0;32m      3\u001b[0m               if eval('feat{}.search(x)'.format(i))!=None]\n",
      "\u001b[1;32m<ipython-input-25-7fa64740d00e>\u001b[0m in \u001b[0;36m<listcomp>\u001b[1;34m(.0)\u001b[0m\n\u001b[0;32m      1\u001b[0m \u001b[1;32mdef\u001b[0m \u001b[0mfunc\u001b[0m\u001b[1;33m(\u001b[0m\u001b[0mx\u001b[0m\u001b[1;33m)\u001b[0m\u001b[1;33m:\u001b[0m\u001b[1;33m\u001b[0m\u001b[1;33m\u001b[0m\u001b[0m\n\u001b[0;32m      2\u001b[0m     return [eval('feat{}.search(x).group()'.format(i)) for i in range(1,16)\\\n\u001b[1;32m----> 3\u001b[1;33m               if eval('feat{}.search(x)'.format(i))!=None]\n\u001b[0m",
      "\u001b[1;32m<string>\u001b[0m in \u001b[0;36m<module>\u001b[1;34m\u001b[0m\n",
      "\u001b[1;31mNameError\u001b[0m: name 'x' is not defined"
     ]
    }
   ],
   "source": []
  }
 ],
 "metadata": {
  "kernelspec": {
   "display_name": "Python 3",
   "language": "python",
   "name": "python3"
  },
  "language_info": {
   "codemirror_mode": {
    "name": "ipython",
    "version": 3
   },
   "file_extension": ".py",
   "mimetype": "text/x-python",
   "name": "python",
   "nbconvert_exporter": "python",
   "pygments_lexer": "ipython3",
   "version": "3.7.3"
  }
 },
 "nbformat": 4,
 "nbformat_minor": 2
}
