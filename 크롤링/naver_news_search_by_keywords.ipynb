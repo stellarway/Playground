{
 "cells": [
  {
   "cell_type": "code",
   "execution_count": null,
   "metadata": {},
   "outputs": [],
   "source": [
    "import requests\n",
    "from bs4 import BeautifulSoup"
   ]
  },
  {
   "cell_type": "code",
   "execution_count": null,
   "metadata": {},
   "outputs": [],
   "source": [
    "Surl='https://search.naver.com/search.naver'\n",
    "query=\"무역전쟁\"\n",
    "params={\n",
    "    'where': 'news',\n",
    "    'query': query,\n",
    "    'start': int(i*10+1)\n",
    "}\n",
    "\n"
   ]
  },
  {
   "cell_type": "code",
   "execution_count": null,
   "metadata": {},
   "outputs": [],
   "source": [
    "resp=requests.get(Surl, params=params)\n",
    "resp.status_code"
   ]
  },
  {
   "cell_type": "markdown",
   "metadata": {},
   "source": [
    "### soup 만들기"
   ]
  },
  {
   "cell_type": "code",
   "execution_count": null,
   "metadata": {},
   "outputs": [],
   "source": [
    "soup = BeautifulSoup(resp.content, 'html.parser')"
   ]
  },
  {
   "cell_type": "code",
   "execution_count": null,
   "metadata": {},
   "outputs": [],
   "source": [
    "ul_contents=soup.find('ul',class_='type01')"
   ]
  },
  {
   "cell_type": "code",
   "execution_count": null,
   "metadata": {},
   "outputs": [],
   "source": [
    "new_ul=[]\n",
    "for content in ul_contents.contents:\n",
    "    if not str(content).strip():\n",
    "        continue\n",
    "    new_ul.append(content)\n",
    "    "
   ]
  },
  {
   "cell_type": "code",
   "execution_count": null,
   "metadata": {},
   "outputs": [],
   "source": [
    "news_list=[]\n",
    "\n",
    "for li in new_ul:\n",
    "    news_dict={}\n",
    "    a_tag=li.find('dl').find('dt').find('a')\n",
    "    news_dict['link']=a_tag['href']\n",
    "    news_dict['title']=a_tag.text\n",
    "    \n",
    "    b_tag=li.find('dl').find('dd').find('span')\n",
    "    news_dict['company']=b_tag.contents[0]\n",
    " \n",
    "\n",
    "    \n",
    "    c_tag=b_tag.find_next('dd')\n",
    "\n",
    "    news_dict['script']=c_tag.text\n",
    "     \n",
    "    news_list.append(news_dict)\n",
    "print(news_list)"
   ]
  },
  {
   "cell_type": "code",
   "execution_count": null,
   "metadata": {
    "scrolled": false
   },
   "outputs": [],
   "source": [
    "from pprint import pprint\n",
    "pprint(news_list)"
   ]
  },
  {
   "cell_type": "markdown",
   "metadata": {},
   "source": [
    "### 10페이지까지 이동하면서"
   ]
  },
  {
   "cell_type": "code",
   "execution_count": null,
   "metadata": {},
   "outputs": [],
   "source": [
    "Surl='https://search.naver.com/search.naver'\n",
    "query=\"무역전쟁\"\n",
    "\n",
    "news_list=[]\n",
    "\n",
    "for i in range(0,9):\n",
    "    params={\n",
    "        'where': 'news',\n",
    "        'query': query,\n",
    "        'start': int(i*10+1)\n",
    "    }\n",
    "    resp=requests.get(Surl, params=params)\n",
    "    soup = BeautifulSoup(resp.content, 'html.parser')\n",
    "    ul_contents=soup.find('ul',class_='type01')\n",
    "    new_ul=[]\n",
    "    for content in ul_contents.contents:\n",
    "        if not str(content).strip():\n",
    "            continue\n",
    "        new_ul.append(content)\n",
    "    \n",
    "\n",
    "    for li in new_ul:\n",
    "        news_dict={}\n",
    "        a_tag=li.find('dl').find('dt').find('a')\n",
    "        news_dict['link']=a_tag['href']\n",
    "        news_dict['title']=a_tag.text\n",
    "    \n",
    "    \n",
    "        b_tag=li.find('dl').find('dd').find('span')\n",
    "        news_dict['company']=b_tag.contents[0]\n",
    "   \n",
    "        c_tag=b_tag.find_next('dd')\n",
    "        news_dict['script']=c_tag.text\n",
    "     \n",
    "        news_list.append(news_dict)\n",
    "\n",
    "    from pprint import pprint\n",
    "    pprint(news_list)"
   ]
  },
  {
   "cell_type": "code",
   "execution_count": null,
   "metadata": {},
   "outputs": [],
   "source": []
  },
  {
   "cell_type": "code",
   "execution_count": null,
   "metadata": {},
   "outputs": [],
   "source": [
    "det_resp=requests.get(news_dict['link'])\n",
    "det_soup=BeautifulSoup(det_resp.content,'html.parser')\n",
    "det_contents=det_soup.find('div',itemprop='articleBody')\n",
    "print(det_contents)"
   ]
  },
  {
   "cell_type": "code",
   "execution_count": null,
   "metadata": {},
   "outputs": [],
   "source": [
    "Surl='https://search.naver.com/search.naver'\n",
    "query=\"무역전쟁\"\n",
    "\n",
    "news_list=[]\n",
    "params={\n",
    "    'where': 'news',\n",
    "    'query': query,\n",
    "    'start': int(i*10+1)\n",
    "}\n",
    "resp=requests.get(Surl, params=params)\n",
    "soup = BeautifulSoup(resp.content, 'html.parser')\n",
    "ul_contents=soup.find('ul',class_='type01')\n",
    "new_ul=[]\n",
    "for content in ul_contents.contents:\n",
    "    if not str(content).strip():\n",
    "        continue\n",
    "    new_ul.append(content)\n",
    "    \n",
    "\n",
    "for li in new_ul:\n",
    "    news_dict={}\n",
    "    a_tag=li.find('dl').find('dt').find('a')\n",
    "    news_dict['link']=a_tag['href']\n",
    "    news_dict['title']=a_tag.text\n",
    "   \n",
    "    print(news_dict['link'], \"에 들어갑니다.\")\n",
    "    detail_resp=requests.get(news_dict['link'])\n",
    "    detail_soup=BeautifulSoup(detail_resp.content,'html.parser')\n",
    "    news_dict['body'] =detail_soup.find(itemprop='articleBody')\n",
    "\n",
    "    news_list.append(news_dict)\n",
    "print(news_dict['body'])\n",
    "    "
   ]
  },
  {
   "cell_type": "markdown",
   "metadata": {},
   "source": [
    "## 개발 순서"
   ]
  },
  {
   "cell_type": "code",
   "execution_count": null,
   "metadata": {},
   "outputs": [],
   "source": [
    "1. url을 파악한다.\n",
    "2. url에 접속한다.\n",
    "3. html 파일을 soup로 만든다.\n",
    "4. soup에서 각 항목들을 정리한다.\n",
    "5. soup에서 상세페이지의 href를 가져온다.\n",
    "6. 각 상세페이지의 href를 requests.get()한다.\n",
    "7. soup로 만들고 상세페이지의 각 항목들을 정리한다.\n",
    "8. 반복문을 통해서 pagination을 이동한다. "
   ]
  },
  {
   "cell_type": "markdown",
   "metadata": {},
   "source": [
    "### 뉴스토픽 가져오기"
   ]
  },
  {
   "cell_type": "code",
   "execution_count": null,
   "metadata": {},
   "outputs": [],
   "source": [
    "import requests\n",
    "from bs4 import BeautifulSoup\n",
    "resp=requests.get(\"https://search.naver.com/search.naver?query=\")\n",
    "soup=BeautifulSoup(resp.content, 'html.parser')"
   ]
  },
  {
   "cell_type": "code",
   "execution_count": 149,
   "metadata": {},
   "outputs": [],
   "source": [
    "news_topic=soup.find('div', id_='nxfr_htp')\n",
    "for ol in news_topic:\n",
    "    topic_dict={}\n",
    "    a_tag = ol.find('ol').find('li').find('a')"
   ]
  },
  {
   "cell_type": "code",
   "execution_count": 155,
   "metadata": {},
   "outputs": [
    {
     "data": {
      "text/plain": [
       "<ol class=\"lst_realtime_srch _tab_area\"><li><a class=\"bx bx_item\" href=\"//search.naver.com/search.naver?where=nexearch&amp;sm=tab_htk.nws&amp;ie=utf8&amp;query=%EB%B6%88%EB%B2%95%ED%8F%90%EA%B8%B0%EB%AC%BC+%ED%8A%B9%EB%B3%84%EC%88%98%EC%82%AC%EB%8B%A8+%EB%B0%9C%EC%A1%B1\" onclick=\"return goOtherCR(this, 'a=htk.nwslist&amp;r=1&amp;i=&amp;u='+urlencode(urlexpand(this.href)));\"><span class=\"keyword\"><em class=\"num\">1</em><span class=\"tit\">불법폐기물 특별수사단 발족</span></span><em class=\"rank new\"><span class=\"spim\"></span><span>NEW</span></em></a></li><li><a class=\"bx bx_item\" href=\"//search.naver.com/search.naver?where=nexearch&amp;sm=tab_htk.nws&amp;ie=utf8&amp;query=%ED%95%9C%EC%84%A0%EA%B5%90+%EA%B8%B0%EC%9E%90%EB%93%A4+%ED%96%A5%ED%95%B4\" onclick=\"return goOtherCR(this, 'a=htk.nwslist&amp;r=2&amp;i=&amp;u='+urlencode(urlexpand(this.href)));\"><span class=\"keyword\"><em class=\"num\">2</em><span class=\"tit\">한선교 기자들 향해</span></span><em class=\"rank new\"><span class=\"spim\"></span><span>NEW</span></em></a></li><li><a class=\"bx bx_item\" href=\"//search.naver.com/search.naver?where=nexearch&amp;sm=tab_htk.nws&amp;ie=utf8&amp;query=%EA%B2%80%EC%B0%B0+%EC%BD%94%EC%98%A4%EB%A1%B1%EC%83%9D%EB%AA%85%EA%B3%BC%ED%95%99+%EC%95%95%EC%88%98%EC%88%98%EC%83%89\" onclick=\"return goOtherCR(this, 'a=htk.nwslist&amp;r=3&amp;i=&amp;u='+urlencode(urlexpand(this.href)));\"><span class=\"keyword\"><em class=\"num\">3</em><span class=\"tit\">검찰 코오롱생명과학 압수수색</span></span><em class=\"rank new\"><span class=\"spim\"></span><span>NEW</span></em></a></li><li><a class=\"bx bx_item\" href=\"//search.naver.com/search.naver?where=nexearch&amp;sm=tab_htk.nws&amp;ie=utf8&amp;query=%EA%B5%AD%EC%84%B8%EC%B2%AD+%EC%82%AC%EC%B9%AD\" onclick=\"return goOtherCR(this, 'a=htk.nwslist&amp;r=4&amp;i=&amp;u='+urlencode(urlexpand(this.href)));\"><span class=\"keyword\"><em class=\"num\">4</em><span class=\"tit\">국세청 사칭</span></span><em class=\"rank new\"><span class=\"spim\"></span><span>NEW</span></em></a></li><li><a class=\"bx bx_item\" href=\"//search.naver.com/search.naver?where=nexearch&amp;sm=tab_htk.nws&amp;ie=utf8&amp;query=%EB%8C%80%EC%9A%B0%EA%B1%B4%EC%84%A4+%EC%9D%84%EC%A7%80%EB%A1%9C%EC%8B%9C%EB%8C%80+%EA%B0%9C%EB%A7%89\" onclick=\"return goOtherCR(this, 'a=htk.nwslist&amp;r=5&amp;i=&amp;u='+urlencode(urlexpand(this.href)));\"><span class=\"keyword\"><em class=\"num\">5</em><span class=\"tit\">대우건설 을지로시대 개막</span></span><em class=\"rank new\"><span class=\"spim\"></span><span>NEW</span></em></a></li><li><a class=\"bx bx_item\" href=\"//search.naver.com/search.naver?where=nexearch&amp;sm=tab_htk.nws&amp;ie=utf8&amp;query=%EC%A0%95%EA%B2%BD%EB%91%90+%EA%B5%AD%EB%B0%A9\" onclick=\"return goOtherCR(this, 'a=htk.nwslist&amp;r=6&amp;i=&amp;u='+urlencode(urlexpand(this.href)));\"><span class=\"keyword\"><em class=\"num\">6</em><span class=\"tit\">정경두 국방</span></span><em class=\"rank new\"><span class=\"spim\"></span><span>NEW</span></em></a></li><li><a class=\"bx bx_item\" href=\"//search.naver.com/search.naver?where=nexearch&amp;sm=tab_htk.nws&amp;ie=utf8&amp;query=%EB%B0%98%EB%A0%A4%EA%B2%AC+%EC%88%98%EC%98%81%EB%8C%80%ED%9A%8C\" onclick=\"return goOtherCR(this, 'a=htk.nwslist&amp;r=7&amp;i=&amp;u='+urlencode(urlexpand(this.href)));\"><span class=\"keyword\"><em class=\"num\">7</em><span class=\"tit\">반려견 수영대회</span></span><em class=\"rank new\"><span class=\"spim\"></span><span>NEW</span></em></a></li><li><a class=\"bx bx_item\" href=\"//search.naver.com/search.naver?where=nexearch&amp;sm=tab_htk.nws&amp;ie=utf8&amp;query=%ED%95%9C%EB%AF%B8+%EA%B5%AD%EB%B0%A9%EC%9E%A5%EA%B4%80%ED%9A%8C%EB%8B%B4\" onclick=\"return goOtherCR(this, 'a=htk.nwslist&amp;r=8&amp;i=&amp;u='+urlencode(urlexpand(this.href)));\"><span class=\"keyword\"><em class=\"num\">8</em><span class=\"tit\">한미 국방장관회담</span></span><em class=\"rank new\"><span class=\"spim\"></span><span>NEW</span></em></a></li><li><a class=\"bx bx_item\" href=\"//search.naver.com/search.naver?where=nexearch&amp;sm=tab_htk.nws&amp;ie=utf8&amp;query=%EC%84%9C%EC%9A%B8%EC%97%B0%EA%B5%AC%EC%9B%90+%EB%AF%BC%EC%A3%BC%EC%97%B0%EA%B5%AC%EC%9B%90\" onclick=\"return goOtherCR(this, 'a=htk.nwslist&amp;r=9&amp;i=&amp;u='+urlencode(urlexpand(this.href)));\"><span class=\"keyword\"><em class=\"num\">9</em><span class=\"tit\">서울연구원 민주연구원</span></span><em class=\"rank new\"><span class=\"spim\"></span><span>NEW</span></em></a></li><li><a class=\"bx\" href=\"//search.naver.com/search.naver?where=nexearch&amp;sm=tab_htk.nws&amp;ie=utf8&amp;query=%EC%9C%A0%EC%8B%9C%EB%AF%BC+%ED%99%8D%EC%A4%80%ED%91%9C\" onclick=\"return goOtherCR(this, 'a=htk.nwslist&amp;r=10&amp;i=&amp;u='+urlencode(urlexpand(this.href)));\"><span class=\"keyword\"><em class=\"num\">10</em><span class=\"tit\">유시민 홍준표</span></span></a></li></ol>"
      ]
     },
     "execution_count": 155,
     "metadata": {},
     "output_type": "execute_result"
    }
   ],
   "source": [
    "news_topic=soup.find('ol', class_='lst_realtime_srch _tab_area')\n",
    "news_topic"
   ]
  },
  {
   "cell_type": "code",
   "execution_count": 159,
   "metadata": {},
   "outputs": [
    {
     "data": {
      "text/plain": [
       "['불법폐기물 특별수사단 발족',\n",
       " '한선교 기자들 향해',\n",
       " '검찰 코오롱생명과학 압수수색',\n",
       " '국세청 사칭',\n",
       " '대우건설 을지로시대 개막',\n",
       " '정경두 국방',\n",
       " '반려견 수영대회',\n",
       " '한미 국방장관회담',\n",
       " '서울연구원 민주연구원',\n",
       " '유시민 홍준표']"
      ]
     },
     "execution_count": 159,
     "metadata": {},
     "output_type": "execute_result"
    }
   ],
   "source": [
    "# 1. contents 쓰기\n",
    "li_tags=news_topic.contents\n",
    "new_list=[]\n",
    "for t in li_tags:\n",
    "    title = t.find('span', class_=\"tit\").text\n",
    "    new_list.append(title)\n",
    "new_list"
   ]
  },
  {
   "cell_type": "code",
   "execution_count": 165,
   "metadata": {},
   "outputs": [
    {
     "data": {
      "text/plain": [
       "['유시민 홍준표',\n",
       " '   미중 관세전쟁, 끝장 볼 때까지 간다 금융소비자뉴스  7시간 전   보내기   중국 국무원 신문판공실은 2일 8000여 자에 달하는 \\'중·미 무역협상에 관한 중국 입장\\' 백서를 통해 무역전쟁의 원인은 도널드 트럼프 미 행정부에 있다고 비난한 뒤 \"중국은 절대로 물러서지 않을 것\"이라고 공표했다....  ',\n",
       " '   미중 관세전쟁, 끝장 볼 때까지 간다 금융소비자뉴스  7시간 전   보내기   중국 국무원 신문판공실은 2일 8000여 자에 달하는 \\'중·미 무역협상에 관한 중국 입장\\' 백서를 통해 무역전쟁의 원인은 도널드 트럼프 미 행정부에 있다고 비난한 뒤 \"중국은 절대로 물러서지 않을 것\"이라고 공표했다....  ',\n",
       " '   미중 관세전쟁, 끝장 볼 때까지 간다 금융소비자뉴스  7시간 전   보내기   중국 국무원 신문판공실은 2일 8000여 자에 달하는 \\'중·미 무역협상에 관한 중국 입장\\' 백서를 통해 무역전쟁의 원인은 도널드 트럼프 미 행정부에 있다고 비난한 뒤 \"중국은 절대로 물러서지 않을 것\"이라고 공표했다....  ',\n",
       " '   미중 관세전쟁, 끝장 볼 때까지 간다 금융소비자뉴스  7시간 전   보내기   중국 국무원 신문판공실은 2일 8000여 자에 달하는 \\'중·미 무역협상에 관한 중국 입장\\' 백서를 통해 무역전쟁의 원인은 도널드 트럼프 미 행정부에 있다고 비난한 뒤 \"중국은 절대로 물러서지 않을 것\"이라고 공표했다....  ',\n",
       " '   미중 관세전쟁, 끝장 볼 때까지 간다 금융소비자뉴스  7시간 전   보내기   중국 국무원 신문판공실은 2일 8000여 자에 달하는 \\'중·미 무역협상에 관한 중국 입장\\' 백서를 통해 무역전쟁의 원인은 도널드 트럼프 미 행정부에 있다고 비난한 뒤 \"중국은 절대로 물러서지 않을 것\"이라고 공표했다....  ',\n",
       " '   미중 관세전쟁, 끝장 볼 때까지 간다 금융소비자뉴스  7시간 전   보내기   중국 국무원 신문판공실은 2일 8000여 자에 달하는 \\'중·미 무역협상에 관한 중국 입장\\' 백서를 통해 무역전쟁의 원인은 도널드 트럼프 미 행정부에 있다고 비난한 뒤 \"중국은 절대로 물러서지 않을 것\"이라고 공표했다....  ',\n",
       " '   미중 관세전쟁, 끝장 볼 때까지 간다 금융소비자뉴스  7시간 전   보내기   중국 국무원 신문판공실은 2일 8000여 자에 달하는 \\'중·미 무역협상에 관한 중국 입장\\' 백서를 통해 무역전쟁의 원인은 도널드 트럼프 미 행정부에 있다고 비난한 뒤 \"중국은 절대로 물러서지 않을 것\"이라고 공표했다....  ',\n",
       " '   미중 관세전쟁, 끝장 볼 때까지 간다 금융소비자뉴스  7시간 전   보내기   중국 국무원 신문판공실은 2일 8000여 자에 달하는 \\'중·미 무역협상에 관한 중국 입장\\' 백서를 통해 무역전쟁의 원인은 도널드 트럼프 미 행정부에 있다고 비난한 뒤 \"중국은 절대로 물러서지 않을 것\"이라고 공표했다....  ',\n",
       " '   미중 관세전쟁, 끝장 볼 때까지 간다 금융소비자뉴스  7시간 전   보내기   중국 국무원 신문판공실은 2일 8000여 자에 달하는 \\'중·미 무역협상에 관한 중국 입장\\' 백서를 통해 무역전쟁의 원인은 도널드 트럼프 미 행정부에 있다고 비난한 뒤 \"중국은 절대로 물러서지 않을 것\"이라고 공표했다....  ']"
      ]
     },
     "execution_count": 165,
     "metadata": {},
     "output_type": "execute_result"
    }
   ],
   "source": [
    "#2. sibling 쓰기\n",
    "li_tag = news_topic.li\n",
    "\n",
    "new_list2=[]\n",
    "title = t.find('span', class_=\"tit\").text\n",
    "new_list2.append(title)\n",
    "for x in li_tag.find_next_siblings('li'):\n",
    "    title = t.find('span', class_=\"tit\").text\n",
    "    new_list2.append(li.text)\n",
    "    \n",
    "new_list2"
   ]
  },
  {
   "cell_type": "code",
   "execution_count": 173,
   "metadata": {},
   "outputs": [
    {
     "data": {
      "text/plain": [
       "10"
      ]
     },
     "execution_count": 173,
     "metadata": {},
     "output_type": "execute_result"
    }
   ],
   "source": [
    "# 3. find_all(recursive=False)\n",
    "li_list=news_topic.find_all('li', recursive=False)\n",
    "len(li_lists)"
   ]
  },
  {
   "cell_type": "code",
   "execution_count": 174,
   "metadata": {},
   "outputs": [
    {
     "data": {
      "text/plain": [
       "['불법폐기물 특별수사단 발족',\n",
       " '한선교 기자들 향해',\n",
       " '검찰 코오롱생명과학 압수수색',\n",
       " '국세청 사칭',\n",
       " '대우건설 을지로시대 개막',\n",
       " '정경두 국방',\n",
       " '반려견 수영대회',\n",
       " '한미 국방장관회담',\n",
       " '서울연구원 민주연구원',\n",
       " '유시민 홍준표']"
      ]
     },
     "execution_count": 174,
     "metadata": {},
     "output_type": "execute_result"
    }
   ],
   "source": [
    "new_list3=[]\n",
    "for li in li_list:\n",
    "    title = li.find('span', class_=\"tit\").text\n",
    "    new_list3.append(title)\n",
    "    \n",
    "new_list3"
   ]
  },
  {
   "cell_type": "code",
   "execution_count": null,
   "metadata": {},
   "outputs": [],
   "source": []
  },
  {
   "cell_type": "markdown",
   "metadata": {},
   "source": [
    "## BS 정리"
   ]
  },
  {
   "cell_type": "code",
   "execution_count": 175,
   "metadata": {},
   "outputs": [],
   "source": [
    "resp=requests.get('https://search.naver.com/search.naver?query=무역전쟁')\n",
    "soup=BeautifulSoup(resp.content, 'html.parser')"
   ]
  },
  {
   "cell_type": "code",
   "execution_count": 180,
   "metadata": {},
   "outputs": [
    {
     "data": {
      "text/plain": [
       "bs4.element.Tag"
      ]
     },
     "execution_count": 180,
     "metadata": {},
     "output_type": "execute_result"
    }
   ],
   "source": [
    "news_topic=soup.find('div', id=\"nxfr_htp\")\n",
    "news_topic_all=soup.find_all('div', id=\"nxfr_htp\")\n"
   ]
  },
  {
   "cell_type": "code",
   "execution_count": 181,
   "metadata": {},
   "outputs": [
    {
     "data": {
      "text/plain": [
       "bs4.element.Tag"
      ]
     },
     "execution_count": 181,
     "metadata": {},
     "output_type": "execute_result"
    }
   ],
   "source": [
    "type(news_topic)"
   ]
  },
  {
   "cell_type": "code",
   "execution_count": 182,
   "metadata": {},
   "outputs": [
    {
     "data": {
      "text/plain": [
       "bs4.element.ResultSet"
      ]
     },
     "execution_count": 182,
     "metadata": {},
     "output_type": "execute_result"
    }
   ],
   "source": [
    "type(news_topic_all)"
   ]
  },
  {
   "cell_type": "code",
   "execution_count": 188,
   "metadata": {},
   "outputs": [
    {
     "data": {
      "text/plain": [
       "bs4.element.Tag"
      ]
     },
     "execution_count": 188,
     "metadata": {},
     "output_type": "execute_result"
    }
   ],
   "source": [
    "type(news_topic_all[0])\n",
    "# tag여야만 find, find_all등 사용 가능 'all'은 리스트이기 때문!! 태그 접근을 위해서 인덱스나 반복문으로 접근해야"
   ]
  },
  {
   "cell_type": "code",
   "execution_count": 189,
   "metadata": {},
   "outputs": [
    {
     "data": {
      "text/plain": [
       "' 뉴스토픽    뉴스 연예·스포츠   뉴스토픽 뉴스 1불법폐기물 특별수사단 발족NEW2한선교 기자들 향해NEW3검찰 코오롱생명과학 압수수색NEW4국세청 사칭NEW5대우건설 을지로시대 개막NEW6정경두 국방NEW7반려견 수영대회NEW8한미 국방장관회담NEW9서울연구원 민주연구원NEW10유시민 홍준표 1슈퍼주니어 강인 성민 제외 9인 체제NEW2정소민 공명NEW3이하이 누구 없소NEW4라디오쇼 정은지NEW5미스트롯 콘서트 측NEW6가요광장 신성록NEW7문희준 소율NEW8런닝맨 자막 논란9신정환 근황NEW10권수현 아지트 급습NEW2019.06.03. 11:30 ~ 14:30 기준 도움말  '"
      ]
     },
     "execution_count": 189,
     "metadata": {},
     "output_type": "execute_result"
    }
   ],
   "source": [
    "news_topic.text"
   ]
  },
  {
   "cell_type": "code",
   "execution_count": 191,
   "metadata": {},
   "outputs": [
    {
     "data": {
      "text/plain": [
       "22"
      ]
     },
     "execution_count": 191,
     "metadata": {},
     "output_type": "execute_result"
    }
   ],
   "source": [
    "# li 찾기\n",
    "len(news_topic.find_all('li'))"
   ]
  },
  {
   "cell_type": "code",
   "execution_count": 193,
   "metadata": {},
   "outputs": [
    {
     "data": {
      "text/plain": [
       "2"
      ]
     },
     "execution_count": 193,
     "metadata": {},
     "output_type": "execute_result"
    }
   ],
   "source": [
    "ol_tags = news_topic.find_all('ol')\n",
    "len(ol_tags)"
   ]
  },
  {
   "cell_type": "code",
   "execution_count": 195,
   "metadata": {},
   "outputs": [],
   "source": [
    "news_ol, sports_ol= ol_tags"
   ]
  },
  {
   "cell_type": "markdown",
   "metadata": {},
   "source": [
    "### news_ol\n",
    "### . contents"
   ]
  },
  {
   "cell_type": "code",
   "execution_count": 200,
   "metadata": {},
   "outputs": [
    {
     "data": {
      "text/plain": [
       "[<li><a class=\"bx bx_item\" href=\"//search.naver.com/search.naver?where=nexearch&amp;sm=tab_htk.nws&amp;ie=utf8&amp;query=%EB%B6%88%EB%B2%95%ED%8F%90%EA%B8%B0%EB%AC%BC+%ED%8A%B9%EB%B3%84%EC%88%98%EC%82%AC%EB%8B%A8+%EB%B0%9C%EC%A1%B1\" onclick=\"return goOtherCR(this, 'a=htk.nwslist&amp;r=1&amp;i=&amp;u='+urlencode(urlexpand(this.href)));\"><span class=\"keyword\"><em class=\"num\">1</em><span class=\"tit\">불법폐기물 특별수사단 발족</span></span><em class=\"rank new\"><span class=\"spim\"></span><span>NEW</span></em></a></li>,\n",
       " <li><a class=\"bx bx_item\" href=\"//search.naver.com/search.naver?where=nexearch&amp;sm=tab_htk.nws&amp;ie=utf8&amp;query=%ED%95%9C%EC%84%A0%EA%B5%90+%EA%B8%B0%EC%9E%90%EB%93%A4+%ED%96%A5%ED%95%B4\" onclick=\"return goOtherCR(this, 'a=htk.nwslist&amp;r=2&amp;i=&amp;u='+urlencode(urlexpand(this.href)));\"><span class=\"keyword\"><em class=\"num\">2</em><span class=\"tit\">한선교 기자들 향해</span></span><em class=\"rank new\"><span class=\"spim\"></span><span>NEW</span></em></a></li>,\n",
       " <li><a class=\"bx bx_item\" href=\"//search.naver.com/search.naver?where=nexearch&amp;sm=tab_htk.nws&amp;ie=utf8&amp;query=%EA%B2%80%EC%B0%B0+%EC%BD%94%EC%98%A4%EB%A1%B1%EC%83%9D%EB%AA%85%EA%B3%BC%ED%95%99+%EC%95%95%EC%88%98%EC%88%98%EC%83%89\" onclick=\"return goOtherCR(this, 'a=htk.nwslist&amp;r=3&amp;i=&amp;u='+urlencode(urlexpand(this.href)));\"><span class=\"keyword\"><em class=\"num\">3</em><span class=\"tit\">검찰 코오롱생명과학 압수수색</span></span><em class=\"rank new\"><span class=\"spim\"></span><span>NEW</span></em></a></li>,\n",
       " <li><a class=\"bx bx_item\" href=\"//search.naver.com/search.naver?where=nexearch&amp;sm=tab_htk.nws&amp;ie=utf8&amp;query=%EA%B5%AD%EC%84%B8%EC%B2%AD+%EC%82%AC%EC%B9%AD\" onclick=\"return goOtherCR(this, 'a=htk.nwslist&amp;r=4&amp;i=&amp;u='+urlencode(urlexpand(this.href)));\"><span class=\"keyword\"><em class=\"num\">4</em><span class=\"tit\">국세청 사칭</span></span><em class=\"rank new\"><span class=\"spim\"></span><span>NEW</span></em></a></li>,\n",
       " <li><a class=\"bx bx_item\" href=\"//search.naver.com/search.naver?where=nexearch&amp;sm=tab_htk.nws&amp;ie=utf8&amp;query=%EB%8C%80%EC%9A%B0%EA%B1%B4%EC%84%A4+%EC%9D%84%EC%A7%80%EB%A1%9C%EC%8B%9C%EB%8C%80+%EA%B0%9C%EB%A7%89\" onclick=\"return goOtherCR(this, 'a=htk.nwslist&amp;r=5&amp;i=&amp;u='+urlencode(urlexpand(this.href)));\"><span class=\"keyword\"><em class=\"num\">5</em><span class=\"tit\">대우건설 을지로시대 개막</span></span><em class=\"rank new\"><span class=\"spim\"></span><span>NEW</span></em></a></li>,\n",
       " <li><a class=\"bx bx_item\" href=\"//search.naver.com/search.naver?where=nexearch&amp;sm=tab_htk.nws&amp;ie=utf8&amp;query=%EC%A0%95%EA%B2%BD%EB%91%90+%EA%B5%AD%EB%B0%A9\" onclick=\"return goOtherCR(this, 'a=htk.nwslist&amp;r=6&amp;i=&amp;u='+urlencode(urlexpand(this.href)));\"><span class=\"keyword\"><em class=\"num\">6</em><span class=\"tit\">정경두 국방</span></span><em class=\"rank new\"><span class=\"spim\"></span><span>NEW</span></em></a></li>,\n",
       " <li><a class=\"bx bx_item\" href=\"//search.naver.com/search.naver?where=nexearch&amp;sm=tab_htk.nws&amp;ie=utf8&amp;query=%EB%B0%98%EB%A0%A4%EA%B2%AC+%EC%88%98%EC%98%81%EB%8C%80%ED%9A%8C\" onclick=\"return goOtherCR(this, 'a=htk.nwslist&amp;r=7&amp;i=&amp;u='+urlencode(urlexpand(this.href)));\"><span class=\"keyword\"><em class=\"num\">7</em><span class=\"tit\">반려견 수영대회</span></span><em class=\"rank new\"><span class=\"spim\"></span><span>NEW</span></em></a></li>,\n",
       " <li><a class=\"bx bx_item\" href=\"//search.naver.com/search.naver?where=nexearch&amp;sm=tab_htk.nws&amp;ie=utf8&amp;query=%ED%95%9C%EB%AF%B8+%EA%B5%AD%EB%B0%A9%EC%9E%A5%EA%B4%80%ED%9A%8C%EB%8B%B4\" onclick=\"return goOtherCR(this, 'a=htk.nwslist&amp;r=8&amp;i=&amp;u='+urlencode(urlexpand(this.href)));\"><span class=\"keyword\"><em class=\"num\">8</em><span class=\"tit\">한미 국방장관회담</span></span><em class=\"rank new\"><span class=\"spim\"></span><span>NEW</span></em></a></li>,\n",
       " <li><a class=\"bx bx_item\" href=\"//search.naver.com/search.naver?where=nexearch&amp;sm=tab_htk.nws&amp;ie=utf8&amp;query=%EC%84%9C%EC%9A%B8%EC%97%B0%EA%B5%AC%EC%9B%90+%EB%AF%BC%EC%A3%BC%EC%97%B0%EA%B5%AC%EC%9B%90\" onclick=\"return goOtherCR(this, 'a=htk.nwslist&amp;r=9&amp;i=&amp;u='+urlencode(urlexpand(this.href)));\"><span class=\"keyword\"><em class=\"num\">9</em><span class=\"tit\">서울연구원 민주연구원</span></span><em class=\"rank new\"><span class=\"spim\"></span><span>NEW</span></em></a></li>,\n",
       " <li><a class=\"bx\" href=\"//search.naver.com/search.naver?where=nexearch&amp;sm=tab_htk.nws&amp;ie=utf8&amp;query=%EC%9C%A0%EC%8B%9C%EB%AF%BC+%ED%99%8D%EC%A4%80%ED%91%9C\" onclick=\"return goOtherCR(this, 'a=htk.nwslist&amp;r=10&amp;i=&amp;u='+urlencode(urlexpand(this.href)));\"><span class=\"keyword\"><em class=\"num\">10</em><span class=\"tit\">유시민 홍준표</span></span></a></li>]"
      ]
     },
     "execution_count": 200,
     "metadata": {},
     "output_type": "execute_result"
    }
   ],
   "source": [
    "news_ol.contents"
   ]
  },
  {
   "cell_type": "code",
   "execution_count": 201,
   "metadata": {},
   "outputs": [],
   "source": [
    "li_list=news_ol.contents"
   ]
  },
  {
   "cell_type": "code",
   "execution_count": 214,
   "metadata": {},
   "outputs": [
    {
     "name": "stdout",
     "output_type": "stream",
     "text": [
      "<span class=\"tit\">불법폐기물 특별수사단 발족</span>\n",
      "불법폐기물 특별수사단 발족\n"
     ]
    }
   ],
   "source": [
    "for item in li_list:\n",
    "    a_tag=item.find('a')\n",
    "#     print(item.contents[0])\n",
    "#     print(item.a)\n",
    "#     print(a_tag)\n",
    "#     print(\"-\"*10)\n",
    "#     print(a_tag.attrs['href'])\n",
    "    #a_tag['']\n",
    "#     print(a_tag.text)\n",
    "    span_tag=a_tag.find('span', class_=\"tit\")\n",
    "    print(span_tag)\n",
    "    span_text=span_tag.text\n",
    "    print(span_text)\n",
    "    break"
   ]
  },
  {
   "cell_type": "code",
   "execution_count": null,
   "metadata": {},
   "outputs": [],
   "source": []
  },
  {
   "cell_type": "code",
   "execution_count": null,
   "metadata": {},
   "outputs": [],
   "source": []
  }
 ],
 "metadata": {
  "kernelspec": {
   "display_name": "Python 3",
   "language": "python",
   "name": "python3"
  },
  "language_info": {
   "codemirror_mode": {
    "name": "ipython",
    "version": 3
   },
   "file_extension": ".py",
   "mimetype": "text/x-python",
   "name": "python",
   "nbconvert_exporter": "python",
   "pygments_lexer": "ipython3",
   "version": "3.7.3"
  }
 },
 "nbformat": 4,
 "nbformat_minor": 2
}
