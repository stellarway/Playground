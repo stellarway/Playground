{
 "cells": [
  {
   "cell_type": "code",
   "execution_count": 2,
   "metadata": {},
   "outputs": [],
   "source": [
    "import requests\n",
    "from bs4 import BeautifulSoup"
   ]
  },
  {
   "cell_type": "code",
   "execution_count": 3,
   "metadata": {},
   "outputs": [],
   "source": [
    "Surl='https://search.naver.com/search.naver'\n",
    "query=\"무역전쟁\"\n",
    "params={\n",
    "    'where': 'news',\n",
    "    'query': query,\n",
    "}\n",
    "\n"
   ]
  },
  {
   "cell_type": "code",
   "execution_count": 4,
   "metadata": {},
   "outputs": [
    {
     "data": {
      "text/plain": [
       "200"
      ]
     },
     "execution_count": 4,
     "metadata": {},
     "output_type": "execute_result"
    }
   ],
   "source": [
    "resp=requests.get(Surl, params=params)\n",
    "resp.status_code"
   ]
  },
  {
   "cell_type": "markdown",
   "metadata": {},
   "source": [
    "### soup 만들기"
   ]
  },
  {
   "cell_type": "code",
   "execution_count": 5,
   "metadata": {},
   "outputs": [],
   "source": [
    "soup = BeautifulSoup(resp.content, 'html.parser')"
   ]
  },
  {
   "cell_type": "code",
   "execution_count": 6,
   "metadata": {},
   "outputs": [],
   "source": [
    "ul_contents=soup.find('ul',class_='type01')"
   ]
  },
  {
   "cell_type": "code",
   "execution_count": 7,
   "metadata": {},
   "outputs": [
    {
     "data": {
      "text/plain": [
       "[' ',\n",
       " <li id=\"sp_nws1\"> <div class=\"thumb\"><a class=\"sp_thmb thmb80\" href=\"http://yna.kr/AKR20190604044000009?did=1195m\" onclick=\"return goOtherCR(this, 'a=nws*a.img&amp;r=1&amp;i=880000D8_000000000000000010867002&amp;g=001.0010867002&amp;u='+urlencode(this.href));\" target=\"_blank\"><img alt='美 \"무역협상 본질·경' class=\"\" height=\"80\" onerror=\"this.parentNode.style.display='none';\" src=\"https://search.pstatic.net/common/?src=https%3A%2F%2Fimgnews.pstatic.net%2Fimage%2Forigin%2F001%2F2019%2F06%2F04%2F10867002.jpg&amp;type=ofullfill80_80_q75_re2\" width=\"80\"/><span class=\"thmb_v\"></span></a></div> <dl> <dt><a class=\"_sp_each_title\" href=\"http://yna.kr/AKR20190604044000009?did=1195m\" onclick=\"return goOtherCR(this, 'a=nws*a.tit&amp;r=1&amp;i=880000D8_000000000000000010867002&amp;g=001.0010867002&amp;u='+urlencode(this.href));\" target=\"_blank\" title='美 \"무역협상 본질·경과 왜곡하는 중국 비난전에 실망\"'>美 \"<strong class=\"hl\">무역</strong>협상 본질·경과 왜곡하는 중국 비난전에 실망\"</a></dt> <dd class=\"txt_inline\"><span class=\"_sp_each_source\">연합뉴스</span> <span class=\"bar\"></span> 9시간 전 <span class=\"bar\"></span> <a class=\"_sp_each_url\" href=\"https://news.naver.com/main/read.nhn?mode=LSD&amp;mid=sec&amp;sid1=104&amp;oid=001&amp;aid=0010867002\" onclick=\"return goOtherCR(this, 'a=nws*a.nav&amp;r=1&amp;i=880000D8_000000000000000010867002&amp;u='+urlencode(this.href));\" target=\"_blank\">네이버뉴스</a> <div class=\"scial\" id=\"sp_nws1_base\"> <span class=\"bar\"></span> <a class=\"bt_scial2 naver-splugin\" data-oninitialize=\"splugin_oninitialize('sp_nws1');\" data-style=\"unity-v2\" href=\"#\" onclick=\"goOtherTCR(this, 'a=nws*a.pplugin&amp;r=1&amp;i=880000D8_000000000000000010867002&amp;u='+urlencode(this.href)); return false;\">보내기</a> </div> </dd> <dd>美USTR·재무부 공동성명 \"<strong class=\"hl\">무역전쟁</strong> 원인은 中 '기술도둑질' 따른 만성적자\" \"강제이행장치는 주권침해 아냐\"…갈등고조에 교착상태 심화 무역협상을 패권국의 횡포로 규정한 중국의 공식 입장에 대해 미국이 반박하고...</dd> <dd> <ul class=\"relation_lst\"> <li> <span class=\"ico_bu\"></span> <a href=\"http://news.kbs.co.kr/news/view.do?ncd=4214685&amp;ref=A\" onclick=\"return goOtherCR(this, 'a=nws*c.tit&amp;r=2&amp;i=88000114_000000000000000010708444&amp;g=056.0010708444&amp;u='+urlencode(this.href));\" target=\"_blank\" title=\"美 “무역협상 본질·경과 왜곡하는 중국 비난전에 실망”\">美 “<strong class=\"hl\">무역</strong>협상 본질·경과 왜곡하는 중국 비난전에 실망”</a> <span class=\"txt_sinfo\"> <span class=\"press\" title=\"KBS\">KBS</span> <span class=\"bar\"></span> 9시간 전 <span class=\"bar\"></span><a class=\"_sp_each_url\" href=\"https://news.naver.com/main/read.nhn?mode=LSD&amp;mid=sec&amp;sid1=104&amp;oid=056&amp;aid=0010708444\" onclick=\"return goOtherCR(this, 'a=nws*c.nav&amp;r=2&amp;i=88000114_000000000000000010708444&amp;u='+urlencode(this.href));\" target=\"_blank\">네이버뉴스</a> </span> </li> <li> <span class=\"ico_bu\"></span> <a href=\"https://www.ytn.co.kr/_ln/0104_201906041009013500\" onclick=\"return goOtherCR(this, 'a=nws*c.tit&amp;r=3&amp;i=880000AF_000000000000000001302945&amp;g=052.0001302945&amp;u='+urlencode(this.href));\" target=\"_blank\" title='美 \"무역협상 왜곡하는 中 비난전에 실망\"'>美 \"<strong class=\"hl\">무역</strong>협상 왜곡하는 中 비난전에 실망\"</a> <span class=\"txt_sinfo\"> <span class=\"press\" title=\"YTN\">YTN</span> <span class=\"bar\"></span> 9시간 전 <span class=\"bar\"></span><a class=\"_sp_each_url\" href=\"https://news.naver.com/main/read.nhn?mode=LSD&amp;mid=sec&amp;sid1=104&amp;oid=052&amp;aid=0001302945\" onclick=\"return goOtherCR(this, 'a=nws*c.nav&amp;r=3&amp;i=880000AF_000000000000000001302945&amp;u='+urlencode(this.href));\" target=\"_blank\">네이버뉴스</a> </span> </li> <li> <span class=\"ico_bu\"></span> <a href=\"http://www.dt.co.kr/contents.html?article_no=2019060402109957607010&amp;ref=naver\" onclick=\"return goOtherCR(this, 'a=nws*c.tit&amp;r=4&amp;i=880000AD_000000000000000002531451&amp;g=029.0002531451&amp;u='+urlencode(this.href));\" target=\"_blank\" title='美 `中 무역백서` 정면 반박 … \"비난전 추진에 실망\"'>美 `中 <strong class=\"hl\">무역</strong>백서` 정면 반박 … \"비난전 추진에 실망\"</a> <span class=\"txt_sinfo\"> <span class=\"press\" title=\"디지털타임스\">디지털타임스</span> <span class=\"bar\"></span> 7시간 전 <span class=\"bar\"></span><a class=\"_sp_each_url\" href=\"https://news.naver.com/main/read.nhn?mode=LSD&amp;mid=sec&amp;sid1=104&amp;oid=029&amp;aid=0002531451\" onclick=\"return goOtherCR(this, 'a=nws*c.nav&amp;r=4&amp;i=880000AD_000000000000000002531451&amp;u='+urlencode(this.href));\" target=\"_blank\">네이버뉴스</a> </span> </li> <li> <span class=\"ico_bu\"></span> <a href=\"http://www.fntimes.com/html/view.php?ud=201906040917479266711237d2fe_18\" onclick=\"return goOtherCR(this, 'a=nws*d.tit&amp;r=5&amp;i=88000405_000000000000000000154744&amp;g=5040.0000154744&amp;u='+urlencode(this.href));\" target=\"_blank\" title=\"美, 中백서에 첫 반응 “무역협상 본질 왜곡해 실망”(상보)\">美, 中백서에 첫 반응 “<strong class=\"hl\">무역</strong>협상 본질 왜곡해 실망”(상보)</a> <span class=\"txt_sinfo\"> <span class=\"press\" title=\"한국금융신문\">한국금융신문</span> <span class=\"bar\"></span> 9시간 전 </span> </li> </ul> <div class=\"newr_more\"> <a class=\"more_news\" href=\"#\" onclick=\"news_submit_related_option('0010010867002', 0, 'nws*r.more'); return false;\">관련뉴스 5건 전체보기</a> </div> </dd> </dl> </li>,\n",
       " ' ',\n",
       " <li id=\"sp_nws6\"> <div class=\"thumb\"><a class=\"sp_thmb thmb80\" href=\"http://news1.kr/articles/?3637847\" onclick=\"return goOtherCR(this, 'a=nws*a.img&amp;r=6&amp;i=08138263_000000000000000004023922&amp;g=421.0004023922&amp;u='+urlencode(this.href));\" target=\"_blank\"><img alt=\"“미중 무역전쟁 더욱\" class=\"\" height=\"80\" onerror=\"this.parentNode.style.display='none';\" src=\"https://search.pstatic.net/common/?src=https%3A%2F%2Fimgnews.pstatic.net%2Fimage%2Forigin%2F421%2F2019%2F06%2F04%2F4023922.jpg&amp;type=ofullfill80_80_q75_re2\" width=\"80\"/><span class=\"thmb_v\"></span></a></div> <dl> <dt><a class=\"_sp_each_title\" href=\"http://news1.kr/articles/?3637847\" onclick=\"return goOtherCR(this, 'a=nws*a.tit&amp;r=6&amp;i=08138263_000000000000000004023922&amp;g=421.0004023922&amp;u='+urlencode(this.href));\" target=\"_blank\" title=\"“미중 무역전쟁 더욱 격화될 것”- 골드만삭스\">“미중 <strong class=\"hl\">무역전쟁</strong> 더욱 격화될 것”- 골드만삭스</a></dt> <dd class=\"txt_inline\"><span class=\"_sp_each_source\">뉴스1</span> <span class=\"bar\"></span> 8시간 전 <span class=\"bar\"></span> <a class=\"_sp_each_url\" href=\"https://news.naver.com/main/read.nhn?mode=LSD&amp;mid=sec&amp;sid1=101&amp;oid=421&amp;aid=0004023922\" onclick=\"return goOtherCR(this, 'a=nws*a.nav&amp;r=6&amp;i=08138263_000000000000000004023922&amp;u='+urlencode(this.href));\" target=\"_blank\">네이버뉴스</a> <div class=\"scial\" id=\"sp_nws6_base\"> <span class=\"bar\"></span> <a class=\"bt_scial2 naver-splugin\" data-oninitialize=\"splugin_oninitialize('sp_nws6');\" data-style=\"unity-v2\" href=\"#\" onclick=\"goOtherTCR(this, 'a=nws*a.pplugin&amp;r=6&amp;i=08138263_000000000000000004023922&amp;u='+urlencode(this.href)); return false;\">보내기</a> </div> </dd> <dd>세계 최고의 투자은행인 골드만삭스가 미중 <strong class=\"hl\">무역전쟁</strong>이 더욱 격화될 것이라고 예상했다고 미국의 CNBC가 4일 보도했다. 골드만삭스는 전일 보고서를 내고 미국이 중국의 나머지 3000억 달러에 대한 관세를 10% 부과할...</dd> <dd> <ul class=\"relation_lst\"> <li> <span class=\"ico_bu\"></span> <a href=\"http://news.einfomax.co.kr/news/articleView.html?idxno=4032974\" onclick=\"return goOtherCR(this, 'a=nws*d.tit&amp;r=7&amp;i=88131147_000000000000000000312980&amp;g=5227.0000312980&amp;u='+urlencode(this.href));\" target=\"_blank\" title='골드만 \"미국, 對중국·멕시코 무역전쟁 확전 가능성↑\"'>골드만 \"미국, 對중국·멕시코 <strong class=\"hl\">무역전쟁</strong> 확전 가능성↑\"</a> <span class=\"txt_sinfo\"> <span class=\"press\" title=\"연합인포맥스\">연합인포맥스</span> <span class=\"bar\"></span> 11시간 전 </span> </li> <li> <span class=\"ico_bu\"></span> <a href=\"http://www.newsis.com/view/?id=NISX20190604_0000671191&amp;cID=10101&amp;pID=10100\" onclick=\"return goOtherCR(this, 'a=nws*c.tit&amp;r=8&amp;i=88000127_000000000000000009267633&amp;g=003.0009267633&amp;u='+urlencode(this.href));\" target=\"_blank\" title='골드만삭스 \"美, 글로벌 무역전쟁 확전 가능성 상승\"'>골드만삭스 \"美, 글로벌 <strong class=\"hl\">무역전쟁</strong> 확전 가능성 상승\"</a> <span class=\"txt_sinfo\"> <span class=\"press\" title=\"뉴시스\">뉴시스</span> <span class=\"bar\"></span> 8시간 전 <span class=\"bar\"></span><a class=\"_sp_each_url\" href=\"https://news.naver.com/main/read.nhn?mode=LSD&amp;mid=sec&amp;sid1=104&amp;oid=003&amp;aid=0009267633\" onclick=\"return goOtherCR(this, 'a=nws*c.nav&amp;r=8&amp;i=88000127_000000000000000009267633&amp;u='+urlencode(this.href));\" target=\"_blank\">네이버뉴스</a> </span> </li> <li> <span class=\"ico_bu\"></span> <a href=\"http://jedam15.koreafree.co.kr/news/view.html?section=1&amp;category=136&amp;item=&amp;no=53421\" onclick=\"return goOtherCR(this, 'a=nws*d.tit&amp;r=9&amp;i=8811BEF6_000000000000000000069925&amp;g=5147.0000069925&amp;u='+urlencode(this.href));\" target=\"_blank\" title='골드만삭스 \"미, 글로벌 무역전쟁 확전 가능성 상승\"'>골드만삭스 \"미, 글로벌 <strong class=\"hl\">무역전쟁</strong> 확전 가능성 상승\"</a> <span class=\"txt_sinfo\"> <span class=\"press\" title=\"한국무역신문\">한국무역신문</span> <span class=\"bar\"></span> 7시간 전 </span> </li> <li> <span class=\"ico_bu\"></span> <a href=\"http://www.ekn.kr/news/article.html?no=435816\" onclick=\"return goOtherCR(this, 'a=nws*d.tit&amp;r=10&amp;i=88102504_000000000000000000338808&amp;g=5133.0000338808&amp;u='+urlencode(this.href));\" target=\"_blank\" title=\"'갈등 국면' 미중 무역협상...무역전쟁 확대시 9개월 내 '경기 침체'\">'갈등 국면' 미중 무역협상...<strong class=\"hl\">무역전쟁</strong> 확대시 9개월 내 '경기 침체'</a> <span class=\"txt_sinfo\"> <span class=\"press\" title=\"에너지경제\">에너지경제</span> <span class=\"bar\"></span> 6시간 전 </span> </li> </ul> <div class=\"newr_more\"> <a class=\"more_news\" href=\"#\" onclick=\"news_submit_related_option('4210004023922', 0, 'nws*r.more'); return false;\">관련뉴스 5건 전체보기</a> </div> </dd> </dl> </li>,\n",
       " ' ',\n",
       " <li id=\"sp_nws11\"> <dl> <dt><a class=\"_sp_each_title\" href=\"http://news.khan.co.kr/kh_news/khan_art_view.html?artid=201906041538001&amp;code=910302\" onclick=\"return goOtherCR(this, 'a=nws*j.tit&amp;r=11&amp;i=8800006B_000000000000000002943944&amp;g=032.0002943944&amp;u='+urlencode(this.href));\" target=\"_blank\" title='중국 당국자 \"미·중 무역 갈등서 한국이 올바른 판단해야\"'>중국 당국자 \"미·중 <strong class=\"hl\">무역</strong> 갈등서 한국이 올바른 판단해야\"</a></dt> <dd class=\"txt_inline\"><span class=\"_sp_each_source\">경향신문<i class=\"sprenew api_ico_pick\">언론사 선정</i></span> <span class=\"bar\"></span> 3시간 전 <span class=\"bar\"></span> <a class=\"_sp_each_url\" href=\"https://news.naver.com/main/read.nhn?mode=LSD&amp;mid=sec&amp;sid1=100&amp;oid=032&amp;aid=0002943944\" onclick=\"return goOtherCR(this, 'a=nws*j.nav&amp;r=11&amp;i=8800006B_000000000000000002943944&amp;u='+urlencode(this.href));\" target=\"_blank\">네이버뉴스</a> <div class=\"scial\" id=\"sp_nws11_base\"> <span class=\"bar\"></span> <a class=\"bt_scial2 naver-splugin\" data-oninitialize=\"splugin_oninitialize('sp_nws11');\" data-style=\"unity-v2\" href=\"#\" onclick=\"goOtherTCR(this, 'a=nws*j.pplugin&amp;r=11&amp;i=8800006B_000000000000000002943944&amp;u='+urlencode(this.href)); return false;\">보내기</a> </div> </dd> <dd>미·중 <strong class=\"hl\">무역 전쟁</strong> 격화로 미·중 사이에서 한국의 외교적 어려움이 가중되고 있는 것과 관련해 중국 외교부 당국자가 한국 정부에게 “올바른 판단을 해야 한다”고 언급했다. 이 당국자는 지난달 28일 중국 외교부를 방문한...</dd> </dl> </li>,\n",
       " ' ',\n",
       " <li id=\"sp_nws12\"> <div class=\"thumb\"><a class=\"sp_thmb thmb80\" href=\"http://www.nexte.co.kr/news/article.html?id=20190604400001\" onclick=\"return goOtherCR(this, 'a=nws*b.img&amp;r=12&amp;i=8819406f_000000000000000000000094&amp;g=5730.0000000094&amp;u='+urlencode(this.href));\" target=\"_blank\"><img alt=\"트럼프, 무역전쟁 다음\" class=\"\" height=\"80\" onerror=\"this.parentNode.style.display='none';\" src=\"https://search.pstatic.net/common/?src=https%3A%2F%2Fimgnews.pstatic.net%2Fimage%2Forigin%2F5730%2F2019%2F06%2F04%2F94.jpg&amp;type=ofullfill80_80_q75_re2\" width=\"80\"/><span class=\"thmb_v\"></span></a></div> <dl> <dt><a class=\"_sp_each_url _sp_each_title\" href=\"http://www.nexte.co.kr/news/article.html?id=20190604400001\" onclick=\"return goOtherCR(this, 'a=nws*b.tit&amp;r=12&amp;i=8819406f_000000000000000000000094&amp;g=5730.0000000094&amp;u='+urlencode(this.href));\" target=\"_blank\" title=\"트럼프, 무역전쟁 다음 타깃으로 ‘중국 유학생들’ 선정\">트럼프, <strong class=\"hl\">무역전쟁</strong> 다음 타깃으로 ‘중국 유학생들’ 선정</a></dt> <dd class=\"txt_inline\"><span class=\"_sp_each_source\">넥스트경제</span> <span class=\"bar\"></span> 5시간 전 <div class=\"scial\" id=\"sp_nws12_base\"> <span class=\"bar\"></span> <a class=\"bt_scial2 naver-splugin\" data-oninitialize=\"splugin_oninitialize('sp_nws12');\" data-style=\"unity-v2\" href=\"#\" onclick=\"goOtherTCR(this, 'a=nws*b.pplugin&amp;r=12&amp;i=8819406f_000000000000000000000094&amp;u='+urlencode(this.href)); return false;\">보내기</a> </div> </dd> <dd>도널드 트럼프 미국 대통령의 대중 <strong class=\"hl\">무역전쟁</strong> 다음 타깃은 미국 명문대학에 유학 중인 중국 유학생들이라고 미국의 블룸버그통신이 3일(현지시간) 보도했다. <strong class=\"hl\">무역전쟁</strong>에 이어 화웨이를 둘러싸고 중국과 기술 전쟁을 벌이고...</dd> <dd> <ul class=\"relation_lst\"> <li> <span class=\"ico_bu\"></span> <a href=\"http://news1.kr/articles/?3637553\" onclick=\"return goOtherCR(this, 'a=nws*c.tit&amp;r=13&amp;i=08138263_000000000000000004023359&amp;g=421.0004023359&amp;u='+urlencode(this.href));\" target=\"_blank\" title=\"무역전쟁, 트럼프 다음 타깃은 중국 유학생들\"><strong class=\"hl\">무역전쟁</strong>, 트럼프 다음 타깃은 중국 유학생들</a> <span class=\"txt_sinfo\"> <span class=\"press\" title=\"뉴스1\">뉴스1</span> <span class=\"bar\"></span> 10시간 전 <span class=\"bar\"></span><a class=\"\" href=\"https://news.naver.com/main/read.nhn?mode=LSD&amp;mid=sec&amp;sid1=101&amp;oid=421&amp;aid=0004023359\" onclick=\"return goOtherCR(this, 'a=nws*c.nav&amp;r=13&amp;i=08138263_000000000000000004023359&amp;u='+urlencode(this.href));\" target=\"_blank\">네이버뉴스</a> </span> </li> <li> <span class=\"ico_bu\"></span> <a href=\"http://news.heraldcorp.com/view.php?ud=20190604000573\" onclick=\"return goOtherCR(this, 'a=nws*c.tit&amp;r=14&amp;i=8800010E_000000000000000001543021&amp;g=016.0001543021&amp;u='+urlencode(this.href));\" target=\"_blank\" title=\"美ㆍ中 무역전쟁, 트럼프 다음 타깃은 中유학생?\">美ㆍ中 <strong class=\"hl\">무역전쟁</strong>, 트럼프 다음 타깃은 中유학생?</a> <span class=\"txt_sinfo\"> <span class=\"press\" title=\"헤럴드경제\">헤럴드경제</span> <span class=\"bar\"></span> 4시간 전 <span class=\"bar\"></span><a class=\"\" href=\"https://news.naver.com/main/read.nhn?mode=LSD&amp;mid=sec&amp;sid1=104&amp;oid=016&amp;aid=0001543021\" onclick=\"return goOtherCR(this, 'a=nws*c.nav&amp;r=14&amp;i=8800010E_000000000000000001543021&amp;u='+urlencode(this.href));\" target=\"_blank\">네이버뉴스</a> </span> </li> </ul> </dd> </dl> </li>,\n",
       " ' ',\n",
       " <li id=\"sp_nws15\"> <div class=\"thumb\"><a class=\"sp_thmb thmb80\" href=\"http://www.fnnews.com/news/201906041744320943\" onclick=\"return goOtherCR(this, 'a=nws*j.img&amp;r=15&amp;i=880000FF_000000000000000004239864&amp;g=014.0004239864&amp;u='+urlencode(this.href));\" target=\"_blank\"><img alt=\"무역전쟁에 신흥시장 \" class=\"\" height=\"80\" onerror=\"this.parentNode.style.display='none';\" src=\"https://search.pstatic.net/common/?src=https%3A%2F%2Fimgnews.pstatic.net%2Fimage%2Forigin%2F014%2F2019%2F06%2F04%2F4239864.jpg&amp;type=ofullfill80_80_q75_re2\" width=\"80\"/><span class=\"thmb_v\"></span></a></div> <dl> <dt><a class=\"_sp_each_title\" href=\"http://www.fnnews.com/news/201906041744320943\" onclick=\"return goOtherCR(this, 'a=nws*j.tit&amp;r=15&amp;i=880000FF_000000000000000004239864&amp;g=014.0004239864&amp;u='+urlencode(this.href));\" target=\"_blank\" title=\"무역전쟁에 신흥시장 '머니 엑소더스' 주식·통화 출렁\"><strong class=\"hl\">무역전쟁</strong>에 신흥시장 '머니 엑소더스' 주식·통화 출렁</a></dt> <dd class=\"txt_inline\"><span class=\"_sp_each_source\">파이낸셜뉴스<i class=\"sprenew api_ico_pick\">언론사 선정</i></span> <span class=\"bar\"></span> <span class=\"newspaper\">2면1단</span> <span class=\"bar\"></span> 1시간 전 <span class=\"bar\"></span> <a class=\"_sp_each_url\" href=\"https://news.naver.com/main/read.nhn?mode=LSD&amp;mid=sec&amp;sid1=101&amp;oid=014&amp;aid=0004239864\" onclick=\"return goOtherCR(this, 'a=nws*j.nav&amp;r=15&amp;i=880000FF_000000000000000004239864&amp;u='+urlencode(this.href));\" target=\"_blank\">네이버뉴스</a> <div class=\"scial\" id=\"sp_nws15_base\"> <span class=\"bar\"></span> <a class=\"bt_scial2 naver-splugin\" data-oninitialize=\"splugin_oninitialize('sp_nws15');\" data-style=\"unity-v2\" href=\"#\" onclick=\"goOtherTCR(this, 'a=nws*j.pplugin&amp;r=15&amp;i=880000FF_000000000000000004239864&amp;u='+urlencode(this.href)); return false;\">보내기</a> </div> </dd> <dd>도널드 트럼프 미국 대통령의 <strong class=\"hl\">무역전쟁</strong>이 지난달 본격적으로 재개되면서 신흥시장에서 자금이 썰물 빠지듯 빠지고 있다. 트럼프 대통령이 멕시코에 관세를 물리겠다고 협박하는 등 잠잠하던 <strong class=\"hl\">무역전쟁</strong> 수위를...</dd> </dl> </li>,\n",
       " ' ',\n",
       " <li id=\"sp_nws16\"> <div class=\"thumb\"><a class=\"sp_thmb thmb80\" href=\"https://news.joins.com/article/olink/23080447\" onclick=\"return goOtherCR(this, 'a=nws*j.img&amp;r=16&amp;i=880000F2_000000000000000002912097&amp;g=025.0002912097&amp;u='+urlencode(this.href));\" target=\"_blank\"><img alt='中 \"韓, 무역전쟁 올바' class=\"\" height=\"80\" onerror=\"this.parentNode.style.display='none';\" src=\"https://search.pstatic.net/common/?src=https%3A%2F%2Fimgnews.pstatic.net%2Fimage%2Forigin%2F025%2F2019%2F06%2F04%2F2912097.jpg&amp;type=ofullfill80_80_q75_re2\" width=\"80\"/><span class=\"thmb_v\"></span></a></div> <dl> <dt><a class=\"_sp_each_title\" href=\"https://news.joins.com/article/olink/23080447\" onclick=\"return goOtherCR(this, 'a=nws*j.tit&amp;r=16&amp;i=880000F2_000000000000000002912097&amp;g=025.0002912097&amp;u='+urlencode(this.href));\" target=\"_blank\" title='中 \"韓, 무역전쟁 올바른 판단해라\" 사드까지 언급하며 협박'>中 \"韓, <strong class=\"hl\">무역전쟁</strong> 올바른 판단해라\" 사드까지 언급하며 협박</a></dt> <dd class=\"txt_inline\"><span class=\"_sp_each_source\">중앙일보<i class=\"sprenew api_ico_pick\">언론사 선정</i></span> <span class=\"bar\"></span> 4시간 전 <span class=\"bar\"></span> <a class=\"_sp_each_url\" href=\"https://news.naver.com/main/read.nhn?mode=LSD&amp;mid=sec&amp;sid1=104&amp;oid=025&amp;aid=0002912097\" onclick=\"return goOtherCR(this, 'a=nws*j.nav&amp;r=16&amp;i=880000F2_000000000000000002912097&amp;u='+urlencode(this.href));\" target=\"_blank\">네이버뉴스</a> <div class=\"scial\" id=\"sp_nws16_base\"> <span class=\"bar\"></span> <a class=\"bt_scial2 naver-splugin\" data-oninitialize=\"splugin_oninitialize('sp_nws16');\" data-style=\"unity-v2\" href=\"#\" onclick=\"goOtherTCR(this, 'a=nws*j.pplugin&amp;r=16&amp;i=880000F2_000000000000000002912097&amp;u='+urlencode(this.href)); return false;\">보내기</a> </div> </dd> <dd>미·중 <strong class=\"hl\">무역</strong>분쟁이 심화하는 가운데 중국 외교부 당국자가 \"한국 정부와 기업이 옳은 것을 판단해야 한다\"고 발언했다. 미국이 화웨이 퇴출 전선에 한국을 비롯한 동맹국들의 참여를 독려하는 등 미·중 <strong class=\"hl\">무역</strong>분쟁이...</dd> </dl> </li>,\n",
       " ' ',\n",
       " <li id=\"sp_nws17\"> <dl> <dt><a class=\"_sp_each_title\" href=\"https://view.asiae.co.kr/news/view.htm?idxno=2019060414083943870\" onclick=\"return goOtherCR(this, 'a=nws*j.tit&amp;r=17&amp;i=88000385_000000000000000004478900&amp;g=277.0004478900&amp;u='+urlencode(this.href));\" target=\"_blank\" title='中 \"韓, 미·중 무역갈등 올바른 판단해야\"'>中 \"韓, 미·중 <strong class=\"hl\">무역</strong>갈등 올바른 판단해야\"</a></dt> <dd class=\"txt_inline\"><span class=\"_sp_each_source\">아시아경제<i class=\"sprenew api_ico_pick\">언론사 선정</i></span> <span class=\"bar\"></span> 5시간 전 <span class=\"bar\"></span> <a class=\"_sp_each_url\" href=\"https://news.naver.com/main/read.nhn?mode=LSD&amp;mid=sec&amp;sid1=100&amp;oid=277&amp;aid=0004478900\" onclick=\"return goOtherCR(this, 'a=nws*j.nav&amp;r=17&amp;i=88000385_000000000000000004478900&amp;u='+urlencode(this.href));\" target=\"_blank\">네이버뉴스</a> <div class=\"scial\" id=\"sp_nws17_base\"> <span class=\"bar\"></span> <a class=\"bt_scial2 naver-splugin\" data-oninitialize=\"splugin_oninitialize('sp_nws17');\" data-style=\"unity-v2\" href=\"#\" onclick=\"goOtherTCR(this, 'a=nws*j.pplugin&amp;r=17&amp;i=88000385_000000000000000004478900&amp;u='+urlencode(this.href)); return false;\">보내기</a> </div> </dd> <dd>미·중 <strong class=\"hl\">무역 전쟁</strong>와 과정에서 미국 정부가 주도하고 있는 중국 통신장비 업체 화웨이에 대한 제재에 한국 정부와 기업의 동참하는 것을 경계하려는 의도로 해석된다. 이 당국자는 \"한국 정부에서 올바른 판단을 해야 한다....</dd> </dl> </li>,\n",
       " ' ',\n",
       " <li id=\"sp_nws18\"> <div class=\"thumb\"><a class=\"sp_thmb thmb80\" href=\"http://www.newspim.com/news/view/20190604000896\" onclick=\"return goOtherCR(this, 'a=nws*f.img&amp;r=18&amp;i=88000394_000000000000000001231687&amp;g=5002.0001231687&amp;u='+urlencode(this.href));\" target=\"_blank\"><img alt=\"김영주 무역협회장 “\" class=\"\" height=\"80\" onerror=\"this.parentNode.style.display='none';\" src=\"https://search.pstatic.net/common/?src=https%3A%2F%2Fimgnews.pstatic.net%2Fimage%2Forigin%2F5002%2F2019%2F06%2F04%2F1231687.jpg&amp;type=ofullfill80_80_q75_re2\" width=\"80\"/><span class=\"thmb_v\"></span></a></div> <dl> <dt><a class=\"_sp_each_url _sp_each_title\" href=\"http://www.newspim.com/news/view/20190604000896\" onclick=\"return goOtherCR(this, 'a=nws*f.tit&amp;r=18&amp;i=88000394_000000000000000001231687&amp;g=5002.0001231687&amp;u='+urlencode(this.href));\" target=\"_blank\" title=\"김영주 무역협회장 “특기 살려 스타트업의 해외진출 지원”\">김영주 <strong class=\"hl\">무역</strong>협회장 “특기 살려 스타트업의 해외진출 지원”</a></dt> <dd class=\"txt_inline\"><span class=\"_sp_each_source\">뉴스핌</span> <span class=\"bar\"></span> 3시간 전 <div class=\"scial\" id=\"sp_nws18_base\"> <span class=\"bar\"></span> <a class=\"bt_scial2 naver-splugin\" data-oninitialize=\"splugin_oninitialize('sp_nws18');\" data-style=\"unity-v2\" href=\"#\" onclick=\"goOtherTCR(this, 'a=nws*f.pplugin&amp;r=18&amp;i=88000394_000000000000000001231687&amp;u='+urlencode(this.href)); return false;\">보내기</a> </div> </dd> <dd>한편 이날 기자간담회에서는 미중 <strong class=\"hl\">무역전쟁</strong> 등 최근 통상현안과 관련, 무역협회의 계획에 대한 이야기도 나왔다. 김 회장은 “국제 무역질서가 예전과 달라지고 전망이 불투명해 수출역량을 기르기 어려워진 상황에서...</dd> </dl> </li>,\n",
       " ' ',\n",
       " <li id=\"sp_nws19\"> <dl> <dt><a class=\"_sp_each_url _sp_each_title\" href=\"http://news.einfomax.co.kr/news/articleView.html?idxno=4033081\" onclick=\"return goOtherCR(this, 'a=nws*f.tit&amp;r=19&amp;i=88131147_000000000000000000313087&amp;g=5227.0000313087&amp;u='+urlencode(this.href));\" target=\"_blank\" title='노무라 \"美·中 무역전쟁의 최대 승자는 베트남\"'>노무라 \"美·中 <strong class=\"hl\">무역전쟁</strong>의 최대 승자는 베트남\"</a></dt> <dd class=\"txt_inline\"><span class=\"_sp_each_source\">연합인포맥스</span> <span class=\"bar\"></span> 5시간 전 <div class=\"scial\" id=\"sp_nws19_base\"> <span class=\"bar\"></span> <a class=\"bt_scial2 naver-splugin\" data-oninitialize=\"splugin_oninitialize('sp_nws19');\" data-style=\"unity-v2\" href=\"#\" onclick=\"goOtherTCR(this, 'a=nws*f.pplugin&amp;r=19&amp;i=88131147_000000000000000000313087&amp;u='+urlencode(this.href)); return false;\">보내기</a> </div> </dd> <dd>미국과 중국의 <strong class=\"hl\">무역전쟁</strong>에서 최대 승자는 베트남이라는 관측이 제기됐다. 노무라는 4일 다우존스를 통해 \"미국과 중국 간 무역 긴장이 고조된 지난 1년 사이 양 국가 간의 관세 품목 1천981개 가운데 절반 이상에서 수입...</dd> </dl> </li>,\n",
       " ' ',\n",
       " <li id=\"sp_nws20\"> <div class=\"thumb\"><a class=\"sp_thmb thmb80\" href=\"http://news.wowtv.co.kr/NewsCenter/News/Read?articleId=A201906040430&amp;t=NN\" onclick=\"return goOtherCR(this, 'a=nws*e.img&amp;r=20&amp;i=88000149_000000000000000000778885&amp;g=215.0000778885&amp;u='+urlencode(this.href));\" target=\"_blank\"><img alt='노무라 \"美-中 무역전' class=\"\" height=\"80\" onerror=\"this.parentNode.style.display='none';\" src=\"https://search.pstatic.net/common/?src=https%3A%2F%2Fimgnews.pstatic.net%2Fimage%2Forigin%2F215%2F2019%2F06%2F04%2F778885.jpg&amp;type=ofullfill80_80_q75_re2\" width=\"80\"/><span class=\"thmb_v\"></span></a></div> <dl> <dt><a class=\"_sp_each_title\" href=\"http://news.wowtv.co.kr/NewsCenter/News/Read?articleId=A201906040430&amp;t=NN\" onclick=\"return goOtherCR(this, 'a=nws*e.tit&amp;r=20&amp;i=88000149_000000000000000000778885&amp;g=215.0000778885&amp;u='+urlencode(this.href));\" target=\"_blank\" title='노무라 \"美-中 무역전쟁의 최대 승자는 베트남\"'>노무라 \"美-中 <strong class=\"hl\">무역전쟁</strong>의 최대 승자는 베트남\"</a></dt> <dd class=\"txt_inline\"><span class=\"_sp_each_source\">한국경제TV</span> <span class=\"bar\"></span> 3시간 전 <span class=\"bar\"></span> <a class=\"_sp_each_url\" href=\"https://news.naver.com/main/read.nhn?mode=LSD&amp;mid=sec&amp;sid1=004&amp;oid=215&amp;aid=0000778885\" onclick=\"return goOtherCR(this, 'a=nws*e.nav&amp;r=20&amp;i=88000149_000000000000000000778885&amp;u='+urlencode(this.href));\" target=\"_blank\">네이버뉴스</a> <div class=\"scial\" id=\"sp_nws20_base\"> <span class=\"bar\"></span> <a class=\"bt_scial2 naver-splugin\" data-oninitialize=\"splugin_oninitialize('sp_nws20');\" data-style=\"unity-v2\" href=\"#\" onclick=\"goOtherTCR(this, 'a=nws*e.pplugin&amp;r=20&amp;i=88000149_000000000000000000778885&amp;u='+urlencode(this.href)); return false;\">보내기</a> </div> </dd> <dd>미국과 중국의 <strong class=\"hl\">무역전쟁</strong>에서 최대 승자는 베트남이라는 관측이 제기됐다. 노무라는 4일 다우존스를 통해 \"미국과 중국 간 무역 긴장이 고조된 지난 1년 사이 양 국가 간의 관세 품목 1천981개 가운데 절반 이상에서...</dd> </dl> </li>,\n",
       " ' ']"
      ]
     },
     "execution_count": 7,
     "metadata": {},
     "output_type": "execute_result"
    }
   ],
   "source": [
    "ul_contents.contents"
   ]
  },
  {
   "cell_type": "code",
   "execution_count": 8,
   "metadata": {},
   "outputs": [],
   "source": [
    "new_ul=[]\n",
    "for content in ul_contents.contents:\n",
    "    if not str(content).strip():\n",
    "        continue\n",
    "    new_ul.append(content)\n",
    "    "
   ]
  },
  {
   "cell_type": "code",
   "execution_count": 9,
   "metadata": {},
   "outputs": [
    {
     "name": "stdout",
     "output_type": "stream",
     "text": [
      "[{'link': 'http://yna.kr/AKR20190604044000009?did=1195m', 'title': '美 \"무역협상 본질·경과 왜곡하는 중국 비난전에 실망\"', 'company': '연합뉴스', 'script': '美USTR·재무부 공동성명 \"무역전쟁 원인은 中 \\'기술도둑질\\' 따른 만성적자\" \"강제이행장치는 주권침해 아냐\"…갈등고조에 교착상태 심화 무역협상을 패권국의 횡포로 규정한 중국의 공식 입장에 대해 미국이 반박하고...'}, {'link': 'http://news1.kr/articles/?3637847', 'title': '“미중 무역전쟁 더욱 격화될 것”- 골드만삭스', 'company': '뉴스1', 'script': '세계 최고의 투자은행인 골드만삭스가 미중 무역전쟁이 더욱 격화될 것이라고 예상했다고 미국의 CNBC가 4일 보도했다. 골드만삭스는 전일 보고서를 내고 미국이 중국의 나머지 3000억 달러에 대한 관세를 10% 부과할...'}, {'link': 'http://news.khan.co.kr/kh_news/khan_art_view.html?artid=201906041538001&code=910302', 'title': '중국 당국자 \"미·중 무역 갈등서 한국이 올바른 판단해야\"', 'company': '경향신문', 'script': '미·중 무역 전쟁 격화로 미·중 사이에서 한국의 외교적 어려움이 가중되고 있는 것과 관련해 중국 외교부 당국자가 한국 정부에게 “올바른 판단을 해야 한다”고 언급했다. 이 당국자는 지난달 28일 중국 외교부를 방문한...'}, {'link': 'http://www.nexte.co.kr/news/article.html?id=20190604400001', 'title': '트럼프, 무역전쟁 다음 타깃으로 ‘중국 유학생들’ 선정', 'company': '넥스트경제', 'script': '도널드 트럼프 미국 대통령의 대중 무역전쟁 다음 타깃은 미국 명문대학에 유학 중인 중국 유학생들이라고 미국의 블룸버그통신이 3일(현지시간) 보도했다. 무역전쟁에 이어 화웨이를 둘러싸고 중국과 기술 전쟁을 벌이고...'}, {'link': 'http://www.fnnews.com/news/201906041744320943', 'title': \"무역전쟁에 신흥시장 '머니 엑소더스' 주식·통화 출렁\", 'company': '파이낸셜뉴스', 'script': '도널드 트럼프 미국 대통령의 무역전쟁이 지난달 본격적으로 재개되면서 신흥시장에서 자금이 썰물 빠지듯 빠지고 있다. 트럼프 대통령이 멕시코에 관세를 물리겠다고 협박하는 등 잠잠하던 무역전쟁 수위를...'}, {'link': 'https://news.joins.com/article/olink/23080447', 'title': '中 \"韓, 무역전쟁 올바른 판단해라\" 사드까지 언급하며 협박', 'company': '중앙일보', 'script': '미·중 무역분쟁이 심화하는 가운데 중국 외교부 당국자가 \"한국 정부와 기업이 옳은 것을 판단해야 한다\"고 발언했다. 미국이 화웨이 퇴출 전선에 한국을 비롯한 동맹국들의 참여를 독려하는 등 미·중 무역분쟁이...'}, {'link': 'https://view.asiae.co.kr/news/view.htm?idxno=2019060414083943870', 'title': '中 \"韓, 미·중 무역갈등 올바른 판단해야\"', 'company': '아시아경제', 'script': '미·중 무역 전쟁와 과정에서 미국 정부가 주도하고 있는 중국 통신장비 업체 화웨이에 대한 제재에 한국 정부와 기업의 동참하는 것을 경계하려는 의도로 해석된다. 이 당국자는 \"한국 정부에서 올바른 판단을 해야 한다....'}, {'link': 'http://www.newspim.com/news/view/20190604000896', 'title': '김영주 무역협회장 “특기 살려 스타트업의 해외진출 지원”', 'company': '뉴스핌', 'script': '한편 이날 기자간담회에서는 미중 무역전쟁 등 최근 통상현안과 관련, 무역협회의 계획에 대한 이야기도 나왔다. 김 회장은 “국제 무역질서가 예전과 달라지고 전망이 불투명해 수출역량을 기르기 어려워진 상황에서...'}, {'link': 'http://news.einfomax.co.kr/news/articleView.html?idxno=4033081', 'title': '노무라 \"美·中 무역전쟁의 최대 승자는 베트남\"', 'company': '연합인포맥스', 'script': '미국과 중국의 무역전쟁에서 최대 승자는 베트남이라는 관측이 제기됐다. 노무라는 4일 다우존스를 통해 \"미국과 중국 간 무역 긴장이 고조된 지난 1년 사이 양 국가 간의 관세 품목 1천981개 가운데 절반 이상에서 수입...'}, {'link': 'http://news.wowtv.co.kr/NewsCenter/News/Read?articleId=A201906040430&t=NN', 'title': '노무라 \"美-中 무역전쟁의 최대 승자는 베트남\"', 'company': '한국경제TV', 'script': '미국과 중국의 무역전쟁에서 최대 승자는 베트남이라는 관측이 제기됐다. 노무라는 4일 다우존스를 통해 \"미국과 중국 간 무역 긴장이 고조된 지난 1년 사이 양 국가 간의 관세 품목 1천981개 가운데 절반 이상에서...'}]\n"
     ]
    }
   ],
   "source": [
    "news_list=[]\n",
    "\n",
    "for li in new_ul:\n",
    "    news_dict={}\n",
    "    a_tag=li.find('dl').find('dt').find('a')\n",
    "    news_dict['link']=a_tag['href']\n",
    "    news_dict['title']=a_tag.text\n",
    "    \n",
    "    b_tag=li.find('dl').find('dd').find('span')\n",
    "    news_dict['company']=b_tag.contents[0]\n",
    " \n",
    "\n",
    "    \n",
    "    c_tag=b_tag.find_next('dd')\n",
    "\n",
    "    news_dict['script']=c_tag.text\n",
    "     \n",
    "    news_list.append(news_dict)\n",
    "print(news_list)"
   ]
  },
  {
   "cell_type": "code",
   "execution_count": 10,
   "metadata": {
    "scrolled": false
   },
   "outputs": [
    {
     "name": "stdout",
     "output_type": "stream",
     "text": [
      "[{'company': '연합뉴스',\n",
      "  'link': 'http://yna.kr/AKR20190604044000009?did=1195m',\n",
      "  'script': '美USTR·재무부 공동성명 \"무역전쟁 원인은 中 \\'기술도둑질\\' 따른 만성적자\" \"강제이행장치는 주권침해 '\n",
      "            '아냐\"…갈등고조에 교착상태 심화 무역협상을 패권국의 횡포로 규정한 중국의 공식 입장에 대해 미국이 반박하고...',\n",
      "  'title': '美 \"무역협상 본질·경과 왜곡하는 중국 비난전에 실망\"'},\n",
      " {'company': '뉴스1',\n",
      "  'link': 'http://news1.kr/articles/?3637847',\n",
      "  'script': '세계 최고의 투자은행인 골드만삭스가 미중 무역전쟁이 더욱 격화될 것이라고 예상했다고 미국의 CNBC가 4일 보도했다. '\n",
      "            '골드만삭스는 전일 보고서를 내고 미국이 중국의 나머지 3000억 달러에 대한 관세를 10% 부과할...',\n",
      "  'title': '“미중 무역전쟁 더욱 격화될 것”- 골드만삭스'},\n",
      " {'company': '경향신문',\n",
      "  'link': 'http://news.khan.co.kr/kh_news/khan_art_view.html?artid=201906041538001&code=910302',\n",
      "  'script': '미·중 무역 전쟁 격화로 미·중 사이에서 한국의 외교적 어려움이 가중되고 있는 것과 관련해 중국 외교부 당국자가 한국 '\n",
      "            '정부에게 “올바른 판단을 해야 한다”고 언급했다. 이 당국자는 지난달 28일 중국 외교부를 방문한...',\n",
      "  'title': '중국 당국자 \"미·중 무역 갈등서 한국이 올바른 판단해야\"'},\n",
      " {'company': '넥스트경제',\n",
      "  'link': 'http://www.nexte.co.kr/news/article.html?id=20190604400001',\n",
      "  'script': '도널드 트럼프 미국 대통령의 대중 무역전쟁 다음 타깃은 미국 명문대학에 유학 중인 중국 유학생들이라고 미국의 '\n",
      "            '블룸버그통신이 3일(현지시간) 보도했다. 무역전쟁에 이어 화웨이를 둘러싸고 중국과 기술 전쟁을 벌이고...',\n",
      "  'title': '트럼프, 무역전쟁 다음 타깃으로 ‘중국 유학생들’ 선정'},\n",
      " {'company': '파이낸셜뉴스',\n",
      "  'link': 'http://www.fnnews.com/news/201906041744320943',\n",
      "  'script': '도널드 트럼프 미국 대통령의 무역전쟁이 지난달 본격적으로 재개되면서 신흥시장에서 자금이 썰물 빠지듯 빠지고 있다. '\n",
      "            '트럼프 대통령이 멕시코에 관세를 물리겠다고 협박하는 등 잠잠하던 무역전쟁 수위를...',\n",
      "  'title': \"무역전쟁에 신흥시장 '머니 엑소더스' 주식·통화 출렁\"},\n",
      " {'company': '중앙일보',\n",
      "  'link': 'https://news.joins.com/article/olink/23080447',\n",
      "  'script': '미·중 무역분쟁이 심화하는 가운데 중국 외교부 당국자가 \"한국 정부와 기업이 옳은 것을 판단해야 한다\"고 발언했다. '\n",
      "            '미국이 화웨이 퇴출 전선에 한국을 비롯한 동맹국들의 참여를 독려하는 등 미·중 무역분쟁이...',\n",
      "  'title': '中 \"韓, 무역전쟁 올바른 판단해라\" 사드까지 언급하며 협박'},\n",
      " {'company': '아시아경제',\n",
      "  'link': 'https://view.asiae.co.kr/news/view.htm?idxno=2019060414083943870',\n",
      "  'script': '미·중 무역 전쟁와 과정에서 미국 정부가 주도하고 있는 중국 통신장비 업체 화웨이에 대한 제재에 한국 정부와 기업의 '\n",
      "            '동참하는 것을 경계하려는 의도로 해석된다. 이 당국자는 \"한국 정부에서 올바른 판단을 해야 한다....',\n",
      "  'title': '中 \"韓, 미·중 무역갈등 올바른 판단해야\"'},\n",
      " {'company': '뉴스핌',\n",
      "  'link': 'http://www.newspim.com/news/view/20190604000896',\n",
      "  'script': '한편 이날 기자간담회에서는 미중 무역전쟁 등 최근 통상현안과 관련, 무역협회의 계획에 대한 이야기도 나왔다. 김 '\n",
      "            '회장은 “국제 무역질서가 예전과 달라지고 전망이 불투명해 수출역량을 기르기 어려워진 상황에서...',\n",
      "  'title': '김영주 무역협회장 “특기 살려 스타트업의 해외진출 지원”'},\n",
      " {'company': '연합인포맥스',\n",
      "  'link': 'http://news.einfomax.co.kr/news/articleView.html?idxno=4033081',\n",
      "  'script': '미국과 중국의 무역전쟁에서 최대 승자는 베트남이라는 관측이 제기됐다. 노무라는 4일 다우존스를 통해 \"미국과 중국 간 '\n",
      "            '무역 긴장이 고조된 지난 1년 사이 양 국가 간의 관세 품목 1천981개 가운데 절반 이상에서 수입...',\n",
      "  'title': '노무라 \"美·中 무역전쟁의 최대 승자는 베트남\"'},\n",
      " {'company': '한국경제TV',\n",
      "  'link': 'http://news.wowtv.co.kr/NewsCenter/News/Read?articleId=A201906040430&t=NN',\n",
      "  'script': '미국과 중국의 무역전쟁에서 최대 승자는 베트남이라는 관측이 제기됐다. 노무라는 4일 다우존스를 통해 \"미국과 중국 간 '\n",
      "            '무역 긴장이 고조된 지난 1년 사이 양 국가 간의 관세 품목 1천981개 가운데 절반 이상에서...',\n",
      "  'title': '노무라 \"美-中 무역전쟁의 최대 승자는 베트남\"'}]\n"
     ]
    }
   ],
   "source": [
    "from pprint import pprint\n",
    "pprint(news_list)"
   ]
  },
  {
   "cell_type": "markdown",
   "metadata": {},
   "source": [
    "### 10페이지까지 이동하면서"
   ]
  },
  {
   "cell_type": "code",
   "execution_count": null,
   "metadata": {},
   "outputs": [],
   "source": [
    "Surl='https://search.naver.com/search.naver'\n",
    "query=\"무역전쟁\"\n",
    "\n",
    "news_list=[]\n",
    "\n",
    "for i in range(0,9):\n",
    "    params={\n",
    "        'where': 'news',\n",
    "        'query': query,\n",
    "        'start': int(i*10+1)\n",
    "    }\n",
    "    resp=requests.get(Surl, params=params)\n",
    "    soup = BeautifulSoup(resp.content, 'html.parser')\n",
    "    ul_contents=soup.find('ul',class_='type01')\n",
    "    new_ul=[]\n",
    "    for content in ul_contents.contents:\n",
    "        if not str(content).strip():\n",
    "            continue\n",
    "        new_ul.append(content)\n",
    "    \n",
    "\n",
    "    for li in new_ul:\n",
    "        news_dict={}\n",
    "        a_tag=li.find('dl').find('dt').find('a')\n",
    "        news_dict['link']=a_tag['href']\n",
    "        news_dict['title']=a_tag.text\n",
    "    \n",
    "    \n",
    "        b_tag=li.find('dl').find('dd').find('span')\n",
    "        news_dict['company']=b_tag.contents[0]\n",
    "   \n",
    "        c_tag=b_tag.find_next('dd')\n",
    "        news_dict['script']=c_tag.text\n",
    "     \n",
    "        news_list.append(news_dict)\n",
    "\n",
    "    from pprint import pprint\n",
    "    pprint(news_list)"
   ]
  },
  {
   "cell_type": "code",
   "execution_count": null,
   "metadata": {},
   "outputs": [],
   "source": []
  },
  {
   "cell_type": "code",
   "execution_count": null,
   "metadata": {},
   "outputs": [],
   "source": [
    "det_resp=requests.get(news_dict['link'])\n",
    "det_soup=BeautifulSoup(det_resp.content,'html.parser')\n",
    "det_contents=det_soup.find('div',itemprop='articleBody')\n",
    "print(det_contents)"
   ]
  },
  {
   "cell_type": "code",
   "execution_count": null,
   "metadata": {},
   "outputs": [],
   "source": [
    "Surl='https://search.naver.com/search.naver'\n",
    "query=\"무역전쟁\"\n",
    "\n",
    "news_list=[]\n",
    "params={\n",
    "    'where': 'news',\n",
    "    'query': query,\n",
    "    'start': int(i*10+1)\n",
    "}\n",
    "resp=requests.get(Surl, params=params)\n",
    "soup = BeautifulSoup(resp.content, 'html.parser')\n",
    "ul_contents=soup.find('ul',class_='type01')\n",
    "new_ul=[]\n",
    "for content in ul_contents.contents:\n",
    "    if not str(content).strip():\n",
    "        continue\n",
    "    new_ul.append(content)\n",
    "    \n",
    "\n",
    "for li in new_ul:\n",
    "    news_dict={}\n",
    "    a_tag=li.find('dl').find('dt').find('a')\n",
    "    news_dict['link']=a_tag['href']\n",
    "    news_dict['title']=a_tag.text\n",
    "   \n",
    "    print(news_dict['link'], \"에 들어갑니다.\")\n",
    "    detail_resp=requests.get(news_dict['link'])\n",
    "    detail_soup=BeautifulSoup(detail_resp.content,'html.parser')\n",
    "    news_dict['body'] =detail_soup.find(itemprop='articleBody')\n",
    "\n",
    "    news_list.append(news_dict)\n",
    "print(news_dict['body'])\n",
    "    "
   ]
  },
  {
   "cell_type": "markdown",
   "metadata": {},
   "source": [
    "## 개발 순서"
   ]
  },
  {
   "cell_type": "code",
   "execution_count": null,
   "metadata": {},
   "outputs": [],
   "source": [
    "1. url을 파악한다.\n",
    "2. url에 접속한다.\n",
    "3. html 파일을 soup로 만든다.\n",
    "4. soup에서 각 항목들을 정리한다.\n",
    "5. soup에서 상세페이지의 href를 가져온다.\n",
    "6. 각 상세페이지의 href를 requests.get()한다.\n",
    "7. soup로 만들고 상세페이지의 각 항목들을 정리한다.\n",
    "8. 반복문을 통해서 pagination을 이동한다. "
   ]
  },
  {
   "cell_type": "markdown",
   "metadata": {},
   "source": [
    "### 뉴스토픽 가져오기"
   ]
  },
  {
   "cell_type": "code",
   "execution_count": null,
   "metadata": {},
   "outputs": [],
   "source": [
    "import requests\n",
    "from bs4 import BeautifulSoup\n",
    "resp=requests.get(\"https://search.naver.com/search.naver?query=\")\n",
    "soup=BeautifulSoup(resp.content, 'html.parser')"
   ]
  },
  {
   "cell_type": "code",
   "execution_count": 149,
   "metadata": {},
   "outputs": [],
   "source": [
    "news_topic=soup.find('div', id_='nxfr_htp')\n",
    "for ol in news_topic:\n",
    "    topic_dict={}\n",
    "    a_tag = ol.find('ol').find('li').find('a')"
   ]
  },
  {
   "cell_type": "code",
   "execution_count": 155,
   "metadata": {},
   "outputs": [
    {
     "data": {
      "text/plain": [
       "<ol class=\"lst_realtime_srch _tab_area\"><li><a class=\"bx bx_item\" href=\"//search.naver.com/search.naver?where=nexearch&amp;sm=tab_htk.nws&amp;ie=utf8&amp;query=%EB%B6%88%EB%B2%95%ED%8F%90%EA%B8%B0%EB%AC%BC+%ED%8A%B9%EB%B3%84%EC%88%98%EC%82%AC%EB%8B%A8+%EB%B0%9C%EC%A1%B1\" onclick=\"return goOtherCR(this, 'a=htk.nwslist&amp;r=1&amp;i=&amp;u='+urlencode(urlexpand(this.href)));\"><span class=\"keyword\"><em class=\"num\">1</em><span class=\"tit\">불법폐기물 특별수사단 발족</span></span><em class=\"rank new\"><span class=\"spim\"></span><span>NEW</span></em></a></li><li><a class=\"bx bx_item\" href=\"//search.naver.com/search.naver?where=nexearch&amp;sm=tab_htk.nws&amp;ie=utf8&amp;query=%ED%95%9C%EC%84%A0%EA%B5%90+%EA%B8%B0%EC%9E%90%EB%93%A4+%ED%96%A5%ED%95%B4\" onclick=\"return goOtherCR(this, 'a=htk.nwslist&amp;r=2&amp;i=&amp;u='+urlencode(urlexpand(this.href)));\"><span class=\"keyword\"><em class=\"num\">2</em><span class=\"tit\">한선교 기자들 향해</span></span><em class=\"rank new\"><span class=\"spim\"></span><span>NEW</span></em></a></li><li><a class=\"bx bx_item\" href=\"//search.naver.com/search.naver?where=nexearch&amp;sm=tab_htk.nws&amp;ie=utf8&amp;query=%EA%B2%80%EC%B0%B0+%EC%BD%94%EC%98%A4%EB%A1%B1%EC%83%9D%EB%AA%85%EA%B3%BC%ED%95%99+%EC%95%95%EC%88%98%EC%88%98%EC%83%89\" onclick=\"return goOtherCR(this, 'a=htk.nwslist&amp;r=3&amp;i=&amp;u='+urlencode(urlexpand(this.href)));\"><span class=\"keyword\"><em class=\"num\">3</em><span class=\"tit\">검찰 코오롱생명과학 압수수색</span></span><em class=\"rank new\"><span class=\"spim\"></span><span>NEW</span></em></a></li><li><a class=\"bx bx_item\" href=\"//search.naver.com/search.naver?where=nexearch&amp;sm=tab_htk.nws&amp;ie=utf8&amp;query=%EA%B5%AD%EC%84%B8%EC%B2%AD+%EC%82%AC%EC%B9%AD\" onclick=\"return goOtherCR(this, 'a=htk.nwslist&amp;r=4&amp;i=&amp;u='+urlencode(urlexpand(this.href)));\"><span class=\"keyword\"><em class=\"num\">4</em><span class=\"tit\">국세청 사칭</span></span><em class=\"rank new\"><span class=\"spim\"></span><span>NEW</span></em></a></li><li><a class=\"bx bx_item\" href=\"//search.naver.com/search.naver?where=nexearch&amp;sm=tab_htk.nws&amp;ie=utf8&amp;query=%EB%8C%80%EC%9A%B0%EA%B1%B4%EC%84%A4+%EC%9D%84%EC%A7%80%EB%A1%9C%EC%8B%9C%EB%8C%80+%EA%B0%9C%EB%A7%89\" onclick=\"return goOtherCR(this, 'a=htk.nwslist&amp;r=5&amp;i=&amp;u='+urlencode(urlexpand(this.href)));\"><span class=\"keyword\"><em class=\"num\">5</em><span class=\"tit\">대우건설 을지로시대 개막</span></span><em class=\"rank new\"><span class=\"spim\"></span><span>NEW</span></em></a></li><li><a class=\"bx bx_item\" href=\"//search.naver.com/search.naver?where=nexearch&amp;sm=tab_htk.nws&amp;ie=utf8&amp;query=%EC%A0%95%EA%B2%BD%EB%91%90+%EA%B5%AD%EB%B0%A9\" onclick=\"return goOtherCR(this, 'a=htk.nwslist&amp;r=6&amp;i=&amp;u='+urlencode(urlexpand(this.href)));\"><span class=\"keyword\"><em class=\"num\">6</em><span class=\"tit\">정경두 국방</span></span><em class=\"rank new\"><span class=\"spim\"></span><span>NEW</span></em></a></li><li><a class=\"bx bx_item\" href=\"//search.naver.com/search.naver?where=nexearch&amp;sm=tab_htk.nws&amp;ie=utf8&amp;query=%EB%B0%98%EB%A0%A4%EA%B2%AC+%EC%88%98%EC%98%81%EB%8C%80%ED%9A%8C\" onclick=\"return goOtherCR(this, 'a=htk.nwslist&amp;r=7&amp;i=&amp;u='+urlencode(urlexpand(this.href)));\"><span class=\"keyword\"><em class=\"num\">7</em><span class=\"tit\">반려견 수영대회</span></span><em class=\"rank new\"><span class=\"spim\"></span><span>NEW</span></em></a></li><li><a class=\"bx bx_item\" href=\"//search.naver.com/search.naver?where=nexearch&amp;sm=tab_htk.nws&amp;ie=utf8&amp;query=%ED%95%9C%EB%AF%B8+%EA%B5%AD%EB%B0%A9%EC%9E%A5%EA%B4%80%ED%9A%8C%EB%8B%B4\" onclick=\"return goOtherCR(this, 'a=htk.nwslist&amp;r=8&amp;i=&amp;u='+urlencode(urlexpand(this.href)));\"><span class=\"keyword\"><em class=\"num\">8</em><span class=\"tit\">한미 국방장관회담</span></span><em class=\"rank new\"><span class=\"spim\"></span><span>NEW</span></em></a></li><li><a class=\"bx bx_item\" href=\"//search.naver.com/search.naver?where=nexearch&amp;sm=tab_htk.nws&amp;ie=utf8&amp;query=%EC%84%9C%EC%9A%B8%EC%97%B0%EA%B5%AC%EC%9B%90+%EB%AF%BC%EC%A3%BC%EC%97%B0%EA%B5%AC%EC%9B%90\" onclick=\"return goOtherCR(this, 'a=htk.nwslist&amp;r=9&amp;i=&amp;u='+urlencode(urlexpand(this.href)));\"><span class=\"keyword\"><em class=\"num\">9</em><span class=\"tit\">서울연구원 민주연구원</span></span><em class=\"rank new\"><span class=\"spim\"></span><span>NEW</span></em></a></li><li><a class=\"bx\" href=\"//search.naver.com/search.naver?where=nexearch&amp;sm=tab_htk.nws&amp;ie=utf8&amp;query=%EC%9C%A0%EC%8B%9C%EB%AF%BC+%ED%99%8D%EC%A4%80%ED%91%9C\" onclick=\"return goOtherCR(this, 'a=htk.nwslist&amp;r=10&amp;i=&amp;u='+urlencode(urlexpand(this.href)));\"><span class=\"keyword\"><em class=\"num\">10</em><span class=\"tit\">유시민 홍준표</span></span></a></li></ol>"
      ]
     },
     "execution_count": 155,
     "metadata": {},
     "output_type": "execute_result"
    }
   ],
   "source": [
    "news_topic=soup.find('ol', class_='lst_realtime_srch _tab_area')\n",
    "news_topic"
   ]
  },
  {
   "cell_type": "code",
   "execution_count": 159,
   "metadata": {},
   "outputs": [
    {
     "data": {
      "text/plain": [
       "['불법폐기물 특별수사단 발족',\n",
       " '한선교 기자들 향해',\n",
       " '검찰 코오롱생명과학 압수수색',\n",
       " '국세청 사칭',\n",
       " '대우건설 을지로시대 개막',\n",
       " '정경두 국방',\n",
       " '반려견 수영대회',\n",
       " '한미 국방장관회담',\n",
       " '서울연구원 민주연구원',\n",
       " '유시민 홍준표']"
      ]
     },
     "execution_count": 159,
     "metadata": {},
     "output_type": "execute_result"
    }
   ],
   "source": [
    "# 1. contents 쓰기\n",
    "li_tags=news_topic.contents\n",
    "new_list=[]\n",
    "for t in li_tags:\n",
    "    title = t.find('span', class_=\"tit\").text\n",
    "    new_list.append(title)\n",
    "new_list"
   ]
  },
  {
   "cell_type": "code",
   "execution_count": 165,
   "metadata": {},
   "outputs": [
    {
     "data": {
      "text/plain": [
       "['유시민 홍준표',\n",
       " '   미중 관세전쟁, 끝장 볼 때까지 간다 금융소비자뉴스  7시간 전   보내기   중국 국무원 신문판공실은 2일 8000여 자에 달하는 \\'중·미 무역협상에 관한 중국 입장\\' 백서를 통해 무역전쟁의 원인은 도널드 트럼프 미 행정부에 있다고 비난한 뒤 \"중국은 절대로 물러서지 않을 것\"이라고 공표했다....  ',\n",
       " '   미중 관세전쟁, 끝장 볼 때까지 간다 금융소비자뉴스  7시간 전   보내기   중국 국무원 신문판공실은 2일 8000여 자에 달하는 \\'중·미 무역협상에 관한 중국 입장\\' 백서를 통해 무역전쟁의 원인은 도널드 트럼프 미 행정부에 있다고 비난한 뒤 \"중국은 절대로 물러서지 않을 것\"이라고 공표했다....  ',\n",
       " '   미중 관세전쟁, 끝장 볼 때까지 간다 금융소비자뉴스  7시간 전   보내기   중국 국무원 신문판공실은 2일 8000여 자에 달하는 \\'중·미 무역협상에 관한 중국 입장\\' 백서를 통해 무역전쟁의 원인은 도널드 트럼프 미 행정부에 있다고 비난한 뒤 \"중국은 절대로 물러서지 않을 것\"이라고 공표했다....  ',\n",
       " '   미중 관세전쟁, 끝장 볼 때까지 간다 금융소비자뉴스  7시간 전   보내기   중국 국무원 신문판공실은 2일 8000여 자에 달하는 \\'중·미 무역협상에 관한 중국 입장\\' 백서를 통해 무역전쟁의 원인은 도널드 트럼프 미 행정부에 있다고 비난한 뒤 \"중국은 절대로 물러서지 않을 것\"이라고 공표했다....  ',\n",
       " '   미중 관세전쟁, 끝장 볼 때까지 간다 금융소비자뉴스  7시간 전   보내기   중국 국무원 신문판공실은 2일 8000여 자에 달하는 \\'중·미 무역협상에 관한 중국 입장\\' 백서를 통해 무역전쟁의 원인은 도널드 트럼프 미 행정부에 있다고 비난한 뒤 \"중국은 절대로 물러서지 않을 것\"이라고 공표했다....  ',\n",
       " '   미중 관세전쟁, 끝장 볼 때까지 간다 금융소비자뉴스  7시간 전   보내기   중국 국무원 신문판공실은 2일 8000여 자에 달하는 \\'중·미 무역협상에 관한 중국 입장\\' 백서를 통해 무역전쟁의 원인은 도널드 트럼프 미 행정부에 있다고 비난한 뒤 \"중국은 절대로 물러서지 않을 것\"이라고 공표했다....  ',\n",
       " '   미중 관세전쟁, 끝장 볼 때까지 간다 금융소비자뉴스  7시간 전   보내기   중국 국무원 신문판공실은 2일 8000여 자에 달하는 \\'중·미 무역협상에 관한 중국 입장\\' 백서를 통해 무역전쟁의 원인은 도널드 트럼프 미 행정부에 있다고 비난한 뒤 \"중국은 절대로 물러서지 않을 것\"이라고 공표했다....  ',\n",
       " '   미중 관세전쟁, 끝장 볼 때까지 간다 금융소비자뉴스  7시간 전   보내기   중국 국무원 신문판공실은 2일 8000여 자에 달하는 \\'중·미 무역협상에 관한 중국 입장\\' 백서를 통해 무역전쟁의 원인은 도널드 트럼프 미 행정부에 있다고 비난한 뒤 \"중국은 절대로 물러서지 않을 것\"이라고 공표했다....  ',\n",
       " '   미중 관세전쟁, 끝장 볼 때까지 간다 금융소비자뉴스  7시간 전   보내기   중국 국무원 신문판공실은 2일 8000여 자에 달하는 \\'중·미 무역협상에 관한 중국 입장\\' 백서를 통해 무역전쟁의 원인은 도널드 트럼프 미 행정부에 있다고 비난한 뒤 \"중국은 절대로 물러서지 않을 것\"이라고 공표했다....  ']"
      ]
     },
     "execution_count": 165,
     "metadata": {},
     "output_type": "execute_result"
    }
   ],
   "source": [
    "#2. sibling 쓰기\n",
    "li_tag = news_topic.li\n",
    "\n",
    "new_list2=[]\n",
    "title = t.find('span', class_=\"tit\").text\n",
    "new_list2.append(title)\n",
    "for x in li_tag.find_next_siblings('li'):\n",
    "    title = t.find('span', class_=\"tit\").text\n",
    "    new_list2.append(li.text)\n",
    "    \n",
    "new_list2"
   ]
  },
  {
   "cell_type": "code",
   "execution_count": 173,
   "metadata": {},
   "outputs": [
    {
     "data": {
      "text/plain": [
       "10"
      ]
     },
     "execution_count": 173,
     "metadata": {},
     "output_type": "execute_result"
    }
   ],
   "source": [
    "# 3. find_all(recursive=False)\n",
    "li_list=news_topic.find_all('li', recursive=False)\n",
    "len(li_lists)"
   ]
  },
  {
   "cell_type": "code",
   "execution_count": 174,
   "metadata": {},
   "outputs": [
    {
     "data": {
      "text/plain": [
       "['불법폐기물 특별수사단 발족',\n",
       " '한선교 기자들 향해',\n",
       " '검찰 코오롱생명과학 압수수색',\n",
       " '국세청 사칭',\n",
       " '대우건설 을지로시대 개막',\n",
       " '정경두 국방',\n",
       " '반려견 수영대회',\n",
       " '한미 국방장관회담',\n",
       " '서울연구원 민주연구원',\n",
       " '유시민 홍준표']"
      ]
     },
     "execution_count": 174,
     "metadata": {},
     "output_type": "execute_result"
    }
   ],
   "source": [
    "new_list3=[]\n",
    "for li in li_list:\n",
    "    title = li.find('span', class_=\"tit\").text\n",
    "    new_list3.append(title)\n",
    "    \n",
    "new_list3"
   ]
  },
  {
   "cell_type": "code",
   "execution_count": null,
   "metadata": {},
   "outputs": [],
   "source": []
  },
  {
   "cell_type": "markdown",
   "metadata": {},
   "source": [
    "## BS 정리"
   ]
  },
  {
   "cell_type": "code",
   "execution_count": 175,
   "metadata": {},
   "outputs": [],
   "source": [
    "resp=requests.get('https://search.naver.com/search.naver?query=무역전쟁')\n",
    "soup=BeautifulSoup(resp.content, 'html.parser')"
   ]
  },
  {
   "cell_type": "code",
   "execution_count": 180,
   "metadata": {},
   "outputs": [
    {
     "data": {
      "text/plain": [
       "bs4.element.Tag"
      ]
     },
     "execution_count": 180,
     "metadata": {},
     "output_type": "execute_result"
    }
   ],
   "source": [
    "news_topic=soup.find('div', id=\"nxfr_htp\")\n",
    "news_topic_all=soup.find_all('div', id=\"nxfr_htp\")\n"
   ]
  },
  {
   "cell_type": "code",
   "execution_count": 181,
   "metadata": {},
   "outputs": [
    {
     "data": {
      "text/plain": [
       "bs4.element.Tag"
      ]
     },
     "execution_count": 181,
     "metadata": {},
     "output_type": "execute_result"
    }
   ],
   "source": [
    "type(news_topic)"
   ]
  },
  {
   "cell_type": "code",
   "execution_count": 182,
   "metadata": {},
   "outputs": [
    {
     "data": {
      "text/plain": [
       "bs4.element.ResultSet"
      ]
     },
     "execution_count": 182,
     "metadata": {},
     "output_type": "execute_result"
    }
   ],
   "source": [
    "type(news_topic_all)"
   ]
  },
  {
   "cell_type": "code",
   "execution_count": 188,
   "metadata": {},
   "outputs": [
    {
     "data": {
      "text/plain": [
       "bs4.element.Tag"
      ]
     },
     "execution_count": 188,
     "metadata": {},
     "output_type": "execute_result"
    }
   ],
   "source": [
    "type(news_topic_all[0])\n",
    "# tag여야만 find, find_all등 사용 가능 'all'은 리스트이기 때문!! 태그 접근을 위해서 인덱스나 반복문으로 접근해야"
   ]
  },
  {
   "cell_type": "code",
   "execution_count": 189,
   "metadata": {},
   "outputs": [
    {
     "data": {
      "text/plain": [
       "' 뉴스토픽    뉴스 연예·스포츠   뉴스토픽 뉴스 1불법폐기물 특별수사단 발족NEW2한선교 기자들 향해NEW3검찰 코오롱생명과학 압수수색NEW4국세청 사칭NEW5대우건설 을지로시대 개막NEW6정경두 국방NEW7반려견 수영대회NEW8한미 국방장관회담NEW9서울연구원 민주연구원NEW10유시민 홍준표 1슈퍼주니어 강인 성민 제외 9인 체제NEW2정소민 공명NEW3이하이 누구 없소NEW4라디오쇼 정은지NEW5미스트롯 콘서트 측NEW6가요광장 신성록NEW7문희준 소율NEW8런닝맨 자막 논란9신정환 근황NEW10권수현 아지트 급습NEW2019.06.03. 11:30 ~ 14:30 기준 도움말  '"
      ]
     },
     "execution_count": 189,
     "metadata": {},
     "output_type": "execute_result"
    }
   ],
   "source": [
    "news_topic.text"
   ]
  },
  {
   "cell_type": "code",
   "execution_count": 191,
   "metadata": {},
   "outputs": [
    {
     "data": {
      "text/plain": [
       "22"
      ]
     },
     "execution_count": 191,
     "metadata": {},
     "output_type": "execute_result"
    }
   ],
   "source": [
    "# li 찾기\n",
    "len(news_topic.find_all('li'))"
   ]
  },
  {
   "cell_type": "code",
   "execution_count": 193,
   "metadata": {},
   "outputs": [
    {
     "data": {
      "text/plain": [
       "2"
      ]
     },
     "execution_count": 193,
     "metadata": {},
     "output_type": "execute_result"
    }
   ],
   "source": [
    "ol_tags = news_topic.find_all('ol')\n",
    "len(ol_tags)"
   ]
  },
  {
   "cell_type": "code",
   "execution_count": 195,
   "metadata": {},
   "outputs": [],
   "source": [
    "news_ol, sports_ol= ol_tags"
   ]
  },
  {
   "cell_type": "markdown",
   "metadata": {},
   "source": [
    "### news_ol\n",
    "### . contents"
   ]
  },
  {
   "cell_type": "code",
   "execution_count": 200,
   "metadata": {},
   "outputs": [
    {
     "data": {
      "text/plain": [
       "[<li><a class=\"bx bx_item\" href=\"//search.naver.com/search.naver?where=nexearch&amp;sm=tab_htk.nws&amp;ie=utf8&amp;query=%EB%B6%88%EB%B2%95%ED%8F%90%EA%B8%B0%EB%AC%BC+%ED%8A%B9%EB%B3%84%EC%88%98%EC%82%AC%EB%8B%A8+%EB%B0%9C%EC%A1%B1\" onclick=\"return goOtherCR(this, 'a=htk.nwslist&amp;r=1&amp;i=&amp;u='+urlencode(urlexpand(this.href)));\"><span class=\"keyword\"><em class=\"num\">1</em><span class=\"tit\">불법폐기물 특별수사단 발족</span></span><em class=\"rank new\"><span class=\"spim\"></span><span>NEW</span></em></a></li>,\n",
       " <li><a class=\"bx bx_item\" href=\"//search.naver.com/search.naver?where=nexearch&amp;sm=tab_htk.nws&amp;ie=utf8&amp;query=%ED%95%9C%EC%84%A0%EA%B5%90+%EA%B8%B0%EC%9E%90%EB%93%A4+%ED%96%A5%ED%95%B4\" onclick=\"return goOtherCR(this, 'a=htk.nwslist&amp;r=2&amp;i=&amp;u='+urlencode(urlexpand(this.href)));\"><span class=\"keyword\"><em class=\"num\">2</em><span class=\"tit\">한선교 기자들 향해</span></span><em class=\"rank new\"><span class=\"spim\"></span><span>NEW</span></em></a></li>,\n",
       " <li><a class=\"bx bx_item\" href=\"//search.naver.com/search.naver?where=nexearch&amp;sm=tab_htk.nws&amp;ie=utf8&amp;query=%EA%B2%80%EC%B0%B0+%EC%BD%94%EC%98%A4%EB%A1%B1%EC%83%9D%EB%AA%85%EA%B3%BC%ED%95%99+%EC%95%95%EC%88%98%EC%88%98%EC%83%89\" onclick=\"return goOtherCR(this, 'a=htk.nwslist&amp;r=3&amp;i=&amp;u='+urlencode(urlexpand(this.href)));\"><span class=\"keyword\"><em class=\"num\">3</em><span class=\"tit\">검찰 코오롱생명과학 압수수색</span></span><em class=\"rank new\"><span class=\"spim\"></span><span>NEW</span></em></a></li>,\n",
       " <li><a class=\"bx bx_item\" href=\"//search.naver.com/search.naver?where=nexearch&amp;sm=tab_htk.nws&amp;ie=utf8&amp;query=%EA%B5%AD%EC%84%B8%EC%B2%AD+%EC%82%AC%EC%B9%AD\" onclick=\"return goOtherCR(this, 'a=htk.nwslist&amp;r=4&amp;i=&amp;u='+urlencode(urlexpand(this.href)));\"><span class=\"keyword\"><em class=\"num\">4</em><span class=\"tit\">국세청 사칭</span></span><em class=\"rank new\"><span class=\"spim\"></span><span>NEW</span></em></a></li>,\n",
       " <li><a class=\"bx bx_item\" href=\"//search.naver.com/search.naver?where=nexearch&amp;sm=tab_htk.nws&amp;ie=utf8&amp;query=%EB%8C%80%EC%9A%B0%EA%B1%B4%EC%84%A4+%EC%9D%84%EC%A7%80%EB%A1%9C%EC%8B%9C%EB%8C%80+%EA%B0%9C%EB%A7%89\" onclick=\"return goOtherCR(this, 'a=htk.nwslist&amp;r=5&amp;i=&amp;u='+urlencode(urlexpand(this.href)));\"><span class=\"keyword\"><em class=\"num\">5</em><span class=\"tit\">대우건설 을지로시대 개막</span></span><em class=\"rank new\"><span class=\"spim\"></span><span>NEW</span></em></a></li>,\n",
       " <li><a class=\"bx bx_item\" href=\"//search.naver.com/search.naver?where=nexearch&amp;sm=tab_htk.nws&amp;ie=utf8&amp;query=%EC%A0%95%EA%B2%BD%EB%91%90+%EA%B5%AD%EB%B0%A9\" onclick=\"return goOtherCR(this, 'a=htk.nwslist&amp;r=6&amp;i=&amp;u='+urlencode(urlexpand(this.href)));\"><span class=\"keyword\"><em class=\"num\">6</em><span class=\"tit\">정경두 국방</span></span><em class=\"rank new\"><span class=\"spim\"></span><span>NEW</span></em></a></li>,\n",
       " <li><a class=\"bx bx_item\" href=\"//search.naver.com/search.naver?where=nexearch&amp;sm=tab_htk.nws&amp;ie=utf8&amp;query=%EB%B0%98%EB%A0%A4%EA%B2%AC+%EC%88%98%EC%98%81%EB%8C%80%ED%9A%8C\" onclick=\"return goOtherCR(this, 'a=htk.nwslist&amp;r=7&amp;i=&amp;u='+urlencode(urlexpand(this.href)));\"><span class=\"keyword\"><em class=\"num\">7</em><span class=\"tit\">반려견 수영대회</span></span><em class=\"rank new\"><span class=\"spim\"></span><span>NEW</span></em></a></li>,\n",
       " <li><a class=\"bx bx_item\" href=\"//search.naver.com/search.naver?where=nexearch&amp;sm=tab_htk.nws&amp;ie=utf8&amp;query=%ED%95%9C%EB%AF%B8+%EA%B5%AD%EB%B0%A9%EC%9E%A5%EA%B4%80%ED%9A%8C%EB%8B%B4\" onclick=\"return goOtherCR(this, 'a=htk.nwslist&amp;r=8&amp;i=&amp;u='+urlencode(urlexpand(this.href)));\"><span class=\"keyword\"><em class=\"num\">8</em><span class=\"tit\">한미 국방장관회담</span></span><em class=\"rank new\"><span class=\"spim\"></span><span>NEW</span></em></a></li>,\n",
       " <li><a class=\"bx bx_item\" href=\"//search.naver.com/search.naver?where=nexearch&amp;sm=tab_htk.nws&amp;ie=utf8&amp;query=%EC%84%9C%EC%9A%B8%EC%97%B0%EA%B5%AC%EC%9B%90+%EB%AF%BC%EC%A3%BC%EC%97%B0%EA%B5%AC%EC%9B%90\" onclick=\"return goOtherCR(this, 'a=htk.nwslist&amp;r=9&amp;i=&amp;u='+urlencode(urlexpand(this.href)));\"><span class=\"keyword\"><em class=\"num\">9</em><span class=\"tit\">서울연구원 민주연구원</span></span><em class=\"rank new\"><span class=\"spim\"></span><span>NEW</span></em></a></li>,\n",
       " <li><a class=\"bx\" href=\"//search.naver.com/search.naver?where=nexearch&amp;sm=tab_htk.nws&amp;ie=utf8&amp;query=%EC%9C%A0%EC%8B%9C%EB%AF%BC+%ED%99%8D%EC%A4%80%ED%91%9C\" onclick=\"return goOtherCR(this, 'a=htk.nwslist&amp;r=10&amp;i=&amp;u='+urlencode(urlexpand(this.href)));\"><span class=\"keyword\"><em class=\"num\">10</em><span class=\"tit\">유시민 홍준표</span></span></a></li>]"
      ]
     },
     "execution_count": 200,
     "metadata": {},
     "output_type": "execute_result"
    }
   ],
   "source": [
    "news_ol.contents"
   ]
  },
  {
   "cell_type": "code",
   "execution_count": 201,
   "metadata": {},
   "outputs": [],
   "source": [
    "li_list=news_ol.contents"
   ]
  },
  {
   "cell_type": "code",
   "execution_count": 214,
   "metadata": {},
   "outputs": [
    {
     "name": "stdout",
     "output_type": "stream",
     "text": [
      "<span class=\"tit\">불법폐기물 특별수사단 발족</span>\n",
      "불법폐기물 특별수사단 발족\n"
     ]
    }
   ],
   "source": [
    "for item in li_list:\n",
    "    a_tag=item.find('a')\n",
    "#     print(item.contents[0])\n",
    "#     print(item.a)\n",
    "#     print(a_tag)\n",
    "#     print(\"-\"*10)\n",
    "#     print(a_tag.attrs['href'])\n",
    "    #a_tag['']\n",
    "#     print(a_tag.text)\n",
    "    span_tag=a_tag.find('span', class_=\"tit\")\n",
    "    print(span_tag)\n",
    "    span_text=span_tag.text\n",
    "    print(span_text)\n",
    "    break"
   ]
  },
  {
   "cell_type": "code",
   "execution_count": null,
   "metadata": {},
   "outputs": [],
   "source": []
  },
  {
   "cell_type": "code",
   "execution_count": null,
   "metadata": {},
   "outputs": [],
   "source": []
  }
 ],
 "metadata": {
  "kernelspec": {
   "display_name": "Python 3",
   "language": "python",
   "name": "python3"
  },
  "language_info": {
   "codemirror_mode": {
    "name": "ipython",
    "version": 3
   },
   "file_extension": ".py",
   "mimetype": "text/x-python",
   "name": "python",
   "nbconvert_exporter": "python",
   "pygments_lexer": "ipython3",
   "version": "3.7.3"
  }
 },
 "nbformat": 4,
 "nbformat_minor": 2
}
