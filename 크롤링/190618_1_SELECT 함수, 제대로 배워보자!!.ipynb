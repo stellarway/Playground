{
 "cells": [
  {
   "cell_type": "markdown",
   "metadata": {},
   "source": [
    "# Select"
   ]
  },
  {
   "cell_type": "code",
   "execution_count": 25,
   "metadata": {},
   "outputs": [
    {
     "ename": "ImportError",
     "evalue": "cannot import name 'BeautifulSoup2' from 'bs4' (C:\\ProgramData\\Anaconda3\\lib\\site-packages\\bs4\\__init__.py)",
     "output_type": "error",
     "traceback": [
      "\u001b[1;31m---------------------------------------------------------------------------\u001b[0m",
      "\u001b[1;31mImportError\u001b[0m                               Traceback (most recent call last)",
      "\u001b[1;32m<ipython-input-25-060dc73fcec6>\u001b[0m in \u001b[0;36m<module>\u001b[1;34m\u001b[0m\n\u001b[0;32m      1\u001b[0m \u001b[1;32mimport\u001b[0m \u001b[0mrequests\u001b[0m\u001b[1;33m\u001b[0m\u001b[1;33m\u001b[0m\u001b[0m\n\u001b[1;32m----> 2\u001b[1;33m \u001b[1;32mfrom\u001b[0m \u001b[0mbs4\u001b[0m \u001b[1;32mimport\u001b[0m \u001b[0mBeautifulSoup2\u001b[0m\u001b[1;33m\u001b[0m\u001b[1;33m\u001b[0m\u001b[0m\n\u001b[0m",
      "\u001b[1;31mImportError\u001b[0m: cannot import name 'BeautifulSoup2' from 'bs4' (C:\\ProgramData\\Anaconda3\\lib\\site-packages\\bs4\\__init__.py)"
     ]
    }
   ],
   "source": [
    "import requests\n",
    "from bs4 import BeautifulSoup2"
   ]
  },
  {
   "cell_type": "code",
   "execution_count": 26,
   "metadata": {},
   "outputs": [],
   "source": [
    "url='https://search.naver.com/search.naver?where=news&sm=tab_jum&query=%EB%A8%B8%EC%8B%A0%EB%9F%AC%EB%8B%9D'\n",
    "resp=requests.get(url)\n",
    "soup=BeautifulSoup(resp.content)"
   ]
  },
  {
   "cell_type": "code",
   "execution_count": 27,
   "metadata": {},
   "outputs": [],
   "source": [
    "# class:'.'\n",
    "# id: '#'\n",
    "# child: '>'\n",
    "\n",
    "# class 가 'type01'인 div 밑에\n",
    "# id가 'sp.nw1' li 태그가 있어요\n",
    "# 그리고 그 자식으로 'thumb'이라는 클래스가 있습니다.\n",
    "# 이 때 표현식은 다음과 같습니다.\n",
    "# 'ul.type01,il#sp_nw1>1.thumb'"
   ]
  },
  {
   "cell_type": "code",
   "execution_count": 28,
   "metadata": {},
   "outputs": [
    {
     "data": {
      "text/plain": [
       "[<div class=\"thumb\"><a class=\"sp_thmb thmb80\" href=\"http://www.datanet.co.kr/news/articleView.html?idxno=134845\" onclick=\"return goOtherCR(this, 'a=nws*b.img&amp;r=1&amp;i=880005C7_000000000000000000089417&amp;g=5096.0000089417&amp;u='+urlencode(this.href));\" target=\"_blank\"><img alt=\"데이터로봇, 쏘카에 머\" class=\"\" height=\"80\" onerror=\"this.parentNode.style.display='none';\" src=\"https://search.pstatic.net/common/?src=https%3A%2F%2Fimgnews.pstatic.net%2Fimage%2Forigin%2F5096%2F2019%2F06%2F18%2F89417.jpg&amp;type=ofullfill80_80_q75_re2\" width=\"80\"/><span class=\"thmb_v\"></span></a></div>]"
      ]
     },
     "execution_count": 28,
     "metadata": {},
     "output_type": "execute_result"
    }
   ],
   "source": [
    "soup.select('ul.type01 li#sp_nws1>.thumb')"
   ]
  },
  {
   "cell_type": "code",
   "execution_count": 29,
   "metadata": {},
   "outputs": [
    {
     "data": {
      "text/plain": [
       "[<li id=\"sp_nws1\"> <div class=\"thumb\"><a class=\"sp_thmb thmb80\" href=\"http://www.datanet.co.kr/news/articleView.html?idxno=134845\" onclick=\"return goOtherCR(this, 'a=nws*b.img&amp;r=1&amp;i=880005C7_000000000000000000089417&amp;g=5096.0000089417&amp;u='+urlencode(this.href));\" target=\"_blank\"><img alt=\"데이터로봇, 쏘카에 머\" class=\"\" height=\"80\" onerror=\"this.parentNode.style.display='none';\" src=\"https://search.pstatic.net/common/?src=https%3A%2F%2Fimgnews.pstatic.net%2Fimage%2Forigin%2F5096%2F2019%2F06%2F18%2F89417.jpg&amp;type=ofullfill80_80_q75_re2\" width=\"80\"/><span class=\"thmb_v\"></span></a></div> <dl> <dt><a class=\"_sp_each_url _sp_each_title\" href=\"http://www.datanet.co.kr/news/articleView.html?idxno=134845\" onclick=\"return goOtherCR(this, 'a=nws*b.tit&amp;r=1&amp;i=880005C7_000000000000000000089417&amp;g=5096.0000089417&amp;u='+urlencode(this.href));\" target=\"_blank\" title=\"데이터로봇, 쏘카에 머신러닝 자동화 솔루션 공급\">데이터로봇, 쏘카에 <strong class=\"hl\">머신러닝</strong> 자동화 솔루션 공급</a></dt> <dd class=\"txt_inline\"><span class=\"_sp_each_source\">데이터넷</span> <span class=\"bar\"></span> 2시간 전 <div class=\"scial\" id=\"sp_nws1_base\"> <span class=\"bar\"></span> <a class=\"bt_scial2 naver-splugin\" data-oninitialize=\"splugin_oninitialize('sp_nws1');\" data-style=\"unity-v2\" href=\"#\" onclick=\"goOtherTCR(this, 'a=nws*b.pplugin&amp;r=1&amp;i=880005C7_000000000000000000089417&amp;u='+urlencode(this.href)); return false;\">보내기</a> </div> </dd> <dd>데이터로봇(DataRobot, 한국지사장 김형탁)은 종합 모빌리티 기업 쏘카(대표 이재웅)에 자사의 <strong class=\"hl\">머신러닝</strong> 자동화 플랫폼을 공급, 차종 선정 및 차량 배치를 포함하는 모빌리티 혁신 서비스를 위한 모델 개발 시간을 단축시키고...</dd> <dd> <ul class=\"relation_lst\"> <li> <span class=\"ico_bu\"></span> <a href=\"http://robotzine.co.kr/entry/245238\" onclick=\"return goOtherCR(this, 'a=nws*d.tit&amp;r=2&amp;i=88194846_000000000000000000000111&amp;g=5733.0000000111&amp;u='+urlencode(this.href));\" target=\"_blank\" title=\"데이터로봇, 쏘카에 머신러닝 자동화 솔루션 공급\">데이터로봇, 쏘카에 <strong class=\"hl\">머신러닝</strong> 자동화 솔루션 공급</a> <span class=\"txt_sinfo\"> <span class=\"press\" title=\"월간로봇기술\">월간로봇기술</span> <span class=\"bar\"></span> 2시간 전 </span> </li> <li> <span class=\"ico_bu\"></span> <a href=\"http://www.ciokorea.com/news/124458\" onclick=\"return goOtherCR(this, 'a=nws*d.tit&amp;r=3&amp;i=88122F96_000000000000000000022783&amp;g=5177.0000022783&amp;u='+urlencode(this.href));\" target=\"_blank\" title=\"데이터로봇, 쏘카에 머신러닝 자동화 솔루션 공급\">데이터로봇, 쏘카에 <strong class=\"hl\">머신러닝</strong> 자동화 솔루션 공급</a> <span class=\"txt_sinfo\"> <span class=\"press\" title=\"CIO Korea\">CIO Korea</span> <span class=\"bar\"></span> 16분 전 </span> </li> <li> <span class=\"ico_bu\"></span> <a href=\"http://www.newsworks.co.kr/news/articleView.html?idxno=369187\" onclick=\"return goOtherCR(this, 'a=nws*d.tit&amp;r=4&amp;i=8817ca74_000000000000000000125038&amp;g=5525.0000125038&amp;u='+urlencode(this.href));\" target=\"_blank\" title=\"데이터로봇, 쏘카에 머신러닝 자동화 솔루션 공급\">데이터로봇, 쏘카에 <strong class=\"hl\">머신러닝</strong> 자동화 솔루션 공급</a> <span class=\"txt_sinfo\"> <span class=\"press\" title=\"뉴스웍스\">뉴스웍스</span> <span class=\"bar\"></span> 1시간 전 </span> </li> </ul> <div class=\"newr_more\"> <a class=\"more_news\" href=\"#\" onclick=\"news_submit_related_option('50960000089417', 0, 'nws*r.more'); return false;\">관련뉴스 4건 전체보기</a> </div> </dd> </dl> </li>,\n",
       " <li id=\"sp_nws5\"> <div class=\"thumb\"><a class=\"sp_thmb thmb80\" href=\"http://www.ciokorea.com/news/124437\" onclick=\"return goOtherCR(this, 'a=nws*f.img&amp;r=5&amp;i=88122F96_000000000000000000022781&amp;g=5177.0000022781&amp;u='+urlencode(this.href));\" target=\"_blank\"><img alt='\"머신러닝으로 위변조' class=\"\" height=\"80\" onerror=\"this.parentNode.style.display='none';\" src=\"https://search.pstatic.net/common/?src=https%3A%2F%2Fimgnews.pstatic.net%2Fimage%2Forigin%2F5177%2F2019%2F06%2F18%2F22781.jpg&amp;type=ofullfill80_80_q75_re2\" width=\"80\"/><span class=\"thmb_v\"></span></a></div> <dl> <dt><a class=\"_sp_each_url _sp_each_title\" href=\"http://www.ciokorea.com/news/124437\" onclick=\"return goOtherCR(this, 'a=nws*f.tit&amp;r=5&amp;i=88122F96_000000000000000000022781&amp;g=5177.0000022781&amp;u='+urlencode(this.href));\" target=\"_blank\" title='\"머신러닝으로 위변조된 사진 판별\"··· 어도비, UC 버클리와 공동 연구 프로젝트 진행'>\"<strong class=\"hl\">머신러닝</strong>으로 위변조된 사진 판별\"··· 어도비, UC 버클리와 공동 연구 프...</a></dt> <dd class=\"txt_inline\"><span class=\"_sp_each_source\">CIO Korea</span> <span class=\"bar\"></span> 2시간 전 <div class=\"scial\" id=\"sp_nws5_base\"> <span class=\"bar\"></span> <a class=\"bt_scial2 naver-splugin\" data-oninitialize=\"splugin_oninitialize('sp_nws5');\" data-style=\"unity-v2\" href=\"#\" onclick=\"goOtherTCR(this, 'a=nws*f.pplugin&amp;r=5&amp;i=88122F96_000000000000000000022781&amp;u='+urlencode(this.href)); return false;\">보내기</a> </div> </dd> <dd>이용하는 <strong class=\"hl\">머신러닝</strong>을 활용한다. 포토샵에서 제공하는 픽셀 유동화(Pixel Liquify)를 이용해 편집한 사진을 식별하는 데 우선 초점을 맞추고 있다. 이를 위해 연구팀은 픽셀 유동화를 적용해 편집한 얼굴 이미지의 변환 전과...</dd> </dl> </li>,\n",
       " <li id=\"sp_nws6\"> <div class=\"thumb\"><a class=\"sp_thmb thmb80\" href=\"http://www.thisisgame.com/webzine/game/nboard/225/?n=95153\" onclick=\"return goOtherCR(this, 'a=nws*b.img&amp;r=6&amp;i=88000422_000000000000000000099703&amp;g=5053.0000099703&amp;u='+urlencode(this.href));\" target=\"_blank\"><img alt=\"리듬댄스 게임 ‘오디\" class=\"\" height=\"80\" onerror=\"this.parentNode.style.display='none';\" src=\"https://search.pstatic.net/common/?src=https%3A%2F%2Fimgnews.pstatic.net%2Fimage%2Forigin%2F5053%2F2019%2F06%2F17%2F99703.jpg&amp;type=ofullfill80_80_q75_re2\" width=\"80\"/><span class=\"thmb_v\"></span></a></div> <dl> <dt><a class=\"_sp_each_url _sp_each_title\" href=\"http://www.thisisgame.com/webzine/game/nboard/225/?n=95153\" onclick=\"return goOtherCR(this, 'a=nws*b.tit&amp;r=6&amp;i=88000422_000000000000000000099703&amp;g=5053.0000099703&amp;u='+urlencode(this.href));\" target=\"_blank\" title=\"리듬댄스 게임 ‘오디션’, 자전거·러닝머신 등 운동용품 응모 이벤트 진행\">리듬댄스 게임 ‘오디션’, 자전거·<strong class=\"hl\">러닝</strong><strong class=\"hl\">머신</strong> 등 운동용품 응모 이벤트 진행</a></dt> <dd class=\"txt_inline\"><span class=\"_sp_each_source\">디스이즈게임</span> <span class=\"bar\"></span> 1일 전 <div class=\"scial\" id=\"sp_nws6_base\"> <span class=\"bar\"></span> <a class=\"bt_scial2 naver-splugin\" data-oninitialize=\"splugin_oninitialize('sp_nws6');\" data-style=\"unity-v2\" href=\"#\" onclick=\"goOtherTCR(this, 'a=nws*b.pplugin&amp;r=6&amp;i=88000422_000000000000000000099703&amp;u='+urlencode(this.href)); return false;\">보내기</a> </div> </dd> <dd>응모할 수 있는 상품은 자전거, 헬스사이클, <strong class=\"hl\">러닝</strong><strong class=\"hl\">머신</strong>, 스쿼트<strong class=\"hl\">머신</strong>, 전동킥보드, 갤럭시 스마트워치, 에어팟, 나이키 운동복, 운동화, 배럴 수영복, 휠라 백팩, 휴대용 선풍기 등이다. 유저들은 게임 내 스토리모드만...</dd> <dd> <ul class=\"relation_lst\"> <li> <span class=\"ico_bu\"></span> <a href=\"http://www.fomos.kr/redirect/news_view?news_cate_id=2&amp;entry_id=77149\" onclick=\"return goOtherCR(this, 'a=nws*c.tit&amp;r=7&amp;i=88000146_000000000000000000190787&amp;g=236.0000190787&amp;u='+urlencode(this.href));\" target=\"_blank\" title=\"'오디션', 자전거·러닝머신 등 운동용품 응모 이벤트 진행\">'오디션', 자전거·<strong class=\"hl\">러닝</strong><strong class=\"hl\">머신</strong> 등 운동용품 응모 이벤트 진행</a> <span class=\"txt_sinfo\"> <span class=\"press\" title=\"포모스\">포모스</span> <span class=\"bar\"></span> 1일 전 <span class=\"bar\"></span><a class=\"\" href=\"https://news.naver.com/main/read.nhn?mode=LSD&amp;mid=sec&amp;sid1=105&amp;oid=236&amp;aid=0000190787\" onclick=\"return goOtherCR(this, 'a=nws*c.nav&amp;r=7&amp;i=88000146_000000000000000000190787&amp;u='+urlencode(this.href));\" target=\"_blank\">네이버뉴스</a> </span> </li> <li> <span class=\"ico_bu\"></span> <a href=\"http://www.lawissue.co.kr/view.php?ud=201906170820095007204ead0791_12\" onclick=\"return goOtherCR(this, 'a=nws*d.tit&amp;r=8&amp;i=8817ca9e_000000000000000000143343&amp;g=5289.0000143343&amp;u='+urlencode(this.href));\" target=\"_blank\" title=\"오디션, 자전거·러닝머신 등 운동용품 응모 이벤트 진행\">오디션, 자전거·<strong class=\"hl\">러닝</strong><strong class=\"hl\">머신</strong> 등 운동용품 응모 이벤트 진행</a> <span class=\"txt_sinfo\"> <span class=\"press\" title=\"로이슈\">로이슈</span> <span class=\"bar\"></span> 1일 전 </span> </li> </ul> </dd> </dl> </li>,\n",
       " <li id=\"sp_nws9\"> <div class=\"thumb\"><a class=\"sp_thmb thmb80\" href=\"http://www.gvalley.co.kr/565779\" onclick=\"return goOtherCR(this, 'a=nws*f.img&amp;r=9&amp;i=8812C12F_000000000000000000057759&amp;g=5206.0000057759&amp;u='+urlencode(this.href));\" target=\"_blank\"><img alt=\"매스웍스코리아, MATL\" class=\"\" height=\"80\" onerror=\"this.parentNode.style.display='none';\" src=\"https://search.pstatic.net/common/?src=https%3A%2F%2Fimgnews.pstatic.net%2Fimage%2Forigin%2F5206%2F2019%2F06%2F17%2F57759.jpg&amp;type=ofullfill80_80_q75_re2\" width=\"80\"/><span class=\"thmb_v\"></span></a></div> <dl> <dt><a class=\"_sp_each_url _sp_each_title\" href=\"http://www.gvalley.co.kr/565779\" onclick=\"return goOtherCR(this, 'a=nws*f.tit&amp;r=9&amp;i=8812C12F_000000000000000000057759&amp;g=5206.0000057759&amp;u='+urlencode(this.href));\" target=\"_blank\" title=\"매스웍스코리아, MATLAB 활용한 인공지능 관련 세미나 개최\">매스웍스코리아, MATLAB 활용한 인공지능 관련 세미나 개최</a></dt> <dd class=\"txt_inline\"><span class=\"_sp_each_source\">G밸리뉴스</span> <span class=\"bar\"></span> 21시간 전 <div class=\"scial\" id=\"sp_nws9_base\"> <span class=\"bar\"></span> <a class=\"bt_scial2 naver-splugin\" data-oninitialize=\"splugin_oninitialize('sp_nws9');\" data-style=\"unity-v2\" href=\"#\" onclick=\"goOtherTCR(this, 'a=nws*f.pplugin&amp;r=9&amp;i=8812C12F_000000000000000000057759&amp;u='+urlencode(this.href)); return false;\">보내기</a> </div> </dd> <dd> 매스웍스코리아(대표 이종민)가 7월 18일 오후 1시부터 5시까지 서울 삼성동 코엑스 컨퍼런스룸 300호에서 성공적인 <strong class=\"hl\">머신러닝</strong> 및 딥러닝의 적용을 돕기 위한 세미나를 개최한다. 이번...</dd> </dl> </li>,\n",
       " <li id=\"sp_nws10\"> <div class=\"thumb\"><a class=\"sp_thmb thmb80\" href=\"http://www.ciokorea.com/news/124430\" onclick=\"return goOtherCR(this, 'a=nws*f.img&amp;r=10&amp;i=88122F96_000000000000000000022779&amp;g=5177.0000022779&amp;u='+urlencode(this.href));\" target=\"_blank\"><img alt='\"AI가 회사의 미래를 ' class=\"\" height=\"80\" onerror=\"this.parentNode.style.display='none';\" src=\"https://search.pstatic.net/common/?src=https%3A%2F%2Fimgnews.pstatic.net%2Fimage%2Forigin%2F5177%2F2019%2F06%2F17%2F22779.jpg&amp;type=ofullfill80_80_q75_re2\" width=\"80\"/><span class=\"thmb_v\"></span></a></div> <dl> <dt><a class=\"_sp_each_url _sp_each_title\" href=\"http://www.ciokorea.com/news/124430\" onclick=\"return goOtherCR(this, 'a=nws*f.tit&amp;r=10&amp;i=88122F96_000000000000000000022779&amp;g=5177.0000022779&amp;u='+urlencode(this.href));\" target=\"_blank\" title='\"AI가 회사의 미래를 주도한다\" SAS 올리버 샤벤버거'>\"AI가 회사의 미래를 주도한다\" SAS 올리버 샤벤버거</a></dt> <dd class=\"txt_inline\"><span class=\"_sp_each_source\">CIO Korea</span> <span class=\"bar\"></span> 19시간 전 <div class=\"scial\" id=\"sp_nws10_base\"> <span class=\"bar\"></span> <a class=\"bt_scial2 naver-splugin\" data-oninitialize=\"splugin_oninitialize('sp_nws10');\" data-style=\"unity-v2\" href=\"#\" onclick=\"goOtherTCR(this, 'a=nws*f.pplugin&amp;r=10&amp;i=88122F96_000000000000000000022779&amp;u='+urlencode(this.href)); return false;\">보내기</a> </div> </dd> <dd>반복성을 높이기 위해 데이터 준비를 자동화하려면 패턴인식 및 <strong class=\"hl\">머신러닝</strong>을 사용하여 변수를 입력하여 개인 데이터를 판별하지 못하게 하는 등 다양한 데이터, 비정형 데이터, 갈수록 복잡해지는 모델을 다뤄야...</dd> </dl> </li>,\n",
       " <li id=\"sp_nws11\"> <div class=\"thumb\"><a class=\"sp_thmb thmb80\" href=\"http://www.segye.com/content/html/2019/06/14/20190614505286.html?OutUrl=naver\" onclick=\"return goOtherCR(this, 'a=nws*a.img&amp;r=11&amp;i=880000D2_000000000000000003372076&amp;g=022.0003372076&amp;u='+urlencode(this.href));\" target=\"_blank\"><img alt=\"네이버, 세계 최고 권\" class=\"\" height=\"80\" onerror=\"this.parentNode.style.display='none';\" src=\"https://search.pstatic.net/common/?src=https%3A%2F%2Fimgnews.pstatic.net%2Fimage%2Forigin%2F022%2F2019%2F06%2F16%2F3372076.jpg&amp;type=ofullfill80_80_q75_re2\" width=\"80\"/><span class=\"thmb_v\"></span></a></div> <dl> <dt><a class=\"_sp_each_title\" href=\"http://www.segye.com/content/html/2019/06/14/20190614505286.html?OutUrl=naver\" onclick=\"return goOtherCR(this, 'a=nws*a.tit&amp;r=11&amp;i=880000D2_000000000000000003372076&amp;g=022.0003372076&amp;u='+urlencode(this.href));\" target=\"_blank\" title=\"네이버, 세계 최고 권위 머신러닝 컨퍼런스 'ICML 2019'서 주목\">네이버, 세계 최고 권위 <strong class=\"hl\">머신러닝</strong> 컨퍼런스 'ICML 2019'서 주목</a></dt> <dd class=\"txt_inline\"><span class=\"_sp_each_source\">세계일보</span> <span class=\"bar\"></span> 2일 전 <span class=\"bar\"></span> <a class=\"_sp_each_url\" href=\"https://news.naver.com/main/read.nhn?mode=LSD&amp;mid=sec&amp;sid1=105&amp;oid=022&amp;aid=0003372076\" onclick=\"return goOtherCR(this, 'a=nws*a.nav&amp;r=11&amp;i=880000D2_000000000000000003372076&amp;u='+urlencode(this.href));\" target=\"_blank\">네이버뉴스</a> <div class=\"scial\" id=\"sp_nws11_base\"> <span class=\"bar\"></span> <a class=\"bt_scial2 naver-splugin\" data-oninitialize=\"splugin_oninitialize('sp_nws11');\" data-style=\"unity-v2\" href=\"#\" onclick=\"goOtherTCR(this, 'a=nws*a.pplugin&amp;r=11&amp;i=880000D2_000000000000000003372076&amp;u='+urlencode(this.href)); return false;\">보내기</a> </div> </dd> <dd>네이버는 세계 최고의 <strong class=\"hl\">머신러닝</strong> 콘퍼런스인 ‘ICML(International Conference on Machine Learning, 기계 학습 국제 학회) 2019’에 참석해 연구 성과를 공개했다. 올해로 36회를 맞은 ICML은 인공지능(AI) 중에서도 <strong class=\"hl\">머신러닝</strong>...</dd> <dd> <ul class=\"relation_lst\"> <li> <span class=\"ico_bu\"></span> <a href=\"http://www.itdaily.kr/news/articleView.html?idxno=95289\" onclick=\"return goOtherCR(this, 'a=nws*d.tit&amp;r=12&amp;i=88000411_000000000000000000077395&amp;g=5046.0000077395&amp;u='+urlencode(this.href));\" target=\"_blank\" title=\"네이버, 'ICML 2019'에서 AI 연구 성과 공개\">네이버, 'ICML 2019'에서 AI 연구 성과 공개</a> <span class=\"txt_sinfo\"> <span class=\"press\" title=\"아이티데일리\">아이티데일리</span> <span class=\"bar\"></span> 1일 전 </span> </li> </ul> </dd> </dl> </li>,\n",
       " <li id=\"sp_nws13\"> <div class=\"thumb\"><a class=\"sp_thmb thmb80\" href=\"http://www.medicaltimes.com/Users/News/NewsView.html?mode=view&amp;ID=1127105&amp;REFERER=NP\" onclick=\"return goOtherCR(this, 'a=nws*f.img&amp;r=13&amp;i=88155e49_000000000000000000033848&amp;g=5391.0000033848&amp;u='+urlencode(this.href));\" target=\"_blank\"><img alt='\"디지털 수술 플랫폼,' class=\"\" height=\"80\" onerror=\"this.parentNode.style.display='none';\" src=\"https://search.pstatic.net/common/?src=https%3A%2F%2Fimgnews.pstatic.net%2Fimage%2Forigin%2F5391%2F2019%2F06%2F17%2F33848.jpg&amp;type=ofullfill80_80_q75_re2\" width=\"80\"/><span class=\"thmb_v\"></span></a></div> <dl> <dt><a class=\"_sp_each_url _sp_each_title\" href=\"http://www.medicaltimes.com/Users/News/NewsView.html?mode=view&amp;ID=1127105&amp;REFERER=NP\" onclick=\"return goOtherCR(this, 'a=nws*f.tit&amp;r=13&amp;i=88155e49_000000000000000000033848&amp;g=5391.0000033848&amp;u='+urlencode(this.href));\" target=\"_blank\" title='\"디지털 수술 플랫폼, 수술의 민주화 실현할 것\"'>\"디지털 수술 플랫폼, 수술의 민주화 실현할 것\"</a></dt> <dd class=\"txt_inline\"><span class=\"_sp_each_source\">메디칼타임즈</span> <span class=\"bar\"></span> 1일 전 <div class=\"scial\" id=\"sp_nws13_base\"> <span class=\"bar\"></span> <a class=\"bt_scial2 naver-splugin\" data-oninitialize=\"splugin_oninitialize('sp_nws13');\" data-style=\"unity-v2\" href=\"#\" onclick=\"goOtherTCR(this, 'a=nws*f.pplugin&amp;r=13&amp;i=88155e49_000000000000000000033848&amp;u='+urlencode(this.href)); return false;\">보내기</a> </div> </dd> <dd>수술의 민주화는 4차 산업혁명 핵심기술인 AI·<strong class=\"hl\">머신러닝</strong>을 접목하고 빅데이터 분석을 통해 축적된 데이터를 기반으로 실현 가능하다. 양질의 데이터가 의사들의 수술과정에서의 합리적인 의사 결정을 지원하고 숙련된...</dd> </dl> </li>,\n",
       " <li id=\"sp_nws14\"> <div class=\"thumb\"><a class=\"sp_thmb thmb80\" href=\"http://biz.chosun.com/site/data/html_dir/2019/06/14/2019061401675.html\" onclick=\"return goOtherCR(this, 'a=nws*h.img&amp;r=14&amp;i=88127058_000000000000000000436429&amp;g=366.0000436429&amp;u='+urlencode(this.href));\" target=\"_blank\"><img alt=\"네이버, 머신러닝 컨퍼\" class=\"\" height=\"80\" onerror=\"this.parentNode.style.display='none';\" src=\"https://search.pstatic.net/common/?src=https%3A%2F%2Fimgnews.pstatic.net%2Fimage%2Forigin%2F366%2F2019%2F06%2F14%2F436429.jpg&amp;type=ofullfill80_80_q75_re2\" width=\"80\"/><span class=\"thmb_v\"></span></a></div> <dl> <dt><a class=\"_sp_each_title\" href=\"http://biz.chosun.com/site/data/html_dir/2019/06/14/2019061401675.html\" onclick=\"return goOtherCR(this, 'a=nws*h.tit&amp;r=14&amp;i=88127058_000000000000000000436429&amp;g=366.0000436429&amp;u='+urlencode(this.href));\" target=\"_blank\" title=\"네이버, 머신러닝 컨퍼런스 'ICML 2019'서 연구성과 발표\">네이버, <strong class=\"hl\">머신러닝</strong> 컨퍼런스 'ICML 2019'서 연구성과 발표</a></dt> <dd class=\"txt_inline\"><span class=\"_sp_each_source\">조선비즈<i class=\"sprenew api_ico_pick\">언론사 선정</i></span> <span class=\"bar\"></span> 3일 전 <span class=\"bar\"></span> <a class=\"_sp_each_url\" href=\"https://news.naver.com/main/read.nhn?mode=LSD&amp;mid=sec&amp;sid1=105&amp;oid=366&amp;aid=0000436429\" onclick=\"return goOtherCR(this, 'a=nws*h.nav&amp;r=14&amp;i=88127058_000000000000000000436429&amp;u='+urlencode(this.href));\" target=\"_blank\">네이버뉴스</a> <div class=\"scial\" id=\"sp_nws14_base\"> <span class=\"bar\"></span> <a class=\"bt_scial2 naver-splugin\" data-oninitialize=\"splugin_oninitialize('sp_nws14');\" data-style=\"unity-v2\" href=\"#\" onclick=\"goOtherTCR(this, 'a=nws*h.pplugin&amp;r=14&amp;i=88127058_000000000000000000436429&amp;u='+urlencode(this.href)); return false;\">보내기</a> </div> </dd> <dd>네이버는 지난 9일부터 15일까지 미국 캘리포니아 롱비치 컨벤션 센터에서 열리는 세계적 <strong class=\"hl\">머신러닝</strong> 콘퍼런스 'ICML 2019'에 참석해 논문 3편을 발표했다고 14일 밝혔다. 특히 네이버 클로바 인턴(김영진, 남원태, 김현우)이...</dd> <dd> <ul class=\"relation_lst\"> <li> <span class=\"ico_bu\"></span> <a href=\"http://www.zdnet.co.kr/ArticleView.asp?artice_id=20190614090545\" onclick=\"return goOtherCR(this, 'a=nws*c.tit&amp;r=15&amp;i=8800011E_000000000000000002164083&amp;g=092.0002164083&amp;u='+urlencode(this.href));\" target=\"_blank\" title=\"네이버, 머신러닝 컨퍼런스 ICML 2019서 AI 연구성과 공개\">네이버, <strong class=\"hl\">머신러닝</strong> 컨퍼런스 ICML 2019서 AI 연구성과 공개</a> <span class=\"txt_sinfo\"> <span class=\"press\" title=\"ZDNet Korea\">ZDNet Korea</span> <span class=\"bar\"></span> 4일 전 <span class=\"bar\"></span><a class=\"_sp_each_url\" href=\"https://news.naver.com/main/read.nhn?mode=LSD&amp;mid=sec&amp;sid1=105&amp;oid=092&amp;aid=0002164083\" onclick=\"return goOtherCR(this, 'a=nws*c.nav&amp;r=15&amp;i=8800011E_000000000000000002164083&amp;u='+urlencode(this.href));\" target=\"_blank\">네이버뉴스</a> </span> </li> <li> <span class=\"ico_bu\"></span> <a href=\"https://www.venturesquare.net/783558\" onclick=\"return goOtherCR(this, 'a=nws*d.tit&amp;r=16&amp;i=8817ca87_000000000000000000006579&amp;g=5506.0000006579&amp;u='+urlencode(this.href));\" target=\"_blank\" title=\"네이버, 머신러닝 컨퍼런스 ICML2019에서 연구 성과 발표\">네이버, <strong class=\"hl\">머신러닝</strong> 컨퍼런스 ICML2019에서 연구 성과 발표</a> <span class=\"txt_sinfo\"> <span class=\"press\" title=\"벤처스퀘어\">벤처스퀘어</span> <span class=\"bar\"></span> 4일 전 </span> </li> <li> <span class=\"ico_bu\"></span> <a href=\"http://www.businesskorea.co.kr/news/articleView.html?idxno=32886\" onclick=\"return goOtherCR(this, 'a=nws*d.tit&amp;r=17&amp;i=88184457_000000000000000000010216&amp;g=5652.0000010216&amp;u='+urlencode(this.href));\" target=\"_blank\" title=\"네이버, 세계 최고 머신러닝 컨퍼런스 'ICML 2019'서 연구 성과 공개\">네이버, 세계 최고 <strong class=\"hl\">머신러닝</strong> 컨퍼런스 'ICML 2019'서 연구 성과 공개</a> <span class=\"txt_sinfo\"> <span class=\"press\" title=\"비지니스코리아\">비지니스코리아</span> <span class=\"bar\"></span> 3일 전 </span> </li> <li> <span class=\"ico_bu\"></span> <a href=\"http://biz.newdaily.co.kr/site/data/html/2019/06/14/2019061400044.html\" onclick=\"return goOtherCR(this, 'a=nws*d.tit&amp;r=18&amp;i=88000391_000000000000000000489442&amp;g=5005.0000489442&amp;u='+urlencode(this.href));\" target=\"_blank\" title=\"네이버, 머신러닝 컨퍼런스 'ICML 2019'서 연구성과 공개\">네이버, <strong class=\"hl\">머신러닝</strong> 컨퍼런스 'ICML 2019'서 연구성과 공개</a> <span class=\"txt_sinfo\"> <span class=\"press\" title=\"뉴데일리\">뉴데일리</span> <span class=\"bar\"></span> 4일 전 </span> </li> </ul> <div class=\"newr_more\"> <a class=\"more_news\" href=\"#\" onclick=\"news_submit_related_option('3660000436429', 0, 'nws*r.more'); return false;\">관련뉴스 19건 전체보기</a> </div> </dd> </dl> </li>,\n",
       " <li id=\"sp_nws19\"> <div class=\"thumb\"><a class=\"sp_thmb thmb80\" href=\"http://www.sportalkorea.com/news/view.php?gisa_uniq=2019061518523457&amp;section_code=7111&amp;cp=se&amp;gomb=1\" onclick=\"return goOtherCR(this, 'a=nws*e.img&amp;r=19&amp;i=880000D4_000000000000000002111773&amp;g=139.0002111773&amp;u='+urlencode(this.href));\" target=\"_blank\"><img alt=\"[ROAD FC 054] 러닝머\" class=\"\" height=\"80\" onerror=\"this.parentNode.style.display='none';\" src=\"https://search.pstatic.net/common/?src=https%3A%2F%2Fimgnews.pstatic.net%2Fimage%2Forigin%2F139%2F2019%2F06%2F15%2F2111773.jpg&amp;type=ofullfill80_80_q75_re2\" width=\"80\"/><span class=\"thmb_v\"></span></a></div> <dl> <dt><a class=\"_sp_each_title\" href=\"http://www.sportalkorea.com/news/view.php?gisa_uniq=2019061518523457&amp;section_code=7111&amp;cp=se&amp;gomb=1\" onclick=\"return goOtherCR(this, 'a=nws*e.tit&amp;r=19&amp;i=880000D4_000000000000000002111773&amp;g=139.0002111773&amp;u='+urlencode(this.href));\" target=\"_blank\" title=\"[ROAD FC 054] 러닝머신만 뛰었다는 장익환, 여유에는 이유가 있었다\">[ROAD FC 054] <strong class=\"hl\">러닝</strong><strong class=\"hl\">머신</strong>만 뛰었다는 장익환, 여유에는 이유가 있었다</a></dt> <dd class=\"txt_inline\"><span class=\"_sp_each_source\">스포탈코리아</span> <span class=\"bar\"></span> 2일 전 <span class=\"bar\"></span> <a class=\"_sp_each_url\" href=\"http://sports.news.naver.com/general/news/read.nhn?oid=139&amp;aid=0002111773\" onclick=\"return goOtherCR(this, 'a=nws*e.nav&amp;r=19&amp;i=880000D4_000000000000000002111773&amp;u='+urlencode(this.href));\" target=\"_blank\">네이버뉴스</a> <div class=\"scial\" id=\"sp_nws19_base\"> <span class=\"bar\"></span> <a class=\"bt_scial2 naver-splugin\" data-oninitialize=\"splugin_oninitialize('sp_nws19');\" data-style=\"unity-v2\" href=\"#\" onclick=\"goOtherTCR(this, 'a=nws*e.pplugin&amp;r=19&amp;i=880000D4_000000000000000002111773&amp;u='+urlencode(this.href)); return false;\">보내기</a> </div> </dd> <dd><strong class=\"hl\">러닝</strong><strong class=\"hl\">머신</strong>만 1시간씩 뛰었다. 내일도 가볍게 뛰는 <strong class=\"hl\">러닝</strong><strong class=\"hl\">머신</strong> 전략으로 나서겠다” 경기 전날 열린 대회 공식 계체량을 마치고 장익환(32,팀 파시)이 내뱉은 말이었다. 장익환은 경기력으로 자신의 말을 책임졌다....</dd> </dl> </li>,\n",
       " <li id=\"sp_nws20\"> <div class=\"thumb\"><a class=\"sp_thmb thmb80\" href=\"http://www.g-enews.com/ko-kr/news/article/news_all/2019061607594095044e4869c120_1/article.html\" onclick=\"return goOtherCR(this, 'a=nws*f.img&amp;r=20&amp;i=88155e63_000000000000000000319902&amp;g=5366.0000319902&amp;u='+urlencode(this.href));\" target=\"_blank\"><img alt=\"출산 후 25kg 감량한 \" class=\"\" height=\"80\" onerror=\"this.parentNode.style.display='none';\" src=\"https://search.pstatic.net/common/?src=https%3A%2F%2Fimgnews.pstatic.net%2Fimage%2Forigin%2F5366%2F2019%2F06%2F16%2F319902.jpg&amp;type=ofullfill80_80_q75_re2\" width=\"80\"/><span class=\"thmb_v\"></span></a></div> <dl> <dt><a class=\"_sp_each_url _sp_each_title\" href=\"http://www.g-enews.com/ko-kr/news/article/news_all/2019061607594095044e4869c120_1/article.html\" onclick=\"return goOtherCR(this, 'a=nws*f.tit&amp;r=20&amp;i=88155e63_000000000000000000319902&amp;g=5366.0000319902&amp;u='+urlencode(this.href));\" target=\"_blank\" title=\"출산 후 25kg 감량한 홍지민 핑거루트 뜨거운 감자?... 러닝머신스피드 5.5걷기 등 주목\">출산 후 25kg 감량한 홍지민 핑거루트 뜨거운 감자?... <strong class=\"hl\">러닝</strong><strong class=\"hl\">머신</strong>스피드 5.5걷...</a></dt> <dd class=\"txt_inline\"><span class=\"_sp_each_source\">글로벌이코노믹</span> <span class=\"bar\"></span> 2일 전 <div class=\"scial\" id=\"sp_nws20_base\"> <span class=\"bar\"></span> <a class=\"bt_scial2 naver-splugin\" data-oninitialize=\"splugin_oninitialize('sp_nws20');\" data-style=\"unity-v2\" href=\"#\" onclick=\"goOtherTCR(this, 'a=nws*f.pplugin&amp;r=20&amp;i=88155e63_000000000000000000319902&amp;u='+urlencode(this.href)); return false;\">보내기</a> </div> </dd> <dd>맛이 나 향신료와 조미료 차, 등의 다양한 섭취가 가능한 뿌리식품의 슈퍼푸드로 알려져 있다. 홍지민의 다이어트는 아침은 꼭 필수, 단백질 탄수화물 섭취 <strong class=\"hl\">러닝</strong><strong class=\"hl\">머신</strong>스피드 5.5걷기 등이다. 온기동 글로벌이코노믹 기자</dd> </dl> </li>]"
      ]
     },
     "execution_count": 29,
     "metadata": {},
     "output_type": "execute_result"
    }
   ],
   "source": [
    "ulLst=soup.select('ul.type01>li') # 바로 자식만 가져오기\n",
    "ulLst"
   ]
  },
  {
   "cell_type": "code",
   "execution_count": 30,
   "metadata": {},
   "outputs": [
    {
     "data": {
      "text/plain": [
       "10"
      ]
     },
     "execution_count": 30,
     "metadata": {},
     "output_type": "execute_result"
    }
   ],
   "source": [
    "len(ulLst)"
   ]
  },
  {
   "cell_type": "code",
   "execution_count": null,
   "metadata": {},
   "outputs": [],
   "source": []
  }
 ],
 "metadata": {
  "kernelspec": {
   "display_name": "Python 3",
   "language": "python",
   "name": "python3"
  },
  "language_info": {
   "codemirror_mode": {
    "name": "ipython",
    "version": 3
   },
   "file_extension": ".py",
   "mimetype": "text/x-python",
   "name": "python",
   "nbconvert_exporter": "python",
   "pygments_lexer": "ipython3",
   "version": "3.7.3"
  }
 },
 "nbformat": 4,
 "nbformat_minor": 2
}
