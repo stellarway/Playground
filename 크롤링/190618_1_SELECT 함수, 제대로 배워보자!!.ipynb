{
 "cells": [
  {
   "cell_type": "markdown",
   "metadata": {},
   "source": [
    "# Select"
   ]
  },
  {
   "cell_type": "code",
   "execution_count": 2,
   "metadata": {},
   "outputs": [],
   "source": [
    "import requests\n",
    "from bs4 import BeautifulSoup"
   ]
  },
  {
   "cell_type": "code",
   "execution_count": 3,
   "metadata": {},
   "outputs": [],
   "source": [
    "url='https://search.naver.com/search.naver?where=news&sm=tab_jum&query=%EB%A8%B8%EC%8B%A0%EB%9F%AC%EB%8B%9D'\n",
    "resp=requests.get(url)\n",
    "soup=BeautifulSoup(resp.content)"
   ]
  },
  {
   "cell_type": "code",
   "execution_count": 4,
   "metadata": {},
   "outputs": [],
   "source": [
    "# class:'.'\n",
    "# id: '#'\n",
    "# child: '>'\n",
    "\n",
    "# class 가 'type01'인 div 밑에\n",
    "# id가 'sp.nw1' li 태그가 있어요\n",
    "# 그리고 그 자식으로 'thumb'이라는 클래스가 있습니다.\n",
    "# 이 때 표현식은 다음과 같습니다.\n",
    "# 'ul.type01,il#sp_nw1>1.thumb'"
   ]
  },
  {
   "cell_type": "code",
   "execution_count": null,
   "metadata": {},
   "outputs": [],
   "source": []
  },
  {
   "cell_type": "code",
   "execution_count": 5,
   "metadata": {},
   "outputs": [
    {
     "data": {
      "text/plain": [
       "[<div class=\"thumb\"><a class=\"sp_thmb thmb80\" href=\"http://it.chosun.com/site/data/html_dir/2019/08/27/2019082702398.html\" onclick=\"return goOtherCR(this, 'a=nws*b.img&amp;r=1&amp;i=88135207_000000000000000000115070&amp;g=5242.0000115070&amp;u='+urlencode(this.href));\" target=\"_blank\"><img alt=\"구글, 넷마블에 AI 머\" class=\"\" height=\"80\" onerror=\"this.parentNode.style.display='none';\" src=\"https://search.pstatic.net/common/?src=https%3A%2F%2Fimgnews.pstatic.net%2Fimage%2Forigin%2F5242%2F2019%2F08%2F27%2F115070.jpg&amp;type=ofullfill80_80_q75_re2\" width=\"80\"/><span class=\"thmb_v\"></span></a></div>]"
      ]
     },
     "execution_count": 5,
     "metadata": {},
     "output_type": "execute_result"
    }
   ],
   "source": [
    "soup.select('ul.type01 li#sp_nws1>.thumb')"
   ]
  },
  {
   "cell_type": "code",
   "execution_count": 6,
   "metadata": {},
   "outputs": [
    {
     "data": {
      "text/plain": [
       "[<li id=\"sp_nws1\"> <div class=\"thumb\"><a class=\"sp_thmb thmb80\" href=\"http://it.chosun.com/site/data/html_dir/2019/08/27/2019082702398.html\" onclick=\"return goOtherCR(this, 'a=nws*b.img&amp;r=1&amp;i=88135207_000000000000000000115070&amp;g=5242.0000115070&amp;u='+urlencode(this.href));\" target=\"_blank\"><img alt=\"구글, 넷마블에 AI 머\" class=\"\" height=\"80\" onerror=\"this.parentNode.style.display='none';\" src=\"https://search.pstatic.net/common/?src=https%3A%2F%2Fimgnews.pstatic.net%2Fimage%2Forigin%2F5242%2F2019%2F08%2F27%2F115070.jpg&amp;type=ofullfill80_80_q75_re2\" width=\"80\"/><span class=\"thmb_v\"></span></a></div> <dl> <dt><a class=\"_sp_each_url _sp_each_title\" href=\"http://it.chosun.com/site/data/html_dir/2019/08/27/2019082702398.html\" onclick=\"return goOtherCR(this, 'a=nws*b.tit&amp;r=1&amp;i=88135207_000000000000000000115070&amp;g=5242.0000115070&amp;u='+urlencode(this.href));\" target=\"_blank\" title=\"구글, 넷마블에 AI 머신러닝 적용…게임 이용자 유지·분석\">구글, 넷마블에 AI <strong class=\"hl\">머신러닝</strong> 적용…게임 이용자 유지·분석</a></dt> <dd class=\"txt_inline\"><span class=\"_sp_each_source\">IT조선</span> <span class=\"bar\"></span> 23시간 전 <div class=\"scial\" id=\"sp_nws1_base\"> <span class=\"bar\"></span> <a class=\"bt_scial2 naver-splugin\" data-oninitialize=\"splugin_oninitialize('sp_nws1');\" data-style=\"unity-v2\" href=\"#\" onclick=\"goOtherTCR(this, 'a=nws*b.pplugin&amp;r=1&amp;i=88135207_000000000000000000115070&amp;u='+urlencode(this.href)); return false;\">보내기</a> </div> </dd> <dd>구글은 게임 제작사 넷마블에 구글 클라우드 기반 인공지능(AI) <strong class=\"hl\">머신러닝</strong>(기계학습) 시스템을 적용했다고 27일 밝혔다. 넷마블은 2017년 구글 클라우드 플랫폼을 도입했다. 넷마블은 최근 AI 기반 <strong class=\"hl\">머신러닝</strong> 시스템을 자사...</dd> <dd> <ul class=\"relation_lst\"> <li> <span class=\"ico_bu\"></span> <a href=\"http://www.digitaltoday.co.kr/news/articleView.html?idxno=214130\" onclick=\"return goOtherCR(this, 'a=nws*d.tit&amp;r=2&amp;i=88104684_000000000000000000079751&amp;g=5137.0000079751&amp;u='+urlencode(this.href));\" target=\"_blank\" title=\"구글X넷마블, 게임 비즈니스 혁신위해 AI로 뭉쳤다\">구글X넷마블, 게임 비즈니스 혁신위해 AI로 뭉쳤다</a> <span class=\"txt_sinfo\"> <span class=\"press\" title=\"디지털투데이\">디지털투데이</span> <span class=\"bar\"></span> 1일 전 </span> </li> <li> <span class=\"ico_bu\"></span> <a href=\"http://www.gameshot.net/common/con_view.php?code=GA5d648aaa56dbe\" onclick=\"return goOtherCR(this, 'a=nws*d.tit&amp;r=3&amp;i=88196fc1_000000000000000000001698&amp;g=5739.0000001698&amp;u='+urlencode(this.href));\" target=\"_blank\" title=\"구글 클라우드 AI, 넷마블에 지능형 게임 기술 지원\">구글 클라우드 AI, 넷마블에 지능형 게임 기술 지원</a> <span class=\"txt_sinfo\"> <span class=\"press\" title=\"게임샷\">게임샷</span> <span class=\"bar\"></span> 1일 전 </span> </li> <li> <span class=\"ico_bu\"></span> <a href=\"http://www.itdaily.kr/news/articleView.html?idxno=96597\" onclick=\"return goOtherCR(this, 'a=nws*d.tit&amp;r=4&amp;i=88000411_000000000000000000078686&amp;g=5046.0000078686&amp;u='+urlencode(this.href));\" target=\"_blank\" title=\"구글 클라우드, 넷마블 지능형 게임 기술에 AI 기술 지원\">구글 클라우드, 넷마블 지능형 게임 기술에 AI 기술 지원</a> <span class=\"txt_sinfo\"> <span class=\"press\" title=\"아이티데일리\">아이티데일리</span> <span class=\"bar\"></span> 1일 전 </span> </li> <li> <span class=\"ico_bu\"></span> <a href=\"http://www.datanet.co.kr/news/articleView.html?idxno=136820\" onclick=\"return goOtherCR(this, 'a=nws*d.tit&amp;r=5&amp;i=880005C7_000000000000000000091377&amp;g=5096.0000091377&amp;u='+urlencode(this.href));\" target=\"_blank\" title=\"구글 클라우드 AI, 넷마블에 지능형 게임 기술 지원\">구글 클라우드 AI, 넷마블에 지능형 게임 기술 지원</a> <span class=\"txt_sinfo\"> <span class=\"press\" title=\"데이터넷\">데이터넷</span> <span class=\"bar\"></span> 1일 전 </span> </li> </ul> <div class=\"newr_more\"> <a class=\"more_news\" href=\"#\" onclick=\"news_submit_related_option('52420000115070', 0, 'nws*r.more'); return false;\">관련뉴스 15건 전체보기</a> </div> </dd> </dl> </li>,\n",
       " <li id=\"sp_nws6\"> <div class=\"thumb\"><a class=\"sp_thmb thmb80\" href=\"https://www.dailysecu.com/news/articleView.html?idxno=65886\" onclick=\"return goOtherCR(this, 'a=nws*f.img&amp;r=6&amp;i=88155e72_000000000000000000047935&amp;g=5350.0000047935&amp;u='+urlencode(this.href));\" target=\"_blank\"><img alt=\"시큐리온 머신러닝 기\" class=\"\" height=\"80\" onerror=\"this.parentNode.style.display='none';\" src=\"https://search.pstatic.net/common/?src=https%3A%2F%2Fimgnews.pstatic.net%2Fimage%2Forigin%2F5350%2F2019%2F08%2F26%2F47935.jpg&amp;type=ofullfill80_80_q75_re2\" width=\"80\"/><span class=\"thmb_v\"></span></a></div> <dl> <dt><a class=\"_sp_each_url _sp_each_title\" href=\"https://www.dailysecu.com/news/articleView.html?idxno=65886\" onclick=\"return goOtherCR(this, 'a=nws*f.tit&amp;r=6&amp;i=88155e72_000000000000000000047935&amp;g=5350.0000047935&amp;u='+urlencode(this.href));\" target=\"_blank\" title=\"시큐리온 머신러닝 기반 'OnAV(온백신)', 더 엄격해진 AV-TEST에도 7회 연속 인증...탐지 성능 입증\">시큐리온 <strong class=\"hl\">머신러닝</strong> 기반 'OnAV(온백신)', 더 엄격해진 AV-TEST에도 7회 연속 ...</a></dt> <dd class=\"txt_inline\"><span class=\"_sp_each_source\">데일리시큐</span> <span class=\"bar\"></span> 1일 전 <div class=\"scial\" id=\"sp_nws6_base\"> <span class=\"bar\"></span> <a class=\"bt_scial2 naver-splugin\" data-oninitialize=\"splugin_oninitialize('sp_nws6');\" data-style=\"unity-v2\" href=\"#\" onclick=\"goOtherTCR(this, 'a=nws*f.pplugin&amp;r=6&amp;i=88155e72_000000000000000000047935&amp;u='+urlencode(this.href)); return false;\">보내기</a> </div> </dd> <dd>시큐리온(대표 유동훈)이 자사 <strong class=\"hl\">머신러닝</strong> 기반 안티바이러스 솔루션 OnAV(온백신)가 독일 소재 글로벌 보안제품 성능평가기관 'AV-TEST' 7회 연속 인증을 획득했다고 26일 밝혔다. 특히 강화된 기준을 통과했다는 점에서 그...</dd> </dl> </li>,\n",
       " <li id=\"sp_nws7\"> <div class=\"thumb\"><a class=\"sp_thmb thmb80\" href=\"http://www.zdnet.co.kr/ArticleView.asp?artice_id=20190828091417\" onclick=\"return goOtherCR(this, 'a=nws*a.img&amp;r=7&amp;i=8800011E_000000000000000002169196&amp;g=092.0002169196&amp;u='+urlencode(this.href));\" target=\"_blank\"><img alt=\"넷마블, 구글클라우드\" class=\"\" height=\"80\" onerror=\"this.parentNode.style.display='none';\" src=\"https://search.pstatic.net/common/?src=https%3A%2F%2Fimgnews.pstatic.net%2Fimage%2Forigin%2F092%2F2019%2F08%2F28%2F2169196.jpg&amp;type=ofullfill80_80_q75_re2\" width=\"80\"/><span class=\"thmb_v\"></span></a></div> <dl> <dt><a class=\"_sp_each_title\" href=\"http://www.zdnet.co.kr/ArticleView.asp?artice_id=20190828091417\" onclick=\"return goOtherCR(this, 'a=nws*a.tit&amp;r=7&amp;i=8800011E_000000000000000002169196&amp;g=092.0002169196&amp;u='+urlencode(this.href));\" target=\"_blank\" title=\"넷마블, 구글클라우드AI로 게임서비스 지능화\">넷마블, 구글클라우드AI로 게임서비스 지능화</a></dt> <dd class=\"txt_inline\"><span class=\"_sp_each_source\">ZDNet Korea</span> <span class=\"bar\"></span> 7시간 전 <span class=\"bar\"></span> <a class=\"_sp_each_url\" href=\"https://news.naver.com/main/read.nhn?mode=LSD&amp;mid=sec&amp;sid1=105&amp;oid=092&amp;aid=0002169196\" onclick=\"return goOtherCR(this, 'a=nws*a.nav&amp;r=7&amp;i=8800011E_000000000000000002169196&amp;u='+urlencode(this.href));\" target=\"_blank\">네이버뉴스</a> <div class=\"scial\" id=\"sp_nws7_base\"> <span class=\"bar\"></span> <a class=\"bt_scial2 naver-splugin\" data-oninitialize=\"splugin_oninitialize('sp_nws7');\" data-style=\"unity-v2\" href=\"#\" onclick=\"goOtherTCR(this, 'a=nws*a.pplugin&amp;r=7&amp;i=8800011E_000000000000000002169196&amp;u='+urlencode(this.href)); return false;\">보내기</a> </div> </dd> <dd>최근 인프라에 구글 클라우드 AI 기반 <strong class=\"hl\">머신러닝</strong>을 적용해 게임 개발, 운영, 마케팅 혁신을 추구하고 있다. 넷마블은 게임 운영 부문의 지능형 솔루션인 ‘콜럼버스’ 기술에 구글 클라우드 AI를 적용했다. 세계 120개국...</dd> <dd> <ul class=\"relation_lst\"> <li> <span class=\"ico_bu\"></span> <a href=\"http://moneys.mt.co.kr/news/mwView.php?no=2019082715588057518\" onclick=\"return goOtherCR(this, 'a=nws*c.tit&amp;r=8&amp;i=8812805E_000000000000000000442927&amp;g=417.0000442927&amp;u='+urlencode(this.href));\" target=\"_blank\" title=\"넷마블이 '구글 클라우드 AI ' 활용한 이유는\">넷마블이 '구글 클라우드 AI ' 활용한 이유는</a> <span class=\"txt_sinfo\"> <span class=\"press\" title=\"머니S\">머니S</span> <span class=\"bar\"></span> 9시간 전 <span class=\"bar\"></span><a class=\"_sp_each_url\" href=\"https://news.naver.com/main/read.nhn?mode=LSD&amp;mid=sec&amp;sid1=105&amp;oid=417&amp;aid=0000442927\" onclick=\"return goOtherCR(this, 'a=nws*c.nav&amp;r=8&amp;i=8812805E_000000000000000000442927&amp;u='+urlencode(this.href));\" target=\"_blank\">네이버뉴스</a> </span> </li> </ul> </dd> </dl> </li>,\n",
       " <li id=\"sp_nws9\"> <div class=\"thumb\"><a class=\"sp_thmb thmb80\" href=\"http://www.itdaily.kr/news/articleView.html?idxno=96618\" onclick=\"return goOtherCR(this, 'a=nws*f.img&amp;r=9&amp;i=88000411_000000000000000000078698&amp;g=5046.0000078698&amp;u='+urlencode(this.href));\" target=\"_blank\"><img alt=\"엔비디아, ‘VM웨어 클\" class=\"\" height=\"80\" onerror=\"this.parentNode.style.display='none';\" src=\"https://search.pstatic.net/common/?src=https%3A%2F%2Fimgnews.pstatic.net%2Fimage%2Forigin%2F5046%2F2019%2F08%2F28%2F78698.jpg&amp;type=ofullfill80_80_q75_re2\" width=\"80\"/><span class=\"thmb_v\"></span></a></div> <dl> <dt><a class=\"_sp_each_url _sp_each_title\" href=\"http://www.itdaily.kr/news/articleView.html?idxno=96618\" onclick=\"return goOtherCR(this, 'a=nws*f.tit&amp;r=9&amp;i=88000411_000000000000000000078698&amp;g=5046.0000078698&amp;u='+urlencode(this.href));\" target=\"_blank\" title=\"엔비디아, 'VM웨어 클라우드 온 AWS'에 GPU 가속화 지원\">엔비디아, 'VM웨어 클라우드 온 AWS'에 GPU 가속화 지원</a></dt> <dd class=\"txt_inline\"><span class=\"_sp_each_source\">아이티데일리</span> <span class=\"bar\"></span> 8시간 전 <div class=\"scial\" id=\"sp_nws9_base\"> <span class=\"bar\"></span> <a class=\"bt_scial2 naver-splugin\" data-oninitialize=\"splugin_oninitialize('sp_nws9');\" data-style=\"unity-v2\" href=\"#\" onclick=\"goOtherTCR(this, 'a=nws*f.pplugin&amp;r=9&amp;i=88000411_000000000000000000078698&amp;u='+urlencode(this.href)); return false;\">보내기</a> </div> </dd> <dd>엔비디아(CEO 젠슨 황)와 VM웨어(VMware)는 인공지능(AI), <strong class=\"hl\">머신 러닝</strong>, 데이터 분석 워크플로우를 포함한 최신 엔터프라이즈 애플리케이션을 지원하기 위해 'VM웨어 클라우드 온 AWS(VMware Cloud on AWS)'에 가속화된 GPU...</dd> </dl> </li>,\n",
       " <li id=\"sp_nws10\"> <div class=\"thumb\"><a class=\"sp_thmb thmb80\" href=\"http://www.dt.co.kr/contents.html?article_no=2019082702102369660001&amp;ref=naver\" onclick=\"return goOtherCR(this, 'a=nws*e.img&amp;r=10&amp;i=880000AD_000000000000000002548827&amp;g=029.0002548827&amp;u='+urlencode(this.href));\" target=\"_blank\"><img alt=\"[포럼] `머신러닝` 파\" class=\"\" height=\"80\" onerror=\"this.parentNode.style.display='none';\" src=\"https://search.pstatic.net/common/?src=https%3A%2F%2Fimgnews.pstatic.net%2Fimage%2Forigin%2F029%2F2019%2F08%2F26%2F2548827.jpg&amp;type=ofullfill80_80_q75_re2\" width=\"80\"/><span class=\"thmb_v\"></span></a></div> <dl> <dt><a class=\"_sp_each_title\" href=\"http://www.dt.co.kr/contents.html?article_no=2019082702102369660001&amp;ref=naver\" onclick=\"return goOtherCR(this, 'a=nws*e.tit&amp;r=10&amp;i=880000AD_000000000000000002548827&amp;g=029.0002548827&amp;u='+urlencode(this.href));\" target=\"_blank\" title=\"[포럼] `머신러닝` 파괴력에 주목하라\">[포럼] `<strong class=\"hl\">머신러닝</strong>` 파괴력에 주목하라</a></dt> <dd class=\"txt_inline\"><span class=\"_sp_each_source\">디지털타임스</span> <span class=\"bar\"></span> <span class=\"newspaper\">23면1단</span> <span class=\"bar\"></span> 1일 전 <span class=\"bar\"></span> <a class=\"_sp_each_url\" href=\"https://news.naver.com/main/read.nhn?mode=LSD&amp;mid=sec&amp;sid1=110&amp;oid=029&amp;aid=0002548827\" onclick=\"return goOtherCR(this, 'a=nws*e.nav&amp;r=10&amp;i=880000AD_000000000000000002548827&amp;u='+urlencode(this.href));\" target=\"_blank\">네이버뉴스</a> <div class=\"scial\" id=\"sp_nws10_base\"> <span class=\"bar\"></span> <a class=\"bt_scial2 naver-splugin\" data-oninitialize=\"splugin_oninitialize('sp_nws10');\" data-style=\"unity-v2\" href=\"#\" onclick=\"goOtherTCR(this, 'a=nws*e.pplugin&amp;r=10&amp;i=880000AD_000000000000000002548827&amp;u='+urlencode(this.href)); return false;\">보내기</a> </div> </dd> <dd>장주욱 서강대 전자공학과 교수 <strong class=\"hl\">머신 러닝</strong>은 기존의 컴퓨터 프로그램과 크게 다르다. 세금 계산은 아무리 복잡해도 사람이 만든 프로그램에 따라 컴퓨터가 쉽게 처리할 수 있다. 그러나 컴퓨터가 사진을 보고 개와...</dd> </dl> </li>,\n",
       " <li id=\"sp_nws11\"> <dl> <dt><a class=\"_sp_each_url _sp_each_title\" href=\"https://www.dailysecu.com/news/articleView.html?idxno=65893\" onclick=\"return goOtherCR(this, 'a=nws*f.tit&amp;r=11&amp;i=88155e72_000000000000000000047949&amp;g=5350.0000047949&amp;u='+urlencode(this.href));\" target=\"_blank\" title=\"모젠코리아, '머신러닝 통합 보안 분석 플랫폼 '스타라이트3.3버전' 공개\">모젠코리아, '<strong class=\"hl\">머신러닝</strong> 통합 보안 분석 플랫폼 '스타라이트3.3버전' 공개</a></dt> <dd class=\"txt_inline\"><span class=\"_sp_each_source\">데일리시큐</span> <span class=\"bar\"></span> 1일 전 <div class=\"scial\" id=\"sp_nws11_base\"> <span class=\"bar\"></span> <a class=\"bt_scial2 naver-splugin\" data-oninitialize=\"splugin_oninitialize('sp_nws11');\" data-style=\"unity-v2\" href=\"#\" onclick=\"goOtherTCR(this, 'a=nws*f.pplugin&amp;r=11&amp;i=88155e72_000000000000000000047949&amp;u='+urlencode(this.href)); return false;\">보내기</a> </div> </dd> <dd>모젠코리아(대표 노철희)는 미국 라스베거스에서 열린 2019 블랙햇(Black Hat)컨퍼런스를 통해 <strong class=\"hl\">머신러닝</strong> 동적 피싱 탐지 및 자동 이벤트 상관관계 분석이라는 기능을 갖춘, <strong class=\"hl\">머신러닝</strong> 통합 보안 분석 플랫폼 스타라이트 3....</dd> </dl> </li>,\n",
       " <li id=\"sp_nws12\"> <div class=\"thumb\"><a class=\"sp_thmb thmb80\" href=\"http://www.hellot.net/new_hellot/magazine/magazine_read.html?code=201&amp;sub=002&amp;idx=47641\" onclick=\"return goOtherCR(this, 'a=nws*f.img&amp;r=12&amp;i=88166537_000000000000000000015163&amp;g=5417.0000015163&amp;u='+urlencode(this.href));\" target=\"_blank\"><img alt=\"[애플리케이션노트] 수\" class=\"\" height=\"80\" onerror=\"this.parentNode.style.display='none';\" src=\"https://search.pstatic.net/common/?src=https%3A%2F%2Fimgnews.pstatic.net%2Fimage%2Forigin%2F5417%2F2019%2F08%2F27%2F15163.jpg&amp;type=ofullfill80_80_q75_re2\" width=\"80\"/><span class=\"thmb_v\"></span></a></div> <dl> <dt><a class=\"_sp_each_url _sp_each_title\" href=\"http://www.hellot.net/new_hellot/magazine/magazine_read.html?code=201&amp;sub=002&amp;idx=47641\" onclick=\"return goOtherCR(this, 'a=nws*f.tit&amp;r=12&amp;i=88166537_000000000000000000015163&amp;g=5417.0000015163&amp;u='+urlencode(this.href));\" target=\"_blank\" title=\"[애플리케이션노트] 수아랩, SuaKIT 딥러닝 머신비전 소프트웨어 라이브러리\">[애플리케이션노트] 수아랩, SuaKIT 딥<strong class=\"hl\">러닝</strong> <strong class=\"hl\">머신</strong>비전 소프트웨어 라이브러리</a></dt> <dd class=\"txt_inline\"><span class=\"_sp_each_source\">헬로티</span> <span class=\"bar\"></span> 1일 전 <div class=\"scial\" id=\"sp_nws12_base\"> <span class=\"bar\"></span> <a class=\"bt_scial2 naver-splugin\" data-oninitialize=\"splugin_oninitialize('sp_nws12');\" data-style=\"unity-v2\" href=\"#\" onclick=\"goOtherTCR(this, 'a=nws*f.pplugin&amp;r=12&amp;i=88166537_000000000000000000015163&amp;u='+urlencode(this.href)); return false;\">보내기</a> </div> </dd> <dd>딥<strong class=\"hl\">러닝</strong> 검사 방식 vs <strong class=\"hl\">머신</strong>비전 검사 방식기존 <strong class=\"hl\">머신</strong>비전 검사 방식은 정형화된 패턴 속에서 불량의 특징(명도, 반경 등)을 정의하고 그 Threshold를 수동으로 설정한다. <strong class=\"hl\">머신</strong>비전 검사 방식으로는, 불량의 Rule 즉...</dd> </dl> </li>,\n",
       " <li id=\"sp_nws13\"> <dl> <dt><a class=\"_sp_each_url _sp_each_title\" href=\"http://www.nextdaily.co.kr/news/article.html?id=20190828800001\" onclick=\"return goOtherCR(this, 'a=nws*f.tit&amp;r=13&amp;i=881066BF_000000000000000000109325&amp;g=5141.0000109325&amp;u='+urlencode(this.href));\" target=\"_blank\" title=\"넷마블 지능형 게임 기술 ‘콜럼버스와 마젤란’에 구글 클라우드 AI 활용\">넷마블 지능형 게임 기술 ‘콜럼버스와 마젤란’에 구글 클라우드 AI 활용</a></dt> <dd class=\"txt_inline\"><span class=\"_sp_each_source\">넥스트데일리</span> <span class=\"bar\"></span> 13시간 전 <div class=\"scial\" id=\"sp_nws13_base\"> <span class=\"bar\"></span> <a class=\"bt_scial2 naver-splugin\" data-oninitialize=\"splugin_oninitialize('sp_nws13');\" data-style=\"unity-v2\" href=\"#\" onclick=\"goOtherTCR(this, 'a=nws*f.pplugin&amp;r=13&amp;i=881066BF_000000000000000000109325&amp;u='+urlencode(this.href)); return false;\">보내기</a> </div> </dd> <dd>최근에는 구글 클라우드 AI(Google Cloud AI) 기반의 <strong class=\"hl\">머신러닝</strong>을 넷마블의 전반적인 인프라에 적용해 게임 개발 및 운영, 마케팅에 이르기까지 비즈니스 전반에서 혁신을 이루고 있다. 전 세계 120개국에 35개 이상의...</dd> </dl> </li>,\n",
       " <li id=\"sp_nws14\"> <div class=\"thumb\"><a class=\"sp_thmb thmb80\" href=\"http://www.datanet.co.kr/news/articleView.html?idxno=136816\" onclick=\"return goOtherCR(this, 'a=nws*b.img&amp;r=14&amp;i=880005C7_000000000000000000091381&amp;g=5096.0000091381&amp;u='+urlencode(this.href));\" target=\"_blank\"><img alt=\"엔비디아, ‘VM웨어 클\" class=\"\" height=\"80\" onerror=\"this.parentNode.style.display='none';\" src=\"https://search.pstatic.net/common/?src=https%3A%2F%2Fimgnews.pstatic.net%2Fimage%2Forigin%2F5096%2F2019%2F08%2F27%2F91381.jpg&amp;type=ofullfill80_80_q75_re2\" width=\"80\"/><span class=\"thmb_v\"></span></a></div> <dl> <dt><a class=\"_sp_each_url _sp_each_title\" href=\"http://www.datanet.co.kr/news/articleView.html?idxno=136816\" onclick=\"return goOtherCR(this, 'a=nws*b.tit&amp;r=14&amp;i=880005C7_000000000000000000091381&amp;g=5096.0000091381&amp;u='+urlencode(this.href));\" target=\"_blank\" title=\"엔비디아, 'VM웨어 클라우드 온 AWS'에 GPU 가속화 지원\">엔비디아, 'VM웨어 클라우드 온 AWS'에 GPU 가속화 지원</a></dt> <dd class=\"txt_inline\"><span class=\"_sp_each_source\">데이터넷</span> <span class=\"bar\"></span> 1일 전 <div class=\"scial\" id=\"sp_nws14_base\"> <span class=\"bar\"></span> <a class=\"bt_scial2 naver-splugin\" data-oninitialize=\"splugin_oninitialize('sp_nws14');\" data-style=\"unity-v2\" href=\"#\" onclick=\"goOtherTCR(this, 'a=nws*b.pplugin&amp;r=14&amp;i=880005C7_000000000000000000091381&amp;u='+urlencode(this.href)); return false;\">보내기</a> </div> </dd> <dd>엔비디아(CEO 젠슨 황)와 VM웨어(VMware)는 인공지능(AI), <strong class=\"hl\">머신러닝</strong>, 데이터 분석 워크플로우를 포함한 최신 엔터프라이즈 애플리케이션을 지원하기 위해 'VM웨어 클라우드 온 AWS(VMware Cloud on AWS)'에 가속화된 GPU...</dd> <dd> <ul class=\"relation_lst\"> <li> <span class=\"ico_bu\"></span> <a href=\"http://www.inven.co.kr/webzine/news/?news=226058\" onclick=\"return goOtherCR(this, 'a=nws*c.tit&amp;r=15&amp;i=88156f83_000000000000000000105211&amp;g=442.0000105211&amp;u='+urlencode(this.href));\" target=\"_blank\" title=\"[Tech] 엔비디아, 'VM웨어 클라우드 온 AWS'에 GPU 가속화 지원\">[Tech] 엔비디아, 'VM웨어 클라우드 온 AWS'에 GPU 가속화 지원</a> <span class=\"txt_sinfo\"> <span class=\"press\" title=\"인벤\">인벤</span> <span class=\"bar\"></span> 1일 전 <span class=\"bar\"></span><a class=\"\" href=\"http://sports.news.naver.com/esports/news/read.nhn?oid=442&amp;aid=0000105211\" onclick=\"return goOtherCR(this, 'a=nws*c.nav&amp;r=15&amp;i=88156f83_000000000000000000105211&amp;u='+urlencode(this.href));\" target=\"_blank\">네이버뉴스</a> </span> </li> <li> <span class=\"ico_bu\"></span> <a href=\"http://gamefocus.co.kr/detail.php?number=96976\" onclick=\"return goOtherCR(this, 'a=nws*d.tit&amp;r=16&amp;i=88155e71_000000000000000000062771&amp;g=5351.0000062771&amp;u='+urlencode(this.href));\" target=\"_blank\" title=\"엔비디아 'v컴퓨트서버'로 GPU 가상화 지원... 또 한번 가상 클라이언트 컴퓨팅 분야 혁신 나선다\">엔비디아 'v컴퓨트서버'로 GPU 가상화 지원... 또 한번 가상 클라이언트 컴퓨...</a> <span class=\"txt_sinfo\"> <span class=\"press\" title=\"게임포커스\">게임포커스</span> <span class=\"bar\"></span> 1일 전 </span> </li> <li> <span class=\"ico_bu\"></span> <a href=\"http://www.betanews.net:8080/article/1044457.html\" onclick=\"return goOtherCR(this, 'a=nws*d.tit&amp;r=17&amp;i=880003D9_000000000000000000227442&amp;g=5017.0000227442&amp;u='+urlencode(this.href));\" target=\"_blank\" title=\"엔비디아, VM웨어와 파트너십 통해 클라우드 GPU 가속화 지원\">엔비디아, VM웨어와 파트너십 통해 클라우드 GPU 가속화 지원</a> <span class=\"txt_sinfo\"> <span class=\"press\" title=\"베타뉴스\">베타뉴스</span> <span class=\"bar\"></span> 21시간 전 </span> </li> <li> <span class=\"ico_bu\"></span> <a href=\"http://kbench.com/?q=node/202206\" onclick=\"return goOtherCR(this, 'a=nws*d.tit&amp;r=18&amp;i=880003FA_000000000000000000117577&amp;g=5036.0000117577&amp;u='+urlencode(this.href));\" target=\"_blank\" title=\"엔비디아, ‘VM웨어 클라우드 온 AWS’에 GPU 가속화 지원\">엔비디아, ‘VM웨어 클라우드 온 AWS’에 GPU 가속화 지원</a> <span class=\"txt_sinfo\"> <span class=\"press\" title=\"케이벤치\">케이벤치</span> <span class=\"bar\"></span> 1일 전 </span> </li> </ul> <div class=\"newr_more\"> <a class=\"more_news\" href=\"#\" onclick=\"news_submit_related_option('50960000091381', 0, 'nws*r.more'); return false;\">관련뉴스 7건 전체보기</a> </div> </dd> </dl> </li>,\n",
       " <li id=\"sp_nws19\"> <div class=\"thumb\"><a class=\"sp_thmb thmb80\" href=\"http://news.mk.co.kr/newsRead.php?year=2019&amp;no=670041\" onclick=\"return goOtherCR(this, 'a=nws*e.img&amp;r=19&amp;i=880000BC_000000000000000004417370&amp;g=009.0004417370&amp;u='+urlencode(this.href));\" target=\"_blank\"><img alt=\"위세아이텍, 非전문가\" class=\"\" height=\"80\" onerror=\"this.parentNode.style.display='none';\" src=\"https://search.pstatic.net/common/?src=https%3A%2F%2Fimgnews.pstatic.net%2Fimage%2Forigin%2F009%2F2019%2F08%2F28%2F4417370.jpg&amp;type=ofullfill80_80_q75_re2\" width=\"80\"/><span class=\"thmb_v\"></span></a></div> <dl> <dt><a class=\"_sp_each_title\" href=\"http://news.mk.co.kr/newsRead.php?year=2019&amp;no=670041\" onclick=\"return goOtherCR(this, 'a=nws*e.tit&amp;r=19&amp;i=880000BC_000000000000000004417370&amp;g=009.0004417370&amp;u='+urlencode(this.href));\" target=\"_blank\" title=\"위세아이텍, 非전문가들 손쉽게 빅데이터 분석 작업\">위세아이텍, 非전문가들 손쉽게 빅데이터 분석 작업</a></dt> <dd class=\"txt_inline\"><span class=\"_sp_each_source\">매일경제</span> <span class=\"bar\"></span> 13시간 전 <span class=\"bar\"></span> <a class=\"_sp_each_url\" href=\"https://news.naver.com/main/read.nhn?mode=LSD&amp;mid=sec&amp;sid1=101&amp;oid=009&amp;aid=0004417370\" onclick=\"return goOtherCR(this, 'a=nws*e.nav&amp;r=19&amp;i=880000BC_000000000000000004417370&amp;u='+urlencode(this.href));\" target=\"_blank\">네이버뉴스</a> <div class=\"scial\" id=\"sp_nws19_base\"> <span class=\"bar\"></span> <a class=\"bt_scial2 naver-splugin\" data-oninitialize=\"splugin_oninitialize('sp_nws19');\" data-style=\"unity-v2\" href=\"#\" onclick=\"goOtherTCR(this, 'a=nws*e.pplugin&amp;r=19&amp;i=880000BC_000000000000000004417370&amp;u='+urlencode(this.href)); return false;\">보내기</a> </div> </dd> <dd>◆ 4차 산업혁명 파워코리아 대전 ◆ 위세아이텍(대표 김종현)은 자체 기술로 개발한 <strong class=\"hl\">머신러닝</strong> 자동화 플랫폼 '와이즈프로핏(WiseProphet™)'으로 '2019 4차 산업혁명 우수기업 대회'에서 과학기술정보통신부 장관상을...</dd> </dl> </li>]"
      ]
     },
     "execution_count": 6,
     "metadata": {},
     "output_type": "execute_result"
    }
   ],
   "source": [
    "ulLst=soup.select('ul.type01>li') # 바로 자식만 가져오기\n",
    "ulLst"
   ]
  },
  {
   "cell_type": "code",
   "execution_count": 7,
   "metadata": {},
   "outputs": [
    {
     "data": {
      "text/plain": [
       "10"
      ]
     },
     "execution_count": 7,
     "metadata": {},
     "output_type": "execute_result"
    }
   ],
   "source": [
    "len(ulLst)"
   ]
  },
  {
   "cell_type": "code",
   "execution_count": null,
   "metadata": {},
   "outputs": [],
   "source": []
  }
 ],
 "metadata": {
  "kernelspec": {
   "display_name": "Python 3",
   "language": "python",
   "name": "python3"
  },
  "language_info": {
   "codemirror_mode": {
    "name": "ipython",
    "version": 3
   },
   "file_extension": ".py",
   "mimetype": "text/x-python",
   "name": "python",
   "nbconvert_exporter": "python",
   "pygments_lexer": "ipython3",
   "version": "3.7.3"
  }
 },
 "nbformat": 4,
 "nbformat_minor": 2
}
