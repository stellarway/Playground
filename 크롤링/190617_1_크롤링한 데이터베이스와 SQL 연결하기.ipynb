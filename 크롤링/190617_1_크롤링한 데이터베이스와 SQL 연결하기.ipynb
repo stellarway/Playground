{
 "cells": [
  {
   "cell_type": "code",
   "execution_count": 190,
   "metadata": {},
   "outputs": [],
   "source": [
    "db=MySQLdb.connect(host='localhost', # connect는 함수 인자가 4개\n",
    "                   user='root',\n",
    "                   passwd='0',\n",
    "                   db='naver_movie') \n",
    "db.set_character_set('utf8')"
   ]
  },
  {
   "cell_type": "code",
   "execution_count": 191,
   "metadata": {},
   "outputs": [
    {
     "data": {
      "text/plain": [
       "<_mysql.connection open to 'localhost' at 8101808>"
      ]
     },
     "execution_count": 191,
     "metadata": {},
     "output_type": "execute_result"
    }
   ],
   "source": [
    "db"
   ]
  },
  {
   "cell_type": "code",
   "execution_count": 192,
   "metadata": {},
   "outputs": [],
   "source": [
    "cur=db.cursor()"
   ]
  },
  {
   "cell_type": "code",
   "execution_count": 193,
   "metadata": {},
   "outputs": [
    {
     "name": "stderr",
     "output_type": "stream",
     "text": [
      "C:\\ProgramData\\Anaconda3\\lib\\site-packages\\ipykernel_launcher.py:10: Warning: (1050, \"Table 'naver_movie' already exists\")\n",
      "  # Remove the CWD from sys.path while we load stuff.\n"
     ]
    },
    {
     "data": {
      "text/plain": [
       "0"
      ]
     },
     "execution_count": 193,
     "metadata": {},
     "output_type": "execute_result"
    }
   ],
   "source": [
    "query = \"\"\"\n",
    "        CREATE TABLE IF NOT EXISTS naver_movie\n",
    "            (code    INTEGER      NOT NULL      PRIMARY KEY,\n",
    "             title   VARCHAR(255) NOT NULL,\n",
    "             story   TEXT,\n",
    "             open_date  DATE,\n",
    "             created_at    DATETIME DEFAULT CURRENT_TIMESTAMP)\n",
    "             ENGINE INNODB;\n",
    "        \"\"\" \n",
    "cur.execute(query)"
   ]
  },
  {
   "cell_type": "code",
   "execution_count": 194,
   "metadata": {
    "scrolled": true
   },
   "outputs": [
    {
     "name": "stderr",
     "output_type": "stream",
     "text": [
      "C:\\ProgramData\\Anaconda3\\lib\\site-packages\\ipykernel_launcher.py:14: Warning: (1050, \"Table 'movie_comment' already exists\")\n",
      "  \n"
     ]
    },
    {
     "data": {
      "text/plain": [
       "0"
      ]
     },
     "execution_count": 194,
     "metadata": {},
     "output_type": "execute_result"
    }
   ],
   "source": [
    "query = \"\"\"\n",
    "        CREATE TABLE IF NOT EXISTS movie_comment(\n",
    "            writer  VARCHAR(100),\n",
    "            content TEXT       NOT NULL,\n",
    "            score    INTEGER    NOT NULL,\n",
    "            write_date DATETIME,\n",
    "            movie_code INTEGER,         \n",
    "            created_at DATETIME DEFAULT CURRENT_TIMESTAMP,\n",
    "            PRIMARY KEY (writer, write_date),\n",
    "            FOREIGN KEY(movie_code)\n",
    "            REFERENCES naver_movie(code) on delete cascade)\n",
    "            ENGINE INNODB;\n",
    "        \"\"\"\n",
    "cur.execute(query)"
   ]
  },
  {
   "cell_type": "markdown",
   "metadata": {},
   "source": [
    "## 영화 크롤링"
   ]
  },
  {
   "cell_type": "code",
   "execution_count": 195,
   "metadata": {},
   "outputs": [],
   "source": [
    "from bs4 import BeautifulSoup\n",
    "import MySQLdb\n",
    "import pandas as pd\n",
    "import requests\n"
   ]
  },
  {
   "cell_type": "code",
   "execution_count": 196,
   "metadata": {},
   "outputs": [],
   "source": [
    "def get_movie_list(start_page=1, end_page=1): # default 값이 1\n",
    "    from datetime import date\n",
    "    url=\"https://movie.naver.com/movie/sdb/rank/rmovie.nhn\"\n",
    "    date=date.today().strftime(\"%Y%m%d\")\n",
    "    params={\n",
    "        'sel':'pnt',\n",
    "        'date':date\n",
    "    }\n",
    "    movie_list=[]\n",
    "    for i in range(start_page, end_page+1):\n",
    "        params['page'] =i\n",
    "        resp=requests.get(url, params)\n",
    "        soup=BeautifulSoup(resp.content, 'html.parser')\n",
    "        list_ranking= soup.find('table', class_=\"list_ranking\").find_all('tr')\n",
    "        for movie_tr in list_ranking:\n",
    "            try:\n",
    "                code=movie_tr.find('a')['href'].split('=')[-1]\n",
    "                title=movie_tr.find('a').text\n",
    "\n",
    "                movie_list.append({\n",
    "                    'code':code,\n",
    "                    'title':title\n",
    "                })\n",
    "            except Exception:\n",
    "                pass\n",
    "    return movie_list"
   ]
  },
  {
   "cell_type": "code",
   "execution_count": 197,
   "metadata": {},
   "outputs": [],
   "source": [
    "def get_movie_info(movie): \n",
    "    code=movie.get('code') # 딕셔너리 형태도 가능\n",
    "    title=movie.get('title')\n",
    "    base_url=\"https://movie.naver.com/movie/bi/mi/basic.nhn\"\n",
    "    params={\n",
    "        'code':code\n",
    "    }\n",
    "    resp=requests.get(base_url, params)\n",
    "    soup=BeautifulSoup(resp.content)\n",
    "    open_date_tag=soup.find('dl',class_='info_spec').find('dd').findAll('span')[-1]\n",
    "#     open_date=open_date_tag.text\n",
    "    open_date=\"\"\n",
    "    for date in open_date_tag.find_all('a'):\n",
    "        open_date+= date.text\n",
    "    open_date='-'.join(open_date.strip().split('.'))\n",
    "    \n",
    "    story=soup.find('div',class_='story_area')\n",
    "    movie['story']=story\n",
    "    movie['open_date']=open_date\n",
    "    \n",
    "    return movie"
   ]
  },
  {
   "cell_type": "code",
   "execution_count": 198,
   "metadata": {},
   "outputs": [
    {
     "data": {
      "text/plain": [
       "{'code': '171539', 'title': '그린 북'}"
      ]
     },
     "execution_count": 198,
     "metadata": {},
     "output_type": "execute_result"
    }
   ],
   "source": [
    "movie_list=get_movie_list()\n",
    "movie_list[0]"
   ]
  },
  {
   "cell_type": "code",
   "execution_count": 199,
   "metadata": {},
   "outputs": [],
   "source": [
    "# query = \"\"\"\n",
    "#         CREATE TABLE IF NOT EXISTS naver_movie\n",
    "#             (code    INTEGER      NOT NULL      PRIMARY KEY,\n",
    "#              url     VARCHAR(255) NOT NULL,\n",
    "#              created_at    DATETIME DEFAULT CURRENT_TIMESTAMP,\n",
    "#              title   VARCHAR(255) NOT NULL,\n",
    "#              story   TEXT,\n",
    "#              opened  DATETIME)\n",
    "#              ENGINE INNODB;\n",
    "#         \"\"\" \n",
    "def insert_movie(movie):\n",
    "    code=movie.get('code')\n",
    "    title=movie.get('title')\n",
    "    story=movie.get('story')\n",
    "    \n",
    "    story=str(story)\n",
    "    open_date=movie.get('open_date')\n",
    "   \n",
    "    story=db.escape_string(story)\n",
    "    query=\"\"\"\n",
    "    INSERT INTO naver_movie(code,title,story,open_date)\n",
    "    VALUES('{0}','{1}',%s, '{2}')\n",
    "    \"\"\".format(code, title, open_date)\n",
    "    \n",
    "    cur.execute(query,[story])\n",
    "    db.commit()"
   ]
  },
  {
   "cell_type": "code",
   "execution_count": 200,
   "metadata": {},
   "outputs": [],
   "source": [
    "from MySQLdb import IntegrityError\n",
    "movie_list=get_movie_list()\n",
    "for movie in movie_list:\n",
    "    movie=get_movie_info(movie)\n",
    "    try:\n",
    "        insert_movie(movie)\n",
    "    except IntegrityError:\n",
    "        pass\n",
    "    except Exception:\n",
    "        pass"
   ]
  },
  {
   "cell_type": "code",
   "execution_count": 201,
   "metadata": {},
   "outputs": [],
   "source": [
    "def get_comment_list(code, last_page=1):\n",
    "    url='https://movie.naver.com/https://movie.naver.com/movie/bi/mi/pointWriteFormList.nhn'\n",
    "    params={\n",
    "        'code':code,\n",
    "        'type':'after',\n",
    "        'order':'newest'\n",
    "    }\n",
    "    result_list=[]\n",
    "    for page in range(1, last_page+1):\n",
    "        params['page']=page\n",
    "        \n",
    "        resp=requests.get(url, params)\n",
    "        soup=BeautifulSoup(resp.content)\n",
    "        repl_list=soup.find('div', class_='score_result').find_all('li')\n",
    "        \n",
    "        for repl in repl_list:\n",
    "            score=repl.find(class_='star_score').text.strip()\n",
    "            content=repl.find('p')\n",
    "            nameNdate=content.find_next_sibling('dl').findAll('em')\n",
    "            content=content.text\n",
    "            nickname=nameNdate[0]\n",
    "            date=nameNdate[1]  \n",
    "            result_list.append({\n",
    "                'write_name':nickname,\n",
    "                'write_date':date.text,\n",
    "                'content':content,\n",
    "                'score': score,\n",
    "                'code': code\n",
    "            })\n",
    "    return result_list"
   ]
  },
  {
   "cell_type": "code",
   "execution_count": 202,
   "metadata": {},
   "outputs": [
    {
     "data": {
      "text/plain": [
       "[{'write_name': <em>\n",
       "  <a href=\"#\" onclick=\"javascript:showPointListByNid(15815091, 'after');parent.clickcr(this, 'ara.uid', '', '', event); return false;\" target=\"_top\">\n",
       "  <span>신영(youn****)</span>\n",
       "  </a>\n",
       "  </em>,\n",
       "  'write_date': '2019.06.16 18:48',\n",
       "  'content': '관람객난 이미 퀸을 알고 있었다  ',\n",
       "  'score': '10',\n",
       "  'code': '156464'},\n",
       " {'write_name': <em>\n",
       "  <a href=\"#\" onclick=\"javascript:showPointListByNid(15810155, 'after');parent.clickcr(this, 'ara.uid', '', '', event); return false;\" target=\"_top\">\n",
       "  <span>태바기(nogo****)</span>\n",
       "  </a>\n",
       "  </em>,\n",
       "  'write_date': '2019.06.15 00:02',\n",
       "  'content': '진짜 공감이다 이거!!!!  ',\n",
       "  'score': '10',\n",
       "  'code': '156464'},\n",
       " {'write_name': <em>\n",
       "  <a href=\"#\" onclick=\"javascript:showPointListByNid(15806789, 'after');parent.clickcr(this, 'ara.uid', '', '', event); return false;\" target=\"_top\">\n",
       "  <span>소(aksg****)</span>\n",
       "  </a>\n",
       "  </em>,\n",
       "  'write_date': '2019.06.13 23:50',\n",
       "  'content': '관람객와 보다가 울었음..너무 슬펐음 ..진짜루다  ',\n",
       "  'score': '10',\n",
       "  'code': '156464'},\n",
       " {'write_name': <em>\n",
       "  <a href=\"#\" onclick=\"javascript:showPointListByNid(15806256, 'after');parent.clickcr(this, 'ara.uid', '', '', event); return false;\" target=\"_top\">\n",
       "  <span>양찬호(yang****)</span>\n",
       "  </a>\n",
       "  </em>,\n",
       "  'write_date': '2019.06.13 21:22',\n",
       "  'content': '최고의 음악영화이다 레알  ',\n",
       "  'score': '10',\n",
       "  'code': '156464'},\n",
       " {'write_name': <em>\n",
       "  <a href=\"#\" onclick=\"javascript:showPointListByNid(15804249, 'after');parent.clickcr(this, 'ara.uid', '', '', event); return false;\" target=\"_top\">\n",
       "  <span>wing****</span>\n",
       "  </a>\n",
       "  </em>,\n",
       "  'write_date': '2019.06.13 03:43',\n",
       "  'content': '퀸 노래를 하도 많이 들어서  영화를 보면서 지겨울줄 알았는데영화 끝나고  유튜브로  음악 풀영상 듣고있습니다.  ',\n",
       "  'score': '8',\n",
       "  'code': '156464'},\n",
       " {'write_name': <em>\n",
       "  <a href=\"#\" onclick=\"javascript:showPointListByNid(15802124, 'after');parent.clickcr(this, 'ara.uid', '', '', event); return false;\" target=\"_top\">\n",
       "  <span>ku07****</span>\n",
       "  </a>\n",
       "  </em>,\n",
       "  'write_date': '2019.06.12 15:16',\n",
       "  'content': '관람객프레디형 치아가 섹시하다고 생각이 됩니다  ',\n",
       "  'score': '10',\n",
       "  'code': '156464'},\n",
       " {'write_name': <em>\n",
       "  <a href=\"#\" onclick=\"javascript:showPointListByNid(15801435, 'after');parent.clickcr(this, 'ara.uid', '', '', event); return false;\" target=\"_top\">\n",
       "  <span>syl0****</span>\n",
       "  </a>\n",
       "  </em>,\n",
       "  'write_date': '2019.06.12 10:59',\n",
       "  'content': '최고의 영화 내 인생 영화  ',\n",
       "  'score': '10',\n",
       "  'code': '156464'},\n",
       " {'write_name': <em>\n",
       "  <a href=\"#\" onclick=\"javascript:showPointListByNid(15801196, 'after');parent.clickcr(this, 'ara.uid', '', '', event); return false;\" target=\"_top\">\n",
       "  <span>고정미(jung****)</span>\n",
       "  </a>\n",
       "  </em>,\n",
       "  'write_date': '2019.06.12 06:35',\n",
       "  'content': '6만명만 더  봤으면 1000만인데 아깝네....  ',\n",
       "  'score': '10',\n",
       "  'code': '156464'},\n",
       " {'write_name': <em>\n",
       "  <a href=\"#\" onclick=\"javascript:showPointListByNid(15798135, 'after');parent.clickcr(this, 'ara.uid', '', '', event); return false;\" target=\"_top\">\n",
       "  <span>2001****</span>\n",
       "  </a>\n",
       "  </em>,\n",
       "  'write_date': '2019.06.10 21:52',\n",
       "  'content': '이제서야 겨우 봤다...기대 그 이상이다...몇번을 울컥했는지 모른다..역시 명불허전...그시절 프레드머큐리를 몰랐던 내자신이 부끄러워진다  ',\n",
       "  'score': '10',\n",
       "  'code': '156464'},\n",
       " {'write_name': <em>\n",
       "  <a href=\"#\" onclick=\"javascript:showPointListByNid(15797836, 'after');parent.clickcr(this, 'ara.uid', '', '', event); return false;\" target=\"_top\">\n",
       "  <span>bluestar(kwon****)</span>\n",
       "  </a>\n",
       "  </em>,\n",
       "  'write_date': '2019.06.10 19:40',\n",
       "  'content': '크크끄크끄크크끄크크  ',\n",
       "  'score': '10',\n",
       "  'code': '156464'}]"
      ]
     },
     "execution_count": 202,
     "metadata": {},
     "output_type": "execute_result"
    }
   ],
   "source": [
    "get_comment_list('156464')"
   ]
  },
  {
   "cell_type": "code",
   "execution_count": 203,
   "metadata": {},
   "outputs": [],
   "source": [
    "def insert_comment(comment):\n",
    "    score=comment.get('score')\n",
    "    writer=comment.get('writer')\n",
    "    write_date=comment.get('write_date')\n",
    "    write_date='-'.join(write_date.split(','))\n",
    "    \n",
    "    content=comment.get('content')\n",
    "    movie_code=comment.get('code')\n",
    "    \n",
    "    query=\"\"\"\n",
    "    INSERT INTO movie_comment(score, writer,write_date,content, movie_code)\n",
    "    VALUES('{}', '{}', '{}', '{}','{}')\n",
    "    \"\"\".format(score,writer, write_date, content, movie_code)\n",
    "    \n",
    "    cur.execute(query)\n",
    "    db.commit()"
   ]
  },
  {
   "cell_type": "code",
   "execution_count": 205,
   "metadata": {},
   "outputs": [],
   "source": [
    "for movie in movie_list:\n",
    "    try:\n",
    "        comment_list=get_comment_list(movie['code'])\n",
    "        for comment in comment_list:\n",
    "            insert_comment(comment)\n",
    "    except Exception:\n",
    "        pass"
   ]
  },
  {
   "cell_type": "code",
   "execution_count": null,
   "metadata": {},
   "outputs": [],
   "source": []
  },
  {
   "cell_type": "markdown",
   "metadata": {},
   "source": [
    "### wony's code"
   ]
  },
  {
   "cell_type": "code",
   "execution_count": null,
   "metadata": {},
   "outputs": [],
   "source": []
  },
  {
   "cell_type": "code",
   "execution_count": null,
   "metadata": {},
   "outputs": [],
   "source": [
    "from datetime import date\n",
    "url=\"https://movie.naver.com/movie/sdb/rank/rmovie.nhn\"\n",
    "date=date.today().strftime(\"%Y%m%d\")\n",
    "params={\n",
    "    'sel':'pnt',\n",
    "    'date':date\n",
    "}\n",
    "resp=requests.get(url, params)\n",
    "soup=BeautifulSoup(resp.content, 'html.parser')\n",
    "\n",
    "\n",
    "all_list= soup.find('table', class_=\"list_ranking\").find_all('div', class_=\"tit5\")\n",
    "div_list=[]\n",
    "for div in all_list:\n",
    "    movie_dict={}\n",
    "    a_tag=div.find('a')\n",
    "    movie_dict['title']=a_tag['title']\n",
    "    link=a_tag['href']\n",
    "    movie_dict['code']=link.split('=')[-1]\n",
    "    div_list.append(movie_dict)\n",
    "    ind_resp=requests.get(\"https://movie.naver.com\"+link)\n",
    "    \n",
    "from pprint import pprint\n",
    "pprint(div_list)"
   ]
  },
  {
   "cell_type": "code",
   "execution_count": null,
   "metadata": {},
   "outputs": [],
   "source": []
  }
 ],
 "metadata": {
  "kernelspec": {
   "display_name": "Python 3",
   "language": "python",
   "name": "python3"
  },
  "language_info": {
   "codemirror_mode": {
    "name": "ipython",
    "version": 3
   },
   "file_extension": ".py",
   "mimetype": "text/x-python",
   "name": "python",
   "nbconvert_exporter": "python",
   "pygments_lexer": "ipython3",
   "version": "3.7.3"
  }
 },
 "nbformat": 4,
 "nbformat_minor": 2
}
