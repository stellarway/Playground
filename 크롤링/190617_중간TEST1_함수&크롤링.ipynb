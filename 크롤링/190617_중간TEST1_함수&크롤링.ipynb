{
 "cells": [
  {
   "cell_type": "markdown",
   "metadata": {},
   "source": [
    "# 1번 문제"
   ]
  },
  {
   "cell_type": "code",
   "execution_count": 9,
   "metadata": {},
   "outputs": [],
   "source": [
    "def profile_to_dict(name,age,phone): # 이름과 나이, 전화번호를 인자로 전달받습니다.\n",
    "    prof_dict={\n",
    "        'name': name,\n",
    "        'age': age,\n",
    "        'phone': phone\n",
    "    } # 문제에서 요구하는 형태\n",
    "    return prof_dict # 딕셔너리 형태로 반환"
   ]
  },
  {
   "cell_type": "code",
   "execution_count": 11,
   "metadata": {},
   "outputs": [
    {
     "data": {
      "text/plain": [
       "{'name': 'Atilda', 'age': 20, 'phone': '0108488'}"
      ]
     },
     "execution_count": 11,
     "metadata": {},
     "output_type": "execute_result"
    }
   ],
   "source": [
    "profile_to_dict('Atilda',20,'0108488') # 함수 사용 예시"
   ]
  },
  {
   "cell_type": "markdown",
   "metadata": {},
   "source": [
    "# 2번 문제"
   ]
  },
  {
   "cell_type": "code",
   "execution_count": 37,
   "metadata": {},
   "outputs": [],
   "source": [
    "import requests\n",
    "from bs4 import BeautifulSoup\n",
    "\n",
    "url='https://search.naver.com/search.naver'\n",
    "query='머신러닝'\n",
    "news_list=[] \n",
    "for i in range(5): \n",
    "    page=i*10+1\n",
    "    params={\n",
    "        'where':'news',\n",
    "        'query':query,\n",
    "        'start':page\n",
    "    }\n",
    "    resp=requests.get(url, params)\n",
    "    soup=BeautifulSoup(resp.content)\n",
    "    ul_list=soup.find('ul', class_='type01').findAll('dl')\n",
    "\n",
    "    for ul in ul_list:\n",
    "        title=ul.find('dt').find('a')['title']\n",
    "        link=ul.find('dt').find('a')['href']\n",
    "        news_dict={\n",
    "            'title':title,\n",
    "            'link':link\n",
    "        }\n",
    "        news_list.append(news_dict)\n"
   ]
  },
  {
   "cell_type": "code",
   "execution_count": 38,
   "metadata": {},
   "outputs": [
    {
     "data": {
      "text/plain": [
       "[{'title': '리듬댄스 게임 ‘오디션’, 자전거·러닝머신 등 운동용품 응모 이벤트 진행',\n",
       "  'link': 'http://www.thisisgame.com/webzine/game/nboard/225/?n=95153'},\n",
       " {'title': \"'오디션', 자전거·러닝머신 등 운동용품 응모 이벤트 진행\",\n",
       "  'link': 'http://www.fomos.kr/redirect/news_view?news_cate_id=2&entry_id=77149'},\n",
       " {'title': '매스웩스코리아, MATLAB 활용한 인공지능 관련 세미나 개최',\n",
       "  'link': 'http://www.gvalley.co.kr/565779'},\n",
       " {'title': \"네이버, 세계 최고 권위 머신러닝 컨퍼런스 'ICML 2019'서 주목\",\n",
       "  'link': 'http://www.segye.com/content/html/2019/06/14/20190614505286.html?OutUrl=naver'},\n",
       " {'title': '\"디지털 수술 플랫폼, 수술의 민주화 실현할 것\"',\n",
       "  'link': 'http://www.medicaltimes.com/Users/News/NewsView.html?mode=view&ID=1127105&REFERER=NP'},\n",
       " {'title': \"네이버, 머신러닝 컨퍼런스 'ICML 2019'서 연구성과 발표\",\n",
       "  'link': 'http://biz.chosun.com/site/data/html_dir/2019/06/14/2019061401675.html'},\n",
       " {'title': '[ROAD FC 054] 러닝머신만 뛰었다는 장익환, 여유에는 이유가 있었다',\n",
       "  'link': 'http://www.sportalkorea.com/news/view.php?gisa_uniq=2019061518523457&section_code=7111&cp=se&gomb=1'},\n",
       " {'title': '네이버, 미국 머신러닝 콘퍼런스서 논문 3편 발표',\n",
       "  'link': 'http://yna.kr/AKR20190614055000017?did=1195m'},\n",
       " {'title': '출산 후 25kg 감량한 홍지민 핑거루트 뜨거운 감자?... 러닝머신스피드 5.5걷기 등 주목',\n",
       "  'link': 'http://www.g-enews.com/ko-kr/news/article/news_all/2019061607594095044e4869c120_1/article.html'},\n",
       " {'title': '[로드FC] \\'케이지 낙무아이\\' 장익환 \"내일 경기는 러닝머신 전략!\"',\n",
       "  'link': 'http://rank5.kr/archives/29226'},\n",
       " {'title': 'ROAD FC ‘케이지 위의 낙무아이’ 장익환의 남다른 각오, “내일은 러닝머신 전략”',\n",
       "  'link': 'http://sports.news.naver.com/general/news/read.nhn?oid=434&aid=0000005160'},\n",
       " {'title': \"조시큐리티, '조샌드박스 머신러닝' 출시\",\n",
       "  'link': 'http://www.cctvnews.co.kr/news/articleView.html?idxno=119700'},\n",
       " {'title': 'AITRICS, 국제 머신러닝 학회 ‘ICML 2019’에서 7편의 논문 채택',\n",
       "  'link': 'http://www.hellot.net/new_hellot/magazine/magazine_read.html?code=202&sub=004&idx=46547'},\n",
       " {'title': '네이버 인턴주도 AI연구, 세계적 학회서 인정 받았다',\n",
       "  'link': 'http://www.etnews.com/20190614000097'},\n",
       " {'title': '시스코, \"AI·머신러닝으로 안전한 네트워크 구현\"',\n",
       "  'link': 'http://www.ddaily.co.kr/news/article.html?no=182329'},\n",
       " {'title': 'AITRICS, 국제 머신러닝 학회서 빛났다',\n",
       "  'link': 'http://www.bosa.co.kr/news/articleView.html?idxno=2106798'},\n",
       " {'title': '암호화폐 악용한 돈세탁 어떻게 막아야 할까',\n",
       "  'link': 'http://www.zdnet.co.kr/ArticleView.asp?artice_id=20190613174616'},\n",
       " {'title': '시스코, AI·머신러닝 통해 더욱 단순·안전·스마트한 NW 구현',\n",
       "  'link': 'http://www.itdaily.kr/news/articleView.html?idxno=95246'},\n",
       " {'title': '글로벌 칼럼 | AI는 사이버보안의 미래인가',\n",
       "  'link': 'http://www.itworld.co.kr/news/124326'},\n",
       " {'title': '이커머스용 AI 솔루션을 핀란드서 개발하기까지, 포어싱크',\n",
       "  'link': 'http://www.bloter.net/archives/342848'},\n",
       " {'title': '정상진을 대놓고 무시한 장익환, 런닝머신 뛰는 기분으로 가볍게 싸우겠다!',\n",
       "  'link': 'http://www.sportsseoul.com/news/read/776189'},\n",
       " {'title': '소아 우울증을 진단하는 인공지능', 'link': 'https://ppss.kr/archives/195932'},\n",
       " {'title': '[레드오션에서 살아남기 vs 블루오션 개척하기 ③] 자신만의 강점을 살려 블루오션에 도전, 자이냅스의 인공지능개발자들',\n",
       "  'link': 'http://www.jobnjoy.com/portal/joy/correspondent_view.jsp?nidx=347638&depth1=2&depth2=1&depth3=1'},\n",
       " {'title': '인뱅, 대포통장-불법거래 대응 잰걸음..‘신기술 도입하고, 조직 만들고’',\n",
       "  'link': 'http://news.heraldcorp.com/view.php?ud=20190614000205'},\n",
       " {'title': '삼성SDS, AI-머신러닝 기반 차세대 보안솔루션 확보',\n",
       "  'link': 'http://www.koreaittimes.com/news/articleView.html?idxno=91191'},\n",
       " {'title': '삼성SDS, AI-머신러닝 기반 차세대 보안 솔루션 확보',\n",
       "  'link': 'http://www.seoulfn.com/news/articleView.html?idxno=345355'},\n",
       " {'title': '삼성SDS, AI-머신러닝 기반 차세대 보안 솔루션 확보',\n",
       "  'link': 'http://www.boannews.com/media/view.asp?idx=80275&kind='},\n",
       " {'title': '오라클, 자율운영 강화한 DB머신 엑사데이터 신모델 출시',\n",
       "  'link': 'http://www.zdnet.co.kr/ArticleView.asp?artice_id=20190613084152'},\n",
       " {'title': 'SK하이닉스, 데이터 사이언스 전문가 김영한 영입',\n",
       "  'link': 'http://www.skyedaily.com/news/news_view.html?ID=85520'},\n",
       " {'title': '삼성SDS, 美 머신러닝 기반 EDR 보안업체 ‘센티넬원’에 투자',\n",
       "  'link': 'https://byline.network/?p=35441'},\n",
       " {'title': '한국연구재단 기초연구의 핵심키워드는?',\n",
       "  'link': 'http://www.akomnews.com/?p=418408'},\n",
       " {'title': 'SK하이닉스, AI 전문가 김영한 교수 영입...데이터 경영 강화',\n",
       "  'link': 'http://www.fnnews.com/news/201906101106163555'},\n",
       " {'title': \"조시큐리티, AI 엔진 기반 '조샌드박스 머신러닝' 출시\",\n",
       "  'link': 'http://www.itdaily.kr/news/articleView.html?idxno=95086'},\n",
       " {'title': '자산운용업 파고든 AI…\"인간 대체재 아닌 보완재\"',\n",
       "  'link': 'http://www.edaily.co.kr/news/newspath.asp?newsid=03981926622521064'},\n",
       " {'title': 'SAP, iOS용 SAP 클라우드 플랫폼 SDK에 머신러닝 기술 탑재',\n",
       "  'link': 'http://www.datanet.co.kr/news/articleView.html?idxno=133673'},\n",
       " {'title': 'SK(주) C&C, 클라우드-빅데이터 기술전수 나섰다',\n",
       "  'link': 'http://www.dt.co.kr/contents.html?article_no=2019051502109931650001&ref=naver'},\n",
       " {'title': \"신한금투, 리스크 관리에 '머신러닝' 기법 도입\",\n",
       "  'link': 'http://www.kbanker.co.kr/news/articleView.html?idxno=83392'},\n",
       " {'title': '[사진] 충남대병원-수리과학硏, ‘CNUH+ 머신러닝’ 1기 수료식',\n",
       "  'link': 'http://www.newspim.com/news/view/20190604000715'},\n",
       " {'title': '보험사에 녹아든 머신러닝…혁신·수익 잇는다',\n",
       "  'link': 'http://www.kbanker.co.kr/news/articleView.html?idxno=82715'},\n",
       " {'title': '\"머신 러닝 기법 등 갖춘 공정 제어 인력 양성이 스마트공장 구현 핵심\"',\n",
       "  'link': 'http://www.asiatoday.co.kr/view.php?key=20190604010001956'},\n",
       " {'title': '중국 AI 시장 지난해 2조 돌파...2023년 14조 전망',\n",
       "  'link': 'http://www.irobotnews.com/news/articleView.html?idxno=17415'},\n",
       " {'title': '롯데정보통신-현대정보기술, AI/머신러닝 적용사례 선봬',\n",
       "  'link': 'http://www.itdaily.kr/news/articleView.html?idxno=95142'},\n",
       " {'title': 'JT친애저축은행, 머신러닝 신용평가시스템 도입',\n",
       "  'link': 'http://news.einfomax.co.kr/news/articleView.html?idxno=4026736'},\n",
       " {'title': 'AI도 자산운용 하지만 “아직은 인간이 할 일”',\n",
       "  'link': 'http://speconomy.com/news/newsview.php?ncode=1065601412812777'},\n",
       " {'title': \"데브시스터즈 '쿠키런:오븐브레이드' 머신러닝 이벤트 모드 공개\",\n",
       "  'link': 'http://gamefocus.co.kr/detail.php?number=93323'},\n",
       " {'title': '“보안의 베이스는 암호... 올해 머신러닝 주로 다뤄”',\n",
       "  'link': 'http://www.boannews.com/media/view.asp?idx=80055&kind='},\n",
       " {'title': '[포토] 충남대병원·국가수리과학연구소, CNUH+ 머신러닝 제1기 수료식',\n",
       "  'link': 'http://www.enewstoday.co.kr/news/articleView.html?idxno=1308912'},\n",
       " {'title': '신한금투, 머신러닝 활용 리스크관리 시작',\n",
       "  'link': 'http://www.finomy.com/news/articleView.html?idxno=66465'},\n",
       " {'title': '콘센트릭스, 머신러닝 기반 통합마케팅 솔루션 `MARS`로 기업 업무 효율 높여',\n",
       "  'link': 'http://news.mk.co.kr/newsRead.php?year=2019&no=382249'},\n",
       " {'title': \"[인-잇] '뛰어도 제자리, 멈추면 뒤처지는' 우리는 러닝머신 세대\",\n",
       "  'link': 'https://news.sbs.co.kr/news/endPage.do?news_id=N1005264917&plink=ORI&cooper=NAVER'}]"
      ]
     },
     "execution_count": 38,
     "metadata": {},
     "output_type": "execute_result"
    }
   ],
   "source": [
    "news_list # 크롤링 결과값"
   ]
  },
  {
   "cell_type": "code",
   "execution_count": 39,
   "metadata": {},
   "outputs": [
    {
     "data": {
      "text/plain": [
       "50"
      ]
     },
     "execution_count": 39,
     "metadata": {},
     "output_type": "execute_result"
    }
   ],
   "source": [
    "len(news_list) # 뉴스 리스트에 들어간 길이를 확인하여 간접적으로 모든 데이터가 들어갔는지 확인"
   ]
  }
 ],
 "metadata": {
  "kernelspec": {
   "display_name": "Python 3",
   "language": "python",
   "name": "python3"
  },
  "language_info": {
   "codemirror_mode": {
    "name": "ipython",
    "version": 3
   },
   "file_extension": ".py",
   "mimetype": "text/x-python",
   "name": "python",
   "nbconvert_exporter": "python",
   "pygments_lexer": "ipython3",
   "version": "3.7.3"
  }
 },
 "nbformat": 4,
 "nbformat_minor": 2
}
