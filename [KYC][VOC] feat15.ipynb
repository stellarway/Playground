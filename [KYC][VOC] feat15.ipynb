{
 "cells": [
  {
   "cell_type": "code",
   "execution_count": 38,
   "metadata": {},
   "outputs": [],
   "source": [
    "import pandas as pd\n",
    "import re"
   ]
  },
  {
   "cell_type": "code",
   "execution_count": null,
   "metadata": {},
   "outputs": [],
   "source": []
  },
  {
   "cell_type": "code",
   "execution_count": 235,
   "metadata": {},
   "outputs": [],
   "source": [
    "feat = re.compile(r'resolution|pixel|megapixel|mp[ .]?[0-9]{1,5}|[0-9]{1,5}[ .]?mp|sensor|frame|4k|\\shd\\s|\\sHD\\s|[0-9]{1,5} ?[xX\\*] ?[0-9]{1,5}\\\n",
    "|lens|wide[ -]?angle|normal[ -]range|aperture\\\n",
    "|zoom|optical[ -]?zoom|digital[ -]?zoom|optical\\\n",
    "|memory|megabytes|\\n ?MB ?\\\n",
    "|burst|continuous|shutter|recovery|motion|sport|stabilization|stable|stablity\\\n",
    "|battery|batteries|power\\\n",
    "|focus|exposure|focus[ -]?points|auto[ -]?focus|face[ -]?detect|detect|manual[ -]?focus|AF|iso|evening|night\\\n",
    "|LCD|screen|articulating|touch\\\n",
    "|compression|compress|jpeg\\\n",
    "|flash|\\slight[\\s,.]|shoe\\\n",
    "|durability|sealing|environment|weather|durable|endur|diuturnal|tenacious|abiding|reliable|stable|firm|stout|impervious|strong|fast|permanent|dependable|perduring|resistant|perdurable|persistent|sound|long-continued|fixed|enduring|constant|tough|lasting\\\n",
    "|video|flim|microphone|\\sMIC[.\\s]|\\smic[.\\s]\\\n",
    "|wi[ -]?fi|connection\\\n",
    "|mode|automatic|program[ -]?mode|manual[ -]?mode|scene[ -]?mode|timelapse|setting|interface\\\n",
    "\\\n",
    "\\s|\\sweight\\s|\\slighter\\s|\\sheavy\\s|\\sheavier\\s|\\svoluminous\\s|\\sweighty\\s|\\sa whale of a\\s|\\sethereal\\s|\\sexcessive\\\n",
    "\\s|\\simmense\\s|\\svast\\s|\\swhopper\\s|\\sdainty\\s|\\sfractional\\s|\\smicroscopic\\s|\\smini\\s|\\scrowded\\s|\\sfaint\\s|\\seffortless\\\n",
    "\\s|\\steeny\\s|\\sweak\\s|\\ssheer\\s|\\sjumbo\\s|\\sscrubby\\s|\\sporcine\\s|\\suntroublesome\\s|\\spaltry\\s|\\slithe\\s|\\smanageable\\s|\\sunexacting\\s|\\sfilmy\\s|\\scopious\\\n",
    "\\s|\\sslender\\s|\\seffervescent\\s|\\sfragmentary\\s|\\sfriable\\s|\\sinadequate\\s|\\sspongy\\s|\\stiny\\s|\\sstunted\\s|\\ssparse\\s|\\shuge\\s|\\sbull\\s|\\sponderous\\\n",
    "\\s|\\strivial\\s|\\sabundant\\s|\\sstrapping\\s|\\sbuilt\\s|\\soverweight\\s|\\sfloating\\s|\\senormous\\s|\\slumbering\\s|\\sfrugal\\\n",
    "\\s|\\slightweight\\s|\\sinsubstantial\\s|\\sfluffy\\s|\\steensy\\s|\\sundersized\\s|\\schock-full\\s|\\sfrivolous\\s|\\sdowny\\s|\\sminuscule\\\n",
    "\\s|\\sfull\\s|\\sloaded\\s|\\srunty\\s|\\sinconsequential\\s|\\sairy\\s|\\snimble\\s|\\sinsufficient\\s|\\ssandy\\s|\\ssuperficial\\\n",
    "\\s|\\sunheavy\\s|\\sburly\\s|\\swee\\s|\\stremendous\\s|\\sextensive\\s|\\sfat\\s|\\srestricted\\s|\\sweighted\\s|\\sawash\\\n",
    "\\s|\\stissuelike\\s|\\sthundering\\s|\\sgross\\s|\\sbulk\\s|\\sobese\\s|\\shumongous\\s|\\spint[ -]sized\\s|\\ssuper colossal\\s|\\smeager\\s|\\scramped\\\n",
    "\\s|\\slead-footed\\s|\\szaftig\\s|\\sminiature\\s|\\sthin\\s|\\sroomy\\s|\\sminor\\s|\\suntaxing\\s|\\sspacious\\s|\\soversize\\s|\\sinconsiderable\\s|\\sgraceful\\\n",
    "\\s|\\slarge\\s|\\sgossamery\\s|\\shulking\\s|\\soppressed\\s|\\shusky\\s|\\smoderate\\s|\\sladen\\s|\\sfleshy\\s|\\spicayune\\s|\\schunky\\s|\\spetite\\s|\\ssmall\\s|\\sgentle\\s|\\s\\\n",
    "expectant\\s|\\sdigestible\\s|\\selephantine\\s|\\slight-footed\\s|\\sbaby\\s|\\scasual\\s|\\swalloping\\s|\\sparturient\\s|\\ssizable\\s|\\strifling\\s|\\s\\\n",
    "atmospheric\\s|\\sflimsy\\s|\\spuny\\s|\\shefty\\s|\\smonster\\s|\\sshort\\s|\\sfacile\\s|\\snarrow\\s|\\slimited\\s|\\sunmanageable\\s|\\sundemanding\\s|\\s\\\n",
    "massive\\s|\\sminute\\s|\\sstuffed\\s|\\shumble\\s|\\scrumbly\\s|\\smondo\\s|\\stwo-ton\\s|\\spitiful\\s|\\sbantam\\s|\\sdiminutive\\s|\\scolossal\\s|\\s\\\n",
    "cumbersome\\s|\\scommodious\\s|\\sindistinct\\s|\\sinsignificant\\s|\\sbeefy\\s|\\sscanty\\s|\\simponderous\\s|\\sdelicate\\s|\\sfeathery\\s|\\s\\\n",
    "cumbrous\\s|\\ssylphlike\\s|\\sconsiderable\\s|\\sburdensome\\s|\\sbuoyant\\s|\\sfrothy\\s|\\sporous\\s|\\sstout\\s|\\sunpretentious\\s|\\sawkward\\s|\\sfloatable\\s|\\s\\\n",
    "agile\\s|\\sheavyweight\\s|\\spiddling\\s|\\ssprightly\\s|\\sgigantic\\s|\\scorpulent\\s|\\s\\\n",
    "capacious\\s|\\ssmall-scale\\s|\\sweightless\\s|\\sprodigious\\s|\\spocket[ -]size\\s|\\sportable\\s|\\spetty\\s|\\senceinte\\s|\\sgravid\\s|\\spregnant\\s|\\s\\\n",
    "toy\\s|\\sshoestring\\s|\\swhopping\\s|\\sunwieldy\\s|\\sbitty\\s|\\smammoth\\s|\\sportly\\s|\\sbrimming\\s|\\spacked\\s|\\sample\\s|\\s\\\n",
    "feather[ -]weight\\s')\n",
    "                  \n",
    "feat1 = re.compile(r'resolution|pixel|megapixel|mp[ .]?[0-9]{1,5}$|.?^[0-9]{1,5}[ .]?mp|sensor|frame|4k|\\shd\\s|\\sHD\\s|[0-9]{1,5} ?[xX\\*] ?[0-9]{1,5}')\n",
    "feat2 = re.compile(r'lens|wide[ -]?angle|normal[ -]range|aperture')\n",
    "feat3 = re.compile(r'zoom|optical[ -]?zoom|digital[ -]?zoom|optical')\n",
    "feat4 = re.compile(r'memory|megabytes|\\n ?MB ?')\n",
    "feat5 = re.compile(r'burst|continuous|shutter|recovery|motion|sport|stabilization|stable|stablity')\n",
    "feat6 = re.compile(r'battery|batteries|power')\n",
    "feat7 = re.compile(r'focus|exposure|focus[ -]?points|auto[ -]?focus|face[ -]?detect|detect|manual[ -]?focus|AF|iso|evening|night')\n",
    "feat8 = re.compile(r'LCD|screen|articulating|touch')\n",
    "feat9 = re.compile(r'compression|compress|jpeg')\n",
    "feat10 = re.compile(r'flash|\\slight[\\s,.]|shoe')\n",
    "feat11 = re.compile(r'durability|sealing|environment|weather|durable|endur|diuturnal|tenacious|abiding|reliable|stable|firm|stout|impervious|strong|fast|permanent|dependable|perduring|resistant|perdurable|persistent|sound|long-continued|fixed|enduring|constant|tough|lasting')\n",
    "feat12 = re.compile(r'video|flim|microphone|\\sMIC[.\\s]|\\smic[.\\s]')\n",
    "feat13 = re.compile(r'wi[ -]?fi|connection')\n",
    "feat14 = re.compile(r'mode|automatic|program[ -]?mode|manual[ -]?mode|scene[ -]?mode|timelapse|setting|interface')\n",
    "feat15 = re.compile(r'\\s|\\sweight\\s|\\slighter\\s|\\sheavy\\s|\\sheavier\\s|\\svoluminous\\s|\\sweighty\\s|\\sa whale of a\\s|\\sethereal\\s|\\sexcessive\\\n",
    "\\s|\\simmense\\s|\\svast\\s|\\swhopper\\s|\\sdainty\\s|\\sfractional\\s|\\smicroscopic\\s|\\smini\\s|\\scrowded\\s|\\sfaint\\s|\\seffortless\\\n",
    "\\s|\\steeny\\s|\\sweak\\s|\\ssheer\\s|\\sjumbo\\s|\\sscrubby\\s|\\sporcine\\s|\\suntroublesome\\s|\\spaltry\\s|\\slithe\\s|\\smanageable\\s|\\sunexacting\\s|\\sfilmy\\s|\\scopious\\\n",
    "\\s|\\sslender\\s|\\seffervescent\\s|\\sfragmentary\\s|\\sfriable\\s|\\sinadequate\\s|\\sspongy\\s|\\stiny\\s|\\sstunted\\s|\\ssparse\\s|\\shuge\\s|\\sbull\\s|\\sponderous\\\n",
    "\\s|\\strivial\\s|\\sabundant\\s|\\sstrapping\\s|\\sbuilt\\s|\\soverweight\\s|\\sfloating\\s|\\senormous\\s|\\slumbering\\s|\\sfrugal\\\n",
    "\\s|\\slightweight\\s|\\sinsubstantial\\s|\\sfluffy\\s|\\steensy\\s|\\sundersized\\s|\\schock-full\\s|\\sfrivolous\\s|\\sdowny\\s|\\sminuscule\\\n",
    "\\s|\\sfull\\s|\\sloaded\\s|\\srunty\\s|\\sinconsequential\\s|\\sairy\\s|\\snimble\\s|\\sinsufficient\\s|\\ssandy\\s|\\ssuperficial\\\n",
    "\\s|\\sunheavy\\s|\\sburly\\s|\\swee\\s|\\stremendous\\s|\\sextensive\\s|\\sfat\\s|\\srestricted\\s|\\sweighted\\s|\\sawash\\\n",
    "\\s|\\stissuelike\\s|\\sthundering\\s|\\sgross\\s|\\sbulk\\s|\\sobese\\s|\\shumongous\\s|\\spint[ -]sized\\s|\\ssuper colossal\\s|\\smeager\\s|\\scramped\\\n",
    "\\s|\\slead-footed\\s|\\szaftig\\s|\\sminiature\\s|\\sthin\\s|\\sroomy\\s|\\sminor\\s|\\suntaxing\\s|\\sspacious\\s|\\soversize\\s|\\sinconsiderable\\s|\\sgraceful\\\n",
    "\\s|\\slarge\\s|\\sgossamery\\s|\\shulking\\s|\\soppressed\\s|\\shusky\\s|\\smoderate\\s|\\sladen\\s|\\sfleshy\\s|\\spicayune\\s|\\schunky\\s|\\spetite\\s|\\ssmall\\s|\\sgentle\\s|\\s\\\n",
    "expectant\\s|\\sdigestible\\s|\\selephantine\\s|\\slight-footed\\s|\\sbaby\\s|\\scasual\\s|\\swalloping\\s|\\sparturient\\s|\\ssizable\\s|\\strifling\\s|\\s\\\n",
    "atmospheric\\s|\\sflimsy\\s|\\spuny\\s|\\shefty\\s|\\smonster\\s|\\sshort\\s|\\sfacile\\s|\\snarrow\\s|\\slimited\\s|\\sunmanageable\\s|\\sundemanding\\s|\\s\\\n",
    "massive\\s|\\sminute\\s|\\sstuffed\\s|\\shumble\\s|\\scrumbly\\s|\\smondo\\s|\\stwo-ton\\s|\\spitiful\\s|\\sbantam\\s|\\sdiminutive\\s|\\scolossal\\s|\\s\\\n",
    "cumbersome\\s|\\scommodious\\s|\\sindistinct\\s|\\sinsignificant\\s|\\sbeefy\\s|\\sscanty\\s|\\simponderous\\s|\\sdelicate\\s|\\sfeathery\\s|\\s\\\n",
    "cumbrous\\s|\\ssylphlike\\s|\\sconsiderable\\s|\\sburdensome\\s|\\sbuoyant\\s|\\sfrothy\\s|\\sporous\\s|\\sstout\\s|\\sunpretentious\\s|\\sawkward\\s|\\sfloatable\\s|\\s\\\n",
    "agile\\s|\\sheavyweight\\s|\\spiddling\\s|\\ssprightly\\s|\\sgigantic\\s|\\scorpulent\\s|\\s\\\n",
    "capacious\\s|\\ssmall-scale\\s|\\sweightless\\s|\\sprodigious\\s|\\spocket[ -]size\\s|\\sportable\\s|\\spetty\\s|\\senceinte\\s|\\sgravid\\s|\\spregnant\\s|\\s\\\n",
    "toy\\s|\\sshoestring\\s|\\swhopping\\s|\\sunwieldy\\s|\\sbitty\\s|\\smammoth\\s|\\sportly\\s|\\sbrimming\\s|\\spacked\\s|\\sample\\s|\\s\\\n",
    "feather[ -]weight\\s')\n"
   ]
  },
  {
   "cell_type": "code",
   "execution_count": 236,
   "metadata": {},
   "outputs": [],
   "source": [
    "# df = pd.read_json(r'C:\\Users\\student\\Documents\\jsonData\\VOC\\featFinal.json').sort_index()"
   ]
  },
  {
   "cell_type": "code",
   "execution_count": 245,
   "metadata": {},
   "outputs": [
    {
     "data": {
      "text/plain": [
       "Int64Index([30803, 40876, 53063, 135367], dtype='int64')"
      ]
     },
     "execution_count": 245,
     "metadata": {},
     "output_type": "execute_result"
    }
   ],
   "source": [
    "df[df['feature']=='mp']['sentence'].index"
   ]
  },
  {
   "cell_type": "code",
   "execution_count": 247,
   "metadata": {
    "scrolled": true
   },
   "outputs": [
    {
     "name": "stdout",
     "output_type": "stream",
     "text": [
      "It's amazing for the price and is a great way to jump\n"
     ]
    },
    {
     "data": {
      "text/plain": [
       "[]"
      ]
     },
     "execution_count": 247,
     "metadata": {},
     "output_type": "execute_result"
    }
   ],
   "source": [
    "test = df[df['feature']=='mp']['sentence'][30803]\n",
    "print(test)\n",
    "re.findall(feat, test)"
   ]
  },
  {
   "cell_type": "code",
   "execution_count": 239,
   "metadata": {},
   "outputs": [
    {
     "data": {
      "text/plain": [
       "feat15            121815\n",
       "feat14             32776\n",
       "feat10             32006\n",
       "feat2              28914\n",
       "feat7              23496\n",
       "feat6              19251\n",
       "feat12             18971\n",
       "feat11             17769\n",
       "feat3              17203\n",
       "feat1              16919\n",
       "feat8              14307\n",
       "feat5              12562\n",
       "feat4               4746\n",
       "sfeat10             2069\n",
       "feat13               926\n",
       "feat9                436\n",
       "mp.                  189\n",
       "Imp                   66\n",
       "feat12roscopic        13\n",
       "mp!                   12\n",
       "10mp                   4\n",
       "16mp                   4\n",
       "mp?                    4\n",
       "6mp                    4\n",
       "mp                     4\n",
       "12mp                   4\n",
       "16 mp                  3\n",
       "Emp                    3\n",
       "imp                    2\n",
       "10 mp                  2\n",
       "6 mp                   1\n",
       "10.mp                  1\n",
       "unfeat11               1\n",
       "4 mp                   1\n",
       "hmp                    1\n",
       "24mp                   1\n",
       "8 mp                   1\n",
       "24 mp                  1\n",
       "12 mp                  1\n",
       "14mp                   1\n",
       "4mp                    1\n",
       "36 mp                  1\n",
       ".mp                    1\n",
       "mpt                    1\n",
       "infeat11               1\n",
       "8mp                    1\n",
       "5mp                    1\n",
       "Name: feature, dtype: int64"
      ]
     },
     "execution_count": 239,
     "metadata": {},
     "output_type": "execute_result"
    }
   ],
   "source": [
    "df['feature'].value_counts()"
   ]
  },
  {
   "cell_type": "code",
   "execution_count": 24,
   "metadata": {},
   "outputs": [],
   "source": [
    "df = df.sort_index()"
   ]
  },
  {
   "cell_type": "code",
   "execution_count": 27,
   "metadata": {},
   "outputs": [],
   "source": [
    "feat15 = df[df['feature']=='feat15'].reset_index()"
   ]
  },
  {
   "cell_type": "code",
   "execution_count": 29,
   "metadata": {},
   "outputs": [],
   "source": [
    "feat15 = feat15['sentence']"
   ]
  },
  {
   "cell_type": "code",
   "execution_count": 31,
   "metadata": {},
   "outputs": [
    {
     "data": {
      "text/plain": [
       "\"I know that this is an entry level dslr, I know that it doesn't have some of the features of higher end cameras, but you know what...you don't need as many features as you think you do.\""
      ]
     },
     "execution_count": 31,
     "metadata": {},
     "output_type": "execute_result"
    }
   ],
   "source": [
    "feat15[0]"
   ]
  }
 ],
 "metadata": {
  "kernelspec": {
   "display_name": "Python 3",
   "language": "python",
   "name": "python3"
  },
  "language_info": {
   "codemirror_mode": {
    "name": "ipython",
    "version": 3
   },
   "file_extension": ".py",
   "mimetype": "text/x-python",
   "name": "python",
   "nbconvert_exporter": "python",
   "pygments_lexer": "ipython3",
   "version": "3.7.3"
  }
 },
 "nbformat": 4,
 "nbformat_minor": 2
}
