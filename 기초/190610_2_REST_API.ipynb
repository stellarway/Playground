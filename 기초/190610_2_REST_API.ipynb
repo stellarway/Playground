{
 "cells": [
  {
   "cell_type": "code",
   "execution_count": 16,
   "metadata": {},
   "outputs": [],
   "source": [
    "import requests\n",
    "from bs4 import BeautifulSoup\n",
    "import urllib"
   ]
  },
  {
   "cell_type": "code",
   "execution_count": 23,
   "metadata": {},
   "outputs": [],
   "source": [
    "BASE_END='http://www.worldjob.or.kr/openapi/openapi.do'\n",
    "\n",
    "params={\n",
    "    'dobType': 1,\n",
    "    'dsptcKsco': '01',\n",
    "    'continent':2,\n",
    "    'epmt61':'Y',\n",
    "    'pageIndex':'1',\n",
    "    'showItemListCount':'10',\n",
    "}"
   ]
  },
  {
   "cell_type": "code",
   "execution_count": 24,
   "metadata": {},
   "outputs": [],
   "source": [
    "resp=requests.get(BASE_END, params)"
   ]
  },
  {
   "cell_type": "code",
   "execution_count": 25,
   "metadata": {},
   "outputs": [
    {
     "data": {
      "text/plain": [
       "b'<?xml version=\"1.0\" encoding=\"UTF-8\"?><WORLDJOB>\\n<ERR_CD>00</ERR_CD>\\n<COUNT>1</COUNT>\\n<ITEM>\\n<rctntcSj>[IDB \\xec\\xb2\\xad\\xeb\\x85\\x84\\xea\\xb8\\xb0\\xec\\x88\\xa0\\xec\\x9d\\xb8\\xec\\x9e\\xac\\xeb\\x8b\\xa8] \\xeb\\xaf\\xb8\\xec\\xa3\\xbc\\xea\\xb0\\x9c\\xeb\\xb0\\x9c\\xec\\x9d\\x80\\xed\\x96\\x89 Electronic Ticketing Consultant \\xec\\xb1\\x84\\xec\\x9a\\xa9</rctntcSj>\\n<rctntcSprtQualfCn>\\xe2\\x80\\xa2Work Experience&#13;\\n- Minimum 3 years of relevant work experience or equivalent combination of education and experience. Experience in interoperable systems of public transport fare, electronic fare collection systems, contactless cards and/or similar areas is expected, preferably with knowledge of Calypso standard. Experience in the development of mobile applications is desired but not required.&#13;\\n * 3\\xeb\\x85\\x84 \\xea\\xb2\\xbd\\xeb\\xa0\\xa5\\xec\\x97\\x90 \\xec\\x83\\x81\\xec\\x9d\\x91\\xed\\x95\\x98\\xeb\\x8a\\x94 \\xea\\xb5\\x90\\xec\\x9c\\xa1(\\xec\\x98\\x88: \\xec\\x84\\x9d\\xec\\x82\\xac \\xed\\x98\\xb9\\xec\\x9d\\x80 \\xeb\\xb0\\x95\\xec\\x82\\xac\\xed\\x95\\x99\\xec\\x9c\\x84) \\xeb\\xb0\\x8f \\xea\\xb2\\xbd\\xed\\x97\\x98\\xec\\x9d\\xb4 \\xec\\x9e\\x88\\xeb\\x8b\\xa4\\xeb\\xa9\\xb4 \\xec\\xa7\\x80\\xec\\x9b\\x90 \\xea\\xb0\\x80\\xeb\\x8a\\xa5&#13;\\n&#13;\\n\\xe2\\x80\\xa2Educational Preferences&#13;\\n- Bachelor\\xe2\\x80\\x99s degree in Electrical/Electronic Engineering, Computer Engineering, Computer Science or other related fields. Master\\xe2\\x80\\x99s degree in any of these areas is desirable, but not required.&#13;\\n&#13;\\n\\xe2\\x80\\xa2Technical competencies&#13;\\n- Embedded programming (C++ and Java), data management (acquiring, validating, storing, protecting, processing, etc.), microcontrollers programming, and data science.&#13;\\n&#13;\\n\\xe2\\x80\\xa2Core competencies&#13;\\n- Excellent analytical, problem solving, interpersonal and communication skills. Self-motivated with a record of exercising initiative. Flexible approach to work in multi-cultural and multi-sectoral teams.&#13;\\n&#13;\\n\\xe2\\x80\\xa2Other requirements&#13;\\n- KTC must be a citizen of Korea&#13;\\n- KTC must be 37 years of age or younger at the moment of application.&#13;\\n- KTC must not have family members (up to fourth degree of consanguinity and second degree of affinity, including spouse) currently working at the IDB Group.</rctntcSprtQualfCn>\\n<dsptcNationScd>\\xeb\\xa9\\x95\\xec\\x8b\\x9c\\xec\\xbd\\x94</dsptcNationScd>\\n<dsptcKsco>\\xec\\xa0\\x95\\xeb\\xb3\\xb4\\xed\\x86\\xb5\\xec\\x8b\\xa0 \\xec\\xbb\\xa8\\xec\\x84\\xa4\\xed\\x84\\xb4\\xed\\x8a\\xb8</dsptcKsco>\\n<joDemandCareerStleScd>\\xea\\xb2\\xbd\\xeb\\xa0\\xa5</joDemandCareerStleScd>\\n<joDemandAcdmcrScd>\\xeb\\x8c\\x80\\xed\\x95\\x99(\\xea\\xb5\\x90) \\xec\\xa1\\xb8\\xec\\x97\\x85</joDemandAcdmcrScd>\\n<rctntcEndDay>06/14(\\xea\\xb8\\x88)</rctntcEndDay>\\n<linkUrl>https://www.worldjob.or.kr/advnc/view.do?menuId=1000000014&amp;dobType=1&amp;joCrtfcNo=E20190429021&amp;joCrtfcDsp=1&amp;joCrtfcDspSn=1&amp;dsptcKsco=01&amp;continent=2&amp;epmt61=Y</linkUrl>\\n<directApply>https://www.worldjob.or.kr/sprt/sprtInd.do?type=epmt&amp;prvateOvseaEpmtRcmntAt=2&amp;dobType=1&amp;joCrtfcNo=E20190429021&amp;joCrtfcDsp=1&amp;joCrtfcDspSn=1&amp;dsptcKsco=01&amp;continent=2&amp;epmt61=Y</directApply>\\n</ITEM>\\n</WORLDJOB>'"
      ]
     },
     "execution_count": 25,
     "metadata": {},
     "output_type": "execute_result"
    }
   ],
   "source": [
    "resp.content"
   ]
  },
  {
   "cell_type": "code",
   "execution_count": 21,
   "metadata": {},
   "outputs": [
    {
     "data": {
      "text/plain": [
       "'http://www.worldjob.or.kr/openapi/openapi.do?dobType=1&dsptcKsco=01&continent=2&epmt61=Y&pageIndex=1&showItemListCount=10&_returnType=json'"
      ]
     },
     "execution_count": 21,
     "metadata": {},
     "output_type": "execute_result"
    }
   ],
   "source": [
    "resp.request.url"
   ]
  },
  {
   "cell_type": "code",
   "execution_count": 27,
   "metadata": {},
   "outputs": [
    {
     "data": {
      "text/plain": [
       "<?xml version=\"1.0\" encoding=\"UTF-8\"?><html><body><worldjob>\n",
       "<err_cd>00</err_cd>\n",
       "<count>1</count>\n",
       "<item>\n",
       "<rctntcsj>[IDB 청년기술인재단] 미주개발은행 Electronic Ticketing Consultant 채용</rctntcsj>\n",
       "<rctntcsprtqualfcn>•Work Experience\n",
       "- Minimum 3 years of relevant work experience or equivalent combination of education and experience. Experience in interoperable systems of public transport fare, electronic fare collection systems, contactless cards and/or similar areas is expected, preferably with knowledge of Calypso standard. Experience in the development of mobile applications is desired but not required.\n",
       " * 3년 경력에 상응하는 교육(예: 석사 혹은 박사학위) 및 경험이 있다면 지원 가능\n",
       "\n",
       "•Educational Preferences\n",
       "- Bachelor’s degree in Electrical/Electronic Engineering, Computer Engineering, Computer Science or other related fields. Master’s degree in any of these areas is desirable, but not required.\n",
       "\n",
       "•Technical competencies\n",
       "- Embedded programming (C++ and Java), data management (acquiring, validating, storing, protecting, processing, etc.), microcontrollers programming, and data science.\n",
       "\n",
       "•Core competencies\n",
       "- Excellent analytical, problem solving, interpersonal and communication skills. Self-motivated with a record of exercising initiative. Flexible approach to work in multi-cultural and multi-sectoral teams.\n",
       "\n",
       "•Other requirements\n",
       "- KTC must be a citizen of Korea\n",
       "- KTC must be 37 years of age or younger at the moment of application.\n",
       "- KTC must not have family members (up to fourth degree of consanguinity and second degree of affinity, including spouse) currently working at the IDB Group.</rctntcsprtqualfcn>\n",
       "<dsptcnationscd>멕시코</dsptcnationscd>\n",
       "<dsptcksco>정보통신 컨설턴트</dsptcksco>\n",
       "<jodemandcareerstlescd>경력</jodemandcareerstlescd>\n",
       "<jodemandacdmcrscd>대학(교) 졸업</jodemandacdmcrscd>\n",
       "<rctntcendday>06/14(금)</rctntcendday>\n",
       "<linkurl>https://www.worldjob.or.kr/advnc/view.do?menuId=1000000014&amp;dobType=1&amp;joCrtfcNo=E20190429021&amp;joCrtfcDsp=1&amp;joCrtfcDspSn=1&amp;dsptcKsco=01&amp;continent=2&amp;epmt61=Y</linkurl>\n",
       "<directapply>https://www.worldjob.or.kr/sprt/sprtInd.do?type=epmt&amp;prvateOvseaEpmtRcmntAt=2&amp;dobType=1&amp;joCrtfcNo=E20190429021&amp;joCrtfcDsp=1&amp;joCrtfcDspSn=1&amp;dsptcKsco=01&amp;continent=2&amp;epmt61=Y</directapply>\n",
       "</item>\n",
       "</worldjob></body></html>"
      ]
     },
     "execution_count": 27,
     "metadata": {},
     "output_type": "execute_result"
    }
   ],
   "source": [
    "soup=BeautifulSoup(resp.content)\n",
    "soup"
   ]
  },
  {
   "cell_type": "code",
   "execution_count": null,
   "metadata": {},
   "outputs": [],
   "source": []
  }
 ],
 "metadata": {
  "kernelspec": {
   "display_name": "Python 3",
   "language": "python",
   "name": "python3"
  },
  "language_info": {
   "codemirror_mode": {
    "name": "ipython",
    "version": 3
   },
   "file_extension": ".py",
   "mimetype": "text/x-python",
   "name": "python",
   "nbconvert_exporter": "python",
   "pygments_lexer": "ipython3",
   "version": "3.7.3"
  }
 },
 "nbformat": 4,
 "nbformat_minor": 2
}
