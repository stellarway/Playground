{
 "cells": [
  {
   "cell_type": "markdown",
   "metadata": {},
   "source": [
    "# 객체와 클래스"
   ]
  },
  {
   "cell_type": "markdown",
   "metadata": {},
   "source": [
    "멤버 변수 = 오브젝트 = 인스턴스\n",
    "멤버 함수 = method"
   ]
  },
  {
   "cell_type": "markdown",
   "metadata": {},
   "source": [
    "1. 재사용 가능 2. 모듈화 가능 ex) 1000 개 정도의 코드가 반복이 될 때, '상속'의 개념을 사용해 하나만 수정해도 적용이 되도록"
   ]
  },
  {
   "cell_type": "markdown",
   "metadata": {},
   "source": [
    "*속성: 클래스 자체의 성질, *메소드: 기능 구현 함수"
   ]
  },
  {
   "cell_type": "code",
   "execution_count": 35,
   "metadata": {},
   "outputs": [],
   "source": [
    "class Dog:\n",
    "    def __init__(self, name, color): # 생성자. class 자체를 초기화(선언)할 때 사용.\n",
    "                                        #self는 자기 자신을 가리키는 변수/ name과 color는 인자\n",
    "        self.hungry=0 #self는 모든 인자에 전달이 되어주어야 한다.\n",
    "        self.name=name\n",
    "        self.color=color\n",
    "        \n",
    "    def eat(self):\n",
    "        self.hungry-=10\n",
    "        print(\"밥먹음\", self.hungry)\n",
    "    \n",
    "    def walk(self):\n",
    "        self.hungry +=10\n",
    "        print(\"산책\",self.hungry)\n"
   ]
  },
  {
   "cell_type": "code",
   "execution_count": 36,
   "metadata": {},
   "outputs": [],
   "source": [
    "choco=Dog(\"choco\", \"black\")\n",
    "jjong=Dog(\"jjong\", \"white\")"
   ]
  },
  {
   "cell_type": "code",
   "execution_count": 37,
   "metadata": {},
   "outputs": [
    {
     "name": "stdout",
     "output_type": "stream",
     "text": [
      "산책 10\n",
      "산책 20\n",
      "밥먹음 10\n",
      "10\n",
      "0\n"
     ]
    }
   ],
   "source": [
    "choco.walk()\n",
    "choco.walk()\n",
    "choco.eat()\n",
    "\n",
    "print(choco.hungry)\n",
    "print(jjong.hungry)"
   ]
  },
  {
   "cell_type": "markdown",
   "metadata": {},
   "source": [
    "class 는 설계도이다!! 기본 모형을 만들어 두고, 기본 모형을 바탕으로 조금씩 다른 세부를 정의하자!"
   ]
  },
  {
   "cell_type": "code",
   "execution_count": 12,
   "metadata": {},
   "outputs": [],
   "source": [
    "class Car(object):\n",
    "    total=0 #class attrubute : 모든 객체가 공유하는 속성\n",
    "            #객체 바깥에서 실행됨\n",
    "    \n",
    "    @staticmethod\n",
    "    def call_119():\n",
    "        return '119'\n",
    "    \n",
    "    @classmethod\n",
    "    def get_total(cls):\n",
    "        return cls.total\n",
    "    \n",
    "\n",
    "    def __init__(self, model, eng_rank):\n",
    "        self.model = model #instance 변수\n",
    "        self.eng_rank = eng_rank\n",
    "        self.speed = 0\n",
    "        \n",
    "        Car.total+=1\n",
    "    \n",
    "    def acc(self):\n",
    "        self.speed += 10\n",
    "        return True\n",
    "    \n",
    "    def brk(self):\n",
    "        self.speed -= 10\n",
    "        return True\n",
    "       "
   ]
  },
  {
   "cell_type": "code",
   "execution_count": 14,
   "metadata": {},
   "outputs": [],
   "source": [
    "class BMWCar(Car): #Car class 의 모든 속성이 상속됨\n",
    "    pass"
   ]
  },
  {
   "cell_type": "code",
   "execution_count": 15,
   "metadata": {},
   "outputs": [
    {
     "data": {
      "text/plain": [
       "<__main__.BMWCar at 0x5d8e438>"
      ]
     },
     "execution_count": 15,
     "metadata": {},
     "output_type": "execute_result"
    }
   ],
   "source": [
    "precar=BMWCar(\"BMW\",\"S\")\n",
    "precar"
   ]
  },
  {
   "cell_type": "code",
   "execution_count": 16,
   "metadata": {},
   "outputs": [],
   "source": [
    "mycar = Car(\"Toyota\", 'A')"
   ]
  },
  {
   "cell_type": "code",
   "execution_count": 17,
   "metadata": {},
   "outputs": [],
   "source": [
    "# dir(mycar) #해당 변수의 class(데이터타입)의 속성이나 method를 반환하는 함수 (멤버 변수와 멤버 속상을 모조리 가져오는 것)"
   ]
  },
  {
   "cell_type": "code",
   "execution_count": 19,
   "metadata": {},
   "outputs": [
    {
     "ename": "AttributeError",
     "evalue": "'Car' object has no attribute '_Car__speed'",
     "output_type": "error",
     "traceback": [
      "\u001b[1;31m---------------------------------------------------------------------------\u001b[0m",
      "\u001b[1;31mAttributeError\u001b[0m                            Traceback (most recent call last)",
      "\u001b[1;32m<ipython-input-19-386dc809e98a>\u001b[0m in \u001b[0;36m<module>\u001b[1;34m\u001b[0m\n\u001b[1;32m----> 1\u001b[1;33m \u001b[0mmycar\u001b[0m\u001b[1;33m.\u001b[0m\u001b[0m_Car__speed\u001b[0m \u001b[1;31m#멤버 변수에 접근(private한 변수)\u001b[0m\u001b[1;33m\u001b[0m\u001b[1;33m\u001b[0m\u001b[0m\n\u001b[0m",
      "\u001b[1;31mAttributeError\u001b[0m: 'Car' object has no attribute '_Car__speed'"
     ]
    }
   ],
   "source": [
    "mycar._Car__speed #멤버 변수에 접근(private한 변수) "
   ]
  },
  {
   "cell_type": "code",
   "execution_count": 157,
   "metadata": {},
   "outputs": [
    {
     "data": {
      "text/plain": [
       "True"
      ]
     },
     "execution_count": 157,
     "metadata": {},
     "output_type": "execute_result"
    }
   ],
   "source": [
    "mycar.acc() #mycar의 속성이 변화시키는 메서드 (.acc) 호출"
   ]
  },
  {
   "cell_type": "code",
   "execution_count": 158,
   "metadata": {},
   "outputs": [
    {
     "data": {
      "text/plain": [
       "'Toyota'"
      ]
     },
     "execution_count": 158,
     "metadata": {},
     "output_type": "execute_result"
    }
   ],
   "source": [
    "mycar.model"
   ]
  },
  {
   "cell_type": "code",
   "execution_count": 159,
   "metadata": {},
   "outputs": [
    {
     "data": {
      "text/plain": [
       "'A'"
      ]
     },
     "execution_count": 159,
     "metadata": {},
     "output_type": "execute_result"
    }
   ],
   "source": [
    "mycar.eng_rank"
   ]
  },
  {
   "cell_type": "code",
   "execution_count": 160,
   "metadata": {},
   "outputs": [],
   "source": [
    "mycar= Car(\"Toyota\",'S')"
   ]
  },
  {
   "cell_type": "code",
   "execution_count": 161,
   "metadata": {},
   "outputs": [],
   "source": [
    "jcar= Car(\"Toyota\",'S')"
   ]
  },
  {
   "cell_type": "code",
   "execution_count": 162,
   "metadata": {},
   "outputs": [
    {
     "data": {
      "text/plain": [
       "4"
      ]
     },
     "execution_count": 162,
     "metadata": {},
     "output_type": "execute_result"
    }
   ],
   "source": [
    "Car.total"
   ]
  },
  {
   "cell_type": "markdown",
   "metadata": {},
   "source": [
    "### 정적 method"
   ]
  },
  {
   "cell_type": "code",
   "execution_count": 163,
   "metadata": {},
   "outputs": [
    {
     "data": {
      "text/plain": [
       "'119'"
      ]
     },
     "execution_count": 163,
     "metadata": {},
     "output_type": "execute_result"
    }
   ],
   "source": [
    "Car.call_119()"
   ]
  },
  {
   "cell_type": "markdown",
   "metadata": {},
   "source": [
    "### class method"
   ]
  },
  {
   "cell_type": "code",
   "execution_count": 164,
   "metadata": {},
   "outputs": [
    {
     "data": {
      "text/plain": [
       "4"
      ]
     },
     "execution_count": 164,
     "metadata": {},
     "output_type": "execute_result"
    }
   ],
   "source": [
    "Car.get_total()"
   ]
  },
  {
   "cell_type": "markdown",
   "metadata": {},
   "source": [
    "### 오버라이딩 = 재정의"
   ]
  },
  {
   "cell_type": "code",
   "execution_count": 173,
   "metadata": {},
   "outputs": [],
   "source": [
    "class BMWCar(Car): #Car class 의 모든 속성이 상속됨\n",
    "    def acc(self):\n",
    "        self.speed+=100\n",
    "        \n",
    "        super().acc()\n",
    "        \n",
    "        return True\n"
   ]
  },
  {
   "cell_type": "code",
   "execution_count": 174,
   "metadata": {},
   "outputs": [
    {
     "data": {
      "text/plain": [
       "<__main__.BMWCar at 0x5dd1908>"
      ]
     },
     "execution_count": 174,
     "metadata": {},
     "output_type": "execute_result"
    }
   ],
   "source": [
    "precar=BMWCar(\"BMW\",\"S\")\n",
    "precar"
   ]
  },
  {
   "cell_type": "code",
   "execution_count": 175,
   "metadata": {},
   "outputs": [
    {
     "data": {
      "text/plain": [
       "0"
      ]
     },
     "execution_count": 175,
     "metadata": {},
     "output_type": "execute_result"
    }
   ],
   "source": [
    "precar.speed"
   ]
  },
  {
   "cell_type": "code",
   "execution_count": 176,
   "metadata": {},
   "outputs": [
    {
     "data": {
      "text/plain": [
       "True"
      ]
     },
     "execution_count": 176,
     "metadata": {},
     "output_type": "execute_result"
    }
   ],
   "source": [
    "precar.acc()"
   ]
  },
  {
   "cell_type": "code",
   "execution_count": 177,
   "metadata": {},
   "outputs": [
    {
     "data": {
      "text/plain": [
       "110"
      ]
     },
     "execution_count": 177,
     "metadata": {},
     "output_type": "execute_result"
    }
   ],
   "source": [
    "precar.speed"
   ]
  },
  {
   "cell_type": "code",
   "execution_count": 170,
   "metadata": {},
   "outputs": [
    {
     "data": {
      "text/plain": [
       "0"
      ]
     },
     "execution_count": 170,
     "metadata": {},
     "output_type": "execute_result"
    }
   ],
   "source": [
    "mycar.speed"
   ]
  },
  {
   "cell_type": "code",
   "execution_count": 171,
   "metadata": {},
   "outputs": [
    {
     "data": {
      "text/plain": [
       "True"
      ]
     },
     "execution_count": 171,
     "metadata": {},
     "output_type": "execute_result"
    }
   ],
   "source": [
    "mycar.acc()"
   ]
  },
  {
   "cell_type": "code",
   "execution_count": 172,
   "metadata": {},
   "outputs": [
    {
     "data": {
      "text/plain": [
       "10"
      ]
     },
     "execution_count": 172,
     "metadata": {},
     "output_type": "execute_result"
    }
   ],
   "source": [
    "mycar.speed"
   ]
  },
  {
   "cell_type": "markdown",
   "metadata": {},
   "source": [
    "### 예제"
   ]
  },
  {
   "cell_type": "code",
   "execution_count": 194,
   "metadata": {},
   "outputs": [],
   "source": [
    "class Bicycle():\n",
    "    def move(self, speed):\n",
    "        print(\"자전거: 시속 {}킬로미터로 전진\".format(speed))\n",
    "        \n",
    "    def turn(self, direction):\n",
    "        print(\"자전거: {}회전\".format(direction))\n",
    "        \n",
    "    def stop(self):\n",
    "        print(\"자전거({},{}): 정지\".format(self.wheel_size, self.color))"
   ]
  },
  {
   "cell_type": "code",
   "execution_count": 195,
   "metadata": {},
   "outputs": [
    {
     "data": {
      "text/plain": [
       "<__main__.Bicycle at 0x5e050b8>"
      ]
     },
     "execution_count": 195,
     "metadata": {},
     "output_type": "execute_result"
    }
   ],
   "source": [
    "my_bicycle= Bicycle()\n",
    "my_bicycle"
   ]
  },
  {
   "cell_type": "code",
   "execution_count": 196,
   "metadata": {},
   "outputs": [],
   "source": [
    "my_bicycle.wheel_size=26\n",
    "my_bicycle.color='sky'"
   ]
  },
  {
   "cell_type": "code",
   "execution_count": 197,
   "metadata": {},
   "outputs": [
    {
     "name": "stdout",
     "output_type": "stream",
     "text": [
      "자전거: 시속 30킬로미터로 전진\n",
      "자전거: 좌회전\n",
      "자전거(26,sky): 정지\n"
     ]
    }
   ],
   "source": [
    "my_bicycle.move(30)\n",
    "my_bicycle.turn('좌')\n",
    "my_bicycle.stop()"
   ]
  },
  {
   "cell_type": "markdown",
   "metadata": {},
   "source": [
    "### 연습문제1"
   ]
  },
  {
   "cell_type": "code",
   "execution_count": 79,
   "metadata": {},
   "outputs": [],
   "source": [
    "class Car:\n",
    "    car_dict={\n",
    "        \n",
    "    }\n",
    "    \n",
    "    total=0\n",
    "    \n",
    "    #이름 등 make instance method\n",
    "    def __init__(self, name, cc, year):\n",
    "        self.__name=name\n",
    "        self.__cc=cc\n",
    "        self.__year=year\n",
    "        Car.total+=1\n",
    "        \n",
    "        if not Car.car_dict.get(year):\n",
    "            Car.car_dict[year] = []\n",
    "        Car.car_dict[year].append(self)\n",
    "        \n",
    "    def change_name(self):\n",
    "        self.__name = str(input(\"변경할 이름을 입력하세요: \"))\n",
    "        return self.__name\n",
    "    # 배기량에 따른 method 함수\n",
    "    def size(self):\n",
    "        if self.__cc<0:\n",
    "            print(\"잘못된 배기량을 작성했습니다. 다시 작성해 주세요.\")\n",
    "        elif self.__cc<=1000:\n",
    "            print(\"소형\")\n",
    "        elif self.__cc<=2000:\n",
    "            print(\"중형\")\n",
    "        else:\n",
    "            print(\"대형\")\n",
    "    # 속성을 확인할 수 있는 get함수\n",
    "    # 객체의 name과 배기량, 생산년도를 반환하는 get 함수를 만드세요.\n",
    "    def get(self):\n",
    "        print( \"이름:{}, 배기량:{}, 생산년도:{}\".format(self._Car__name, self._Car__cc, self._Car__year))"
   ]
  },
  {
   "cell_type": "code",
   "execution_count": 80,
   "metadata": {},
   "outputs": [],
   "source": [
    "my_car= Car('BMW', 500, 2019)\n",
    "b_car= Car('범블비', 1500, 2019)\n",
    "bus=Car('마을버스',5000, 1998)\n",
    "taxi=Car('타다', 1500, 2000)"
   ]
  },
  {
   "cell_type": "code",
   "execution_count": 81,
   "metadata": {},
   "outputs": [
    {
     "data": {
      "text/plain": [
       "{2019: [<__main__.Car at 0x5d7f518>, <__main__.Car at 0x5d7fcf8>],\n",
       " 1998: [<__main__.Car at 0x5d7f320>],\n",
       " 2000: [<__main__.Car at 0x5d7f630>]}"
      ]
     },
     "execution_count": 81,
     "metadata": {},
     "output_type": "execute_result"
    }
   ],
   "source": [
    "Car.car_dict"
   ]
  },
  {
   "cell_type": "code",
   "execution_count": 82,
   "metadata": {},
   "outputs": [
    {
     "name": "stdout",
     "output_type": "stream",
     "text": [
      "이름:BMW, 배기량:500, 생산년도:2019\n"
     ]
    }
   ],
   "source": [
    "Car.car_dict[2019][0].get()"
   ]
  },
  {
   "cell_type": "code",
   "execution_count": 90,
   "metadata": {},
   "outputs": [
    {
     "data": {
      "text/plain": [
       "[[<__main__.Car at 0x5d7f518>, <__main__.Car at 0x5d7fcf8>]]"
      ]
     },
     "execution_count": 90,
     "metadata": {},
     "output_type": "execute_result"
    }
   ],
   "source": [
    "lst_2019=[Car.car_dict[2019]]\n",
    "lst_2019"
   ]
  },
  {
   "cell_type": "code",
   "execution_count": 46,
   "metadata": {},
   "outputs": [
    {
     "name": "stdout",
     "output_type": "stream",
     "text": [
      "이름:BMW, 배기량:500, 생산년도:2019\n"
     ]
    }
   ],
   "source": [
    "my_car.get()"
   ]
  },
  {
   "cell_type": "code",
   "execution_count": 47,
   "metadata": {},
   "outputs": [
    {
     "data": {
      "text/plain": [
       "'BMW'"
      ]
     },
     "execution_count": 47,
     "metadata": {},
     "output_type": "execute_result"
    }
   ],
   "source": [
    "my_car._Car__name"
   ]
  },
  {
   "cell_type": "code",
   "execution_count": 48,
   "metadata": {},
   "outputs": [
    {
     "name": "stdout",
     "output_type": "stream",
     "text": [
      "변경할 이름을 입력하세요: \n"
     ]
    },
    {
     "data": {
      "text/plain": [
       "''"
      ]
     },
     "execution_count": 48,
     "metadata": {},
     "output_type": "execute_result"
    }
   ],
   "source": [
    "my_car.change_name()"
   ]
  },
  {
   "cell_type": "code",
   "execution_count": 49,
   "metadata": {},
   "outputs": [
    {
     "data": {
      "text/plain": [
       "''"
      ]
     },
     "execution_count": 49,
     "metadata": {},
     "output_type": "execute_result"
    }
   ],
   "source": [
    "my_car._Car__name"
   ]
  },
  {
   "cell_type": "code",
   "execution_count": 50,
   "metadata": {},
   "outputs": [
    {
     "name": "stdout",
     "output_type": "stream",
     "text": [
      "소형\n"
     ]
    }
   ],
   "source": [
    "my_car.size()"
   ]
  },
  {
   "cell_type": "code",
   "execution_count": 51,
   "metadata": {},
   "outputs": [
    {
     "data": {
      "text/plain": [
       "3"
      ]
     },
     "execution_count": 51,
     "metadata": {},
     "output_type": "execute_result"
    }
   ],
   "source": [
    "Car.total"
   ]
  },
  {
   "cell_type": "code",
   "execution_count": null,
   "metadata": {},
   "outputs": [],
   "source": []
  }
 ],
 "metadata": {
  "kernelspec": {
   "display_name": "Python 3",
   "language": "python",
   "name": "python3"
  },
  "language_info": {
   "codemirror_mode": {
    "name": "ipython",
    "version": 3
   },
   "file_extension": ".py",
   "mimetype": "text/x-python",
   "name": "python",
   "nbconvert_exporter": "python",
   "pygments_lexer": "ipython3",
   "version": "3.7.3"
  }
 },
 "nbformat": 4,
 "nbformat_minor": 2
}
