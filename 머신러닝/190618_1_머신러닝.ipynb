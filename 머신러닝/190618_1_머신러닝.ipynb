{
 "cells": [
  {
   "cell_type": "markdown",
   "metadata": {},
   "source": [
    "# Regressoin model comprehension"
   ]
  },
  {
   "cell_type": "code",
   "execution_count": 176,
   "metadata": {},
   "outputs": [],
   "source": [
    "# https://scikit-learn.org/stable/modules/classes.html\n",
    "from sklearn.datasets import make_regression # 데이터 셋을 만들거나, 저장, 혹은 다운로드 받을 수 있다.\n",
    "from sklearn.linear_model import LinearRegression #  리그레이션 모델 객체\n",
    "from sklearn.model_selection import train_test_split "
   ]
  },
  {
   "cell_type": "code",
   "execution_count": 177,
   "metadata": {},
   "outputs": [
    {
     "name": "stdout",
     "output_type": "stream",
     "text": [
      "input_feature:\n",
      "[[-1.2150141 ]\n",
      " [-0.23135695]\n",
      " [-1.03462212]\n",
      " [ 1.71580825]\n",
      " [-1.58335705]]\n",
      "Targetvalue:\n",
      "[-47.6102327    0.62172036 -41.56468109  95.1980948  -68.06767578]\n"
     ]
    }
   ],
   "source": [
    "x,y=make_regression(n_samples=1000, n_features=1, bias=10, noise=1)\n",
    "print('input_feature:\\n{}\\nTargetvalue:\\n{}'.format(x[:5], y[:5]))\n"
   ]
  },
  {
   "cell_type": "code",
   "execution_count": 178,
   "metadata": {},
   "outputs": [
    {
     "data": {
      "image/png": "[encoded data removed]",
      "text/plain": [
       "<Figure size 432x288 with 1 Axes>"
      ]
     },
     "metadata": {
      "needs_background": "light"
     },
     "output_type": "display_data"
    }
   ],
   "source": [
    "# %matplotlib inline\n",
    "import matplotlib.pyplot as  plt\n",
    "\n",
    "plt.scatter(x,y)\n",
    "plt.show()"
   ]
  },
  {
   "cell_type": "code",
   "execution_count": 179,
   "metadata": {},
   "outputs": [],
   "source": [
    "x_train, x_test, y_train, y_test = train_test_split(x, y, test_size=0.2, shuffle=True)"
   ]
  },
  {
   "cell_type": "code",
   "execution_count": 181,
   "metadata": {},
   "outputs": [
    {
     "name": "stdout",
     "output_type": "stream",
     "text": [
      "<class 'sklearn.linear_model.base.LinearRegression'>\n",
      "weight: [49.82060288]\n",
      "bias: 10.037162813384032\n",
      "weight: [49.82060288]\n",
      "bias: 10.037162813384032\n"
     ]
    }
   ],
   "source": [
    "model=LinearRegression()\n",
    "model_lr= model.fit(x_train, y_train)\n",
    "print(type(model_lr))\n",
    "print('weight:', model_lr.coef_) #coefficient\n",
    "print('bias:',model_lr.intercept_) # y절편 : model에 독립적print('weight:', model_lr.coef_) #coefficient\n",
    "print('weight:', model.coef_) #coefficient\n",
    "print('bias:',model.intercept_) # y절편 : model에 독립적"
   ]
  },
  {
   "cell_type": "code",
   "execution_count": 170,
   "metadata": {},
   "outputs": [
    {
     "data": {
      "text/plain": [
       "0.9996619299583713"
      ]
     },
     "execution_count": 170,
     "metadata": {},
     "output_type": "execute_result"
    }
   ],
   "source": [
    "model.score(x_train, y_train)"
   ]
  },
  {
   "cell_type": "code",
   "execution_count": 173,
   "metadata": {},
   "outputs": [
    {
     "data": {
      "text/plain": [
       "0.9996619299583713"
      ]
     },
     "execution_count": 173,
     "metadata": {},
     "output_type": "execute_result"
    }
   ],
   "source": [
    "model_lr.score(x_train, y_train)"
   ]
  },
  {
   "cell_type": "code",
   "execution_count": 171,
   "metadata": {
    "scrolled": true
   },
   "outputs": [
    {
     "data": {
      "text/plain": [
       "0.9996333027274961"
      ]
     },
     "execution_count": 171,
     "metadata": {},
     "output_type": "execute_result"
    }
   ],
   "source": [
    "model.score(x_test,y_test)"
   ]
  },
  {
   "cell_type": "code",
   "execution_count": 172,
   "metadata": {},
   "outputs": [
    {
     "data": {
      "text/plain": [
       "array([ 63.05521663, 116.05690168])"
      ]
     },
     "execution_count": 172,
     "metadata": {},
     "output_type": "execute_result"
    }
   ],
   "source": [
    "import numpy as np\n",
    "model.predict(np.array([[1,2]]).reshape(2,1))"
   ]
  },
  {
   "cell_type": "markdown",
   "metadata": {},
   "source": [
    "# Ridge Regression\n"
   ]
  },
  {
   "cell_type": "code",
   "execution_count": 140,
   "metadata": {},
   "outputs": [
    {
     "name": "stdout",
     "output_type": "stream",
     "text": [
      "weight:  [ 1.38837963e+00  1.73451379e+00  1.55395736e+00 -2.28316143e+00\n",
      " -1.46080707e+00 -1.28922378e+00  7.16334349e-01 -1.43707321e+00\n",
      " -1.87084233e+00  6.61526125e-01 -2.22962842e-01 -1.17668560e+00\n",
      " -1.93812707e+00 -9.16352351e-01 -1.80976295e+00  7.36439817e-02\n",
      "  9.66186362e-02 -4.67088426e-01 -1.13349187e+00 -1.12451885e+00\n",
      " -1.10657618e+00 -5.52158178e-01  1.22333484e+00  8.62881601e-01\n",
      "  1.79854431e+00  4.98443670e-01  6.88252587e-01  1.71138490e+00\n",
      "  1.94499000e-01 -1.44532133e-02  4.78441226e-01  2.63858504e-01\n",
      " -1.98678454e+00  1.73915595e+00 -2.41408615e-01  2.80709259e+00\n",
      "  8.33786781e-02  1.66110914e+00 -9.50809386e-01 -2.24823988e+00\n",
      " -1.15956259e+00  5.17310539e-01  8.73350777e-01  1.20631059e-02\n",
      "  8.02905252e-01 -3.78438126e-01 -5.84073510e-01 -8.36910496e-01\n",
      " -2.64608312e-01  7.66156313e-01  3.28881144e-02 -4.90869875e-01\n",
      "  1.28520500e+00 -1.79476627e+00  1.12955082e+00 -4.26785165e-01\n",
      " -4.77173632e-01 -8.76914242e-01  6.96594847e-01  2.23834132e+00\n",
      " -1.62791040e+00 -6.70176744e-01  3.10265196e-01 -7.72929123e-01\n",
      " -2.75776487e-01 -3.27924776e+00 -1.30654663e+00  9.98805422e-01\n",
      " -3.25093800e+00  6.46696296e-01  1.50546119e+00 -3.16846867e-01\n",
      "  7.83848008e-01 -4.37136629e-01 -1.87584956e-01  5.39872826e-01\n",
      "  8.70838507e-01  4.71067913e-01  7.39988938e-01 -6.98280624e-01\n",
      "  1.14769483e+00  2.76856307e+00 -1.16169473e+00 -4.19376063e-01\n",
      " -7.30904239e-01  1.62487341e-01  3.91384703e-01  1.16389234e+00\n",
      "  1.56508063e+00 -5.79967223e-01 -1.32566378e+00 -1.01800380e+00\n",
      "  1.13994735e+00 -5.23103348e-01  1.05793162e+00  3.40678869e-01\n",
      " -1.75112272e+00  4.89273714e-01 -5.01317913e-01  7.60083320e-01\n",
      " -6.70956365e-01 -2.72764324e-01  1.61227264e+00  1.72298821e+00\n",
      " -2.79407205e-01  5.08507165e-01  1.53730155e+00 -4.95285178e-01\n",
      "  1.19038652e+00  2.98172829e-01  3.08948421e+00 -8.30314355e-02\n",
      " -1.91131826e+00  3.62928473e-01  7.34326462e-01  7.23426668e-01\n",
      " -1.92957637e+00 -9.64007513e-01  3.65734165e-01  1.44909564e+00\n",
      " -1.13966692e-01  3.12225039e+00 -2.54479893e+00 -6.57282700e-01\n",
      " -1.23491532e+00  1.70598946e-01  1.04584541e-01  8.02525816e-01\n",
      " -1.26788540e+00 -7.49194523e-01 -4.48045148e-01 -8.56538935e-01\n",
      " -9.17579622e-01 -4.09069541e-01  6.10108054e-01  1.65247422e+00\n",
      "  1.19794379e+00  3.96965957e-01  9.44525520e+01 -1.73619552e+00\n",
      "  1.08642829e+00  4.52351492e-01  5.06372510e-01  2.31432053e-01\n",
      "  2.33014625e-01  1.64598302e+00 -1.62351245e+00  3.64307357e-01\n",
      " -4.86292676e-01  2.63620785e+00  2.19356616e+00 -1.08966271e-01\n",
      " -7.73353222e-02 -1.05714838e+00 -9.04937024e-01  5.47816013e-01\n",
      " -8.34818306e-01 -1.83557059e-01 -4.68970579e-01  1.34688987e+00\n",
      " -1.81728217e+00 -3.81199901e-01 -1.78497655e+00  2.48769952e-01\n",
      "  1.05304210e+00  6.25201734e-01  2.14672762e+00 -5.88335101e-01\n",
      "  1.99705441e+00  2.65704651e-01 -1.16813958e+00 -1.75909335e-01\n",
      " -1.58887535e+00  1.15507171e+00  2.42399207e+00 -3.30417544e-01\n",
      " -1.12081312e-01  2.51883041e-03  5.40525658e-02  1.35173459e-01\n",
      "  4.44492443e-01 -3.35812295e-01 -9.02438656e-01  8.73423208e-02\n",
      " -1.81570115e-01  4.67556773e-01  1.95345194e+00 -9.32021941e-01\n",
      " -7.92074035e-01 -1.22366219e+00 -5.25845036e-01  6.12579944e-01\n",
      " -9.19529775e-01  1.50853222e+00 -1.77685427e+00 -9.52275870e-01\n",
      "  1.83258625e+00 -4.68109826e-01 -1.20642671e+00 -9.23152527e-01\n",
      " -1.17473789e+00 -1.58848693e+00  3.99549167e+01  1.31568677e-01\n",
      " -5.02997180e-01 -9.16505357e-01  3.77387674e-01  1.38347411e+00\n",
      " -1.04915730e+00  7.70540153e-01 -1.74678324e-01 -9.02908497e-01\n",
      " -1.97755101e+00 -8.03873844e-01  1.59970093e+00 -1.19012924e+00\n",
      " -1.39343710e+00 -1.56758675e+00  1.38043559e-01  9.16782617e-01\n",
      " -1.12662728e-01 -4.45727381e-01  7.60300021e-01  1.68632619e-01\n",
      " -2.70901168e-01  1.18306508e+00  1.68100405e-01  8.87820722e+01\n",
      "  1.34143757e+00  2.66146995e+00  6.82527658e-01 -1.21282614e+00\n",
      " -8.46248668e-01 -1.08689954e+00 -1.57918376e+00  1.70243360e+00\n",
      " -2.64175640e-01  5.79137315e-01  1.36913166e+00 -1.84251757e+00\n",
      "  1.08369621e+00 -4.31574988e-01 -1.25029715e+00  1.58922997e+00\n",
      " -1.05384540e+00 -1.97362352e+00 -1.91143631e+00 -1.77345913e+00\n",
      " -9.98197673e-02 -3.50277668e-01 -1.73554923e+00  7.51394594e-01\n",
      " -7.90779510e-01  1.30466002e-01 -8.90579563e-01 -1.19000057e-01\n",
      " -1.93535594e+00  1.50907003e+00  8.10957904e-02  3.27457733e-01\n",
      " -3.46770957e-01 -1.02066676e+00 -1.17337029e+00 -2.87071206e-02\n",
      " -6.08465641e-03  1.14126194e+00  2.06287380e-01  4.22426153e-01\n",
      " -9.52633067e-01 -5.63184570e-01  9.32045646e-01  8.65092737e-01\n",
      " -1.89162516e-01 -3.36148168e-01 -1.03189676e+00  2.40220501e-01\n",
      "  1.60583468e+00  2.22806091e+00 -6.98065649e-01  1.18499236e+00\n",
      " -1.20163947e+00 -2.66680211e-02 -1.24832687e+00 -1.37180989e+00\n",
      " -1.38875484e+00  4.18131037e-01 -1.57428024e+00  9.13293577e-01\n",
      " -3.07484779e+00  5.90630773e-01  1.50921529e-01  1.23911459e+00\n",
      "  4.99598713e-02 -1.12887276e+00 -8.44132611e-01  3.63162624e-01\n",
      "  1.53400657e+00  2.69199409e+00 -1.13223611e+00  5.92098271e-01\n",
      "  1.47919884e+00  1.50672577e+00  4.11298325e-01 -2.23673626e-01\n",
      "  8.82012808e-02  3.98606240e-01  1.64708126e+00 -1.45624150e+00\n",
      " -6.27423150e-01 -2.56191076e+00  6.06003991e-01  1.55904236e+00\n",
      "  1.14023985e+00  1.11395276e+00 -2.12001642e+00 -1.77571849e+00\n",
      " -5.92658125e-01  3.19788039e-01 -3.36699475e-01 -1.64230883e+00\n",
      "  4.93271824e-01 -6.26245288e-01  1.84787154e+00  2.36420016e+00\n",
      " -4.96207501e-01 -2.28091867e+00 -1.31241392e+00 -1.65671092e-01\n",
      "  1.02552050e+00  2.43855348e+00 -3.42188225e-01 -5.75918444e-01\n",
      " -1.52569412e+00 -4.46014583e-01  2.77474618e+00 -1.26904843e+00\n",
      " -1.61542683e+00 -9.23926466e-01 -5.09647859e-01 -8.64524946e-01\n",
      "  3.55434301e-01  7.93103765e-01  1.05027663e+00 -1.59112588e+00\n",
      "  1.64784075e+00 -1.22560317e+00  6.80975239e-01 -1.13829575e+00\n",
      " -4.07857738e-01 -9.46926862e-01  9.20306777e-02  1.91690320e+00\n",
      " -6.49616711e-01  5.45312833e-01 -1.04830836e+00 -2.48495417e-01\n",
      " -9.85946909e-01  1.49741959e+00  7.09845836e-02  2.36948480e-01\n",
      " -1.35319489e+00 -2.50385422e+00  1.16234849e+00 -1.61057915e-01\n",
      " -2.16121859e-01 -1.52499387e+00 -4.41080579e-02 -8.86806416e-01\n",
      " -3.28934321e+00 -2.83490231e-01  1.41578218e+00  9.18013858e-01\n",
      " -9.73059084e-01  1.04745753e+00  3.03313280e-01 -1.05466111e+00\n",
      " -5.20981543e-01 -2.67765789e+00  1.71499201e+00 -3.94623734e-01\n",
      "  6.34595573e-01  1.49960740e+00  2.30609936e-01  2.55835220e-02\n",
      "  5.14305647e-01  5.97456878e-01 -5.24549183e-01  2.73054826e-01\n",
      "  2.34341064e-01 -9.96542695e-01 -2.31452128e+00  6.60233912e-01\n",
      " -6.80139153e-01  2.95850906e+00  1.98420748e+00 -3.29375393e-01\n",
      "  1.95558182e+00 -1.01903484e+00 -2.99767097e-01 -1.73874723e+00\n",
      " -1.07336665e+00  1.82068555e+00  1.44800484e+00 -1.09688179e+00\n",
      " -6.50900441e-01 -3.26641468e-01  8.16824320e-01 -3.18615020e-01\n",
      " -5.74066325e-01  3.97735443e-01 -2.24771397e-01 -2.01594972e+00\n",
      "  9.02891014e-01  6.96676312e-01 -7.93511099e-01 -3.68145518e-01\n",
      "  9.55884720e-02  2.94142320e+00  1.13223540e+00  1.76690523e+00\n",
      "  2.69462659e-01 -2.47750796e+00  9.04937764e-01 -1.38977380e-01\n",
      " -1.09751414e+00  6.98871025e-01 -5.83276290e-01  3.96277907e-01\n",
      "  2.13535628e+00  3.69748891e+00 -3.69126855e-01 -6.48739799e-01\n",
      " -1.40344242e-01 -9.92085676e-01 -1.55754667e+00  4.96501901e-01\n",
      " -1.30821939e+00 -2.31090601e+00  1.18108246e+00  9.27960782e-01\n",
      " -5.42699238e-01 -1.03477554e-01  6.30475655e-01 -1.68589426e-01\n",
      " -6.53361098e-01 -1.08914272e+00  1.40473783e+00  8.90806421e-01\n",
      " -2.53957886e+00 -7.43227038e-02 -6.71636047e-01 -2.33661133e+00\n",
      " -1.02577492e+00 -8.91920798e-01  6.81964131e-01 -1.27619975e+00\n",
      " -5.65587752e-01  1.03084257e+00 -6.78743186e-01  3.87586982e-01\n",
      " -1.90756418e-01  1.61273732e+00  1.08896750e+00  1.61821464e-03\n",
      " -1.32428042e+00  2.03121641e-01 -2.31198051e-01 -6.52647254e-01\n",
      " -4.70027327e-01  3.31723383e-01 -5.37784244e-01 -5.23296197e-01\n",
      " -2.35401391e+00  2.12482522e-01  1.42322367e+00 -1.78780655e+00\n",
      "  9.87226861e-01  7.50560390e-01  1.46428931e+00  2.25855525e-01\n",
      " -8.18472167e-01  1.95828796e+00  2.04010566e+00 -1.48612511e+00\n",
      " -1.42989488e+00  2.06528812e+00  3.14686163e-01  9.83135677e-01\n",
      " -2.71058332e+00 -1.11708720e+00  8.36820964e-01  1.21533502e+00\n",
      " -5.31363108e-01  2.51886148e+00  7.81170209e-03  1.89938748e+00\n",
      " -3.24526078e-01 -1.35677196e-01  5.26474807e-01  1.78255172e-01\n",
      "  2.60714811e-01 -9.66590791e-01 -1.31216890e+00 -1.56585396e+00\n",
      " -2.57995557e+00  6.86584071e-01 -2.86525522e-01  5.68053758e-01\n",
      " -8.56968338e-01  1.44254463e-01 -1.40996005e+00  1.40166691e+00\n",
      "  1.74276953e+00 -1.32751312e+00  1.06593182e-01 -9.52780377e-01\n",
      "  7.19940450e-02  9.21761871e-02  1.01998032e+00  3.07747901e-01\n",
      " -8.57106989e-01  1.40742094e+00 -7.21536052e-01 -8.15043269e-01\n",
      "  9.38517306e-02 -8.49810411e-01  1.48801479e+00  4.52354043e-01\n",
      " -1.01121147e+00  8.58087099e-01  9.79747531e-01 -2.25928308e+00\n",
      " -1.30561400e+00  1.24549215e+00 -4.07060847e-01 -1.74279076e+00\n",
      " -1.06681563e+00  9.68044172e-01  1.98543508e+00 -1.36167737e+00\n",
      "  2.59765920e+00 -4.36099249e-01  1.12919285e+00 -2.63528049e+00\n",
      "  1.59913358e-01 -5.30198993e-01 -2.55159897e+00  5.54711695e-02\n",
      "  1.62868194e+00  1.06929783e+00  4.45875406e-01  1.18543175e-01\n",
      " -5.19366828e-01  5.13107560e-01  1.43443647e+00  1.60307699e+00\n",
      "  6.88194159e-01  1.12786073e+01 -6.37770002e-01  2.89964018e-01\n",
      "  3.09123374e+00  1.15338858e+00  7.50873225e+01  5.82636182e-01\n",
      " -1.36527027e+00  1.00809655e+00  1.95314113e+00  6.27272770e-02\n",
      " -2.29668845e-01 -1.09299343e+00  1.88912970e+00  3.62666603e-01\n",
      "  1.31656895e+00  1.38349830e+00  1.05640650e+00  1.80638621e-01\n",
      "  8.26567927e-01  7.81553721e-01 -8.21121641e-01 -1.62300568e+00\n",
      "  1.68381894e+00  1.00955796e+00  4.09339296e-02  1.80527517e+00\n",
      " -2.18480975e+00 -9.91622208e-02  1.07561205e-01  9.90640593e-01\n",
      " -1.49375619e+00  1.83295112e+00 -8.19349006e-01  2.04241600e+00\n",
      "  5.75445748e-01 -1.82500420e+00 -6.72365766e-01 -9.02384424e-01\n",
      " -1.78154880e+00  7.35327720e-01  3.24871785e-01  1.11976495e+00\n",
      "  2.13048551e+00  1.21711524e+00  3.64547937e+00 -1.84752324e-01\n",
      "  3.90430502e-01 -1.33997130e+00  2.10933827e-01 -1.25806697e+00\n",
      " -1.87272637e-02 -1.73257699e+00 -4.99424845e-01 -1.81193276e+00\n",
      "  7.67340343e-01 -7.30031847e-01  1.45448409e+00  5.05794328e-01\n",
      " -1.04476747e+00 -2.06409386e+00 -1.53389592e-01  1.08324027e+00\n",
      " -5.25641588e-01  5.26589213e-02  8.61610854e-01  1.34289673e+00\n",
      " -7.03061579e-01  6.77927888e-02  9.45865181e-01  2.78233173e-01\n",
      "  6.29972851e-01  4.21715072e-01  2.78476707e-01  1.64769467e+00\n",
      " -1.08537412e+00 -8.82143527e-01 -6.14647861e-01 -5.89237625e-01\n",
      "  1.06618477e-01  8.21811309e-01 -1.27648619e+00  3.09344096e-01\n",
      "  3.15742940e-01  1.33599694e+00  1.47367383e-01  1.89708007e+00\n",
      "  1.74067474e+00 -1.95252515e+00 -5.86610803e-01  3.05784584e-01\n",
      " -2.77798317e+00  1.89815986e+00  1.20125223e+00 -1.17732503e+00\n",
      "  3.05262522e+00  1.08858751e+00 -8.06818081e-01 -1.20628648e+00\n",
      "  1.61428706e+00  1.51113001e+00 -1.77969882e+00  2.57685914e+01\n",
      " -2.30908098e+00  3.73470053e-01  8.65359221e-01  1.78298003e+00\n",
      " -1.22794131e+00 -1.13324576e+00  1.84986320e-01 -1.22913483e-01\n",
      " -9.09538853e-01  7.91009244e-01 -6.35256027e-01 -1.69524230e+00\n",
      "  1.17004069e+00 -8.18113049e-01  2.55120027e+00 -2.12458193e-01\n",
      "  8.69309362e-01  9.50863461e-01  8.96231450e-02 -4.22202578e-01\n",
      " -2.51695504e+00 -1.66791108e+00 -1.55114425e-01  1.58858106e+00\n",
      "  9.74595924e-01  1.37989594e+00 -5.26208961e-01  3.23871517e-02\n",
      "  6.31783621e-01 -1.55930384e+00 -7.05325208e-01  2.35719353e-01\n",
      "  8.58357259e-01  4.03551303e-01  5.79601643e-01  8.72670794e-01\n",
      "  2.94737418e+00  1.20225477e+00 -1.65342619e+00 -5.14428996e-01\n",
      "  1.47198239e+00 -4.23453637e-01  1.35163164e+00 -1.43580422e+00\n",
      "  1.03074115e+00  1.23158730e-01  3.02630589e+00  1.26877019e+00\n",
      "  1.60129552e-01 -1.63136204e+00 -1.10463812e+00 -6.45689133e-01\n",
      " -2.22804812e+00  2.51998346e+00  9.77048417e-02 -4.23316893e-01\n",
      "  8.10159771e-03  9.07935461e-01  5.86731539e-01  8.30126394e-01\n",
      " -1.03778963e+00 -3.20569550e-01 -1.51260111e+00  1.60182939e+00\n",
      "  3.32784544e-01  2.19344035e-01 -7.31741070e-01 -1.09906928e+00\n",
      "  1.14161745e+00  9.53755785e-01  6.98800112e-01 -4.24677226e-01\n",
      " -1.04645836e+00  1.82359439e+00  2.06112005e+00  8.00007645e-01\n",
      " -6.94664841e-01  1.75252899e-01  4.91933093e-01  7.80247089e-02\n",
      "  1.43677039e+00 -8.08851090e-02 -1.47660976e+00 -1.42506633e+00\n",
      "  1.56562644e+00 -1.45636218e+00  2.15971997e-01  1.30757785e+00\n",
      " -1.36379625e+00 -7.17691350e-01  1.86490408e-01 -1.06945992e+00\n",
      " -6.09683976e-01 -1.44953491e+00 -1.73748692e+00  5.07310192e-01\n",
      "  6.06649081e-02  1.93817406e-01 -5.18127057e-01 -7.17078435e-01\n",
      "  1.16466916e+00 -1.92277248e+00  3.72070665e-03  8.82756720e-01\n",
      "  8.57412078e-01  1.71692806e+00 -1.61739543e+00 -2.52364593e-01\n",
      " -8.94936865e-01 -1.76904926e+00 -3.53039207e-02 -6.83360478e-01\n",
      " -1.74444183e+00 -8.64002004e-01  1.44738368e+00 -1.25144929e+00\n",
      "  3.42812119e-01  4.37225282e-01 -2.68921770e-01  1.37414177e+00\n",
      " -2.73075552e-01  1.47219537e+00 -1.29344608e+00  1.47938113e-01\n",
      "  2.59572585e+00 -2.38069052e-01 -2.47535382e+00 -6.89334283e-01\n",
      " -1.16949491e+00 -6.01428399e-01  7.55146687e-01 -9.38269703e-01\n",
      " -2.25133918e-01 -1.84059303e+00  1.37374828e+00 -1.00399327e+00\n",
      " -9.91942622e-01  1.24690889e+00  9.45493722e-01 -1.79969726e-01\n",
      "  2.36751439e+00  1.17162829e-02  6.88268443e-01 -1.56791761e+00\n",
      "  1.98145943e+00 -4.63591058e-01  3.80515589e-01  1.04830795e+00\n",
      " -1.10550820e+00  1.51598910e+00 -2.66636593e+00  4.97835040e-01\n",
      " -9.22682401e-01  7.84204408e-01 -4.05601181e-01  4.21637203e-02\n",
      "  6.53266378e-01  9.24574307e+01 -7.38358431e-01 -1.67991571e+00\n",
      " -1.51690833e+00 -1.03424376e+00 -1.55937647e+00 -1.61877094e+00\n",
      "  8.45135391e-01 -2.10766945e+00 -1.62956572e+00  7.61945447e-02\n",
      "  2.09949972e-01 -2.52344627e+00  1.78928292e-01 -1.12790868e+00\n",
      "  2.19072259e+00 -1.42499982e+00  9.72007073e-01 -1.52788114e+00\n",
      " -1.98590970e+00 -2.74308406e+00 -1.99985871e+00  1.48864252e+00\n",
      " -1.06304938e-01 -5.80859537e-01  1.70594521e+00 -1.67519101e+00\n",
      " -3.06811128e-01 -2.30216728e+00 -9.34999335e-01 -2.53324274e-02\n",
      "  2.34087068e+00  1.76348675e-01  6.16342700e-01 -6.25409226e-01\n",
      " -1.77978414e+00 -2.49340462e+00  5.20191739e-01 -5.72934952e-01\n",
      " -1.51610311e+00  1.40402427e-01  1.05871316e+00 -8.06999154e-01\n",
      " -1.23993468e+00  3.36019423e-01  2.04806358e+00  7.52772552e-01\n",
      "  4.44862333e-01 -7.21751449e-01 -4.90557947e-01 -1.12639028e-01\n",
      "  1.06978404e+00  6.62046518e-01 -6.94077560e-01  1.88567107e+00\n",
      " -2.21170215e+00 -1.46320220e+00  8.37544356e-01  1.24847734e+00\n",
      " -7.84693080e-01 -2.90486604e-01  3.74102389e-01 -1.79836550e+00\n",
      " -2.99773170e-01  6.89485823e-01  2.61950940e+00 -6.71772802e-01\n",
      "  1.59935693e+00  2.18126670e+00 -1.03238395e+00 -1.27550092e+00\n",
      " -1.74513993e+00  4.68545901e-01 -7.54788295e-01  1.26246053e+00\n",
      " -1.24530831e+00  7.77291418e-01  6.08255452e-02  2.81099468e+00\n",
      "  1.28587150e+00  4.29070096e-01  4.21806697e-01 -5.96442853e-01\n",
      " -4.57514788e-01 -5.49677231e-01  3.49624632e-01  4.57063595e+00\n",
      "  1.38357318e+00 -8.92025093e-01 -4.55389382e-01 -1.55605610e+00\n",
      "  1.44696754e+00 -6.81797576e-01  8.38329893e-01 -2.42058336e-01\n",
      " -3.13361978e-01  1.97559615e+00  2.01855933e+00  8.45769005e+01\n",
      "  9.79082179e-01 -8.65667884e-01  1.17337286e+00 -9.03230890e-01\n",
      " -3.60121308e-01 -2.37875775e+00  5.06138130e-01  3.47867729e+01\n",
      "  1.44967029e+00 -5.71031059e-01  1.55126571e-01  2.56227847e-01\n",
      "  7.65876541e-01 -1.68790313e-01 -1.70369745e-01 -8.82840838e-02\n",
      " -1.58582314e+00  2.26214195e-01  6.86687032e-01  1.07348912e-02\n",
      " -1.64976525e+00 -5.05673491e-01 -1.15172970e+00 -7.76668786e-01\n",
      "  2.50736697e+00 -7.05755509e-01 -6.84169213e-01 -1.33889153e+00\n",
      " -1.40198983e+00 -6.64764734e-01 -8.88533585e-01 -3.11290350e-01\n",
      " -4.36841175e-01  2.28733962e+00  1.09574289e+00  3.63458552e-01\n",
      " -6.67624705e-01  9.42134625e-01  8.91376503e+01  1.15360834e+00\n",
      "  3.38561605e-01  1.04478364e+00  1.67376597e+00 -3.45363061e-01\n",
      " -1.92749237e-01 -6.64816939e-02 -8.16652614e-01 -2.39926843e+00\n",
      "  6.64455908e-01 -2.70302499e+00 -2.32974651e+00 -2.05652581e+00\n",
      " -3.41449975e-01  1.08477295e+00  1.25566405e+00  1.23503820e-01\n",
      " -1.03298154e-01 -1.05553695e+00  6.95341386e-01 -4.69213725e-01\n",
      "  4.68329923e-01  1.75884870e+00  2.36054794e-01  1.32046318e+00\n",
      " -1.36773490e+00 -6.45743607e-01 -9.11034023e-01 -5.40406876e-01\n",
      "  1.48682230e-01 -2.40386011e-01  1.01623360e+00 -1.43495039e+00\n",
      " -5.44761632e-01  1.58261590e-01 -1.73605820e-01  1.13723273e+00\n",
      "  7.29393940e-01  1.88150701e+00  1.66831525e+00  1.54833005e+00\n",
      " -1.08542839e+00  1.71390706e+00  6.34247466e-01  4.06031982e-01]\n",
      "bias:  9.104016691321307\n"
     ]
    }
   ],
   "source": [
    "from sklearn.datasets import make_regression\n",
    "from sklearn.linear_model import Ridge\n",
    "from sklearn.model_selection import train_test_split\n",
    "\n",
    "X, y = make_regression(n_samples=10000, n_features=1000, bias=10, noise=100)\n",
    "\n",
    "X_train, X_test, y_train, y_test = train_test_split(X, y, shuffle=True)\n",
    "\n",
    "# Linear Regression 클래스 객체 생성\n",
    "model = Ridge(alpha=0.1) \n",
    "# fit 메서드로 모형 추정 (오그멘테이션은 자동으로 수행)\n",
    "model_lr = model.fit(X_train, y_train)\n",
    "\n",
    "print('weight: ', model_lr.coef_)\n",
    "print('bias: ', model_lr.intercept_)"
   ]
  },
  {
   "cell_type": "code",
   "execution_count": 141,
   "metadata": {},
   "outputs": [
    {
     "data": {
      "text/plain": [
       "0.8502804807986077"
      ]
     },
     "execution_count": 141,
     "metadata": {},
     "output_type": "execute_result"
    }
   ],
   "source": [
    "model.score(X_train, y_train)"
   ]
  },
  {
   "cell_type": "code",
   "execution_count": 142,
   "metadata": {},
   "outputs": [
    {
     "data": {
      "text/plain": [
       "0.8104606836792408"
      ]
     },
     "execution_count": 142,
     "metadata": {},
     "output_type": "execute_result"
    }
   ],
   "source": [
    "model.score(X_test, y_test)"
   ]
  },
  {
   "cell_type": "code",
   "execution_count": 150,
   "metadata": {},
   "outputs": [],
   "source": [
    "\n",
    "from sklearn.datasets import make_regression\n",
    "from sklearn.linear_model import Lasso\n",
    "from sklearn.model_selection import train_test_split\n",
    "\n",
    "X, y = make_regression(n_samples=100000, n_features=10, bias=10, noise=20)\n",
    "\n",
    "X_train, X_test, y_train, y_test = train_test_split(X, y)\n",
    "\n"
   ]
  },
  {
   "cell_type": "code",
   "execution_count": 151,
   "metadata": {},
   "outputs": [
    {
     "data": {
      "image/png": "[encoded data removed]",
      "text/plain": [
       "<Figure size 432x288 with 1 Axes>"
      ]
     },
     "metadata": {
      "needs_background": "light"
     },
     "output_type": "display_data"
    }
   ],
   "source": [
    "# Linear Regression 클래스 객체 생성\n",
    "model = Lasso() # fit_intercept = 상수항 유무 결정\n",
    "\n",
    "# fit 메서드로 모형 추정 (오그멘테이션은 자동으로 수행)\n",
    "model_lr = model.fit(X_train, y_train)\n",
    "\n",
    "# %matplotlib inline\n",
    "import matplotlib.pyplot as  plt\n",
    "\n",
    "plt.scatter(X[:,1],y)\n",
    "plt.show()"
   ]
  },
  {
   "cell_type": "code",
   "execution_count": 156,
   "metadata": {},
   "outputs": [
    {
     "name": "stdout",
     "output_type": "stream",
     "text": [
      "weight:  [86.15264131 35.06675302 69.09951319 49.97072843 18.87774921 84.99508725\n",
      " 18.89651007 33.93323974 60.58728478 79.0024095 ]\n",
      "bias:  9.923843960368616\n"
     ]
    }
   ],
   "source": [
    "\n",
    "print('weight: ', model_lr.coef_)\n",
    "print('bias: ', model_lr.intercept_)\n",
    "\n"
   ]
  },
  {
   "cell_type": "code",
   "execution_count": 157,
   "metadata": {},
   "outputs": [
    {
     "data": {
      "text/plain": [
       "0.9886615283994538"
      ]
     },
     "execution_count": 157,
     "metadata": {},
     "output_type": "execute_result"
    }
   ],
   "source": [
    "\n",
    "model.score(X_train, y_train)\n"
   ]
  },
  {
   "cell_type": "code",
   "execution_count": 158,
   "metadata": {},
   "outputs": [
    {
     "data": {
      "text/plain": [
       "0.9885067088171403"
      ]
     },
     "execution_count": 158,
     "metadata": {},
     "output_type": "execute_result"
    }
   ],
   "source": [
    "\n",
    "model.score(X_test, y_test)"
   ]
  },
  {
   "cell_type": "code",
   "execution_count": null,
   "metadata": {},
   "outputs": [],
   "source": []
  }
 ],
 "metadata": {
  "kernelspec": {
   "display_name": "Python 3",
   "language": "python",
   "name": "python3"
  },
  "language_info": {
   "codemirror_mode": {
    "name": "ipython",
    "version": 3
   },
   "file_extension": ".py",
   "mimetype": "text/x-python",
   "name": "python",
   "nbconvert_exporter": "python",
   "pygments_lexer": "ipython3",
   "version": "3.7.3"
  }
 },
 "nbformat": 4,
 "nbformat_minor": 2
}
