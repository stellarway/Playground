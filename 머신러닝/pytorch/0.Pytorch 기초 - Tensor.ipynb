{
 "cells": [
  {
   "cell_type": "code",
   "execution_count": 2,
   "metadata": {},
   "outputs": [],
   "source": [
    "import torch.cuda # GPU 지원\n",
    "from torch import Storage # 1차원 배열, single data type 저장소\n",
    "import torch.nn # NN 모듈s --> Parameter, Container, Layer, Utility\n",
    "# Hidden layer의 갯수 결정\n",
    "import torch.nn.functional # NN functions\n",
    "import torch.nn.init # initialize \n",
    "import torch.optim # 최적화 알고리즘\n",
    "import torch.autograd # Gradient 자동 계산\n",
    "# grad는 결국 기울기를 나타낸 것"
   ]
  },
  {
   "cell_type": "code",
   "execution_count": 3,
   "metadata": {},
   "outputs": [],
   "source": [
    "import torch.distributed # 분산처리\n",
    "import torch.distributions # 분포\n",
    "\n",
    "import torch.multiprocessing # 멀티프로세싱 모듈 wrapper"
   ]
  },
  {
   "cell_type": "code",
   "execution_count": 4,
   "metadata": {},
   "outputs": [],
   "source": [
    "import torch.utils \n",
    "from torch.utils import bottleneck # Bottleneck 디버깅\n",
    "from torch.utils import checkpoint \n",
    "from torch.utils import cpp_extension # cpp3지원\n",
    "from torch.utils import data\n",
    "from torch.utils import dlpack\n",
    "from torch.utils import model_zoo"
   ]
  },
  {
   "cell_type": "code",
   "execution_count": 5,
   "metadata": {},
   "outputs": [],
   "source": [
    "import torch.jit # Torch Script"
   ]
  },
  {
   "cell_type": "code",
   "execution_count": 6,
   "metadata": {},
   "outputs": [],
   "source": [
    "import numpy as np"
   ]
  },
  {
   "cell_type": "markdown",
   "metadata": {},
   "source": [
    "# 텐서 (Tensor) 기본\n",
    "- [torch.Tensor](https://pytorch.org/docs/stable/tensors.html)"
   ]
  },
  {
   "cell_type": "code",
   "execution_count": 8,
   "metadata": {},
   "outputs": [
    {
     "data": {
      "text/plain": [
       "tensor([[3.8956e-43, 0.0000e+00],\n",
       "        [1.4013e-45, 0.0000e+00]])"
      ]
     },
     "execution_count": 8,
     "metadata": {},
     "output_type": "execute_result"
    }
   ],
   "source": [
    "x = torch.Tensor(2,2) # = torch.FloatTensor\n",
    "x\n",
    "# numpy처럼 shape 재구성"
   ]
  },
  {
   "cell_type": "code",
   "execution_count": 10,
   "metadata": {},
   "outputs": [
    {
     "name": "stdout",
     "output_type": "stream",
     "text": [
      "type:  torch.FloatTensor\n",
      "size:  torch.Size([2, 2])\n",
      "개수:  4\n"
     ]
    }
   ],
   "source": [
    "print('type: ', x.type())\n",
    "print('size: ', x.size())\n",
    "# 여기서 size는 shape과 같다\n",
    "print('개수: ', x.numel())\n"
   ]
  },
  {
   "cell_type": "code",
   "execution_count": 11,
   "metadata": {},
   "outputs": [
    {
     "data": {
      "text/plain": [
       "tensor([[[[1.2093e-42],\n",
       "          [0.0000e+00]],\n",
       "\n",
       "         [[0.0000e+00],\n",
       "          [0.0000e+00]],\n",
       "\n",
       "         [[0.0000e+00],\n",
       "          [0.0000e+00]]],\n",
       "\n",
       "\n",
       "        [[[0.0000e+00],\n",
       "          [0.0000e+00]],\n",
       "\n",
       "         [[0.0000e+00],\n",
       "          [0.0000e+00]],\n",
       "\n",
       "         [[0.0000e+00],\n",
       "          [0.0000e+00]]],\n",
       "\n",
       "\n",
       "        [[[0.0000e+00],\n",
       "          [0.0000e+00]],\n",
       "\n",
       "         [[0.0000e+00],\n",
       "          [0.0000e+00]],\n",
       "\n",
       "         [[0.0000e+00],\n",
       "          [0.0000e+00]]],\n",
       "\n",
       "\n",
       "        [[[0.0000e+00],\n",
       "          [0.0000e+00]],\n",
       "\n",
       "         [[0.0000e+00],\n",
       "          [0.0000e+00]],\n",
       "\n",
       "         [[0.0000e+00],\n",
       "          [0.0000e+00]]]])"
      ]
     },
     "execution_count": 11,
     "metadata": {},
     "output_type": "execute_result"
    }
   ],
   "source": [
    "# 4차원\n",
    "x2 = torch.Tensor(4,3,2,1)\n",
    "x2"
   ]
  },
  {
   "cell_type": "code",
   "execution_count": 12,
   "metadata": {},
   "outputs": [
    {
     "name": "stdout",
     "output_type": "stream",
     "text": [
      "type:  torch.FloatTensor\n",
      "size:  torch.Size([4, 3, 2, 1])\n",
      "개수:  24\n"
     ]
    }
   ],
   "source": [
    "print('type: ', x2.type())\n",
    "print('size: ', x2.size())\n",
    "print('개수: ', x2.numel())"
   ]
  },
  {
   "cell_type": "markdown",
   "metadata": {},
   "source": [
    "# 텐서를 만드는 또 다른 방법"
   ]
  },
  {
   "cell_type": "code",
   "execution_count": 13,
   "metadata": {},
   "outputs": [
    {
     "name": "stdout",
     "output_type": "stream",
     "text": [
      "a: tensor([[0., 0., 0., 0.],\n",
      "        [0., 0., 0., 0.],\n",
      "        [0., 0., 0., 0.],\n",
      "        [0., 0., 0., 0.]])\n",
      "b: tensor([[1., 1., 1., 1.],\n",
      "        [1., 1., 1., 1.],\n",
      "        [1., 1., 1., 1.],\n",
      "        [1., 1., 1., 1.]])\n",
      "c: tensor([[1., 0., 0., 0.],\n",
      "        [0., 1., 0., 0.],\n",
      "        [0., 0., 1., 0.],\n",
      "        [0., 0., 0., 1.]])\n",
      "d: tensor([[0.9088, 0.3157, 0.6448, 0.8419],\n",
      "        [0.6233, 0.0106, 0.8641, 0.4715],\n",
      "        [0.9561, 0.3243, 0.7532, 0.3250],\n",
      "        [0.5390, 0.4510, 0.1675, 0.7901]])\n",
      "e: tensor([[ 0.0888, -0.8374, -0.2358, -0.2908],\n",
      "        [ 0.8550, -0.5617, -0.2234,  1.3016],\n",
      "        [-0.2321, -0.3842, -0.1415, -0.1749],\n",
      "        [-0.7623, -0.3452,  0.0063,  2.4766]])\n"
     ]
    }
   ],
   "source": [
    "# 영행렬\n",
    "a = torch.zeros(4, 4)\n",
    "print('a:', a)\n",
    "\n",
    "# 일행렬\n",
    "b = torch.ones(4,4)\n",
    "print('b:',b)\n",
    "\n",
    "# 단위 행렬\n",
    "c = torch.eye(4,4) \n",
    "print('c:',c)\n",
    "\n",
    "# 0과1사이 난수\n",
    "d = torch.rand(4,4)\n",
    "print('d:',d)\n",
    "\n",
    "# 정규분포 추출 N(0,1)\n",
    "e = torch.randn(4,4)\n",
    "print('e:',e)\n"
   ]
  },
  {
   "cell_type": "code",
   "execution_count": 74,
   "metadata": {},
   "outputs": [
    {
     "data": {
      "text/plain": [
       "tensor([0.0000, 0.3000, 0.6000, 0.9000, 1.2000, 1.5000, 1.8000, 2.1000, 2.4000,\n",
       "        2.7000])"
      ]
     },
     "execution_count": 74,
     "metadata": {},
     "output_type": "execute_result"
    }
   ],
   "source": [
    "x3 = torch.arange(0, 3, step=0.3) # np.arange()\n",
    "x3"
   ]
  },
  {
   "cell_type": "code",
   "execution_count": 75,
   "metadata": {},
   "outputs": [
    {
     "data": {
      "text/plain": [
       "tensor([[6., 2.],\n",
       "        [3., 4.],\n",
       "        [5., 6.]])"
      ]
     },
     "execution_count": 75,
     "metadata": {},
     "output_type": "execute_result"
    }
   ],
   "source": [
    "torch.Tensor([[6,2],[3,4],[5,6]])"
   ]
  },
  {
   "cell_type": "code",
   "execution_count": 76,
   "metadata": {},
   "outputs": [
    {
     "data": {
      "text/plain": [
       "tensor([[ 5,  6],\n",
       "        [10, 11]])"
      ]
     },
     "execution_count": 76,
     "metadata": {},
     "output_type": "execute_result"
    }
   ],
   "source": [
    "numpy_test = np.array([[5,6],[10,11]])\n",
    "torch.from_numpy(numpy_test)"
   ]
  },
  {
   "cell_type": "markdown",
   "metadata": {},
   "source": [
    "# 인덱싱, 슬라이싱"
   ]
  },
  {
   "cell_type": "code",
   "execution_count": 77,
   "metadata": {},
   "outputs": [
    {
     "data": {
      "text/plain": [
       "tensor([[1., 2., 3.],\n",
       "        [4., 5., 6.],\n",
       "        [7., 8., 9.]])"
      ]
     },
     "execution_count": 77,
     "metadata": {},
     "output_type": "execute_result"
    }
   ],
   "source": [
    "x4 = torch.Tensor([[1,2,3],[4,5,6],[7,8,9]])\n",
    "x4"
   ]
  },
  {
   "cell_type": "code",
   "execution_count": 78,
   "metadata": {},
   "outputs": [
    {
     "data": {
      "text/plain": [
       "tensor([[1., 2., 3.],\n",
       "        [4., 5., 6.]])"
      ]
     },
     "execution_count": 78,
     "metadata": {},
     "output_type": "execute_result"
    }
   ],
   "source": [
    "x4[0:2,:]"
   ]
  },
  {
   "cell_type": "code",
   "execution_count": 79,
   "metadata": {},
   "outputs": [
    {
     "data": {
      "text/plain": [
       "tensor([4., 5., 6.])"
      ]
     },
     "execution_count": 79,
     "metadata": {},
     "output_type": "execute_result"
    }
   ],
   "source": [
    "x4[1]"
   ]
  },
  {
   "cell_type": "code",
   "execution_count": 80,
   "metadata": {},
   "outputs": [
    {
     "data": {
      "text/plain": [
       "tensor([1., 2., 3.])"
      ]
     },
     "execution_count": 80,
     "metadata": {},
     "output_type": "execute_result"
    }
   ],
   "source": [
    "x4[0,:]"
   ]
  },
  {
   "cell_type": "code",
   "execution_count": 82,
   "metadata": {},
   "outputs": [
    {
     "data": {
      "text/plain": [
       "tensor([[62., 72., 80.],\n",
       "        [ 4.,  5.,  6.],\n",
       "        [ 7.,  8.,  9.]])"
      ]
     },
     "execution_count": 82,
     "metadata": {},
     "output_type": "execute_result"
    }
   ],
   "source": [
    "# 값 변경\n",
    "x4[0:1,:] = torch.Tensor([62,72,80])\n",
    "x4"
   ]
  },
  {
   "cell_type": "code",
   "execution_count": 91,
   "metadata": {},
   "outputs": [
    {
     "data": {
      "text/plain": [
       "tensor([[ 62.,  72.,  80.],\n",
       "        [200.,  78.,  89.],\n",
       "        [  7.,   8.,   9.]])"
      ]
     },
     "execution_count": 91,
     "metadata": {},
     "output_type": "execute_result"
    }
   ],
   "source": [
    "# 값 변경\n",
    "x4[1] = torch.Tensor([200,78, 89])\n",
    "x4"
   ]
  },
  {
   "cell_type": "code",
   "execution_count": 123,
   "metadata": {},
   "outputs": [
    {
     "data": {
      "text/plain": [
       "(tensor([[62., 72., 80.]]),\n",
       " tensor([[200.,  78.,  89.]]),\n",
       " tensor([[7., 8., 9.]]))"
      ]
     },
     "execution_count": 123,
     "metadata": {},
     "output_type": "execute_result"
    }
   ],
   "source": [
    "# https://pytorch.org/docs/stable/torch.html#torch.split\n",
    "x5 = torch.split(x4, split_size_or_sections=1,dim=0) # split함.\n",
    "x5\n"
   ]
  },
  {
   "cell_type": "code",
   "execution_count": 124,
   "metadata": {},
   "outputs": [],
   "source": [
    "a, b, c = x5"
   ]
  },
  {
   "cell_type": "code",
   "execution_count": 125,
   "metadata": {},
   "outputs": [
    {
     "data": {
      "text/plain": [
       "(tensor([[ 62.],\n",
       "         [200.],\n",
       "         [  7.]]), tensor([[72.],\n",
       "         [78.],\n",
       "         [ 8.]]), tensor([[80.],\n",
       "         [89.],\n",
       "         [ 9.]]))"
      ]
     },
     "execution_count": 125,
     "metadata": {},
     "output_type": "execute_result"
    }
   ],
   "source": [
    "# https://pytorch.org/docs/stable/torch.html#torch.split\n",
    "x6 = torch.split(x4, split_size_or_sections=1,dim=1) # split함.\n",
    "x6"
   ]
  },
  {
   "cell_type": "code",
   "execution_count": 126,
   "metadata": {},
   "outputs": [
    {
     "name": "stdout",
     "output_type": "stream",
     "text": [
      "tensor([[ 62.,  72.,  80., 200.,  78.,  89.,   7.,   8.,   9.]])\n",
      "size:  torch.Size([1, 9])\n"
     ]
    }
   ],
   "source": [
    "y1 = torch.cat((a,b,c), dim=1)\n",
    "print(y1)\n",
    "print('size: ', y1.size())"
   ]
  },
  {
   "cell_type": "code",
   "execution_count": 128,
   "metadata": {},
   "outputs": [
    {
     "name": "stdout",
     "output_type": "stream",
     "text": [
      "tensor([[ 62.,  72.,  80.],\n",
      "        [200.,  78.,  89.],\n",
      "        [  7.,   8.,   9.]])\n",
      "size:  torch.Size([3, 3])\n"
     ]
    }
   ],
   "source": [
    "y2 = torch.cat((a,b,c), dim=0)\n",
    "print(y2)\n",
    "print('size: ', y2.size())"
   ]
  },
  {
   "cell_type": "code",
   "execution_count": 129,
   "metadata": {},
   "outputs": [
    {
     "name": "stdout",
     "output_type": "stream",
     "text": [
      "tensor([[[ 62.,  72.,  80.],\n",
      "         [200.,  78.,  89.],\n",
      "         [  7.,   8.,   9.]]])\n",
      "size:  torch.Size([1, 3, 3])\n"
     ]
    }
   ],
   "source": [
    "# 하나 더 쌓기\n",
    "y3 = torch.stack(x5, dim=1)\n",
    "print(y3)\n",
    "print('size: ', y3.size())"
   ]
  },
  {
   "cell_type": "code",
   "execution_count": 134,
   "metadata": {},
   "outputs": [
    {
     "name": "stdout",
     "output_type": "stream",
     "text": [
      "x7: tensor([[ 1.0551, -0.6982,  0.3120],\n",
      "        [-0.4726, -0.1762,  1.1410],\n",
      "        [-1.8741, -0.6198, -1.0137]])\n",
      "\n",
      "mask: tensor([[1, 0, 0],\n",
      "        [1, 1, 1],\n",
      "        [0, 1, 0]], dtype=torch.uint8)\n",
      "\n",
      "masked_select: tensor([ 1.0551, -0.4726, -0.1762,  1.1410, -0.6198])\n",
      "\n"
     ]
    }
   ],
   "source": [
    "x7 = torch.randn(3,3)\n",
    "print('x7:',x7)\n",
    "print()\n",
    "\n",
    "# mask함수\n",
    "mask  = torch.ByteTensor([[1,0,0],[1,1,1],[0,1,0]])\n",
    "print('mask:', mask)\n",
    "print()\n",
    "\n",
    "out = torch.masked_select(x7, mask)\n",
    "print('masked_select:', out)\n",
    "print()"
   ]
  },
  {
   "cell_type": "markdown",
   "metadata": {},
   "source": [
    "# 차원 변경(Reshape) - View"
   ]
  },
  {
   "cell_type": "code",
   "execution_count": 245,
   "metadata": {},
   "outputs": [
    {
     "data": {
      "text/plain": [
       "tensor([[[0.],\n",
       "         [0.]],\n",
       "\n",
       "        [[0.],\n",
       "         [0.]]])"
      ]
     },
     "execution_count": 245,
     "metadata": {},
     "output_type": "execute_result"
    }
   ],
   "source": [
    "x8 = torch.zeros(2,2,1)\n",
    "x8"
   ]
  },
  {
   "cell_type": "code",
   "execution_count": 246,
   "metadata": {},
   "outputs": [
    {
     "data": {
      "text/plain": [
       "tensor([[0., 0.],\n",
       "        [0., 0.]])"
      ]
     },
     "execution_count": 246,
     "metadata": {},
     "output_type": "execute_result"
    }
   ],
   "source": [
    "x8.view(2,2)"
   ]
  },
  {
   "cell_type": "code",
   "execution_count": 247,
   "metadata": {},
   "outputs": [
    {
     "data": {
      "text/plain": [
       "tensor([0., 0., 0., 0.])"
      ]
     },
     "execution_count": 247,
     "metadata": {},
     "output_type": "execute_result"
    }
   ],
   "source": [
    "x8.view(-1) # -1 = Automatic"
   ]
  },
  {
   "cell_type": "code",
   "execution_count": 248,
   "metadata": {},
   "outputs": [
    {
     "data": {
      "text/plain": [
       "tensor([[0., 0.],\n",
       "        [0., 0.]])"
      ]
     },
     "execution_count": 248,
     "metadata": {},
     "output_type": "execute_result"
    }
   ],
   "source": [
    "x8.view(-1,2)"
   ]
  },
  {
   "cell_type": "code",
   "execution_count": 249,
   "metadata": {},
   "outputs": [
    {
     "data": {
      "text/plain": [
       "tensor([0., 0., 0., 0.])"
      ]
     },
     "execution_count": 249,
     "metadata": {},
     "output_type": "execute_result"
    }
   ],
   "source": [
    "x7.view(4)"
   ]
  },
  {
   "cell_type": "code",
   "execution_count": 250,
   "metadata": {},
   "outputs": [
    {
     "name": "stdout",
     "output_type": "stream",
     "text": [
      "X7: tensor([[[0.],\n",
      "         [0.]],\n",
      "\n",
      "        [[0.],\n",
      "         [0.]]])\n",
      "x7 size: torch.Size([2, 2, 1])\n",
      "\n",
      "X8: tensor([[0., 0.],\n",
      "        [0., 0.]])\n",
      "x8 size: torch.Size([2, 2])\n"
     ]
    }
   ],
   "source": [
    "x8 = x7.squeeze() # 1차원 빼기\n",
    "print('X7:', x7)\n",
    "print('x7 size:', x7.size())\n",
    "print()\n",
    "print('X8:', x8)\n",
    "print('x8 size:', x8.size())"
   ]
  },
  {
   "cell_type": "code",
   "execution_count": 251,
   "metadata": {},
   "outputs": [
    {
     "data": {
      "text/plain": [
       "tensor([[[0., 0.],\n",
       "         [0., 0.]]])"
      ]
     },
     "execution_count": 251,
     "metadata": {},
     "output_type": "execute_result"
    }
   ],
   "source": [
    "# unsqueeze(<차원의 index>)\n",
    "x8.unsqueeze(0)"
   ]
  },
  {
   "cell_type": "markdown",
   "metadata": {},
   "source": [
    "\n",
    "# 연산"
   ]
  },
  {
   "cell_type": "code",
   "execution_count": 252,
   "metadata": {},
   "outputs": [
    {
     "name": "stdout",
     "output_type": "stream",
     "text": [
      "x9:  tensor([[10., 20., 30.],\n",
      "        [40., 50., 60.]])\n",
      "x10:  tensor([[1., 2., 3.],\n",
      "        [4., 5., 6.]])\n"
     ]
    }
   ],
   "source": [
    "x9 = torch.FloatTensor([[10,20,30],[40,50,60]])\n",
    "x10 = torch.FloatTensor([[1,2,3],[4,5,6]])\n",
    "print('x9: ', x9)\n",
    "print('x10: ', x10)\n"
   ]
  },
  {
   "cell_type": "code",
   "execution_count": 253,
   "metadata": {},
   "outputs": [
    {
     "name": "stdout",
     "output_type": "stream",
     "text": [
      "tensor([[11., 22., 33.],\n",
      "        [44., 55., 66.]])\n",
      "tensor([[11., 22., 33.],\n",
      "        [44., 55., 66.]])\n",
      "tensor([[11., 22., 33.],\n",
      "        [44., 55., 66.]])\n"
     ]
    }
   ],
   "source": [
    "print(x9  + x10)\n",
    "print(x9.add(x10))\n",
    "print(torch.add(x9, x10))"
   ]
  },
  {
   "cell_type": "code",
   "execution_count": 254,
   "metadata": {},
   "outputs": [
    {
     "name": "stdout",
     "output_type": "stream",
     "text": [
      "tensor([[ 9., 18., 27.],\n",
      "        [36., 45., 54.]])\n",
      "tensor([[ 9., 18., 27.],\n",
      "        [36., 45., 54.]])\n",
      "tensor([[ -9., -18., -27.],\n",
      "        [-36., -45., -54.]])\n",
      "tensor([[ -9., -18., -27.],\n",
      "        [-36., -45., -54.]])\n"
     ]
    }
   ],
   "source": [
    "print(x9 - x10)\n",
    "print(x9.sub(x10))\n",
    "print(x10.sub(x9))\n",
    "print(torch.sub(x10, x9))"
   ]
  },
  {
   "cell_type": "code",
   "execution_count": 255,
   "metadata": {},
   "outputs": [
    {
     "data": {
      "text/plain": [
       "tensor([16., 17., 18.])"
      ]
     },
     "execution_count": 255,
     "metadata": {},
     "output_type": "execute_result"
    }
   ],
   "source": [
    "x10[1] + 12"
   ]
  },
  {
   "cell_type": "code",
   "execution_count": 256,
   "metadata": {},
   "outputs": [
    {
     "name": "stdout",
     "output_type": "stream",
     "text": [
      "tensor([[ 10.,  40.,  90.],\n",
      "        [160., 250., 360.]])\n",
      "tensor([[ 10.,  40.,  90.],\n",
      "        [160., 250., 360.]])\n",
      "tensor([[ 10.,  40.,  90.],\n",
      "        [160., 250., 360.]])\n",
      "tensor([[ 10.,  40.,  90.],\n",
      "        [160., 250., 360.]])\n"
     ]
    }
   ],
   "source": [
    "\n",
    "print(x9 * x10)\n",
    "print(x9.mul(x10))\n",
    "print(x10.mul(x9))\n",
    "print(torch.mul(x10, x9))\n"
   ]
  },
  {
   "cell_type": "code",
   "execution_count": 257,
   "metadata": {},
   "outputs": [
    {
     "data": {
      "text/plain": [
       "tensor([[10., 20., 30.],\n",
       "        [40., 50., 60.]])"
      ]
     },
     "execution_count": 257,
     "metadata": {},
     "output_type": "execute_result"
    }
   ],
   "source": [
    "x10 * 10"
   ]
  },
  {
   "cell_type": "markdown",
   "metadata": {},
   "source": [
    "\n",
    "# 연산2"
   ]
  },
  {
   "cell_type": "code",
   "execution_count": 174,
   "metadata": {},
   "outputs": [
    {
     "data": {
      "text/plain": [
       "(tensor([[ 100.,  400.,  900.],\n",
       "         [1600., 2500., 3600.]]), tensor([[ 100.,  400.,  900.],\n",
       "         [1600., 2500., 3600.]]), tensor([[ 100.,  400.,  900.],\n",
       "         [1600., 2500., 3600.]]))"
      ]
     },
     "execution_count": 174,
     "metadata": {},
     "output_type": "execute_result"
    }
   ],
   "source": [
    "# 거듭제곱 - power\n",
    "x9.pow(2), torch.pow(x9,2), x9 ** 2"
   ]
  },
  {
   "cell_type": "code",
   "execution_count": 175,
   "metadata": {},
   "outputs": [
    {
     "data": {
      "text/plain": [
       "tensor([[3.1623, 4.4721, 5.4772],\n",
       "        [6.3246, 7.0711, 7.7460]])"
      ]
     },
     "execution_count": 175,
     "metadata": {},
     "output_type": "execute_result"
    }
   ],
   "source": [
    "x9.sqrt()"
   ]
  },
  {
   "cell_type": "code",
   "execution_count": 183,
   "metadata": {},
   "outputs": [
    {
     "name": "stdout",
     "output_type": "stream",
     "text": [
      "tensor([[0.0000, 0.6931, 1.0986],\n",
      "        [1.3863, 1.6094, 1.7918]])\n",
      "tensor([[0.0000, 0.6931, 1.0986],\n",
      "        [1.3863, 1.6094, 1.7918]])\n"
     ]
    }
   ],
   "source": [
    "print(x10.log())\n",
    "print(torch.log(x10))"
   ]
  },
  {
   "cell_type": "code",
   "execution_count": 184,
   "metadata": {},
   "outputs": [
    {
     "name": "stdout",
     "output_type": "stream",
     "text": [
      "tensor([[1., 2., 0.],\n",
      "        [1., 2., 0.]])\n",
      "tensor([[ 3.3333,  6.6667, 10.0000],\n",
      "        [13.3333, 16.6667, 20.0000]])\n"
     ]
    }
   ],
   "source": [
    "print(x9 % 3)\n",
    "print(x9 / 3)"
   ]
  },
  {
   "cell_type": "code",
   "execution_count": 192,
   "metadata": {},
   "outputs": [
    {
     "name": "stdout",
     "output_type": "stream",
     "text": [
      "tensor([[10., 20., 30.],\n",
      "        [40., 50., 60.]])\n",
      "tensor([50., 70., 90.])\n",
      "tensor([ 60., 150.])\n"
     ]
    }
   ],
   "source": [
    "print(x9)\n",
    "print(x9.sum())\n",
    "print(x9.sum(0))\n",
    "print(x9.sum(1))"
   ]
  },
  {
   "cell_type": "code",
   "execution_count": 196,
   "metadata": {},
   "outputs": [
    {
     "name": "stdout",
     "output_type": "stream",
     "text": [
      "tensor([[10., 20., 30.],\n",
      "        [40., 50., 60.]])\n",
      "tensor(60.)\n",
      "\n",
      "torch.return_types.max(\n",
      "values=tensor([40., 50., 60.]),\n",
      "indices=tensor([1, 1, 1]))\n",
      "\n",
      "torch.return_types.max(\n",
      "values=tensor([30., 60.]),\n",
      "indices=tensor([2, 2]))\n"
     ]
    }
   ],
   "source": [
    "print(x9)\n",
    "print(x9.max())\n",
    "print()\n",
    "print(x9.max(0))\n",
    "print()\n",
    "print(x9.max(1))"
   ]
  },
  {
   "cell_type": "code",
   "execution_count": 197,
   "metadata": {},
   "outputs": [
    {
     "name": "stdout",
     "output_type": "stream",
     "text": [
      "tensor([[10., 20., 30.],\n",
      "        [40., 50., 60.]])\n",
      "tensor(10.)\n",
      "\n",
      "torch.return_types.min(\n",
      "values=tensor([10., 20., 30.]),\n",
      "indices=tensor([0, 0, 0]))\n",
      "\n",
      "torch.return_types.min(\n",
      "values=tensor([10., 40.]),\n",
      "indices=tensor([0, 0]))\n"
     ]
    }
   ],
   "source": [
    "print(x9)\n",
    "print(x9.min())\n",
    "print()\n",
    "print(x9.min(0))\n",
    "print()\n",
    "print(x9.min(1))"
   ]
  },
  {
   "cell_type": "code",
   "execution_count": 217,
   "metadata": {},
   "outputs": [
    {
     "data": {
      "text/plain": [
       "tensor([[-1, -2],\n",
       "        [ 3,  4]])"
      ]
     },
     "execution_count": 217,
     "metadata": {},
     "output_type": "execute_result"
    }
   ],
   "source": [
    "x10 = torch.tensor([[-1, -2], [3, 4]])\n",
    "x10"
   ]
  },
  {
   "cell_type": "code",
   "execution_count": 219,
   "metadata": {},
   "outputs": [
    {
     "data": {
      "text/plain": [
       "tensor([[1, 2],\n",
       "        [3, 4]])"
      ]
     },
     "execution_count": 219,
     "metadata": {},
     "output_type": "execute_result"
    }
   ],
   "source": [
    "x10.abs()"
   ]
  },
  {
   "cell_type": "code",
   "execution_count": 225,
   "metadata": {},
   "outputs": [
    {
     "data": {
      "text/plain": [
       "tensor([[-1, -2],\n",
       "        [ 3, 10]])"
      ]
     },
     "execution_count": 225,
     "metadata": {},
     "output_type": "execute_result"
    }
   ],
   "source": [
    "x10[1] = torch.Tensor([3, 10])\n",
    "x10"
   ]
  },
  {
   "cell_type": "code",
   "execution_count": 227,
   "metadata": {},
   "outputs": [
    {
     "data": {
      "text/plain": [
       "(tensor([ 3, 10]), tensor([1, 1]))"
      ]
     },
     "execution_count": 227,
     "metadata": {},
     "output_type": "execute_result"
    }
   ],
   "source": [
    "value, index = x10.max(dim = 0)\n",
    "value, index"
   ]
  },
  {
   "cell_type": "code",
   "execution_count": 228,
   "metadata": {},
   "outputs": [
    {
     "data": {
      "text/plain": [
       "(tensor([-1, 10]), tensor([0, 1]))"
      ]
     },
     "execution_count": 228,
     "metadata": {},
     "output_type": "execute_result"
    }
   ],
   "source": [
    "value, index = x10.max(dim = 1)\n",
    "value, index"
   ]
  },
  {
   "cell_type": "code",
   "execution_count": 229,
   "metadata": {},
   "outputs": [
    {
     "data": {
      "text/plain": [
       "tensor(10)"
      ]
     },
     "execution_count": 229,
     "metadata": {},
     "output_type": "execute_result"
    }
   ],
   "source": [
    "x10.max()"
   ]
  },
  {
   "cell_type": "markdown",
   "metadata": {},
   "source": [
    "\n",
    "# 행렬 연산"
   ]
  },
  {
   "cell_type": "code",
   "execution_count": 232,
   "metadata": {},
   "outputs": [
    {
     "data": {
      "text/plain": [
       "(tensor([[ 0.7829, -1.3008,  0.7234, -0.5829, -1.1701],\n",
       "         [-1.3827,  1.2335, -1.0407,  0.5140,  1.3856],\n",
       "         [-2.7929, -0.1704, -0.6077, -0.1924,  1.0463]]),\n",
       " tensor([[ 0.2712,  1.6258,  0.2338,  1.7179,  0.3410],\n",
       "         [-1.3887,  1.8452, -0.7450,  0.6177, -0.6398],\n",
       "         [-0.8481,  1.1615, -0.9776, -0.0290, -0.6173],\n",
       "         [ 1.7565,  1.3416,  0.0188, -0.6087, -1.6256],\n",
       "         [ 1.1934,  1.1097, -0.4737,  0.2009, -0.8282]]),\n",
       " tensor([[-1.5470, -1.0814, -0.0358],\n",
       "         [ 1.1073,  1.2456, -1.0482],\n",
       "         [ 1.5045, -0.4975,  1.9071],\n",
       "         [-0.4485,  0.3836,  0.3532],\n",
       "         [-1.2195,  1.7464, -1.3406]]))"
      ]
     },
     "execution_count": 232,
     "metadata": {},
     "output_type": "execute_result"
    }
   ],
   "source": [
    "x11 = torch.randn(3,5)\n",
    "x12 = torch.randn(5,5)\n",
    "x13 = torch.randn(5,3)\n",
    "x11, x12, x13"
   ]
  },
  {
   "cell_type": "code",
   "execution_count": 234,
   "metadata": {},
   "outputs": [
    {
     "data": {
      "text/plain": [
       "1.33094226"
      ]
     },
     "execution_count": 234,
     "metadata": {},
     "output_type": "execute_result"
    }
   ],
   "source": [
    "# scalar 연산\n",
    "1.6200 * 1.1375  + 0.3436 * -0.9347 + -0.9112 * 1.3267 + -0.9952 *  -0.0336 + 0.7455 * 1.3210"
   ]
  },
  {
   "cell_type": "code",
   "execution_count": 258,
   "metadata": {},
   "outputs": [
    {
     "data": {
      "text/plain": [
       "(tensor([[-1.0149, -2.3677,  0.9882,  0.6402,  2.5692],\n",
       "         [ 1.3512,  1.0466, -0.8714, -1.6177, -2.6014],\n",
       "         [ 0.9053, -4.6581, -0.4311, -4.5583, -1.0219]]),\n",
       " tensor([[-1.0149, -2.3677,  0.9882,  0.6402,  2.5692],\n",
       "         [ 1.3512,  1.0466, -0.8714, -1.6177, -2.6014],\n",
       "         [ 0.9053, -4.6581, -0.4311, -4.5583, -1.0219]]))"
      ]
     },
     "execution_count": 258,
     "metadata": {},
     "output_type": "execute_result"
    }
   ],
   "source": [
    "# 행렬 연산\n",
    "# matrix-matrix\n",
    "torch.mm(x11,x12), x11.mm(x12)"
   ]
  },
  {
   "cell_type": "code",
   "execution_count": 259,
   "metadata": {},
   "outputs": [
    {
     "data": {
      "text/plain": [
       "tensor([[ -2.9852,   2.3894,   1.1845],\n",
       "        [  1.6556,  -4.8878,   0.1087],\n",
       "        [ -3.9160, -10.1000,   3.7881]])"
      ]
     },
     "execution_count": 259,
     "metadata": {},
     "output_type": "execute_result"
    }
   ],
   "source": [
    "# matrix-matrix\n",
    "x11.mm(x12).mm(x13)"
   ]
  },
  {
   "cell_type": "code",
   "execution_count": 260,
   "metadata": {},
   "outputs": [
    {
     "data": {
      "text/plain": [
       "tensor([[-8.9491,  6.6286, -5.3658,  2.7403,  8.0432],\n",
       "        [ 7.7507, -8.2011,  6.2180, -3.4984, -8.5962],\n",
       "        [ 0.3193, -8.0097,  5.3758, -3.6383, -5.4492]])"
      ]
     },
     "execution_count": 260,
     "metadata": {},
     "output_type": "execute_result"
    }
   ],
   "source": [
    "x11.mm(x12).mm(x13).mm(x11)"
   ]
  },
  {
   "cell_type": "code",
   "execution_count": 264,
   "metadata": {
    "scrolled": true
   },
   "outputs": [
    {
     "data": {
      "text/plain": [
       "(tensor([[-2.7006e-01, -6.0845e-01, -1.8835e+00, -1.3482e+00],\n",
       "         [-1.2030e-03,  8.3180e-01,  1.6448e+00,  8.2850e-01],\n",
       "         [ 1.0982e+00, -1.0535e+00,  4.4572e-01, -2.3781e-01]]),\n",
       " tensor([-2.1022,  0.9369,  0.0276, -0.5177]))"
      ]
     },
     "execution_count": 264,
     "metadata": {},
     "output_type": "execute_result"
    }
   ],
   "source": [
    "x14 = torch.randn(3, 4)\n",
    "v = torch.randn(4)\n",
    "\n",
    "x14, v"
   ]
  },
  {
   "cell_type": "code",
   "execution_count": 265,
   "metadata": {},
   "outputs": [
    {
     "data": {
      "text/plain": [
       "-0.6250781"
      ]
     },
     "execution_count": 265,
     "metadata": {},
     "output_type": "execute_result"
    }
   ],
   "source": [
    "-0.4594 * 0.6623 + -1.1798 * 0.2916 +0.3812 * 0.0409+ -0.0064 *  -1.1908"
   ]
  },
  {
   "cell_type": "code",
   "execution_count": 269,
   "metadata": {},
   "outputs": [
    {
     "data": {
      "text/plain": [
       "(tensor([ 0.6436,  0.3983, -3.1603]), tensor([ 0.6436,  0.3983, -3.1603]))"
      ]
     },
     "execution_count": 269,
     "metadata": {},
     "output_type": "execute_result"
    }
   ],
   "source": [
    "# # matrix-vector = mv\n",
    "torch.mv(x14,v), x14.mv(v)"
   ]
  },
  {
   "cell_type": "code",
   "execution_count": 274,
   "metadata": {},
   "outputs": [
    {
     "data": {
      "text/plain": [
       "torch.Size([10, 3, 5])"
      ]
     },
     "execution_count": 274,
     "metadata": {},
     "output_type": "execute_result"
    }
   ],
   "source": [
    "x15 = torch.randn(10,3,4)\n",
    "x16 = torch.randn(10,4,5)\n",
    "\n",
    "# batch matrix-matrix product\n",
    "# (10,3,4).(10,4,5) => (10,3,5)\n",
    "torch.bmm(x15, x16).size()"
   ]
  },
  {
   "cell_type": "code",
   "execution_count": 276,
   "metadata": {},
   "outputs": [
    {
     "data": {
      "text/plain": [
       "tensor([[[-1.0368e+00, -1.3805e+00,  1.4497e+00, -6.5166e-01,  1.5449e+00],\n",
       "         [ 5.3111e-01, -1.0754e+00, -2.3721e+00,  1.0660e+00, -1.9660e+00],\n",
       "         [-1.8556e+00, -3.8023e+00,  2.3765e+00, -2.5852e+00,  1.0282e+00]],\n",
       "\n",
       "        [[-1.9161e+00,  1.6962e+00, -7.1003e-01,  9.1192e-01, -1.5393e-02],\n",
       "         [ 1.7731e+00,  2.8775e-01,  1.1370e+00,  3.5155e-01, -1.1751e-01],\n",
       "         [-1.1457e+00,  3.3178e+00,  8.9007e-01,  5.5415e-01, -1.5015e+00]],\n",
       "\n",
       "        [[-7.1784e-01, -2.5677e+00, -1.2720e+00,  1.1556e+00,  1.3869e+00],\n",
       "         [ 1.2873e-01, -6.9090e-01, -6.5750e-01, -2.2922e-01, -4.6528e-01],\n",
       "         [ 8.9016e-01, -1.1172e+00,  1.3369e+00,  7.5720e-01, -1.3090e-01]],\n",
       "\n",
       "        [[ 6.1198e-01, -1.0780e-01,  2.1395e-02, -1.2018e+00, -2.1265e+00],\n",
       "         [-9.7739e-03, -3.2453e-01,  3.3705e-01, -4.3391e-01,  2.3086e+00],\n",
       "         [-4.0439e-01,  5.4500e-01,  5.2649e-01, -1.5866e-01, -1.5107e+00]],\n",
       "\n",
       "        [[-1.5700e+00,  5.7975e-01,  1.7306e-01,  4.4301e+00,  1.3354e+00],\n",
       "         [-5.4132e-01, -3.9179e-01, -5.5233e-01, -3.1684e+00,  1.8462e+00],\n",
       "         [ 2.3321e+00,  1.3238e-01,  6.9946e-01,  1.4445e+00, -4.1374e+00]],\n",
       "\n",
       "        [[ 8.4655e-01, -2.2008e-01,  3.3416e-01, -1.2493e+00, -1.3389e+00],\n",
       "         [-2.2876e+00, -4.7876e-01,  1.7609e+00, -7.2792e-01, -1.2942e+00],\n",
       "         [-2.0683e+00,  1.2928e+00,  9.7657e-01,  2.3361e+00,  1.6842e+00]],\n",
       "\n",
       "        [[ 4.7783e-01,  8.9600e-02,  3.5925e-01, -1.3140e+00, -2.5909e+00],\n",
       "         [ 8.5090e-01, -1.8671e-03,  1.0816e-01, -2.5828e-01,  1.0462e+00],\n",
       "         [-1.9289e+00,  9.1433e-01, -2.2984e+00,  5.4682e+00,  8.3549e+00]],\n",
       "\n",
       "        [[ 4.4185e+00,  7.3768e-01,  1.9355e+00, -3.1834e+00,  1.4702e+00],\n",
       "         [-9.0208e-01,  2.6423e+00,  7.4361e-02,  1.5586e+00,  3.9383e-02],\n",
       "         [ 2.3164e+00,  2.4586e+00,  3.5707e+00, -9.0290e-01, -6.7801e-02]],\n",
       "\n",
       "        [[ 4.8733e-01, -4.6207e-01, -4.4758e-01, -1.1521e+00, -3.0344e-02],\n",
       "         [-5.9680e-01,  6.7642e-01,  2.7364e-02, -3.3687e-01,  5.8050e-01],\n",
       "         [ 1.3162e+00, -7.7187e-01, -3.6876e+00,  2.0556e+00,  3.7052e-01]],\n",
       "\n",
       "        [[-3.8834e-01,  3.7238e-01, -1.1412e+00,  3.1757e-01,  1.6869e+00],\n",
       "         [-3.5901e-01,  6.1251e-01, -2.9336e-01,  5.4935e-01,  6.4774e+00],\n",
       "         [ 8.1823e-01,  1.3585e+00,  1.5047e+00,  7.1131e-01, -3.9200e-01]]])"
      ]
     },
     "execution_count": 276,
     "metadata": {},
     "output_type": "execute_result"
    }
   ],
   "source": [
    "torch.bmm(x15, x16)"
   ]
  },
  {
   "cell_type": "code",
   "execution_count": 280,
   "metadata": {},
   "outputs": [
    {
     "name": "stdout",
     "output_type": "stream",
     "text": [
      "tensor([[1.7869, 0.6811],\n",
      "        [1.0960, 0.1544]])\n",
      "tensor([[ 3.2566, -0.2137],\n",
      "        [ 0.3911, -1.7526]])\n"
     ]
    }
   ],
   "source": [
    "x17 = torch.randn(2,2)\n",
    "x18 = torch.randn(2,2)\n",
    "\n",
    "print(x17)\n",
    "print(x18)\n"
   ]
  },
  {
   "cell_type": "code",
   "execution_count": 285,
   "metadata": {},
   "outputs": [
    {
     "name": "stdout",
     "output_type": "stream",
     "text": [
      "tensor([1.7869, 0.6811, 1.0960, 0.1544])\n",
      "tensor([ 3.2566, -0.2137,  0.3911, -1.7526])\n"
     ]
    }
   ],
   "source": [
    "print(x17.view(-1))\n",
    "print(x18.view(-1))"
   ]
  },
  {
   "cell_type": "code",
   "execution_count": 288,
   "metadata": {},
   "outputs": [
    {
     "data": {
      "text/plain": [
       "tensor(5.8318)"
      ]
     },
     "execution_count": 288,
     "metadata": {},
     "output_type": "execute_result"
    }
   ],
   "source": [
    "# Computes the dot product (inner product) of two tensors.\n",
    "# 내적\n",
    "torch.dot(x17.view(-1), x18.view(-1))"
   ]
  },
  {
   "cell_type": "code",
   "execution_count": 293,
   "metadata": {},
   "outputs": [
    {
     "name": "stdout",
     "output_type": "stream",
     "text": [
      "tensor([[0.3753, 0.1222, 0.7155, 0.0280],\n",
      "        [0.8607, 0.6384, 0.2437, 0.2611],\n",
      "        [0.9290, 0.5042, 0.7229, 0.3840]])\n",
      "torch.Size([3, 4])\n",
      "\n",
      "tensor([[0.3753, 0.8607, 0.9290],\n",
      "        [0.1222, 0.6384, 0.5042],\n",
      "        [0.7155, 0.2437, 0.7229],\n",
      "        [0.0280, 0.2611, 0.3840]])\n",
      "torch.Size([4, 3])\n"
     ]
    }
   ],
   "source": [
    "x19  = torch.rand(3,4)\n",
    "\n",
    "print(x19)\n",
    "print(x19.size())\n",
    "print()\n",
    "print(x19.t())\n",
    "print(x19.t().size())"
   ]
  },
  {
   "cell_type": "code",
   "execution_count": 326,
   "metadata": {},
   "outputs": [
    {
     "data": {
      "text/plain": [
       "tensor(32.0000)"
      ]
     },
     "execution_count": 326,
     "metadata": {},
     "output_type": "execute_result"
    }
   ],
   "source": [
    "# distane (norm)\n",
    "x1 = torch.tensor([1., 1.])\n",
    "x2 = torch.tensor([5, 5.])\n",
    "\n",
    "torch.dist(x1, x2, 2)\n",
    "torch.dist(x1, x2, 2)**2"
   ]
  },
  {
   "cell_type": "markdown",
   "metadata": {},
   "source": [
    "## Tensor Data Type"
   ]
  },
  {
   "cell_type": "code",
   "execution_count": 330,
   "metadata": {},
   "outputs": [
    {
     "data": {
      "text/plain": [
       "tensor([[0.2013, 0.3162],\n",
       "        [0.6908, 0.9424]])"
      ]
     },
     "execution_count": 330,
     "metadata": {},
     "output_type": "execute_result"
    }
   ],
   "source": [
    "x20 = torch.rand(2,2)\n",
    "x20"
   ]
  },
  {
   "cell_type": "code",
   "execution_count": 331,
   "metadata": {},
   "outputs": [
    {
     "data": {
      "text/plain": [
       "tensor([1, 1])"
      ]
     },
     "execution_count": 331,
     "metadata": {},
     "output_type": "execute_result"
    }
   ],
   "source": [
    "x20  = torch.LongTensor([1,1])\n",
    "x20"
   ]
  },
  {
   "cell_type": "code",
   "execution_count": 332,
   "metadata": {},
   "outputs": [
    {
     "data": {
      "text/plain": [
       "tensor([1., 1.])"
      ]
     },
     "execution_count": 332,
     "metadata": {},
     "output_type": "execute_result"
    }
   ],
   "source": [
    "x20.float()"
   ]
  },
  {
   "cell_type": "code",
   "execution_count": 333,
   "metadata": {},
   "outputs": [
    {
     "data": {
      "text/plain": [
       "tensor([1., 1.], dtype=torch.float64)"
      ]
     },
     "execution_count": 333,
     "metadata": {},
     "output_type": "execute_result"
    }
   ],
   "source": [
    "x20.double()"
   ]
  },
  {
   "cell_type": "code",
   "execution_count": 334,
   "metadata": {},
   "outputs": [
    {
     "data": {
      "text/plain": [
       "tensor([1, 1], dtype=torch.uint8)"
      ]
     },
     "execution_count": 334,
     "metadata": {},
     "output_type": "execute_result"
    }
   ],
   "source": [
    "x20.byte()"
   ]
  },
  {
   "cell_type": "code",
   "execution_count": 336,
   "metadata": {},
   "outputs": [
    {
     "data": {
      "text/plain": [
       "tensor([1, 1])"
      ]
     },
     "execution_count": 336,
     "metadata": {},
     "output_type": "execute_result"
    }
   ],
   "source": [
    "x20"
   ]
  },
  {
   "cell_type": "code",
   "execution_count": 341,
   "metadata": {},
   "outputs": [
    {
     "data": {
      "text/plain": [
       "tensor([1, 1])"
      ]
     },
     "execution_count": 341,
     "metadata": {},
     "output_type": "execute_result"
    }
   ],
   "source": [
    "# GPU -> CPU\n",
    "x20 = x20.cpu()\n",
    "x20"
   ]
  },
  {
   "cell_type": "code",
   "execution_count": 343,
   "metadata": {},
   "outputs": [
    {
     "data": {
      "text/plain": [
       "array([1, 1])"
      ]
     },
     "execution_count": 343,
     "metadata": {},
     "output_type": "execute_result"
    }
   ],
   "source": [
    "# to numpy\n",
    "x20.numpy()"
   ]
  },
  {
   "cell_type": "code",
   "execution_count": 344,
   "metadata": {
    "scrolled": true
   },
   "outputs": [
    {
     "data": {
      "text/plain": [
       "tensor([[0.5944, 0.7538],\n",
       "        [0.5806, 0.2959],\n",
       "        [0.1462, 0.1123]], dtype=torch.float64)"
      ]
     },
     "execution_count": 344,
     "metadata": {},
     "output_type": "execute_result"
    }
   ],
   "source": [
    "torch.from_numpy(np.random.rand(3,2))"
   ]
  },
  {
   "cell_type": "code",
   "execution_count": null,
   "metadata": {},
   "outputs": [],
   "source": []
  }
 ],
 "metadata": {
  "kernelspec": {
   "display_name": "Python 3",
   "language": "python",
   "name": "python3"
  },
  "language_info": {
   "codemirror_mode": {
    "name": "ipython",
    "version": 3
   },
   "file_extension": ".py",
   "mimetype": "text/x-python",
   "name": "python",
   "nbconvert_exporter": "python",
   "pygments_lexer": "ipython3",
   "version": "3.7.3"
  }
 },
 "nbformat": 4,
 "nbformat_minor": 2
}
