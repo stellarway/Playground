{
 "cells": [
  {
   "cell_type": "markdown",
   "metadata": {},
   "source": [
    "# 제어문\n",
    "## whlie문\n",
    "if 문과 for 문의 조합. Whlie문이 True인 동안 조건을 반복"
   ]
  },
  {
   "cell_type": "markdown",
   "metadata": {},
   "source": [
    "#### 입력 조건이 맞을때까지 반복하기"
   ]
  },
  {
   "cell_type": "code",
   "execution_count": 1,
   "metadata": {},
   "outputs": [
    {
     "name": "stdout",
     "output_type": "stream",
     "text": [
      "0\n",
      "1\n",
      "2\n",
      "3\n",
      "4\n",
      "5\n",
      "6\n",
      "7\n",
      "8\n",
      "9\n"
     ]
    }
   ],
   "source": [
    "i=0\n",
    "while i<10:\n",
    "    print(i)\n",
    "    i+=1"
   ]
  },
  {
   "cell_type": "code",
   "execution_count": 2,
   "metadata": {},
   "outputs": [
    {
     "name": "stdout",
     "output_type": "stream",
     "text": [
      "5를 입력하면 반복이 중단됩니다.2\n",
      "2 를 입력하셨습니다.\n",
      "5를 입력하면 반복이 중단됩니다.4\n",
      "4 를 입력하셨습니다.\n",
      "5를 입력하면 반복이 중단됩니다.5\n",
      "5 를 입력하셨습니다.\n",
      "중단\n"
     ]
    }
   ],
   "source": [
    "i=0\n",
    "while i !=5:\n",
    "    i= int(input(\"5를 입력하면 반복이 중단됩니다.\"))\n",
    "    print(i, \"를 입력하셨습니다.\")\n",
    "\n",
    "print(\"중단\")"
   ]
  },
  {
   "cell_type": "markdown",
   "metadata": {},
   "source": [
    "### 연습문제5"
   ]
  },
  {
   "cell_type": "code",
   "execution_count": 2,
   "metadata": {},
   "outputs": [
    {
     "name": "stdout",
     "output_type": "stream",
     "text": [
      "값을 입력하세요: 5\n",
      "값을 입력하세요: 4\n",
      "값을 입력하세요: 2\n",
      "값을 입력하세요: s\n",
      "11\n"
     ]
    }
   ],
   "source": [
    "num=0\n",
    "total=0\n",
    "\n",
    "# while not(num=='S' or num!=='s')\n",
    "# while num!='S' and num!!='s'\n",
    "\n",
    "while str(num).upper()!='S':\n",
    "    total += int(num)\n",
    "    num=input(\"값을 입력하세요: \")\n",
    "print(total)"
   ]
  },
  {
   "cell_type": "code",
   "execution_count": 13,
   "metadata": {},
   "outputs": [
    {
     "name": "stdout",
     "output_type": "stream",
     "text": [
      "값을 입력하세요: 5\n",
      "값을 입력하세요: 8\n",
      "값을 입력하세요: 7\n",
      "값을 입력하세요: s\n",
      "20\n"
     ]
    }
   ],
   "source": [
    "num='0'\n",
    "total=0\n",
    "\n",
    "while num!='S' and num!='s':\n",
    "    total += int(num)\n",
    "    num=input(\"값을 입력하세요: \")\n",
    "print(total)"
   ]
  },
  {
   "cell_type": "code",
   "execution_count": 10,
   "metadata": {},
   "outputs": [
    {
     "name": "stdout",
     "output_type": "stream",
     "text": [
      "0\n",
      "1\n",
      "2\n",
      "3\n",
      "4\n",
      "중단 되었습니다.\n"
     ]
    }
   ],
   "source": [
    "i=0\n",
    "while i<5:\n",
    "    print(i)\n",
    "    i+=1\n",
    "else:\n",
    "    print(\"중단 되었습니다.\")"
   ]
  },
  {
   "cell_type": "code",
   "execution_count": 5,
   "metadata": {},
   "outputs": [
    {
     "name": "stdout",
     "output_type": "stream",
     "text": [
      "1\n",
      "2\n",
      "3\n",
      "4\n",
      "중단 되었습니다.\n"
     ]
    }
   ],
   "source": [
    "i=1\n",
    "while i<5:\n",
    "    print(i)\n",
    "    i+=1\n",
    "print(\"중단 되었습니다.\")"
   ]
  },
  {
   "cell_type": "markdown",
   "metadata": {},
   "source": [
    "### 연습문제6 - 가위바위보 게임만들기"
   ]
  },
  {
   "cell_type": "code",
   "execution_count": 19,
   "metadata": {},
   "outputs": [
    {
     "data": {
      "text/plain": [
       "1"
      ]
     },
     "execution_count": 19,
     "metadata": {},
     "output_type": "execute_result"
    }
   ],
   "source": [
    "import random\n",
    "ran=random.randint(1,3)\n",
    "ran"
   ]
  },
  {
   "cell_type": "markdown",
   "metadata": {},
   "source": [
    "전체 경기 저장 변수\n",
    "유저가 입력할 변수\n",
    "이길 숫자를 저장할 변수\n",
    "비김 변수"
   ]
  },
  {
   "cell_type": "code",
   "execution_count": 125,
   "metadata": {
    "scrolled": true
   },
   "outputs": [
    {
     "name": "stdout",
     "output_type": "stream",
     "text": [
      "게임종료 (전체:0, 승리:0)\n"
     ]
    }
   ],
   "source": [
    "import random\n",
    "user=0\n",
    "com=0\n",
    "dic={\n",
    "    1: '가위',\n",
    "    2: '바위',\n",
    "    3: '보',\n",
    "}\n",
    "vic_lst=[(1,3),(2,1),(3,2)]\n",
    "coun=0\n",
    "vic=0\n",
    "sam=0\n",
    "lose=0\n",
    "\n",
    "\n",
    "while user<4 and user>0:\n",
    "    user=int(input(\"가위(1), 바위(2), 보(3)을 입력해주세요!\"))\n",
    "    com=random.randint(1,3)\n",
    "    if (user,com) in vic_lst:\n",
    "        vic+=1\n",
    "    print(\"유저:\",dic[user], \"컴퓨터:\",dic[com])\n",
    "print(\"게임종료 (전체:{}, 승리:{})\".format(coun,vic))\n",
    "        \n"
   ]
  },
  {
   "cell_type": "markdown",
   "metadata": {},
   "source": [
    "## 여기야 여기"
   ]
  },
  {
   "cell_type": "code",
   "execution_count": 1,
   "metadata": {},
   "outputs": [
    {
     "name": "stdout",
     "output_type": "stream",
     "text": [
      "가위(1), 바위(2), 보(3)을 입력해주세요!1\n",
      "유저: 가위 컴퓨터: 바위\n",
      "가위(1), 바위(2), 보(3)을 입력해주세요!2\n",
      "유저: 바위 컴퓨터: 보\n",
      "가위(1), 바위(2), 보(3)을 입력해주세요!3\n",
      "유저: 보 컴퓨터: 가위\n",
      "가위(1), 바위(2), 보(3)을 입력해주세요!1\n",
      "유저: 가위 컴퓨터: 가위\n",
      "가위(1), 바위(2), 보(3)을 입력해주세요!8\n",
      "게임종료 (전체:4, 승리:0, 비김:1, 졌음:3)\n"
     ]
    }
   ],
   "source": [
    "import random\n",
    "user=1\n",
    "com=0\n",
    "dic={\n",
    "    1: '가위',\n",
    "    2: '바위',\n",
    "    3: '보',\n",
    "}\n",
    "vic_lst=[(1,3),(2,1),(3,2)]\n",
    "coun=0\n",
    "vic=0\n",
    "sam=0\n",
    "lose=0\n",
    "\n",
    "while user < 4 and user>=0:\n",
    "    user=int(input(\"가위(1), 바위(2), 보(3)을 입력해주세요!\"))\n",
    "    com=random.randint(1,3)\n",
    "    if dic.get(user):\n",
    "        if (user,com) in vic_lst:\n",
    "            vic+=1\n",
    "        elif user==com:\n",
    "            sam+=1\n",
    "        else:\n",
    "            lose+=1\n",
    "        print(\"유저:\",dic.get(user), \"컴퓨터:\",dic.get(com))\n",
    "        coun+=1\n",
    "    \n",
    "print(\"게임종료 (전체:{}, 승리:{}, 비김:{}, 졌음:{})\".format(coun,vic,sam,lose))"
   ]
  },
  {
   "cell_type": "code",
   "execution_count": 1,
   "metadata": {},
   "outputs": [
    {
     "name": "stdout",
     "output_type": "stream",
     "text": [
      "가위(1), 바위(2), 보(3)을 입력해주세요!1\n",
      "유저: 가위, 컴퓨터: 보\n",
      "가위(1), 바위(2), 보(3)을 입력해주세요!2\n",
      "유저: 바위, 컴퓨터: 바위\n",
      "가위(1), 바위(2), 보(3)을 입력해주세요!1\n",
      "유저: 가위, 컴퓨터: 바위\n",
      "가위(1), 바위(2), 보(3)을 입력해주세요!4\n",
      "게임종료 (전체:3, 승리:1, 비김1)\n"
     ]
    }
   ],
   "source": [
    "#모범답안\n",
    "import random\n",
    "user=0\n",
    "total=0\n",
    "win=0\n",
    "word= [\"가위\",\"바위\",\"보\"]\n",
    "draw=0\n",
    "user=int(input(\"가위(1), 바위(2), 보(3)을 입력해주세요!\"))\n",
    "computer=random.randint(1,3)\n",
    "\n",
    "while user in [1,2,3]:\n",
    "\n",
    "    print(\"유저: %s, 컴퓨터: %s\"%(word[user-1], word[computer-1]))    \n",
    "    if(user==1 and computer==3):\n",
    "        win+=1\n",
    "    elif(user==2 and computer==1):\n",
    "        win+=1\n",
    "    elif(user==3 and computer==2):\n",
    "        win+=1\n",
    "    elif(user==computer):\n",
    "        draw+=1\n",
    "    total +=1\n",
    "    user=int(input(\"가위(1), 바위(2), 보(3)을 입력해주세요!\"))\n",
    "    computer=random.randint(1,3)\n",
    "    \n",
    "print(\"게임종료 (전체:{}, 승리:{}, 비김{})\".format(total,win,draw))  "
   ]
  },
  {
   "cell_type": "markdown",
   "metadata": {},
   "source": [
    "### 연습문제7"
   ]
  },
  {
   "cell_type": "code",
   "execution_count": 62,
   "metadata": {},
   "outputs": [
    {
     "name": "stdout",
     "output_type": "stream",
     "text": [
      "999\n"
     ]
    }
   ],
   "source": [
    "import random\n",
    "a=[]\n",
    "\n",
    "while len(a)<101:\n",
    "    a.append(random.randint(1,1000))\n",
    "    a.sort()\n",
    "print(a[-1])"
   ]
  },
  {
   "cell_type": "markdown",
   "metadata": {},
   "source": [
    "### 연습문제8"
   ]
  },
  {
   "cell_type": "code",
   "execution_count": 63,
   "metadata": {},
   "outputs": [
    {
     "name": "stdout",
     "output_type": "stream",
     "text": [
      "50095\n"
     ]
    }
   ],
   "source": [
    "import random\n",
    "a=[]\n",
    "s=0\n",
    "\n",
    "while len(a)<101:\n",
    "    a.append(random.randint(1,1000))\n",
    "for i in a:\n",
    "    s+=i\n",
    "\n",
    "print(s)"
   ]
  },
  {
   "cell_type": "code",
   "execution_count": 64,
   "metadata": {},
   "outputs": [
    {
     "name": "stdout",
     "output_type": "stream",
     "text": [
      "49816\n"
     ]
    }
   ],
   "source": [
    "a=[]\n",
    "s=0\n",
    "import random\n",
    "\n",
    "for i in range (100):\n",
    "    a.append(random.randint(1,1000))\n",
    "\n",
    "for e in a:\n",
    "    s+=e\n",
    "    \n",
    "print(s)"
   ]
  },
  {
   "cell_type": "markdown",
   "metadata": {},
   "source": [
    "## 리스트 컴프리핸션(list comprehension)"
   ]
  },
  {
   "cell_type": "code",
   "execution_count": 6,
   "metadata": {},
   "outputs": [
    {
     "data": {
      "text/plain": [
       "[0, 2, 4, 6, 8]"
      ]
     },
     "execution_count": 6,
     "metadata": {},
     "output_type": "execute_result"
    }
   ],
   "source": [
    "a=[]\n",
    "\n",
    "for i in range(10):\n",
    "    if i%2==0:\n",
    "        a.append(i)\n",
    "a"
   ]
  },
  {
   "cell_type": "code",
   "execution_count": 9,
   "metadata": {
    "scrolled": true
   },
   "outputs": [
    {
     "data": {
      "text/plain": [
       "[0, 2, 4, 6, 8]"
      ]
     },
     "execution_count": 9,
     "metadata": {},
     "output_type": "execute_result"
    }
   ],
   "source": [
    "a=[i for i in range(10) if i%2==0]\n",
    "a"
   ]
  },
  {
   "cell_type": "markdown",
   "metadata": {},
   "source": [
    "### Zip"
   ]
  },
  {
   "cell_type": "code",
   "execution_count": 24,
   "metadata": {},
   "outputs": [],
   "source": [
    "keys=['name', 'age', 'height']\n",
    "user=['A',20,170]"
   ]
  },
  {
   "cell_type": "code",
   "execution_count": 25,
   "metadata": {},
   "outputs": [
    {
     "name": "stdout",
     "output_type": "stream",
     "text": [
      "{'name': 'A', 'age': 20, 'height': 170}\n"
     ]
    }
   ],
   "source": [
    "user_dict={keys[i]: user[i] for i in range(len(keys))}\n",
    "print(user_dict)"
   ]
  },
  {
   "cell_type": "code",
   "execution_count": 26,
   "metadata": {},
   "outputs": [
    {
     "name": "stdout",
     "output_type": "stream",
     "text": [
      "{'name': 'A', 'age': 20, 'height': 170}\n"
     ]
    }
   ],
   "source": [
    "user_dict2={key:user[idx]for idx, key in enumerate(keys)}\n",
    "print(user_dict2)"
   ]
  },
  {
   "cell_type": "code",
   "execution_count": 27,
   "metadata": {},
   "outputs": [
    {
     "name": "stdout",
     "output_type": "stream",
     "text": [
      "[('name', 'A'), ('age', 20), ('height', 170)]\n"
     ]
    },
    {
     "data": {
      "text/plain": [
       "'A'"
      ]
     },
     "execution_count": 27,
     "metadata": {},
     "output_type": "execute_result"
    }
   ],
   "source": [
    "user_list=list(zip(keys, user))\n",
    "print(user_list)\n",
    "\n",
    "user_list[0][1]"
   ]
  },
  {
   "cell_type": "code",
   "execution_count": 28,
   "metadata": {},
   "outputs": [
    {
     "data": {
      "text/plain": [
       "(1, 2, 3, 4)"
      ]
     },
     "execution_count": 28,
     "metadata": {},
     "output_type": "execute_result"
    }
   ],
   "source": [
    "a=(1,2)\n",
    "a+=(3,4)\n",
    "a"
   ]
  },
  {
   "cell_type": "markdown",
   "metadata": {},
   "source": [
    "### 연습문제9"
   ]
  },
  {
   "cell_type": "code",
   "execution_count": 51,
   "metadata": {},
   "outputs": [
    {
     "data": {
      "text/plain": [
       "['school', 'science', 'mountain']"
      ]
     },
     "execution_count": 51,
     "metadata": {},
     "output_type": "execute_result"
    }
   ],
   "source": [
    "word=[\"school\",\"game\",\"piano\",\"science\",\"hotel\",\"mountain\"]\n",
    "# new_word=[word[i] for i in range(len(word)) if len(word[i])>=6]\n",
    "new_word=[w for w in word if len(w)>=6]\n",
    "new_word"
   ]
  },
  {
   "cell_type": "code",
   "execution_count": 53,
   "metadata": {},
   "outputs": [
    {
     "data": {
      "text/plain": [
       "[6, 4, 5, 7, 5, 8]"
      ]
     },
     "execution_count": 53,
     "metadata": {},
     "output_type": "execute_result"
    }
   ],
   "source": [
    "word=[\"school\",\"game\",\"piano\",\"science\",\"hotel\",\"mountain\"]\n",
    "# word_len=[len(word[i]) for i in range(len(word))]\n",
    "word_len=[len(w) for w in word]\n",
    "word_len"
   ]
  },
  {
   "cell_type": "markdown",
   "metadata": {},
   "source": [
    "### 연습문제9"
   ]
  },
  {
   "cell_type": "code",
   "execution_count": 79,
   "metadata": {},
   "outputs": [
    {
     "name": "stdout",
     "output_type": "stream",
     "text": [
      "[[20, 60], [120, 200], [300, 420]]\n"
     ]
    }
   ],
   "source": [
    "a=[[10,20],[30,40],[50,60]]\n",
    "b=[[2,3],[4,5],[6,7]]\n",
    "C=[]\n",
    "for x in range(len(a)):\n",
    "    line=[]\n",
    "    for y in range(len(a[x])):\n",
    "        line.append(a[x][y]*b[x][y])\n",
    "    C.append(line)\n",
    "        \n",
    "print(C)\n"
   ]
  },
  {
   "cell_type": "code",
   "execution_count": 81,
   "metadata": {},
   "outputs": [
    {
     "name": "stdout",
     "output_type": "stream",
     "text": [
      "[[20, 60], [120, 200], [300, 420]]\n"
     ]
    }
   ],
   "source": [
    "# for\n",
    "# 1. for문을 통해서 큰 리스트 인덱스를 가져온다.\n",
    "# 2. 각 인덱스를 통해서 a 리스트와 b리스트의 작은 리스트의 값을 가져온다.\n",
    "# 3. a리스트와 b리스트의 값을 곱하여 [a[i]*b[i], a[i+1]*b[i+1]...] 추가하겠다.\n",
    "\n",
    "a=[[10,20],[30,40],[50,60]]\n",
    "b=[[2,3],[4,5],[6,7]]\n",
    "c=[]\n",
    "#1\n",
    "for i in range(len(a)):\n",
    "    d=[]\n",
    "    #d가 여기에 들어가야 하는 이유는, 여기에 들어가야 빈 리스트로 초기화가 되기 때문!\n",
    "    for j in range(len(a[i])):\n",
    "        d.append(a[i][j]*b[i][j])\n",
    "    c.append(d)\n",
    "print(c)"
   ]
  },
  {
   "cell_type": "code",
   "execution_count": 95,
   "metadata": {},
   "outputs": [
    {
     "data": {
      "text/plain": [
       "[[20, 60], [120, 200], [300, 420]]"
      ]
     },
     "execution_count": 95,
     "metadata": {},
     "output_type": "execute_result"
    }
   ],
   "source": [
    "# List comoprehension\n",
    "\n",
    "a=[[10,20],[30,40],[50,60]]\n",
    "b=[[2,3],[4,5],[6,7]]\n",
    "c=[[a[i][j]*b[i][j] for j in range(len(a[i]))] for i in range(len(a))]\n",
    "c"
   ]
  },
  {
   "cell_type": "markdown",
   "metadata": {},
   "source": [
    "### 연습문제10"
   ]
  },
  {
   "cell_type": "code",
   "execution_count": 88,
   "metadata": {},
   "outputs": [
    {
     "name": "stdout",
     "output_type": "stream",
     "text": [
      "[[1, 2], [3, 4], [5, 6]]\n"
     ]
    }
   ],
   "source": [
    "a=[]\n",
    "for i in range(1,6,2):\n",
    "    line=[]\n",
    "    for j in range(2):\n",
    "        line.append(i+j)\n",
    "    a.append(line)\n",
    "print(a)"
   ]
  },
  {
   "cell_type": "code",
   "execution_count": 31,
   "metadata": {},
   "outputs": [
    {
     "name": "stdout",
     "output_type": "stream",
     "text": [
      "[[1, 2], [3, 4], [5, 6]]\n"
     ]
    }
   ],
   "source": [
    "a=[]\n",
    "for i in list(range(1,6,2)):\n",
    "    a.append([i,i+1])\n",
    "print(a)"
   ]
  },
  {
   "cell_type": "code",
   "execution_count": 40,
   "metadata": {},
   "outputs": [
    {
     "name": "stdout",
     "output_type": "stream",
     "text": [
      "[[1, 4], [1, 5], [1, 6], [2, 4], [2, 5], [2, 6], [3, 4], [3, 5], [3, 6]]\n"
     ]
    }
   ],
   "source": [
    "a=[]\n",
    "for i in [1,2,3]:\n",
    "    for j in [4,5,6]:\n",
    "        a.append([i,j])\n",
    "print(a)"
   ]
  },
  {
   "cell_type": "markdown",
   "metadata": {},
   "source": [
    "## break"
   ]
  },
  {
   "cell_type": "code",
   "execution_count": 103,
   "metadata": {},
   "outputs": [
    {
     "name": "stdout",
     "output_type": "stream",
     "text": [
      "0\n",
      "1\n",
      "2\n",
      "3\n"
     ]
    }
   ],
   "source": [
    "for i in range(5):\n",
    "    print(i)\n",
    "    \n",
    "    if i==3:\n",
    "        break\n",
    "        "
   ]
  },
  {
   "cell_type": "code",
   "execution_count": 104,
   "metadata": {},
   "outputs": [
    {
     "name": "stdout",
     "output_type": "stream",
     "text": [
      "0\n",
      "1\n",
      "2\n"
     ]
    }
   ],
   "source": [
    "for i in range(5):\n",
    "  \n",
    "    if i==3:\n",
    "        break\n",
    "    print(i)"
   ]
  },
  {
   "cell_type": "markdown",
   "metadata": {},
   "source": [
    "## continue"
   ]
  },
  {
   "cell_type": "code",
   "execution_count": 105,
   "metadata": {},
   "outputs": [
    {
     "name": "stdout",
     "output_type": "stream",
     "text": [
      "0\n",
      "1\n",
      "2\n",
      "4\n"
     ]
    }
   ],
   "source": [
    "for i in range(5):\n",
    "    if i==3:\n",
    "        continue\n",
    "    print(i)"
   ]
  },
  {
   "cell_type": "markdown",
   "metadata": {},
   "source": [
    "### 연습문제11"
   ]
  },
  {
   "cell_type": "code",
   "execution_count": 120,
   "metadata": {
    "scrolled": true
   },
   "outputs": [
    {
     "name": "stdout",
     "output_type": "stream",
     "text": [
      "숫자를 입력하세요: 5\n",
      "hi\n",
      "hi\n",
      "hi\n",
      "hi\n",
      "hi\n"
     ]
    }
   ],
   "source": [
    "num=int(input(\"숫자를 입력하세요: \"))\n",
    "count=0\n",
    "\n",
    "while True:\n",
    "    if num==count:\n",
    "        break\n",
    "    print(\"hi\")\n",
    "\n",
    "    count+=1"
   ]
  },
  {
   "cell_type": "code",
   "execution_count": 122,
   "metadata": {},
   "outputs": [
    {
     "name": "stdout",
     "output_type": "stream",
     "text": [
      "숫자를 입력하세요: 5\n",
      "0\n",
      "2\n",
      "4\n"
     ]
    }
   ],
   "source": [
    "num=int(input(\"숫자를 입력하세요: \"))\n",
    "for i in range(num+1):\n",
    "    if i%2==1:\n",
    "        continue\n",
    "    print(i)"
   ]
  },
  {
   "cell_type": "markdown",
   "metadata": {},
   "source": [
    "# 입출력"
   ]
  },
  {
   "cell_type": "code",
   "execution_count": 1,
   "metadata": {},
   "outputs": [
    {
     "name": "stdout",
     "output_type": "stream",
     "text": [
      "hello welcome to python world.\n"
     ]
    }
   ],
   "source": [
    "print('hello','welcome to python world.')"
   ]
  },
  {
   "cell_type": "code",
   "execution_count": 3,
   "metadata": {},
   "outputs": [
    {
     "name": "stdout",
     "output_type": "stream",
     "text": [
      "hello, world\n"
     ]
    }
   ],
   "source": [
    "print(\"hello\",\"world\",sep=\", \")"
   ]
  },
  {
   "cell_type": "markdown",
   "metadata": {},
   "source": [
    "### 파일 쓰기"
   ]
  },
  {
   "cell_type": "code",
   "execution_count": 5,
   "metadata": {},
   "outputs": [],
   "source": [
    "file= open(\"my_file.txt\", 'w')\n",
    "file.write(\"This is my file.\")\n",
    "file.close()\n"
   ]
  },
  {
   "cell_type": "markdown",
   "metadata": {},
   "source": [
    "### 파일 읽기\n"
   ]
  },
  {
   "cell_type": "code",
   "execution_count": 6,
   "metadata": {},
   "outputs": [
    {
     "name": "stdout",
     "output_type": "stream",
     "text": [
      "This is your file.\n"
     ]
    }
   ],
   "source": [
    "file=open(\"my_file.txt\",'r')\n",
    "read_str=file.read()\n",
    "print(read_str)\n",
    "file.close()"
   ]
  },
  {
   "cell_type": "markdown",
   "metadata": {},
   "source": [
    "### 파일 여러 줄 쓰기"
   ]
  },
  {
   "cell_type": "code",
   "execution_count": 7,
   "metadata": {},
   "outputs": [],
   "source": [
    "tar_str = \"\"\"안녕하세요.\n",
    "반갑습니다.\n",
    "저는 고원희입니다.\n",
    "\"\"\"\n",
    "file=open(\"my_sencond_file.txt\",'w')\n",
    "file.write(tar_str)\n",
    "file.close()"
   ]
  },
  {
   "cell_type": "markdown",
   "metadata": {},
   "source": [
    "### 파일 쓰기"
   ]
  },
  {
   "cell_type": "code",
   "execution_count": 11,
   "metadata": {},
   "outputs": [
    {
     "name": "stdout",
     "output_type": "stream",
     "text": [
      "This is your file.\n"
     ]
    }
   ],
   "source": [
    "file=open(\"my_file.txt\", 'r')\n",
    "txt_file=file.read()\n",
    "print(txt_file)\n",
    "file.close()"
   ]
  },
  {
   "cell_type": "code",
   "execution_count": 12,
   "metadata": {},
   "outputs": [
    {
     "name": "stdout",
     "output_type": "stream",
     "text": [
      "\n"
     ]
    }
   ],
   "source": [
    "file=open(\"my_second_file.txt\", 'w+')\n",
    "file.write(\"파일 쓰기 연습입니다.\")\n",
    "\n",
    "txt_file=file.read()\n",
    "\n",
    "print(txt_file)\n",
    "file.close()"
   ]
  },
  {
   "cell_type": "code",
   "execution_count": 13,
   "metadata": {},
   "outputs": [
    {
     "name": "stdout",
     "output_type": "stream",
     "text": [
      "\n"
     ]
    }
   ],
   "source": [
    "f= open(\"my_file.txt\", 'r+')\n",
    "f.write(\"파일 쓰기 연습 중.\")\n",
    "txt_file=f.read()\n",
    "print(txt_file)\n",
    "f.close()"
   ]
  },
  {
   "cell_type": "code",
   "execution_count": 14,
   "metadata": {},
   "outputs": [],
   "source": [
    "file=open(\"my_file.txt\",'w')\n",
    "file.write(\"예제 파일입니다. \\n재미있는 파이썬.\")\n",
    "file.close()"
   ]
  },
  {
   "cell_type": "code",
   "execution_count": 18,
   "metadata": {},
   "outputs": [],
   "source": [
    "with open(\"my_file2.txt\",\"w\") as f: # open한 것을 f라는 변수에 두겠다.\n",
    "    f.write(\"파일입니다. \\n재미있는 파이썬.\")\n",
    "    f.write(\"\"\"\n",
    "    이\n",
    "    번\n",
    "    강의는\n",
    "    재미있는\n",
    "    파이썬\"\"\")\n",
    "    "
   ]
  },
  {
   "cell_type": "code",
   "execution_count": 19,
   "metadata": {},
   "outputs": [
    {
     "name": "stdout",
     "output_type": "stream",
     "text": [
      "파일입니다. \n",
      "재미있는 파이썬.\n",
      "    이\n",
      "    번\n",
      "    강의는\n",
      "    재미있는\n",
      "    파이썬\n"
     ]
    }
   ],
   "source": [
    "with open(\"my_file2.txt\",\"r\") as f:\n",
    "    read_file=f.read()\n",
    "    \n",
    "    print(read_file)"
   ]
  },
  {
   "cell_type": "code",
   "execution_count": 20,
   "metadata": {},
   "outputs": [
    {
     "name": "stdout",
     "output_type": "stream",
     "text": [
      "파일입니다. \n",
      "\n",
      "재미있는 파이썬.\n",
      "\n",
      "    이\n",
      "\n",
      "    번\n",
      "\n",
      "    강의는\n",
      "\n",
      "    재미있는\n",
      "\n",
      "    파이썬\n"
     ]
    }
   ],
   "source": [
    "with open(\"my_file2.txt\",\"r\") as f:\n",
    "    line= f.readline()\n",
    "    while line:\n",
    "        print(line)\n",
    "        line=f.readline()"
   ]
  },
  {
   "cell_type": "code",
   "execution_count": 21,
   "metadata": {},
   "outputs": [
    {
     "name": "stdout",
     "output_type": "stream",
     "text": [
      "['파일입니다. \\n', '재미있는 파이썬.\\n', '    이\\n', '    번\\n', '    강의는\\n', '    재미있는\\n', '    파이썬']\n"
     ]
    }
   ],
   "source": [
    "with open(\"my_file2.txt\",\"r\") as f:\n",
    "    lines=f.readlines()\n",
    "print(lines)\n"
   ]
  },
  {
   "cell_type": "code",
   "execution_count": null,
   "metadata": {},
   "outputs": [],
   "source": []
  },
  {
   "cell_type": "code",
   "execution_count": 24,
   "metadata": {},
   "outputs": [],
   "source": [
    "str_var=\":\".join(lines)"
   ]
  },
  {
   "cell_type": "code",
   "execution_count": 25,
   "metadata": {},
   "outputs": [
    {
     "name": "stdout",
     "output_type": "stream",
     "text": [
      "파일입니다. \n",
      ":재미있는 파이썬.\n",
      ":    이\n",
      ":    번\n",
      ":    강의는\n",
      ":    재미있는\n",
      ":    파이썬\n"
     ]
    }
   ],
   "source": [
    "print(str_var)"
   ]
  },
  {
   "cell_type": "code",
   "execution_count": 28,
   "metadata": {},
   "outputs": [
    {
     "data": {
      "text/plain": [
       "['파일입니다. \\n',\n",
       " '재미있는 파이썬.\\n',\n",
       " '    이\\n',\n",
       " '    번\\n',\n",
       " '    강의는\\n',\n",
       " '    재미있는\\n',\n",
       " '    파이썬']"
      ]
     },
     "execution_count": 28,
     "metadata": {},
     "output_type": "execute_result"
    }
   ],
   "source": [
    "lines"
   ]
  },
  {
   "cell_type": "code",
   "execution_count": 29,
   "metadata": {},
   "outputs": [],
   "source": [
    "with open(\"my_write_example.txt\",\"w\") as f:\n",
    "    f. writelines(lines)"
   ]
  },
  {
   "cell_type": "code",
   "execution_count": null,
   "metadata": {},
   "outputs": [],
   "source": []
  }
 ],
 "metadata": {
  "kernelspec": {
   "display_name": "Python 3",
   "language": "python",
   "name": "python3"
  },
  "language_info": {
   "codemirror_mode": {
    "name": "ipython",
    "version": 3
   },
   "file_extension": ".py",
   "mimetype": "text/x-python",
   "name": "python",
   "nbconvert_exporter": "python",
   "pygments_lexer": "ipython3",
   "version": "3.7.3"
  }
 },
 "nbformat": 4,
 "nbformat_minor": 2
}
