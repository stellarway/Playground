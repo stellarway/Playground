{
 "cells": [
  {
   "cell_type": "markdown",
   "metadata": {},
   "source": [
    "# LDA 실습"
   ]
  },
  {
   "cell_type": "code",
   "execution_count": 3,
   "metadata": {},
   "outputs": [],
   "source": [
    "import numpy as np\n",
    "import pandas as pd\n",
    "from functools import reduce"
   ]
  },
  {
   "cell_type": "code",
   "execution_count": 5,
   "metadata": {},
   "outputs": [],
   "source": [
    "doc_ls = ['바나나 사과 포도 포도',\n",
    "'사과 포도',\n",
    "'포도 바나나',\n",
    "'짜장면 짬뽕 탕수욕',\n",
    "'볶음밥 탕수욕',\n",
    "'짜장면 짬뽕',\n",
    "'라면 스시',\n",
    "'스시',\n",
    "'가츠동 스시 소바',\n",
    "'된장찌개 김치찌개 김치',\n",
    "'김치 된장',\n",
    "'비빔밥 김치'\n",
    "]\n",
    "topic_num = 3"
   ]
  },
  {
   "cell_type": "markdown",
   "metadata": {},
   "source": [
    "# RandomlyAssignTopic"
   ]
  },
  {
   "cell_type": "markdown",
   "metadata": {},
   "source": [
    "# token별 토픽 할당"
   ]
  },
  {
   "cell_type": "code",
   "execution_count": 6,
   "metadata": {
    "scrolled": false
   },
   "outputs": [
    {
     "data": {
      "text/plain": [
       "(28, 28)"
      ]
     },
     "execution_count": 6,
     "metadata": {},
     "output_type": "execute_result"
    }
   ],
   "source": [
    "words = (' '.join(doc_ls).split(' '))\n",
    "assign = np.random.randint(topic_num, size = len(words))\n",
    "len(words), len(assign)"
   ]
  },
  {
   "cell_type": "code",
   "execution_count": 7,
   "metadata": {
    "scrolled": false
   },
   "outputs": [],
   "source": [
    "# ranDf = pd.DataFrame( assign,  bow)\n",
    "ranDf = pd.DataFrame({'word': words, 'assign': assign, })\n",
    "\n",
    "def func(x):\n",
    "    return [doc_ls.index(x)]*len(x.split(' '))\n",
    "    \n",
    "lst = list(map(lambda x: func(x), doc_ls))\n",
    "ranDf['doc_num'] = str(lst).replace('[','').replace(']','').split(', ')"
   ]
  },
  {
   "cell_type": "markdown",
   "metadata": {},
   "source": [
    "# doc_ls별 score"
   ]
  },
  {
   "cell_type": "code",
   "execution_count": 9,
   "metadata": {},
   "outputs": [],
   "source": [
    "alpha = 0.1"
   ]
  },
  {
   "cell_type": "code",
   "execution_count": 122,
   "metadata": {},
   "outputs": [
    {
     "data": {
      "text/plain": [
       "assign\n",
       "0    2.1\n",
       "1    1.1\n",
       "2    1.1\n",
       "Name: word, dtype: float64"
      ]
     },
     "execution_count": 122,
     "metadata": {},
     "output_type": "execute_result"
    }
   ],
   "source": [
    "ranDf[ranDf.doc_num =='0'].groupby('assign')['word'].count()+alpha"
   ]
  },
  {
   "cell_type": "code",
   "execution_count": 117,
   "metadata": {
    "scrolled": false
   },
   "outputs": [
    {
     "data": {
      "text/html": [
       "<div>\n",
       "<style scoped>\n",
       "    .dataframe tbody tr th:only-of-type {\n",
       "        vertical-align: middle;\n",
       "    }\n",
       "\n",
       "    .dataframe tbody tr th {\n",
       "        vertical-align: top;\n",
       "    }\n",
       "\n",
       "    .dataframe thead th {\n",
       "        text-align: right;\n",
       "    }\n",
       "</style>\n",
       "<table border=\"1\" class=\"dataframe\">\n",
       "  <thead>\n",
       "    <tr style=\"text-align: right;\">\n",
       "      <th></th>\n",
       "      <th>word</th>\n",
       "    </tr>\n",
       "    <tr>\n",
       "      <th>assign</th>\n",
       "      <th></th>\n",
       "    </tr>\n",
       "  </thead>\n",
       "  <tbody>\n",
       "    <tr>\n",
       "      <th>0</th>\n",
       "      <td>2</td>\n",
       "    </tr>\n",
       "    <tr>\n",
       "      <th>1</th>\n",
       "      <td>1</td>\n",
       "    </tr>\n",
       "    <tr>\n",
       "      <th>2</th>\n",
       "      <td>1</td>\n",
       "    </tr>\n",
       "  </tbody>\n",
       "</table>\n",
       "</div>"
      ],
      "text/plain": [
       "        word\n",
       "assign      \n",
       "0          2\n",
       "1          1\n",
       "2          1"
      ]
     },
     "execution_count": 117,
     "metadata": {},
     "output_type": "execute_result"
    }
   ],
   "source": [
    "ranDf[ranDf.doc_num =='0'].groupby('assign').apply(lambda x: pd.Series({'word':x['word'].count()}))"
   ]
  },
  {
   "cell_type": "code",
   "execution_count": 10,
   "metadata": {
    "scrolled": true
   },
   "outputs": [],
   "source": [
    "docScore = np.zeros((len(doc_ls),topic_num))\n",
    "for doc_num, topic in ranDf[['doc_num','assign']].values:\n",
    "    docScore[int(doc_num)][topic]+=1\n",
    "docScore +=  alpha\n",
    "    # 열 : topic / 행: docs"
   ]
  },
  {
   "cell_type": "markdown",
   "metadata": {},
   "source": [
    "# 단어별 score"
   ]
  },
  {
   "cell_type": "code",
   "execution_count": 12,
   "metadata": {},
   "outputs": [],
   "source": [
    "bow = list(set(words))"
   ]
  },
  {
   "cell_type": "code",
   "execution_count": 13,
   "metadata": {},
   "outputs": [],
   "source": [
    "beta = 0.001"
   ]
  },
  {
   "cell_type": "code",
   "execution_count": 14,
   "metadata": {
    "scrolled": true
   },
   "outputs": [],
   "source": [
    "wordScore = np.zeros((len(bow),topic_num))\n",
    "for word, topic in ranDf[['word','assign']].values:\n",
    "    wordScore[int(bow.index(word))][topic]+=1\n",
    "wordScore +=  beta"
   ]
  },
  {
   "cell_type": "markdown",
   "metadata": {},
   "source": [
    "# IterateAssignTopic"
   ]
  },
  {
   "cell_type": "code",
   "execution_count": 15,
   "metadata": {
    "scrolled": true
   },
   "outputs": [
    {
     "data": {
      "text/plain": [
       "array([[2.1, 1.1, 1.1],\n",
       "       [2.1, 0.1, 0.1],\n",
       "       [0.1, 1.1, 1.1],\n",
       "       [1.1, 1.1, 1.1],\n",
       "       [1.1, 0.1, 1.1],\n",
       "       [0.1, 2.1, 0.1],\n",
       "       [0.1, 1.1, 1.1],\n",
       "       [1.1, 0.1, 0.1],\n",
       "       [3.1, 0.1, 0.1],\n",
       "       [3.1, 0.1, 0.1],\n",
       "       [0.1, 0.1, 2.1],\n",
       "       [1.1, 0.1, 1.1]])"
      ]
     },
     "execution_count": 15,
     "metadata": {},
     "output_type": "execute_result"
    }
   ],
   "source": [
    "docScore"
   ]
  },
  {
   "cell_type": "code",
   "execution_count": 16,
   "metadata": {},
   "outputs": [
    {
     "data": {
      "text/plain": [
       "array([[4.3, 2.3, 2.3, 3.3, 2.3, 2.3, 2.3, 1.3, 3.3, 3.3, 2.3, 2.3]])"
      ]
     },
     "execution_count": 16,
     "metadata": {},
     "output_type": "execute_result"
    }
   ],
   "source": [
    "docScore.sum(axis =1).reshape(1,-1)"
   ]
  },
  {
   "cell_type": "code",
   "execution_count": 56,
   "metadata": {
    "scrolled": false
   },
   "outputs": [],
   "source": [
    "def prob(scoreDf, num):\n",
    "    return (scoreDf.T[num]/scoreDf.sum(axis =1)).reshape(-1,1)\n"
   ]
  },
  {
   "cell_type": "code",
   "execution_count": 92,
   "metadata": {},
   "outputs": [],
   "source": [
    "def find_topic():\n",
    "    a = np.concatenate(tuple(map(lambda x: prob(docScore, x), range(3))),axis=1)\n",
    "    b= np.concatenate(tuple(map(lambda x: prob(wordScore.T, x), range(3))),axis=1)\n",
    "    return pd.Series(a[0]*b[0]).idxmax()"
   ]
  },
  {
   "cell_type": "markdown",
   "metadata": {},
   "source": [
    "# A내에 1이 있을 확률"
   ]
  },
  {
   "cell_type": "code",
   "execution_count": 89,
   "metadata": {},
   "outputs": [],
   "source": [
    "a = np.concatenate(tuple(map(lambda x: prob(docScore, x), range(3))),axis=1)\n",
    "b= np.concatenate(tuple(map(lambda x: prob(wordScore.T, x), range(3))),axis=1)"
   ]
  },
  {
   "cell_type": "code",
   "execution_count": 90,
   "metadata": {},
   "outputs": [
    {
     "data": {
      "text/plain": [
       "array([[7.14183790e-02, 1.42765411e-01, 7.13470320e-05],\n",
       "       [1.66389628e-01, 1.66389628e-01, 1.66223404e-04],\n",
       "       [1.24750499e-04, 1.24750499e-04, 1.24875250e-01]])"
      ]
     },
     "execution_count": 90,
     "metadata": {},
     "output_type": "execute_result"
    }
   ],
   "source": [
    "b"
   ]
  },
  {
   "cell_type": "code",
   "execution_count": 88,
   "metadata": {},
   "outputs": [
    {
     "data": {
      "text/plain": [
       "array([2.003, 3.003, 1.003, 1.003, 2.003, 1.003, 4.003, 3.003, 1.003,\n",
       "       2.003, 1.003, 1.003, 1.003, 2.003, 1.003, 2.003])"
      ]
     },
     "execution_count": 88,
     "metadata": {},
     "output_type": "execute_result"
    }
   ],
   "source": [
    "wordScore.sum(axis=1)"
   ]
  },
  {
   "cell_type": "code",
   "execution_count": 80,
   "metadata": {},
   "outputs": [
    {
     "data": {
      "text/plain": [
       "0"
      ]
     },
     "execution_count": 80,
     "metadata": {},
     "output_type": "execute_result"
    }
   ],
   "source": [
    "pd.Serires(a[0]*b[0]).idxmax()"
   ]
  },
  {
   "cell_type": "markdown",
   "metadata": {},
   "source": [
    "# 1내의 단어가 cute일 확률"
   ]
  },
  {
   "cell_type": "code",
   "execution_count": 66,
   "metadata": {
    "scrolled": false
   },
   "outputs": [
    {
     "data": {
      "text/plain": [
       "0    0.499750\n",
       "1    0.499750\n",
       "2    0.000499\n",
       "Name: 0, dtype: float64"
      ]
     },
     "execution_count": 66,
     "metadata": {},
     "output_type": "execute_result"
    }
   ],
   "source": [
    "\n",
    "pd.DataFrame(b).T[0]\n"
   ]
  },
  {
   "cell_type": "markdown",
   "metadata": {},
   "source": [
    "# A 안의 cute가 1일 확률"
   ]
  },
  {
   "cell_type": "code",
   "execution_count": 50,
   "metadata": {},
   "outputs": [
    {
     "data": {
      "text/plain": [
       "array([1.001e+00, 2.001e+00, 1.000e-03, 1.000e-03, 1.001e+00, 1.000e-03,\n",
       "       2.001e+00, 2.001e+00, 1.001e+00, 1.001e+00, 1.001e+00, 1.001e+00,\n",
       "       1.001e+00, 1.000e-03, 1.001e+00, 1.000e-03])"
      ]
     },
     "execution_count": 50,
     "metadata": {},
     "output_type": "execute_result"
    }
   ],
   "source": []
  },
  {
   "cell_type": "code",
   "execution_count": 77,
   "metadata": {
    "scrolled": true
   },
   "outputs": [
    {
     "data": {
      "text/plain": [
       "0    0.244064\n",
       "1    0.127843\n",
       "2    0.000128\n",
       "Name: 0, dtype: float64"
      ]
     },
     "execution_count": 77,
     "metadata": {},
     "output_type": "execute_result"
    }
   ],
   "source": [
    "(pd.DataFrame(a).T[0]*pd.DataFrame(b).T[0]) #.idxmax()"
   ]
  },
  {
   "cell_type": "code",
   "execution_count": 44,
   "metadata": {},
   "outputs": [
    {
     "data": {
      "text/plain": [
       "0     0\n",
       "1     0\n",
       "2     1\n",
       "3     0\n",
       "4     0\n",
       "5     1\n",
       "6     1\n",
       "7     0\n",
       "8     0\n",
       "9     0\n",
       "10    2\n",
       "11    0\n",
       "dtype: int64"
      ]
     },
     "execution_count": 44,
     "metadata": {},
     "output_type": "execute_result"
    }
   ],
   "source": [
    "pd.DataFrame(a).T.idxmax()"
   ]
  },
  {
   "cell_type": "code",
   "execution_count": 38,
   "metadata": {},
   "outputs": [
    {
     "ename": "NameError",
     "evalue": "name 'b' is not defined",
     "output_type": "error",
     "traceback": [
      "\u001b[1;31m---------------------------------------------------------------------------\u001b[0m",
      "\u001b[1;31mNameError\u001b[0m                                 Traceback (most recent call last)",
      "\u001b[1;32m<ipython-input-38-41cfe080458e>\u001b[0m in \u001b[0;36m<module>\u001b[1;34m\u001b[0m\n\u001b[1;32m----> 1\u001b[1;33m \u001b[0mb\u001b[0m\u001b[1;33m.\u001b[0m\u001b[0mT\u001b[0m\u001b[1;33m[\u001b[0m\u001b[1;36m0\u001b[0m\u001b[1;33m]\u001b[0m\u001b[1;33m.\u001b[0m\u001b[0msort_values\u001b[0m\u001b[1;33m(\u001b[0m\u001b[1;33m)\u001b[0m\u001b[1;33m.\u001b[0m\u001b[0mindex\u001b[0m\u001b[1;33m[\u001b[0m\u001b[1;33m-\u001b[0m\u001b[1;36m1\u001b[0m\u001b[1;33m]\u001b[0m\u001b[1;33m\u001b[0m\u001b[1;33m\u001b[0m\u001b[0m\n\u001b[0m",
      "\u001b[1;31mNameError\u001b[0m: name 'b' is not defined"
     ]
    }
   ],
   "source": [
    "b.T[0].sort_values().index[-1]"
   ]
  },
  {
   "cell_type": "code",
   "execution_count": 69,
   "metadata": {},
   "outputs": [
    {
     "data": {
      "text/plain": [
       "0.1278430465"
      ]
     },
     "execution_count": 69,
     "metadata": {},
     "output_type": "execute_result"
    }
   ],
   "source": [
    "0.255814*0.499750"
   ]
  },
  {
   "cell_type": "code",
   "execution_count": null,
   "metadata": {
    "scrolled": false
   },
   "outputs": [],
   "source": [
    "np.concatenate(tuple(map(lambda x: getMax(x), range(4))),axis=1).max(axis=1)"
   ]
  },
  {
   "cell_type": "code",
   "execution_count": null,
   "metadata": {},
   "outputs": [],
   "source": []
  },
  {
   "cell_type": "code",
   "execution_count": null,
   "metadata": {},
   "outputs": [],
   "source": [
    "docScore"
   ]
  },
  {
   "cell_type": "code",
   "execution_count": null,
   "metadata": {},
   "outputs": [],
   "source": [
    "docScore.sum(axis =1)"
   ]
  },
  {
   "cell_type": "code",
   "execution_count": null,
   "metadata": {},
   "outputs": [],
   "source": [
    "list(map(lambda x: a[x].max(), range(len(a))))"
   ]
  },
  {
   "cell_type": "code",
   "execution_count": null,
   "metadata": {},
   "outputs": [],
   "source": []
  },
  {
   "cell_type": "code",
   "execution_count": null,
   "metadata": {},
   "outputs": [],
   "source": []
  },
  {
   "cell_type": "code",
   "execution_count": null,
   "metadata": {},
   "outputs": [],
   "source": []
  },
  {
   "cell_type": "code",
   "execution_count": null,
   "metadata": {
    "scrolled": false
   },
   "outputs": [],
   "source": [
    "a = np.array([[1.1, 2], [3, 4]])\n",
    "b = np.array([[5, 6 ]])\n",
    "np.concatenate((a, b), axis=0)"
   ]
  },
  {
   "cell_type": "code",
   "execution_count": null,
   "metadata": {
    "scrolled": true
   },
   "outputs": [],
   "source": [
    "np.concatenate((a, b.T), axis=1)"
   ]
  },
  {
   "cell_type": "code",
   "execution_count": null,
   "metadata": {
    "scrolled": true
   },
   "outputs": [],
   "source": [
    "np.concatenate((a, b), axis=None)"
   ]
  },
  {
   "cell_type": "code",
   "execution_count": null,
   "metadata": {},
   "outputs": [],
   "source": []
  },
  {
   "cell_type": "code",
   "execution_count": null,
   "metadata": {},
   "outputs": [],
   "source": []
  },
  {
   "cell_type": "code",
   "execution_count": null,
   "metadata": {},
   "outputs": [],
   "source": [
    "list(range(1,2))"
   ]
  },
  {
   "cell_type": "code",
   "execution_count": null,
   "metadata": {},
   "outputs": [],
   "source": []
  },
  {
   "cell_type": "code",
   "execution_count": null,
   "metadata": {},
   "outputs": [],
   "source": [
    "class LDA:\n",
    "    def __init__(self, doc_ls, topic_num, alpha = 0.1, beta = 0.001):\n",
    "        self.alpha = alpha\n",
    "        self.beta = beta\n",
    "        self.k = topic.num\n",
    "        self.words = (' '.join(self.doc_ls).split(' '))\n",
    "        self.bow = list(set(self.words))\n",
    "    \n",
    "    def RandomlyAssignTopic(self, doc_ls):\n",
    "        \n",
    "        assign = np.random.randint(self.k, size = len(self.words))\n",
    "        ranDf = pd.DataFrame({'word': self.words, 'assign': assign, })\n",
    "\n",
    "        def func(x):\n",
    "            return [doc_ls.index(x)]*len(x.split(' '))\n",
    "        lst = list(map(lambda x: func(x), self.doc_ls))\n",
    "        ranDf['doc_num'] = str(lst).replace('[','').replace(']','').split(', ')\n",
    "        \n",
    "        return ranDf\n",
    "        \n",
    "    def IterateAssignTopic(self, docs, terms):\n",
    "        ranDf = self.RandomlyAssignTopic(self.doc_ls)\n",
    "        \n",
    "        def docScore(ranDf):\n",
    "            docScore = np.zeros((len(self.doc_ls), self.k))\n",
    "            for doc_num, topic in ranDf[['doc_num','assign']].values:\n",
    "                docScore[int(doc_num)][topic]+=1\n",
    "            docScore +=  self.alpha\n",
    "            return docScore\n",
    "        \n",
    "        def wordScore(ranDf):        \n",
    "            wordScore = np.zeros((len(self.bow), self.k))\n",
    "            for word, topic in ranDf[['word','assign']].values:\n",
    "                wordScore[int(self.bow.index(word))][topic]+=1\n",
    "            wordScore +=  self.beta\n",
    "            return wordScore\n",
    "        \n",
    "        def cal(x):\n",
    "            ranDf['assign'][x]=None\n",
    "            docScore = docScore(ranDf)\n",
    "            wordScore = wordScore(ranDf)\n",
    "            def docCal(num):\n",
    "                return (docScore.T[num]/docScore.sum(axis =1)).reshape(-1,1)\n",
    "            docCal = reduce(lambda x,y: np.concatenate((docCal(x),docCal(y)), axis = 1), range(self.k))\n",
    "            list(map(lambda x: docCal[x].max(), range(len(docCal))))\n",
    "\n",
    "    def TopicModeling(self):\n",
    "        pass"
   ]
  },
  {
   "cell_type": "code",
   "execution_count": null,
   "metadata": {},
   "outputs": [],
   "source": []
  },
  {
   "cell_type": "code",
   "execution_count": null,
   "metadata": {},
   "outputs": [],
   "source": []
  }
 ],
 "metadata": {
  "kernelspec": {
   "display_name": "Python 3",
   "language": "python",
   "name": "python3"
  },
  "language_info": {
   "codemirror_mode": {
    "name": "ipython",
    "version": 3
   },
   "file_extension": ".py",
   "mimetype": "text/x-python",
   "name": "python",
   "nbconvert_exporter": "python",
   "pygments_lexer": "ipython3",
   "version": "3.7.3"
  }
 },
 "nbformat": 4,
 "nbformat_minor": 2
}
