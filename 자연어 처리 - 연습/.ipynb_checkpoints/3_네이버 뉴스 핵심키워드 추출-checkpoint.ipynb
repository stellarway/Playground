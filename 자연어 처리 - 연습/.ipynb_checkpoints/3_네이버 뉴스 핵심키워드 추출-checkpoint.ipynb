{
 "cells": [
  {
   "cell_type": "markdown",
   "metadata": {},
   "source": [
    "# 네이버 뉴스 핵심키워드 추출\n",
    "* 입력 : 네이버 뉴스 url, 핵심 키워드 갯수\n",
    "* 방법 : matrix 혹은 그래프 활용 textrank 구현 이용한 문서 요약\n",
    "* 출력 : 핵심키워드 리스트(갯수 적용), 원문"
   ]
  },
  {
   "cell_type": "code",
   "execution_count": 4,
   "metadata": {},
   "outputs": [],
   "source": [
    "import requests\n",
    "from bs4 import BeautifulSoup as bs\n",
    "import re\n",
    "from konlpy.tag import Hannanum\n",
    "import pandas as pd\n",
    "import numpy as np\n",
    "import math"
   ]
  },
  {
   "cell_type": "code",
   "execution_count": 5,
   "metadata": {},
   "outputs": [],
   "source": [
    "url = 'https://news.naver.com/main/read.nhn?mode=LSD&mid=shm&sid1=105&oid=277&aid=0004511484'"
   ]
  },
  {
   "cell_type": "code",
   "execution_count": 9,
   "metadata": {},
   "outputs": [],
   "source": [
    "def newsKeywords(url, count = 10):\n",
    "    resp = requests.get(url)\n",
    "    soup = bs(resp.content)\n",
    "    Text = soup.select('div._article_body_contents')[0].text\\\n",
    "    .replace('// flash 오류를 우회하기 위한 함수 추가','')\\\n",
    "    .replace('function _flash_removeCallback() {}','').strip()\n",
    "    body = re.sub(r'\\[\\w{0,10} ?[가-힣]{2,5} ? 기자|\\]|\\n|\\t|\\w{0,5} ?기자 ?[a-zA-Z]*@[a-zA-Z]*.*','', Text)\n",
    "    \n",
    "     # 토큰화 & 품사 태깅\n",
    "    hannanum=Hannanum()\n",
    "    hanTag = hannanum.pos(body)\n",
    "    \n",
    "    # 불용어 처리\n",
    "    stopPos = re.sub(\"\\(.{1,15}\\'(I|S|J|X)\\'\\),? ?\",\"\",str(hanTag))\n",
    "    onlyText = re.sub(\"\\(|,? ?\\'\\w\\'\\)\",\"\",stopPos)\n",
    "    stopwords = re.sub(\",? ?\\'(은|는|이|가|을|를|ㄹ|ㅁ|ㄴ|ㄴ다|고|었다|어|의|부터|하|것|와|과|며|면|으|나|다|지|로|아|수|에|되|서|있|기)\\'\",\"\",onlyText)\n",
    "#     stopwords = re.sub(\",? ?\\'(은|는|이|가|을|를)\\'\",\"\",onlyText)\n",
    "    prodText = eval(stopwords)\n",
    "    voca = list(set(prodText))\n",
    "    voca_len = len(voca)\n",
    "    \n",
    "    # edge 연결\n",
    "    edge = pd.DataFrame(np.zeros((voca_len, voca_len), dtype = np.float32), columns = voca, index = voca)\n",
    "    win = 3\n",
    "        \n",
    "    for start in range(voca_len-win+1):\n",
    "        scene = prodText[start:start+win]\n",
    "        for w1 in scene:\n",
    "            for w2 in scene:\n",
    "                if w1 == w2:\n",
    "                    continue\n",
    "                else:\n",
    "                    edge[w1][w2]=1\n",
    "                    edge[w2][w1]=1\n",
    "    \n",
    "    # ranking score 계산\n",
    "    summ = edge.sum(axis =1 )\n",
    "    summ = summ[summ !=0] # 연결 없는 노드 제거\n",
    "    edge = edge[list(summ.index)] \n",
    "\n",
    "    cnt = 0\n",
    "    Max = 50\n",
    "    d = 0.85\n",
    "    threshold = 0.0001\n",
    "    score = np.ones((len(summ)), dtype = np.float32)\n",
    "\n",
    "    while cnt != Max:\n",
    "        cnt+=1\n",
    "        pre_score = np.copy(score)\n",
    "        weight = []\n",
    "        for i in range(len(summ)):\n",
    "            if summ[i] != 0:\n",
    "                ser = pre_score[i]* edge.iloc[i]/summ[i]\n",
    "                weight.append(ser)\n",
    "\n",
    "        weight = pd.DataFrame(weight)\n",
    "        score = (1-d) + d*weight.sum()\n",
    "        if np.fabs(pre_score-score).sum() <= threshold:\n",
    "            break\n",
    "\n",
    "    keyList = list(score.sort_values(ascending = False)[:count].index)\n",
    "    return keyList, body"
   ]
  },
  {
   "cell_type": "code",
   "execution_count": 10,
   "metadata": {},
   "outputs": [
    {
     "data": {
      "text/plain": [
       "(['글꼴',\n",
       "  '부리',\n",
       "  '화면용',\n",
       "  '디지털',\n",
       "  '크',\n",
       "  '매체',\n",
       "  '설계',\n",
       "  '새롭',\n",
       "  '환경',\n",
       "  '따르',\n",
       "  '한글',\n",
       "  '네이버',\n",
       "  '함께',\n",
       "  '예정',\n",
       "  '완성도',\n",
       "  '게',\n",
       "  '등',\n",
       "  '사용자',\n",
       "  '맞추',\n",
       "  '한글꼴'],\n",
       " '디지털 환경 맞춰 기술력 더해 사용자와 함께 개발…2021년 무료 공개 네이버는 디지털 환경에 맞춰 한글꼴의 원형을 잇는 화면용 \\'마루 부리 글꼴\\'을 개발한다고 1일 밝혔다. 프로젝트 초기 단계부터 한글 사용자와 함께 한글꼴의 의미와 방향을 고민하고 새로운 화면용 글꼴을 설계해 나간다는 게 큰 뼈대다. 안상수 한글 타이포그래피 디자이너와 일반 한글 사용자가 함께 새로운 화면용 \\'마루 부리 글꼴\\'을 설계할 예정이다.네이버에 따르면 부리 글꼴은 조선시대 붓으로 다듬어진 궁체 중 해서체를 인쇄용 활자에 맞게 정리한 글꼴로, 글자 줄기에 부리가 없는 민부리 글꼴과 차이가 있다. 부리 글꼴은 서예에 기본을 두고 있어 손글씨와 같이 미세한 필압 표현과 높낮이가 있는 둥근 획, 감정이 담긴 섬세한 미감을 표현한다. 이에 인간적이고 친숙하며 따뜻한 감성이 담겨 있어 오늘날 신문, 잡지, 동화책 등의 인쇄 매체에 주로 쓰이고 있다.1990년대 화면용 한글 글꼴은 해상도의 한계 등으로 인해 저해상도 화면에서도 일그러짐이 적은 민부리 글꼴을 중심으로 개발돼 왔다. 하지만 디지털 화면 출력 기술이 발전함에 따라 완성도 높은 부리 글꼴 개발에 대한 요구가 커지고 있다. 이에 다양한 디지털 매체 환경에서는 완성도 높은 화면용 부리 글꼴의 개발이 반드시 필요하다는 게 네이버의 설명이다.\\'마루 부리 글꼴\\' 디자인은 크게 확장성, 가독성, 유용성 3가지 기준으로 설계될 예정이다. 그동안 전통적 의미에서 해석되던 부리의 개념을 확장해 새로운 미감과 안정감을 담는다. 또한 스마트폰에서 긴 글을 잘 읽을 수 있도록 화면에 알맞고 눈이 편안한 글꼴 형태와 구조로 가독성을 높일 방침이다. 이를 바탕으로 다양한 포맷을 지원해 한글 사용자의 유용성을 향상시킬 젊은 \\'마루 부리 글꼴\\'을 개발한다는 계획이다. 마루 부리 글꼴은 2021년 일반 한글 사용자들에게 무료로 배포된다.네이버는 이를 위해 지난해부터 동아시아 문화권의 글꼴 현황 분석과 화면용 글꼴 형태 및 공간 분석을 진행해왔다. 8월부터는 사용자와 함께 하는 다양한 워크숍, 세미나 등을 진행할 계획이다. 특히 이번 프로젝트는 사용자들의 의견을 글꼴 디자이너와 공유하며 반영해가는 새로운 방식을 선보인다. 네이버는 매월 글꼴의 설계 과정을 꾸준히 기록해 나갈 예정이다.안상수 마루프로젝트 디렉터는 \"종이에서 화면으로 미디어 환경이 바뀐 오늘날, 다양한 기술과 매체 변화에 적응하는 새로운 개념의 글꼴 설계 방식이 필요하다\"면서 \"세종의 정신과 최정호의 미감, 미래 한글 사용자를 올곧게 잇는 화면용 부리 글꼴을 만들 수 있도록 노력하겠다\"고 했다.')"
      ]
     },
     "execution_count": 10,
     "metadata": {},
     "output_type": "execute_result"
    }
   ],
   "source": [
    "newsKeywords(url,20)"
   ]
  },
  {
   "cell_type": "code",
   "execution_count": 413,
   "metadata": {},
   "outputs": [],
   "source": []
  },
  {
   "cell_type": "code",
   "execution_count": null,
   "metadata": {},
   "outputs": [],
   "source": []
  }
 ],
 "metadata": {
  "kernelspec": {
   "display_name": "Python 3",
   "language": "python",
   "name": "python3"
  },
  "language_info": {
   "codemirror_mode": {
    "name": "ipython",
    "version": 3
   },
   "file_extension": ".py",
   "mimetype": "text/x-python",
   "name": "python",
   "nbconvert_exporter": "python",
   "pygments_lexer": "ipython3",
   "version": "3.7.3"
  }
 },
 "nbformat": 4,
 "nbformat_minor": 2
}
