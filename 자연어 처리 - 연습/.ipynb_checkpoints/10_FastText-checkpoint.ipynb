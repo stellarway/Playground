{
 "cells": [
  {
   "cell_type": "markdown",
   "metadata": {},
   "source": [
    "# FastText"
   ]
  },
  {
   "cell_type": "code",
   "execution_count": 2,
   "metadata": {
    "scrolled": true
   },
   "outputs": [
    {
     "name": "stderr",
     "output_type": "stream",
     "text": [
      "C:\\ProgramData\\Anaconda3\\lib\\site-packages\\gensim\\utils.py:1197: UserWarning: detected Windows; aliasing chunkize to chunkize_serial\n",
      "  warnings.warn(\"detected Windows; aliasing chunkize to chunkize_serial\")\n"
     ]
    }
   ],
   "source": [
    "from gensim.models.word2vec import Text8Corpus\n",
    "from gensim.models import FastText"
   ]
  },
  {
   "cell_type": "code",
   "execution_count": 10,
   "metadata": {},
   "outputs": [
    {
     "name": "stdout",
     "output_type": "stream",
     "text": [
      "Wall time: 0 ns\n"
     ]
    }
   ],
   "source": [
    "%%time\n",
    "file = r'C:\\Users\\student\\Documents\\csvData/text8'"
   ]
  },
  {
   "cell_type": "code",
   "execution_count": 9,
   "metadata": {},
   "outputs": [
    {
     "name": "stdout",
     "output_type": "stream",
     "text": [
      "Wall time: 4min 54s\n"
     ]
    }
   ],
   "source": [
    "%time ft_model = FastText(Text8Corpus(file), size = 100, window = 5, min_count = 150, workers= 4, min_n=3, max_n=10)"
   ]
  },
  {
   "cell_type": "code",
   "execution_count": 11,
   "metadata": {},
   "outputs": [
    {
     "name": "stdout",
     "output_type": "stream",
     "text": [
      "[('vienna', 0.7765888571739197), ('florence', 0.7322289943695068), ('brussels', 0.7123591899871826), ('leipzig', 0.7033532857894897), ('venice', 0.6758986115455627), ('france', 0.6669994592666626), ('francesco', 0.6566206812858582), ('berlin', 0.6514475345611572), ('amsterdam', 0.650059700012207), ('barcelona', 0.6420822143554688)]\n",
      "[('emperor', 0.7265081405639648), ('throne', 0.6924055814743042), ('prince', 0.6887445449829102)]\n",
      "[('mother', 0.7904558181762695), ('grandfather', 0.7397801876068115), ('wife', 0.7296619415283203)]\n",
      "[('vienna', 0.7113426327705383), ('florence', 0.6458373069763184), ('moscow', 0.6256049275398254)]\n"
     ]
    },
    {
     "name": "stderr",
     "output_type": "stream",
     "text": [
      "C:\\ProgramData\\Anaconda3\\lib\\site-packages\\ipykernel_launcher.py:2: DeprecationWarning: Call to deprecated `most_similar` (Method will be removed in 4.0.0, use self.wv.most_similar() instead).\n",
      "  \n",
      "C:\\ProgramData\\Anaconda3\\lib\\site-packages\\ipykernel_launcher.py:3: DeprecationWarning: Call to deprecated `most_similar` (Method will be removed in 4.0.0, use self.wv.most_similar() instead).\n",
      "  This is separate from the ipykernel package so we can avoid doing imports until\n",
      "C:\\ProgramData\\Anaconda3\\lib\\site-packages\\ipykernel_launcher.py:4: DeprecationWarning: Call to deprecated `most_similar` (Method will be removed in 4.0.0, use self.wv.most_similar() instead).\n",
      "  after removing the cwd from sys.path.\n"
     ]
    }
   ],
   "source": [
    "print(ft_model.wv.most_similar('paris'))\n",
    "print(ft_model.most_similar(['woman','king'], ['man'], topn=3))\n",
    "print(ft_model.most_similar(['girl','father'], ['boy'], topn=3))\n",
    "print(ft_model.most_similar(['paris','italy'], ['france'], topn=3))\n"
   ]
  },
  {
   "cell_type": "code",
   "execution_count": 12,
   "metadata": {},
   "outputs": [
    {
     "name": "stdout",
     "output_type": "stream",
     "text": [
      "[ 1.0481459   0.0044421  -0.60546374  0.07556214  1.108702    0.45900753\n",
      "  0.5372795  -0.741015   -0.38542646  0.7702535  -0.7788975   0.28870836\n",
      "  0.6446162  -1.6211956  -0.35190904 -0.63141537  0.5549455   0.14204317\n",
      " -0.5183622  -0.6386446   0.63419074 -0.9046936   0.13868792 -0.6528161\n",
      "  0.9458082  -0.4036204   0.2510703  -0.6131617  -0.49705657 -1.506374\n",
      "  0.10697059  0.61895543 -0.92559665  0.8092842   1.6680346  -0.2765309\n",
      " -0.29261854 -0.52076226  1.2045381  -1.012139   -0.554341   -0.60894513\n",
      "  0.11336452  0.95854133  1.0669128   0.673064   -1.7040554  -1.7014353\n",
      "  0.24246594 -0.13391043  0.16838959  0.87462294  0.00293234  0.95505524\n",
      "  1.593475   -0.22790565  0.8094892   1.0379661  -2.1967752   1.4931746\n",
      " -0.03302369 -0.3646863  -0.03442531 -0.7626164  -0.01605014 -0.107116\n",
      "  0.5478629  -0.6653371  -0.6398625  -0.41150042 -0.8075739  -0.20377092\n",
      "  0.48955593 -0.7302785   0.44291762 -0.15740779  1.1868557  -0.8405665\n",
      " -0.04987407 -0.88254154 -0.05976341 -0.44164944 -0.04944499  0.9014164\n",
      "  0.5074083  -0.02890537  0.06200126  0.2394078  -0.38366586  0.2939847\n",
      "  0.63906145  1.4291028   0.58979005 -1.4361316   0.32330143  0.69173485\n",
      " -0.42731163 -1.1064614  -0.43144092  0.30768007]\n",
      "[('venice', 0.8083049058914185), ('brussels', 0.7118700742721558), ('hamburg', 0.7101774215698242)]\n",
      "[('what', 0.8653122186660767), ('whatever', 0.7491812705993652), ('why', 0.6424389481544495)]\n"
     ]
    },
    {
     "name": "stderr",
     "output_type": "stream",
     "text": [
      "C:\\ProgramData\\Anaconda3\\lib\\site-packages\\ipykernel_launcher.py:2: DeprecationWarning: Call to deprecated `most_similar` (Method will be removed in 4.0.0, use self.wv.most_similar() instead).\n",
      "  \n",
      "C:\\ProgramData\\Anaconda3\\lib\\site-packages\\ipykernel_launcher.py:3: DeprecationWarning: Call to deprecated `most_similar` (Method will be removed in 4.0.0, use self.wv.most_similar() instead).\n",
      "  This is separate from the ipykernel package so we can avoid doing imports until\n"
     ]
    }
   ],
   "source": [
    "print(ft_model.wv['veniciaaaaaa'])\n",
    "print(ft_model.most_similar('veniciaaaaaa', topn=3))\n",
    "print(ft_model.most_similar('whaaaa', topn=3))"
   ]
  },
  {
   "cell_type": "code",
   "execution_count": null,
   "metadata": {},
   "outputs": [],
   "source": []
  }
 ],
 "metadata": {
  "kernelspec": {
   "display_name": "Python 3",
   "language": "python",
   "name": "python3"
  },
  "language_info": {
   "codemirror_mode": {
    "name": "ipython",
    "version": 3
   },
   "file_extension": ".py",
   "mimetype": "text/x-python",
   "name": "python",
   "nbconvert_exporter": "python",
   "pygments_lexer": "ipython3",
   "version": "3.7.3"
  }
 },
 "nbformat": 4,
 "nbformat_minor": 2
}
