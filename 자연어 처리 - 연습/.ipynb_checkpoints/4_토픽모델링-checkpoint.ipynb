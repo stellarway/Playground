{
 "cells": [
  {
   "cell_type": "code",
   "execution_count": 2,
   "metadata": {},
   "outputs": [],
   "source": [
    "import re\n",
    "import pandas as pd\n",
    "import numpy as np"
   ]
  },
  {
   "cell_type": "code",
   "execution_count": 27,
   "metadata": {},
   "outputs": [],
   "source": [
    "doc_ls = ['바나나 사과 포도 포도',\n",
    "'사과 포도',\n",
    "'포도 바나나',\n",
    "'짜장면 짬뽕 탕수욕',\n",
    "'볶음밥 탕수욕',\n",
    "'짜장면 짬뽕',\n",
    "'라면 스시',\n",
    "'스시',\n",
    "'가츠동 스시 소바',\n",
    "'된장찌개 김치찌개 김치',\n",
    "'김치 된장',\n",
    "'비빔밥 김치'\n",
    "]"
   ]
  },
  {
   "cell_type": "code",
   "execution_count": 52,
   "metadata": {},
   "outputs": [],
   "source": [
    "class LSA :\n",
    "    def __init__(self, doc_ls, topic_num):\n",
    "        self. doc_ls = doc_ls\n",
    "        self.topic_num = topic_num\n",
    "        self.bow  = list(set(re.sub(\"'|,|\\[|\\]\", \"\", str(self.doc_ls)).split(' ')))\n",
    "        self.U, self.S, self.Vt = self.SVD(self.TDM(self.doc_ls))\n",
    "        self.u, self.s, self.vt = self.trunc(self.U, self.S, self.Vt)\n",
    "    # tdm matrix 생성\n",
    "    def TDM(self, doc_ls):\n",
    "        \n",
    "        TDM = pd.DataFrame(np.zeros(( len(self.bow),  len(self.doc_ls))), index= self.bow) \n",
    "        a = [doc.split() for doc in self.doc_ls]\n",
    "        for idx in range(len(a)):\n",
    "            for i in a[idx]:\n",
    "                TDM[idx][i] +=1\n",
    "        return TDM\n",
    "    \n",
    "    # tdm matrix 특이값 분해(SVD)\n",
    "    # U, s, Vt로 분해\n",
    "    def SVD(self, TDM):\n",
    "        U, s, Vt = np.linalg.svd(TDM)\n",
    "        return U, s, Vt\n",
    "    def trunc(self, U,s,Vt) :\n",
    "        U_trunc = U[:,:self.topic_num]\n",
    "        s_trunc = s[:self.topic_num]*np.eye(self.topic_num)\n",
    "        Vt_trunc = Vt[:,:self.topic_num]\n",
    "        return U_trunc, s_trunc, Vt_trunc\n",
    "    # 단어 벡터 행렬 생성 dot(U,s)\n",
    "    def TopicModeling(self) :\n",
    "        uDf = pd.DataFrame(self.u, index = self.bow)\n",
    "        for i in range(topic_num):\n",
    "            keywords = dict(uDf.sort_values(by = i, ascending=False))\n",
    "            print('Topic{}-{}'.format(i,keywords))\n",
    "            \n",
    "    # 단어 벡터 행렬 생성 dot(U,s)\n",
    "    def TermVectorMatrix(self, u, s):\n",
    "        wordsVec  = np.dot(u,s)\n",
    "        return wordsVec\n",
    "    \n",
    "    # 문서 벡터 행렬 생성 dot(s,Vt).T\n",
    "    def DocVectorMatrix(self, s, vt):\n",
    "        docsVec = np.dot(vt, s)\n",
    "        return docVec\n",
    "    \n",
    "    # 키워드를 입력했을 때 단어 벡터 반환\n",
    "    def GetTermVector(self, term):\n",
    "#         u, s, vt = self.TopicModeling(self.SVD(self.TDM(self.doc_ls)))\n",
    "        wordsVec = self.TermVectorMatrix(self.u, self.s)\n",
    "        return wordsVec[self.bow.index(term)]\n",
    "    # 문서를 입력했을 때 문서 벡터 반환\n",
    "    def GetDocVector(self, doc):\n",
    "#         u, s, vt = self.TopicModeling(self.SVD(self.TDM(self.doc_ls)))\n",
    "        docsVec = self.DocVectorMatrix(self.s, self.vt)\n",
    "        return docsVec[self.doc_ls.index(doc)]\n",
    "    # 단어-문서 벡터 행렬 생성\n",
    "    def TermDocVectorMatrix(self, u, s, vt):\n",
    "        wordsVec = self.TermVectorMatrix(self.u, self.s)\n",
    "        docsVec = self.DocVectorMatrix(self.s, self.vt)\n",
    "        return np.dot(wordsVec,docsVec.T)\n",
    "        \n",
    "    # 단어 벡터 행렬에서 단어 간 코사인 유사도 측정하여 행렬형태로 반환\n",
    "    def TermSimilarityMatrix(self, term_vec_matrix):\n",
    "        term_vec_matrix = self.TermVectorMatrix(self.u, self.s)\n",
    "        termSim = np.zeros(len(self.bow),len(self.bow))\n",
    "        \n",
    "        for vec1 in term_vec_matrix:\n",
    "            for vec2 in term_vec_matrix:\n",
    "                termSim[vec1][vec2] = np.dot(vec1, vec2) / (np.linalg.norm(vec1)*np.linalg.norm(vec2))\n",
    "        return termSim\n",
    "    \n",
    "    # 두개 단어를 입력했을 때 코사인 유사도 반환\n",
    "    def GetTermSimilarity(self, term1, term2):\n",
    "        termSim = self.TermSimilarityMatrix(self.TermVectorMatrix(self.u, self.s))\n",
    "        termSimDf = pd.DataFrame(termSim, columns=self.bow, index= self.bow)\n",
    "        return termSimDf[term1][term2]\n",
    "        \n",
    "    # 문서 벡터 행렬에서 문서 간 코사인 유사도 측정하여 행렬형태로 반환\n",
    "    def DocSimilarityMartrix(self, doc_vec_matrix):\n",
    "        doc_vec_matrix = self.DocVectorMatrix(self.s, self.vt)\n",
    "        docSim = np.zeros(len(self.doc_ls),len(self.doc_ls))\n",
    "        \n",
    "        for vec1 in doc_vec_matrix:\n",
    "            for vec2 in doc_vec_matrix:\n",
    "                docSim[vec1][vec2] = np.dot(vec1, vec2) / (np.linalg.norm(vec1)*np.linalg.norm(vec2))\n",
    "        return docSim\n",
    "        \n",
    "    # 두개 문서를 입력했을 때 코사인 유사도 반환\n",
    "    def GetDocSimilarity(self, doc1, doc2):\n",
    "        docSim = self.DocSimilarityMatrix(self.DocVectorMatrix(self.s, self.vt))\n",
    "        docSimDf = pd.DataFrame(docSim, columns=self.doc_ls, index= self.doc_ls)\n",
    "        return docSimDf[doc1][doc2]"
   ]
  },
  {
   "cell_type": "code",
   "execution_count": 53,
   "metadata": {},
   "outputs": [
    {
     "name": "stdout",
     "output_type": "stream",
     "text": [
      "Topic0-{0: 된장찌개    0.000000\n",
      "김치찌개    0.000000\n",
      "김치      0.000000\n",
      "스시      0.000000\n",
      "짬뽕      0.000000\n",
      "라면      0.000000\n",
      "된장      0.000000\n",
      "탕수욕     0.000000\n",
      "비빔밥     0.000000\n",
      "소바      0.000000\n",
      "가츠동     0.000000\n",
      "짜장면     0.000000\n",
      "볶음밥     0.000000\n",
      "바나나    -0.408248\n",
      "사과     -0.408248\n",
      "포도     -0.816497\n",
      "Name: 0, dtype: float64, 1: 된장찌개   -5.023430e-17\n",
      "김치찌개   -5.415803e-17\n",
      "김치      4.016462e-17\n",
      "스시     -4.315491e-16\n",
      "짬뽕      6.120248e-01\n",
      "라면     -1.804112e-16\n",
      "된장      1.799156e-17\n",
      "탕수욕     4.842878e-01\n",
      "비빔밥     3.013463e-17\n",
      "소바     -1.821460e-16\n",
      "가츠동    -1.821460e-16\n",
      "짜장면     6.120248e-01\n",
      "볶음밥     1.277370e-01\n",
      "바나나    -2.002163e-16\n",
      "사과      2.537639e-16\n",
      "포도     -2.677378e-17\n",
      "Name: 1, dtype: float64, 2: 된장찌개    3.365568e-01\n",
      "김치찌개    3.365568e-01\n",
      "김치      8.125199e-01\n",
      "스시      0.000000e+00\n",
      "짬뽕     -7.314862e-18\n",
      "라면      0.000000e+00\n",
      "된장      2.379816e-01\n",
      "탕수욕     0.000000e+00\n",
      "비빔밥     2.379816e-01\n",
      "소바      0.000000e+00\n",
      "가츠동     0.000000e+00\n",
      "짜장면    -7.314862e-18\n",
      "볶음밥     0.000000e+00\n",
      "바나나     0.000000e+00\n",
      "사과      2.775558e-17\n",
      "포도      5.551115e-17\n",
      "Name: 2, dtype: float64, 3: 된장찌개   -3.783629e-18\n",
      "김치찌개    8.612099e-17\n",
      "김치     -8.495587e-17\n",
      "스시     -8.152247e-01\n",
      "짬뽕     -5.798607e-16\n",
      "라면     -2.536228e-01\n",
      "된장      5.551115e-17\n",
      "탕수욕     3.313322e-16\n",
      "비빔밥    -5.551115e-17\n",
      "소바     -3.681604e-01\n",
      "가츠동    -3.681604e-01\n",
      "짜장면    -5.694523e-16\n",
      "볶음밥     2.810252e-16\n",
      "바나나    -4.607264e-17\n",
      "사과     -2.756426e-17\n",
      "포도      3.681845e-17\n",
      "Name: 3, dtype: float64}\n",
      "Topic1-{0: 짜장면     0.000000\n",
      "짬뽕      0.000000\n",
      "탕수욕     0.000000\n",
      "볶음밥     0.000000\n",
      "사과     -0.408248\n",
      "김치      0.000000\n",
      "비빔밥     0.000000\n",
      "된장      0.000000\n",
      "포도     -0.816497\n",
      "된장찌개    0.000000\n",
      "김치찌개    0.000000\n",
      "라면      0.000000\n",
      "소바      0.000000\n",
      "가츠동     0.000000\n",
      "바나나    -0.408248\n",
      "스시      0.000000\n",
      "Name: 0, dtype: float64, 1: 짜장면     6.120248e-01\n",
      "짬뽕      6.120248e-01\n",
      "탕수욕     4.842878e-01\n",
      "볶음밥     1.277370e-01\n",
      "사과      2.537639e-16\n",
      "김치      4.016462e-17\n",
      "비빔밥     3.013463e-17\n",
      "된장      1.799156e-17\n",
      "포도     -2.677378e-17\n",
      "된장찌개   -5.023430e-17\n",
      "김치찌개   -5.415803e-17\n",
      "라면     -1.804112e-16\n",
      "소바     -1.821460e-16\n",
      "가츠동    -1.821460e-16\n",
      "바나나    -2.002163e-16\n",
      "스시     -4.315491e-16\n",
      "Name: 1, dtype: float64, 2: 짜장면    -7.314862e-18\n",
      "짬뽕     -7.314862e-18\n",
      "탕수욕     0.000000e+00\n",
      "볶음밥     0.000000e+00\n",
      "사과      2.775558e-17\n",
      "김치      8.125199e-01\n",
      "비빔밥     2.379816e-01\n",
      "된장      2.379816e-01\n",
      "포도      5.551115e-17\n",
      "된장찌개    3.365568e-01\n",
      "김치찌개    3.365568e-01\n",
      "라면      0.000000e+00\n",
      "소바      0.000000e+00\n",
      "가츠동     0.000000e+00\n",
      "바나나     0.000000e+00\n",
      "스시      0.000000e+00\n",
      "Name: 2, dtype: float64, 3: 짜장면    -5.694523e-16\n",
      "짬뽕     -5.798607e-16\n",
      "탕수욕     3.313322e-16\n",
      "볶음밥     2.810252e-16\n",
      "사과     -2.756426e-17\n",
      "김치     -8.495587e-17\n",
      "비빔밥    -5.551115e-17\n",
      "된장      5.551115e-17\n",
      "포도      3.681845e-17\n",
      "된장찌개   -3.783629e-18\n",
      "김치찌개    8.612099e-17\n",
      "라면     -2.536228e-01\n",
      "소바     -3.681604e-01\n",
      "가츠동    -3.681604e-01\n",
      "바나나    -4.607264e-17\n",
      "스시     -8.152247e-01\n",
      "Name: 3, dtype: float64}\n",
      "Topic2-{0: 김치      0.000000\n",
      "된장찌개    0.000000\n",
      "김치찌개    0.000000\n",
      "된장      0.000000\n",
      "비빔밥     0.000000\n",
      "포도     -0.816497\n",
      "사과     -0.408248\n",
      "스시      0.000000\n",
      "라면      0.000000\n",
      "탕수욕     0.000000\n",
      "소바      0.000000\n",
      "가츠동     0.000000\n",
      "바나나    -0.408248\n",
      "볶음밥     0.000000\n",
      "짬뽕      0.000000\n",
      "짜장면     0.000000\n",
      "Name: 0, dtype: float64, 1: 김치      4.016462e-17\n",
      "된장찌개   -5.023430e-17\n",
      "김치찌개   -5.415803e-17\n",
      "된장      1.799156e-17\n",
      "비빔밥     3.013463e-17\n",
      "포도     -2.677378e-17\n",
      "사과      2.537639e-16\n",
      "스시     -4.315491e-16\n",
      "라면     -1.804112e-16\n",
      "탕수욕     4.842878e-01\n",
      "소바     -1.821460e-16\n",
      "가츠동    -1.821460e-16\n",
      "바나나    -2.002163e-16\n",
      "볶음밥     1.277370e-01\n",
      "짬뽕      6.120248e-01\n",
      "짜장면     6.120248e-01\n",
      "Name: 1, dtype: float64, 2: 김치      8.125199e-01\n",
      "된장찌개    3.365568e-01\n",
      "김치찌개    3.365568e-01\n",
      "된장      2.379816e-01\n",
      "비빔밥     2.379816e-01\n",
      "포도      5.551115e-17\n",
      "사과      2.775558e-17\n",
      "스시      0.000000e+00\n",
      "라면      0.000000e+00\n",
      "탕수욕     0.000000e+00\n",
      "소바      0.000000e+00\n",
      "가츠동     0.000000e+00\n",
      "바나나     0.000000e+00\n",
      "볶음밥     0.000000e+00\n",
      "짬뽕     -7.314862e-18\n",
      "짜장면    -7.314862e-18\n",
      "Name: 2, dtype: float64, 3: 김치     -8.495587e-17\n",
      "된장찌개   -3.783629e-18\n",
      "김치찌개    8.612099e-17\n",
      "된장      5.551115e-17\n",
      "비빔밥    -5.551115e-17\n",
      "포도      3.681845e-17\n",
      "사과     -2.756426e-17\n",
      "스시     -8.152247e-01\n",
      "라면     -2.536228e-01\n",
      "탕수욕     3.313322e-16\n",
      "소바     -3.681604e-01\n",
      "가츠동    -3.681604e-01\n",
      "바나나    -4.607264e-17\n",
      "볶음밥     2.810252e-16\n",
      "짬뽕     -5.798607e-16\n",
      "짜장면    -5.694523e-16\n",
      "Name: 3, dtype: float64}\n"
     ]
    },
    {
     "ename": "TypeError",
     "evalue": "data type not understood",
     "output_type": "error",
     "traceback": [
      "\u001b[1;31m---------------------------------------------------------------------------\u001b[0m",
      "\u001b[1;31mTypeError\u001b[0m                                 Traceback (most recent call last)",
      "\u001b[1;32m<ipython-input-53-7ee6e4768eb4>\u001b[0m in \u001b[0;36m<module>\u001b[1;34m\u001b[0m\n\u001b[0;32m      1\u001b[0m \u001b[0mlsa\u001b[0m \u001b[1;33m=\u001b[0m \u001b[0mLSA\u001b[0m\u001b[1;33m(\u001b[0m\u001b[0mdoc_ls\u001b[0m\u001b[1;33m,\u001b[0m \u001b[1;36m4\u001b[0m\u001b[1;33m)\u001b[0m\u001b[1;33m\u001b[0m\u001b[1;33m\u001b[0m\u001b[0m\n\u001b[0;32m      2\u001b[0m \u001b[0mlsa\u001b[0m\u001b[1;33m.\u001b[0m\u001b[0mTopicModeling\u001b[0m\u001b[1;33m(\u001b[0m\u001b[1;33m)\u001b[0m\u001b[1;33m\u001b[0m\u001b[1;33m\u001b[0m\u001b[0m\n\u001b[1;32m----> 3\u001b[1;33m \u001b[0mlsa\u001b[0m\u001b[1;33m.\u001b[0m\u001b[0mGetTermSimilarity\u001b[0m\u001b[1;33m(\u001b[0m\u001b[1;34m'사과'\u001b[0m\u001b[1;33m,\u001b[0m\u001b[1;34m'바나나'\u001b[0m\u001b[1;33m)\u001b[0m\u001b[1;33m\u001b[0m\u001b[1;33m\u001b[0m\u001b[0m\n\u001b[0m\u001b[0;32m      4\u001b[0m \u001b[0mlsa\u001b[0m\u001b[1;33m.\u001b[0m\u001b[0mGetTermSimilarity\u001b[0m\u001b[1;33m(\u001b[0m\u001b[1;34m'사과'\u001b[0m\u001b[1;33m,\u001b[0m\u001b[1;34m'짜장면'\u001b[0m\u001b[1;33m)\u001b[0m\u001b[1;33m\u001b[0m\u001b[1;33m\u001b[0m\u001b[0m\n\u001b[0;32m      5\u001b[0m \u001b[0mlsa\u001b[0m\u001b[1;33m.\u001b[0m\u001b[0mGetDocSimilarity\u001b[0m\u001b[1;33m(\u001b[0m\u001b[1;34m'사과 포도'\u001b[0m\u001b[1;33m,\u001b[0m \u001b[1;34m'포도 바나나'\u001b[0m\u001b[1;33m)\u001b[0m\u001b[1;33m\u001b[0m\u001b[1;33m\u001b[0m\u001b[0m\n",
      "\u001b[1;32m<ipython-input-52-12d8f2ba4306>\u001b[0m in \u001b[0;36mGetTermSimilarity\u001b[1;34m(self, term1, term2)\u001b[0m\n\u001b[0;32m     71\u001b[0m     \u001b[1;31m# 두개 단어를 입력했을 때 코사인 유사도 반환\u001b[0m\u001b[1;33m\u001b[0m\u001b[1;33m\u001b[0m\u001b[1;33m\u001b[0m\u001b[0m\n\u001b[0;32m     72\u001b[0m     \u001b[1;32mdef\u001b[0m \u001b[0mGetTermSimilarity\u001b[0m\u001b[1;33m(\u001b[0m\u001b[0mself\u001b[0m\u001b[1;33m,\u001b[0m \u001b[0mterm1\u001b[0m\u001b[1;33m,\u001b[0m \u001b[0mterm2\u001b[0m\u001b[1;33m)\u001b[0m\u001b[1;33m:\u001b[0m\u001b[1;33m\u001b[0m\u001b[1;33m\u001b[0m\u001b[0m\n\u001b[1;32m---> 73\u001b[1;33m         \u001b[0mtermSim\u001b[0m \u001b[1;33m=\u001b[0m \u001b[0mself\u001b[0m\u001b[1;33m.\u001b[0m\u001b[0mTermSimilarityMatrix\u001b[0m\u001b[1;33m(\u001b[0m\u001b[0mself\u001b[0m\u001b[1;33m.\u001b[0m\u001b[0mTermVectorMatrix\u001b[0m\u001b[1;33m(\u001b[0m\u001b[0mself\u001b[0m\u001b[1;33m.\u001b[0m\u001b[0mu\u001b[0m\u001b[1;33m,\u001b[0m \u001b[0mself\u001b[0m\u001b[1;33m.\u001b[0m\u001b[0ms\u001b[0m\u001b[1;33m)\u001b[0m\u001b[1;33m)\u001b[0m\u001b[1;33m\u001b[0m\u001b[1;33m\u001b[0m\u001b[0m\n\u001b[0m\u001b[0;32m     74\u001b[0m         \u001b[0mtermSimDf\u001b[0m \u001b[1;33m=\u001b[0m \u001b[0mpd\u001b[0m\u001b[1;33m.\u001b[0m\u001b[0mDataFrame\u001b[0m\u001b[1;33m(\u001b[0m\u001b[0mtermSim\u001b[0m\u001b[1;33m,\u001b[0m \u001b[0mcolumns\u001b[0m\u001b[1;33m=\u001b[0m\u001b[0mself\u001b[0m\u001b[1;33m.\u001b[0m\u001b[0mbow\u001b[0m\u001b[1;33m,\u001b[0m \u001b[0mindex\u001b[0m\u001b[1;33m=\u001b[0m \u001b[0mself\u001b[0m\u001b[1;33m.\u001b[0m\u001b[0mbow\u001b[0m\u001b[1;33m)\u001b[0m\u001b[1;33m\u001b[0m\u001b[1;33m\u001b[0m\u001b[0m\n\u001b[0;32m     75\u001b[0m         \u001b[1;32mreturn\u001b[0m \u001b[0mtermSimDf\u001b[0m\u001b[1;33m[\u001b[0m\u001b[0mterm1\u001b[0m\u001b[1;33m]\u001b[0m\u001b[1;33m[\u001b[0m\u001b[0mterm2\u001b[0m\u001b[1;33m]\u001b[0m\u001b[1;33m\u001b[0m\u001b[1;33m\u001b[0m\u001b[0m\n",
      "\u001b[1;32m<ipython-input-52-12d8f2ba4306>\u001b[0m in \u001b[0;36mTermSimilarityMatrix\u001b[1;34m(self, term_vec_matrix)\u001b[0m\n\u001b[0;32m     62\u001b[0m     \u001b[1;32mdef\u001b[0m \u001b[0mTermSimilarityMatrix\u001b[0m\u001b[1;33m(\u001b[0m\u001b[0mself\u001b[0m\u001b[1;33m,\u001b[0m \u001b[0mterm_vec_matrix\u001b[0m\u001b[1;33m)\u001b[0m\u001b[1;33m:\u001b[0m\u001b[1;33m\u001b[0m\u001b[1;33m\u001b[0m\u001b[0m\n\u001b[0;32m     63\u001b[0m         \u001b[0mterm_vec_matrix\u001b[0m \u001b[1;33m=\u001b[0m \u001b[0mself\u001b[0m\u001b[1;33m.\u001b[0m\u001b[0mTermVectorMatrix\u001b[0m\u001b[1;33m(\u001b[0m\u001b[0mself\u001b[0m\u001b[1;33m.\u001b[0m\u001b[0mu\u001b[0m\u001b[1;33m,\u001b[0m \u001b[0mself\u001b[0m\u001b[1;33m.\u001b[0m\u001b[0ms\u001b[0m\u001b[1;33m)\u001b[0m\u001b[1;33m\u001b[0m\u001b[1;33m\u001b[0m\u001b[0m\n\u001b[1;32m---> 64\u001b[1;33m         \u001b[0mtermSim\u001b[0m \u001b[1;33m=\u001b[0m \u001b[0mnp\u001b[0m\u001b[1;33m.\u001b[0m\u001b[0mzeros\u001b[0m\u001b[1;33m(\u001b[0m\u001b[0mlen\u001b[0m\u001b[1;33m(\u001b[0m\u001b[0mself\u001b[0m\u001b[1;33m.\u001b[0m\u001b[0mbow\u001b[0m\u001b[1;33m)\u001b[0m\u001b[1;33m,\u001b[0m\u001b[0mlen\u001b[0m\u001b[1;33m(\u001b[0m\u001b[0mself\u001b[0m\u001b[1;33m.\u001b[0m\u001b[0mbow\u001b[0m\u001b[1;33m)\u001b[0m\u001b[1;33m)\u001b[0m\u001b[1;33m\u001b[0m\u001b[1;33m\u001b[0m\u001b[0m\n\u001b[0m\u001b[0;32m     65\u001b[0m \u001b[1;33m\u001b[0m\u001b[0m\n\u001b[0;32m     66\u001b[0m         \u001b[1;32mfor\u001b[0m \u001b[0mvec1\u001b[0m \u001b[1;32min\u001b[0m \u001b[0mterm_vec_matrix\u001b[0m\u001b[1;33m:\u001b[0m\u001b[1;33m\u001b[0m\u001b[1;33m\u001b[0m\u001b[0m\n",
      "\u001b[1;31mTypeError\u001b[0m: data type not understood"
     ]
    }
   ],
   "source": [
    "lsa = LSA(doc_ls, 4)\n",
    "lsa.TopicModeling()\n",
    "lsa.GetTermSimilarity('사과','바나나')\n",
    "lsa.GetTermSimilarity('사과','짜장면')\n",
    "lsa.GetDocSimilarity('사과 포도', '포도 바나나')\n",
    "lsa.GetDocSimilarity('사과 포도', '라면 스시')\n",
    "lsa.GetTermDocSimilarity('사과', '포도 바나나')\n",
    "lsa.GetTermDocSimilarity('사과', '김치 된장')"
   ]
  },
  {
   "cell_type": "markdown",
   "metadata": {},
   "source": [
    "# TDM 생성"
   ]
  },
  {
   "cell_type": "markdown",
   "metadata": {},
   "source": [
    "# 특이값 분해 (SVD)"
   ]
  },
  {
   "cell_type": "markdown",
   "metadata": {},
   "source": [
    "# 토픽 모델링"
   ]
  },
  {
   "cell_type": "markdown",
   "metadata": {},
   "source": [
    "# 단어 벡터 행렬 생성"
   ]
  },
  {
   "cell_type": "code",
   "execution_count": 12,
   "metadata": {},
   "outputs": [],
   "source": []
  },
  {
   "cell_type": "code",
   "execution_count": 13,
   "metadata": {},
   "outputs": [
    {
     "data": {
      "text/plain": [
       "(16, 3)"
      ]
     },
     "execution_count": 13,
     "metadata": {},
     "output_type": "execute_result"
    }
   ],
   "source": [
    "np.dot(U_trunc,s_trunc).shape"
   ]
  },
  {
   "cell_type": "markdown",
   "metadata": {},
   "source": [
    "# 문서 벡터 행렬 생성"
   ]
  },
  {
   "cell_type": "code",
   "execution_count": 14,
   "metadata": {},
   "outputs": [],
   "source": [
    "docsVec = np.dot(Vt_trunc, s_trunc)"
   ]
  },
  {
   "cell_type": "markdown",
   "metadata": {},
   "source": [
    "# 키워드를 입력했을 때 단어 벡터 반환"
   ]
  },
  {
   "cell_type": "markdown",
   "metadata": {},
   "source": [
    "# 문서를 입력했을 때 문서 벡터 반환"
   ]
  },
  {
   "cell_type": "markdown",
   "metadata": {},
   "source": [
    "# 단어-문서 벡터 행렬 생성"
   ]
  },
  {
   "cell_type": "code",
   "execution_count": 3,
   "metadata": {},
   "outputs": [],
   "source": [
    "doc_ls = ['바나나 사과 포도 포도',\n",
    "'사과 포도',\n",
    "'포도 바나나',\n",
    "'짜장면 짬뽕 탕수욕',\n",
    "'볶음밥 탕수욕',\n",
    "'짜장면 짬뽕',\n",
    "'라면 스시',\n",
    "'스시',\n",
    "'가츠동 스시 소바',\n",
    "'된장찌개 김치찌개 김치',\n",
    "'김치 된장',\n",
    "'비빔밥 김치'\n",
    "]"
   ]
  },
  {
   "cell_type": "code",
   "execution_count": 4,
   "metadata": {},
   "outputs": [],
   "source": [
    "bow  = list(set(re.sub(\"'|,|\\[|\\]\", \"\", str(doc_ls)).split(' ')))\n",
    "TDM = pd.DataFrame(np.zeros(( len(bow),  len(doc_ls))), index= bow) \n",
    "a = [doc.split() for doc in doc_ls]\n",
    "for idx in range(len(a)):\n",
    "    for i in a[idx]:\n",
    "        TDM[idx][i] +=1"
   ]
  },
  {
   "cell_type": "code",
   "execution_count": 6,
   "metadata": {},
   "outputs": [],
   "source": [
    "U, s, Vt = np.linalg.svd(TDM)"
   ]
  },
  {
   "cell_type": "code",
   "execution_count": 11,
   "metadata": {
    "scrolled": true
   },
   "outputs": [],
   "source": [
    "topic_num = 3\n",
    "U_trunc = U[:,:topic_num]\n",
    "s_trunc = s[:topic_num]*np.eye(topic_num)\n",
    "Vt_trunc = Vt[:,:topic_num]"
   ]
  },
  {
   "cell_type": "code",
   "execution_count": 15,
   "metadata": {},
   "outputs": [
    {
     "data": {
      "text/plain": [
       "array([-1.22474487e+00,  5.55464065e-16,  5.83145473e-17])"
      ]
     },
     "execution_count": 15,
     "metadata": {},
     "output_type": "execute_result"
    }
   ],
   "source": [
    "term = '사과'\n",
    "\n",
    "wordsVec[bow.index(term)]"
   ]
  },
  {
   "cell_type": "code",
   "execution_count": 17,
   "metadata": {},
   "outputs": [
    {
     "data": {
      "text/plain": [
       "(16, 12)"
      ]
     },
     "execution_count": 17,
     "metadata": {},
     "output_type": "execute_result"
    }
   ],
   "source": [
    "np.dot(wordsVec,docsVec.T).shape"
   ]
  },
  {
   "cell_type": "markdown",
   "metadata": {},
   "source": [
    "# 단어 벡터 행렬에서 단어 간 코사인 유사도 측정하여 행렬형태로 반환"
   ]
  },
  {
   "cell_type": "code",
   "execution_count": 5,
   "metadata": {},
   "outputs": [
    {
     "data": {
      "text/html": [
       "<div>\n",
       "<style scoped>\n",
       "    .dataframe tbody tr th:only-of-type {\n",
       "        vertical-align: middle;\n",
       "    }\n",
       "\n",
       "    .dataframe tbody tr th {\n",
       "        vertical-align: top;\n",
       "    }\n",
       "\n",
       "    .dataframe thead th {\n",
       "        text-align: right;\n",
       "    }\n",
       "</style>\n",
       "<table border=\"1\" class=\"dataframe\">\n",
       "  <thead>\n",
       "    <tr style=\"text-align: right;\">\n",
       "      <th></th>\n",
       "      <th>0</th>\n",
       "      <th>1</th>\n",
       "      <th>2</th>\n",
       "      <th>3</th>\n",
       "      <th>4</th>\n",
       "      <th>5</th>\n",
       "      <th>6</th>\n",
       "      <th>7</th>\n",
       "      <th>8</th>\n",
       "      <th>9</th>\n",
       "      <th>10</th>\n",
       "      <th>11</th>\n",
       "    </tr>\n",
       "  </thead>\n",
       "  <tbody>\n",
       "    <tr>\n",
       "      <th>된장찌개</th>\n",
       "      <td>0.0</td>\n",
       "      <td>0.0</td>\n",
       "      <td>0.0</td>\n",
       "      <td>0.0</td>\n",
       "      <td>0.0</td>\n",
       "      <td>0.0</td>\n",
       "      <td>0.0</td>\n",
       "      <td>0.0</td>\n",
       "      <td>0.0</td>\n",
       "      <td>1.0</td>\n",
       "      <td>0.0</td>\n",
       "      <td>0.0</td>\n",
       "    </tr>\n",
       "    <tr>\n",
       "      <th>김치찌개</th>\n",
       "      <td>0.0</td>\n",
       "      <td>0.0</td>\n",
       "      <td>0.0</td>\n",
       "      <td>0.0</td>\n",
       "      <td>0.0</td>\n",
       "      <td>0.0</td>\n",
       "      <td>0.0</td>\n",
       "      <td>0.0</td>\n",
       "      <td>0.0</td>\n",
       "      <td>1.0</td>\n",
       "      <td>0.0</td>\n",
       "      <td>0.0</td>\n",
       "    </tr>\n",
       "    <tr>\n",
       "      <th>김치</th>\n",
       "      <td>0.0</td>\n",
       "      <td>0.0</td>\n",
       "      <td>0.0</td>\n",
       "      <td>0.0</td>\n",
       "      <td>0.0</td>\n",
       "      <td>0.0</td>\n",
       "      <td>0.0</td>\n",
       "      <td>0.0</td>\n",
       "      <td>0.0</td>\n",
       "      <td>1.0</td>\n",
       "      <td>1.0</td>\n",
       "      <td>1.0</td>\n",
       "    </tr>\n",
       "    <tr>\n",
       "      <th>스시</th>\n",
       "      <td>0.0</td>\n",
       "      <td>0.0</td>\n",
       "      <td>0.0</td>\n",
       "      <td>0.0</td>\n",
       "      <td>0.0</td>\n",
       "      <td>0.0</td>\n",
       "      <td>1.0</td>\n",
       "      <td>1.0</td>\n",
       "      <td>1.0</td>\n",
       "      <td>0.0</td>\n",
       "      <td>0.0</td>\n",
       "      <td>0.0</td>\n",
       "    </tr>\n",
       "    <tr>\n",
       "      <th>사과</th>\n",
       "      <td>1.0</td>\n",
       "      <td>1.0</td>\n",
       "      <td>0.0</td>\n",
       "      <td>0.0</td>\n",
       "      <td>0.0</td>\n",
       "      <td>0.0</td>\n",
       "      <td>0.0</td>\n",
       "      <td>0.0</td>\n",
       "      <td>0.0</td>\n",
       "      <td>0.0</td>\n",
       "      <td>0.0</td>\n",
       "      <td>0.0</td>\n",
       "    </tr>\n",
       "    <tr>\n",
       "      <th>짬뽕</th>\n",
       "      <td>0.0</td>\n",
       "      <td>0.0</td>\n",
       "      <td>0.0</td>\n",
       "      <td>1.0</td>\n",
       "      <td>0.0</td>\n",
       "      <td>1.0</td>\n",
       "      <td>0.0</td>\n",
       "      <td>0.0</td>\n",
       "      <td>0.0</td>\n",
       "      <td>0.0</td>\n",
       "      <td>0.0</td>\n",
       "      <td>0.0</td>\n",
       "    </tr>\n",
       "    <tr>\n",
       "      <th>포도</th>\n",
       "      <td>2.0</td>\n",
       "      <td>1.0</td>\n",
       "      <td>1.0</td>\n",
       "      <td>0.0</td>\n",
       "      <td>0.0</td>\n",
       "      <td>0.0</td>\n",
       "      <td>0.0</td>\n",
       "      <td>0.0</td>\n",
       "      <td>0.0</td>\n",
       "      <td>0.0</td>\n",
       "      <td>0.0</td>\n",
       "      <td>0.0</td>\n",
       "    </tr>\n",
       "    <tr>\n",
       "      <th>라면</th>\n",
       "      <td>0.0</td>\n",
       "      <td>0.0</td>\n",
       "      <td>0.0</td>\n",
       "      <td>0.0</td>\n",
       "      <td>0.0</td>\n",
       "      <td>0.0</td>\n",
       "      <td>1.0</td>\n",
       "      <td>0.0</td>\n",
       "      <td>0.0</td>\n",
       "      <td>0.0</td>\n",
       "      <td>0.0</td>\n",
       "      <td>0.0</td>\n",
       "    </tr>\n",
       "    <tr>\n",
       "      <th>된장</th>\n",
       "      <td>0.0</td>\n",
       "      <td>0.0</td>\n",
       "      <td>0.0</td>\n",
       "      <td>0.0</td>\n",
       "      <td>0.0</td>\n",
       "      <td>0.0</td>\n",
       "      <td>0.0</td>\n",
       "      <td>0.0</td>\n",
       "      <td>0.0</td>\n",
       "      <td>0.0</td>\n",
       "      <td>1.0</td>\n",
       "      <td>0.0</td>\n",
       "    </tr>\n",
       "    <tr>\n",
       "      <th>탕수욕</th>\n",
       "      <td>0.0</td>\n",
       "      <td>0.0</td>\n",
       "      <td>0.0</td>\n",
       "      <td>1.0</td>\n",
       "      <td>1.0</td>\n",
       "      <td>0.0</td>\n",
       "      <td>0.0</td>\n",
       "      <td>0.0</td>\n",
       "      <td>0.0</td>\n",
       "      <td>0.0</td>\n",
       "      <td>0.0</td>\n",
       "      <td>0.0</td>\n",
       "    </tr>\n",
       "    <tr>\n",
       "      <th>비빔밥</th>\n",
       "      <td>0.0</td>\n",
       "      <td>0.0</td>\n",
       "      <td>0.0</td>\n",
       "      <td>0.0</td>\n",
       "      <td>0.0</td>\n",
       "      <td>0.0</td>\n",
       "      <td>0.0</td>\n",
       "      <td>0.0</td>\n",
       "      <td>0.0</td>\n",
       "      <td>0.0</td>\n",
       "      <td>0.0</td>\n",
       "      <td>1.0</td>\n",
       "    </tr>\n",
       "    <tr>\n",
       "      <th>소바</th>\n",
       "      <td>0.0</td>\n",
       "      <td>0.0</td>\n",
       "      <td>0.0</td>\n",
       "      <td>0.0</td>\n",
       "      <td>0.0</td>\n",
       "      <td>0.0</td>\n",
       "      <td>0.0</td>\n",
       "      <td>0.0</td>\n",
       "      <td>1.0</td>\n",
       "      <td>0.0</td>\n",
       "      <td>0.0</td>\n",
       "      <td>0.0</td>\n",
       "    </tr>\n",
       "    <tr>\n",
       "      <th>가츠동</th>\n",
       "      <td>0.0</td>\n",
       "      <td>0.0</td>\n",
       "      <td>0.0</td>\n",
       "      <td>0.0</td>\n",
       "      <td>0.0</td>\n",
       "      <td>0.0</td>\n",
       "      <td>0.0</td>\n",
       "      <td>0.0</td>\n",
       "      <td>1.0</td>\n",
       "      <td>0.0</td>\n",
       "      <td>0.0</td>\n",
       "      <td>0.0</td>\n",
       "    </tr>\n",
       "    <tr>\n",
       "      <th>바나나</th>\n",
       "      <td>1.0</td>\n",
       "      <td>0.0</td>\n",
       "      <td>1.0</td>\n",
       "      <td>0.0</td>\n",
       "      <td>0.0</td>\n",
       "      <td>0.0</td>\n",
       "      <td>0.0</td>\n",
       "      <td>0.0</td>\n",
       "      <td>0.0</td>\n",
       "      <td>0.0</td>\n",
       "      <td>0.0</td>\n",
       "      <td>0.0</td>\n",
       "    </tr>\n",
       "    <tr>\n",
       "      <th>짜장면</th>\n",
       "      <td>0.0</td>\n",
       "      <td>0.0</td>\n",
       "      <td>0.0</td>\n",
       "      <td>1.0</td>\n",
       "      <td>0.0</td>\n",
       "      <td>1.0</td>\n",
       "      <td>0.0</td>\n",
       "      <td>0.0</td>\n",
       "      <td>0.0</td>\n",
       "      <td>0.0</td>\n",
       "      <td>0.0</td>\n",
       "      <td>0.0</td>\n",
       "    </tr>\n",
       "    <tr>\n",
       "      <th>볶음밥</th>\n",
       "      <td>0.0</td>\n",
       "      <td>0.0</td>\n",
       "      <td>0.0</td>\n",
       "      <td>0.0</td>\n",
       "      <td>1.0</td>\n",
       "      <td>0.0</td>\n",
       "      <td>0.0</td>\n",
       "      <td>0.0</td>\n",
       "      <td>0.0</td>\n",
       "      <td>0.0</td>\n",
       "      <td>0.0</td>\n",
       "      <td>0.0</td>\n",
       "    </tr>\n",
       "  </tbody>\n",
       "</table>\n",
       "</div>"
      ],
      "text/plain": [
       "       0    1    2    3    4    5    6    7    8    9    10   11\n",
       "된장찌개  0.0  0.0  0.0  0.0  0.0  0.0  0.0  0.0  0.0  1.0  0.0  0.0\n",
       "김치찌개  0.0  0.0  0.0  0.0  0.0  0.0  0.0  0.0  0.0  1.0  0.0  0.0\n",
       "김치    0.0  0.0  0.0  0.0  0.0  0.0  0.0  0.0  0.0  1.0  1.0  1.0\n",
       "스시    0.0  0.0  0.0  0.0  0.0  0.0  1.0  1.0  1.0  0.0  0.0  0.0\n",
       "사과    1.0  1.0  0.0  0.0  0.0  0.0  0.0  0.0  0.0  0.0  0.0  0.0\n",
       "짬뽕    0.0  0.0  0.0  1.0  0.0  1.0  0.0  0.0  0.0  0.0  0.0  0.0\n",
       "포도    2.0  1.0  1.0  0.0  0.0  0.0  0.0  0.0  0.0  0.0  0.0  0.0\n",
       "라면    0.0  0.0  0.0  0.0  0.0  0.0  1.0  0.0  0.0  0.0  0.0  0.0\n",
       "된장    0.0  0.0  0.0  0.0  0.0  0.0  0.0  0.0  0.0  0.0  1.0  0.0\n",
       "탕수욕   0.0  0.0  0.0  1.0  1.0  0.0  0.0  0.0  0.0  0.0  0.0  0.0\n",
       "비빔밥   0.0  0.0  0.0  0.0  0.0  0.0  0.0  0.0  0.0  0.0  0.0  1.0\n",
       "소바    0.0  0.0  0.0  0.0  0.0  0.0  0.0  0.0  1.0  0.0  0.0  0.0\n",
       "가츠동   0.0  0.0  0.0  0.0  0.0  0.0  0.0  0.0  1.0  0.0  0.0  0.0\n",
       "바나나   1.0  0.0  1.0  0.0  0.0  0.0  0.0  0.0  0.0  0.0  0.0  0.0\n",
       "짜장면   0.0  0.0  0.0  1.0  0.0  1.0  0.0  0.0  0.0  0.0  0.0  0.0\n",
       "볶음밥   0.0  0.0  0.0  0.0  1.0  0.0  0.0  0.0  0.0  0.0  0.0  0.0"
      ]
     },
     "execution_count": 5,
     "metadata": {},
     "output_type": "execute_result"
    }
   ],
   "source": [
    "TDM"
   ]
  },
  {
   "cell_type": "code",
   "execution_count": 16,
   "metadata": {},
   "outputs": [
    {
     "data": {
      "text/plain": [
       "array([-7.25745775e-17, -2.23888314e-16,  2.91683973e-16])"
      ]
     },
     "execution_count": 16,
     "metadata": {},
     "output_type": "execute_result"
    }
   ],
   "source": [
    "doc = '볶음밥 탕수욕'\n",
    "\n",
    "docsVec[doc_ls.index(doc)]"
   ]
  },
  {
   "cell_type": "code",
   "execution_count": 21,
   "metadata": {},
   "outputs": [],
   "source": [
    "def cosine_similarity(x,y):\n",
    "    nominator = np.dot(x,y)\n",
    "    denominator = np.linalg.norm(x)*np.linalg.norm(y)\n",
    "    return nominator/ denominator"
   ]
  },
  {
   "cell_type": "code",
   "execution_count": 26,
   "metadata": {
    "scrolled": true
   },
   "outputs": [
    {
     "data": {
      "text/plain": [
       "array([[ 0.00000000e+00, -1.09957912e-16,  7.07106781e-01],\n",
       "       [ 0.00000000e+00, -1.18546580e-16,  7.07106781e-01],\n",
       "       [ 0.00000000e+00,  8.79163811e-17,  1.70710678e+00],\n",
       "       [ 0.00000000e+00, -9.44618288e-16,  0.00000000e+00],\n",
       "       [-1.22474487e+00,  5.55464065e-16,  5.83145473e-17],\n",
       "       [ 0.00000000e+00,  1.33966166e+00, -1.53685463e-17],\n",
       "       [-2.44948974e+00, -5.86051641e-17,  1.16629095e-16],\n",
       "       [ 0.00000000e+00, -3.94902358e-16,  0.00000000e+00],\n",
       "       [ 0.00000000e+00,  3.93817463e-17,  5.00000000e-01],\n",
       "       [ 0.00000000e+00,  1.06005799e+00,  0.00000000e+00],\n",
       "       [ 0.00000000e+00,  6.59617127e-17,  5.00000000e-01],\n",
       "       [ 0.00000000e+00, -3.98699496e-16,  0.00000000e+00],\n",
       "       [ 0.00000000e+00, -3.98699496e-16,  0.00000000e+00],\n",
       "       [-1.22474487e+00, -4.38253737e-16,  0.00000000e+00],\n",
       "       [ 0.00000000e+00,  1.33966166e+00, -1.53685463e-17],\n",
       "       [ 0.00000000e+00,  2.79603668e-01,  0.00000000e+00]])"
      ]
     },
     "execution_count": 26,
     "metadata": {},
     "output_type": "execute_result"
    }
   ],
   "source": [
    "wordsVec\n"
   ]
  },
  {
   "cell_type": "markdown",
   "metadata": {},
   "source": [
    "# 두개 단어를 입력했을 때 코사인 유사도 반환"
   ]
  },
  {
   "cell_type": "markdown",
   "metadata": {},
   "source": [
    "# 문서 벡터 행렬에서 문서 간 코사인 유사도 측정하여 행렬형태로 반환"
   ]
  },
  {
   "cell_type": "markdown",
   "metadata": {},
   "source": [
    "# 두개 문서를 입력했을 때 코사인 유사도 반환"
   ]
  },
  {
   "cell_type": "code",
   "execution_count": null,
   "metadata": {},
   "outputs": [],
   "source": []
  },
  {
   "cell_type": "code",
   "execution_count": 24,
   "metadata": {
    "scrolled": true
   },
   "outputs": [
    {
     "ename": "Exception",
     "evalue": "Data must be 1-dimensional",
     "output_type": "error",
     "traceback": [
      "\u001b[1;31m---------------------------------------------------------------------------\u001b[0m",
      "\u001b[1;31mException\u001b[0m                                 Traceback (most recent call last)",
      "\u001b[1;32m<ipython-input-24-85d5bf11d0b2>\u001b[0m in \u001b[0;36m<module>\u001b[1;34m\u001b[0m\n\u001b[1;32m----> 1\u001b[1;33m \u001b[0mpd\u001b[0m\u001b[1;33m.\u001b[0m\u001b[0mSeries\u001b[0m\u001b[1;33m(\u001b[0m\u001b[0mwordsVec\u001b[0m\u001b[1;33m)\u001b[0m\u001b[1;33m.\u001b[0m\u001b[0mmap\u001b[0m\u001b[1;33m(\u001b[0m \u001b[0mcosine_similarity\u001b[0m\u001b[1;33m(\u001b[0m\u001b[0mx\u001b[0m\u001b[1;33m,\u001b[0m \u001b[0my\u001b[0m\u001b[1;33m)\u001b[0m\u001b[1;33m)\u001b[0m\u001b[1;33m\u001b[0m\u001b[1;33m\u001b[0m\u001b[0m\n\u001b[0m",
      "\u001b[1;32mC:\\ProgramData\\Anaconda3\\lib\\site-packages\\pandas\\core\\series.py\u001b[0m in \u001b[0;36m__init__\u001b[1;34m(self, data, index, dtype, name, copy, fastpath)\u001b[0m\n\u001b[0;32m    260\u001b[0m             \u001b[1;32melse\u001b[0m\u001b[1;33m:\u001b[0m\u001b[1;33m\u001b[0m\u001b[1;33m\u001b[0m\u001b[0m\n\u001b[0;32m    261\u001b[0m                 data = sanitize_array(data, index, dtype, copy,\n\u001b[1;32m--> 262\u001b[1;33m                                       raise_cast_failure=True)\n\u001b[0m\u001b[0;32m    263\u001b[0m \u001b[1;33m\u001b[0m\u001b[0m\n\u001b[0;32m    264\u001b[0m                 \u001b[0mdata\u001b[0m \u001b[1;33m=\u001b[0m \u001b[0mSingleBlockManager\u001b[0m\u001b[1;33m(\u001b[0m\u001b[0mdata\u001b[0m\u001b[1;33m,\u001b[0m \u001b[0mindex\u001b[0m\u001b[1;33m,\u001b[0m \u001b[0mfastpath\u001b[0m\u001b[1;33m=\u001b[0m\u001b[1;32mTrue\u001b[0m\u001b[1;33m)\u001b[0m\u001b[1;33m\u001b[0m\u001b[1;33m\u001b[0m\u001b[0m\n",
      "\u001b[1;32mC:\\ProgramData\\Anaconda3\\lib\\site-packages\\pandas\\core\\internals\\construction.py\u001b[0m in \u001b[0;36msanitize_array\u001b[1;34m(data, index, dtype, copy, raise_cast_failure)\u001b[0m\n\u001b[0;32m    656\u001b[0m     \u001b[1;32melif\u001b[0m \u001b[0msubarr\u001b[0m\u001b[1;33m.\u001b[0m\u001b[0mndim\u001b[0m \u001b[1;33m>\u001b[0m \u001b[1;36m1\u001b[0m\u001b[1;33m:\u001b[0m\u001b[1;33m\u001b[0m\u001b[1;33m\u001b[0m\u001b[0m\n\u001b[0;32m    657\u001b[0m         \u001b[1;32mif\u001b[0m \u001b[0misinstance\u001b[0m\u001b[1;33m(\u001b[0m\u001b[0mdata\u001b[0m\u001b[1;33m,\u001b[0m \u001b[0mnp\u001b[0m\u001b[1;33m.\u001b[0m\u001b[0mndarray\u001b[0m\u001b[1;33m)\u001b[0m\u001b[1;33m:\u001b[0m\u001b[1;33m\u001b[0m\u001b[1;33m\u001b[0m\u001b[0m\n\u001b[1;32m--> 658\u001b[1;33m             \u001b[1;32mraise\u001b[0m \u001b[0mException\u001b[0m\u001b[1;33m(\u001b[0m\u001b[1;34m'Data must be 1-dimensional'\u001b[0m\u001b[1;33m)\u001b[0m\u001b[1;33m\u001b[0m\u001b[1;33m\u001b[0m\u001b[0m\n\u001b[0m\u001b[0;32m    659\u001b[0m         \u001b[1;32melse\u001b[0m\u001b[1;33m:\u001b[0m\u001b[1;33m\u001b[0m\u001b[1;33m\u001b[0m\u001b[0m\n\u001b[0;32m    660\u001b[0m             \u001b[0msubarr\u001b[0m \u001b[1;33m=\u001b[0m \u001b[0mcom\u001b[0m\u001b[1;33m.\u001b[0m\u001b[0masarray_tuplesafe\u001b[0m\u001b[1;33m(\u001b[0m\u001b[0mdata\u001b[0m\u001b[1;33m,\u001b[0m \u001b[0mdtype\u001b[0m\u001b[1;33m=\u001b[0m\u001b[0mdtype\u001b[0m\u001b[1;33m)\u001b[0m\u001b[1;33m\u001b[0m\u001b[1;33m\u001b[0m\u001b[0m\n",
      "\u001b[1;31mException\u001b[0m: Data must be 1-dimensional"
     ]
    }
   ],
   "source": [
    "pd.Series(wordsVec).map( cosine_similarity(x, y))"
   ]
  },
  {
   "cell_type": "code",
   "execution_count": null,
   "metadata": {},
   "outputs": [],
   "source": [
    "dd"
   ]
  },
  {
   "cell_type": "code",
   "execution_count": null,
   "metadata": {},
   "outputs": [],
   "source": []
  },
  {
   "cell_type": "code",
   "execution_count": 19,
   "metadata": {},
   "outputs": [
    {
     "ename": "NameError",
     "evalue": "name 'wordsvec' is not defined",
     "output_type": "error",
     "traceback": [
      "\u001b[1;31m---------------------------------------------------------------------------\u001b[0m",
      "\u001b[1;31mNameError\u001b[0m                                 Traceback (most recent call last)",
      "\u001b[1;32m<ipython-input-19-dbfe3b4a20ef>\u001b[0m in \u001b[0;36m<module>\u001b[1;34m\u001b[0m\n\u001b[1;32m----> 1\u001b[1;33m \u001b[0mwordsvec\u001b[0m\u001b[1;33m\u001b[0m\u001b[1;33m\u001b[0m\u001b[0m\n\u001b[0m",
      "\u001b[1;31mNameError\u001b[0m: name 'wordsvec' is not defined"
     ]
    }
   ],
   "source": [
    "wordsvec"
   ]
  }
 ],
 "metadata": {
  "kernelspec": {
   "display_name": "Python 3",
   "language": "python",
   "name": "python3"
  },
  "language_info": {
   "codemirror_mode": {
    "name": "ipython",
    "version": 3
   },
   "file_extension": ".py",
   "mimetype": "text/x-python",
   "name": "python",
   "nbconvert_exporter": "python",
   "pygments_lexer": "ipython3",
   "version": "3.7.3"
  }
 },
 "nbformat": 4,
 "nbformat_minor": 2
}
