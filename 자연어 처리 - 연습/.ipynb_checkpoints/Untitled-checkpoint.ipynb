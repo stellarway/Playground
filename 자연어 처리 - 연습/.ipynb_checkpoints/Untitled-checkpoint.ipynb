{
 "cells": [
  {
   "cell_type": "code",
   "execution_count": 96,
   "metadata": {},
   "outputs": [],
   "source": [
    "import pandas as pd\n",
    "import numpy as np\n",
    "node=['A', 'B', 'C', 'D']\n",
    "mat = np.array([[0,1,0,1], \n",
    "        [1,0,0,1],\n",
    "        [0,0,0,1],\n",
    "        [1,1,1,0]])\n"
   ]
  },
  {
   "cell_type": "code",
   "execution_count": 120,
   "metadata": {
    "scrolled": true
   },
   "outputs": [
    {
     "data": {
      "text/plain": [
       "array([[0.        , 0.5       , 0.        , 0.33333333],\n",
       "       [0.5       , 0.        , 0.        , 0.33333333],\n",
       "       [0.        , 0.        , 0.        , 0.33333333],\n",
       "       [0.5       , 0.5       , 1.        , 0.        ]])"
      ]
     },
     "execution_count": 120,
     "metadata": {},
     "output_type": "execute_result"
    }
   ],
   "source": [
    "a= mat/mat.sum(axis=1)\n",
    "a"
   ]
  },
  {
   "cell_type": "code",
   "execution_count": 129,
   "metadata": {},
   "outputs": [
    {
     "data": {
      "text/plain": [
       "array([0.83333333, 0.83333333, 0.33333333, 2.        ])"
      ]
     },
     "execution_count": 129,
     "metadata": {},
     "output_type": "execute_result"
    }
   ],
   "source": [
    "b = a.sum(axis=1)\n",
    "b"
   ]
  },
  {
   "cell_type": "code",
   "execution_count": null,
   "metadata": {},
   "outputs": [],
   "source": [
    "패키지 이름 못 외웠어요......."
   ]
  },
  {
   "cell_type": "code",
   "execution_count": null,
   "metadata": {},
   "outputs": [],
   "source": []
  },
  {
   "cell_type": "code",
   "execution_count": null,
   "metadata": {},
   "outputs": [],
   "source": []
  },
  {
   "cell_type": "code",
   "execution_count": null,
   "metadata": {},
   "outputs": [],
   "source": []
  },
  {
   "cell_type": "markdown",
   "metadata": {},
   "source": [
    "# 4번문제"
   ]
  },
  {
   "cell_type": "code",
   "execution_count": 90,
   "metadata": {},
   "outputs": [],
   "source": [
    "class Car:\n",
    "    def __init__(self, name, gas, year):\n",
    "        self.cnt=0\n",
    "        self.__name = name\n",
    "        self.__gas = gas\n",
    "        self.__year = year\n",
    "        self.cnt+=1\n",
    "    def changeName(self, change):\n",
    "        self.__name = change\n",
    "    def getName(self):\n",
    "        print(self.__name)\n",
    "    def size(self):\n",
    "        if self.__gas<=1000:\n",
    "            print(\"소형\")\n",
    "        elif self.__gas>1000 and self.gas<=2000:\n",
    "            print(\"중형\")\n",
    "        elif self.__gas>2000:\n",
    "            print(\"대형\")\n",
    "    @classmethod\n",
    "    def num(self):\n",
    "        print(self.cnt)"
   ]
  },
  {
   "cell_type": "code",
   "execution_count": 91,
   "metadata": {},
   "outputs": [],
   "source": [
    "car1 = Car('붕붕이',50, 2018)\n",
    "\n",
    "car2 = ('붕이',1500, 2020)"
   ]
  },
  {
   "cell_type": "code",
   "execution_count": null,
   "metadata": {},
   "outputs": [],
   "source": []
  }
 ],
 "metadata": {
  "kernelspec": {
   "display_name": "Python 3",
   "language": "python",
   "name": "python3"
  },
  "language_info": {
   "codemirror_mode": {
    "name": "ipython",
    "version": 3
   },
   "file_extension": ".py",
   "mimetype": "text/x-python",
   "name": "python",
   "nbconvert_exporter": "python",
   "pygments_lexer": "ipython3",
   "version": "3.7.3"
  }
 },
 "nbformat": 4,
 "nbformat_minor": 2
}
