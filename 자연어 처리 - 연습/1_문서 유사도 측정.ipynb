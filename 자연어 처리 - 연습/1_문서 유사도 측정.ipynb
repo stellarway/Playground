{
 "cells": [
  {
   "cell_type": "code",
   "execution_count": 45,
   "metadata": {},
   "outputs": [],
   "source": [
    "import pandas as pd\n",
    "import math\n",
    "import numpy as np"
   ]
  },
  {
   "cell_type": "code",
   "execution_count": 93,
   "metadata": {},
   "outputs": [
    {
     "name": "stdout",
     "output_type": "stream",
     "text": [
      "벡터 정보는[0.0, 0.0, 0.0, 0.0, 0.0, 0.0, 0.0, 0.0, 0.0, 0.0, 0.0, 0.062469368304149966, 0.3010299956639812, 0.0]\n",
      "벡터 정보는[0.0, 0.0, 0.0, 0.20068666377598746, 0.20068666377598746, 0.0, 0.0, 0.0, 0.0, 0.0, 0.0, 0.041646245536099975, 0.0, 0.0]\n",
      "코사인 유사도는0.029499741486199715\n"
     ]
    }
   ],
   "source": [
    "class TextSimilarityExample:\n",
    "    def __init__(self, statementls):\n",
    "        self.statements = statementls\n",
    "        self.bow = list(set(' '.join(self.statements).split(' ')))\n",
    "        self.defDict = dict.fromkeys(self.bow, 0)\n",
    "        # 콜렉션 객체는 포인터로 처리\n",
    "        \n",
    "        # TF 계산\n",
    "    def TF(self, sentence):\n",
    "        # 문서 내 토큰 빈도\n",
    "        sentList = sentence.split(' ')\n",
    "        tfDict = self.defDict.copy()\n",
    "        for word in sentList:\n",
    "            tfDict[word] +=1       \n",
    "        tfDict = dict(pd.Series(tfDict)/len(sentList))\n",
    "        return tfDict\n",
    "    \n",
    "        # IDF 계산\n",
    "    def IDF(self):\n",
    "        N = len(self.statements)\n",
    "        idfDict = self.defDict.copy()\n",
    "        cnt = 0\n",
    "        # 토큰이 등장한 문서수 계산\n",
    "        for word in self.bow:\n",
    "            for sentence in self.statements:\n",
    "                if word in sentence:\n",
    "                    idfDict[word] += cnt+1 \n",
    "        for word, n in idfDict.items():\n",
    "            idfDict[word] = math.log10(N/n)\n",
    "        return idfDict\n",
    "        \n",
    "        # TF IDF 계산\n",
    "    def TF_IDF(self, query):\n",
    "        tfDict = self.TF(query)\n",
    "        idfDict = self.IDF()\n",
    "        \n",
    "        vectors = []\n",
    "        for word in self.bow:\n",
    "            vectors.append(tfDict[word]*idfDict[word])\n",
    "        return vectors\n",
    "        # 벡터 출력\n",
    "    def displayVectors(self, vectors):\n",
    "        print('벡터 정보는{}'.format(vectors))\n",
    "        # 벡터 정보 출력\n",
    "        # 유사도 측정\n",
    "    def cosineSimilarity(self, vec1, vec2):\n",
    "        cosSim = np.dot(vec1, vec2) / (np.linalg.norm(vec1)*np.linalg.norm(vec2))\n",
    "        print('코사인 유사도는{}'.format(cosSim))\n",
    "        # 코사인 유사도 출력\n",
    "        # TF-IDF -> 벡터출력 -> 코사인유사도\n",
    "    def demo(self):\n",
    "        inputQuery1 = self.statements[0]\n",
    "        vectors1 = self.TF_IDF(inputQuery1)\n",
    "        inputQuery2 = self.statements[1]\n",
    "        vectors2 = self.TF_IDF(inputQuery2)\n",
    "        self.displayVectors(vectors1)\n",
    "        self.displayVectors(vectors2)\n",
    "        self.cosineSimilarity(vectors1, vectors2)\n",
    "        \n",
    "statementls = ['ruled india',\n",
    "              'Chalukyas ruled Badami',\n",
    "              'So many kingdoms ruled India',\n",
    "              'Lalbagh is a botanical garden in India']\n",
    "\n",
    "similarity = TextSimilarityExample(statementls)\n",
    "similarity.demo()\n"
   ]
  }
 ],
 "metadata": {
  "kernelspec": {
   "display_name": "Python 3",
   "language": "python",
   "name": "python3"
  },
  "language_info": {
   "codemirror_mode": {
    "name": "ipython",
    "version": 3
   },
   "file_extension": ".py",
   "mimetype": "text/x-python",
   "name": "python",
   "nbconvert_exporter": "python",
   "pygments_lexer": "ipython3",
   "version": "3.7.3"
  }
 },
 "nbformat": 4,
 "nbformat_minor": 2
}
