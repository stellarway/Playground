{
 "cells": [
  {
   "cell_type": "markdown",
   "metadata": {},
   "source": [
    "https://developers.naver.com/docs/login/web/#1-1-2-java%EB%A1%9C-%EA%B5%AC%ED%98%84%ED%95%9C-%EC%83%81%ED%83%9C-%ED%86%A0%ED%81%B0-%EC%83%9D%EC%84%B1-%EC%BD%94%EB%93%9C-%EC%98%88\n",
    "    "
   ]
  },
  {
   "cell_type": "markdown",
   "metadata": {},
   "source": [
    "https://developers.naver.com/apps/#/wizard/register\n",
    "서비스 URL: http://127.0.0.1:8080\n",
    "127.0.0.1: 루프백 \n",
    "8080: 포트\n",
    "\n",
    "Client ID/Secret: 개인에게 할당되는"
   ]
  },
  {
   "cell_type": "code",
   "execution_count": 13,
   "metadata": {},
   "outputs": [],
   "source": [
    "# https://nid.naver.com/oauth2.0/authorize?\n",
    "# client_id={클라이언트 아이디}&\n",
    "# response_type=code&\n",
    "# redirect_uri={개발자 센터에 등록한 콜백 URL(URL 인코딩)}\n",
    "# &state={상태 토큰}\n",
    "    "
   ]
  },
  {
   "cell_type": "code",
   "execution_count": 42,
   "metadata": {},
   "outputs": [],
   "source": [
    "import requests\n",
    "AUTH_URL='https://nid.naver.com/oauth2.0/authorize'\n",
    "CLIENT_ID=''\n",
    "CLIENT_SECRET=''\n",
    "redirect_uri='http://127.0.0.1:8080'\n",
    "params={\n",
    "    'client_id': CLIENT_ID,\n",
    "    'response_type': 'code',\n",
    "    'redirect_uri':redirect_uri, \n",
    "    'state':'abcde12345' # state는 변조가 되었는지 확인해주는 것 통상적으로 64개 혹은 32개 자리로 난수생성해서 던짐\n",
    "}\n"
   ]
  },
  {
   "cell_type": "code",
   "execution_count": 43,
   "metadata": {},
   "outputs": [],
   "source": [
    "resp=requests.get(AUTH_URL, params)"
   ]
  },
  {
   "cell_type": "code",
   "execution_count": 44,
   "metadata": {
    "scrolled": false
   },
   "outputs": [
    {
     "data": {
      "text/plain": [
       "'https://nid.naver.com/oauth2.0/authorize?client_id=vLtlfAdsmZsTxb2h_Hqa&response_type=code&redirect_uri=http%3A%2F%2F127.0.0.1%3A8080&state=abcde12345'"
      ]
     },
     "execution_count": 44,
     "metadata": {},
     "output_type": "execute_result"
    }
   ],
   "source": [
    "resp.url"
   ]
  },
  {
   "cell_type": "markdown",
   "metadata": {},
   "source": [
    "### 접근 토큰 받기!!"
   ]
  },
  {
   "cell_type": "code",
   "execution_count": 49,
   "metadata": {},
   "outputs": [],
   "source": [
    "#redirect 했을 때 나왔던 코드로 접근 가능!\n",
    "TOKEN_URL='https://nid.naver.com/oauth2.0/token'\n",
    "params={\n",
    "    'client_id':CLIENT_ID,\n",
    "    'client_secret':CLIENT_SECRET,\n",
    "    'grant_type':'authorization_code',\n",
    "    'state': 'abcde12345',\n",
    "    'code':'' # redirect의 (인터넷 창) URL에서 확인할 수 있다.\n",
    "}"
   ]
  },
  {
   "cell_type": "code",
   "execution_count": 50,
   "metadata": {},
   "outputs": [],
   "source": [
    "resp=requests.get(TOKEN_URL, params)"
   ]
  },
  {
   "cell_type": "code",
   "execution_count": 51,
   "metadata": {
    "scrolled": true
   },
   "outputs": [
    {
     "data": {
      "text/plain": [
       "{'access_token': 'AAAAN8fmATNAY7FjwJ1RYQKd_kfHuCB4GZEht2sgzM2MO_kP5lxa0QMFvsFdOl6Gg_F3yJ5BOXsiJGajyAkDtP0-o_U',\n",
       " 'refresh_token': '9fhQvRTxhg28PMSuxrv4qKVZBAipu5E0jILnAIbC9H1LVDdea6w5kisBsmgI1a1AM48oxiprIXCCE0v71E7r0F7DGftRuKwQVC31W8YeuQ79TvrfkTisdBYiiNysxWiiIkfUKr',\n",
       " 'token_type': 'bearer',\n",
       " 'expires_in': '3600'}"
      ]
     },
     "execution_count": 51,
     "metadata": {},
     "output_type": "execute_result"
    }
   ],
   "source": [
    "json_text=resp.json()\n",
    "json_text"
   ]
  },
  {
   "cell_type": "code",
   "execution_count": 52,
   "metadata": {},
   "outputs": [],
   "source": [
    "access_token=json_text[''] #본인임을 알려줌 만료시간 전까지는 노출되면 안됨!!\n",
    "refresh_token= json_text['']\n",
    "token_type=json_text['token_type']\n",
    "expires_in=json_text['expires_in']"
   ]
  },
  {
   "cell_type": "markdown",
   "metadata": {},
   "source": [
    "1.6. 네이버 사용자 프로필 정보 조회"
   ]
  },
  {
   "cell_type": "code",
   "execution_count": 53,
   "metadata": {},
   "outputs": [],
   "source": [
    "PROF_URL='https://openapi.naver.com/v1/nid/me'\n",
    "headers={\n",
    "    'Authorization': '{} {}'.format(token_type, access_token)\n",
    "}"
   ]
  },
  {
   "cell_type": "code",
   "execution_count": 54,
   "metadata": {},
   "outputs": [
    {
     "data": {
      "text/plain": [
       "{'resultcode': '00',\n",
       " 'message': 'success',\n",
       " 'response': {'id': '37230012', 'gender': 'F', 'email': 'my_eyes@naver.com'}}"
      ]
     },
     "execution_count": 54,
     "metadata": {},
     "output_type": "execute_result"
    }
   ],
   "source": [
    "resp=requests.get(PROF_URL, headers=headers)\n",
    "resp.json()"
   ]
  },
  {
   "cell_type": "code",
   "execution_count": 55,
   "metadata": {},
   "outputs": [],
   "source": [
    "cgr_list_url='https://openapi.naver.com/blog/listCategory.json'\n",
    "post_url='https://openapi.naver.com/blog/writePost.json'\n"
   ]
  },
  {
   "cell_type": "code",
   "execution_count": 56,
   "metadata": {},
   "outputs": [
    {
     "data": {
      "text/plain": [
       "<Response [200]>"
      ]
     },
     "execution_count": 56,
     "metadata": {},
     "output_type": "execute_result"
    }
   ],
   "source": [
    "resp=requests.get(cgr_list_url, headers=headers)#headers 추가\n",
    "resp"
   ]
  },
  {
   "cell_type": "code",
   "execution_count": 57,
   "metadata": {},
   "outputs": [
    {
     "data": {
      "text/plain": [
       "{'message': {'@type': 'response',\n",
       "  '@service': 'korea.naverkoreaservice.community.blog',\n",
       "  '@version': '1.0.0',\n",
       "  'result': [{'name': 'IdeaBulb memo',\n",
       "    'categoryNo': 27,\n",
       "    'isOpen': False,\n",
       "    'subCategories': []},\n",
       "   {'name': '당신과 나의 접점',\n",
       "    'categoryNo': 52,\n",
       "    'isOpen': True,\n",
       "    'subCategories': [{'name': '친애하는 너에게',\n",
       "      'categoryNo': 48,\n",
       "      'isOpen': True,\n",
       "      'subCategories': []},\n",
       "     {'name': '꿈. 틀. 깨기',\n",
       "      'categoryNo': 54,\n",
       "      'isOpen': False,\n",
       "      'subCategories': []},\n",
       "     {'name': '새벽감성에서 깨어나면 지워질',\n",
       "      'categoryNo': 67,\n",
       "      'isOpen': True,\n",
       "      'subCategories': []},\n",
       "     {'name': '감성 변천사',\n",
       "      'categoryNo': 55,\n",
       "      'isOpen': True,\n",
       "      'subCategories': []}]},\n",
       "   {'name': '일상다반사',\n",
       "    'categoryNo': 56,\n",
       "    'isOpen': True,\n",
       "    'subCategories': [{'name': '오늘의 한마디',\n",
       "      'categoryNo': 65,\n",
       "      'isOpen': True,\n",
       "      'subCategories': []},\n",
       "     {'name': '휴(休) diary(完)',\n",
       "      'categoryNo': 49,\n",
       "      'isOpen': True,\n",
       "      'subCategories': []}]},\n",
       "   {'name': 'TOON BOX',\n",
       "    'categoryNo': 60,\n",
       "    'isOpen': True,\n",
       "    'subCategories': [{'name': '초간략후기',\n",
       "      'categoryNo': 63,\n",
       "      'isOpen': True,\n",
       "      'subCategories': []},\n",
       "     {'name': '심쿵심쿵♥',\n",
       "      'categoryNo': 61,\n",
       "      'isOpen': False,\n",
       "      'subCategories': []}]},\n",
       "   {'name': '내멋대로공부방',\n",
       "    'categoryNo': 18,\n",
       "    'isOpen': True,\n",
       "    'subCategories': [{'name': '매일쌓아가는세상',\n",
       "      'categoryNo': 51,\n",
       "      'isOpen': False,\n",
       "      'subCategories': []},\n",
       "     {'name': '보고합니다!!',\n",
       "      'categoryNo': 58,\n",
       "      'isOpen': True,\n",
       "      'subCategories': []},\n",
       "     {'name': '말말말', 'categoryNo': 59, 'isOpen': True, 'subCategories': []},\n",
       "     {'name': '기본 프랑스어',\n",
       "      'categoryNo': 19,\n",
       "      'isOpen': False,\n",
       "      'subCategories': []},\n",
       "     {'name': '문학과 영화',\n",
       "      'categoryNo': 20,\n",
       "      'isOpen': False,\n",
       "      'subCategories': []},\n",
       "     {'name': '기독교와 세계',\n",
       "      'categoryNo': 21,\n",
       "      'isOpen': False,\n",
       "      'subCategories': []}]},\n",
       "   {'name': '추억 상자',\n",
       "    'categoryNo': 29,\n",
       "    'isOpen': True,\n",
       "    'subCategories': [{'name': '삶의향기영화관',\n",
       "      'categoryNo': 45,\n",
       "      'isOpen': True,\n",
       "      'subCategories': []},\n",
       "     {'name': '나무내음책방', 'categoryNo': 26, 'isOpen': True, 'subCategories': []},\n",
       "     {'name': '공연', 'categoryNo': 46, 'isOpen': False, 'subCategories': []}]},\n",
       "   {'name': 'Photo Essay',\n",
       "    'categoryNo': 30,\n",
       "    'isOpen': True,\n",
       "    'subCategories': []},\n",
       "   {'name': '나에게 건의사항',\n",
       "    'categoryNo': 33,\n",
       "    'isOpen': False,\n",
       "    'subCategories': []}]}}"
      ]
     },
     "execution_count": 57,
     "metadata": {},
     "output_type": "execute_result"
    }
   ],
   "source": [
    "resp.json()"
   ]
  },
  {
   "cell_type": "code",
   "execution_count": null,
   "metadata": {},
   "outputs": [],
   "source": []
  }
 ],
 "metadata": {
  "kernelspec": {
   "display_name": "Python 3",
   "language": "python",
   "name": "python3"
  },
  "language_info": {
   "codemirror_mode": {
    "name": "ipython",
    "version": 3
   },
   "file_extension": ".py",
   "mimetype": "text/x-python",
   "name": "python",
   "nbconvert_exporter": "python",
   "pygments_lexer": "ipython3",
   "version": "3.7.3"
  }
 },
 "nbformat": 4,
 "nbformat_minor": 2
}
