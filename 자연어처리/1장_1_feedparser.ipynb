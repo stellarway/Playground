{
 "cells": [
  {
   "cell_type": "code",
   "execution_count": 1,
   "metadata": {},
   "outputs": [
    {
     "name": "stdout",
     "output_type": "stream",
     "text": [
      "Collecting feedparser\n",
      "  Downloading https://files.pythonhosted.org/packages/91/d8/7d37fec71ff7c9dbcdd80d2b48bcdd86d6af502156fc93846fb0102cb2c4/feedparser-5.2.1.tar.bz2 (192kB)\n",
      "Building wheels for collected packages: feedparser\n",
      "  Building wheel for feedparser (setup.py): started\n",
      "  Building wheel for feedparser (setup.py): finished with status 'done'\n",
      "  Stored in directory: C:\\Users\\student\\AppData\\Local\\pip\\Cache\\wheels\\8c\\69\\b7\\f52763c41c5471df57703a0ef718a32a5e81ee35dcf6d4f97f\n",
      "Successfully built feedparser\n",
      "Installing collected packages: feedparser\n",
      "Successfully installed feedparser-5.2.1\n"
     ]
    }
   ],
   "source": [
    "!pip install feedparser"
   ]
  },
  {
   "cell_type": "code",
   "execution_count": 3,
   "metadata": {},
   "outputs": [
    {
     "name": "stdout",
     "output_type": "stream",
     "text": [
      "피드 제목:  Mashable\n",
      "포스트 수:  30\n",
      "포스트 제목: Everything you need to know about Amazon Prime for Australia\n",
      "콘텐츠원본:\n",
      ": <img alt=\"\" src=\"https://mondrian.mashable.com/uploads%252Fcard%252Fimage%252F1008660%252Fc07f261b-6976-4e54-b610-407897d6ca56.jpg%252F575x323__filters%253Aquality%252880%2529.jpg?signature=ePOOeg4URuno32qUgZRMNcmZWus=&amp;source=https%3A%2F%2Fblueprint-api-production.s3.amazonaws.com\" /><div style=\"float: right; width: 50px;\"><a href=\"https://twitter.com/share?via=Mashable&text=Everything+you+need+to+know+about+Amazon+Prime+for+Australia&url=https%3A%2F%2Fmashable.com%2Fshopping%2Feverything-about-amazon-prime-australia%2F\" style=\"margin: 10px;\"><img alt=\"Twitter\" border=\"0\" src=\"https://a.amz.mshcdn.com/assets/feed-tw-e71baf64f2ec58d01cd28f4e9ef6b2ce0370b42fbd965068e9e7b58be198fb13.jpg\" /></a><a href=\"https://www.facebook.com/sharer.php?u=https%3A%2F%2Fmashable.com%2Fshopping%2Feverything-about-amazon-prime-australia%2F&src=sp\" style=\"margin: 10px;\"><img alt=\"Facebook\" border=\"0\" src=\"https://a.amz.mshcdn.com/assets/feed-fb-8e3bd31e201ea65385a524ef67519d031e6851071807055648790d6a4ca77139.jpg\" /></a></div><p>Although it's been long enjoyed and fretted over across the globe, Australians had been anticipating the arrival of Amazon's <a href=\"https://www.amazon.com.au/l/5602577051/ref=as_li_ss_tl?ie=UTF8&amp;linkCode=sl2&amp;linkId=a79ba790a8b9eba1cd729082a9dcf913&amp;tag=mashable0c-20&amp;tag=mashableau-22\" class=\"product-url\" rel=\"noskim\">Prime Day</a> for quite some time &#8212; and now, it's officially part of the calendar.</p>\n",
      "<p>Following the event's 2018 debut, Amazon is bringing Prime Day back to Australia, as part of its signature worldwide shopping marathon. Being ahead of the timezone, Aussie Prime members will get first access to some pretty epic deals.&#160;</p>\n",
      "<p>Prime members get fast and free delivery, a range of entertainment options, early access to content as well as tonnes of deals and events like the much-anticipated Prime Day. This is all provided through an annual or monthly subscription &#8212; and so far, there&#8217;s more than 100 million paid members around the globe. <a href=\"https://mashable.com/shopping/everything-about-amazon-prime-australia/\">Read more...</a></p>More about <a href=\"https://mashable.com/category/amazon/?utm_campaign=Mash-Prod-RSS-Feedburner-All-Partial&amp;utm_cid=Mash-Prod-RSS-Feedburner-All-Partial\">Amazon</a>, <a href=\"https://mashable.com/category/prime-day/?utm_campaign=Mash-Prod-RSS-Feedburner-All-Partial&amp;utm_cid=Mash-Prod-RSS-Feedburner-All-Partial\">Prime Day</a>, <a href=\"https://mashable.com/category/amazon-prime-day/?utm_campaign=Mash-Prod-RSS-Feedburner-All-Partial&amp;utm_cid=Mash-Prod-RSS-Feedburner-All-Partial\">Amazon Prime Day</a>, <a href=\"https://mashable.com/category/online-shopping/?utm_campaign=Mash-Prod-RSS-Feedburner-All-Partial&amp;utm_cid=Mash-Prod-RSS-Feedburner-All-Partial\">Online Shopping</a>, and <a href=\"https://mashable.com/category/mashable-shopping/?utm_campaign=Mash-Prod-RSS-Feedburner-All-Partial&amp;utm_cid=Mash-Prod-RSS-Feedburner-All-Partial\">Mashable Shopping</a><img src=\"http://feeds.feedburner.com/~r/Mashable/~4/uHpU-WEIPyg\" height=\"1\" width=\"1\" alt=\"\"/>\n"
     ]
    }
   ],
   "source": [
    "import feedparser\n",
    "\n",
    "myFeed= feedparser.parse(\"http://feeds.mashable.com/Mashable\")\n",
    "print('피드 제목: ',myFeed['feed']['title'])\n",
    "print('포스트 수: ', len(myFeed.entries))\n",
    "post = myFeed.entries[0]\n",
    "print('포스트 제목:', post.title)\n",
    "content = post.content[0].value\n",
    "print('콘텐츠원본:\\n:', content)"
   ]
  },
  {
   "cell_type": "code",
   "execution_count": null,
   "metadata": {},
   "outputs": [],
   "source": []
  }
 ],
 "metadata": {
  "kernelspec": {
   "display_name": "Python 3",
   "language": "python",
   "name": "python3"
  },
  "language_info": {
   "codemirror_mode": {
    "name": "ipython",
    "version": 3
   },
   "file_extension": ".py",
   "mimetype": "text/x-python",
   "name": "python",
   "nbconvert_exporter": "python",
   "pygments_lexer": "ipython3",
   "version": "3.7.3"
  }
 },
 "nbformat": 4,
 "nbformat_minor": 2
}
