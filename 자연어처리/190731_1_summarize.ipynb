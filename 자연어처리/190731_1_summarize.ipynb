{
 "cells": [
  {
   "cell_type": "code",
   "execution_count": 1,
   "metadata": {},
   "outputs": [],
   "source": [
    "#https://www.businessinsider.sg/faang-stocks-are-a-dead-trade-for-the-next-several-months-2018-3/amp/\n",
    "\n",
    "Text = \"The FAANG stocks won’t see much more growth in the near future, according to Bill Studebaker, founder and Chief Investment Officer of Robo Global. \\\n",
    "Studebaker argues we are seeing a 'reallocation' that will continue from large-cap tech stocks into market-weight stocks. \\\n",
    "The FAANG stocks have had a rough few weeks, and have been hit hard since March 12. \\\n",
    "One FAANG to look out for, in the midst of all this, is Amazon, according to Studebaker. \\\n",
    "The stock market is seeing a 'reallocation' out of FAANG stocks, which are not where the smart money is, founder and Chief Investment Officer of Robo Global Bill Studebaker told Business Insider. \\\n",
    "The FAANG stocks (Facebook, Apple, Amazon, Netflix, Google) are all down considerably since March 12, a trend that accelerated when news of a massive Facebook data scandal broke, sending the tech-heavy Nasdaq into a downward frenzy. \\\n",
    "Investors are wondering what’s next. \\\n",
    "And what’s next isn’t good news for FAANG stock optimists, Studebaker thinks. 'This is a dead trade' for the next several months, he said. 'I wouldn’t expect there to be a lot of performance attribution coming from the FAANG stocks,' he added. That is, if the stock market is to see gains in the next several months, they will largely not come from the big tech companies. \\\n",
    "The market is seeing a 'reallocation out of large-cap technology, into other parts of the market,' he said. And this trend could continue for the foreseeable future. 'When you get these reallocation trades, a de-risking, this can go on for months and months.' The FAANG’s are pricey stocks, he said, pointing out that investors will 'factor in the law of big numbers,' he said. 'Just because they’re big cap doesn’t mean they’re safe,' he added. \\\n",
    "Still, he doesn’t necessarily think that investors are going to shift drastically into value stocks. 'With an increasingly favorable macro backdrop, you have strong growth demand.' \\\n",
    "Studebaker, who runs an artificial intelligence and robotics exchange-traded fund with $4 billion in assets under management, thinks that AI and robotics are better areas of growth. His ETF is up 27% in the past year, while the FAANG stocks are also largely up over that same span, even if they are down since March 12. \\\n",
    "While many point to artificial intelligence as an area that will be a boost to Google and Amazon, Studebaker doesn’t see that as a sign of significant growth for the FAANGs. He pointed out that 'eighty to ninety percent of their businesses are still search,' and that 'AI doesn’t really move the needle on the business.' He also said 'the revenue mix [attributable to AI] in those businesses are insignificant.' \\\n",
    "And while he’s not bullish on FAANG’s, he does say that the one FAANG to still watch out for is Amazon, simply because ecommerce still represents a small portion of the global retail market, giving the company room to grow.\" \n"
   ]
  },
  {
   "cell_type": "code",
   "execution_count": 17,
   "metadata": {},
   "outputs": [
    {
     "data": {
      "text/plain": [
       "2.5"
      ]
     },
     "execution_count": 17,
     "metadata": {},
     "output_type": "execute_result"
    }
   ],
   "source": [
    "5* 1.0/2"
   ]
  },
  {
   "cell_type": "code",
   "execution_count": 9,
   "metadata": {},
   "outputs": [],
   "source": [
    "import nltk\n",
    "import re\n",
    "from nltk.tokenize import TreebankWordTokenizer\n",
    "\n",
    "def get_sentences(txt):\n",
    "    return txt.split('.')\n",
    "\n",
    "def get_words(txt):\n",
    "    return TreebankWordTokenizer().tokenize(txt)\n",
    "\n",
    "def get_keywords(word_list, min_ratio =0.001, max_ratio = 0.5):\n",
    "    assert (min_ratio < 1 and max_ratio < 1)\n",
    "    # assert는 제약조건.. 이 조건에 맞지 않으면 함수 종료\n",
    "    count_dict = {}\n",
    "    for word in word_list:\n",
    "        count_dict.setdefault(word, 0)\n",
    "        count_dict[word]+=1\n",
    "    keywords = set()\n",
    "    for word, cnt in count_dict.items():\n",
    "        word_percentage = count_dict[word]/len(word_list)\n",
    "        \n",
    "        if word_percentage <= max_ratio and word_percentage >= min_ratio:\n",
    "            keywords.add(word)\n",
    "    return keywords\n",
    "\n",
    "# 문장의 가중치 계산\n",
    "# 핵심!!!\n",
    "def get_sentence_weight (sentence, keywords):\n",
    "    sen_list = sentence.split(' ')\n",
    "    window_start = 0; window_end = -1;\n",
    "    # 탐색이 아니라 문장 내 중요한 키워드를 계산하기 위한 윈도우\n",
    "    \n",
    "    for i in range(len(sen_list)):\n",
    "        if sen_list[i] in keywords:\n",
    "            window_start = i\n",
    "            break\n",
    "            \n",
    "    for i in range(len(sen_list) -1, 0, -1):\n",
    "        if sen_list[i] in keywords:\n",
    "            window_end = i\n",
    "            break\n",
    "    \n",
    "    if window_start > window_end :\n",
    "        return 0\n",
    "    \n",
    "    window_size = window_end - window_start + 1\n",
    "    \n",
    "    keywords_cnt = 0\n",
    "    for w in sen_list :\n",
    "        if w in keywords:\n",
    "            keywords_cnt +=1\n",
    "    return keywords_cnt*keywords_cnt/window_size\n",
    "\n",
    "def summarize(content, max_no_of_sentences = 10):\n",
    "    \n",
    "    txt = content\n",
    "    word_list = get_words(txt)\n",
    "    keywords = get_keywords(word_list, 0.01, 0.5)\n",
    "    print(keywords)\n",
    "    \n",
    "    sentence_list = get_sentences(txt)\n",
    "    sentence_weight = []\n",
    "    for sen in sentence_list:\n",
    "        sentence_weight.append((get_sentence_weight(sen, keywords), sen))\n",
    "    sentence_weight.sort(reverse=True)\n",
    "    ret_list = []\n",
    "    ret_cnt = min(max_no_of_sentences, len(sentence_list))\n",
    "    \n",
    "    for i in range(ret_cnt):\n",
    "        ret_list.append (str(sentence_weight[i][0])+':'+sentence_weight[i][1]+'.')\n",
    "    return ret_list"
   ]
  },
  {
   "cell_type": "code",
   "execution_count": 10,
   "metadata": {},
   "outputs": [
    {
     "name": "stdout",
     "output_type": "stream",
     "text": [
      "{'The': 6, 'FAANG': 11, 'stocks': 8, 'won': 1, '’': 14, 't': 7, 'see': 3, 'much': 1, 'more': 1, 'growth': 3, 'in': 7, 'the': 20, 'near': 1, 'future': 1, ',': 38, 'according': 2, 'to': 12, 'Bill': 2, 'Studebaker': 6, 'founder': 2, 'and': 8, 'Chief': 2, 'Investment': 2, 'Officer': 2, 'of': 13, 'Robo': 2, 'Global.': 1, 'argues': 1, 'we': 1, 'are': 11, 'seeing': 3, 'a': 13, \"'reallocation\": 3, \"'\": 13, 'that': 11, 'will': 4, 'continue': 2, 'from': 3, 'large-cap': 2, 'tech': 2, 'into': 4, 'market-weight': 1, 'stocks.': 2, 'have': 3, 'had': 1, 'rough': 1, 'few': 1, 'weeks': 1, 'been': 1, 'hit': 1, 'hard': 1, 'since': 3, 'March': 3, '12.': 2, 'One': 1, 'look': 1, 'out': 6, 'for': 7, 'midst': 1, 'all': 2, 'this': 3, 'is': 9, 'Amazon': 4, 'Studebaker.': 1, 'stock': 3, 'market': 5, 'which': 1, 'not': 3, 'where': 1, 'smart': 1, 'money': 1, 'Global': 1, 'told': 1, 'Business': 1, 'Insider.': 1, '(': 1, 'Facebook': 2, 'Apple': 1, 'Netflix': 1, 'Google': 2, ')': 1, 'down': 2, 'considerably': 1, '12': 1, 'trend': 2, 'accelerated': 1, 'when': 1, 'news': 2, 'massive': 1, 'data': 1, 'scandal': 1, 'broke': 1, 'sending': 1, 'tech-heavy': 1, 'Nasdaq': 1, 'downward': 1, 'frenzy.': 1, 'Investors': 1, 'wondering': 1, 'what': 2, 's': 5, 'next.': 1, 'And': 3, 'next': 3, 'isn': 1, 'good': 1, 'optimists': 1, 'thinks.': 1, \"'This\": 1, 'dead': 1, 'trade': 1, 'several': 2, 'months': 3, 'he': 9, 'said.': 3, 'I': 1, 'wouldn': 1, 'expect': 1, 'there': 1, 'be': 2, 'lot': 1, 'performance': 1, 'attribution': 1, 'coming': 1, 'added.': 2, 'That': 1, 'if': 2, 'gains': 1, 'they': 4, 'largely': 2, 'come': 1, 'big': 3, 'companies.': 1, 'technology': 1, 'other': 1, 'parts': 1, 'could': 1, 'foreseeable': 1, 'future.': 1, \"'When\": 1, 'you': 2, 'get': 1, 'these': 1, 'reallocation': 1, 'trades': 1, 'de-risking': 1, 'can': 1, 'go': 1, 'on': 3, 'months.': 1, 'pricey': 1, 'said': 2, 'pointing': 1, 'investors': 2, \"'factor\": 1, 'law': 1, 'numbers': 1, \"'Just\": 1, 'because': 2, 're': 2, 'cap': 1, 'doesn': 4, 'mean': 1, 'safe': 1, 'Still': 1, 'necessarily': 1, 'think': 1, 'going': 1, 'shift': 1, 'drastically': 1, 'value': 1, \"'With\": 1, 'an': 3, 'increasingly': 1, 'favorable': 1, 'macro': 1, 'backdrop': 1, 'strong': 1, 'demand.': 1, 'who': 1, 'runs': 1, 'artificial': 2, 'intelligence': 2, 'robotics': 2, 'exchange-traded': 1, 'fund': 1, 'with': 1, '$': 1, '4': 1, 'billion': 1, 'assets': 1, 'under': 1, 'management': 1, 'thinks': 1, 'AI': 2, 'better': 1, 'areas': 1, 'growth.': 1, 'His': 1, 'ETF': 1, 'up': 2, '27': 1, '%': 1, 'past': 1, 'year': 1, 'while': 2, 'also': 2, 'over': 1, 'same': 1, 'span': 1, 'even': 1, 'While': 1, 'many': 1, 'point': 1, 'as': 2, 'area': 1, 'boost': 1, 'sign': 1, 'significant': 1, 'FAANGs.': 1, 'He': 2, 'pointed': 1, \"'eighty\": 1, 'ninety': 1, 'percent': 1, 'their': 1, 'businesses': 2, 'still': 3, 'search': 1, \"'AI\": 1, 'really': 1, 'move': 1, 'needle': 1, 'business.': 1, \"'the\": 1, 'revenue': 1, 'mix': 1, '[': 1, 'attributable': 1, ']': 1, 'those': 1, 'insignificant.': 1, 'bullish': 1, 'does': 1, 'say': 1, 'one': 1, 'watch': 1, 'simply': 1, 'ecommerce': 1, 'represents': 1, 'small': 1, 'portion': 1, 'global': 1, 'retail': 1, 'giving': 1, 'company': 1, 'room': 1, 'grow': 1, '.': 1}\n",
      "{'the', 'The', 'is', 'Studebaker', 'of', 'stocks', 'for', 'are', 'and', \"'\", '’', ',', 'to', 'out', 'in', 'a', 'he', 't', 'that', 'FAANG'}\n",
      "5.0625: One FAANG to look out for, in the midst of all this, is Amazon, according to Studebaker.\n",
      "4.9:' And while he’s not bullish on FAANG’s, he does say that the one FAANG to still watch out for is Amazon, simply because ecommerce still represents a small portion of the global retail market, giving the company room to grow.\n",
      "4.761904761904762:' The FAANG’s are pricey stocks, he said, pointing out that investors will 'factor in the law of big numbers,' he said.\n"
     ]
    }
   ],
   "source": [
    "slist = summarize(Text, 3)\n",
    "for s in slist:\n",
    "    print(s)"
   ]
  },
  {
   "cell_type": "code",
   "execution_count": 18,
   "metadata": {},
   "outputs": [
    {
     "name": "stderr",
     "output_type": "stream",
     "text": [
      "[nltk_data] Downloading package punkt to\n",
      "[nltk_data]     C:\\Users\\student\\AppData\\Roaming\\nltk_data...\n",
      "[nltk_data]   Package punkt is already up-to-date!\n"
     ]
    }
   ],
   "source": [
    "import nltk\n",
    "nltk.download('punkt')\n",
    "from nltk.tokenize import sent_tokenize\n",
    "import numpy as np\n",
    "import re\n",
    "from operator import itemgetter"
   ]
  },
  {
   "cell_type": "code",
   "execution_count": 22,
   "metadata": {},
   "outputs": [
    {
     "data": {
      "text/plain": [
       "0.7071067811865475"
      ]
     },
     "execution_count": 22,
     "metadata": {},
     "output_type": "execute_result"
    }
   ],
   "source": [
    "def cos_sim(x,y):\n",
    "    nominator = np.dot(x,y)\n",
    "    denominator = np.linalg.norm(x)*np.linalg.norm(y)\n",
    "    return nominator/denominator\n",
    "cos_sim([0,0,1,0],[0,0,1,1])\n"
   ]
  },
  {
   "cell_type": "code",
   "execution_count": 33,
   "metadata": {},
   "outputs": [
    {
     "data": {
      "text/plain": [
       "0.6666666666666667"
      ]
     },
     "execution_count": 33,
     "metadata": {},
     "output_type": "execute_result"
    }
   ],
   "source": [
    "def sentence_sim(s1, s2):\n",
    "    s1 = [word.lower() for word in s1.split()]\n",
    "    s2 = [word.lower() for word in s2.split()]\n",
    "    \n",
    "    words_ls = list(set(s1+s2))\n",
    "#     print(words_ls)\n",
    "    bow1 = [0] * len(words_ls)\n",
    "    bow2 = [0] * len(words_ls)\n",
    "    \n",
    "    for word in s1 :\n",
    "        bow1[words_ls.index(word)] += 1\n",
    "#     print(bow1)\n",
    "    for word in s2 :\n",
    "        bow2[words_ls.index(word)] += 1\n",
    "#     print(bow2)\n",
    "    return cos_sim(bow1, bow2)\n",
    "\n",
    "sentence_sim('나는 치킨을 좋아해', '나는 치킨을 싫어해')"
   ]
  },
  {
   "cell_type": "code",
   "execution_count": 35,
   "metadata": {},
   "outputs": [
    {
     "name": "stdout",
     "output_type": "stream",
     "text": [
      "[[0.         0.0112262  0.05309461 0.08495137 0.10800254 0.04884599\n",
      "  0.         0.0267237  0.0267237  0.05454953 0.0748202  0.05921028\n",
      "  0.04628681 0.0115717  0.05554416 0.         0.0119512  0.013956\n",
      "  0.04156678 0.05476728 0.05929456 0.06016671 0.02474134 0.07200538]\n",
      " [0.01794262 0.         0.04197839 0.         0.07624147 0.09654821\n",
      "  0.04091547 0.02641082 0.02641082 0.04312869 0.06572819 0.07802273\n",
      "  0.03049659 0.02287244 0.05489386 0.         0.09449022 0.\n",
      "  0.03286409 0.06185837 0.08790053 0.05096767 0.02445167 0.02587721]\n",
      " [0.07593698 0.03756431 0.         0.03553229 0.06453402 0.1050718\n",
      "  0.         0.04471048 0.04471048 0.05475893 0.04172635 0.04953131\n",
      "  0.05162721 0.03872041 0.03097633 0.         0.         0.04669857\n",
      "  0.02781756 0.09162921 0.04960183 0.0431412  0.         0.06571072]]\n"
     ]
    }
   ],
   "source": [
    "def buildMatrix(sentences):\n",
    "    weighted_edge = np.zeros((len(sentences), len(sentences)), dtype = np.float32)\n",
    "    \n",
    "    for i in range(len(sentences)):\n",
    "        for j in range(len(sentences)):\n",
    "            if i == j:\n",
    "                continue\n",
    "            weighted_edge[i][j] = sentence_sim(sentences[i], sentences[j])\n",
    "    for i in range(len(weighted_edge)):\n",
    "        weighted_edge[i] /=weighted_edge[i].sum()\n",
    "    return weighted_edge\n",
    "\n",
    "s = buildMatrix(sent_tokenize(Text))\n",
    "print(s[:3])"
   ]
  },
  {
   "cell_type": "code",
   "execution_count": 47,
   "metadata": {},
   "outputs": [],
   "source": [
    "def scoring(A, eps = 0.0001, d = 0.85, max_iter = 50):\n",
    "    P = np.ones(len(A))/len(A)\n",
    "    for i in range(0, max_iter):\n",
    "        newP = (1-d)+d*A.T.dot(P)\n",
    "        \n",
    "        if abs((newP-P).sum()) <= eps:\n",
    "            return newP\n",
    "        p = newP\n",
    "    return newP"
   ]
  },
  {
   "cell_type": "code",
   "execution_count": 49,
   "metadata": {},
   "outputs": [
    {
     "data": {
      "text/plain": [
       "(\"The FAANG’s are pricey stocks, he said, pointing out that investors will 'factor in the law of big numbers,' he said.\",\n",
       " 'While many point to artificial intelligence as an area that will be a boost to Google and Amazon, Studebaker doesn’t see that as a sign of significant growth for the FAANGs.',\n",
       " 'And while he’s not bullish on FAANG’s, he does say that the one FAANG to still watch out for is Amazon, simply because ecommerce still represents a small portion of the global retail market, giving the company room to grow.')"
      ]
     },
     "execution_count": 49,
     "metadata": {},
     "output_type": "execute_result"
    }
   ],
   "source": [
    "def summarize(text, linesinSumm = 10):\n",
    "    text = sent_tokenize(text)\n",
    "    weighted_edge = buildMatrix(text)\n",
    "    score = scoring(weighted_edge)\n",
    "    \n",
    "    rankedSentenceIndexes = [item[0] for item in sorted(enumerate(score), key = lambda item: -item[1])]\n",
    "    selectedSentence = sorted(rankedSentenceIndexes[:linesinSumm])\n",
    "    summary = itemgetter(*selectedSentence)(text)\n",
    "    return summary\n",
    "summarize(Text,3)"
   ]
  },
  {
   "cell_type": "markdown",
   "metadata": {},
   "source": [
    "# TextRank 직접 활용 (Graph)"
   ]
  },
  {
   "cell_type": "code",
   "execution_count": 53,
   "metadata": {
    "collapsed": true
   },
   "outputs": [
    {
     "name": "stderr",
     "output_type": "stream",
     "text": [
      "[nltk_data] Downloading package punkt to\n",
      "[nltk_data]     C:\\Users\\student\\AppData\\Roaming\\nltk_data...\n",
      "[nltk_data]   Package punkt is already up-to-date!\n"
     ]
    }
   ],
   "source": [
    "import nltk\n",
    "nltk.download('punkt')\n",
    "from nltk.tokenize import sent_tokenize\n",
    "import networkx as nx\n",
    "import math\n",
    "import matplotlib.pyplot as plt"
   ]
  },
  {
   "cell_type": "code",
   "execution_count": 54,
   "metadata": {},
   "outputs": [
    {
     "data": {
      "image/png": "[encoded data removed]",
      "text/plain": [
       "<Figure size 432x288 with 1 Axes>"
      ]
     },
     "metadata": {},
     "output_type": "display_data"
    },
    {
     "name": "stdout",
     "output_type": "stream",
     "text": [
      "'With an increasingly favorable macro backdrop, you have strong growth demand.'\n",
      "'Just because they’re big cap doesn’t mean they’re safe,' he added.\n",
      "Investors are wondering what’s next.\n"
     ]
    }
   ],
   "source": [
    "def sentences(text):\n",
    "    return sent_tokenize(text)\n",
    "def connect(nodes):\n",
    "    return [(start,end ,sentence_sim(start, end)) for start in nodes for end in nodes if start is not end]\n",
    "\n",
    "def rank(nodes,edges):\n",
    "    graph=nx.diamond_graph()\n",
    "    graph.add_nodes_from(nodes)\n",
    "    graph.add_weighted_edges_from(edges)\n",
    "    nx.draw(graph)\n",
    "    plt.show()\n",
    "    return nx.pagerank(graph)\n",
    "def summarize(text,num_summaries=6):\n",
    "    nodes=sentences(text)\n",
    "    edges=connect(nodes)\n",
    "    scores=rank(nodes,edges)\n",
    "    #print(nodes)\n",
    "    return sorted(scores,key=scores.get)[:num_summaries]\n",
    "\n",
    "summary=summarize(Text, 3)\n",
    "for sent in summary :\n",
    "    print(sent)"
   ]
  },
  {
   "cell_type": "code",
   "execution_count": null,
   "metadata": {},
   "outputs": [],
   "source": []
  }
 ],
 "metadata": {
  "kernelspec": {
   "display_name": "Python 3",
   "language": "python",
   "name": "python3"
  },
  "language_info": {
   "codemirror_mode": {
    "name": "ipython",
    "version": 3
   },
   "file_extension": ".py",
   "mimetype": "text/x-python",
   "name": "python",
   "nbconvert_exporter": "python",
   "pygments_lexer": "ipython3",
   "version": "3.7.3"
  }
 },
 "nbformat": 4,
 "nbformat_minor": 2
}
