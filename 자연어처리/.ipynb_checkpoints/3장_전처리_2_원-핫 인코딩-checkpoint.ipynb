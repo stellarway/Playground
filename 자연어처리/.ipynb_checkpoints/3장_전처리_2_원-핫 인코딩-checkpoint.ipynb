{
 "cells": [
  {
   "cell_type": "code",
   "execution_count": 14,
   "metadata": {},
   "outputs": [],
   "source": [
    "word_is = ['원숭이', '바나나', '사과', '코끼리']"
   ]
  },
  {
   "cell_type": "code",
   "execution_count": 6,
   "metadata": {},
   "outputs": [],
   "source": [
    "from collections import defaultdict\n",
    "import numpy as np\n",
    "\n",
    "def one_hot_encode(word_is):\n",
    "    word2idx_dic = defaultdict(lambda:len(word2idx_dic))\n",
    "    \n",
    "    for word in word_is:\n",
    "        word2idx_dic[word]\n",
    "        print(word2idx_dic)\n",
    "    \n",
    "    n_unique_words = len(word2idx_dic)\n",
    "    one_hot_vectors = np.zeros((len(word_is), n_unique_words))\n",
    "    \n",
    "    for i, word in enumerate(word_is):\n",
    "        index = word2idx_dic[word]\n",
    "        one_hot_vectors[i, index] += 1\n",
    "        \n",
    "    return one_hot_vectors"
   ]
  },
  {
   "cell_type": "code",
   "execution_count": 7,
   "metadata": {},
   "outputs": [
    {
     "name": "stdout",
     "output_type": "stream",
     "text": [
      "defaultdict(<function one_hot_encode.<locals>.<lambda> at 0x0000000005D9C488>, {'원숭이': 0})\n",
      "defaultdict(<function one_hot_encode.<locals>.<lambda> at 0x0000000005D9C488>, {'원숭이': 0, '바나나': 1})\n",
      "defaultdict(<function one_hot_encode.<locals>.<lambda> at 0x0000000005D9C488>, {'원숭이': 0, '바나나': 1, '사과': 2})\n"
     ]
    },
    {
     "data": {
      "text/plain": [
       "array([[1., 0., 0.],\n",
       "       [0., 1., 0.],\n",
       "       [0., 0., 1.]])"
      ]
     },
     "execution_count": 7,
     "metadata": {},
     "output_type": "execute_result"
    }
   ],
   "source": [
    "one_hot_vectors= one_hot_encode(word_is)\n",
    "one_hot_vectors"
   ]
  },
  {
   "cell_type": "markdown",
   "metadata": {},
   "source": [
    "# sklearn을 활용한 one-hot encoding"
   ]
  },
  {
   "cell_type": "code",
   "execution_count": 16,
   "metadata": {},
   "outputs": [
    {
     "name": "stdout",
     "output_type": "stream",
     "text": [
      "['원숭이' '바나나' '사과' '코끼리']\n",
      "[2 0 1 3]\n",
      "[[2]\n",
      " [0]\n",
      " [1]\n",
      " [3]]\n",
      "[[0. 0. 1. 0.]\n",
      " [1. 0. 0. 0.]\n",
      " [0. 1. 0. 0.]\n",
      " [0. 0. 0. 1.]]\n",
      "['원숭이']\n"
     ]
    },
    {
     "name": "stderr",
     "output_type": "stream",
     "text": [
      "C:\\ProgramData\\Anaconda3\\lib\\site-packages\\sklearn\\preprocessing\\_encoders.py:371: FutureWarning: The handling of integer data will change in version 0.22. Currently, the categories are determined based on the range [0, max(values)], while in the future they will be determined based on the unique values.\n",
      "If you want the future behaviour and silence this warning, you can specify \"categories='auto'\".\n",
      "In case you used a LabelEncoder before this OneHotEncoder to convert the categories to integers, then you can now use the OneHotEncoder directly.\n",
      "  warnings.warn(msg, FutureWarning)\n"
     ]
    }
   ],
   "source": [
    "from numpy import array\n",
    "from numpy import argmax\n",
    "from sklearn.preprocessing import LabelEncoder\n",
    "from sklearn.preprocessing import OneHotEncoder\n",
    "\n",
    "values = array(word_is)\n",
    "print(values)\n",
    "\n",
    "label_enc = LabelEncoder()\n",
    "int_enc = label_enc.fit_transform(values)\n",
    "print(int_enc)\n",
    "\n",
    "onehot_enc = OneHotEncoder(sparse = False)\n",
    "int_enc = int_enc.reshape(len(int_enc), 1)\n",
    "print(int_enc)\n",
    "onehot_enc = onehot_enc.fit_transform(int_enc)\n",
    "print(onehot_enc)\n",
    "\n",
    "inverted = label_enc.inverse_transform([argmax(onehot_enc[0, :])]) # argmax : 인자 중 가장 큰 값\n",
    "print(inverted)"
   ]
  },
  {
   "cell_type": "code",
   "execution_count": 13,
   "metadata": {},
   "outputs": [
    {
     "name": "stdout",
     "output_type": "stream",
     "text": [
      "defaultdict(<function <lambda> at 0x00000000094E3BF8>, {'원숭이': 0})\n",
      "defaultdict(<function <lambda> at 0x00000000094E3BF8>, {'원숭이': 0, '바나나': 1})\n",
      "defaultdict(<function <lambda> at 0x00000000094E3BF8>, {'원숭이': 0, '바나나': 1, '사과': 2})\n"
     ]
    },
    {
     "data": {
      "text/plain": [
       "array([[1., 0., 0.],\n",
       "       [0., 1., 0.],\n",
       "       [0., 0., 1.]])"
      ]
     },
     "execution_count": 13,
     "metadata": {},
     "output_type": "execute_result"
    }
   ],
   "source": [
    "from collections import defaultdict\n",
    "import numpy as np\n",
    "\n",
    "\n",
    "word2idx_dic = defaultdict(lambda:len(word2idx_dic))\n",
    "\n",
    "for word in word_is:\n",
    "    word2idx_dic[word]\n",
    "    print(word2idx_dic)\n",
    "\n",
    "n_unique_words = len(word2idx_dic)\n",
    "one_hot_vectors = np.zeros((len(word_is), n_unique_words))\n",
    "\n",
    "for i, word in enumerate(word_is):\n",
    "    index = word2idx_dic[word]\n",
    "    one_hot_vectors[i, index] += 1\n",
    "\n",
    "one_hot_vectors"
   ]
  },
  {
   "cell_type": "code",
   "execution_count": null,
   "metadata": {},
   "outputs": [],
   "source": []
  }
 ],
 "metadata": {
  "kernelspec": {
   "display_name": "Python 3",
   "language": "python",
   "name": "python3"
  },
  "language_info": {
   "codemirror_mode": {
    "name": "ipython",
    "version": 3
   },
   "file_extension": ".py",
   "mimetype": "text/x-python",
   "name": "python",
   "nbconvert_exporter": "python",
   "pygments_lexer": "ipython3",
   "version": "3.7.3"
  }
 },
 "nbformat": 4,
 "nbformat_minor": 2
}
