{
 "cells": [
  {
   "cell_type": "code",
   "execution_count": 1,
   "metadata": {},
   "outputs": [
    {
     "name": "stderr",
     "output_type": "stream",
     "text": [
      "[nltk_data] Downloading package punkt to\n",
      "[nltk_data]     C:\\Users\\student\\AppData\\Roaming\\nltk_data...\n",
      "[nltk_data]   Package punkt is already up-to-date!\n",
      "[nltk_data] Downloading package averaged_perceptron_tagger to\n",
      "[nltk_data]     C:\\Users\\student\\AppData\\Roaming\\nltk_data...\n",
      "[nltk_data]   Package averaged_perceptron_tagger is already up-to-\n",
      "[nltk_data]       date!\n"
     ]
    },
    {
     "name": "stdout",
     "output_type": "stream",
     "text": [
      "['Seoul', 'is', 'the', 'capital', 'of', 'Korea', '.']\n",
      "[('Seoul', 'NNP'), ('is', 'VBZ'), ('the', 'DT'), ('capital', 'NN'), ('of', 'IN'), ('Korea', 'NNP'), ('.', '.')]\n"
     ]
    }
   ],
   "source": [
    "import nltk\n",
    "nltk.download('punkt')\n",
    "nltk.download('averaged_perceptron_tagger')\n",
    "simpleSentence=\"Seoul is the capital of Korea.\"\n",
    "wordsInSentence=nltk.word_tokenize(simpleSentence)\n",
    "print(wordsInSentence)\n",
    "partsOfSpeechTags = nltk.pos_tag(wordsInSentence)\n",
    "print(partsOfSpeechTags)"
   ]
  },
  {
   "cell_type": "code",
   "execution_count": 9,
   "metadata": {},
   "outputs": [
    {
     "name": "stdout",
     "output_type": "stream",
     "text": [
      "[('Reykjavik', 'NN'), ('is', 'NN'), ('an', 'NN'), ('amazing', 'NN'), ('place', 'NN'), ('on', 'NN'), ('eargh', 'NN'), ('.', 'NN'), ('I', 'NN'), ('have', 'NN'), ('visited', 'NN'), ('Reykjavik', 'NN')]\n",
      "[('Reykjavik', 'VERB'), ('is', 'VERB'), ('an', 'VERB'), ('amazing', 'VERB'), ('place', 'VERB'), ('on', 'VERB'), ('eargh', 'VERB'), ('.', 'VERB'), ('I', 'VERB'), ('have', 'VERB'), ('visited', 'VERB'), ('Reykjavik', 'VERB')]\n",
      "[('Reykjavik', 'NNP'), ('is', 'VBZ'), ('an', 'DT'), ('amazing', 'JJ'), ('place', 'NN'), ('on', 'IN'), ('eargh', None), ('.', ','), ('I', None), ('have', None), ('visited', None), ('Reykjavik', 'NNP')]\n"
     ]
    }
   ],
   "source": [
    "def learnDefaultTagger(simpleSentence):\n",
    "    wordsInSentence = nltk.word_tokenize(simpleSentence)\n",
    "    tagger = nltk.DefaultTagger(\"NN\")\n",
    "    posEnabledTags = tagger.tag(wordsInSentence)\n",
    "    print(posEnabledTags)\n",
    "    \n",
    "def learnRETagger(simpleSentence):\n",
    "    customPatterns = [\n",
    "        (r'.&ing$', 'ADJECTIVE'),\n",
    "        (r'.*ly$', 'ADVERB'),\n",
    "        (r'.*ion$', 'NOUN'),\n",
    "        (r'(.*|.*en|is)$', 'VERB'),\n",
    "        (r'^an$', 'INDEFINITE-ARTICLE'),\n",
    "        (r'^(with|on|at)$', 'PREPOSITION'),\n",
    "        (r'^\\-?[0-9]+(\\.[0-9]+)$', 'NUMBER'),\n",
    "        (r'.*$',None)        \n",
    "    ]\n",
    "    tagger = nltk.RegexpTagger(customPatterns)\n",
    "    wordsInSentence = nltk.word_tokenize(simpleSentence)\n",
    "    posEnabledTags = tagger.tag(wordsInSentence)\n",
    "    print(posEnabledTags)\n",
    "\n",
    "def learnLookupTagger(simpleSentence):\n",
    "    mapping = {\n",
    "        '.':'.', 'place':'NN', 'on':'IN','earth':'NN', \n",
    "        'Reykjavik':'NNP', 'is':'VBZ','an':'DT', 'amazing':'JJ'\n",
    "    }\n",
    "    tagger = nltk.UnigramTagger(model=mapping)\n",
    "    wordsInSentence = nltk.word_tokenize(simpleSentence)\n",
    "    posEnabledTags = tagger.tag(wordsInSentence)\n",
    "    print(posEnabledTags)\n",
    "\n",
    "if __name__ == '__main__':\n",
    "    testSentence = 'Reykjavik is an amazing place on eargh. I have visited Reykjavik'\n",
    "    learnDefaultTagger(testSentence)\n",
    "    learnRETagger(testSentence)\n",
    "    learnLookupTagger(testSentence)"
   ]
  },
  {
   "cell_type": "markdown",
   "metadata": {},
   "source": [
    "# pickle 예제\n",
    "#### 자체 태거를 학습시켜 모델로 저장"
   ]
  },
  {
   "cell_type": "code",
   "execution_count": 12,
   "metadata": {},
   "outputs": [
    {
     "name": "stdout",
     "output_type": "stream",
     "text": [
      "[('Iphone', None), ('is', 'VBZ'), ('purchased', 'VBN'), ('by', 'IN'), ('Steve', 'NNP'), ('Jobs', 'NNP'), ('in', 'IN'), ('Bangalore', 'NNP'), ('Market', 'NNP')]\n"
     ]
    }
   ],
   "source": [
    "import pickle\n",
    "\n",
    "def sampleData():\n",
    "    return [\n",
    "        \"Bangalore is the capital of Karnataka.\",\n",
    "        \"Steve Jobs was the CEO of Apple.\",\n",
    "        \"iPhone was Invented by Apple.\",\n",
    "        \"Books can be purchased in Market.\",\n",
    "    ]\n",
    "\n",
    "def buildDictionary():\n",
    "    dictionary = {}\n",
    "    for sent in sampleData():\n",
    "        partsOfSpeechTags = nltk.pos_tag(nltk.word_tokenize(sent))\n",
    "        for tag in partsOfSpeechTags:\n",
    "            value = tag[0]\n",
    "            pos = tag[1]\n",
    "            dictionary[value] = pos\n",
    "            # 토큰 별로 품사가 부착된 딕셔너리가 반환\n",
    "    return dictionary\n",
    "\n",
    "def saveMyTagger(tagger, fileName):\n",
    "    fileHandle = open(fileName,\"wb\")\n",
    "    pickle.dump(tagger,fileHandle)\n",
    "    fileHandle.close()\n",
    "    \n",
    "def saveMyTraining(fileName):\n",
    "    tagger = nltk.UnigramTagger (model = buildDictionary())\n",
    "    # buildDictionary() - 기존의 딕셔너리를 이용해 만든다는 뜻\n",
    "    saveMyTagger(tagger, fileName)\n",
    "\n",
    "def loadMyTagger(fileName):\n",
    "    return pickle.load(open(fileName,'rb'))\n",
    "\n",
    "sentence = 'Iphone is purchased by Steve Jobs in Bangalore Market'\n",
    "fileName = 'myTagger.pickle'\n",
    "\n",
    "saveMyTraining(fileName)\n",
    "\n",
    "myTagger = loadMyTagger(fileName)\n",
    "\n",
    "print(myTagger.tag(nltk.word_tokenize(sentence)))"
   ]
  },
  {
   "cell_type": "markdown",
   "metadata": {},
   "source": [
    "# Grammar CFG(Context-Free Grammar)\n",
    "### 토큰들 사이의 의존도나 구문 분석에 사용"
   ]
  },
  {
   "cell_type": "code",
   "execution_count": 48,
   "metadata": {},
   "outputs": [
    {
     "name": "stdout",
     "output_type": "stream",
     "text": [
      "Grammar with 12 productions (start state = ROOT)\n",
      "    ROOT -> WORD\n",
      "    WORD -> ' '\n",
      "    WORD -> NUMBER LETTER\n",
      "    WORD -> LETTER NUMBER\n",
      "    NUMBER -> '0'\n",
      "    NUMBER -> '1'\n",
      "    NUMBER -> '2'\n",
      "    NUMBER -> '3'\n",
      "    LETTER -> 'a'\n",
      "    LETTER -> 'b'\n",
      "    LETTER -> 'c'\n",
      "    LETTER -> 'd'\n",
      "생성된 단어: , 크기: 0\n"
     ]
    }
   ],
   "source": [
    "import string\n",
    "from nltk.parse.generate import generate\n",
    "\n",
    "productions = [\n",
    "    \"ROOT -> WORD\",\n",
    "    \"WORD -> ' '\",\n",
    "    \"WORD -> NUMBER LETTER\",\n",
    "    \"WORD -> LETTER NUMBER\",\n",
    "]\n",
    "\n",
    "digits = list(string.digits)\n",
    "for digit in digits[:4]:\n",
    "    productions.append(\"NUMBER -> '{w}'\".format(w=digit))\n",
    "letters = \"' | '\".join(list(string.ascii_lowercase)[:4])\n",
    "productions.append(\"LETTER -> '{w}'\".format(w=letters))\n",
    "\n",
    "grammarString = \"\\n\".join(productions)\n",
    "\n",
    "grammar = nltk.CFG.fromstring(grammarString)\n",
    "\n",
    "print(grammar)\n",
    "\n",
    "for sentence in generate(grammar, depth = 3):\n",
    "    palindrome = \"\".join(sentence).replace(\" \",\"\")\n",
    "    print(\"생성된 단어: {}, 크기: {}\".format(palindrome, len(palindrome)))"
   ]
  },
  {
   "cell_type": "code",
   "execution_count": 53,
   "metadata": {},
   "outputs": [
    {
     "name": "stdout",
     "output_type": "stream",
     "text": [
      "Grammar with 13 productions (start state = ROOT)\n",
      "    ROOT -> WORD [1.0]\n",
      "    WORD -> P1 [0.25]\n",
      "    WORD -> P1 P2 [0.25]\n",
      "    WORD -> P1 P2 P3 [0.25]\n",
      "    WORD -> P1 P2 P3 P4 [0.25]\n",
      "    P1 -> 'A' [1.0]\n",
      "    P2 -> 'B' [0.5]\n",
      "    P2 -> 'C' [0.5]\n",
      "    P3 -> 'D' [0.3]\n",
      "    P3 -> 'E' [0.3]\n",
      "    P3 -> 'F' [0.4]\n",
      "    P4 -> 'G' [0.9]\n",
      "    P4 -> 'H' [0.1]\n",
      "문자열 : A, 크기 : 1\n",
      "문자열 : AB, 크기 : 2\n",
      "문자열 : AC, 크기 : 2\n",
      "문자열 : ABD, 크기 : 3\n",
      "문자열 : ABE, 크기 : 3\n",
      "문자열 : ABF, 크기 : 3\n",
      "문자열 : ACD, 크기 : 3\n",
      "문자열 : ACE, 크기 : 3\n",
      "문자열 : ACF, 크기 : 3\n",
      "문자열 : ABDG, 크기 : 4\n",
      "문자열 : ABDH, 크기 : 4\n",
      "문자열 : ABEG, 크기 : 4\n",
      "문자열 : ABEH, 크기 : 4\n",
      "문자열 : ABFG, 크기 : 4\n",
      "문자열 : ABFH, 크기 : 4\n",
      "문자열 : ACDG, 크기 : 4\n",
      "문자열 : ACDH, 크기 : 4\n",
      "문자열 : ACEG, 크기 : 4\n",
      "문자열 : ACEH, 크기 : 4\n",
      "문자열 : ACFG, 크기 : 4\n",
      "문자열 : ACFH, 크기 : 4\n"
     ]
    }
   ],
   "source": [
    "productions = [\n",
    "    \"ROOT -> WORD [1.0]\",\n",
    "    \"WORD -> P1 [0.25]\",\n",
    "    \"WORD -> P1 P2 [0.25]\",\n",
    "    \"WORD -> P1 P2 P3 [0.25]\",\n",
    "    \"WORD -> P1 P2 P3 P4 [0.25]\",\n",
    "    \"P1 -> 'A' [1.0]\",\n",
    "    \"P2 -> 'B' [0.5]\",\n",
    "    \"P2 -> 'C' [0.5]\",\n",
    "    \"P3 -> 'D' [0.3]\",\n",
    "    \"P3 -> 'E' [0.3]\",\n",
    "    \"P3 -> 'F' [0.4]\",\n",
    "    \"P4 -> 'G' [0.9]\",\n",
    "    \"P4 -> 'H' [0.1]\",\n",
    "]\n",
    "\n",
    "grammarString = \"\\n\".join(productions)\n",
    "grammar = nltk.PCFG.fromstring(grammarString)\n",
    "print(grammar)\n",
    "for sentence in generate(grammar, depth=5):\n",
    "    palindrome = \"\".join(sentence).replace(\" \",\"\")\n",
    "    print(\"문자열 : {}, 크기 : {}\".format(palindrome, len(palindrome)))"
   ]
  },
  {
   "cell_type": "markdown",
   "metadata": {},
   "source": [
    "# Recursive CFG"
   ]
  },
  {
   "cell_type": "code",
   "execution_count": 56,
   "metadata": {},
   "outputs": [
    {
     "name": "stdout",
     "output_type": "stream",
     "text": [
      "Grammar with 12 productions (start state = ROOT)\n",
      "    ROOT -> WORD\n",
      "    WORD -> ' '\n",
      "    WORD -> '0' WORD '0'\n",
      "    WORD -> '1' WORD '1'\n",
      "    WORD -> '2' WORD '2'\n",
      "    WORD -> '3' WORD '3'\n",
      "    WORD -> '4' WORD '4'\n",
      "    WORD -> '5' WORD '5'\n",
      "    WORD -> '6' WORD '6'\n",
      "    WORD -> '7' WORD '7'\n",
      "    WORD -> '8' WORD '8'\n",
      "    WORD -> '9' WORD '9'\n",
      "Palindrome : , Size : 0\n",
      "Palindrome : 00, Size : 2\n",
      "Palindrome : 0000, Size : 4\n",
      "Palindrome : 0110, Size : 4\n",
      "Palindrome : 0220, Size : 4\n",
      "Palindrome : 0330, Size : 4\n",
      "Palindrome : 0440, Size : 4\n",
      "Palindrome : 0550, Size : 4\n",
      "Palindrome : 0660, Size : 4\n",
      "Palindrome : 0770, Size : 4\n",
      "Palindrome : 0880, Size : 4\n",
      "Palindrome : 0990, Size : 4\n",
      "Palindrome : 11, Size : 2\n",
      "Palindrome : 1001, Size : 4\n",
      "Palindrome : 1111, Size : 4\n",
      "Palindrome : 1221, Size : 4\n",
      "Palindrome : 1331, Size : 4\n",
      "Palindrome : 1441, Size : 4\n",
      "Palindrome : 1551, Size : 4\n",
      "Palindrome : 1661, Size : 4\n"
     ]
    }
   ],
   "source": [
    "productions = [\n",
    "    \"ROOT -> WORD\",\n",
    "    \"WORD -> ' '\"\n",
    "]\n",
    "\n",
    "alphabets = list(string.digits)\n",
    "for alphabet in alphabets:\n",
    "    productions.append(\"WORD -> '{w}' WORD '{w}'\".format(w=alphabet))\n",
    "    \n",
    "grammarString = \"\\n\".join(productions)\n",
    "grammar = nltk.CFG.fromstring(grammarString)\n",
    "                # fromstring : 문자열로부터 규칙을 뽑아낸다!!\n",
    "print(grammar)\n",
    "for sentence in generate(grammar, n=20,depth=5):\n",
    "    palindrome = \"\".join(sentence).replace(\" \", \"\")\n",
    "    print(\"Palindrome : {}, Size : {}\".format(palindrome, len(palindrome)))"
   ]
  },
  {
   "cell_type": "code",
   "execution_count": null,
   "metadata": {},
   "outputs": [],
   "source": []
  }
 ],
 "metadata": {
  "kernelspec": {
   "display_name": "Python 3",
   "language": "python",
   "name": "python3"
  },
  "language_info": {
   "codemirror_mode": {
    "name": "ipython",
    "version": 3
   },
   "file_extension": ".py",
   "mimetype": "text/x-python",
   "name": "python",
   "nbconvert_exporter": "python",
   "pygments_lexer": "ipython3",
   "version": "3.7.3"
  }
 },
 "nbformat": 4,
 "nbformat_minor": 2
}
