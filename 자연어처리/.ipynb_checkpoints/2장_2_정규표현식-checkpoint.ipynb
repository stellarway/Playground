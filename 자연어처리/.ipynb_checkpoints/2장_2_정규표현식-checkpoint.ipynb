{
 "cells": [
  {
   "cell_type": "code",
   "execution_count": 3,
   "metadata": {
    "scrolled": true
   },
   "outputs": [
    {
     "name": "stdout",
     "output_type": "stream",
     "text": [
      "일치하는 항목을 찾았습니다!\n",
      "일치하는 항목을 찾았습니다!\n",
      "일치하는 항목을 찾았습니다!\n",
      "일치하는 항목을 찾았습니다!\n",
      "일치하는 항목을 찾았습니다!\n",
      "일치하는 항목을 찾았습니다!\n",
      "일치하지 않음!\n",
      "일치하는 항목을 찾았습니다!\n",
      "일치하는 항목을 찾았습니다!\n",
      "일치하는 항목을 찾았습니다!\n",
      "일치하는 항목을 찾았습니다!\n"
     ]
    }
   ],
   "source": [
    "import re\n",
    "def text_match(text,patterns):\n",
    "    if re.search(patterns, text):\n",
    "        return('일치하는 항목을 찾았습니다!')\n",
    "    else:\n",
    "        return('일치하지 않음!')\n",
    "    \n",
    "print(text_match('ac','ab?'))\n",
    "print(text_match('abc','ab?'))\n",
    "print(text_match('abbc','ab?'))\n",
    "\n",
    "print(text_match('ac','ab?'))\n",
    "print(text_match('abc','ab?'))\n",
    "print(text_match('abbc','ab?'))\n",
    "\n",
    "print(text_match('ac','ab+'))\n",
    "print(text_match('abc','ab+'))\n",
    "print(text_match('abbc','ab+'))\n",
    "\n",
    "print(text_match('abbc','ab{2}'))\n",
    "print(text_match('aabbbbbbc','ab{3,5}'))"
   ]
  },
  {
   "cell_type": "markdown",
   "metadata": {},
   "source": [
    "? : 물음표는 0번 또는 1차례까지의 발생을 의미한다. 이를테면 colou?r는 \"color\"와 \"colour\"를 둘 다 일치시킨  \n",
    "* : 별표는 0번 이상의 발생을 의미한다. 이를테면 ab*c는 \"ac\", \"abc\", \"abbc\", \"abbbc\" 등을 일치시킨다.  \n",
    "+ : 덧셈 기호는 1번 이상의 발생을 의미한다. 이를테면 ab+c는 \"abc\", \"abbc\", \"abbbc\" 등을 일치시키지만 \"ac  \n",
    "{n} : 정확히 n 번만큼 일치시킨다.  \n",
    "{min,} : \"min\"번 이상만큼 일치시킨다.  \n",
    "{min,max} : 적어도 \"min\"번만큼 일치시키지만 \"max\"번을 초과하여 일치시키지는 않는다.  \n",
    "^ : 문자열이나 행의 처음을 의미한다.  \n",
    "$ : 문자열이나 행의 끝을 의미한다.  \n",
    ". : 1개의 문자와 일치한다. 단일행 모드에서는 새줄 문자를 제외한다.  \n",
    "\\w : \"[A-Za-z0-9_]\" = 영숫자 + \"_\"  \n",
    "\\S : \"[^ \\t\\r\\n\\v\\f]\" = 공백이 아닌 모든 문자 (\\w보다 큰 범위)  \n",
    "\\B : 문자와 공백사이가 아닌 문자를 의미  \n",
    "\\b : 공백이나 특수문자 의미 (낱말의 경계)\n"
   ]
  },
  {
   "cell_type": "code",
   "execution_count": 10,
   "metadata": {},
   "outputs": [
    {
     "name": "stdout",
     "output_type": "stream",
     "text": [
      "테스트 패턴은 다음으로 시작하고 끝남\n",
      "일치하는 항목을 찾았습니다!\n",
      "단어로 시작함\n",
      "일치하는 항목을 찾았습니다!\n",
      "단어와 선택적 문장부호로 끝남\n",
      "일치하는 항목을 찾았습니다!\n",
      "단어의 시작이나 끝이 아닌 문자가 포함된 단어 찾기\n",
      "일치하는 항목을 찾았습니다!\n"
     ]
    }
   ],
   "source": [
    "import re\n",
    "def text_match(text,patterns):\n",
    "    if re.search(patterns, text):\n",
    "        return('일치하는 항목을 찾았습니다!')\n",
    "    else:\n",
    "        return('일치하지 않음!')\n",
    "\n",
    "print(\"테스트 패턴은 다음으로 시작하고 끝남\")\n",
    "print(text_match(\"abbbbbc\", \"^a.*c$\"))\n",
    "print(\"단어로 시작함\")\n",
    "print(text_match(\"Tuffy eats pie, Loki eats peas!\", \"^\\w+\"))\n",
    "print(\"단어와 선택적 문장부호로 끝남\")\n",
    "print(text_match(\"Tuffy eats pie, Loki eats peas!\", \"\\w+\\S*?$\"))\n",
    "print(\"단어의 시작이나 끝이 아닌 문자가 포함된 단어 찾기\")\n",
    "print(text_match(\"Tuffy eats pie, Loki eats peas!\", \"\\Bu\\B\"))"
   ]
  },
  {
   "cell_type": "code",
   "execution_count": 19,
   "metadata": {},
   "outputs": [
    {
     "name": "stdout",
     "output_type": "stream",
     "text": [
      "\"Tuffy eats pie, Loki eats peas!\"에서 \"Tuffy\" 검색 중 ->\n",
      "찾았습니다!\n",
      "\"Tuffy eats pie, Loki eats peas!\"에서 \"Pie\" 검색 중 ->\n",
      "찾을 수 없습니다!\n",
      "\"Tuffy eats pie, Loki eats peas!\"에서 \"Loki\" 검색 중 ->\n",
      "찾았습니다!\n",
      "12:20에서 \"festival\"을(를) 찾았습니다.\n",
      "42:50에서 \"festival\"을(를) 찾았습니다.\n"
     ]
    }
   ],
   "source": [
    "import re\n",
    "#search for literal strings in sentence\n",
    "patterns = [ 'Tuffy', 'Pie', 'Loki' ]\n",
    "text = 'Tuffy eats pie, Loki eats peas!'\n",
    "for pattern in patterns:\n",
    "    print('\"%s\"에서 \"%s\" 검색 중 ->' % (text, pattern),)\n",
    "    if re.search(pattern, text):\n",
    "        print('찾았습니다!')\n",
    "    else:\n",
    "        print('찾을 수 없습니다!')\n",
    "#search a substring and find it's location too\n",
    "text = 'Diwali is a festival of lights, Holi is a festival of colors!'\n",
    "pattern = 'festival'\n",
    "for match in re.finditer(pattern, text):\n",
    "    s = match.start()\n",
    "    e = match.end()\n",
    "    print('%d:%d에서 \"%s\"을(를) 찾았습니다.' % (s, e, text[s:e]))"
   ]
  },
  {
   "cell_type": "code",
   "execution_count": 1,
   "metadata": {},
   "outputs": [],
   "source": [
    "# https://regexr.com"
   ]
  },
  {
   "cell_type": "markdown",
   "metadata": {},
   "source": [
    "(x) : 그룹을 표현하며 x 를 그룹으로 처리함을 의미  \n",
    "(x)(y) : 그룹들의 집합을 표현하며 앞에서 부터 순서대로 번호를 부여하여 관리하고 x, y 는 각 그룹의 데이터  \n",
    "[xy] : 문자 선택을 표현하며 x 와 y 중에 하나를 의미  "
   ]
  },
  {
   "cell_type": "code",
   "execution_count": 3,
   "metadata": {},
   "outputs": [
    {
     "name": "stdout",
     "output_type": "stream",
     "text": [
      "URL에서 찾은 날짜 : [('2018', '10', '28')]\n",
      "True\n",
      "False\n"
     ]
    }
   ],
   "source": [
    "import re\n",
    "url= \"http://www.telegraph.co.uk/formula-1/2018/10/28/mexican-grand-prix-2017-time-does-start-tv-channel-odds-lewisl/\"\n",
    "date_regex = '/(\\d{4})/(\\d{1,2})/(\\d{1,2})/'\n",
    "print(\"URL에서 찾은 날짜 :\", re.findall(date_regex, url))\n",
    "def is_allowed_specific_char(string):\n",
    "    charRe = re.compile(r'[^a-zA-Z0-9.]') # r은 raw text\n",
    "    string = charRe.search(string)\n",
    "    return not bool(string)\n",
    "print(is_allowed_specific_char(\"ABCDEFabcdef123450.\"))\n",
    "print(is_allowed_specific_char(\"*&%@#!}{\"))\n"
   ]
  },
  {
   "cell_type": "code",
   "execution_count": 10,
   "metadata": {},
   "outputs": [
    {
     "name": "stdout",
     "output_type": "stream",
     "text": [
      "21 Teheran Rd\n",
      "['light', 'color']\n"
     ]
    }
   ],
   "source": [
    "import re\n",
    "street = '21 Teheran Roaad'\n",
    "print(re.sub('Roa*d', 'Rd', street)) # 문자가 아닌 패턴으로도 적용 가능!\n",
    "                                    # replace와 비슷하다고 생각하면 된다!\n",
    "text = 'Diwali is a festival of light, Holi is a festival of color!'\n",
    "print(re.findall(r\"\\b\\w{5}\\b\", text))"
   ]
  },
  {
   "cell_type": "markdown",
   "metadata": {},
   "source": [
    "# 토크나이저 구현"
   ]
  },
  {
   "cell_type": "code",
   "execution_count": 20,
   "metadata": {},
   "outputs": [
    {
     "name": "stdout",
     "output_type": "stream",
     "text": [
      "['I', 'am', 'big!', \"It's\", 'the', 'pictures', 'that', 'got', 'small.']\n",
      "['I', 'am', 'big', 'It', 's', 'the', 'pictures', 'that', 'got', 'small', '']\n",
      "['I', 'am', 'big', '!', 'It', \"'s\", 'the', 'pictures', 'that', 'got', 'small', '.']\n"
     ]
    }
   ],
   "source": [
    "import re\n",
    "raw = \"I am big! It's   the pictures that got small.\"\n",
    "print(re.split(r' +', raw))\n",
    "print(re.split(r'\\W+', raw)) # 대문자 W는 영문, 숫자가 아닌 경우\n",
    "print(re.findall(r'\\w+|\\S\\w*', raw)) # | 는 'or'을 의미"
   ]
  },
  {
   "cell_type": "code",
   "execution_count": 30,
   "metadata": {},
   "outputs": [
    {
     "name": "stdout",
     "output_type": "stream",
     "text": [
      "['Keep', 'your', 'friends', 'close', ',', 'but', 'your', 'enemies', 'closer', '.']\n",
      "'Keep'\n",
      "'your'\n",
      "'friends'\n",
      "'close'\n",
      "','\n",
      "'but'\n",
      "'your'\n",
      "'enemies'\n",
      "'closer'\n",
      "'.'\n"
     ]
    }
   ],
   "source": [
    "\n",
    "def stem(word):\n",
    "    splits = re.findall(r'^(.*)(ing|ly|ed|ious|ies|ive|es|s|ment)?$', word)\n",
    "    stem = splits[0][0]\n",
    "    return stem\n",
    "raw = \"Keep your friends close, but your enemies closer.\"\n",
    "tokens = re.findall(r'\\w+|\\S\\w*', raw)\n",
    "print(tokens)\n",
    "for t in tokens:\n",
    "    print(\"'\"+stem(t)+\"'\")\n",
    "\n"
   ]
  },
  {
   "cell_type": "code",
   "execution_count": 33,
   "metadata": {},
   "outputs": [
    {
     "data": {
      "text/plain": [
       "[('Keep your friends close, but your enemies closer.', '')]"
      ]
     },
     "execution_count": 33,
     "metadata": {},
     "output_type": "execute_result"
    }
   ],
   "source": [
    "splits = re.findall(r'^(.*?)(ing|ly|ed|ious|ies|ive|es|s|ment)?$', \"Keep your friends close, but your enemies closer.\")\n",
    "stem = splits[0][0]\n",
    "splits"
   ]
  },
  {
   "cell_type": "code",
   "execution_count": 41,
   "metadata": {
    "scrolled": true
   },
   "outputs": [
    {
     "ename": "ModuleNotFoundError",
     "evalue": "No module named 'ekonlpy'",
     "output_type": "error",
     "traceback": [
      "\u001b[1;31m---------------------------------------------------------------------------\u001b[0m",
      "\u001b[1;31mModuleNotFoundError\u001b[0m                       Traceback (most recent call last)",
      "\u001b[1;32m<ipython-input-41-06249891b3b7>\u001b[0m in \u001b[0;36m<module>\u001b[1;34m\u001b[0m\n\u001b[1;32m----> 1\u001b[1;33m \u001b[1;32mfrom\u001b[0m \u001b[0mekonlpy\u001b[0m\u001b[1;33m.\u001b[0m\u001b[0mtag\u001b[0m \u001b[1;32mimport\u001b[0m \u001b[0mMecab\u001b[0m\u001b[1;33m\u001b[0m\u001b[1;33m\u001b[0m\u001b[0m\n\u001b[0m\u001b[0;32m      2\u001b[0m \u001b[0mmecab\u001b[0m\u001b[1;33m=\u001b[0m\u001b[0mMecab\u001b[0m\u001b[1;33m(\u001b[0m\u001b[1;33m)\u001b[0m\u001b[1;33m\u001b[0m\u001b[1;33m\u001b[0m\u001b[0m\n\u001b[0;32m      3\u001b[0m \u001b[0mmecab\u001b[0m\u001b[1;33m.\u001b[0m\u001b[0mpos\u001b[0m\u001b[1;33m(\u001b[0m\u001b[1;34m'금통위는 따라서 물가안정과 병행, 경기상황에 유의하는 금리정책을 펼쳐나가기로 했다고 밝혔다.'\u001b[0m\u001b[1;33m)\u001b[0m\u001b[1;33m\u001b[0m\u001b[1;33m\u001b[0m\u001b[0m\n",
      "\u001b[1;31mModuleNotFoundError\u001b[0m: No module named 'ekonlpy'"
     ]
    }
   ],
   "source": [
    "from ekonlpy.tag import Mecab\n",
    "mecab=Mecab()\n",
    "mecab.pos('금통위는 따라서 물가안정과 병행, 경기상황에 유의하는 금리정책을 펼쳐나가기로 했다고 밝혔다.')"
   ]
  },
  {
   "cell_type": "code",
   "execution_count": 37,
   "metadata": {},
   "outputs": [
    {
     "name": "stdout",
     "output_type": "stream",
     "text": [
      "미\tNNP,인명,F,미,*,*,*,*\n",
      "캅\tNNP,인명,T,캅,*,*,*,*\n",
      "이\tJKS,*,F,이,*,*,*,*\n",
      "잘\tMAG,*,T,잘,*,*,*,*\n",
      "설치\tNNG,행위,F,설치,*,*,*,*\n",
      "되\tXSV,*,F,되,*,*,*,*\n",
      "었\tEP,*,T,었,*,*,*,*\n",
      "는지\tEC,*,F,는지,*,*,*,*\n",
      "확인\tNNG,행위,T,확인,*,*,*,*\n",
      "중\tNNB,*,T,중,*,*,*,*\n",
      "입니다\tVCP+EF,*,F,입니다,Inflect,VCP,EF,이/VCP/*+ᄇ니다/EF/*\n",
      ".\tSF,*,*,*,*,*,*,*\n",
      "EOS\n",
      "\n"
     ]
    }
   ],
   "source": [
    "import MeCab\n",
    "m=MeCab.Tagger()\n",
    "out=m.parse(\"미캅이 잘 설치되었는지 확인중입니다.\")\n",
    "print(out)"
   ]
  },
  {
   "cell_type": "code",
   "execution_count": null,
   "metadata": {},
   "outputs": [],
   "source": []
  }
 ],
 "metadata": {
  "kernelspec": {
   "display_name": "Python 3",
   "language": "python",
   "name": "python3"
  },
  "language_info": {
   "codemirror_mode": {
    "name": "ipython",
    "version": 3
   },
   "file_extension": ".py",
   "mimetype": "text/x-python",
   "name": "python",
   "nbconvert_exporter": "python",
   "pygments_lexer": "ipython3",
   "version": "3.7.3"
  }
 },
 "nbformat": 4,
 "nbformat_minor": 2
}
