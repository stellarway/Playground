{
 "cells": [
  {
   "cell_type": "markdown",
   "metadata": {},
   "source": [
    "# Term Frequency-Inverse Document Frequency"
   ]
  },
  {
   "cell_type": "code",
   "execution_count": 1,
   "metadata": {},
   "outputs": [],
   "source": [
    "d1 = \"The cat sat on my face I hate a cat\"\n",
    "d2 = \"The dog sat on my bed I love a dog\""
   ]
  },
  {
   "cell_type": "code",
   "execution_count": 2,
   "metadata": {},
   "outputs": [],
   "source": [
    "bowA = d1.split()\n",
    "bowB = d2.split()"
   ]
  },
  {
   "cell_type": "code",
   "execution_count": 3,
   "metadata": {},
   "outputs": [],
   "source": [
    "wordSet = set(bowA).union(set(bowB))"
   ]
  },
  {
   "cell_type": "code",
   "execution_count": 4,
   "metadata": {},
   "outputs": [],
   "source": [
    "wordDictA = dict.fromkeys(wordSet, 0)\n",
    "wordDictB = dict.fromkeys(wordSet, 0)"
   ]
  },
  {
   "cell_type": "code",
   "execution_count": 6,
   "metadata": {},
   "outputs": [],
   "source": [
    "for word in bowA:\n",
    "    wordDictA[word]+=1\n",
    "for word in bowB:\n",
    "    wordDictB[word]+=1"
   ]
  },
  {
   "cell_type": "code",
   "execution_count": 7,
   "metadata": {},
   "outputs": [
    {
     "data": {
      "text/html": [
       "<div>\n",
       "<style scoped>\n",
       "    .dataframe tbody tr th:only-of-type {\n",
       "        vertical-align: middle;\n",
       "    }\n",
       "\n",
       "    .dataframe tbody tr th {\n",
       "        vertical-align: top;\n",
       "    }\n",
       "\n",
       "    .dataframe thead th {\n",
       "        text-align: right;\n",
       "    }\n",
       "</style>\n",
       "<table border=\"1\" class=\"dataframe\">\n",
       "  <thead>\n",
       "    <tr style=\"text-align: right;\">\n",
       "      <th></th>\n",
       "      <th>I</th>\n",
       "      <th>The</th>\n",
       "      <th>a</th>\n",
       "      <th>bed</th>\n",
       "      <th>cat</th>\n",
       "      <th>dog</th>\n",
       "      <th>face</th>\n",
       "      <th>hate</th>\n",
       "      <th>love</th>\n",
       "      <th>my</th>\n",
       "      <th>on</th>\n",
       "      <th>sat</th>\n",
       "    </tr>\n",
       "  </thead>\n",
       "  <tbody>\n",
       "    <tr>\n",
       "      <th>0</th>\n",
       "      <td>1</td>\n",
       "      <td>1</td>\n",
       "      <td>1</td>\n",
       "      <td>0</td>\n",
       "      <td>2</td>\n",
       "      <td>0</td>\n",
       "      <td>1</td>\n",
       "      <td>1</td>\n",
       "      <td>0</td>\n",
       "      <td>1</td>\n",
       "      <td>1</td>\n",
       "      <td>1</td>\n",
       "    </tr>\n",
       "    <tr>\n",
       "      <th>1</th>\n",
       "      <td>1</td>\n",
       "      <td>1</td>\n",
       "      <td>1</td>\n",
       "      <td>1</td>\n",
       "      <td>0</td>\n",
       "      <td>2</td>\n",
       "      <td>0</td>\n",
       "      <td>0</td>\n",
       "      <td>1</td>\n",
       "      <td>1</td>\n",
       "      <td>1</td>\n",
       "      <td>1</td>\n",
       "    </tr>\n",
       "  </tbody>\n",
       "</table>\n",
       "</div>"
      ],
      "text/plain": [
       "   I  The  a  bed  cat  dog  face  hate  love  my  on  sat\n",
       "0  1    1  1    0    2    0     1     1     0   1   1    1\n",
       "1  1    1  1    1    0    2     0     0     1   1   1    1"
      ]
     },
     "execution_count": 7,
     "metadata": {},
     "output_type": "execute_result"
    }
   ],
   "source": [
    "import pandas as pd\n",
    "pd.DataFrame([wordDictA, wordDictB])"
   ]
  },
  {
   "cell_type": "code",
   "execution_count": 8,
   "metadata": {},
   "outputs": [],
   "source": [
    "def computeTF(wordDict, bow):\n",
    "    tfDict = {}\n",
    "    bowCount = len(bow)\n",
    "    for word, count in wordDict.items():\n",
    "        tfDict[word] = count/float(bowCount)\n",
    "    return tfDict"
   ]
  },
  {
   "cell_type": "code",
   "execution_count": 9,
   "metadata": {},
   "outputs": [],
   "source": [
    "tfBowA = computeTF(wordDictA, bowA)\n",
    "tfBowB = computeTF(wordDictB, bowB)"
   ]
  },
  {
   "cell_type": "markdown",
   "metadata": {},
   "source": [
    "# IDF 계산"
   ]
  },
  {
   "cell_type": "code",
   "execution_count": 13,
   "metadata": {},
   "outputs": [],
   "source": [
    "def computeIDF(docList):\n",
    "    import math\n",
    "    idfDict = {}\n",
    "    N = len(docList)\n",
    "    \n",
    "    idfDict = dict.fromkeys(docList[0].keys(),0)\n",
    "    for doc in docList:\n",
    "        for word, val in doc.items():\n",
    "            if val>0:\n",
    "                idfDict[word] +=1\n",
    "    \n",
    "    for word, val in idfDict.items():\n",
    "        idfDict[word] = math.log10(N/float(val))\n",
    "    return idfDict"
   ]
  },
  {
   "cell_type": "code",
   "execution_count": 14,
   "metadata": {},
   "outputs": [],
   "source": [
    "idfs = computeIDF([wordDictA, wordDictB])"
   ]
  },
  {
   "cell_type": "code",
   "execution_count": 15,
   "metadata": {},
   "outputs": [
    {
     "data": {
      "text/plain": [
       "{'face': 0.3010299956639812,\n",
       " 'bed': 0.3010299956639812,\n",
       " 'on': 0.0,\n",
       " 'hate': 0.3010299956639812,\n",
       " 'my': 0.0,\n",
       " 'dog': 0.3010299956639812,\n",
       " 'love': 0.3010299956639812,\n",
       " 'sat': 0.0,\n",
       " 'cat': 0.3010299956639812,\n",
       " 'The': 0.0,\n",
       " 'I': 0.0,\n",
       " 'a': 0.0}"
      ]
     },
     "execution_count": 15,
     "metadata": {},
     "output_type": "execute_result"
    }
   ],
   "source": [
    "idfs"
   ]
  },
  {
   "cell_type": "markdown",
   "metadata": {},
   "source": [
    "# TF-IDF 계산"
   ]
  },
  {
   "cell_type": "code",
   "execution_count": 18,
   "metadata": {},
   "outputs": [],
   "source": [
    "def computeTFIDF(tfBow, idfs):\n",
    "    tfidf= {}\n",
    "    for word, val in tfBow.items():\n",
    "        tfidf[word] = val*idfs[word]\n",
    "    return tfidf"
   ]
  },
  {
   "cell_type": "code",
   "execution_count": 19,
   "metadata": {},
   "outputs": [],
   "source": [
    "tfidfBowA = computeTFIDF(tfBowA, idfs)\n",
    "tfidfBowB = computeTFIDF(tfBowB, idfs)"
   ]
  },
  {
   "cell_type": "code",
   "execution_count": 20,
   "metadata": {},
   "outputs": [
    {
     "data": {
      "text/html": [
       "<div>\n",
       "<style scoped>\n",
       "    .dataframe tbody tr th:only-of-type {\n",
       "        vertical-align: middle;\n",
       "    }\n",
       "\n",
       "    .dataframe tbody tr th {\n",
       "        vertical-align: top;\n",
       "    }\n",
       "\n",
       "    .dataframe thead th {\n",
       "        text-align: right;\n",
       "    }\n",
       "</style>\n",
       "<table border=\"1\" class=\"dataframe\">\n",
       "  <thead>\n",
       "    <tr style=\"text-align: right;\">\n",
       "      <th></th>\n",
       "      <th>I</th>\n",
       "      <th>The</th>\n",
       "      <th>a</th>\n",
       "      <th>bed</th>\n",
       "      <th>cat</th>\n",
       "      <th>dog</th>\n",
       "      <th>face</th>\n",
       "      <th>hate</th>\n",
       "      <th>love</th>\n",
       "      <th>my</th>\n",
       "      <th>on</th>\n",
       "      <th>sat</th>\n",
       "    </tr>\n",
       "  </thead>\n",
       "  <tbody>\n",
       "    <tr>\n",
       "      <th>0</th>\n",
       "      <td>0.0</td>\n",
       "      <td>0.0</td>\n",
       "      <td>0.0</td>\n",
       "      <td>0.000000</td>\n",
       "      <td>0.060206</td>\n",
       "      <td>0.000000</td>\n",
       "      <td>0.030103</td>\n",
       "      <td>0.030103</td>\n",
       "      <td>0.000000</td>\n",
       "      <td>0.0</td>\n",
       "      <td>0.0</td>\n",
       "      <td>0.0</td>\n",
       "    </tr>\n",
       "    <tr>\n",
       "      <th>1</th>\n",
       "      <td>0.0</td>\n",
       "      <td>0.0</td>\n",
       "      <td>0.0</td>\n",
       "      <td>0.030103</td>\n",
       "      <td>0.000000</td>\n",
       "      <td>0.060206</td>\n",
       "      <td>0.000000</td>\n",
       "      <td>0.000000</td>\n",
       "      <td>0.030103</td>\n",
       "      <td>0.0</td>\n",
       "      <td>0.0</td>\n",
       "      <td>0.0</td>\n",
       "    </tr>\n",
       "  </tbody>\n",
       "</table>\n",
       "</div>"
      ],
      "text/plain": [
       "     I  The    a       bed       cat       dog      face      hate      love  \\\n",
       "0  0.0  0.0  0.0  0.000000  0.060206  0.000000  0.030103  0.030103  0.000000   \n",
       "1  0.0  0.0  0.0  0.030103  0.000000  0.060206  0.000000  0.000000  0.030103   \n",
       "\n",
       "    my   on  sat  \n",
       "0  0.0  0.0  0.0  \n",
       "1  0.0  0.0  0.0  "
      ]
     },
     "execution_count": 20,
     "metadata": {},
     "output_type": "execute_result"
    }
   ],
   "source": [
    "import pandas as pd\n",
    "pd.DataFrame([tfidfBowA, tfidfBowB])"
   ]
  },
  {
   "cell_type": "code",
   "execution_count": 23,
   "metadata": {},
   "outputs": [
    {
     "name": "stdout",
     "output_type": "stream",
     "text": [
      "The\n",
      "0.75\n",
      "-0.17609125905568127\n",
      "-0.13206844429176096\n",
      "===\n",
      "cat\n",
      "1.0\n",
      "0.0\n",
      "0.0\n",
      "===\n",
      "sat\n",
      "0.75\n",
      "-0.17609125905568127\n",
      "-0.13206844429176096\n",
      "===\n",
      "on\n",
      "0.75\n",
      "-0.17609125905568127\n",
      "-0.13206844429176096\n",
      "===\n",
      "my\n",
      "0.75\n",
      "-0.17609125905568127\n",
      "-0.13206844429176096\n",
      "===\n",
      "face\n",
      "0.75\n",
      "0.0\n",
      "0.0\n",
      "===\n",
      "I\n",
      "0.75\n",
      "-0.17609125905568127\n",
      "-0.13206844429176096\n",
      "===\n",
      "hate\n",
      "0.75\n",
      "0.0\n",
      "0.0\n",
      "===\n",
      "a\n",
      "0.75\n",
      "-0.17609125905568127\n",
      "-0.13206844429176096\n",
      "===\n",
      "cat\n",
      "1.0\n",
      "0.0\n",
      "0.0\n",
      "===\n",
      "The\n",
      "0.75\n",
      "-0.17609125905568127\n",
      "-0.13206844429176096\n",
      "===\n",
      "dog\n",
      "1.0\n",
      "0.0\n",
      "0.0\n",
      "===\n",
      "sat\n",
      "0.75\n",
      "-0.17609125905568127\n",
      "-0.13206844429176096\n",
      "===\n",
      "on\n",
      "0.75\n",
      "-0.17609125905568127\n",
      "-0.13206844429176096\n",
      "===\n",
      "my\n",
      "0.75\n",
      "-0.17609125905568127\n",
      "-0.13206844429176096\n",
      "===\n",
      "bed\n",
      "0.75\n",
      "0.0\n",
      "0.0\n",
      "===\n",
      "I\n",
      "0.75\n",
      "-0.17609125905568127\n",
      "-0.13206844429176096\n",
      "===\n",
      "love\n",
      "0.75\n",
      "0.0\n",
      "0.0\n",
      "===\n",
      "a\n",
      "0.75\n",
      "-0.17609125905568127\n",
      "-0.13206844429176096\n",
      "===\n",
      "dog\n",
      "1.0\n",
      "0.0\n",
      "0.0\n",
      "===\n",
      "====== document[0] =====\n",
      "[('The', -0.13206844429176096), ('cat', 0.0), ('sat', -0.13206844429176096), ('on', -0.13206844429176096), ('my', -0.13206844429176096), ('face', 0.0), ('I', -0.13206844429176096), ('hate', 0.0), ('a', -0.13206844429176096), ('cat', 0.0)]\n",
      "====== document[1] =====\n",
      "[('The', -0.13206844429176096), ('dog', 0.0), ('sat', -0.13206844429176096), ('on', -0.13206844429176096), ('my', -0.13206844429176096), ('bed', 0.0), ('I', -0.13206844429176096), ('love', 0.0), ('a', -0.13206844429176096), ('dog', 0.0)]\n"
     ]
    }
   ],
   "source": [
    "from math import log10\n",
    "\n",
    "def f(t,d):\n",
    "    return d.count(t)\n",
    "\n",
    "def tf(t,d):\n",
    "    return 0.5 + 0.5*f(t,d)/max([f(w,d) for w in d])\n",
    "\n",
    "def idf(t,D):\n",
    "    numerator = len(D)\n",
    "    denominator = 1+len([True for d in D if t in d])\n",
    "    return log10(numerator/denominator)\n",
    "\n",
    "def tfidf(t, d, D):\n",
    "    print(t)\n",
    "    print(tf(t,d))\n",
    "    print(idf(t,D))\n",
    "    print(tf(t,d)*idf(t,D))\n",
    "    print('===')\n",
    "    return tf(t,d)*idf(t,D)\n",
    "\n",
    "def tokenizer(d):\n",
    "    return d.split()\n",
    "\n",
    "def tfidfScorer(D):\n",
    "    tokenized_D = [tokenizer(d) for d in D]\n",
    "    result = []\n",
    "    for d in tokenized_D:\n",
    "        result.append([(t, tfidf (t,d,tokenized_D)) for t in d])\n",
    "    return result\n",
    "\n",
    "corpus = [d1, d2]\n",
    "\n",
    "for i, doc in enumerate(tfidfScorer(corpus)):\n",
    "    print('====== document[%d] ====='%i)\n",
    "    print(doc)"
   ]
  },
  {
   "cell_type": "markdown",
   "metadata": {},
   "source": [
    "# sklearn 사용하여 계산"
   ]
  },
  {
   "cell_type": "code",
   "execution_count": 24,
   "metadata": {},
   "outputs": [],
   "source": [
    "from sklearn.feature_extraction.text import TfidfVectorizer\n",
    "from collections import defaultdict"
   ]
  },
  {
   "cell_type": "code",
   "execution_count": 28,
   "metadata": {},
   "outputs": [
    {
     "name": "stdout",
     "output_type": "stream",
     "text": [
      "defaultdict(<function <lambda> at 0x000000000C3BD510>, {})\n"
     ]
    }
   ],
   "source": [
    "document_ls = [d1, d2, d2]\n",
    "vetorizer = TfidfVectorizer()\n",
    "tfidf = vetorizer.fit_transform(document_ls)\n",
    "\n",
    "word2id = defaultdict(lambda : 0)\n",
    "for idx, feature in enumerate(vetorizer.get_feature_names()):\n",
    "    word2id[feature] = idx"
   ]
  },
  {
   "cell_type": "code",
   "execution_count": 27,
   "metadata": {},
   "outputs": [
    {
     "data": {
      "text/html": [
       "<div>\n",
       "<style scoped>\n",
       "    .dataframe tbody tr th:only-of-type {\n",
       "        vertical-align: middle;\n",
       "    }\n",
       "\n",
       "    .dataframe tbody tr th {\n",
       "        vertical-align: top;\n",
       "    }\n",
       "\n",
       "    .dataframe thead th {\n",
       "        text-align: right;\n",
       "    }\n",
       "</style>\n",
       "<table border=\"1\" class=\"dataframe\">\n",
       "  <thead>\n",
       "    <tr style=\"text-align: right;\">\n",
       "      <th></th>\n",
       "      <th>bed</th>\n",
       "      <th>cat</th>\n",
       "      <th>dog</th>\n",
       "      <th>face</th>\n",
       "      <th>hate</th>\n",
       "      <th>love</th>\n",
       "      <th>my</th>\n",
       "      <th>on</th>\n",
       "      <th>sat</th>\n",
       "      <th>the</th>\n",
       "    </tr>\n",
       "  </thead>\n",
       "  <tbody>\n",
       "    <tr>\n",
       "      <th>0</th>\n",
       "      <td>0.000000</td>\n",
       "      <td>0.735448</td>\n",
       "      <td>0.000000</td>\n",
       "      <td>0.367724</td>\n",
       "      <td>0.367724</td>\n",
       "      <td>0.000000</td>\n",
       "      <td>0.217184</td>\n",
       "      <td>0.217184</td>\n",
       "      <td>0.217184</td>\n",
       "      <td>0.217184</td>\n",
       "    </tr>\n",
       "    <tr>\n",
       "      <th>1</th>\n",
       "      <td>0.344779</td>\n",
       "      <td>0.000000</td>\n",
       "      <td>0.689558</td>\n",
       "      <td>0.000000</td>\n",
       "      <td>0.000000</td>\n",
       "      <td>0.344779</td>\n",
       "      <td>0.267752</td>\n",
       "      <td>0.267752</td>\n",
       "      <td>0.267752</td>\n",
       "      <td>0.267752</td>\n",
       "    </tr>\n",
       "    <tr>\n",
       "      <th>2</th>\n",
       "      <td>0.344779</td>\n",
       "      <td>0.000000</td>\n",
       "      <td>0.689558</td>\n",
       "      <td>0.000000</td>\n",
       "      <td>0.000000</td>\n",
       "      <td>0.344779</td>\n",
       "      <td>0.267752</td>\n",
       "      <td>0.267752</td>\n",
       "      <td>0.267752</td>\n",
       "      <td>0.267752</td>\n",
       "    </tr>\n",
       "  </tbody>\n",
       "</table>\n",
       "</div>"
      ],
      "text/plain": [
       "        bed       cat       dog      face      hate      love        my  \\\n",
       "0  0.000000  0.735448  0.000000  0.367724  0.367724  0.000000  0.217184   \n",
       "1  0.344779  0.000000  0.689558  0.000000  0.000000  0.344779  0.267752   \n",
       "2  0.344779  0.000000  0.689558  0.000000  0.000000  0.344779  0.267752   \n",
       "\n",
       "         on       sat       the  \n",
       "0  0.217184  0.217184  0.217184  \n",
       "1  0.267752  0.267752  0.267752  \n",
       "2  0.267752  0.267752  0.267752  "
      ]
     },
     "execution_count": 27,
     "metadata": {},
     "output_type": "execute_result"
    }
   ],
   "source": [
    "import pandas as pd\n",
    "count_vect_df = pd.DataFrame(tfidf.todense(), columns= vetorizer.get_feature_names())\n",
    "count_vect_df"
   ]
  },
  {
   "cell_type": "markdown",
   "metadata": {},
   "source": [
    "* tdm 은 중요 단어 캐치가 어려움  \n",
    "-> 이것의 보완 : tf-idf"
   ]
  },
  {
   "cell_type": "markdown",
   "metadata": {},
   "source": [
    "TF 가 높다 :  \n",
    "    내 문서 안에서 유니크  \n",
    "IDF가 높다:  \n",
    "    타 문서보다 유니크하다   "
   ]
  },
  {
   "cell_type": "code",
   "execution_count": null,
   "metadata": {},
   "outputs": [],
   "source": []
  }
 ],
 "metadata": {
  "kernelspec": {
   "display_name": "Python 3",
   "language": "python",
   "name": "python3"
  },
  "language_info": {
   "codemirror_mode": {
    "name": "ipython",
    "version": 3
   },
   "file_extension": ".py",
   "mimetype": "text/x-python",
   "name": "python",
   "nbconvert_exporter": "python",
   "pygments_lexer": "ipython3",
   "version": "3.7.3"
  }
 },
 "nbformat": 4,
 "nbformat_minor": 2
}
