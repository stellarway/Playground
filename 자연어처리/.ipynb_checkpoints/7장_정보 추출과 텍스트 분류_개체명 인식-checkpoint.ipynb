{
 "cells": [
  {
   "cell_type": "code",
   "execution_count": 40,
   "metadata": {},
   "outputs": [],
   "source": [
    "a = [1,2,3,4,5,6]\n",
    "# b= a.extend([7,8])"
   ]
  },
  {
   "cell_type": "code",
   "execution_count": 38,
   "metadata": {},
   "outputs": [],
   "source": [
    "b"
   ]
  },
  {
   "cell_type": "code",
   "execution_count": 41,
   "metadata": {},
   "outputs": [
    {
     "data": {
      "text/plain": [
       "[1, 2, 3, 4, 5, 6, 7, 8]"
      ]
     },
     "execution_count": 41,
     "metadata": {},
     "output_type": "execute_result"
    }
   ],
   "source": [
    "a.extend([7,8])\n",
    "a"
   ]
  },
  {
   "cell_type": "code",
   "execution_count": 22,
   "metadata": {
    "collapsed": true
   },
   "outputs": [
    {
     "name": "stderr",
     "output_type": "stream",
     "text": [
      "[nltk_data] Downloading package words to\n",
      "[nltk_data]     C:\\Users\\student\\AppData\\Roaming\\nltk_data...\n",
      "[nltk_data]   Package words is already up-to-date!\n",
      "[nltk_data] Downloading package treebank to\n",
      "[nltk_data]     C:\\Users\\student\\AppData\\Roaming\\nltk_data...\n",
      "[nltk_data]   Package treebank is already up-to-date!\n",
      "[nltk_data] Downloading package maxent_ne_chunker to\n",
      "[nltk_data]     C:\\Users\\student\\AppData\\Roaming\\nltk_data...\n",
      "[nltk_data]   Package maxent_ne_chunker is already up-to-date!\n"
     ]
    },
    {
     "name": "stdout",
     "output_type": "stream",
     "text": [
      "(S\n",
      "  (PERSON Pierre/NNP)\n",
      "  (ORGANIZATION Vinken/NNP)\n",
      "  ,/,\n",
      "  61/CD\n",
      "  years/NNS\n",
      "  old/JJ\n",
      "  ,/,\n",
      "  will/MD\n",
      "  join/VB\n",
      "  the/DT\n",
      "  board/NN\n",
      "  as/IN\n",
      "  a/DT\n",
      "  nonexecutive/JJ\n",
      "  director/NN\n",
      "  Nov./NNP\n",
      "  29/CD\n",
      "  ./.)\n",
      "(S\n",
      "  (NE Pierre/NNP Vinken/NNP)\n",
      "  ,/,\n",
      "  61/CD\n",
      "  years/NNS\n",
      "  old/JJ\n",
      "  ,/,\n",
      "  will/MD\n",
      "  join/VB\n",
      "  the/DT\n",
      "  board/NN\n",
      "  as/IN\n",
      "  a/DT\n",
      "  nonexecutive/JJ\n",
      "  director/NN\n",
      "  Nov./NNP\n",
      "  29/CD\n",
      "  ./.)\n"
     ]
    }
   ],
   "source": [
    "import nltk\n",
    "nltk.download('words')\n",
    "nltk.download('treebank')\n",
    "nltk.download('maxent_ne_chunker')\n",
    "\n",
    "def sampleNE():\n",
    "    sent = nltk.corpus.treebank.tagged_sents()[0]\n",
    "    print(nltk.ne_chunk(sent))\n",
    "    \n",
    "def sampleNE2():\n",
    "    sent = nltk.corpus.treebank.tagged_sents()[0]\n",
    "    print(nltk.ne_chunk(sent, binary = True))\n",
    "                                # binary = True 는 '개체다 아니다'만 인식\n",
    "\n",
    "sampleNE()\n",
    "sampleNE2()"
   ]
  },
  {
   "cell_type": "markdown",
   "metadata": {},
   "source": [
    "클래스 = 공통의 속성을 뽑아내는 것  \n",
    "__init__ : 초기화 함수\n",
    "값만 바꿔서 각 속성에 맞는 함수 호출 가능"
   ]
  },
  {
   "cell_type": "markdown",
   "metadata": {},
   "source": [
    "# 딕셔너리 생성, 반전, 사용"
   ]
  },
  {
   "cell_type": "code",
   "execution_count": 33,
   "metadata": {},
   "outputs": [
    {
     "name": "stdout",
     "output_type": "stream",
     "text": [
      "Is 'chair' present in dictionary? : 'No'\n",
      "Is 'flights' present in dictionary? : 'Yes'\n",
      "\tPos for 'flights' is 'NNS'\n",
      "Is 'delayed' present in dictionary? : 'Yes'\n",
      "\tPos for 'delayed' is 'VBN'\n",
      "Is 'pencil' present in dictionary? : 'No'\n",
      "Is 'weather' present in dictionary? : 'Yes'\n",
      "\tPos for 'weather' is 'NN'\n",
      "POS 'NN' has '['weather']' words\n",
      "POS 'VBS' has 'None' words\n",
      "POS 'NNS' has '['flights']' words\n"
     ]
    },
    {
     "name": "stderr",
     "output_type": "stream",
     "text": [
      "[nltk_data] Downloading package averaged_perceptron_tagger to\n",
      "[nltk_data]     C:\\Users\\student\\AppData\\Roaming\\nltk_data...\n",
      "[nltk_data]   Package averaged_perceptron_tagger is already up-to-\n",
      "[nltk_data]       date!\n"
     ]
    }
   ],
   "source": [
    "import nltk\n",
    "nltk.download('averaged_perceptron_tagger')\n",
    "\n",
    "class LearningDictionary():\n",
    "    def __init__(self, sentence):\n",
    "        self.words = nltk.word_tokenize(sentence)\n",
    "        self.tagged = nltk.pos_tag(self.words)\n",
    "        self.buildDictionary()\n",
    "        self.buildReverseDictionary()\n",
    "    def buildDictionary(self):\n",
    "        self.dictionary = {}\n",
    "        for (word, pos) in self.tagged:\n",
    "            self.dictionary[word] = pos\n",
    "            \n",
    "    def buildReverseDictionary(self):\n",
    "        self.rdictionary = {}\n",
    "        for key in self.dictionary.keys():\n",
    "            value = self.dictionary[key]\n",
    "            if value not in self.rdictionary:\n",
    "                self.rdictionary[value] = [key]\n",
    "            else:\n",
    "                self.rdictionary[value].append(key)\n",
    "    \n",
    "    def isWordPresent(self, word):\n",
    "        return 'Yes' if word in self.dictionary else 'No'\n",
    "    \n",
    "    def getPOSForWord(self, word):\n",
    "        return self.dictionary[word] if word in self.dictionary else None\n",
    "    \n",
    "    def getWordsForPOS(self, pos):\n",
    "        return self.rdictionary[pos] if pos in self. rdictionary else None\n",
    "\n",
    "sentence = \"All the flights got delayed due to bad weather\"\n",
    "learning = LearningDictionary(sentence)\n",
    "words = [\"chair\", \"flights\", \"delayed\", \"pencil\", \"weather\"]\n",
    "pos = [\"NN\", \"VBS\",\"NNS\"]\n",
    "for word in words:\n",
    "    status = learning.isWordPresent(word)\n",
    "    print(\"Is '{}' present in dictionary? : '{}'\".format(word, status))\n",
    "    if status is 'Yes':\n",
    "        print(\"\\tPos for '{}' is '{}'\".format(word, learning.getPOSForWord(word)))\n",
    "for pword in pos:\n",
    "    print(\"POS '{}' has '{}' words\".format(pword, learning.getWordsForPOS(pword)))"
   ]
  },
  {
   "cell_type": "code",
   "execution_count": 46,
   "metadata": {
    "scrolled": true
   },
   "outputs": [
    {
     "name": "stdout",
     "output_type": "stream",
     "text": [
      "learnSimpleFeatures\n",
      "[({'vehicle_class': 'G'}, 'gov'), ({'vehicle_class': 'F'}, 'rtc'), ({'vehicle_class': 'F'}, 'rtc'), ({'vehicle_class': '1'}, 'oth'), ({'vehicle_class': 'G'}, 'gov'), ({'vehicle_class': 'G'}, 'gov'), ({'vehicle_class': 'G'}, 'gov'), ({'vehicle_class': 'F'}, 'rtc')]\n",
      "(simple) KA-01-G 0109 is of type gov\n",
      "(simple) KA-02-F 9020 AC is of type rtc\n",
      "(simple) KA-02-FA 0801 is of type rtc\n",
      "(simple) KA-01 9129 is of type gov\n",
      "learnFeatures\n",
      "[({'vehicle_class': 'G', 'vehicle_prev': '-'}, 'gov'), ({'vehicle_class': 'F', 'vehicle_prev': '-'}, 'rtc'), ({'vehicle_class': 'F', 'vehicle_prev': '-'}, 'rtc'), ({'vehicle_class': '1', 'vehicle_prev': ' '}, 'oth'), ({'vehicle_class': 'G', 'vehicle_prev': '-'}, 'gov'), ({'vehicle_class': 'G', 'vehicle_prev': '-'}, 'gov'), ({'vehicle_class': 'G', 'vehicle_prev': '-'}, 'gov'), ({'vehicle_class': 'F', 'vehicle_prev': '-'}, 'rtc')]\n",
      "(dual)KA-01-G 0109 is of type gov\n",
      "(dual)KA-02-F 9020 AC is of type rtc\n",
      "(dual)KA-02-FA 0801 is of type rtc\n",
      "(dual)KA-01 9129 is of type oth\n"
     ]
    }
   ],
   "source": [
    "import random\n",
    "\n",
    "sampledata = [\n",
    "    ('KA-01-F 1034 A', 'rtc'),\n",
    "    ('KA-02-F 1030 B', 'rtc'),\n",
    "    ('KA-03-FA 1200 C', 'rtc'),\n",
    "    ('KA-01-G 0001 A', 'gov'),\n",
    "    ('KA-02-G 1004 A', 'gov'),\n",
    "    ('KA-03-G 0204 A', 'gov'),\n",
    "    ('KA-04-G 9230 A', 'gov'),\n",
    "    ('KA-27 1290', 'oth')\n",
    "]\n",
    "random.shuffle(sampledata)\n",
    "testdata = [\n",
    "    'KA-01-G 0109',\n",
    "    'KA-02-F 9020 AC',\n",
    "    'KA-02-FA 0801',\n",
    "    'KA-01 9129'\n",
    "]\n",
    "\n",
    "def learnSimpleFeatures():\n",
    "    def vehicleNumberFeature(vnumber):\n",
    "        return {'vehicle_class': vnumber[6]}\n",
    "    featuresets = [(vehicleNumberFeature(vn), cls) for (vn, cls) in sampledata]\n",
    "    print(\"learnSimpleFeatures\")\n",
    "    print(featuresets)\n",
    "    classifier = nltk.NaiveBayesClassifier.train(featuresets)\n",
    "    for num in testdata:\n",
    "        feature = vehicleNumberFeature(num)\n",
    "        print(\"(simple) %s is of type %s\"%(num, classifier.classify(feature)))\n",
    "        \n",
    "def learnFeatures():\n",
    "    def vehicleNumberFeature(vnumber):\n",
    "        return {\n",
    "            'vehicle_class': vnumber[6],\n",
    "            'vehicle_prev': vnumber[5]\n",
    "        }\n",
    "    featuresets = [(vehicleNumberFeature(vn), cls) for (vn, cls) in sampledata]\n",
    "    print(\"learnFeatures\")\n",
    "    print(featuresets)\n",
    "    classifier = nltk.NaiveBayesClassifier.train(featuresets)\n",
    "    for num in testdata:\n",
    "        feature = vehicleNumberFeature(num)\n",
    "        print(\"(dual)%s is of type %s\" %(num, classifier.classify(feature)))\n",
    "        \n",
    "learnSimpleFeatures()\n",
    "learnFeatures()"
   ]
  },
  {
   "cell_type": "code",
   "execution_count": 96,
   "metadata": {},
   "outputs": [
    {
     "data": {
      "text/plain": [
       "[0]"
      ]
     },
     "execution_count": 96,
     "metadata": {},
     "output_type": "execute_result"
    }
   ],
   "source": [
    "list(range(0,1))"
   ]
  },
  {
   "cell_type": "code",
   "execution_count": 110,
   "metadata": {},
   "outputs": [
    {
     "name": "stdout",
     "output_type": "stream",
     "text": [
      "The Indian subcontinent was home to the urban Indus Valley Civilisation of the 3rd millennium BCE /\n",
      "In the following millennium , the oldest scriptures associated with Hinduism began to be composed /\n",
      "Social stratification , based on caste , emerged in the first millennium BCE , and Buddhism and Jainism arose /\n",
      "Early political consolidations took place under the Maurya and Gupta empires ; the later peninsular Middle Kingdoms influenced cultures as far as southeast Asia /\n",
      "In the medieval era , Judaism , Zoroastrianism , Christianity , and Islam arrived , and Sikhism emerged , all adding to the region 's diverse culture /\n",
      "Much of the north fell to the Delhi sultanate ; the south was united under the Vijayanagara Empire /\n",
      "The economy expanded in the 17th century in the Mughal Empire /\n",
      "In the mid-18th century , the subcontinent came under British East India Company rule , and in the mid-19th under British crown rule /\n",
      "A nationalist movement emerged in the late 19th century , which later , under Mahatma Gandhi , was noted for nonviolent resistance and led to India 's independence in 1947 .\n"
     ]
    },
    {
     "name": "stderr",
     "output_type": "stream",
     "text": [
      "[nltk_data] Downloading package punkt to\n",
      "[nltk_data]     C:\\Users\\student\\AppData\\Roaming\\nltk_data...\n",
      "[nltk_data]   Package punkt is already up-to-date!\n"
     ]
    }
   ],
   "source": [
    "nltk.download('punkt')\n",
    "def featureExtractor(words, i):\n",
    "    return ({'current-word': words[i],\n",
    "             'next-is-upper': words[i+1][0].isupper()},\n",
    "            words[i+1][0].isupper())\n",
    "\n",
    "def getFeaturesets(sentence):\n",
    "    words = nltk.word_tokenize(sentence)\n",
    "    featuresets = [featureExtractor(words, i) for i in range(1, len(words)-1) if words[i] == '.']\n",
    "#     print(featuresets)\n",
    "    return featuresets\n",
    "\n",
    "def segmentTextAndPrintSentences(data):\n",
    "    words = nltk.word_tokenize(data)\n",
    "    for i in range(0, len(words) - 1):\n",
    "        if words[i] == '.':\n",
    "            if classifier.classify(featureExtractor(words, i)[0]) == True:\n",
    "                print(\"/\")\n",
    "            else:\n",
    "                print(words[i], end='')\n",
    "        else:\n",
    "            print(\"{} \".format(words[i]), end='')\n",
    "    print(words[-1])\n",
    "\n",
    "traindata = \"Yes. India, officially the Republic of India (Bhārat Gaṇarājya),\\\n",
    "[e] is a country in South Asia. it is the seventh-largest country by area, \\\n",
    "the second-most populous country (with over 1.2 billion people), \\\n",
    "and the most populous democracy in the world. \\\n",
    "It is bounded by the Indian Ocean on the south, the Arabian Sea on the southwest, \\\n",
    "and the Bay of Bengal on the southeast. \\\n",
    "It shares land borders with Pakistan to the west;[f] China, Nepal, and Bhutan to the northeast; \\\n",
    "and Myanmar (Burma) and Bangladesh to the east. \\\n",
    "In the Indian Ocean, India is in the vicinity of Sri Lanka and the Maldives. \\\n",
    "India's Andaman and Nicobar Islands share a maritime border with Thailand and Indonesia.\"\n",
    "\n",
    "testdata = \"The Indian subcontinent was home to the urban Indus Valley Civilisation \\\n",
    "of the 3rd millennium BCE. In the following millennium, \\\n",
    "the oldest scriptures associated with Hinduism began to be composed. Social stratification, \\\n",
    "based on caste, emerged in the first millennium BCE, and Buddhism and Jainism arose. \\\n",
    "Early political consolidations took place under the Maurya and Gupta empires; \\\n",
    "the later peninsular Middle Kingdoms influenced cultures as far as southeast Asia. \\\n",
    "In the medieval era, Judaism, Zoroastrianism, Christianity, and Islam arrived, and Sikhism emerged, \\\n",
    "all adding to the region's diverse culture. Much of the north fell to the Delhi sultanate; \\\n",
    "the south was united under the Vijayanagara Empire. \\\n",
    "The economy expanded in the 17th century in the Mughal Empire. In the mid-18th century, \\\n",
    "the subcontinent came under British East India Company rule, \\\n",
    "and in the mid-19th under British crown rule. \\\n",
    "A nationalist movement emerged in the late 19th century, which later, under Mahatma Gandhi, \\\n",
    "was noted for nonviolent resistance and led to India's independence in 1947.\"\n",
    "\n",
    "traindataset = getFeaturesets(traindata)\n",
    "classifier = nltk.NaiveBayesClassifier.train(traindataset)\n",
    "segmentTextAndPrintSentences(testdata)"
   ]
  },
  {
   "cell_type": "code",
   "execution_count": 113,
   "metadata": {},
   "outputs": [
    {
     "name": "stderr",
     "output_type": "stream",
     "text": [
      "[nltk_data] Downloading package stopwords to\n",
      "[nltk_data]     C:\\Users\\student\\AppData\\Roaming\\nltk_data...\n",
      "[nltk_data]   Package stopwords is already up-to-date!\n"
     ]
    },
    {
     "name": "stdout",
     "output_type": "stream",
     "text": [
      "--------------------------------------------------\n",
      "['i', 'me', 'my', 'myself', 'we', 'our', 'ours', 'ourselves', 'you', \"you're\", \"you've\", \"you'll\", \"you'd\", 'your', 'yours', 'yourself', 'yourselves', 'he', 'him', 'his', 'himself', 'she', \"she's\", 'her', 'hers', 'herself', 'it', \"it's\", 'its', 'itself', 'they', 'them', 'their', 'theirs', 'themselves', 'what', 'which', 'who', 'whom', 'this', 'that', \"that'll\", 'these', 'those', 'am', 'is', 'are', 'was', 'were', 'be', 'been', 'being', 'have', 'has', 'had', 'having', 'do', 'does', 'did', 'doing', 'a', 'an', 'the', 'and', 'but', 'if', 'or', 'because', 'as', 'until', 'while', 'of', 'at', 'by', 'for', 'with', 'about', 'against', 'between', 'into', 'through', 'during', 'before', 'after', 'above', 'below', 'to', 'from', 'up', 'down', 'in', 'out', 'on', 'off', 'over', 'under', 'again', 'further', 'then', 'once', 'here', 'there', 'when', 'where', 'why', 'how', 'all', 'any', 'both', 'each', 'few', 'more', 'most', 'other', 'some', 'such', 'no', 'nor', 'not', 'only', 'own', 'same', 'so', 'than', 'too', 'very', 's', 't', 'can', 'will', 'just', 'don', \"don't\", 'should', \"should've\", 'now', 'd', 'll', 'm', 'o', 're', 've', 'y', 'ain', 'aren', \"aren't\", 'couldn', \"couldn't\", 'didn', \"didn't\", 'doesn', \"doesn't\", 'hadn', \"hadn't\", 'hasn', \"hasn't\", 'haven', \"haven't\", 'isn', \"isn't\", 'ma', 'mightn', \"mightn't\", 'mustn', \"mustn't\", 'needn', \"needn't\", 'shan', \"shan't\", 'shouldn', \"shouldn't\", 'wasn', \"wasn't\", 'weren', \"weren't\", 'won', \"won't\", 'wouldn', \"wouldn't\"]\n",
      "--------------------------------------------------\n",
      "downloading https://sports.yahoo.com/mlb/rss.xml\n",
      "downloading https://sports.yahoo.com/nfl/rss.xml\n",
      "featuresets\n",
      "[({'word(Many)': True, 'word(focused)': True, 'word(Chris)': True, 'word(Paddack)': True, 'word(Pete)': True, 'word(Alonso)': True, 'word(meeting)': True, 'word(again,)': True, 'word(36-year-old)': True, 'word(Robinson)': True, 'word(Cano,)': True, 'word(midst)': True, 'word(worst)': True, 'word(season,)': True, 'word(took)': True, 'word(Tuesday.)': True}, 'mlb'), ({'word(Pablo)': True, 'word(Sandoval)': True, 'word(homered)': True, 'word(one)': True, 'word(13th)': True, 'word(inning,)': True, 'word(sending)': True, 'word(San)': True, 'word(Francisco)': True, 'word(Giants)': True, 'word(past)': True, 'word(Chicago)': True, 'word(Cubs)': True, 'word(5-4)': True, 'word(Tuesday)': True, 'word(night)': True, 'word(long)': True, \"word(Bumgarner's)\": True, 'word(done.)': True, 'word(cleared)': True, 'word(left-field)': True, 'word(fence)': True, 'word(first-pitch)': True, 'word(drive)': True, 'word(Brad)': True, 'word(Brach)': True, 'word((3-3))': True, 'word(went)': True, 'word(replay)': True, 'word(upheld)': True}, 'mlb'), ({'word(Kole)': True, 'word(Calhoun)': True, 'word(homer)': True, 'word(two)': True, 'word(doubles)': True, 'word(threw)': True, 'word(Cody)': True, 'word(Bellinger)': True, 'word(plate)': True, 'word(end)': True, 'word(Los)': True, 'word(Angeles)': True, \"word(Angels')\": True, 'word(5-4)': True, 'word(Freeway)': True, 'word(Series)': True, 'word(victory)': True, 'word(Dodgers)': True, 'word(Tuesday)': True, 'word(night.)': True, 'word(Mike)': True, 'word(Trout)': True, 'word(hit)': True, 'word(454-foot)': True, 'word(tiebreaking)': True, 'word(also)': True, 'word(made)': True, 'word(perfect)': True, 'word(260-foot)': True, 'word(throw)': True, 'word(get)': True, 'word(Max)': True, 'word(Muncy)': True}, 'mlb'), ({'word(7/23/19:)': True, \"word(Hoskins')\": True, 'word(go-ahead)': True, 'word(hit)': True, 'word(propels)': True, 'word(Phillies)': True, 'word(15)': True}, 'mlb'), ({'word(Dylan)': True, \"word(Bundy's)\": True, 'word(right)': True, 'word(knee)': True, 'word(felt)': True, 'word(fine)': True, 'word(10-day)': True, 'word(stint)': True, 'word(injured)': True, 'word(list)': True, 'word(tendinitis,)': True, 'word(Baltimore)': True, 'word(Orioles)': True, 'word(right-hander)': True, 'word(got)': True, 'word(early)': True, 'word(run)': True, 'word(support)': True, 'word(teammates)': True, 'word(Tuesday)': True, 'word(night.)': True, 'word(Dwight)': True, 'word(Smith)': True, 'word(Jr.)': True, 'word(hit)': True, 'word(three-run)': True, 'word(homer,)': True, 'word(Bundy)': True, 'word(pitched)': True, 'word(six)': True, 'word(solid)': True, 'word(innings)': True, 'word(beat)': True}, 'mlb'), ({'word(Aaron)': True, 'word(Hicks)': True, 'word(made)': True, 'word(game-saving)': True, 'word(catch)': True, 'word(center)': True, 'word(field)': True, 'word(final)': True, 'word(10th)': True, 'word(inning,)': True, 'word(Didi)': True, 'word(Gregorius)': True, 'word(five)': True, 'word(hits)': True, 'word(seven)': True, 'word(RBIs,)': True, 'word(New)': True, 'word(York)': True, 'word(Yankees)': True, 'word(beat)': True, 'word(Minnesota)': True, 'word(Twins)': True, 'word(14-12)': True, 'word(Tuesday)': True, 'word(night)': True, 'word(game)': True, 'word(featured)': True, 'word(lead)': True, 'word(changes)': True, 'word(ties)': True, 'word(three)': True, 'word(innings.)': True, 'word(Gleyber)': True, 'word(Torres)': True, 'word(scored)': True}, 'mlb'), ({'word(Daily)': True, 'word(Recap:)': True, 'word(Robinson)': True, 'word(Cano)': True, 'word(notched)': True, 'word(first)': True, 'word(career)': True, 'word(three-homer)': True, 'word(game)': True, 'word(lead)': True, \"word(Mets')\": True, 'word(offense)': True, 'word(5-2)': True, 'word(win)': True, 'word(Padres)': True}, 'mlb'), ({'word(Joc)': True, 'word(Pederson)': True, 'word(laces)': True, 'word(hard-hit)': True, 'word(single)': True, 'word(Luis)': True, 'word(Rengifo,)': True, 'word(scoring)': True, 'word(Corey)': True, 'word(Seager)': True, 'word(bring)': True, 'word(Dodgers)': True, 'word(within)': True, 'word(run)': True, 'word(6th)': True, 'word(inning)': True}, 'mlb'), ({'word(DETROIT)': True, 'word((AP))': True, 'word(--)': True, 'word(Brad)': True, 'word(Miller)': True, 'word(charged)': True, 'word(ball)': True, 'word(left)': True, 'word(field.)': True, 'word(Nicholas)': True, 'word(Castellanos)': True, 'word(rounded)': True, 'word(third)': True, 'word(kept)': True, 'word(running.)': True}, 'mlb'), ({'word(Rougned)': True, 'word(Odor)': True, 'word(homered)': True, 'word(twice,)': True, 'word(Nomar)': True, 'word(Mazara)': True, 'word(reached)': True, 'word(third)': True, 'word(deck)': True, 'word(impressive)': True, 'word(drive)': True, 'word(Texas)': True, 'word(Rangers)': True, 'word(beat)': True, 'word(Seattle)': True, 'word(Mariners)': True, 'word(7-2)': True, 'word(Tuesday)': True, 'word(night)': True, 'word(end)': True, 'word(eight-game)': True, 'word(skid.)': True, 'word(Shin-Soo)': True, 'word(Choo)': True, 'word(led)': True, 'word(game)': True, 'word(homering)': True, 'word(Tommy)': True, \"word(Milone's)\": True, 'word(first)': True, 'word(pitch,)': True, 'word(went)': True, 'word(snap)': True, 'word(fourth)': True}, 'mlb'), ({'word(Dalton)': True, 'word(Del)': True, 'word(Don)': True, 'word(talks)': True, 'word(Robinson)': True, \"word(Cano's)\": True, 'word(three-homer)': True, 'word(night)': True, 'word(recaps)': True, \"word(Tuesday's)\": True, 'word(fantasy)': True, 'word(baseball)': True, 'word(action.)': True}, 'mlb'), ({'word(Cincinnati)': True, 'word(Reds)': True, 'word(slugger)': True, 'word(Eugenio)': True, 'word(Suarez)': True, 'word(hit)': True, 'word(two)': True, 'word(home)': True, 'word(runs)': True, 'word(less)': True, 'word(24)': True, 'word(hours)': True, 'word(earlier.)': True, 'word(When)': True, 'word(clashed)': True, 'word(Tuesday)': True, 'word(night,)': True, 'word(prevailed.)': True, 'word(two-run,)': True, 'word(opposite-field)': True, 'word(run)': True, 'word(right)': True, 'word(first)': True, 'word(inning,)': True, 'word(batters)': True, 'word(later,)': True, 'word(Jesse)': True, 'word(Winker)': True, 'word(followed)': True, 'word(two-run)': True, 'word(homer)': True}, 'mlb'), ({'word(7/23/19:)': True, 'word(Reds)': True, 'word(bats)': True, 'word(smother)': True, 'word(Brewers,)': True, 'word(14-6)': True}, 'mlb'), ({'word(Condensed)': True, 'word(Game:)': True, 'word(Robinson)': True, 'word(Cano)': True, 'word(notched)': True, 'word(first)': True, 'word(career)': True, 'word(three-homer)': True, 'word(game)': True, 'word(lead)': True, \"word(Mets')\": True, 'word(offense)': True, 'word(5-2)': True, 'word(win)': True, 'word(Padres)': True}, 'mlb'), ({'word(After)': True, 'word(struggling)': True, 'word(defense,)': True, \"word(Oakland's)\": True, 'word(Ramon)': True, 'word(Laureano)': True, 'word(determined)': True, 'word(atone)': True, 'word(mistakes)': True, 'word(came)': True, 'word(plate)': True, 'word(game)': True, 'word(tied)': True, 'word(11th)': True, 'word(inning)': True, 'word(Houston)': True, 'word(Astros.)': True, 'word(able)': True, 'word(Tuesday)': True, 'word(Matt)': True, 'word(Olson)': True, 'word(hit)': True, 'word(three-run)': True, 'word(home)': True, 'word(run)': True, 'word(ninth)': True}, 'mlb'), ({'word(On)': True, 'word(10th)': True, 'word(anniversary)': True, 'word(Mark)': True, \"word(Buehrle's)\": True, 'word(perfect)': True, 'word(game)': True, 'word(Chicago,)': True, 'word(Marlins)': True, 'word(left-hander)': True, 'word(Caleb)': True, 'word(Smith)': True, 'word(thought)': True, 'word(might)': True, 'word(turn)': True, 'word(grab)': True, 'word(similar)': True, 'word(place)': True, 'word(baseball)': True, 'word(history.)': True, \"word(''I)\": True, 'word(definitely)': True, 'word(thinking)': True, 'word(no-hitter)': True, 'word(entire)': True, \"word(time,'')\": True, 'word(said.)': True}, 'mlb'), ({'word(Trea)': True, 'word(Turner)': True, 'word(knows)': True, 'word(better)': True, 'word(takes)': True, 'word(hit)': True, 'word(cycle.)': True, 'word(second)': True, 'word(career)': True, 'word(cycle,)': True, 'word(Stephen)': True, 'word(Strasburg)': True, 'word(earned)': True, 'word(major)': True, 'word(league-leading)': True, 'word(13th)': True, 'word(win)': True, 'word(Washington)': True, 'word(Nationals)': True, 'word(routed)': True, 'word(Colorado)': True, 'word(Rockies)': True, 'word(11-1)': True, 'word(Tuesday)': True, 'word(night.)': True, 'word(led)': True, 'word(first)': True, 'word(inning)': True, 'word(homer,)': True, 'word(singled)': True}, 'mlb'), ({\"word(It's)\": True, 'word(taken)': True, 'word(nearly)': True, 'word(four)': True, 'word(months,)': True, 'word(Boston)': True, 'word(Red)': True, 'word(Sox)': True, 'word(back)': True, 'word(second)': True, 'word(place)': True, 'word(AL)': True, 'word(East.)': True, 'word(Christian)': True, 'word(Vazquez)': True, 'word(hit)': True, 'word(tiebreaking)': True, 'word(home)': True, 'word(run)': True, 'word(seventh)': True, 'word(inning,)': True, 'word(Marcus)': True, 'word(Walden)': True, 'word(bailed)': True, 'word(defending)': True, 'word(World)': True, 'word(Series)': True, 'word(champions)': True, 'word(bases-loaded)': True, 'word(jam)': True, 'word(ninth,)': True, 'word(held)': True, 'word(Tampa)': True}, 'mlb'), ({'word(Lucas)': True, 'word(Duda)': True, 'word(Kansas)': True, 'word(City)': True, 'word(Royals)': True, 'word(endured)': True, 'word(miserable)': True, 'word(season.)': True, 'word(A)': True, 'word(rare)': True, 'word(meeting)': True, 'word(Atlanta)': True, 'word(Braves)': True, 'word(provided)': True, 'word(glimmer)': True, 'word(joy.)': True, 'word(hit)': True, 'word(tie-breaking,)': True, 'word(pinch-hit)': True, 'word(homer)': True, 'word(eighth)': True, 'word(inning)': True, 'word(survived)': True, 'word(shaky)': True, 'word(ninth)': True, 'word(beat)': True, 'word(first-place)': True, 'word(5-4)': True, 'word(Tuesday)': True, 'word(night.)': True}, 'mlb'), ({'word(Toronto)': True, 'word(slugger)': True, 'word(Justin)': True, 'word(Smoak)': True, 'word(spoiled)': True, 'word(brilliant)': True, 'word(outing)': True, \"word(Cleveland's)\": True, 'word(Trevor)': True, 'word(Bauer,)': True, 'word(two)': True, 'word(outs)': True, 'word(shutout)': True, 'word(victory.)': True, 'word(tied)': True, 'word(game)': True, 'word(homer)': True, 'word(ninth)': True, 'word(inning)': True, 'word(knocked)': True, 'word(winning)': True, 'word(run)': True, 'word(two-out)': True, 'word(single)': True, 'word(10th)': True, 'word(Blue)': True, 'word(Jays)': True, 'word(beat)': True, 'word(Indians)': True, 'word(2-1)': True, 'word(Tuesday)': True, 'word(night.)': True}, 'mlb'), ({'word(Robinson)': True, 'word(Cano)': True, 'word(certainly)': True, 'word(could)': True, 'word(hear)': True, 'word(whispers)': True, 'word(around)': True, 'word(Citi)': True, 'word(Field.)': True, \"word(''One)\": True, 'word(day)': True, 'word(going)': True, 'word(turn)': True, \"word(around,'')\": True, 'word(kept)': True, 'word(telling)': True, 'word(himself.)': True, 'word(It)': True, 'word(happened)': True, 'word(Tuesday)': True, 'word(night)': True, 'word(hit)': True, 'word(three)': True, 'word(home)': True, 'word(runs)': True, 'word(game)': True, 'word(first)': True, 'word(time)': True, 'word(15-year)': True, 'word(career,)': True, 'word(powering)': True, 'word(Jason)': True, 'word(Vargas)': True, 'word(New)': True, 'word(York)': True}, 'mlb'), ({'word(With)': True, 'word(bases)': True, 'word(loaded)': True, 'word(outs)': True, 'word(one-run)': True, 'word(game)': True, 'word(Pittsburgh)': True, 'word(All-Star)': True, 'word(first)': True, 'word(baseman)': True, 'word(Josh)': True, 'word(Bell)': True, 'word(walking)': True, \"word(batter's)\": True, 'word(box,)': True, 'word(St.)': True, 'word(Louis)': True, 'word(Cardinals)': True, 'word(pitching)': True, 'word(coach)': True, 'word(Mike)': True, 'word(Maddux)': True, 'word(paid)': True, 'word(visit)': True, 'word(rookie)': True, 'word(Dakota)': True, 'word(Hudson)': True, 'word(offered)': True, 'word(reminder.)': True, 'word(Relax,)': True, 'word(told)': True, 'word(24-year-old.)': True, \"word(''That)\": True}, 'mlb'), ({'word(7/23/19:)': True, 'word(Vazquez,)': True, 'word(Sale)': True, 'word(lift)': True, 'word(Red)': True, 'word(Sox)': True, 'word(5-4)': True, 'word(victory)': True}, 'mlb'), ({'word(Robinson)': True, 'word(Cano)': True, 'word(hits)': True, 'word(three)': True, 'word(homers)': True, \"word(Mets')\": True, 'word(win)': True, 'word(San)': True, 'word(Diego)': True, 'word(Padres)': True}, 'mlb'), ({'word(7/23/19:)': True, 'word(Goldschmidt,)': True, 'word(Martinez)': True, 'word(lead)': True, 'word(Cardinals)': True, 'word(Bucs)': True}, 'mlb'), ({'word(A)': True, 'word(look)': True, \"word(what's)\": True, 'word(happening)': True, 'word(around)': True, 'word(majors)': True, 'word(Wednesday:)': True}, 'mlb'), ({'word(Robinson)': True, 'word(Cano)': True, 'word(hit)': True, 'word(three)': True, 'word(home)': True, 'word(runs,)': True, 'word(breaking)': True, 'word(loose)': True, 'word(season-long)': True, 'word(slump)': True, 'word(huge)': True, 'word(way)': True, 'word(leading)': True, 'word(Jason)': True, 'word(Vargas)': True, 'word(New)': True, 'word(York)': True, 'word(Mets)': True, 'word(San)': True, 'word(Diego)': True, 'word(Padres)': True, 'word(5-1)': True, 'word(Tuesday)': True, 'word(night.)': True, 'word(The)': True, 'word(36-year-old)': True, 'word(drove)': True, 'word(five)': True, 'word(runs)': True, 'word(went)': True, 'word(4)': True, 'word(4.)': True, 'word(pitched)': True, 'word(one-hit)': True, 'word(ball)': True, 'word(six)': True, 'word(shutout)': True, 'word(innings,)': True, 'word(possibly)': True}, 'mlb'), ({'word(Trea)': True, 'word(Turner)': True, 'word(hit)': True, 'word(cycle)': True, 'word(twice)': True, 'word(career,)': True, 'word(times)': True, 'word(Rockies.)': True}, 'mlb'), ({'word(Mets)': True, 'word(second)': True, 'word(baseman)': True, 'word(Robinson)': True, 'word(Canó)': True, 'word(enjoyed)': True, 'word(first)': True, 'word(three-homer)': True, 'word(game)': True, 'word(career,)': True, 'word(accounting)': True, 'word(five)': True, 'word(runs)': True, \"word(Tuesday's)\": True, 'word(win)': True, 'word(Padres.)': True}, 'mlb'), ({'word(The)': True, 'word(Indians,)': True, 'word(tabled)': True, 'word(discussing)': True, 'word(extending)': True, 'word(protective)': True, 'word(netting,)': True, 'word(announced)': True, 'word(young)': True, 'word(boy)': True, 'word(\"doing)': True, 'word(well\")': True, 'word(hit)': True, 'word(foul)': True, 'word(ball.)': True}, 'mlb'), ({'word(Christian)': True, 'word(Vazquez)': True, 'word(enters)': True, 'word(game)': True, 'word(hammers)': True, 'word(solo)': True, 'word(homer)': True, 'word(left)': True, 'word(field,)': True, 'word(giving)': True, 'word(Red)': True, 'word(Sox)': True, 'word(3-2)': True, 'word(lead)': True, 'word(7th)': True, 'word(inning)': True}, 'mlb'), ({'word(Here)': True, 'word(renderings)': True, 'word(upcoming)': True, 'word(renovations)': True, 'word(Dodger)': True, 'word(Stadium.)': True}, 'mlb'), ({'word(Mariners)': True, 'word(second)': True, 'word(baseman)': True, 'word(Dee)': True, 'word(Gordon)': True, 'word(placed)': True, 'word(10-day)': True, 'word(injured)': True, 'word(list)': True, 'word(strained)': True, 'word(left)': True, 'word(quadriceps.)': True, 'word(IL)': True, 'word(Tuesday,)': True, 'word(day)': True, 'word(leaving)': True, 'word(inning)': True, 'word(win)': True, 'word(Texas.)': True, 'word(said)': True, 'word(muscle)': True, 'word(rounding)': True, 'word(first)': True, 'word(base.)': True}, 'mlb'), ({'word(Will)': True, 'word(Phillies)': True, 'word(make)': True, 'word(splash)': True, 'word(MLB)': True, 'word(trade)': True, 'word(deadline)': True, 'word(improve)': True, 'word(around)': True, 'word(margins?)': True, 'word(The)': True, \"word(team's)\": True, 'word(place)': True, 'word(standings)': True, 'word(heavily)': True, 'word(dictate)': True, 'word(general)': True, 'word(manager)': True, 'word(Matt)': True, \"word(Klentak's)\": True, 'word(approach.)': True, 'word(By)': True, 'word(Jim)': True, 'word(Salisbury)': True}, 'mlb'), ({'word(Jose)': True, 'word(Martinez)': True, 'word(hammers)': True, 'word(solo)': True, 'word(home)': True, 'word(run)': True, 'word(seats)': True, 'word(center)': True, 'word(field)': True, 'word(give)': True, 'word(Cardinals)': True, 'word(4-3)': True, 'word(lead)': True, 'word(top)': True, 'word(5th)': True, 'word(inning)': True}, 'mlb'), ({'word(Didi)': True, 'word(Gregorius)': True, 'word(hammers)': True, 'word(two-run)': True, 'word(double)': True, 'word(center)': True, 'word(field,)': True, 'word(giving)': True, 'word(Yankees)': True, 'word(2-0)': True, 'word(lead)': True, 'word(top)': True, 'word(1st)': True, 'word(inning)': True}, 'mlb'), ({'word(Red)': True, 'word(Sox)': True, 'word(ace)': True, 'word(Chris)': True, 'word(Sale)': True, 'word(fooled)': True, 'word(Rays)': True, 'word(hitter)': True, 'word(Michael)': True, 'word(Brosseau)': True, 'word(filthy)': True, 'word(slider)': True, 'word(Tuesday)': True, \"word(night's)\": True, 'word(game.)': True}, 'mlb'), ({'word(Robinson)': True, 'word(Cano)': True, 'word(smacks)': True, 'word(solo)': True, 'word(home)': True, 'word(run)': True, 'word(second)': True, 'word(deck)': True, 'word(put)': True, 'word(Mets)': True, 'word(1-0)': True, 'word(Padres)': True, 'word(bottom)': True, 'word(4th)': True, 'word(inning)': True}, 'mlb'), ({'word(The)': True, 'word(reported)': True, 'word(interest)': True, 'word(White)': True, 'word(Sox)': True, 'word(relievers)': True, 'word(surprising.)': True, 'word(But)': True, 'word(year)': True, 'word(different)': True, 'word(Rick)': True, 'word(Hahn)': True, 'word(front)': True, 'word(office,)': True, 'word(making)': True, 'word(future)': True, 'word(plans)': True, 'word(might)': True, 'word(include)': True, 'word(trade)': True, 'word(candidates.)': True}, 'mlb'), ({'word(Madison)': True, 'word(Bumgarner)': True, 'word(takes)': True, 'word(mound)': True, 'word(Tuesday)': True, 'word(night)': True, 'word(could)': True, 'word(final)': True, 'word(home)': True, 'word(start)': True, 'word(member)': True, 'word(Giants.)': True}, 'mlb'), ({'word(The)': True, 'word(Los)': True, 'word(Angeles)': True, 'word(Dodgers)': True, 'word(plan)': True, 'word(welcome)': True, 'word(All-Star)': True, 'word(Game)': True, 'word(back)': True, 'word(Dodger)': True, 'word(Stadium)': True, 'word($100)': True, 'word(million)': True, 'word(renovation)': True, 'word(landmark)': True, 'word(ballpark.)': True, 'word(unveiled)': True, 'word(logo)': True, 'word(next)': True, \"word(year's)\": True, 'word(Midsummer)': True, 'word(Classic)': True, 'word(along)': True, 'word(latest)': True, 'word(modernization)': True, 'word(plans)': True, 'word(Tuesday)': True, 'word(57-year-old)': True, 'word(home,)': True, \"word(majors')\": True}, 'mlb'), ({'word(The)': True, 'word(Los)': True, 'word(Angeles)': True, 'word(Dodgers)': True, 'word(plan)': True, 'word(welcome)': True, 'word(All-Star)': True, 'word(Game)': True, 'word(back)': True, 'word(Dodger)': True, 'word(Stadium)': True, 'word($100)': True, 'word(million)': True, 'word(renovation)': True, 'word(landmark)': True, 'word(ballpark.)': True, 'word(unveiled)': True, 'word(logo)': True, 'word(next)': True, \"word(year's)\": True, 'word(Midsummer)': True, 'word(Classic)': True, 'word(along)': True, 'word(latest)': True, 'word(modernization)': True, 'word(plans)': True, 'word(Tuesday)': True, 'word(57-year-old)': True, 'word(home,)': True, \"word(majors')\": True}, 'mlb'), ({'word(Kolten)': True, 'word(Wong)': True, 'word(smacks)': True, 'word(double)': True, 'word(right-center-field)': True, 'word(gap,)': True, 'word(scoring)': True, 'word(Paul)': True, 'word(DeJong)': True, 'word(get)': True, 'word(Cardinals)': True, 'word(board)': True, 'word(top)': True, 'word(2nd)': True}, 'mlb'), ({'word(Andrew)': True, 'word(Benintendi)': True, 'word(laces)': True, 'word(single)': True, 'word(center)': True, 'word(field,)': True, 'word(scoring)': True, 'word(J.D.)': True, 'word(Martinez)': True, 'word(extend)': True, 'word(Red)': True, \"word(Sox's)\": True, 'word(lead)': True, 'word(2-0)': True, 'word(1st)': True, 'word(inning)': True}, 'mlb'), ({'word(The)': True, 'word(Boston)': True, 'word(Red)': True, 'word(Sox)': True, 'word(would)': True, 'word(wise)': True, 'word(make)': True, 'word(move)': True, 'word(upgrade)': True, 'word(bullpen)': True, 'word(July)': True, 'word(31)': True, 'word(MLB)': True, 'word(trade)': True, 'word(deadline.)': True, 'word(Could)': True, 'word(Will)': True, 'word(Smith)': True, 'word(Giants)': True, 'word(solution)': True, \"word(Boston's)\": True, 'word(struggling)': True, 'word(bullpen?)': True}, 'mlb'), ({'word(How)': True, 'word(far)': True, 'word(Phillies)': True, 'word(go)': True, 'word(acquire)': True, 'word(Tigers)': True, 'word(lefty)': True, 'word(Matthew)': True, 'word(Boyd?)': True, 'word(What)': True, 'word(stuck)': True, 'word(Ricky)': True, 'word(Bo)': True, 'word(Drew)': True, \"word(Smyly's)\": True, 'word(Phils)': True, 'word(debut?)': True, 'word(New)': True, 'word(At)': True, 'word(The)': True, 'word(Yard)': True, 'word(podcast)': True, 'word(dropped.)': True}, 'mlb'), ({'word(The)': True, 'word(Bears)': True, 'word(breakout)': True, 'word(season,)': True, 'word(came)': True, 'word(back)': True, 'word(ferocious)': True, 'word(defense.)': True, 'word(History)': True, 'word(shows)': True, 'word(easy)': True, 'word(follow)': True, 'word(up.)': True}, 'nfl'), ({'word(Hayden)': True, 'word(Winks)': True, 'word(analyzes)': True, 'word(Jimmy)': True, 'word(Garoppolo,)': True, 'word(George)': True, 'word(Kittle,)': True, 'word(Dante)': True, 'word(Pettis)': True, 'word(rest)': True, 'word(San)': True, \"word(Francisco's)\": True, 'word(offense)': True, 'word(fantasy)': True, 'word(lens.)': True, 'word((Getty)': True, 'word(Images))': True}, 'nfl'), ({'word(Not)': True, 'word(every)': True, 'word(owner)': True, 'word(NFL)': True, 'word(behind)': True, 'word(push)': True, 'word(increase)': True, 'word(regular)': True, 'word(season)': True, 'word(18)': True, 'word(games.)': True, 'word(Cincinnati)': True, 'word(Bengals)': True, 'word(Mike)': True, 'word(Brown)': True, 'word(said)': True, 'word(Tuesday)': True, 'word(favor)': True, 'word(increasing)': True, 'word(amount)': True, 'word(games)': True, 'word(believes)': True, 'word(players)': True, 'word(deal)': True, 'word(enough)': True, 'word(beating)': True, 'word(is.)': True, 'word(\"These)': True, 'word(seasons)': True}, 'nfl'), ({'word(Cam)': True, 'word(Newton)': True, 'word(initially)': True, 'word(worried)': True, 'word(Eric)': True, 'word(Reid)': True, 'word(distraction)': True, 'word(Panthers)': True, 'word(last)': True, 'word(season.)': True}, 'nfl'), ({'word(The)': True, 'word(Rams)': True, 'word(rocketed)': True, 'word(top)': True, 'word(NFC)': True, 'word(2018.)': True, 'word(In)': True, 'word(2019,)': True, 'word(rest)': True, 'word(close)': True, 'word(gap?)': True, 'word(signs)': True, 'word(already)': True, 'word(exist)': True, 'word(suggest)': True, 'word(coach)': True, 'word(Sean)': True, 'word(McVay)': True, 'word(company)': True, 'word(may)': True, 'word(hard)': True, 'word(time)': True, 'word(distancing)': True, 'word(pack,)': True, 'word(division)': True, 'word([more])': True}, 'nfl'), ({'word(The)': True, 'word(Thunder)': True, 'word(sporting)': True, 'word(new)': True, 'word(uniforms)': True, 'word(first)': True, 'word(season)': True, 'word(without)': True, 'word(Russell)': True, 'word(Westbrook.)': True}, 'nfl'), ({'word(Washington)': True, 'word(Redskins)': True, 'word(offensive)': True, 'word(tackle)': True, 'word(Trent)': True, 'word(Williams)': True, 'word(ranked)': True, 'word(No.)': True, 'word(81)': True, 'word(player)': True, 'word(\"The)': True, 'word(Top)': True, 'word(100)': True, 'word(Players)': True, 'word(2019.\")': True}, 'nfl'), ({'word(Two)': True, 'word(others)': True, 'word(done)': True, 'word(it.)': True, 'word(Christian)': True, 'word(McCaffrey)': True, 'word(hopes)': True, 'word(third.)': True, 'word(\"I)': True, 'word(got)': True, 'word(lot)': True, 'word(goals)': True, 'word(I)': True, 'word(keep)': True, 'word(myself,)': True, 'word(one)': True, 'word(goal)': True, 'word(definitely)': True, 'word(1K/1K)': True, 'word(club,\")': True, 'word(Panthers)': True, 'word(running)': True, 'word(back)': True, 'word(recently)': True, 'word(told)': True, 'word(ESPN.com.)': True, 'word(almost)': True, 'word(last)': True, 'word(year)': True, 'word(bummer)': True, 'word(getting)': True, 'word(guys)': True, 'word([more)': True}, 'nfl'), ({'word(As)': True, 'word(painstaking)': True, 'word(looked,)': True, 'word(Mark)': True, 'word(Sanchez)': True, 'word(survived)': True, 'word(Josh)': True, 'word(Norman)': True, 'word(Broadcasting)': True, 'word(Bootcamp)': True, 'word(job)': True, 'word(ESPN.)': True}, 'nfl'), ({'word(Denver)': True, 'word(Broncos)': True, 'word(outside)': True, 'word(linebacker)': True, 'word(Bradley)': True, 'word(Chubb)': True, 'word(ranked)': True, 'word(No.)': True, 'word(82)': True, 'word(player)': True, 'word(\"The)': True, 'word(Top)': True, 'word(100)': True, 'word(Players)': True, 'word(2019.\")': True}, 'nfl'), ({'word(Ryan)': True, 'word(Succop)': True, 'word(went)': True, 'word(physically)': True, 'word(unable)': True, 'word(perform)': True, 'word(list)': True, 'word(undisclosed)': True, 'word(injury.)': True, 'word(The)': True, 'word(injury)': True, 'word(disclosed)': True, 'word(Tuesday.)': True, 'word(Titans)': True, 'word(kicker)': True, 'word(offseason)': True, 'word(knee)': True, 'word(surgery)': True, 'word(\"did)': True, 'word(go)': True, 'word(neatly)': True, 'word(planned,\")': True, 'word(Paul)': True, 'word(Kuharsky)': True, 'word(paulkuharsky.com)': True, 'word(reports.)': True, 'word(experienced)': True, 'word(swelling)': True, 'word(rehab)': True}, 'nfl'), ({'word(Carolina)': True, 'word(Panthers)': True, 'word(quarterback)': True, 'word(Cam)': True, 'word(Newton)': True, 'word(ranked)': True, 'word(No.)': True, 'word(87)': True, 'word(player)': True, 'word(\"The)': True, 'word(Top)': True, 'word(100)': True, 'word(Players)': True, 'word(2019.\")': True}, 'nfl'), ({'word(Pittsburgh)': True, 'word(Steelers)': True, 'word(defensive)': True, 'word(lineman)': True, 'word(Cameron)': True, 'word(Heyward)': True, 'word(ranked)': True, 'word(No.)': True, 'word(88)': True, 'word(player)': True, 'word(\"The)': True, 'word(Top)': True, 'word(100)': True, 'word(Players)': True, 'word(2019.\")': True}, 'nfl'), ({'word(New)': True, 'word(England)': True, 'word(Patriots)': True, 'word(safety)': True, 'word(Devin)': True, 'word(McCourty)': True, 'word(ranked)': True, 'word(No.)': True, 'word(89)': True, 'word(player)': True, 'word(\"The)': True, 'word(Top)': True, 'word(100)': True, 'word(Players)': True, 'word(2019.\")': True}, 'nfl'), ({'word(New)': True, 'word(England)': True, 'word(Patriots)': True, 'word(wide)': True, 'word(receiver)': True, 'word(Julian)': True, 'word(Edelman)': True, 'word(ranked)': True, 'word(No.)': True, 'word(90)': True, 'word(player)': True, 'word(\"The)': True, 'word(Top)': True, 'word(100)': True, 'word(Players)': True, 'word(2019.\")': True}, 'nfl'), ({'word(The)': True, 'word(Falcons)': True, 'word(placed)': True, 'word(safety)': True, 'word(J.J.)': True, 'word(Wilcox)': True, 'word(injured)': True, 'word(reserve)': True, 'word(Tuesday,)': True, 'word(team)': True, 'word(announced.)': True, 'word(make)': True, 'word(first)': True, 'word(practice)': True, 'word(Falcons,)': True, 'word(tearing)': True, 'word(anterior)': True, 'word(cruciate)': True, 'word(ligament)': True, 'word(Monday.)': True, 'word(spent)': True, 'word(time)': True, 'word(Jets)': True, 'word(Colts)': True, 'word(last)': True, 'word(year.)': True, 'word(He)': True, 'word(signed)': True, 'word(free)': True, 'word(agent)': True}, 'nfl'), ({'word(Rams)': True, 'word(receiver)': True, 'word(Cooper)': True, 'word(Kupp)': True, 'word(start)': True, 'word(training)': True, 'word(camp)': True, 'word(physically)': True, 'word(unable)': True, 'word(perform)': True, 'word(list,)': True, 'word(Steve)': True, 'word(Wyche)': True, 'word(NFL)': True, 'word(Media)': True, 'word(reports.)': True, 'word(fully)': True, 'word(cleared,)': True, 'word(though)': True, 'word(\"measure\")': True, 'word(workload,)': True, 'word(per)': True, 'word(Wyche.)': True, 'word(tore)': True, 'word(anterior)': True, 'word(cruciate)': True, 'word(ligament)': True, 'word(left)': True, 'word(knee)': True, 'word(Nov.)': True, 'word(11.)': True, 'word(He)': True}, 'nfl'), ({'word(Between)': True, 'word(experimenting)': True, 'word(Tim)': True, 'word(Tebow)': True, 'word(package)': True, 'word(trying)': True, 'word(sign)': True, 'word(Peyton)': True, 'word(Manning,)': True, 'word(Jets)': True, 'word(didn’t)': True, 'word(Mark)': True, 'word(Sanchez)': True, 'word(favors.)': True}, 'nfl'), ({'word(David)': True, 'word(Kaplan)': True, 'word(joined)': True, 'word(Haugh,)': True, 'word(Madeline)': True, 'word(Kenney,)': True, 'word(Tony)': True, 'word(Andracki,)': True, 'word(Sam)': True, 'word(Panayotovich)': True, 'word(&)': True, 'word(Scott)': True, 'word(Paddock.)': True, 'word(Topics)': True, 'word(include)': True, 'word(Pedro)': True, \"word(Strop's)\": True, 'word(recent)': True, 'word(struggles,)': True, 'word(Addison)': True, \"word(Russell's)\": True, 'word(role)': True, 'word(team,)': True, 'word(Yoan)': True, \"word(Moncada's)\": True, 'word(move)': True, 'word(cleanup)': True, 'word(spot,)': True, 'word(Bears)': True, 'word(ranked)': True, 'word(5th-best)': True, 'word(team)': True, 'word(NFL)': True, 'word(PFT.)': True}, 'nfl'), ({'word(Three)': True, 'word(seasons)': True, 'word(ago,)': True, 'word(Minnesota)': True, 'word(Vikings)': True, 'word(stumbled)': True, 'word(5-0)': True, 'word(start)': True, 'word(finished)': True, 'word(8-8,)': True, 'word(one)': True, 'word(many)': True, 'word(problems)': True, 'word(negligible)': True, 'word(contribution)': True, 'word(collection)': True, 'word(first-year)': True, 'word(players.)': True, 'word(Coach)': True, 'word(Mike)': True, 'word(Zimmer)': True, 'word(looked)': True, 'word(back.)': True, 'word(Headlined)': True, 'word(center)': True, 'word(first-round)': True, 'word(draft)': True, 'word(pick)': True, 'word(Garrett)': True, 'word(Bradbury)': True}, 'nfl'), ({'word(NFL)': True, 'word(Network)': True, 'word(Insider)': True, 'word(Ian)': True, 'word(Rapoport)': True, 'word(reports)': True, 'word(latest)': True, 'word(linebacker)': True, 'word(Bobby)': True, \"word(Wagner's)\": True, 'word(contract)': True, 'word(situation)': True, 'word(Seattle)': True, 'word(Seahawks.)': True}, 'nfl'), ({'word(NFL)': True, \"word(Network's)\": True, 'word(Steve)': True, 'word(Wyche)': True, 'word(LaDainian)': True, 'word(Tomlinson)': True, 'word(discuss)': True, 'word(expectations)': True, 'word(Atlanta)': True, 'word(Falcons)': True, 'word(quarterback)': True, 'word(Matt)': True, 'word(Ryan)': True, 'word(2019.)': True}, 'nfl'), ({'word(NFL)': True, \"word(Network's)\": True, 'word(Tom)': True, 'word(Pelissero)': True, 'word(shares)': True, 'word(Houston)': True, 'word(Texans)': True, 'word(expect)': True, 'word(linebacker)': True, 'word(Jadeveon)': True, 'word(Clowney)': True, 'word(report)': True, 'word(training)': True, 'word(camp.)': True}, 'nfl'), ({'word(Free)': True, 'word(agent)': True, 'word(cornerback)': True, 'word(Dexter)': True, 'word(McDonald)': True, 'word(worked)': True, 'word(Dolphins)': True, 'word(Tuesday,)': True, 'word(Adam)': True, 'word(Schefter)': True, 'word(ESPN)': True, 'word(reports.)': True, 'word(McDonald,)': True, 'word(27,)': True, 'word(spent)': True, 'word(last)': True, 'word(season)': True, 'word(injured)': True, 'word(reserve)': True, 'word(ankle)': True, 'word(injury.)': True, 'word(The)': True, 'word(Raiders)': True, 'word(made)': True, 'word(seventh-round)': True, 'word(choice)': True, 'word(2015.)': True, 'word(He)': True, 'word(played)': True, 'word(27)': True, 'word(games)': True, 'word(six)': True, 'word(starts)': True, 'word(four)': True, 'word(seasons)': True}, 'nfl'), ({'word(The)': True, 'word(49ers)': True, 'word(find)': True, 'word(full)': True, 'word(depth)': True, 'word(safety,)': True, 'word(help)': True, 'word(immenely)': True, 'word(season.)': True}, 'nfl'), ({'word(New)': True, 'word(York)': True, 'word(Jets)': True, 'word(quarterback)': True, 'word(Mark)': True, 'word(Sanchez)': True, 'word(fumbles)': True, 'word(ball)': True, 'word(awkward)': True, 'word(ways)': True, 'word(running)': True, 'word(teammate)': True, 'word(Thanksgiving)': True, 'word(England)': True, 'word(Patriots.)': True}, 'nfl'), ({'word(Free)': True, 'word(agent)': True, 'word(defensive)': True, 'word(lineman)': True, 'word(Ricky)': True, 'word(Jean)': True, 'word(Francois)': True, 'word(visited)': True, 'word(Lions)': True, 'word(Tuesday,)': True, 'word(Adam)': True, 'word(Schefter)': True, 'word(ESPN)': True, 'word(reports.)': True, 'word(knows)': True, 'word(Lions;)': True, 'word(know)': True, 'word(Francois.)': True, 'word(He)': True, 'word(appeared)': True, 'word(16)': True, 'word(games,)': True, 'word(11)': True, 'word(starts,)': True, 'word(last)': True, 'word(season,)': True, 'word(finishing)': True, 'word(30)': True, 'word(tackles)': True, 'word(two)': True, 'word(sacks.)': True, 'word(Damon)': True, 'word(Harrison)': True, 'word(start,)': True}, 'nfl'), ({'word(The)': True, 'word(49ers)': True, 'word(playoffs)': True, 'word(since)': True, 'word(2013.)': True, 'word(Could)': True, 'word(change)': True, 'word(season?)': True}, 'nfl'), ({'word(Terez)': True, 'word(Charles)': True, 'word(give)': True, 'word(worst-to-first)': True, 'word(predictions)': True, 'word(NFC)': True, 'word(division,)': True, 'word(giving)': True, 'word(final)': True, 'word(picks)': True, 'word(think)': True, 'word(represent)': True, 'word(conference)': True, 'word(Super)': True, 'word(Bowl)': True, 'word(LIV)': True, 'word(Miami.)': True}, 'nfl'), ({'word(With)': True, 'word(training)': True, 'word(camp)': True, 'word(right)': True, 'word(around)': True, 'word(corner,)': True, 'word(Tom)': True, 'word(E.)': True, 'word(Curran)': True, 'word(Phil)': True, 'word(Perry)': True, 'word(tell)': True, 'word(us)': True, 'word(expect)': True, 'word(Patriots)': True, 'word(next)': True, 'word(weeks.)': True, 'word(They)': True, 'word(also)': True, 'word(break)': True, 'word(latest)': True, 'word(information)': True, 'word(surrounding)': True, 'word(Brady)': True, 'word(contract)': True, 'word(extension.)': True}, 'nfl'), ({'word(The)': True, 'word(Jaguars)': True, 'word(likely)': True, 'word(gathering)': True, 'word(training)': True, 'word(camp)': True, 'word(without)': True, 'word(one)': True, 'word(best)': True, 'word(young)': True, 'word(pass)': True, 'word(rushers)': True, 'word(game.)': True, 'word(Per)': True, 'word(source)': True, 'word(knowledge)': True, 'word(situation,)': True, 'word(contract)': True, 'word(talks)': True, 'word(defensive)': True, 'word(end)': True, 'word(Yannick)': True, 'word(Ngakoue)': True, 'word(broken)': True, 'word(down,)': True, 'word(making)': True, 'word(training-camp)': True, 'word(holdout)': True, 'word(likely.)': True, 'word(fourth-year)': True}, 'nfl'), ({'word(The)': True, 'word(Saints)': True, 'word(placed)': True, 'word(Sheldon)': True, 'word(Rankins)': True, 'word(physically)': True, 'word(unable)': True, 'word(perform)': True, 'word(list,)': True, 'word(according)': True, \"word(NFL's)\": True, 'word(official)': True, 'word(transactions)': True, 'word(report)': True, 'word(Tuesday.)': True, 'word(move)': True, 'word(comes)': True, 'word(surprise)': True, 'word(givens)': True, 'word(tore)': True, 'word(Achilles)': True, 'word(Jan.)': True, 'word(13.)': True, 'word(With)': True, 'word(normal)': True, 'word(prognosis)': True, 'word(10)': True, 'word(months,)': True, 'word(could)': True, 'word(miss)': True, 'word(start)': True, 'word(season)': True}, 'nfl'), ({'word(\"I)': True, 'word(tell)': True, 'word(this:)': True, 'word(I)': True, 'word(like)': True, 'word(watching)': True, 'word(tape,)': True, 'word(especially)': True, 'word(offense.\")': True}, 'nfl'), ({'word(The)': True, 'word(49ers)': True, 'word(signed)': True, 'word(kicker)': True, 'word(Jonathan)': True, 'word(Brown)': True, 'word(week)': True, 'word(placing)': True, 'word(franchise)': True, 'word(tag)': True, 'word(Robbie)': True, 'word(Gould.)': True, 'word(They)': True, 'word(waived)': True, 'word(signing)': True, 'word(Gould)': True, 'word(contract)': True, 'word(extension.)': True, 'word(originally)': True, 'word(entered)': True, 'word(NFL)': True, 'word(2016,)': True, 'word(Bengals)': True, 'word(undrafted)': True, 'word(free)': True, 'word(agent.)': True, 'word(Cincinnati)': True, 'word(preseason)': True}, 'nfl'), ({'word(The)': True, 'word(Texans)': True, 'word(signed)': True, 'word(veteran)': True, 'word(punter)': True, 'word(Bryan)': True, 'word(Anger,)': True, 'word(team)': True, 'word(announced)': True, 'word(Tuesday.)': True, 'word(He)': True, 'word(compete)': True, 'word(second-year)': True, 'word(Trevor)': True, 'word(Daniel)': True, 'word(job.)': True, 'word(Buccaneers,)': True, 'word(scheduled)': True, 'word(pay)': True, 'word(Anger)': True, 'word($3)': True, 'word(million)': True, 'word(season,)': True, 'word(cut)': True, 'word(March.)': True, \"word(Anger's)\": True, 'word(deal)': True, 'word(worth)': True, 'word($1)': True, 'word(million,)': True, 'word(Tom)': True, 'word(Pelissero)': True}, 'nfl'), ({'word(The)': True, 'word(Jacksonville)': True, 'word(Jaguars)': True, 'word(open)': True, 'word(training)': True, 'word(camp)': True, 'word(two)': True, 'word(offensive)': True, 'word(starters)': True, 'word(rookie)': True, 'word(physically)': True, 'word(unable)': True, 'word(perform)': True, 'word(list.)': True, 'word(placed)': True, 'word(veteran)': True, 'word(receiver)': True, 'word(Marqise)': True, 'word(Lee,)': True, 'word(left)': True, 'word(tackle)': True, 'word(Cam)': True, 'word(Robinson)': True, 'word(fifth-round)': True, 'word(draft)': True, 'word(pick)': True, 'word(Ryquell)': True, 'word(Armstead)': True, 'word(PUP)': True, 'word(list)': True, 'word(Tuesday,)': True, 'word(days)': True}, 'nfl'), ({\"word(N'Keal)\": True, 'word(Harry)': True, 'word(pleading)': True, 'word(Tom)': True, 'word(Brady)': True, 'word(subject)': True, \"word(Patriots')\": True, 'word(tradition)': True, 'word(giving)': True, 'word(rookies)': True, 'word(horrible)': True, 'word(haircuts.)': True}, 'nfl'), ({'word(Knowing)': True, 'word(offensive)': True, 'word(lines)': True, 'word(best)': True, 'word((and)': True, 'word(worst))': True, 'word(run-blocking)': True, 'word(key)': True, 'word(investing)': True, 'word(running)': True, 'word(backs.)': True, 'word(John)': True, 'word(Evans)': True, 'word(ranks)': True, 'word(every)': True, 'word(line)': True, 'word(league)': True, 'word(No.)': True, 'word(1)': True, 'word(-)': True, 'word(32.)': True}, 'nfl'), ({'word(The)': True, 'word(biggest)': True, 'word(questions)': True, 'word(swirling)': True, 'word(around)': True, 'word(Kansas)': True, 'word(City)': True, 'word(Chiefs)': True, 'word(offseason)': True, 'word(centered)': True, 'word(Tyreek)': True, 'word(Hill,)': True, 'word(whether)': True, 'word(speedy,)': True, 'word(record-setting)': True, 'word(wide)': True, 'word(receiver)': True, 'word(would)': True, 'word(season.)': True, 'word(coach)': True, 'word(Andy)': True, 'word(Reid)': True, 'word(confirmed)': True, 'word(Tuesday)': True, 'word(Hill)': True, 'word(report)': True, 'word(Scanlon)': True, 'word(Hall)': True, 'word(campus)': True, 'word(Missouri)': True, 'word(Western)': True}, 'nfl'), ({'word(RICHMOND,)': True, 'word(Va.)': True, 'word((AP))': True, 'word(--)': True, 'word(The)': True, 'word(Washington)': True, 'word(Redskins)': True, 'word(released)': True, 'word(inside)': True, 'word(linebacker)': True, 'word(Mason)': True, 'word(Foster)': True, 'word(eve)': True, 'word(training)': True, 'word(camp.)': True}, 'nfl'), ({'word(Receiver)': True, 'word(Tyler)': True, 'word(Boyd)': True, 'word(turned)': True, 'word(breakthrough)': True, 'word(season)': True, 'word(four-year)': True, 'word(contract)': True, 'word(extension.)': True, 'word(The)': True, 'word(Cincinnati)': True, 'word(Bengals)': True, 'word(signed)': True, 'word(deal)': True, 'word(runs)': True, 'word(2023)': True, 'word(Tuesday.)': True, 'word(second-round)': True, 'word(pick)': True, 'word(Pittsburgh)': True, 'word(2016)': True, 'word(entering)': True, 'word(final)': True, 'word(year)': True, 'word(original)': True, 'word(deal.)': True}, 'nfl'), ({'word(The)': True, 'word(New)': True, 'word(England)': True, 'word(Patriots)': True, 'word(secondary)': True, 'word(put)': True, 'word(clinic)': True, \"word(team's)\": True, 'word(Super)': True, 'word(Bowl)': True, 'word(LIII)': True, 'word(win)': True, 'word(Los)': True, 'word(Angeles)': True, 'word(Rams,)': True, 'word(group)': True, \"word(NFL's)\": True, 'word(best?)': True}, 'nfl'), ({'word(NFL)': True, \"word(Network's)\": True, 'word(Tom)': True, 'word(Pelissero)': True, 'word(spotlights)': True, 'word(one)': True, 'word(young)': True, 'word(wide)': True, 'word(receiver)': True, 'word(impressing)': True, 'word(coaches)': True, 'word(Minnesota)': True, 'word(Vikings)': True, 'word(training)': True, 'word(camp.)': True}, 'nfl'), ({'word(The)': True, 'word(Packers)': True, 'word(extended)': True, 'word(working)': True, 'word(relationship)': True, 'word(defensive)': True, 'word(lineman)': True, 'word(Dean)': True, 'word(Lowry.)': True, 'word(team)': True, 'word(announced)': True, 'word(agreed)': True, 'word(contract)': True, 'word(extension)': True, 'word(Lowry)': True, 'word(Tuesday.)': True, 'word(announcement)': True, 'word(included)': True, 'word(word)': True, 'word(terms)': True, 'word(deal.)': True, 'word(fourth-round)': True, 'word(pick)': True, 'word(2016)': True, 'word(headed)': True, 'word(final)': True}, 'nfl'), ({'word(Bengals)': True, 'word(owner)': True, 'word(Mike)': True, 'word(Brown)': True, 'word(thinks)': True, \"word(NFL's)\": True, 'word(current)': True, 'word(16-game)': True, 'word(schedule)': True, 'word(regular)': True, 'word(season)': True, 'word(long)': True, 'word(enough,)': True, 'word(doubts)': True, 'word(league)': True, 'word(able)': True, 'word(shorten)': True, 'word(preseason)': True, 'word(add)': True, 'word(games)': True, 'word(count)': True, 'word(standings)': True, \"word(players')\": True, 'word(opposition.)': True, 'word(said)': True, 'word(Tuesday)': True, 'word(strongly)': True, 'word(opposes)': True}, 'nfl'), ({'word(Today)': True, 'word(take)': True, 'word(look)': True, 'word(return)': True, 'word(Patriots)': True, 'word(second-year)': True, 'word(linebacker)': True, \"word(Ja'Whaun)\": True, 'word(Bentley)': True, 'word(might)': True, 'word(mean)': True, 'word(rest)': True, 'word(defense.)': True}, 'nfl'), ({'word(Minnesota)': True, 'word(Vikings)': True, 'word(cornerback)': True, 'word(Holton)': True, 'word(Hill)': True, 'word(suspended)': True, 'word(additional)': True, 'word(four)': True, 'word(games,)': True, 'word(time)': True, 'word(violation)': True, \"word(NFL's)\": True, 'word(policy)': True, 'word(program)': True, 'word(substances)': True, 'word(abuse.)': True, 'word(action)': True, 'word(first)': True, 'word(half)': True, 'word(season,)': True, 'word(previously)': True, 'word(received)': True, 'word(four-game)': True, 'word(ban)': True, 'word(league)': True, 'word(handed)': True}, 'nfl'), ({'word(ORCHARD)': True, 'word(PARK,)': True, 'word(N.Y.)': True, 'word((AP))': True, 'word(--)': True, 'word(The)': True, 'word(Buffalo)': True, 'word(Bills)': True, 'word(signed)': True, 'word(offensive)': True, 'word(lineman)': True, 'word(Isaac)': True, 'word(Asiata)': True, 'word(safety)': True, 'word(Abraham)': True, 'word(Wallace)': True, 'word(two)': True, 'word(days)': True, 'word(start)': True, 'word(training)': True, 'word(camp.)': True}, 'nfl'), ({'word(Terez)': True, 'word(Paylor)': True, 'word(Charles)': True, 'word(Robinson)': True, 'word(Yahoo)': True, 'word(Sports)': True, 'word(NFL)': True, 'word(Podcast)': True, 'word(preview)': True, 'word(2019)': True, 'word(Lions)': True, 'word(ask)': True, 'word(Matt)': True, 'word(Patricia)': True, 'word(right)': True, 'word(ship)': True, 'word(another)': True, 'word(Josh)': True, 'word(McDaniels)': True, 'word(Denver?Hear)': True, 'word(full)': True, 'word(conversation)': True, 'word(.)': True, 'word(Listen)': True, 'word(Apple)': True, 'word(Podcasts)': True, 'word(,)': True, 'word(Spotify)': True, 'word(Stitcher)': True, 'word(wherever)': True}, 'nfl')]\n",
      "--------------------------------------------------\n",
      "0.9361702127659575\n",
      "Most Informative Features\n",
      "           word(Tuesday) = True              mlb : nfl    =      3.9 : 1.0\n",
      "          word(Robinson) = True              mlb : nfl    =      3.4 : 1.0\n",
      "              word(Mark) = True              nfl : mlb    =      3.0 : 1.0\n",
      "             word(first) = True              mlb : nfl    =      2.4 : 1.0\n",
      "            word(around) = True              nfl : mlb    =      2.1 : 1.0\n",
      "nfl -> The Bears had a breakout season, and it came on the back of a ferocious defense. History shows that it won't be easy to follow that up.\n",
      "nfl -> Hayden Winks analyzes Jimmy Garoppolo, George Kittle, Dante Pettis and the rest of San Francisco's offense through a fantasy lens. (Getty Images)\n",
      "nfl -> Not every owner in the NFL is behind the push for an increase of the regular season to 18 games. Cincinnati Bengals owner Mike Brown said Tuesday that he is not in favor of increasing the amount of regular season games and believes the players deal with enough beating as it is. \"These seasons are\n",
      "nfl -> Cam Newton was initially worried about Eric Reid being a distraction for the Panthers last season.\n"
     ]
    }
   ],
   "source": [
    "nltk.download('stopwords')\n",
    "import random\n",
    "import feedparser\n",
    "\n",
    "urls = {\n",
    "    'mlb': 'https://sports.yahoo.com/mlb/rss.xml',\n",
    "    'nfl': 'https://sports.yahoo.com/nfl/rss.xml',\n",
    "}\n",
    "\n",
    "feedmap = {}\n",
    "stopwords = nltk.corpus.stopwords.words('english')\n",
    "print('-'*50)\n",
    "print(stopwords)\n",
    "print('-'*50)\n",
    "\n",
    "def featureExtractor(words):\n",
    "    features = {}\n",
    "    for word in words:\n",
    "        if word not in stopwords:\n",
    "            features[\"word({})\".format(word)] = True\n",
    "    return features\n",
    "\n",
    "sentences = []\n",
    "\n",
    "for category in urls.keys():\n",
    "    feedmap[category] = feedparser.parse(urls[category])\n",
    "    print(\"downloading {}\".format(urls[category]))\n",
    "    for entry in feedmap[category]['entries']:\n",
    "        data = entry['summary']\n",
    "        words = data.split()\n",
    "        sentences.append((category, words))\n",
    "\n",
    "featuresets = [(featureExtractor(words), category) for category, words in sentences]\n",
    "print(\"featuresets\")\n",
    "print(featuresets)\n",
    "print(\"-\"*50)\n",
    "random.shuffle(featuresets)\n",
    "\n",
    "total = len(featuresets)\n",
    "off = int(total/2)\n",
    "trainset = featuresets[off:]\n",
    "testset = featuresets[:off]\n",
    "\n",
    "classifier = nltk.NaiveBayesClassifier.train(trainset)\n",
    "print(nltk.classify.accuracy(classifier, testset))\n",
    "\n",
    "classifier.show_most_informative_features(5)\n",
    "for (i, entry) in enumerate(feedmap['nfl']['entries']):\n",
    "    if i < 4:\n",
    "        features = featureExtractor(entry['title'].split())\n",
    "        category = classifier.classify(features)\n",
    "        print('{} -> {}'.format(category, entry['summary']))"
   ]
  },
  {
   "cell_type": "markdown",
   "metadata": {},
   "source": [
    "# 문맥 기반 품사 태거"
   ]
  },
  {
   "cell_type": "code",
   "execution_count": 116,
   "metadata": {},
   "outputs": [
    {
     "name": "stdout",
     "output_type": "stream",
     "text": [
      "featureddata\n",
      "[({'last(1)': 't', 'last(2)': 'at', 'last(3)': 'hat', 'prev': '|NONE|'}, 'WP'), ({'last(1)': 's', 'last(2)': 'is', 'last(3)': 'is', 'prev': '|NONE|'}, 'VBZ'), ({'last(1)': 'r', 'last(2)': 'ur', 'last(3)': 'our', 'prev': 'is'}, 'PRP$'), ({'last(1)': 's', 'last(2)': 'ss', 'last(3)': 'ess', 'prev': 'your'}, 'NN'), ({'last(1)': 'n', 'last(2)': 'en', 'last(3)': 'hen', 'prev': 'address'}, 'WRB'), ({'last(1)': 'u', 'last(2)': 'ou', 'last(3)': 'you', 'prev': 'when'}, 'PRP'), ({'last(1)': 'e', 'last(2)': 're', 'last(3)': \"'re\", 'prev': 'you'}, 'VBP'), ({'last(1)': 'n', 'last(2)': 'in', 'last(3)': 'in', 'prev': \"'re\"}, 'IN'), ({'last(1)': 'e', 'last(2)': 're', 'last(3)': 'ore', 'prev': 'in'}, 'NNP'), ({'last(1)': '?', 'last(2)': '?', 'last(3)': '?', 'prev': 'Bangalore'}, '.'), ({'last(1)': 'e', 'last(2)': 'he', 'last(3)': 'the', 'prev': '|NONE|'}, 'DT'), ({'last(1)': 't', 'last(2)': 'nt', 'last(3)': 'ent', 'prev': '|NONE|'}, 'NN'), ({'last(1)': 's', 'last(2)': \"'s\", 'last(3)': \"'s\", 'prev': 'president'}, 'POS'), ({'last(1)': 's', 'last(2)': 'ss', 'last(3)': 'ess', 'prev': \"'s\"}, 'NN'), ({'last(1)': 'n', 'last(2)': 'on', 'last(3)': 'on', 'prev': 'address'}, 'IN'), ({'last(1)': 'e', 'last(2)': 'he', 'last(3)': 'the', 'prev': 'on'}, 'DT'), ({'last(1)': 'e', 'last(2)': 'te', 'last(3)': 'ate', 'prev': 'the'}, 'NN'), ({'last(1)': 'f', 'last(2)': 'of', 'last(3)': 'of', 'prev': 'state'}, 'IN'), ({'last(1)': 'e', 'last(2)': 'he', 'last(3)': 'the', 'prev': 'of'}, 'DT'), ({'last(1)': 'y', 'last(2)': 'my', 'last(3)': 'omy', 'prev': 'the'}, 'NN'), ({'last(1)': '.', 'last(2)': '.', 'last(3)': '.', 'prev': 'economy'}, '.'), ({'last(1)': 'e', 'last(2)': 'He', 'last(3)': 'He', 'prev': '|NONE|'}, 'PRP'), ({'last(1)': 'd', 'last(2)': 'ed', 'last(3)': 'sed', 'prev': '|NONE|'}, 'VBD'), ({'last(1)': 's', 'last(2)': 'is', 'last(3)': 'his', 'prev': 'addressed'}, 'PRP$'), ({'last(1)': 's', 'last(2)': 'ks', 'last(3)': 'rks', 'prev': 'his'}, 'NNS'), ({'last(1)': 'o', 'last(2)': 'to', 'last(3)': 'to', 'prev': 'remarks'}, 'TO'), ({'last(1)': 'e', 'last(2)': 'he', 'last(3)': 'the', 'prev': 'to'}, 'DT'), ({'last(1)': 's', 'last(2)': 'rs', 'last(3)': 'ers', 'prev': 'the'}, 'NNS'), ({'last(1)': 'n', 'last(2)': 'in', 'last(3)': 'in', 'prev': 'lawyers'}, 'IN'), ({'last(1)': 'e', 'last(2)': 'he', 'last(3)': 'the', 'prev': 'in'}, 'DT'), ({'last(1)': 'e', 'last(2)': 'ce', 'last(3)': 'nce', 'prev': 'the'}, 'NN'), ({'last(1)': '.', 'last(2)': '.', 'last(3)': '.', 'prev': 'audience'}, '.'), ({'last(1)': 'n', 'last(2)': 'In', 'last(3)': 'In', 'prev': '|NONE|'}, 'IN'), ({'last(1)': 'r', 'last(2)': 'er', 'last(3)': 'der', 'prev': '|NONE|'}, 'NN'), ({'last(1)': 'o', 'last(2)': 'to', 'last(3)': 'to', 'prev': 'order'}, 'TO'), ({'last(1)': 's', 'last(2)': 'ss', 'last(3)': 'ess', 'prev': 'to'}, 'VB'), ({'last(1)': 'n', 'last(2)': 'an', 'last(3)': 'an', 'prev': 'address'}, 'DT'), ({'last(1)': 'y', 'last(2)': 'ly', 'last(3)': 'bly', 'prev': 'an'}, 'NN'), ({'last(1)': ',', 'last(2)': ',', 'last(3)': ',', 'prev': 'assembly'}, ','), ({'last(1)': 'e', 'last(2)': 'we', 'last(3)': 'we', 'prev': ','}, 'PRP'), ({'last(1)': 'd', 'last(2)': 'ld', 'last(3)': 'uld', 'prev': 'we'}, 'MD'), ({'last(1)': 'e', 'last(2)': 'be', 'last(3)': 'be', 'prev': 'should'}, 'VB'), ({'last(1)': 'y', 'last(2)': 'dy', 'last(3)': 'ady', 'prev': 'be'}, 'JJ'), ({'last(1)': 'e', 'last(2)': 'He', 'last(3)': 'He', 'prev': '|NONE|'}, 'PRP'), ({'last(1)': 'd', 'last(2)': 'ed', 'last(3)': 'hed', 'prev': '|NONE|'}, 'VBD'), ({'last(1)': 'y', 'last(2)': 'ly', 'last(3)': 'dly', 'prev': 'laughed'}, 'RB'), ({'last(1)': 't', 'last(2)': 'at', 'last(3)': 'at', 'prev': 'inwardly'}, 'IN'), ({'last(1)': 'e', 'last(2)': 'he', 'last(3)': 'the', 'prev': 'at'}, 'DT'), ({'last(1)': 'e', 'last(2)': 'ne', 'last(3)': 'ene', 'prev': 'the'}, 'NN'), ({'last(1)': '.', 'last(2)': '.', 'last(3)': '.', 'prev': 'scene'}, '.'), ({'last(1)': 'r', 'last(2)': 'er', 'last(3)': 'ter', 'prev': '|NONE|'}, 'IN'), ({'last(1)': 'l', 'last(2)': 'll', 'last(3)': 'all', 'prev': '|NONE|'}, 'PDT'), ({'last(1)': 'e', 'last(2)': 'he', 'last(3)': 'the', 'prev': 'all'}, 'DT'), ({'last(1)': 'e', 'last(2)': 'ce', 'last(3)': 'nce', 'prev': 'the'}, 'NN'), ({'last(1)': 'y', 'last(2)': 'ty', 'last(3)': 'ity', 'prev': 'advance'}, 'NN'), ({'last(1)': ',', 'last(2)': ',', 'last(3)': ',', 'prev': 'publicity'}, ','), ({'last(1)': 'e', 'last(2)': 'he', 'last(3)': 'the', 'prev': ','}, 'DT'), ({'last(1)': 't', 'last(2)': 'ht', 'last(3)': 'ght', 'prev': 'the'}, 'NN'), ({'last(1)': 'd', 'last(2)': 'ed', 'last(3)': 'ned', 'prev': 'prizefight'}, 'VBD'), ({'last(1)': 't', 'last(2)': 'ut', 'last(3)': 'out', 'prev': 'turned'}, 'RP'), ({'last(1)': 'o', 'last(2)': 'to', 'last(3)': 'to', 'prev': 'out'}, 'TO'), ({'last(1)': 'e', 'last(2)': 'be', 'last(3)': 'be', 'prev': 'to'}, 'VB'), ({'last(1)': 'a', 'last(2)': 'a', 'last(3)': 'a', 'prev': 'be'}, 'DT'), ({'last(1)': 'h', 'last(2)': 'gh', 'last(3)': 'ugh', 'prev': 'a'}, 'NN'), ({'last(1)': '.', 'last(2)': '.', 'last(3)': '.', 'prev': 'laugh'}, '.'), ({'last(1)': 'e', 'last(2)': 'We', 'last(3)': 'We', 'prev': '|NONE|'}, 'PRP'), ({'last(1)': 'n', 'last(2)': 'an', 'last(3)': 'can', 'prev': '|NONE|'}, 'MD'), ({'last(1)': 'n', 'last(2)': 'rn', 'last(3)': 'arn', 'prev': 'can'}, 'VB'), ({'last(1)': 'o', 'last(2)': 'to', 'last(3)': 'to', 'prev': 'learn'}, 'TO'), ({'last(1)': 'h', 'last(2)': 'gh', 'last(3)': 'ugh', 'prev': 'to'}, 'VB'), ({'last(1)': 'a', 'last(2)': 'a', 'last(3)': 'a', 'prev': 'laugh'}, 'DT'), ({'last(1)': 'e', 'last(2)': 'le', 'last(3)': 'tle', 'prev': 'a'}, 'JJ'), ({'last(1)': 't', 'last(2)': 'at', 'last(3)': 'at', 'prev': 'little'}, 'IN'), ({'last(1)': 'n', 'last(2)': 'en', 'last(3)': 'ven', 'prev': 'at'}, 'RB'), ({'last(1)': 'r', 'last(2)': 'ur', 'last(3)': 'our', 'prev': 'even'}, 'PRP$'), ({'last(1)': 't', 'last(2)': 'st', 'last(3)': 'ost', 'prev': 'our'}, 'RBS'), ({'last(1)': 's', 'last(2)': 'us', 'last(3)': 'ous', 'prev': 'most'}, 'JJ'), ({'last(1)': 's', 'last(2)': 'es', 'last(3)': 'les', 'prev': 'serious'}, 'NNS'), ({'last(1)': '.', 'last(2)': '.', 'last(3)': '.', 'prev': 'foibles'}, '.')]\n",
      "분류기 정확도: 0.46153846153846156\n"
     ]
    }
   ],
   "source": [
    "sentences = [\n",
    "    \"What is your address when you're in Bangalore?\", #주소\n",
    "    \"the president's address on the state of the economy.\" , #연설\n",
    "    \"He addressed his remarks to the lawyers in the audience.\", #연설하다\n",
    "    \"In order to address an assembly, we should be ready\", #연설하다\n",
    "    \"He laughed inwardly at the scene.\", #웃다\n",
    "    \"After all the advance publicity, the prizefight turned out to be a laugh.\", #웃음\n",
    "    \"We can learn to laugh a little at even our most serious foibles.\" #웃다\n",
    "]\n",
    "\n",
    "def getSentenceWords():\n",
    "    sentwords = []\n",
    "    for sentence in sentences:\n",
    "        words = nltk.pos_tag(nltk.word_tokenize(sentence))\n",
    "        sentwords.append(words)\n",
    "    return sentwords\n",
    "\n",
    "def noContextTagger():\n",
    "    tagger = nltk.UnigramTagger(getSentenceWords())\n",
    "#     print(\"noContextTagger\")\n",
    "#     print(tagger.tag('the little remarks towards assembly are laughable'.split()))\n",
    "    \n",
    "def withContextTagger():\n",
    "    def wordFeatures(words, wordPosInSentence):\n",
    "        endFeatures = {\n",
    "            'last(1)': words[wordPosInSentence][-1],\n",
    "            'last(2)': words[wordPosInSentence][-2:],\n",
    "            'last(3)': words[wordPosInSentence][-3:],\n",
    "        }\n",
    "        if wordPosInSentence > 1:\n",
    "            endFeatures['prev'] = words[wordPosInSentence -1]\n",
    "        else:\n",
    "            endFeatures['prev'] = '|NONE|'\n",
    "        return endFeatures\n",
    "            \n",
    "    allsentences = getSentenceWords()\n",
    "#     print(\"allsentences\")\n",
    "#     print(allsentences)\n",
    "    featureddata = []\n",
    "    for sentence in allsentences:\n",
    "        untaggedSetence = nltk.tag.untag(sentence)\n",
    "        featuredsentence = [(wordFeatures(untaggedSetence, index), tag) \\\n",
    "                            for index, (word, tag) in enumerate(sentence)]\n",
    "        featureddata.extend(featuredsentence)\n",
    "    print(\"featureddata\")\n",
    "    print(featureddata)\n",
    "    breakup = int(len(featureddata) * 0.5)\n",
    "    traindata = featureddata[breakup:]\n",
    "    testdata = featureddata[:breakup]\n",
    "    classifier = nltk.NaiveBayesClassifier.train(traindata)\n",
    "    print(\"분류기 정확도: {}\".format(nltk.classify.accuracy(classifier, testdata)))\n",
    "\n",
    "noContextTagger()\n",
    "withContextTagger()"
   ]
  },
  {
   "cell_type": "code",
   "execution_count": null,
   "metadata": {},
   "outputs": [],
   "source": []
  },
  {
   "cell_type": "code",
   "execution_count": null,
   "metadata": {},
   "outputs": [],
   "source": []
  },
  {
   "cell_type": "code",
   "execution_count": null,
   "metadata": {},
   "outputs": [],
   "source": []
  }
 ],
 "metadata": {
  "kernelspec": {
   "display_name": "Python 3",
   "language": "python",
   "name": "python3"
  },
  "language_info": {
   "codemirror_mode": {
    "name": "ipython",
    "version": 3
   },
   "file_extension": ".py",
   "mimetype": "text/x-python",
   "name": "python",
   "nbconvert_exporter": "python",
   "pygments_lexer": "ipython3",
   "version": "3.7.3"
  }
 },
 "nbformat": 4,
 "nbformat_minor": 2
}
