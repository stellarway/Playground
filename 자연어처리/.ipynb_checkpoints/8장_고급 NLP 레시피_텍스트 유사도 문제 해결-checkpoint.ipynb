{
 "cells": [
  {
   "cell_type": "markdown",
   "metadata": {},
   "source": [
    "* 원-핫 인코딩의 한계점  \n",
    "    1. 차원의 증가  \n",
    "    2. 의미를 담지 못함  \n",
    "  \n",
    "    => 이를 위해 '유사도' 개념 도입\n"
   ]
  },
  {
   "cell_type": "markdown",
   "metadata": {},
   "source": [
    "* 유클리디언 거리  \n",
    ": 의미적인 느낌을 담지 못함  \n",
    "  \n",
    "* 자카드 유사도  \n",
    ": (집합적으로) 겹치는 부분 체크  \n",
    "  \n",
    "* 코사인 유사도\n",
    ": 거리가 아닌 '각'만 재는 것  \n",
    ": 자연어처리에서는 이것을 많이 사용  \n"
   ]
  },
  {
   "cell_type": "markdown",
   "metadata": {},
   "source": [
    "### 유클리디언 거리"
   ]
  },
  {
   "cell_type": "code",
   "execution_count": 1,
   "metadata": {},
   "outputs": [],
   "source": [
    "import numpy as np"
   ]
  },
  {
   "cell_type": "code",
   "execution_count": 2,
   "metadata": {},
   "outputs": [],
   "source": [
    "word_embedding_dic = {\n",
    "'사과' : [1.0, 0.5],\n",
    "'바나나' : [0.9, 1.2],\n",
    "'원숭이' : [0.5, 1.5]\n",
    "}"
   ]
  },
  {
   "cell_type": "code",
   "execution_count": 3,
   "metadata": {},
   "outputs": [
    {
     "data": {
      "text/plain": [
       "0.6"
      ]
     },
     "execution_count": 3,
     "metadata": {},
     "output_type": "execute_result"
    }
   ],
   "source": [
    "def euc_dist(x,y):\n",
    "    x = np.array(x)\n",
    "    y = np.array(y)\n",
    "    return np.sqrt(np.sum(x-y)**2)\n",
    "euc_dist(word_embedding_dic['사과'], word_embedding_dic['바나나'])"
   ]
  },
  {
   "cell_type": "markdown",
   "metadata": {},
   "source": [
    "### 자카드 유사도\n",
    ": 핵심 키워드 가중치 부분은 뒤에서 배우기!"
   ]
  },
  {
   "cell_type": "code",
   "execution_count": 4,
   "metadata": {},
   "outputs": [
    {
     "name": "stdout",
     "output_type": "stream",
     "text": [
      "{'바나나를', '코주부', '싫어합니다.', '대부분', '좋아합니다.', '원숭이는'}\n",
      "{'바나나를', '원숭이는'}\n",
      "0.3333333333333333\n"
     ]
    }
   ],
   "source": [
    "s1 = '대부분 원숭이는 바나나를 좋아합니다.'\n",
    "s2 = '코주부 원숭이는 바나나를 싫어합니다.'\n",
    "\n",
    "token_s1 = s1.split()\n",
    "token_s2 = s2.split()\n",
    "\n",
    "union = set(token_s1).union(set(token_s2))\n",
    "print(union)\n",
    "\n",
    "intersection = set(token_s1).intersection(set(token_s2))\n",
    "print(intersection)\n",
    "\n",
    "print(len(intersection)/len(union))"
   ]
  },
  {
   "cell_type": "markdown",
   "metadata": {},
   "source": [
    "### 코사인 유사도"
   ]
  },
  {
   "cell_type": "code",
   "execution_count": 16,
   "metadata": {},
   "outputs": [],
   "source": [
    "def cosine_similarity(x,y):\n",
    "    nominator = np.dot(x,y)\n",
    "    denominator = np.linalg.norm(x)*np.linalg.norm(y)\n",
    "    return nominator/ denominator"
   ]
  },
  {
   "cell_type": "code",
   "execution_count": 12,
   "metadata": {},
   "outputs": [
    {
     "data": {
      "text/plain": [
       "11"
      ]
     },
     "execution_count": 12,
     "metadata": {},
     "output_type": "execute_result"
    }
   ],
   "source": [
    "a = np.array([1,2])\n",
    "b = np.array([3,4])\n",
    "np.dot(a,b)"
   ]
  },
  {
   "cell_type": "code",
   "execution_count": 13,
   "metadata": {},
   "outputs": [
    {
     "data": {
      "text/plain": [
       "2.23606797749979"
      ]
     },
     "execution_count": 13,
     "metadata": {},
     "output_type": "execute_result"
    }
   ],
   "source": [
    "a = np.array([1, 2])\n",
    "np.linalg.norm(a)"
   ]
  },
  {
   "cell_type": "code",
   "execution_count": 17,
   "metadata": {},
   "outputs": [
    {
     "name": "stdout",
     "output_type": "stream",
     "text": [
      "0.8944271909999159\n",
      "0.6\n",
      "0.7071067811865475\n",
      "0.5\n",
      "0.9486832980505138\n",
      "0.09999999999999998\n"
     ]
    }
   ],
   "source": [
    "print(cosine_similarity(word_embedding_dic['사과'], word_embedding_dic['바나나']))\n",
    "print(euc_dist(word_embedding_dic['사과'], word_embedding_dic['바나나']))\n",
    "print(cosine_similarity(word_embedding_dic['사과'], word_embedding_dic['원숭이']))\n",
    "print(euc_dist(word_embedding_dic['사과'], word_embedding_dic['원숭이']))\n",
    "print(cosine_similarity(word_embedding_dic['바나나'], word_embedding_dic['원숭이']))\n",
    "print(euc_dist(word_embedding_dic['바나나'], word_embedding_dic['원숭이']))"
   ]
  },
  {
   "cell_type": "markdown",
   "metadata": {},
   "source": []
  }
 ],
 "metadata": {
  "kernelspec": {
   "display_name": "Python 3",
   "language": "python",
   "name": "python3"
  },
  "language_info": {
   "codemirror_mode": {
    "name": "ipython",
    "version": 3
   },
   "file_extension": ".py",
   "mimetype": "text/x-python",
   "name": "python",
   "nbconvert_exporter": "python",
   "pygments_lexer": "ipython3",
   "version": "3.7.3"
  }
 },
 "nbformat": 4,
 "nbformat_minor": 2
}
