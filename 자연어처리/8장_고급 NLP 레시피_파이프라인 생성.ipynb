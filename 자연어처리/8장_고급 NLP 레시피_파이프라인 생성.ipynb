{
 "cells": [
  {
   "cell_type": "markdown",
   "metadata": {},
   "source": [
    "# 파이프라인\n",
    "component: 함수 개념으로 이해  \n",
    "파이프라인을 할 때 입출력을 먼저 정의해야! (-> 프로세스 설계)  "
   ]
  },
  {
   "cell_type": "markdown",
   "metadata": {},
   "source": [
    "# Q\n",
    "#### Q에서는 넣고 빼는 것이 중요하다!\n",
    "Queue : 먼저 집어 넣은 데이터가 먼저 나오는 형태  \n",
    "stack : 먼저 들어간 것이 제일 나중에 처리\n",
    "\n",
    "\n",
    "# 쓰레드"
   ]
  },
  {
   "cell_type": "code",
   "execution_count": 2,
   "metadata": {},
   "outputs": [
    {
     "name": "stdout",
     "output_type": "stream",
     "text": [
      "1\n",
      "2\n",
      "spam\n",
      "1\n",
      "ham\n"
     ]
    },
    {
     "data": {
      "text/plain": [
       "False"
      ]
     },
     "execution_count": 2,
     "metadata": {},
     "output_type": "execute_result"
    }
   ],
   "source": [
    "import queue\n",
    "\n",
    "q1 = queue.Queue() # 무한대 큐 생성\n",
    "q2 = queue.Queue(100)\n",
    "\n",
    "q1.put('spam')\n",
    "print(q1.qsize())\n",
    "q1.put_nowait('ham')\n",
    "print(q1.qsize())\n",
    "\n",
    "print(q1.get())\n",
    "print(q1.qsize())\n",
    "print(q1.get_nowait())\n",
    "\n",
    "q1.qsize()\n",
    "q1.empty()\n",
    "q1.full()"
   ]
  },
  {
   "cell_type": "code",
   "execution_count": 3,
   "metadata": {},
   "outputs": [
    {
     "name": "stdout",
     "output_type": "stream",
     "text": [
      "0\n"
     ]
    }
   ],
   "source": [
    "print(q1.qsize())"
   ]
  },
  {
   "cell_type": "markdown",
   "metadata": {},
   "source": [
    "# Thread\n",
    "여러개의 함수를 동시에 실행"
   ]
  },
  {
   "cell_type": "code",
   "execution_count": 5,
   "metadata": {
    "scrolled": true
   },
   "outputs": [
    {
     "name": "stdout",
     "output_type": "stream",
     "text": [
      "I'm Thread\n",
      "I'm Thread\n",
      "I'm Thread\n",
      "I'm main Thread\n",
      "I'm main Thread\n",
      "I'm main Thread\n",
      "===the end===\n"
     ]
    }
   ],
   "source": [
    "from threading import Thread\n",
    "import time\n",
    "\n",
    "def my_thread(val):\n",
    "    for i in range(3):\n",
    "        print(\"I'm Thread\")\n",
    "        time.sleep(1)\n",
    "\n",
    "# 아래는 연결만 시켜둔 상태. 함수가 실행되지는 않는다.\n",
    "t1 = Thread(target = my_thread, args = (1,))\n",
    "\n",
    "t1.start()\n",
    "\n",
    "# join은 순서를 가진 (의존도를 가진) 작업들을 처리할 때 사용\n",
    "t1.join()\n",
    "\n",
    "for i in range(3):\n",
    "    print(\"I'm main Thread\")\n",
    "    time.sleep(1)\n",
    "print(\"===the end===\")"
   ]
  },
  {
   "cell_type": "code",
   "execution_count": null,
   "metadata": {},
   "outputs": [],
   "source": [
    "import nltk\n",
    "nltk.download('averaged_perceptron_tagger')\n",
    "nltk.download('maxent_ne_chunker')\n",
    "nltk.download('words')\n",
    "import threading\n",
    "import queue\n",
    "import feedparser\n",
    "import uuid"
   ]
  },
  {
   "cell_type": "code",
   "execution_count": 8,
   "metadata": {},
   "outputs": [
    {
     "name": "stdout",
     "output_type": "stream",
     "text": [
      ">> cbda0fc7-283f-476f-9671-1f4021651f23 : Watch: Journey of Hrithik's Super 30 students\n",
      ">> 3562d028-9ebe-408e-8b2c-5721078ed75e : Batla House song Rula Diya to be unveiled tom\n",
      ">> e6cd9e96-1e12-4b58-8fb1-d8b7acfbc761 : Rahul on being charged Rs 442 for bananas\n",
      ">> 33069c52-d44d-4402-98ba-71afdfde02c8 : Taimur and Inaaya's fun day out in London\n",
      ">> c96689ef-42c0-45a3-b865-bb2a06230819 : Female action heroes take lead in Hollywood\n",
      " << cbda0fc7-283f-476f-9671-1f4021651f23 : (GPE Watch/NN), (GPE Hrithik/NNP), \n",
      " << 3562d028-9ebe-408e-8b2c-5721078ed75e : (PERSON Batla/NNP), (ORGANIZATION House/NNP), (PERSON Rula/NNP Diya/NNP), \n",
      " << e6cd9e96-1e12-4b58-8fb1-d8b7acfbc761 : (GPE Rahul/NN), \n",
      " << 33069c52-d44d-4402-98ba-71afdfde02c8 : (GPE Taimur/NNP), (PERSON Inaaya/NNP), (GPE London/NNP), \n",
      " << c96689ef-42c0-45a3-b865-bb2a06230819 : (GPE Female/JJ), (GPE Hollywood/NNP), \n"
     ]
    }
   ],
   "source": [
    "threads = []\n",
    "queues = [queue.Queue(), queue.Queue()]\n",
    "def extractWords():\n",
    "    url = 'https://timesofindia.indiatimes.com/rssfeeds/1081479906.cms'\n",
    "    feed = feedparser.parse(url)\n",
    "    for entry in feed['entries'][:5]:\n",
    "        text = entry['title']\n",
    "        if 'ex' in text:\n",
    "            continue\n",
    "        words = nltk.word_tokenize(text)\n",
    "        # 데이터를 다음으로 넘길 때 유니크한 아이디를 만들기 위해\n",
    "            # 왜? 멀티 스레딩을 하기 때문에 어디가 처리되고 있는 지 알기 힘들어서\n",
    "        data = {'uuid': uuid.uuid4(), 'input': words}\n",
    "        queues[0].put(data, True) # 한정된 큐에서 waiting을 허락해줄거냐 말거냐의 의미\n",
    "        print(\">> {} : {}\".format(data['uuid'], text))\n",
    "        \n",
    "def extractPOS():\n",
    "    while True:\n",
    "        # Q가 비어있으면 종료\n",
    "        if queues[0].empty():\n",
    "            break\n",
    "        else:\n",
    "            data = queues[0].get()\n",
    "            words = data['input']\n",
    "            postags = nltk.pos_tag(words)\n",
    "            queues[0].task_done()\n",
    "            queues[1].put({'uuid': data['uuid'], 'input': postags}, True)\n",
    "def extractNE():\n",
    "    while True:\n",
    "        if queues[1].empty():\n",
    "            break\n",
    "        else:\n",
    "            data = queues[1].get()\n",
    "            postags = data['input']\n",
    "            queues[1].task_done()\n",
    "            chunks = nltk.ne_chunk(postags, binary=False)\n",
    "            print(\" << {} : \".format(data['uuid']), end = '')\n",
    "            for path in chunks:\n",
    "                try:\n",
    "                    label = path.label()\n",
    "                    print(path, end=', ')\n",
    "                except:\n",
    "                    pass\n",
    "            print()\n",
    "def runProgram():\n",
    "    # 아래는 for문 돌려서 여러 개 생성 가능\n",
    "    # CPU 사용 용량을 보고, 쓰레드를 올렸을 때 얼마나 올라가는 지 보기\n",
    "    # 70~80퍼센트 이상을 넘기지 말기\n",
    "    e = threading.Thread(target=extractWords())\n",
    "    e.start()\n",
    "    threads.append(e)\n",
    "    p = threading.Thread(target=extractPOS())\n",
    "    p.start()\n",
    "    threads.append(p)\n",
    "    n = threading.Thread(target=extractNE())\n",
    "    n.start()\n",
    "    threads.append(n)\n",
    "    \n",
    "    # 큐파 비어있을 때 마치라는 뜻\n",
    "    queues[0].join()\n",
    "    queues[1].join()\n",
    "    #print(queues[0].empty())\n",
    "    #print(queues[1].empty())\n",
    "    \n",
    "    # 아래의 코드가 없더라도 결과가 달라지지는 않지만..\n",
    "    # 위의 코드가 모두 끝났을 때 아래의 코드를 실행하라는 의미\n",
    "    for t in threads:\n",
    "        t.join()\n",
    "\n",
    "runProgram()"
   ]
  }
 ],
 "metadata": {
  "kernelspec": {
   "display_name": "Python 3",
   "language": "python",
   "name": "python3"
  },
  "language_info": {
   "codemirror_mode": {
    "name": "ipython",
    "version": 3
   },
   "file_extension": ".py",
   "mimetype": "text/x-python",
   "name": "python",
   "nbconvert_exporter": "python",
   "pygments_lexer": "ipython3",
   "version": "3.7.3"
  }
 },
 "nbformat": 4,
 "nbformat_minor": 2
}
