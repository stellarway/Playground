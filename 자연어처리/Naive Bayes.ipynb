{
 "cells": [
  {
   "cell_type": "code",
   "execution_count": 1,
   "metadata": {},
   "outputs": [],
   "source": [
    "from collections import defaultdict\n",
    "import pandas as pd\n",
    "import numpy as np\n",
    "import math"
   ]
  },
  {
   "cell_type": "code",
   "execution_count": 2,
   "metadata": {},
   "outputs": [
    {
     "name": "stdout",
     "output_type": "stream",
     "text": [
      "[['me free lottery' 1]\n",
      " ['free get free you' 1]\n",
      " ['you free scholarship' 0]\n",
      " ['free to contact me' 0]\n",
      " ['you won award' 0]\n",
      " ['you ticket lottery' 1]]\n"
     ]
    }
   ],
   "source": [
    "k=0.5\n",
    "\n",
    "input_file=pd.read_csv('9_spam.csv')\n",
    "training_set = np.array(input_file)\n",
    "print(training_set)"
   ]
  },
  {
   "cell_type": "code",
   "execution_count": 20,
   "metadata": {},
   "outputs": [
    {
     "name": "stdout",
     "output_type": "stream",
     "text": [
      "defaultdict(<function <lambda> at 0x0000000005A641E0>, {'me': [1, 1], 'free': [3, 2], 'lottery': [2, 0], 'get': [1, 0], 'you': [2, 2], 'scholarship': [0, 1], 'to': [0, 1], 'contact': [0, 1], 'won': [0, 1], 'award': [0, 1], 'ticket': [1, 0]})\n"
     ]
    }
   ],
   "source": [
    "doccnt1=0\n",
    "doccnt0=0\n",
    "\n",
    "wordfreq=defaultdict(lambda:[0,0])\n",
    "\n",
    "for doc, point in training_set:\n",
    "    words = doc.split()\n",
    "#     print(words)\n",
    "    for word in words:\n",
    "        if point == 1 :\n",
    "            wordfreq[word][0] +=1\n",
    "#             print(wordfreq[word][0])\n",
    "#             print('point가 1')\n",
    "        else:\n",
    "            wordfreq[word][1] +=1\n",
    "#             print('point가 0')\n",
    "for key, (cnt1, cnt0) in wordfreq.items():\n",
    "    if cnt1>1:\n",
    "        doccnt1 += 1\n",
    "    if cnt0>0:\n",
    "        doccnt0 += 1\n",
    "print(wordfreq)"
   ]
  },
  {
   "cell_type": "code",
   "execution_count": 21,
   "metadata": {},
   "outputs": [
    {
     "name": "stdout",
     "output_type": "stream",
     "text": [
      "defaultdict(<function <lambda> at 0x000000000517BAE8>, {'me': [0.375, 0.16666666666666666], 'free': [0.875, 0.2777777777777778], 'lottery': [0.625, 0.05555555555555555], 'get': [0.375, 0.05555555555555555], 'you': [0.625, 0.2777777777777778], 'scholarship': [0.125, 0.16666666666666666], 'to': [0.125, 0.16666666666666666], 'contact': [0.125, 0.16666666666666666], 'won': [0.125, 0.16666666666666666], 'award': [0.125, 0.16666666666666666], 'ticket': [0.375, 0.05555555555555555]})\n"
     ]
    }
   ],
   "source": [
    "wordprobs = defaultdict(lambda : [0,0])\n",
    "for key, (cnt1, cnt0) in wordfreq.items() :\n",
    "    wordprobs[key][0] = (cnt1 +k) / (doccnt1 + 2*k)\n",
    "    wordprobs[key][1] = (cnt0 +k) / (doccnt0 + 2*k)\n",
    "print(wordprobs)"
   ]
  },
  {
   "cell_type": "code",
   "execution_count": 23,
   "metadata": {},
   "outputs": [
    {
     "name": "stdout",
     "output_type": "stream",
     "text": [
      "3\n",
      "free lottery\n",
      "스팸확률 : 74.30940958096045%\n",
      "정상확률 : 25.69059041903956%\n"
     ]
    }
   ],
   "source": [
    "doc = \"free lottery\"\n",
    "tokens = doc.split()\n",
    "log_prob1 = log_prob0 = 0.0\n",
    "\n",
    "for word, (prob1, prob0) in wordprobs.items():\n",
    "    if word in tokens:\n",
    "        log_prob1 += math.log(prob1)\n",
    "        log_prob0 += math.log(prob0)\n",
    "    else:\n",
    "        log_prob1 += math.log(1.0-prob1)\n",
    "        log_prob0 += math.log(1.0-prob0)\n",
    "\n",
    "# 아래는 사전 확률을 더해줌\n",
    "log_prob1 += math.log(doccnt1/len(wordfreq))\n",
    "log_prob0 += math.log(doccnt0/len(wordfreq))\n",
    "\n",
    "prob1= math.exp(log_prob1)\n",
    "prob0= math.exp(log_prob0)\n",
    "print(doc)\n",
    "\n",
    "print(\"스팸확률 : {}%\".format(prob1 / (prob1 + prob0)*100))\n",
    "print(\"정상확률 : {}%\".format(prob0 / (prob1 + prob0)*100))\n",
    "\n",
    "        "
   ]
  },
  {
   "cell_type": "code",
   "execution_count": null,
   "metadata": {},
   "outputs": [],
   "source": []
  }
 ],
 "metadata": {
  "kernelspec": {
   "display_name": "Python 3",
   "language": "python",
   "name": "python3"
  },
  "language_info": {
   "codemirror_mode": {
    "name": "ipython",
    "version": 3
   },
   "file_extension": ".py",
   "mimetype": "text/x-python",
   "name": "python",
   "nbconvert_exporter": "python",
   "pygments_lexer": "ipython3",
   "version": "3.7.3"
  }
 },
 "nbformat": 4,
 "nbformat_minor": 2
}
