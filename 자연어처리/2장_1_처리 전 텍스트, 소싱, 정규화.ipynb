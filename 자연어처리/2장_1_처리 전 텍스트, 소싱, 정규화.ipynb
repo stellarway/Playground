{
 "cells": [
  {
   "cell_type": "code",
   "execution_count": 1,
   "metadata": {},
   "outputs": [],
   "source": [
    "nameList=['유나','지은','스튜어트','케빈']\n",
    "sentence='우리 강아지는 소파 위에서 잔다'"
   ]
  },
  {
   "cell_type": "code",
   "execution_count": 2,
   "metadata": {},
   "outputs": [
    {
     "name": "stdout",
     "output_type": "stream",
     "text": [
      "<class 'str'> : 유나:지은:스튜어트:케빈\n",
      "<class 'list'> : ['우리', '강아지는', '소파', '위에서', '잔다']\n",
      "텍스트 덧셈:  파이썬파이썬파이썬\n",
      "텍스트 곱셈:  파이썬파이썬\n",
      "y\n",
      "L\n"
     ]
    }
   ],
   "source": [
    "names=':'.join(nameList)\n",
    "print(type(names),':',names)\n",
    "wordList=sentence.split(' ')\n",
    "print((type(wordList)), ':', wordList)\n",
    "\n",
    "additionExample = '파이썬'+'파이썬'+'파이썬'\n",
    "multiplicationExample = '파이썬' *2\n",
    "print('텍스트 덧셈: ', additionExample),\n",
    "print('텍스트 곱셈: ', multiplicationExample)\n",
    "\n",
    "str_='Python NLTK'\n",
    "print(str_[1])\n",
    "print(str_[-3])"
   ]
  },
  {
   "cell_type": "code",
   "execution_count": null,
   "metadata": {},
   "outputs": [],
   "source": []
  }
 ],
 "metadata": {
  "kernelspec": {
   "display_name": "Python 3",
   "language": "python",
   "name": "python3"
  },
  "language_info": {
   "codemirror_mode": {
    "name": "ipython",
    "version": 3
   },
   "file_extension": ".py",
   "mimetype": "text/x-python",
   "name": "python",
   "nbconvert_exporter": "python",
   "pygments_lexer": "ipython3",
   "version": "3.7.3"
  }
 },
 "nbformat": 4,
 "nbformat_minor": 2
}
