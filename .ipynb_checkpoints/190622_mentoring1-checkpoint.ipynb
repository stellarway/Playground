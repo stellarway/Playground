{
 "cells": [
  {
   "cell_type": "markdown",
   "metadata": {},
   "source": [
    "# 전재혁 멘토님\n",
    "#### 주식회사에네이 대표이사\n",
    "#### ICT/해외\n",
    "#### 멘토 경험 다수\n",
    "#### MBTI 성격 유형 ENFP"
   ]
  },
  {
   "cell_type": "markdown",
   "metadata": {},
   "source": [
    "# 김두혁 멘토님\n",
    "#### KB 국민은행 정보개발부/ 관리회계, RPA"
   ]
  },
  {
   "cell_type": "markdown",
   "metadata": {},
   "source": [
    "# 권진구 멘토님\n",
    "#### 아이티아이즈 상무/ 금융 솔루션&빅데이터 분석"
   ]
  },
  {
   "cell_type": "markdown",
   "metadata": {},
   "source": [
    "# 김준우 멘토님\n",
    "#### 엑스바엑스\n",
    "#### 검색엔진 솔루션 개발\n",
    "#### 뉴스 광고 키워드\n",
    "#### 클라우드 인프라\n",
    "#### 디지털 포렌식 검색 프로젝트 검색"
   ]
  },
  {
   "cell_type": "markdown",
   "metadata": {},
   "source": [
    "# 정운영 멘토님\n",
    "#### 캐시파이\n",
    "#### 조직문화, 인사, 커뮤니케이션\n",
    "#### 와이파이 연결 시 팝업"
   ]
  },
  {
   "cell_type": "markdown",
   "metadata": {},
   "source": [
    "# 윤종문 멘토님\n",
    "#### 네이버 플랫폼 개발 (9년)\n",
    "#### 라이브러리 (오픈소스)\n",
    "#### 회사에서 오픈소스 참여 기록에 관심 가지는 추세\n",
    "#### 연령대, 검색어 등 데이터 시각화"
   ]
  }
 ],
 "metadata": {
  "kernelspec": {
   "display_name": "Python 3",
   "language": "python",
   "name": "python3"
  },
  "language_info": {
   "codemirror_mode": {
    "name": "ipython",
    "version": 3
   },
   "file_extension": ".py",
   "mimetype": "text/x-python",
   "name": "python",
   "nbconvert_exporter": "python",
   "pygments_lexer": "ipython3",
   "version": "3.7.3"
  }
 },
 "nbformat": 4,
 "nbformat_minor": 2
}
