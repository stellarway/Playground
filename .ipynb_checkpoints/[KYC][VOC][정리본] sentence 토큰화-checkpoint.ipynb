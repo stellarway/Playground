{
 "cells": [
  {
   "cell_type": "code",
   "execution_count": 2,
   "metadata": {},
   "outputs": [],
   "source": [
    "import pandas as pd\n",
    "import json\n",
    "from nltk.tokenize.punkt import PunktSentenceTokenizer, PunktParameters\n",
    "import numpy as np\n",
    "import time\n",
    "import re\n",
    "from functools import reduce\n",
    "import operator\n",
    "from nltk.corpus import wordnet"
   ]
  },
  {
   "cell_type": "code",
   "execution_count": null,
   "metadata": {},
   "outputs": [],
   "source": [
    "\n",
    "open(path+'cameraReview.json', encoding=\"UTF-8\")"
   ]
  },
  {
   "cell_type": "code",
   "execution_count": 3,
   "metadata": {},
   "outputs": [],
   "source": [
    "# 필요한 데이터 준비\n",
    "path = r'C:\\Users\\student\\Documents\\jsonData\\VOC/'\n",
    "reveiwFile = open(path+'cameraReview.json', encoding=\"UTF-8\")\n",
    "crawlData = json.loads(reveiwFile.read())\n",
    "crawl = pd.DataFrame(crawlData)[['asin', 'reviewText']]\n",
    "\n",
    "existFile = open(path+'test.json', encoding=\"UTF-8\")\n",
    "existData = json.loads(existFile.read())\n",
    "exist = pd.DataFrame(existData)[['asin', 'reviewText']]\n",
    "\n",
    "reviewTotal = pd.concat([crawl, exist]).drop_duplicates(['reviewText']).dropna()\n",
    "reviewTotal['reviewID'] = range(len(reviewTotal))"
   ]
  },
  {
   "cell_type": "code",
   "execution_count": 12,
   "metadata": {},
   "outputs": [],
   "source": [
    "def makeSents(review):\n",
    "    start = time.time() \n",
    "    # sentence 구분 시 pass sign 지정\n",
    "    punkt_param = PunktParameters()\n",
    "    punkt_param.abbrev_types = set(['p.s','vs','etc', 'but'])\n",
    "    sent_splitter = PunktSentenceTokenizer(punkt_param)\n",
    "    return sent_splitter.tokenize(review)\n"
   ]
  },
  {
   "cell_type": "code",
   "execution_count": 46,
   "metadata": {},
   "outputs": [],
   "source": [
    "def mapping(func):\n",
    "    start = time.time() \n",
    "    resultSer = ser.map(lambda x: func)\n",
    "    print(\"Runtime: %0.2f sec\"%(time.time() - start))\n",
    "    return resultSer"
   ]
  },
  {
   "cell_type": "code",
   "execution_count": 50,
   "metadata": {},
   "outputs": [],
   "source": [
    "ser =  reviewTotal['reviewText']"
   ]
  },
  {
   "cell_type": "code",
   "execution_count": 51,
   "metadata": {},
   "outputs": [
    {
     "name": "stdout",
     "output_type": "stream",
     "text": [
      "Runtime: 21.55 sec\n",
      "Runtime: 0.03 sec\n"
     ]
    }
   ],
   "source": [
    "a = mapping(makeSents(ser))"
   ]
  },
  {
   "cell_type": "code",
   "execution_count": 52,
   "metadata": {
    "collapsed": true
   },
   "outputs": [
    {
     "data": {
      "text/plain": [
       "0                                 [Final Update, 8/27/14]\n",
       "1       [I've had this camera for four years now and i...\n",
       "2       [I know that this is an entry level dslr, I kn...\n",
       "3       [I am new to DSLR cameras., I've always just h...\n",
       "4       [If you're coming from a bridge or compact cam...\n",
       "5       [I used this for about 5 years and had the mai...\n",
       "6       [I'm no expert or anything., Just a standard g...\n",
       "7       [I think the camera is an amazing buy for the ...\n",
       "8       [When I first had my son I just couldn't justi...\n",
       "9       [This is my first DSLR., My photography needs ...\n",
       "10      [I have nothing but good things to say about t...\n",
       "11      [I am a pro and yes this is good enough for an...\n",
       "12      [Bought this camera about a year ago as a gate...\n",
       "14      [I love this camera., I got it on January 09, ...\n",
       "15      [Nice while it worked, but now its worthless w...\n",
       "18       [Professional photographer MASSIVELY IMPRESSED!]\n",
       "19      [The Sony a6000 is by far the best camera that...\n",
       "20      [I've been shooting Canon for 14 years profess...\n",
       "24      [I cannot tell you enough how much I love my S...\n",
       "25      [Simply one of the best cameras I have ever us...\n",
       "30      [La la llaaovveee this camera!!, Just to start...\n",
       "31                 [This is a great camera., I have one.]\n",
       "32      [I am amazed at this little bundle., If you ar...\n",
       "33      [Like many folks, I pre-ordered the D800 the s...\n",
       "34      [Probably the best starter DSLR on the market,...\n",
       "37      [Although I know my review will fall between t...\n",
       "38      [This being my first SLR camera I have learned...\n",
       "39      [After being a professional wedding photograph...\n",
       "48      [This is probably one of the best cameras in i...\n",
       "49      [After ALOT of research, I decided to purchase...\n",
       "                              ...                        \n",
       "9972    [This is a great little camera., I take mainly...\n",
       "9973    [I've had this camera for over a month., The v...\n",
       "9974    [Broken White LCD Screen Display Less than Yea...\n",
       "9975    [This is a great all round camera, with great ...\n",
       "9976    [This is an excellent camera/camcorder., My fi...\n",
       "9977    [This is my tourist-use point and shoot camera...\n",
       "9978    [I bought this camera for the simple reason th...\n",
       "9979    [Do not buy this camera if you are looking for...\n",
       "998     [An excellent value, highly recommended., The ...\n",
       "9980    [the reason i dont give this product more than...\n",
       "9981    [Recording the activities of our three year ol...\n",
       "9982    [Ok I am being harsh on this one since of all ...\n",
       "9983    [It took me many months before I decided to pu...\n",
       "9984    [I upgraded to the Tx1 from theCanon Powershot...\n",
       "9985    [Goldilocks would have loved this camera., Alt...\n",
       "9986    [I Preordered my little new camera...I receive...\n",
       "9987    [Overall, I am very happy with my purchase., I...\n",
       "9988    [This neat little camera that takes superb vid...\n",
       "9989    [During vacations, I want to shoot good qualit...\n",
       "999     [I was looking for a decent but inexpensive di...\n",
       "9990    [very satisfied with the purchase especially o...\n",
       "9991    [The TX1 is exactly what I'm looking for., In ...\n",
       "9992    [I bought the Canon TX-1 while planning a trip...\n",
       "9993    [I have had this camera for 5 years now and I ...\n",
       "9994    [UPDATE:Canon Factory fixed it in about 8 cala...\n",
       "9995    [It's the best thing going unless you have the...\n",
       "9996    [I bought this camera/camcorder hoping that be...\n",
       "9997    ['Can't remember when I purchased this camera,...\n",
       "9998    [I recently Purchased a Used TRX 1 , and was V...\n",
       "9999    [I'm no camera buff... but I really like this ...\n",
       "Name: reviewText, Length: 71598, dtype: object"
      ]
     },
     "execution_count": 52,
     "metadata": {},
     "output_type": "execute_result"
    }
   ],
   "source": [
    "a[0]"
   ]
  },
  {
   "cell_type": "code",
   "execution_count": null,
   "metadata": {},
   "outputs": [],
   "source": [
    "reduce(operator.concat, serSents)"
   ]
  },
  {
   "cell_type": "code",
   "execution_count": null,
   "metadata": {},
   "outputs": [],
   "source": []
  }
 ],
 "metadata": {
  "kernelspec": {
   "display_name": "Python 3",
   "language": "python",
   "name": "python3"
  },
  "language_info": {
   "codemirror_mode": {
    "name": "ipython",
    "version": 3
   },
   "file_extension": ".py",
   "mimetype": "text/x-python",
   "name": "python",
   "nbconvert_exporter": "python",
   "pygments_lexer": "ipython3",
   "version": "3.7.3"
  }
 },
 "nbformat": 4,
 "nbformat_minor": 2
}
