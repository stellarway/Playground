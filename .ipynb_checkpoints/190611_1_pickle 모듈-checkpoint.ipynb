{
 "cells": [
  {
   "cell_type": "markdown",
   "metadata": {},
   "source": [
    "### github"
   ]
  },
  {
   "cell_type": "markdown",
   "metadata": {},
   "source": [
    "github : git이 파일들의 'version'(변경사항)관리"
   ]
  },
  {
   "cell_type": "markdown",
   "metadata": {},
   "source": [
    "1. 소스 업데이트 시 문제가 생기면 돌아갈 수가 있다!!\n",
    "2. 다른 사람과 협업할 때 쓰인다!"
   ]
  },
  {
   "cell_type": "markdown",
   "metadata": {},
   "source": [
    "소스트리 : 자주 쓰이는 github의 기능을 GUI로 구현"
   ]
  },
  {
   "cell_type": "markdown",
   "metadata": {},
   "source": [
    "Clone with HTTPS/SSH => 인증 방식에 차이가 있다."
   ]
  },
  {
   "cell_type": "markdown",
   "metadata": {},
   "source": [
    "커밋: 스냅샷 찍기"
   ]
  },
  {
   "cell_type": "markdown",
   "metadata": {},
   "source": [
    "### 페이지 인증"
   ]
  },
  {
   "cell_type": "markdown",
   "metadata": {},
   "source": [
    "로그인 방식\n",
    "1. id/pw(session) 사용\n",
    "2. oath (구글 아이디로 로그인)\n",
    "3. API 키로 인증"
   ]
  },
  {
   "cell_type": "markdown",
   "metadata": {},
   "source": [
    "## pickle 모듈 : 파이썬 객체를 '그대로' 저장!"
   ]
  },
  {
   "cell_type": "code",
   "execution_count": 3,
   "metadata": {},
   "outputs": [],
   "source": [
    "import os\n",
    "dirpath=os.path.join(os.getcwd(), 'pickle_data') #get current working directory\n",
    "if not os.path.exists(dirpath):\n",
    "    os.makedirs(dirpath)"
   ]
  },
  {
   "cell_type": "code",
   "execution_count": 4,
   "metadata": {},
   "outputs": [],
   "source": [
    "import pickle # 표준 라이브러리\n",
    "file1=os.path.join(dirpath, 'data1.p')\n",
    "text=[\"First File\", \"Second Line\"] # text 자체를 변수에 저장\n",
    "\n",
    "with open(file1, 'wb') as file:\n",
    "    pickle.dump(text, file) # text를 file에 넣는다!"
   ]
  },
  {
   "cell_type": "markdown",
   "metadata": {},
   "source": [
    "### 비교를 위한 text 파일 저장"
   ]
  },
  {
   "cell_type": "code",
   "execution_count": 6,
   "metadata": {},
   "outputs": [],
   "source": [
    "file1_str=os.path.join(dirpath, 'data1_str.p')\n",
    "text=[\"First File\", \"Second Line\"] \n",
    "with open(file1_str,'w') as file:\n",
    "    file.write(str(text))"
   ]
  },
  {
   "cell_type": "code",
   "execution_count": 8,
   "metadata": {},
   "outputs": [
    {
     "name": "stdout",
     "output_type": "stream",
     "text": [
      "['First File', 'Second Line']\n"
     ]
    }
   ],
   "source": [
    "with open(file1_str,'r') as file:\n",
    "    text=file.read()\n",
    "    print(text)"
   ]
  },
  {
   "cell_type": "code",
   "execution_count": 7,
   "metadata": {},
   "outputs": [],
   "source": [
    "import pickle\n",
    "file2 = os.path.join(dirpath, 'data2.p')\n",
    "\n",
    "name = 'tom'\n",
    "age = 24\n",
    "address = '서울시 마포구'\n",
    "scores = {'python': 90, 'deeplearning': 95, 'database': 85}\n",
    "\n",
    "with open(file2, 'wb') as file: #data.p 파일을 바이너리 쓰기모드로 열기\n",
    "    pickle.dump(name, file)\n",
    "    pickle.dump(age, file)\n",
    "    pickle.dump(address, file)\n",
    "    pickle.dump(scores, file)"
   ]
  },
  {
   "cell_type": "code",
   "execution_count": 9,
   "metadata": {},
   "outputs": [],
   "source": [
    "# 객체 자체로 저장을 하기 때문에 불러오기가 편하다. 하지만 피클은 보안상의 이슈가 있어!"
   ]
  },
  {
   "cell_type": "code",
   "execution_count": 10,
   "metadata": {},
   "outputs": [],
   "source": [
    "#따라서 json 파일로 dump해서 사용하는 방법이 있음!"
   ]
  },
  {
   "cell_type": "code",
   "execution_count": 11,
   "metadata": {},
   "outputs": [
    {
     "name": "stdout",
     "output_type": "stream",
     "text": [
      "tom\n",
      "<class 'str'>\n",
      "24\n",
      "서울시 마포구\n",
      "{'python': 90, 'deeplearning': 95, 'database': 85}\n"
     ]
    }
   ],
   "source": [
    "with open(file2, 'rb') as file: #data.p 파일을 바이너리 읽기모드로 열기\n",
    "    name2 = pickle.load(file)\n",
    "    age2 = pickle.load(file)\n",
    "    address2 = pickle.load(file)\n",
    "    scores2 = pickle.load(file)\n",
    "    print(name2)\n",
    "    print(type(name2))\n",
    "    print(age2)\n",
    "    print(address2)\n",
    "    print(scores2)"
   ]
  },
  {
   "cell_type": "code",
   "execution_count": null,
   "metadata": {},
   "outputs": [],
   "source": []
  }
 ],
 "metadata": {
  "kernelspec": {
   "display_name": "Python 3",
   "language": "python",
   "name": "python3"
  },
  "language_info": {
   "codemirror_mode": {
    "name": "ipython",
    "version": 3
   },
   "file_extension": ".py",
   "mimetype": "text/x-python",
   "name": "python",
   "nbconvert_exporter": "python",
   "pygments_lexer": "ipython3",
   "version": "3.7.3"
  }
 },
 "nbformat": 4,
 "nbformat_minor": 2
}
