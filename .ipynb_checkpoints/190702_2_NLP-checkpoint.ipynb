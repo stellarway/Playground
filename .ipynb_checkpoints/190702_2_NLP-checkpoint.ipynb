{
 "cells": [
  {
   "cell_type": "markdown",
   "metadata": {},
   "source": [
    "자연어처리 - 정보검색, QA 시스템, 문서 자동 분류, 신문기사 클러스터링, 챗봇"
   ]
  },
  {
   "cell_type": "markdown",
   "metadata": {},
   "source": [
    "자연어처리 - 기계가 인간의 언어를 이해하게 하는 것"
   ]
  },
  {
   "cell_type": "markdown",
   "metadata": {},
   "source": [
    "자연어처리, 왜 관심 가져야하나?\n",
    "- 비정형 데이터(대체 데이터)의 중요성 (양이 정형 데이터에 비해 어마무시해서) 80%\n",
    "- 온라인 데이터의 중요성\n",
    "- 소통 패러다임의 변화(인공지능 스피커, 인공지능 챗봇)-> UX는 사람이 편한 형태로 점점 바뀌어가고 있다."
   ]
  },
  {
   "cell_type": "markdown",
   "metadata": {},
   "source": [
    "### 자연어 처리에 필요한 것"
   ]
  },
  {
   "cell_type": "markdown",
   "metadata": {},
   "source": [
    "명확성 (언어의 모호성- 동음이의성, 동음이형성, 다의어)"
   ]
  },
  {
   "cell_type": "markdown",
   "metadata": {},
   "source": [
    "한국어 자연어 처리가 더! 어려운 이유    \n",
    ": 구어와 문어의 차이  \n",
    ": 띄어쓰기에 어려움  \n",
    ": 청자와 화자의 관계에 따른 높임법  \n",
    ": 동음이의어, 운율적 요소에 따른 의미 변화  \n",
    ": 주어 서술어 목적어 등의 빈번한 생략  "
   ]
  },
  {
   "cell_type": "markdown",
   "metadata": {},
   "source": [
    "==> 표준화!! (전처리)"
   ]
  },
  {
   "cell_type": "markdown",
   "metadata": {},
   "source": [
    "**참고**  \n",
    "https://www.talkwalker.com/  \n",
    "http://finsents.com/"
   ]
  },
  {
   "cell_type": "markdown",
   "metadata": {},
   "source": [
    "### 자연어 처리 전망"
   ]
  },
  {
   "cell_type": "markdown",
   "metadata": {},
   "source": [
    "1. 구매자 증가  \n",
    "2. 엔진 활용 서비스 증가(해외)  \n",
    "3. 비정형데이터에서 인사이트를 도출하는 니즈 증가(국내)    \n"
   ]
  },
  {
   "cell_type": "markdown",
   "metadata": {},
   "source": [
    "자연어 처리 현재 한계점  \n",
    ": 도메인(산업)에 독립적인 범용 솔루션이 나오기 힘들다  \n",
    "    -> 시리는 범용이기 때문에 완벽한 처리가 힘들다  \n",
    ": 예측이 어렵다. 센티멘트 분석의 신뢰도?  "
   ]
  },
  {
   "cell_type": "markdown",
   "metadata": {},
   "source": [
    "### 일상 속 자연어 처리"
   ]
  },
  {
   "cell_type": "markdown",
   "metadata": {},
   "source": [
    ": 검색엔진  \n",
    ": 스팸 메일 분류\n",
    ": 인공지능 비서 (+음성인식)  \n",
    ": 인공지능 챗봇"
   ]
  },
  {
   "cell_type": "markdown",
   "metadata": {},
   "source": [
    "### 자연어 처리로 나는 무엇을 할 수 있는가? (활용 사례)"
   ]
  },
  {
   "cell_type": "markdown",
   "metadata": {},
   "source": [
    ": 실시간 리뷰 모니터링  \n",
    ": 경쟁사 분석  \n",
    ": 뉴스레터 메일링 / SNS 자동 포스팅  \n",
    ": 고객분석  "
   ]
  },
  {
   "cell_type": "markdown",
   "metadata": {},
   "source": [
    "### 대체데이터 분석기술"
   ]
  },
  {
   "cell_type": "markdown",
   "metadata": {},
   "source": [
    ": 토픽 모델링(page rank 석사 논문)  \n",
    ": 요약 분석 (text rank 알고리즘) - 특허 검색, 논문 요약 등에 활용 되기도  \n",
    ": 카테고리 분류 분석 - 카테고리 분류 기준점 필요  \n",
    ": 감성 분석(2가지)  \n",
    "    -> 감성 사전에 기반  \n",
    "    -> 딥러닝 기반  "
   ]
  }
 ],
 "metadata": {
  "kernelspec": {
   "display_name": "Python 3",
   "language": "python",
   "name": "python3"
  },
  "language_info": {
   "codemirror_mode": {
    "name": "ipython",
    "version": 3
   },
   "file_extension": ".py",
   "mimetype": "text/x-python",
   "name": "python",
   "nbconvert_exporter": "python",
   "pygments_lexer": "ipython3",
   "version": "3.7.3"
  }
 },
 "nbformat": 4,
 "nbformat_minor": 2
}
