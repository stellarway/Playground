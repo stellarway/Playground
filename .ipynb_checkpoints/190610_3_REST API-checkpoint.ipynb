{
 "cells": [
  {
   "cell_type": "code",
   "execution_count": 24,
   "metadata": {},
   "outputs": [],
   "source": [
    "import requests\n",
    "from bs4 import BeautifulSoup\n",
    "import urllib"
   ]
  },
  {
   "cell_type": "code",
   "execution_count": 37,
   "metadata": {},
   "outputs": [
    {
     "data": {
      "text/plain": [
       "'http://apis.data.go.kr/6260000/BusanTblFdradStusService/getTblFdradStusInfo'"
      ]
     },
     "execution_count": 37,
     "metadata": {},
     "output_type": "execute_result"
    }
   ],
   "source": [
    "BASE_END='http://apis.data.go.kr/6260000/BusanTblFdradStusService/'\n",
    "MY_API='PN%2FL1rEKHVeFbEYEueM261lsfpjcPT9mDyT9ge8yRnrC63VySMSsAO9Ev4DNT0JBAzWwfx%2BlLoOla6VgCwpugQ%3D%3D'\n",
    "MY_API=urllib.parse.unquote(MY_API)\n",
    "OPERATION_NAME='getTblFdradStusInfo'\n",
    "endpoint=urllib.parse.urljoin(BASE_END, OPERATION_NAME)\n",
    "endpoint\n"
   ]
  },
  {
   "cell_type": "code",
   "execution_count": 41,
   "metadata": {},
   "outputs": [
    {
     "data": {
      "text/plain": [
       "<Response [200]>"
      ]
     },
     "execution_count": 41,
     "metadata": {},
     "output_type": "execute_result"
    }
   ],
   "source": [
    "params={\n",
    "    'serviceKey':MY_API,\n",
    "    'numOfRows':10,\n",
    "    'pageNo':1,\n",
    "    'resultType':'json'\n",
    "}\n",
    "resp=requests.get(endpoint, params)\n",
    "resp"
   ]
  },
  {
   "cell_type": "code",
   "execution_count": 42,
   "metadata": {},
   "outputs": [
    {
     "data": {
      "text/plain": [
       "b'<OpenAPI_ServiceResponse>\\n\\t<cmmMsgHeader>\\n\\t\\t<errMsg>SERVICE ERROR</errMsg>\\n\\t\\t<returnAuthMsg>SERVICE_KEY_IS_NOT_REGISTERED_ERROR</returnAuthMsg>\\n\\t\\t<returnReasonCode>30</returnReasonCode>\\n\\t</cmmMsgHeader>\\n</OpenAPI_ServiceResponse>'"
      ]
     },
     "execution_count": 42,
     "metadata": {},
     "output_type": "execute_result"
    }
   ],
   "source": [
    "resp.content"
   ]
  },
  {
   "cell_type": "code",
   "execution_count": 43,
   "metadata": {},
   "outputs": [
    {
     "data": {
      "text/plain": [
       "'http://apis.data.go.kr/6260000/BusanTblFdradStusService/getTblFdradStusInfo?serviceKey=PN%2FL1rEKHVeFbEYEueM261lsfpjcPT9mDyT9ge8yRnrC63VySMSsAO9Ev4DNT0JBAzWwfx%2BlLoOla6VgCwpugQ%3D%3D&numOfRows=10&pageNo=1'"
      ]
     },
     "execution_count": 43,
     "metadata": {},
     "output_type": "execute_result"
    }
   ],
   "source": [
    "resp.request.url"
   ]
  },
  {
   "cell_type": "code",
   "execution_count": null,
   "metadata": {},
   "outputs": [],
   "source": []
  },
  {
   "cell_type": "code",
   "execution_count": null,
   "metadata": {},
   "outputs": [],
   "source": []
  }
 ],
 "metadata": {
  "kernelspec": {
   "display_name": "Python 3",
   "language": "python",
   "name": "python3"
  },
  "language_info": {
   "codemirror_mode": {
    "name": "ipython",
    "version": 3
   },
   "file_extension": ".py",
   "mimetype": "text/x-python",
   "name": "python",
   "nbconvert_exporter": "python",
   "pygments_lexer": "ipython3",
   "version": "3.7.3"
  }
 },
 "nbformat": 4,
 "nbformat_minor": 2
}
